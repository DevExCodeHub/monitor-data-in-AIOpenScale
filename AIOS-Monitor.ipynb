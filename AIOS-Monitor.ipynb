{
 "cells": [
  {
   "cell_type": "markdown",
   "metadata": {},
   "source": [
    "# IBM Watson OpenScale Lab instructions\n",
    "\n",
    "This notebook should be run in a Watson Studio project, using with **Python 3.5 with Spark** runtime environment. **If you are viewing this in Watson Studio and do not see Python 3.5 with Spark in the upper right corner of your screen, please update the runtime now.** It requires service credentials for the following Cloud services:\n",
    "  * IBM Watson OpenScale\n",
    "  * Watson Machine Learning\n",
    "  \n",
    "If you have a paid Cloud account, you may also provision a **Databases for PostgreSQL** or **Db2 Warehouse** service to take full advantage of integration with Watson Studio and continuous learning services. If you choose not to provision this paid service, you can use the free internal PostgreSQL storage with OpenScale, but will not be able to configure continuous learning for your model.\n",
    "\n",
    "The notebook will train, create and deploy a German Credit Risk model, configure OpenScale to monitor that deployment, and inject seven days' worth of historical records and measurements for viewing in the OpenScale Insights dashboard."
   ]
  },
  {
   "cell_type": "markdown",
   "metadata": {
    "collapsed": true
   },
   "source": [
    "# Package installation"
   ]
  },
  {
   "cell_type": "code",
   "execution_count": 1,
   "metadata": {
    "scrolled": true
   },
   "outputs": [
    {
     "name": "stdout",
     "output_type": "stream",
     "text": [
      "Waiting for a Spark session to start...\n",
      "Spark Initialization Done! ApplicationId = app-20190225151200-0001\n",
      "KERNEL_ID = 83089ebd-db0b-43d6-aba4-87fad600b95b\n",
      "\u001b[31mpyspark 2.3.0 requires py4j==0.10.6, which is not installed.\u001b[0m\n",
      "\u001b[31mtensorflow 1.3.0 requires tensorflow-tensorboard<0.2.0,>=0.1.0, which is not installed.\u001b[0m\n",
      "\u001b[33mTarget directory /home/spark/shared/user-libs/python3/psycopg2_binary-2.7.7.dist-info already exists. Specify --upgrade to force replacement.\u001b[0m\n",
      "\u001b[33mTarget directory /home/spark/shared/user-libs/python3/psycopg2 already exists. Specify --upgrade to force replacement.\u001b[0m\n",
      "Successfully installed psycopg2-binary-2.7.7\n",
      "\u001b[31mtensorflow 1.3.0 requires tensorflow-tensorboard<0.2.0,>=0.1.0, which is not installed.\u001b[0m\n",
      "\u001b[31mpyspark 2.3.0 requires py4j==0.10.6, which is not installed.\u001b[0m\n",
      "\u001b[31mException:\n",
      "Traceback (most recent call last):\n",
      "  File \"/opt/ibm/conda/miniconda3/lib/python3.5/site-packages/pip/_internal/basecommand.py\", line 228, in main\n",
      "    status = self.run(options, args)\n",
      "  File \"/opt/ibm/conda/miniconda3/lib/python3.5/site-packages/pip/_internal/commands/install.py\", line 381, in run\n",
      "    options.target_dir, target_temp_dir, options.upgrade\n",
      "  File \"/opt/ibm/conda/miniconda3/lib/python3.5/site-packages/pip/_internal/commands/install.py\", line 432, in _handle_target_dir\n",
      "    shutil.rmtree(target_item_dir)\n",
      "  File \"/opt/ibm/conda/miniconda3/lib/python3.5/shutil.py\", line 480, in rmtree\n",
      "    _rmtree_safe_fd(fd, path, onerror)\n",
      "  File \"/opt/ibm/conda/miniconda3/lib/python3.5/shutil.py\", line 422, in _rmtree_safe_fd\n",
      "    onerror(os.rmdir, fullname, sys.exc_info())\n",
      "  File \"/opt/ibm/conda/miniconda3/lib/python3.5/shutil.py\", line 420, in _rmtree_safe_fd\n",
      "    os.rmdir(name, dir_fd=topfd)\n",
      "OSError: [Errno 39] Directory not empty: 'fft'\u001b[0m\n",
      "Successfully installed certifi-2018.11.29 chardet-3.0.4 docutils-0.14 ibm-cos-sdk-2.4.3 ibm-cos-sdk-core-2.4.3 ibm-cos-sdk-s3transfer-2.4.3 idna-2.8 jmespath-0.9.4 lomond-0.3.3 numpy-1.16.1 pandas-0.24.1 python-dateutil-2.8.0 pytz-2018.9 requests-2.21.0 six-1.12.0 tabulate-0.8.3 tqdm-4.31.1 urllib3-1.24.1 watson-machine-learning-client-1.0.360\n",
      "\u001b[31mpyspark 2.3.0 requires py4j==0.10.6, which is not installed.\u001b[0m\n",
      "\u001b[31mtensorflow 1.3.0 requires tensorflow-tensorboard<0.2.0,>=0.1.0, which is not installed.\u001b[0m\n",
      "\u001b[31mException:\n",
      "Traceback (most recent call last):\n",
      "  File \"/opt/ibm/conda/miniconda3/lib/python3.5/site-packages/pip/_internal/basecommand.py\", line 228, in main\n",
      "    status = self.run(options, args)\n",
      "  File \"/opt/ibm/conda/miniconda3/lib/python3.5/site-packages/pip/_internal/commands/install.py\", line 381, in run\n",
      "    options.target_dir, target_temp_dir, options.upgrade\n",
      "  File \"/opt/ibm/conda/miniconda3/lib/python3.5/site-packages/pip/_internal/commands/install.py\", line 432, in _handle_target_dir\n",
      "    shutil.rmtree(target_item_dir)\n",
      "  File \"/opt/ibm/conda/miniconda3/lib/python3.5/shutil.py\", line 480, in rmtree\n",
      "    _rmtree_safe_fd(fd, path, onerror)\n",
      "  File \"/opt/ibm/conda/miniconda3/lib/python3.5/shutil.py\", line 418, in _rmtree_safe_fd\n",
      "    _rmtree_safe_fd(dirfd, fullname, onerror)\n",
      "  File \"/opt/ibm/conda/miniconda3/lib/python3.5/shutil.py\", line 438, in _rmtree_safe_fd\n",
      "    onerror(os.unlink, fullname, sys.exc_info())\n",
      "  File \"/opt/ibm/conda/miniconda3/lib/python3.5/shutil.py\", line 436, in _rmtree_safe_fd\n",
      "    os.unlink(name, dir_fd=topfd)\n",
      "OSError: [Errno 16] Device or resource busy: '.nfs0000000000cdb2af00000041'\u001b[0m\n",
      "Successfully installed certifi-2018.11.29 chardet-3.0.4 docutils-0.14 h5py-2.9.0 ibm-ai-openscale-2.1.0 ibm-cos-sdk-2.4.3 ibm-cos-sdk-core-2.4.3 ibm-cos-sdk-s3transfer-2.4.3 idna-2.8 jmespath-0.9.4 lomond-0.3.3 numpy-1.16.1 pandas-0.24.1 psycopg2-2.7.7 python-dateutil-2.8.0 pytz-2018.9 requests-2.21.0 six-1.12.0 tabulate-0.8.3 tqdm-4.31.1 urllib3-1.24.1 watson-machine-learning-client-1.0.360\n",
      "\u001b[31mtensorflow 1.3.0 requires tensorflow-tensorboard<0.2.0,>=0.1.0, which is not installed.\u001b[0m\n",
      "\u001b[31mpyspark 2.3.0 requires py4j==0.10.6, which is not installed.\u001b[0m\n",
      "\u001b[31mException:\n",
      "Traceback (most recent call last):\n",
      "  File \"/opt/ibm/conda/miniconda3/lib/python3.5/site-packages/pip/_internal/basecommand.py\", line 228, in main\n",
      "    status = self.run(options, args)\n",
      "  File \"/opt/ibm/conda/miniconda3/lib/python3.5/site-packages/pip/_internal/commands/install.py\", line 381, in run\n",
      "    options.target_dir, target_temp_dir, options.upgrade\n",
      "  File \"/opt/ibm/conda/miniconda3/lib/python3.5/site-packages/pip/_internal/commands/install.py\", line 432, in _handle_target_dir\n",
      "    shutil.rmtree(target_item_dir)\n",
      "  File \"/opt/ibm/conda/miniconda3/lib/python3.5/shutil.py\", line 480, in rmtree\n",
      "    _rmtree_safe_fd(fd, path, onerror)\n",
      "  File \"/opt/ibm/conda/miniconda3/lib/python3.5/shutil.py\", line 418, in _rmtree_safe_fd\n",
      "    _rmtree_safe_fd(dirfd, fullname, onerror)\n",
      "  File \"/opt/ibm/conda/miniconda3/lib/python3.5/shutil.py\", line 438, in _rmtree_safe_fd\n",
      "    onerror(os.unlink, fullname, sys.exc_info())\n",
      "  File \"/opt/ibm/conda/miniconda3/lib/python3.5/shutil.py\", line 436, in _rmtree_safe_fd\n",
      "    os.unlink(name, dir_fd=topfd)\n",
      "OSError: [Errno 16] Device or resource busy: '.nfs0000000000cdb2af00000041'\u001b[0m\n",
      "Successfully installed numpy-1.16.1\n",
      "\u001b[31mtensorflow 1.3.0 requires tensorflow-tensorboard<0.2.0,>=0.1.0, which is not installed.\u001b[0m\n",
      "\u001b[31mpyspark 2.3.0 requires py4j==0.10.6, which is not installed.\u001b[0m\n",
      "\u001b[31mException:\n",
      "Traceback (most recent call last):\n",
      "  File \"/opt/ibm/conda/miniconda3/lib/python3.5/site-packages/pip/_internal/basecommand.py\", line 228, in main\n",
      "    status = self.run(options, args)\n",
      "  File \"/opt/ibm/conda/miniconda3/lib/python3.5/site-packages/pip/_internal/commands/install.py\", line 381, in run\n",
      "    options.target_dir, target_temp_dir, options.upgrade\n",
      "  File \"/opt/ibm/conda/miniconda3/lib/python3.5/site-packages/pip/_internal/commands/install.py\", line 432, in _handle_target_dir\n",
      "    shutil.rmtree(target_item_dir)\n",
      "  File \"/opt/ibm/conda/miniconda3/lib/python3.5/shutil.py\", line 480, in rmtree\n",
      "    _rmtree_safe_fd(fd, path, onerror)\n",
      "  File \"/opt/ibm/conda/miniconda3/lib/python3.5/shutil.py\", line 418, in _rmtree_safe_fd\n",
      "    _rmtree_safe_fd(dirfd, fullname, onerror)\n",
      "  File \"/opt/ibm/conda/miniconda3/lib/python3.5/shutil.py\", line 438, in _rmtree_safe_fd\n",
      "    onerror(os.unlink, fullname, sys.exc_info())\n",
      "  File \"/opt/ibm/conda/miniconda3/lib/python3.5/shutil.py\", line 436, in _rmtree_safe_fd\n",
      "    os.unlink(name, dir_fd=topfd)\n",
      "OSError: [Errno 16] Device or resource busy: '.nfs0000000000cdb2af00000041'\u001b[0m\n",
      "Successfully installed PyWavelets-1.0.1 cloudpickle-0.8.0 cycler-0.10.0 dask-1.1.1 decorator-4.3.2 kiwisolver-1.0.1 lime-0.1.1.32 matplotlib-3.0.2 networkx-2.2 numpy-1.16.1 pillow-5.4.1 pyparsing-2.3.1 python-dateutil-2.8.0 scikit-image-0.14.2 scikit-learn-0.20.2 scipy-1.2.1 setuptools-40.8.0 six-1.12.0 toolz-0.9.0\n",
      "\u001b[31mtensorflow 1.3.0 requires tensorflow-tensorboard<0.2.0,>=0.1.0, which is not installed.\u001b[0m\n",
      "\u001b[31mpyspark 2.3.0 requires py4j==0.10.6, which is not installed.\u001b[0m\n",
      "\u001b[31mException:\n",
      "Traceback (most recent call last):\n",
      "  File \"/opt/ibm/conda/miniconda3/lib/python3.5/site-packages/pip/_internal/basecommand.py\", line 228, in main\n",
      "    status = self.run(options, args)\n",
      "  File \"/opt/ibm/conda/miniconda3/lib/python3.5/site-packages/pip/_internal/commands/install.py\", line 381, in run\n",
      "    options.target_dir, target_temp_dir, options.upgrade\n",
      "  File \"/opt/ibm/conda/miniconda3/lib/python3.5/site-packages/pip/_internal/commands/install.py\", line 432, in _handle_target_dir\n",
      "    shutil.rmtree(target_item_dir)\n",
      "  File \"/opt/ibm/conda/miniconda3/lib/python3.5/shutil.py\", line 480, in rmtree\n",
      "    _rmtree_safe_fd(fd, path, onerror)\n",
      "  File \"/opt/ibm/conda/miniconda3/lib/python3.5/shutil.py\", line 418, in _rmtree_safe_fd\n",
      "    _rmtree_safe_fd(dirfd, fullname, onerror)\n",
      "  File \"/opt/ibm/conda/miniconda3/lib/python3.5/shutil.py\", line 438, in _rmtree_safe_fd\n",
      "    onerror(os.unlink, fullname, sys.exc_info())\n",
      "  File \"/opt/ibm/conda/miniconda3/lib/python3.5/shutil.py\", line 436, in _rmtree_safe_fd\n",
      "    os.unlink(name, dir_fd=topfd)\n",
      "OSError: [Errno 16] Device or resource busy: '.nfs0000000000cdb2af00000041'\u001b[0m\n",
      "Successfully installed SciPy-1.2.1 numpy-1.16.1\n"
     ]
    }
   ],
   "source": [
    "!rm -rf $PIP_BUILD\n",
    "!pip install psycopg2-binary | tail -n 1\n",
    "!pip install --upgrade watson-machine-learning-client --no-cache | tail -n 1\n",
    "!pip install --upgrade ibm-ai-openscale --no-cache | tail -n 1\n",
    "!pip install --upgrade numpy --no-cache | tail -n 1\n",
    "!pip install --upgrade lime --no-cache | tail -n 1\n",
    "!pip install --upgrade SciPy --no-cache | tail -n 1"
   ]
  },
  {
   "cell_type": "markdown",
   "metadata": {},
   "source": [
    "# Provision services and configure credentials"
   ]
  },
  {
   "cell_type": "markdown",
   "metadata": {},
   "source": [
    "If you have not already, provision an instance of IBM Watson OpenScale using the [OpenScale link in the Cloud catalog](https://cloud.ibm.com/catalog/services/ai-openscale)."
   ]
  },
  {
   "cell_type": "markdown",
   "metadata": {},
   "source": [
    "Your Cloud API key can be generated by going to the [**Users** section of the Cloud console](https://cloud.ibm.com/iam#/users). From that page, click your name, scroll down to the **API Keys** section, and click **Create an IBM Cloud API key**. Give your key a name and click **Create**, then copy the created key and paste it below."
   ]
  },
  {
   "cell_type": "code",
   "execution_count": 2,
   "metadata": {
    "scrolled": true
   },
   "outputs": [],
   "source": [
    "CLOUD_API_KEY = \"PASTE HERE\""
   ]
  },
  {
   "cell_type": "markdown",
   "metadata": {},
   "source": [
    "Next you will need credentials for Watson Machine Learning. If you already have a WML instance, you may use credentials for it. To provision a new Lite instance of WML, use the [Cloud catalog](https://cloud.ibm.com/catalog/services/machine-learning), give your service a name, and click **Create**. Once your instance is created, click the **Service Credentials** link on the left side of the screen. Click the **New credential** button, give your credentials a name, and click **Add**. Your new credentials can be accessed by clicking the **View credentials** button. Copy and paste your WML credentials into the cell below."
   ]
  },
  {
   "cell_type": "code",
   "execution_count": 3,
   "metadata": {
    "scrolled": true
   },
   "outputs": [],
   "source": [
    "WML_CREDENTIALS = {\n",
    "   \"apikey\": \"key\",\n",
    "    \"iam_apikey_description\": \"description\",\n",
    "    \"iam_apikey_name\": \"auto-generated-apikey\",\n",
    "    \"iam_role_crn\": \"crn:v1:bluemix:public:iam::::serviceRole:Writer\",\n",
    "    \"iam_serviceid_crn\": \"crn:v1:bluemix:public:iam-identity::\",\n",
    "    \"instance_id\": \"instance_id\",\n",
    "    \"password\": \"password\",\n",
    "    \"url\": \"https://us-south.ml.cloud.ibm.com\",\n",
    "    \"username\": \"username\"\n",
    "}"
   ]
  },
  {
   "cell_type": "markdown",
   "metadata": {},
   "source": [
    "This lab can use Databases for PostgreSQL, Db2 Warehouse, or a free internal verison of PostgreSQL to create a datamart for OpenScale.\n",
    "\n",
    "If you have previously configured OpenScale, it will use your existing datamart, and not interfere with any models you are currently monitoring. Do not update the cell below.\n",
    "\n",
    "If you do not have a paid Cloud account or would prefer not to provision this paid service, you may use the free internal PostgreSQL service with OpenScale. Do not update the cell below.\n",
    "\n",
    "To provision a new instance of Db2 Warehouse, locate [Db2 Warehouse in the Cloud catalog](https://cloud.ibm.com/catalog/services/db2-warehouse), give your service a name, and click **Create**. Once your instance is created, click the **Service Credentials** link on the left side of the screen. Click the **New credential** button, give your credentials a name, and click **Add**. Your new credentials can be accessed by clicking the **View credentials** button. Copy and paste your Db2 Warehouse credentials into the cell below.\n",
    "\n",
    "To provision a new instance of Databases for PostgreSQL, locate [Databases for PostgreSQL in the Cloud catalog](https://cloud.ibm.com/catalog/services/databases-for-postgresql), give your service a name, and click **Create**. Once your instance is created, click the **Service Credentials** link on the left side of the screen. Click the **New credential** button, give your credentials a name, and click **Add**. Your new credentials can be accessed by clicking the **View credentials** button. Copy and paste your Databases for PostgreSQL credentials into the cell below."
   ]
  },
  {
   "cell_type": "code",
   "execution_count": 4,
   "metadata": {
    "scrolled": true
   },
   "outputs": [],
   "source": [
    "DB_CREDENTIALS = None"
   ]
  },
  {
   "cell_type": "markdown",
   "metadata": {},
   "source": [
    "__If you previously configured OpenScale to use the free internal version of PostgreSQL, you can switch to a new datamart using a paid database service.__ If you would like to delete the internal PostgreSQL configuration and create a new one using service credentials supplied in the cell above, set the __KEEP_MY_INTERNAL_POSTGRES__ variable below to __False__ below. In this case, the notebook will remove your existing internal PostgreSQL datamart and create a new one with the supplied credentials. __*NO DATA MIGRATION WILL OCCUR.*__"
   ]
  },
  {
   "cell_type": "code",
   "execution_count": 5,
   "metadata": {},
   "outputs": [],
   "source": [
    "KEEP_MY_INTERNAL_POSTGRES = True"
   ]
  },
  {
   "cell_type": "markdown",
   "metadata": {},
   "source": [
    "# Run the notebook\n",
    "\n",
    "At this point, the notebook is ready to run. You can either run the cells one at a time, or click the **Kernel** option above and select **Restart and Run All** to run all the cells."
   ]
  },
  {
   "cell_type": "markdown",
   "metadata": {},
   "source": [
    "# Load and explore data"
   ]
  },
  {
   "cell_type": "markdown",
   "metadata": {},
   "source": [
    "## Load the training data from github"
   ]
  },
  {
   "cell_type": "code",
   "execution_count": 6,
   "metadata": {
    "scrolled": true
   },
   "outputs": [
    {
     "name": "stdout",
     "output_type": "stream",
     "text": [
      "rm: cannot remove 'credit_risk_training.csv': No such file or directory\n",
      "--2019-02-25 15:13:36--  https://raw.githubusercontent.com/emartensibm/german-credit/master/german_credit_data_biased_training.csv\n",
      "Resolving raw.githubusercontent.com (raw.githubusercontent.com)... 151.101.48.133\n",
      "Connecting to raw.githubusercontent.com (raw.githubusercontent.com)|151.101.48.133|:443... connected.\n",
      "HTTP request sent, awaiting response... 200 OK\n",
      "Length: 689622 (673K) [text/plain]\n",
      "Saving to: 'german_credit_data_biased_training.csv.1'\n",
      "\n",
      "german_credit_data_ 100%[===================>] 673.46K  --.-KB/s    in 0.03s   \n",
      "\n",
      "2019-02-25 15:13:36 (23.2 MB/s) - 'german_credit_data_biased_training.csv.1' saved [689622/689622]\n",
      "\n"
     ]
    }
   ],
   "source": [
    "!rm credit_risk_training.csv\n",
    "!wget https://raw.githubusercontent.com/emartensibm/german-credit/master/german_credit_data_biased_training.csv"
   ]
  },
  {
   "cell_type": "code",
   "execution_count": 7,
   "metadata": {
    "scrolled": true
   },
   "outputs": [
    {
     "data": {
      "text/plain": [
       "Row(CheckingStatus='0_to_200', LoanDuration=31, CreditHistory='credits_paid_to_date', LoanPurpose='other', LoanAmount=1889, ExistingSavings='100_to_500', EmploymentDuration='less_1', InstallmentPercent=3, Sex='female', OthersOnLoan='none', CurrentResidenceDuration=3, OwnsProperty='savings_insurance', Age=32, InstallmentPlans='none', Housing='own', ExistingCreditsCount=1, Job='skilled', Dependents=1, Telephone='none', ForeignWorker='yes', Risk='No Risk')"
      ]
     },
     "execution_count": 7,
     "metadata": {},
     "output_type": "execute_result"
    }
   ],
   "source": [
    "from pyspark.sql import SparkSession\n",
    "import pandas as pd\n",
    "import json\n",
    "\n",
    "spark = SparkSession.builder.getOrCreate()\n",
    "pd_data = pd.read_csv(\"german_credit_data_biased_training.csv\", sep=\",\", header=0)\n",
    "df_data = spark.read.csv(path=\"german_credit_data_biased_training.csv\", sep=\",\", header=True, inferSchema=True)\n",
    "df_data.head()"
   ]
  },
  {
   "cell_type": "markdown",
   "metadata": {},
   "source": [
    "## Explore data"
   ]
  },
  {
   "cell_type": "code",
   "execution_count": 8,
   "metadata": {
    "scrolled": true
   },
   "outputs": [
    {
     "name": "stdout",
     "output_type": "stream",
     "text": [
      "root\n",
      " |-- CheckingStatus: string (nullable = true)\n",
      " |-- LoanDuration: integer (nullable = true)\n",
      " |-- CreditHistory: string (nullable = true)\n",
      " |-- LoanPurpose: string (nullable = true)\n",
      " |-- LoanAmount: integer (nullable = true)\n",
      " |-- ExistingSavings: string (nullable = true)\n",
      " |-- EmploymentDuration: string (nullable = true)\n",
      " |-- InstallmentPercent: integer (nullable = true)\n",
      " |-- Sex: string (nullable = true)\n",
      " |-- OthersOnLoan: string (nullable = true)\n",
      " |-- CurrentResidenceDuration: integer (nullable = true)\n",
      " |-- OwnsProperty: string (nullable = true)\n",
      " |-- Age: integer (nullable = true)\n",
      " |-- InstallmentPlans: string (nullable = true)\n",
      " |-- Housing: string (nullable = true)\n",
      " |-- ExistingCreditsCount: integer (nullable = true)\n",
      " |-- Job: string (nullable = true)\n",
      " |-- Dependents: integer (nullable = true)\n",
      " |-- Telephone: string (nullable = true)\n",
      " |-- ForeignWorker: string (nullable = true)\n",
      " |-- Risk: string (nullable = true)\n",
      "\n"
     ]
    }
   ],
   "source": [
    "df_data.printSchema()"
   ]
  },
  {
   "cell_type": "code",
   "execution_count": 9,
   "metadata": {
    "scrolled": true
   },
   "outputs": [
    {
     "name": "stdout",
     "output_type": "stream",
     "text": [
      "Number of records: 5000\n"
     ]
    }
   ],
   "source": [
    "print(\"Number of records: \" + str(df_data.count()))"
   ]
  },
  {
   "cell_type": "markdown",
   "metadata": {},
   "source": [
    "# Create a model"
   ]
  },
  {
   "cell_type": "code",
   "execution_count": 10,
   "metadata": {
    "scrolled": true
   },
   "outputs": [
    {
     "name": "stdout",
     "output_type": "stream",
     "text": [
      "Number of records for training: 4016\n",
      "Number of records for evaluation: 984\n",
      "root\n",
      " |-- CheckingStatus: string (nullable = true)\n",
      " |-- LoanDuration: integer (nullable = true)\n",
      " |-- CreditHistory: string (nullable = true)\n",
      " |-- LoanPurpose: string (nullable = true)\n",
      " |-- LoanAmount: integer (nullable = true)\n",
      " |-- ExistingSavings: string (nullable = true)\n",
      " |-- EmploymentDuration: string (nullable = true)\n",
      " |-- InstallmentPercent: integer (nullable = true)\n",
      " |-- Sex: string (nullable = true)\n",
      " |-- OthersOnLoan: string (nullable = true)\n",
      " |-- CurrentResidenceDuration: integer (nullable = true)\n",
      " |-- OwnsProperty: string (nullable = true)\n",
      " |-- Age: integer (nullable = true)\n",
      " |-- InstallmentPlans: string (nullable = true)\n",
      " |-- Housing: string (nullable = true)\n",
      " |-- ExistingCreditsCount: integer (nullable = true)\n",
      " |-- Job: string (nullable = true)\n",
      " |-- Dependents: integer (nullable = true)\n",
      " |-- Telephone: string (nullable = true)\n",
      " |-- ForeignWorker: string (nullable = true)\n",
      " |-- Risk: string (nullable = true)\n",
      "\n"
     ]
    }
   ],
   "source": [
    "spark_df = df_data\n",
    "(train_data, test_data) = spark_df.randomSplit([0.8, 0.2], 24)\n",
    "\n",
    "MODEL_NAME = \"Spark German Risk Model - Final\"\n",
    "DEPLOYMENT_NAME = \"Spark German Risk Deployment - Final\"\n",
    "\n",
    "print(\"Number of records for training: \" + str(train_data.count()))\n",
    "print(\"Number of records for evaluation: \" + str(test_data.count()))\n",
    "\n",
    "spark_df.printSchema()"
   ]
  },
  {
   "cell_type": "code",
   "execution_count": 11,
   "metadata": {
    "scrolled": true
   },
   "outputs": [],
   "source": [
    "from pyspark.ml.feature import OneHotEncoder, StringIndexer, IndexToString, VectorAssembler\n",
    "from pyspark.ml.evaluation import BinaryClassificationEvaluator\n",
    "from pyspark.ml import Pipeline, Model\n",
    "\n",
    "si_CheckingStatus = StringIndexer(inputCol = 'CheckingStatus', outputCol = 'CheckingStatus_IX')\n",
    "si_CreditHistory = StringIndexer(inputCol = 'CreditHistory', outputCol = 'CreditHistory_IX')\n",
    "si_LoanPurpose = StringIndexer(inputCol = 'LoanPurpose', outputCol = 'LoanPurpose_IX')\n",
    "si_ExistingSavings = StringIndexer(inputCol = 'ExistingSavings', outputCol = 'ExistingSavings_IX')\n",
    "si_EmploymentDuration = StringIndexer(inputCol = 'EmploymentDuration', outputCol = 'EmploymentDuration_IX')\n",
    "si_Sex = StringIndexer(inputCol = 'Sex', outputCol = 'Sex_IX')\n",
    "si_OthersOnLoan = StringIndexer(inputCol = 'OthersOnLoan', outputCol = 'OthersOnLoan_IX')\n",
    "si_OwnsProperty = StringIndexer(inputCol = 'OwnsProperty', outputCol = 'OwnsProperty_IX')\n",
    "si_InstallmentPlans = StringIndexer(inputCol = 'InstallmentPlans', outputCol = 'InstallmentPlans_IX')\n",
    "si_Housing = StringIndexer(inputCol = 'Housing', outputCol = 'Housing_IX')\n",
    "si_Job = StringIndexer(inputCol = 'Job', outputCol = 'Job_IX')\n",
    "si_Telephone = StringIndexer(inputCol = 'Telephone', outputCol = 'Telephone_IX')\n",
    "si_ForeignWorker = StringIndexer(inputCol = 'ForeignWorker', outputCol = 'ForeignWorker_IX')"
   ]
  },
  {
   "cell_type": "code",
   "execution_count": 12,
   "metadata": {
    "scrolled": true
   },
   "outputs": [],
   "source": [
    "si_Label = StringIndexer(inputCol=\"Risk\", outputCol=\"label\").fit(spark_df)\n",
    "label_converter = IndexToString(inputCol=\"prediction\", outputCol=\"predictedLabel\", labels=si_Label.labels)"
   ]
  },
  {
   "cell_type": "code",
   "execution_count": 13,
   "metadata": {
    "scrolled": true
   },
   "outputs": [],
   "source": [
    "va_features = VectorAssembler(inputCols=[\"CheckingStatus_IX\", \"CreditHistory_IX\", \"LoanPurpose_IX\", \"ExistingSavings_IX\", \"EmploymentDuration_IX\", \"Sex_IX\", \\\n",
    "                                         \"OthersOnLoan_IX\", \"OwnsProperty_IX\", \"InstallmentPlans_IX\", \"Housing_IX\", \"Job_IX\", \"Telephone_IX\", \"ForeignWorker_IX\", \\\n",
    "                                         \"LoanDuration\", \"LoanAmount\", \"InstallmentPercent\", \"CurrentResidenceDuration\", \"LoanDuration\", \"Age\", \"ExistingCreditsCount\", \\\n",
    "                                         \"Dependents\"], outputCol=\"features\")"
   ]
  },
  {
   "cell_type": "code",
   "execution_count": 14,
   "metadata": {
    "scrolled": true
   },
   "outputs": [],
   "source": [
    "from pyspark.ml.classification import RandomForestClassifier\n",
    "classifier = RandomForestClassifier(featuresCol=\"features\")\n",
    "\n",
    "pipeline = Pipeline(stages=[si_CheckingStatus, si_CreditHistory, si_EmploymentDuration, si_ExistingSavings, si_ForeignWorker, si_Housing, si_InstallmentPlans, si_Job, si_LoanPurpose, si_OthersOnLoan,\\\n",
    "                               si_OwnsProperty, si_Sex, si_Telephone, si_Label, va_features, classifier, label_converter])\n",
    "model = pipeline.fit(train_data)"
   ]
  },
  {
   "cell_type": "code",
   "execution_count": 15,
   "metadata": {
    "scrolled": true
   },
   "outputs": [
    {
     "name": "stdout",
     "output_type": "stream",
     "text": [
      "areaUnderROC = 0.705137\n"
     ]
    }
   ],
   "source": [
    "predictions = model.transform(test_data)\n",
    "evaluatorDT = BinaryClassificationEvaluator(rawPredictionCol=\"prediction\")\n",
    "area_under_curve = evaluatorDT.evaluate(predictions)\n",
    "\n",
    "#default evaluation is areaUnderROC\n",
    "print(\"areaUnderROC = %g\" % area_under_curve)"
   ]
  },
  {
   "cell_type": "markdown",
   "metadata": {},
   "source": [
    "# Save and deploy the model"
   ]
  },
  {
   "cell_type": "code",
   "execution_count": 16,
   "metadata": {
    "scrolled": true
   },
   "outputs": [
    {
     "name": "stderr",
     "output_type": "stream",
     "text": [
      "2019-02-25 15:15:37,155 WARNING Retrying (Retry(total=9, connect=3, read=None, redirect=None, status=None)) after connection broken by 'ProtocolError('Connection aborted.', RemoteDisconnected('Remote end closed connection without response',))': /v1/data_marts/38566256-4bff-407a-b9d1-f2a41c319d96/service_bindings/4ffff3c1-f98d-4270-b716-980fbee1ef0b/subscriptions/c0e9c727-a17c-48e7-b258-4a781bfa85f4\n",
      "WARNING:urllib3.connectionpool:Retrying (Retry(total=9, connect=3, read=None, redirect=None, status=None)) after connection broken by 'ProtocolError('Connection aborted.', RemoteDisconnected('Remote end closed connection without response',))': /v1/data_marts/38566256-4bff-407a-b9d1-f2a41c319d96/service_bindings/4ffff3c1-f98d-4270-b716-980fbee1ef0b/subscriptions/c0e9c727-a17c-48e7-b258-4a781bfa85f4\n"
     ]
    }
   ],
   "source": [
    "from watson_machine_learning_client import WatsonMachineLearningAPIClient\n",
    "import json\n",
    "\n",
    "wml_client = WatsonMachineLearningAPIClient(WML_CREDENTIALS)"
   ]
  },
  {
   "cell_type": "markdown",
   "metadata": {},
   "source": [
    "### Remove existing model and deployment"
   ]
  },
  {
   "cell_type": "code",
   "execution_count": 17,
   "metadata": {
    "scrolled": true
   },
   "outputs": [
    {
     "name": "stdout",
     "output_type": "stream",
     "text": [
      "Deleting deployment id a4a62c1c-1bb4-4e37-9fa3-2b7e146e0dc5\n",
      "Deleting model id 5128b5ea-f61a-4c2b-a907-5e86616acd6c\n",
      "----  ----  -------  ---------\n",
      "GUID  NAME  CREATED  FRAMEWORK\n",
      "----  ----  -------  ---------\n"
     ]
    }
   ],
   "source": [
    "model_deployment_ids = wml_client.deployments.get_uids()\n",
    "for deployment_id in model_deployment_ids:\n",
    "    deployment = wml_client.deployments.get_details(deployment_id)\n",
    "    model_id = deployment['entity']['deployable_asset']['guid']\n",
    "    if deployment['entity']['name'] == DEPLOYMENT_NAME:\n",
    "        print('Deleting deployment id', deployment_id)\n",
    "        wml_client.deployments.delete(deployment_id)\n",
    "        print('Deleting model id', model_id)\n",
    "        wml_client.repository.delete(model_id)\n",
    "wml_client.repository.list_models()"
   ]
  },
  {
   "cell_type": "code",
   "execution_count": 18,
   "metadata": {
    "scrolled": true
   },
   "outputs": [],
   "source": [
    "model_props = {\n",
    "    wml_client.repository.ModelMetaNames.NAME: \"{}\".format(MODEL_NAME),\n",
    "    wml_client.repository.ModelMetaNames.EVALUATION_METHOD: \"binary\",\n",
    "    wml_client.repository.ModelMetaNames.EVALUATION_METRICS: [\n",
    "        {\n",
    "           \"name\": \"areaUnderROC\",\n",
    "           \"value\": area_under_curve,\n",
    "           \"threshold\": 0.7\n",
    "        }\n",
    "    ]\n",
    "}"
   ]
  },
  {
   "cell_type": "code",
   "execution_count": 19,
   "metadata": {
    "scrolled": true
   },
   "outputs": [
    {
     "name": "stdout",
     "output_type": "stream",
     "text": [
      "Storing model ...\n",
      "Done\n"
     ]
    }
   ],
   "source": [
    "wml_models = wml_client.repository.get_details()\n",
    "model_uid = None\n",
    "for model_in in wml_models['models']['resources']:\n",
    "    if MODEL_NAME == model_in['entity']['name']:\n",
    "        model_uid = model_in['metadata']['guid']\n",
    "        break\n",
    "\n",
    "if model_uid is None:\n",
    "    print(\"Storing model ...\")\n",
    "\n",
    "    published_model_details = wml_client.repository.store_model(model=model, meta_props=model_props, training_data=train_data, pipeline=pipeline)\n",
    "    model_uid = wml_client.repository.get_model_uid(published_model_details)\n",
    "    print(\"Done\")"
   ]
  },
  {
   "cell_type": "code",
   "execution_count": 20,
   "metadata": {
    "scrolled": true
   },
   "outputs": [
    {
     "data": {
      "text/plain": [
       "'c0e9c727-a17c-48e7-b258-4a781bfa85f4'"
      ]
     },
     "execution_count": 20,
     "metadata": {},
     "output_type": "execute_result"
    }
   ],
   "source": [
    "model_uid"
   ]
  },
  {
   "cell_type": "code",
   "execution_count": 21,
   "metadata": {
    "scrolled": true
   },
   "outputs": [
    {
     "name": "stdout",
     "output_type": "stream",
     "text": [
      "Deploying model...\n",
      "\n",
      "\n",
      "#######################################################################################\n",
      "\n",
      "Synchronous deployment creation for uid: 'c0e9c727-a17c-48e7-b258-4a781bfa85f4' started\n",
      "\n",
      "#######################################################################################\n",
      "\n",
      "\n",
      "INITIALIZING\n",
      "DEPLOY_SUCCESS\n",
      "\n",
      "\n",
      "------------------------------------------------------------------------------------------------\n",
      "Successfully finished deployment creation, deployment_uid='a5900b2a-7085-46bb-b759-4410150e76cd'\n",
      "------------------------------------------------------------------------------------------------\n",
      "\n",
      "\n",
      "Model id: c0e9c727-a17c-48e7-b258-4a781bfa85f4\n",
      "Deployment id: a5900b2a-7085-46bb-b759-4410150e76cd\n"
     ]
    }
   ],
   "source": [
    "wml_deployments = wml_client.deployments.get_details()\n",
    "deployment_uid = None\n",
    "for deployment in wml_deployments['resources']:\n",
    "    if DEPLOYMENT_NAME == deployment['entity']['name']:\n",
    "        deployment_uid = deployment['metadata']['guid']\n",
    "        break\n",
    "\n",
    "if deployment_uid is None:\n",
    "    print(\"Deploying model...\")\n",
    "\n",
    "    deployment = wml_client.deployments.create(artifact_uid=model_uid, name=DEPLOYMENT_NAME, asynchronous=False)\n",
    "    deployment_uid = wml_client.deployments.get_uid(deployment)\n",
    "    \n",
    "print(\"Model id: {}\".format(model_uid))\n",
    "print(\"Deployment id: {}\".format(deployment_uid))"
   ]
  },
  {
   "cell_type": "markdown",
   "metadata": {},
   "source": [
    "# Configure OpenScale"
   ]
  },
  {
   "cell_type": "code",
   "execution_count": 22,
   "metadata": {
    "scrolled": true
   },
   "outputs": [],
   "source": [
    "from ibm_ai_openscale import APIClient\n",
    "from ibm_ai_openscale.engines import *\n",
    "from ibm_ai_openscale.utils import *\n",
    "from ibm_ai_openscale.supporting_classes import PayloadRecord, Feature\n",
    "from ibm_ai_openscale.supporting_classes.enums import *"
   ]
  },
  {
   "cell_type": "markdown",
   "metadata": {},
   "source": [
    "### Get AI OpenScale GUID"
   ]
  },
  {
   "cell_type": "code",
   "execution_count": 23,
   "metadata": {},
   "outputs": [
    {
     "name": "stdout",
     "output_type": "stream",
     "text": [
      "38566256-4bff-407a-b9d1-f2a41c319d96\n"
     ]
    }
   ],
   "source": [
    "import requests\n",
    "\n",
    "AIOS_GUID = None\n",
    "token_data = {\n",
    "    'grant_type': 'urn:ibm:params:oauth:grant-type:apikey',\n",
    "    'response_type': 'cloud_iam',\n",
    "    'apikey': CLOUD_API_KEY\n",
    "}\n",
    "\n",
    "response = requests.post('https://iam.bluemix.net/identity/token', data=token_data)\n",
    "iam_token = response.json()['access_token']\n",
    "iam_headers = {\n",
    "    'Content-Type': 'application/json',\n",
    "    'Authorization': 'Bearer %s' % iam_token\n",
    "}\n",
    "\n",
    "resources = json.loads(requests.get('https://resource-controller.cloud.ibm.com/v2/resource_instances', headers=iam_headers).text)['resources']\n",
    "for resource in resources:\n",
    "    if \"aiopenscale\" in resource['id'].lower():\n",
    "        AIOS_GUID = resource['guid']\n",
    "        \n",
    "AIOS_CREDENTIALS = {\n",
    "    \"instance_guid\": AIOS_GUID,\n",
    "    \"apikey\": CLOUD_API_KEY,\n",
    "    \"url\": \"https://api.aiopenscale.cloud.ibm.com\"\n",
    "}\n",
    "\n",
    "if AIOS_GUID is None:\n",
    "    print('AI OpenScale GUID NOT FOUND')\n",
    "else:\n",
    "    print(AIOS_GUID)"
   ]
  },
  {
   "cell_type": "markdown",
   "metadata": {},
   "source": [
    "## Create schema and datamart"
   ]
  },
  {
   "cell_type": "code",
   "execution_count": 24,
   "metadata": {
    "scrolled": true
   },
   "outputs": [
    {
     "data": {
      "text/plain": [
       "'2.1.0'"
      ]
     },
     "execution_count": 24,
     "metadata": {},
     "output_type": "execute_result"
    }
   ],
   "source": [
    "ai_client = APIClient(aios_credentials=AIOS_CREDENTIALS)\n",
    "ai_client.version"
   ]
  },
  {
   "cell_type": "markdown",
   "metadata": {},
   "source": [
    "### Set up datamart"
   ]
  },
  {
   "cell_type": "code",
   "execution_count": 25,
   "metadata": {},
   "outputs": [
    {
     "name": "stdout",
     "output_type": "stream",
     "text": [
      "Using existing internal datamart.\n"
     ]
    }
   ],
   "source": [
    "try:\n",
    "    data_mart_details = ai_client.data_mart.get_details()\n",
    "    if 'internal_database' in data_mart_details and data_mart_details['internal_database']:\n",
    "        if KEEP_MY_INTERNAL_POSTGRES:\n",
    "            print('Using existing internal datamart.')\n",
    "        else:\n",
    "            if DB_CREDENTIALS is None:\n",
    "                print('No postgres credentials supplied. Using existing internal datamart')\n",
    "            else:\n",
    "                print('Switching to external datamart')\n",
    "                ai_client.data_mart.delete(force=True)\n",
    "                ai_client.data_mart.setup(db_credentials=DB_CREDENTIALS)\n",
    "    else:\n",
    "        print('Using existing external datamart')\n",
    "except:\n",
    "    if DB_CREDENTIALS is None:\n",
    "        print('Setting up internal datamart')\n",
    "        ai_client.data_mart.setup(internal_db=True)\n",
    "    else:\n",
    "        print('Setting up external datamart')\n",
    "        try:\n",
    "            ai_client.data_mart.setup(db_credentials=DB_CREDENTIALS)\n",
    "        except:\n",
    "            print('Setup failed, trying Db2 setup')\n",
    "            ai_client.data_mart.setup(db_credentials=DB_CREDENTIALS, schema=DB_CREDENTIALS['username'])\n",
    "    "
   ]
  },
  {
   "cell_type": "code",
   "execution_count": 26,
   "metadata": {
    "scrolled": true
   },
   "outputs": [
    {
     "data": {
      "text/plain": [
       "{'database_configuration': {},\n",
       " 'internal_database': True,\n",
       " 'service_instance_crn': 'crn:v1:bluemix:public:aiopenscale:us-south:a/5f1ebca7ded64349ad7c3356c60cb7be:38566256-4bff-407a-b9d1-f2a41c319d96::',\n",
       " 'status': {'state': 'active'}}"
      ]
     },
     "execution_count": 26,
     "metadata": {},
     "output_type": "execute_result"
    }
   ],
   "source": [
    "data_mart_details = ai_client.data_mart.get_details()\n",
    "data_mart_details"
   ]
  },
  {
   "cell_type": "markdown",
   "metadata": {},
   "source": [
    "## Bind machine learning engines"
   ]
  },
  {
   "cell_type": "code",
   "execution_count": 27,
   "metadata": {
    "scrolled": false
   },
   "outputs": [
    {
     "name": "stdout",
     "output_type": "stream",
     "text": [
      "Warning during bind instance.\n",
      "Status code: 409, body: {\"trace\":\"MWNkZmY5MWUtYWJkZi00ZjIyLTg3YmEtYjJlYTQ2M2QwMThk\",\"errors\":[{\"code\":\"AIQCS0010W\",\"message\":\"Service Binding with this id is already defined\"}]}\n"
     ]
    },
    {
     "data": {
      "text/html": [
       "<HTML>\n",
       "        <body>\n",
       "            <h3>Service bindings</h3>\n",
       "            <table style='border: 1px solid #dddddd; font-family: Courier'>\n",
       "                <th style='border: 1px solid #dddddd'>uid</th><th style='border: 1px solid #dddddd'>name</th><th style='border: 1px solid #dddddd'>service_type</th><th style='border: 1px solid #dddddd'>created</th>\n",
       "                <tr><td style='border: 1px solid #dddddd'>4ffff3c1-f98d-4270-b716-980fbee1ef0b</td><td style='border: 1px solid #dddddd'>WML instance</td><td style='border: 1px solid #dddddd'>watson_machine_learning</td><td style='border: 1px solid #dddddd'>2019-02-25T15:05:12.925Z</td></tr>\n",
       "            </table>\n",
       "        </body>\n",
       "        </HTML>"
      ],
      "text/plain": [
       "<IPython.core.display.HTML object>"
      ]
     },
     "metadata": {},
     "output_type": "display_data"
    }
   ],
   "source": [
    "binding_uid = ai_client.data_mart.bindings.add('WML instance', WatsonMachineLearningInstance(WML_CREDENTIALS))\n",
    "if binding_uid is None:\n",
    "    binding_uid = ai_client.data_mart.bindings.get_details()['service_bindings'][0]['metadata']['guid']\n",
    "bindings_details = ai_client.data_mart.bindings.get_details()\n",
    "ai_client.data_mart.bindings.list()"
   ]
  },
  {
   "cell_type": "code",
   "execution_count": 28,
   "metadata": {
    "scrolled": true
   },
   "outputs": [
    {
     "name": "stdout",
     "output_type": "stream",
     "text": [
      "4ffff3c1-f98d-4270-b716-980fbee1ef0b\n"
     ]
    }
   ],
   "source": [
    "print(binding_uid)"
   ]
  },
  {
   "cell_type": "code",
   "execution_count": 29,
   "metadata": {
    "scrolled": false
   },
   "outputs": [
    {
     "data": {
      "text/html": [
       "<HTML>\n",
       "        <body>\n",
       "            <h3>Available assets</h3>\n",
       "            <table style='border: 1px solid #dddddd; font-family: Courier'>\n",
       "                <th style='border: 1px solid #dddddd'>source_uid</th><th style='border: 1px solid #dddddd'>name</th><th style='border: 1px solid #dddddd'>created</th><th style='border: 1px solid #dddddd'>type</th><th style='border: 1px solid #dddddd'>frameworks</th><th style='border: 1px solid #dddddd'>binding_uid</th><th style='border: 1px solid #dddddd'>is_subscribed</th>\n",
       "                <tr><td style='border: 1px solid #dddddd'>c0e9c727-a17c-48e7-b258-4a781bfa85f4</td><td style='border: 1px solid #dddddd'>Spark German Risk Model - Final</td><td style='border: 1px solid #dddddd'>2019-02-25T15:15:08.764Z</td><td style='border: 1px solid #dddddd'>model</td><td style='border: 1px solid #dddddd'>mllib-2.3</td><td style='border: 1px solid #dddddd'>4ffff3c1-f98d-4270-b716-980fbee1ef0b</td><td style='border: 1px solid #dddddd'>False</td></tr>\n",
       "            </table>\n",
       "        </body>\n",
       "        </HTML>"
      ],
      "text/plain": [
       "<IPython.core.display.HTML object>"
      ]
     },
     "metadata": {},
     "output_type": "display_data"
    }
   ],
   "source": [
    "ai_client.data_mart.bindings.list_assets()"
   ]
  },
  {
   "cell_type": "markdown",
   "metadata": {},
   "source": [
    "## Subscriptions"
   ]
  },
  {
   "cell_type": "markdown",
   "metadata": {},
   "source": [
    "### Remove existing credit risk subscriptions"
   ]
  },
  {
   "cell_type": "code",
   "execution_count": 30,
   "metadata": {
    "scrolled": true
   },
   "outputs": [
    {
     "name": "stdout",
     "output_type": "stream",
     "text": [
      "Deleted existing subscription for Spark German Risk Model - Final\n"
     ]
    }
   ],
   "source": [
    "subscriptions_uids = ai_client.data_mart.subscriptions.get_uids()\n",
    "for subscription in subscriptions_uids:\n",
    "    sub_name = ai_client.data_mart.subscriptions.get_details(subscription)['entity']['asset']['name']\n",
    "    if sub_name == MODEL_NAME:\n",
    "        ai_client.data_mart.subscriptions.delete(subscription)\n",
    "        print('Deleted existing subscription for', MODEL_NAME)"
   ]
  },
  {
   "cell_type": "code",
   "execution_count": 31,
   "metadata": {
    "scrolled": false
   },
   "outputs": [],
   "source": [
    "subscription = ai_client.data_mart.subscriptions.add(WatsonMachineLearningAsset(\n",
    "    model_uid,\n",
    "    problem_type=ProblemType.BINARY_CLASSIFICATION,\n",
    "    input_data_type=InputDataType.STRUCTURED,\n",
    "    label_column='Risk',\n",
    "    prediction_column='predictedLabel',\n",
    "    probability_column='probability',\n",
    "    feature_columns = [\"CheckingStatus\",\"LoanDuration\",\"CreditHistory\",\"LoanPurpose\",\"LoanAmount\",\"ExistingSavings\",\"EmploymentDuration\",\"InstallmentPercent\",\"Sex\",\"OthersOnLoan\",\"CurrentResidenceDuration\",\"OwnsProperty\",\"Age\",\"InstallmentPlans\",\"Housing\",\"ExistingCreditsCount\",\"Job\",\"Dependents\",\"Telephone\",\"ForeignWorker\"],\n",
    "    categorical_columns = [\"CheckingStatus\",\"CreditHistory\",\"LoanPurpose\",\"ExistingSavings\",\"EmploymentDuration\",\"Sex\",\"OthersOnLoan\",\"OwnsProperty\",\"InstallmentPlans\",\"Housing\",\"Job\",\"Telephone\",\"ForeignWorker\"]\n",
    "))\n",
    "\n",
    "if subscription is None:\n",
    "    print('Subscription already exists; get the existing one')\n",
    "    subscriptions_uids = ai_client.data_mart.subscriptions.get_uids()\n",
    "    for sub in subscriptions_uids:\n",
    "        if ai_client.data_mart.subscriptions.get_details(sub)['entity']['asset']['name'] == MODEL_NAME:\n",
    "            subscription = ai_client.data_mart.subscriptions.get(sub)"
   ]
  },
  {
   "cell_type": "markdown",
   "metadata": {},
   "source": [
    "Get subscription list"
   ]
  },
  {
   "cell_type": "code",
   "execution_count": 32,
   "metadata": {
    "scrolled": true
   },
   "outputs": [
    {
     "data": {
      "text/html": [
       "<HTML>\n",
       "        <body>\n",
       "            <h3>Subscriptions</h3>\n",
       "            <table style='border: 1px solid #dddddd; font-family: Courier'>\n",
       "                <th style='border: 1px solid #dddddd'>uid</th><th style='border: 1px solid #dddddd'>name</th><th style='border: 1px solid #dddddd'>type</th><th style='border: 1px solid #dddddd'>binding_uid</th><th style='border: 1px solid #dddddd'>created</th>\n",
       "                <tr><td style='border: 1px solid #dddddd'>c0e9c727-a17c-48e7-b258-4a781bfa85f4</td><td style='border: 1px solid #dddddd'>Spark German Risk Model - Final</td><td style='border: 1px solid #dddddd'>model</td><td style='border: 1px solid #dddddd'>4ffff3c1-f98d-4270-b716-980fbee1ef0b</td><td style='border: 1px solid #dddddd'>2019-02-25T15:15:35.343Z</td></tr>\n",
       "            </table>\n",
       "        </body>\n",
       "        </HTML>"
      ],
      "text/plain": [
       "<IPython.core.display.HTML object>"
      ]
     },
     "metadata": {},
     "output_type": "display_data"
    }
   ],
   "source": [
    "subscriptions_uids = ai_client.data_mart.subscriptions.get_uids()\n",
    "ai_client.data_mart.subscriptions.list()"
   ]
  },
  {
   "cell_type": "code",
   "execution_count": 33,
   "metadata": {
    "scrolled": false
   },
   "outputs": [
    {
     "data": {
      "text/plain": [
       "{'entity': {'asset': {'asset_id': 'c0e9c727-a17c-48e7-b258-4a781bfa85f4',\n",
       "   'asset_type': 'model',\n",
       "   'created_at': '2019-02-25T15:15:08.764Z',\n",
       "   'name': 'Spark German Risk Model - Final',\n",
       "   'url': 'https://us-south.ml.cloud.ibm.com/v3/wml_instances/4ffff3c1-f98d-4270-b716-980fbee1ef0b/published_models/c0e9c727-a17c-48e7-b258-4a781bfa85f4'},\n",
       "  'asset_properties': {'categorical_fields': ['CheckingStatus',\n",
       "    'CreditHistory',\n",
       "    'LoanPurpose',\n",
       "    'ExistingSavings',\n",
       "    'EmploymentDuration',\n",
       "    'Sex',\n",
       "    'OthersOnLoan',\n",
       "    'OwnsProperty',\n",
       "    'InstallmentPlans',\n",
       "    'Housing',\n",
       "    'Job',\n",
       "    'Telephone',\n",
       "    'ForeignWorker'],\n",
       "   'feature_fields': ['CheckingStatus',\n",
       "    'LoanDuration',\n",
       "    'CreditHistory',\n",
       "    'LoanPurpose',\n",
       "    'LoanAmount',\n",
       "    'ExistingSavings',\n",
       "    'EmploymentDuration',\n",
       "    'InstallmentPercent',\n",
       "    'Sex',\n",
       "    'OthersOnLoan',\n",
       "    'CurrentResidenceDuration',\n",
       "    'OwnsProperty',\n",
       "    'Age',\n",
       "    'InstallmentPlans',\n",
       "    'Housing',\n",
       "    'ExistingCreditsCount',\n",
       "    'Job',\n",
       "    'Dependents',\n",
       "    'Telephone',\n",
       "    'ForeignWorker'],\n",
       "   'input_data_schema': {'fields': [{'metadata': {'measure': 'discrete',\n",
       "       'modeling_role': 'feature'},\n",
       "      'name': 'CheckingStatus',\n",
       "      'nullable': True,\n",
       "      'type': 'string'},\n",
       "     {'metadata': {'modeling_role': 'feature'},\n",
       "      'name': 'LoanDuration',\n",
       "      'nullable': True,\n",
       "      'type': 'integer'},\n",
       "     {'metadata': {'measure': 'discrete', 'modeling_role': 'feature'},\n",
       "      'name': 'CreditHistory',\n",
       "      'nullable': True,\n",
       "      'type': 'string'},\n",
       "     {'metadata': {'measure': 'discrete', 'modeling_role': 'feature'},\n",
       "      'name': 'LoanPurpose',\n",
       "      'nullable': True,\n",
       "      'type': 'string'},\n",
       "     {'metadata': {'modeling_role': 'feature'},\n",
       "      'name': 'LoanAmount',\n",
       "      'nullable': True,\n",
       "      'type': 'integer'},\n",
       "     {'metadata': {'measure': 'discrete', 'modeling_role': 'feature'},\n",
       "      'name': 'ExistingSavings',\n",
       "      'nullable': True,\n",
       "      'type': 'string'},\n",
       "     {'metadata': {'measure': 'discrete', 'modeling_role': 'feature'},\n",
       "      'name': 'EmploymentDuration',\n",
       "      'nullable': True,\n",
       "      'type': 'string'},\n",
       "     {'metadata': {'modeling_role': 'feature'},\n",
       "      'name': 'InstallmentPercent',\n",
       "      'nullable': True,\n",
       "      'type': 'integer'},\n",
       "     {'metadata': {'measure': 'discrete', 'modeling_role': 'feature'},\n",
       "      'name': 'Sex',\n",
       "      'nullable': True,\n",
       "      'type': 'string'},\n",
       "     {'metadata': {'measure': 'discrete', 'modeling_role': 'feature'},\n",
       "      'name': 'OthersOnLoan',\n",
       "      'nullable': True,\n",
       "      'type': 'string'},\n",
       "     {'metadata': {'modeling_role': 'feature'},\n",
       "      'name': 'CurrentResidenceDuration',\n",
       "      'nullable': True,\n",
       "      'type': 'integer'},\n",
       "     {'metadata': {'measure': 'discrete', 'modeling_role': 'feature'},\n",
       "      'name': 'OwnsProperty',\n",
       "      'nullable': True,\n",
       "      'type': 'string'},\n",
       "     {'metadata': {'modeling_role': 'feature'},\n",
       "      'name': 'Age',\n",
       "      'nullable': True,\n",
       "      'type': 'integer'},\n",
       "     {'metadata': {'measure': 'discrete', 'modeling_role': 'feature'},\n",
       "      'name': 'InstallmentPlans',\n",
       "      'nullable': True,\n",
       "      'type': 'string'},\n",
       "     {'metadata': {'measure': 'discrete', 'modeling_role': 'feature'},\n",
       "      'name': 'Housing',\n",
       "      'nullable': True,\n",
       "      'type': 'string'},\n",
       "     {'metadata': {'modeling_role': 'feature'},\n",
       "      'name': 'ExistingCreditsCount',\n",
       "      'nullable': True,\n",
       "      'type': 'integer'},\n",
       "     {'metadata': {'measure': 'discrete', 'modeling_role': 'feature'},\n",
       "      'name': 'Job',\n",
       "      'nullable': True,\n",
       "      'type': 'string'},\n",
       "     {'metadata': {'modeling_role': 'feature'},\n",
       "      'name': 'Dependents',\n",
       "      'nullable': True,\n",
       "      'type': 'integer'},\n",
       "     {'metadata': {'measure': 'discrete', 'modeling_role': 'feature'},\n",
       "      'name': 'Telephone',\n",
       "      'nullable': True,\n",
       "      'type': 'string'},\n",
       "     {'metadata': {'measure': 'discrete', 'modeling_role': 'feature'},\n",
       "      'name': 'ForeignWorker',\n",
       "      'nullable': True,\n",
       "      'type': 'string'}],\n",
       "    'type': 'struct'},\n",
       "   'input_data_type': 'structured',\n",
       "   'label_column': 'Risk',\n",
       "   'model_type': 'mllib-2.3',\n",
       "   'output_data_schema': {'fields': [{'metadata': {'measure': 'discrete',\n",
       "       'modeling_role': 'feature'},\n",
       "      'name': 'CheckingStatus',\n",
       "      'nullable': True,\n",
       "      'type': 'string'},\n",
       "     {'metadata': {'modeling_role': 'feature'},\n",
       "      'name': 'LoanDuration',\n",
       "      'nullable': True,\n",
       "      'type': 'integer'},\n",
       "     {'metadata': {'measure': 'discrete', 'modeling_role': 'feature'},\n",
       "      'name': 'CreditHistory',\n",
       "      'nullable': True,\n",
       "      'type': 'string'},\n",
       "     {'metadata': {'measure': 'discrete', 'modeling_role': 'feature'},\n",
       "      'name': 'LoanPurpose',\n",
       "      'nullable': True,\n",
       "      'type': 'string'},\n",
       "     {'metadata': {'modeling_role': 'feature'},\n",
       "      'name': 'LoanAmount',\n",
       "      'nullable': True,\n",
       "      'type': 'integer'},\n",
       "     {'metadata': {'measure': 'discrete', 'modeling_role': 'feature'},\n",
       "      'name': 'ExistingSavings',\n",
       "      'nullable': True,\n",
       "      'type': 'string'},\n",
       "     {'metadata': {'measure': 'discrete', 'modeling_role': 'feature'},\n",
       "      'name': 'EmploymentDuration',\n",
       "      'nullable': True,\n",
       "      'type': 'string'},\n",
       "     {'metadata': {'modeling_role': 'feature'},\n",
       "      'name': 'InstallmentPercent',\n",
       "      'nullable': True,\n",
       "      'type': 'integer'},\n",
       "     {'metadata': {'measure': 'discrete', 'modeling_role': 'feature'},\n",
       "      'name': 'Sex',\n",
       "      'nullable': True,\n",
       "      'type': 'string'},\n",
       "     {'metadata': {'measure': 'discrete', 'modeling_role': 'feature'},\n",
       "      'name': 'OthersOnLoan',\n",
       "      'nullable': True,\n",
       "      'type': 'string'},\n",
       "     {'metadata': {'modeling_role': 'feature'},\n",
       "      'name': 'CurrentResidenceDuration',\n",
       "      'nullable': True,\n",
       "      'type': 'integer'},\n",
       "     {'metadata': {'measure': 'discrete', 'modeling_role': 'feature'},\n",
       "      'name': 'OwnsProperty',\n",
       "      'nullable': True,\n",
       "      'type': 'string'},\n",
       "     {'metadata': {'modeling_role': 'feature'},\n",
       "      'name': 'Age',\n",
       "      'nullable': True,\n",
       "      'type': 'integer'},\n",
       "     {'metadata': {'measure': 'discrete', 'modeling_role': 'feature'},\n",
       "      'name': 'InstallmentPlans',\n",
       "      'nullable': True,\n",
       "      'type': 'string'},\n",
       "     {'metadata': {'measure': 'discrete', 'modeling_role': 'feature'},\n",
       "      'name': 'Housing',\n",
       "      'nullable': True,\n",
       "      'type': 'string'},\n",
       "     {'metadata': {'modeling_role': 'feature'},\n",
       "      'name': 'ExistingCreditsCount',\n",
       "      'nullable': True,\n",
       "      'type': 'integer'},\n",
       "     {'metadata': {'measure': 'discrete', 'modeling_role': 'feature'},\n",
       "      'name': 'Job',\n",
       "      'nullable': True,\n",
       "      'type': 'string'},\n",
       "     {'metadata': {'modeling_role': 'feature'},\n",
       "      'name': 'Dependents',\n",
       "      'nullable': True,\n",
       "      'type': 'integer'},\n",
       "     {'metadata': {'measure': 'discrete', 'modeling_role': 'feature'},\n",
       "      'name': 'Telephone',\n",
       "      'nullable': True,\n",
       "      'type': 'string'},\n",
       "     {'metadata': {'measure': 'discrete', 'modeling_role': 'feature'},\n",
       "      'name': 'ForeignWorker',\n",
       "      'nullable': True,\n",
       "      'type': 'string'},\n",
       "     {'metadata': {'modeling_role': 'prediction'},\n",
       "      'name': 'prediction',\n",
       "      'nullable': True,\n",
       "      'type': 'double'},\n",
       "     {'metadata': {'modeling_role': 'probability'},\n",
       "      'name': 'probability',\n",
       "      'nullable': True,\n",
       "      'type': {'containsNull': True,\n",
       "       'elementType': 'double',\n",
       "       'type': 'array'}},\n",
       "     {'metadata': {'modeling_role': 'debiased-prediction'},\n",
       "      'name': 'debiased_prediction',\n",
       "      'nullable': True,\n",
       "      'type': 'double'},\n",
       "     {'metadata': {'modeling_role': 'debiased-probability'},\n",
       "      'name': 'debiased_probability',\n",
       "      'nullable': True,\n",
       "      'type': {'containsNull': True,\n",
       "       'elementType': 'double',\n",
       "       'type': 'array'}}],\n",
       "    'type': 'struct'},\n",
       "   'predicted_target_field': 'predictedLabel',\n",
       "   'prediction_probability_field': 'probability',\n",
       "   'problem_type': 'binary',\n",
       "   'runtime_environment': 'spark-2.3',\n",
       "   'training_data_schema': {'fields': [{'metadata': {'measure': 'discrete',\n",
       "       'modeling_role': 'feature'},\n",
       "      'name': 'CheckingStatus',\n",
       "      'nullable': True,\n",
       "      'type': 'string'},\n",
       "     {'metadata': {'modeling_role': 'feature'},\n",
       "      'name': 'LoanDuration',\n",
       "      'nullable': True,\n",
       "      'type': 'integer'},\n",
       "     {'metadata': {'measure': 'discrete', 'modeling_role': 'feature'},\n",
       "      'name': 'CreditHistory',\n",
       "      'nullable': True,\n",
       "      'type': 'string'},\n",
       "     {'metadata': {'measure': 'discrete', 'modeling_role': 'feature'},\n",
       "      'name': 'LoanPurpose',\n",
       "      'nullable': True,\n",
       "      'type': 'string'},\n",
       "     {'metadata': {'modeling_role': 'feature'},\n",
       "      'name': 'LoanAmount',\n",
       "      'nullable': True,\n",
       "      'type': 'integer'},\n",
       "     {'metadata': {'measure': 'discrete', 'modeling_role': 'feature'},\n",
       "      'name': 'ExistingSavings',\n",
       "      'nullable': True,\n",
       "      'type': 'string'},\n",
       "     {'metadata': {'measure': 'discrete', 'modeling_role': 'feature'},\n",
       "      'name': 'EmploymentDuration',\n",
       "      'nullable': True,\n",
       "      'type': 'string'},\n",
       "     {'metadata': {'modeling_role': 'feature'},\n",
       "      'name': 'InstallmentPercent',\n",
       "      'nullable': True,\n",
       "      'type': 'integer'},\n",
       "     {'metadata': {'measure': 'discrete', 'modeling_role': 'feature'},\n",
       "      'name': 'Sex',\n",
       "      'nullable': True,\n",
       "      'type': 'string'},\n",
       "     {'metadata': {'measure': 'discrete', 'modeling_role': 'feature'},\n",
       "      'name': 'OthersOnLoan',\n",
       "      'nullable': True,\n",
       "      'type': 'string'},\n",
       "     {'metadata': {'modeling_role': 'feature'},\n",
       "      'name': 'CurrentResidenceDuration',\n",
       "      'nullable': True,\n",
       "      'type': 'integer'},\n",
       "     {'metadata': {'measure': 'discrete', 'modeling_role': 'feature'},\n",
       "      'name': 'OwnsProperty',\n",
       "      'nullable': True,\n",
       "      'type': 'string'},\n",
       "     {'metadata': {'modeling_role': 'feature'},\n",
       "      'name': 'Age',\n",
       "      'nullable': True,\n",
       "      'type': 'integer'},\n",
       "     {'metadata': {'measure': 'discrete', 'modeling_role': 'feature'},\n",
       "      'name': 'InstallmentPlans',\n",
       "      'nullable': True,\n",
       "      'type': 'string'},\n",
       "     {'metadata': {'measure': 'discrete', 'modeling_role': 'feature'},\n",
       "      'name': 'Housing',\n",
       "      'nullable': True,\n",
       "      'type': 'string'},\n",
       "     {'metadata': {'modeling_role': 'feature'},\n",
       "      'name': 'ExistingCreditsCount',\n",
       "      'nullable': True,\n",
       "      'type': 'integer'},\n",
       "     {'metadata': {'measure': 'discrete', 'modeling_role': 'feature'},\n",
       "      'name': 'Job',\n",
       "      'nullable': True,\n",
       "      'type': 'string'},\n",
       "     {'metadata': {'modeling_role': 'feature'},\n",
       "      'name': 'Dependents',\n",
       "      'nullable': True,\n",
       "      'type': 'integer'},\n",
       "     {'metadata': {'measure': 'discrete', 'modeling_role': 'feature'},\n",
       "      'name': 'Telephone',\n",
       "      'nullable': True,\n",
       "      'type': 'string'},\n",
       "     {'metadata': {'measure': 'discrete', 'modeling_role': 'feature'},\n",
       "      'name': 'ForeignWorker',\n",
       "      'nullable': True,\n",
       "      'type': 'string'},\n",
       "     {'metadata': {'modeling_role': 'target'},\n",
       "      'name': 'Risk',\n",
       "      'nullable': True,\n",
       "      'type': 'string'}],\n",
       "    'type': 'struct'}},\n",
       "  'configurations': [{'enabled': True,\n",
       "    'type': 'payload_logging',\n",
       "    'url': '/v1/data_marts/38566256-4bff-407a-b9d1-f2a41c319d96/service_bindings/4ffff3c1-f98d-4270-b716-980fbee1ef0b/subscriptions/c0e9c727-a17c-48e7-b258-4a781bfa85f4/configurations/payload_logging'},\n",
       "   {'enabled': False,\n",
       "    'type': 'quality_monitoring',\n",
       "    'url': '/v1/data_marts/38566256-4bff-407a-b9d1-f2a41c319d96/service_bindings/4ffff3c1-f98d-4270-b716-980fbee1ef0b/subscriptions/c0e9c727-a17c-48e7-b258-4a781bfa85f4/configurations/quality_monitoring'},\n",
       "   {'enabled': True,\n",
       "    'type': 'performance_monitoring',\n",
       "    'url': '/v1/data_marts/38566256-4bff-407a-b9d1-f2a41c319d96/service_bindings/4ffff3c1-f98d-4270-b716-980fbee1ef0b/subscriptions/c0e9c727-a17c-48e7-b258-4a781bfa85f4/configurations/performance_monitoring'},\n",
       "   {'enabled': False,\n",
       "    'type': 'fairness_monitoring',\n",
       "    'url': '/v1/data_marts/38566256-4bff-407a-b9d1-f2a41c319d96/service_bindings/4ffff3c1-f98d-4270-b716-980fbee1ef0b/subscriptions/c0e9c727-a17c-48e7-b258-4a781bfa85f4/configurations/fairness_monitoring'},\n",
       "   {'enabled': False,\n",
       "    'type': 'explainability',\n",
       "    'url': '/v1/data_marts/38566256-4bff-407a-b9d1-f2a41c319d96/service_bindings/4ffff3c1-f98d-4270-b716-980fbee1ef0b/subscriptions/c0e9c727-a17c-48e7-b258-4a781bfa85f4/configurations/explainability'}],\n",
       "  'deployments': [{'created_at': '2019-02-25T15:15:21.125Z',\n",
       "    'deployment_id': 'a5900b2a-7085-46bb-b759-4410150e76cd',\n",
       "    'deployment_rn': '',\n",
       "    'deployment_type': 'online',\n",
       "    'name': 'Spark German Risk Deployment - Final',\n",
       "    'scoring_endpoint': {'request_headers': {'Content-Type': 'application/json'},\n",
       "     'url': 'https://us-south.ml.cloud.ibm.com/v3/wml_instances/4ffff3c1-f98d-4270-b716-980fbee1ef0b/deployments/a5900b2a-7085-46bb-b759-4410150e76cd/online'},\n",
       "    'url': 'https://us-south.ml.cloud.ibm.com/v3/wml_instances/4ffff3c1-f98d-4270-b716-980fbee1ef0b/deployments/a5900b2a-7085-46bb-b759-4410150e76cd'}],\n",
       "  'service_binding_id': '4ffff3c1-f98d-4270-b716-980fbee1ef0b',\n",
       "  'status': {'state': 'active'}},\n",
       " 'metadata': {'created_at': '2019-02-25T15:15:35.343Z',\n",
       "  'guid': 'c0e9c727-a17c-48e7-b258-4a781bfa85f4',\n",
       "  'modified_at': '2019-02-25T15:15:36.735Z',\n",
       "  'url': '/v1/data_marts/38566256-4bff-407a-b9d1-f2a41c319d96/service_bindings/4ffff3c1-f98d-4270-b716-980fbee1ef0b/subscriptions/c0e9c727-a17c-48e7-b258-4a781bfa85f4'}}"
      ]
     },
     "execution_count": 33,
     "metadata": {},
     "output_type": "execute_result"
    }
   ],
   "source": [
    "subscription.get_details()"
   ]
  },
  {
   "cell_type": "markdown",
   "metadata": {},
   "source": [
    "### Score the model so we can configure monitors"
   ]
  },
  {
   "cell_type": "code",
   "execution_count": 34,
   "metadata": {
    "scrolled": true
   },
   "outputs": [
    {
     "name": "stdout",
     "output_type": "stream",
     "text": [
      "a5900b2a-7085-46bb-b759-4410150e76cd\n",
      "https://us-south.ml.cloud.ibm.com/v3/wml_instances/4ffff3c1-f98d-4270-b716-980fbee1ef0b/deployments/a5900b2a-7085-46bb-b759-4410150e76cd/online\n"
     ]
    }
   ],
   "source": [
    "credit_risk_scoring_endpoint = None\n",
    "print(deployment_uid)\n",
    "\n",
    "for deployment in wml_client.deployments.get_details()['resources']:\n",
    "    if deployment_uid in deployment['metadata']['guid']:\n",
    "        credit_risk_scoring_endpoint = deployment['entity']['scoring_url']\n",
    "        \n",
    "print(credit_risk_scoring_endpoint)"
   ]
  },
  {
   "cell_type": "code",
   "execution_count": 35,
   "metadata": {
    "scrolled": true
   },
   "outputs": [
    {
     "name": "stdout",
     "output_type": "stream",
     "text": [
      "{'fields': ['CheckingStatus', 'LoanDuration', 'CreditHistory', 'LoanPurpose', 'LoanAmount', 'ExistingSavings', 'EmploymentDuration', 'InstallmentPercent', 'Sex', 'OthersOnLoan', 'CurrentResidenceDuration', 'OwnsProperty', 'Age', 'InstallmentPlans', 'Housing', 'ExistingCreditsCount', 'Job', 'Dependents', 'Telephone', 'ForeignWorker', 'CheckingStatus_IX', 'CreditHistory_IX', 'EmploymentDuration_IX', 'ExistingSavings_IX', 'ForeignWorker_IX', 'Housing_IX', 'InstallmentPlans_IX', 'Job_IX', 'LoanPurpose_IX', 'OthersOnLoan_IX', 'OwnsProperty_IX', 'Sex_IX', 'Telephone_IX', 'features', 'rawPrediction', 'probability', 'prediction', 'predictedLabel'], 'values': [['no_checking', 13, 'credits_paid_to_date', 'car_new', 1343, '100_to_500', '1_to_4', 2, 'female', 'none', 3, 'savings_insurance', 46, 'none', 'own', 2, 'skilled', 1, 'none', 'yes', 0.0, 1.0, 0.0, 1.0, 0.0, 0.0, 0.0, 0.0, 0.0, 0.0, 0.0, 1.0, 0.0, [21, [1, 3, 5, 13, 14, 15, 16, 17, 18, 19, 20], [1.0, 1.0, 1.0, 13.0, 1343.0, 2.0, 3.0, 13.0, 46.0, 2.0, 1.0]], [14.532111848309459, 5.46788815169054], [0.726605592415473, 0.27339440758452704], 0.0, 'No Risk'], ['no_checking', 24, 'prior_payments_delayed', 'furniture', 4567, '500_to_1000', '1_to_4', 4, 'male', 'none', 4, 'savings_insurance', 36, 'none', 'free', 2, 'management_self-employed', 1, 'none', 'yes', 0.0, 0.0, 0.0, 2.0, 0.0, 2.0, 0.0, 2.0, 1.0, 0.0, 0.0, 0.0, 0.0, [21, [2, 3, 9, 10, 13, 14, 15, 16, 17, 18, 19, 20], [1.0, 2.0, 2.0, 2.0, 24.0, 4567.0, 4.0, 4.0, 24.0, 36.0, 2.0, 1.0]], [13.443508004245858, 6.5564919957541425], [0.6721754002122929, 0.3278245997877071], 0.0, 'No Risk'], ['0_to_200', 26, 'all_credits_paid_back', 'car_new', 863, 'less_100', 'less_1', 2, 'female', 'co-applicant', 2, 'real_estate', 38, 'none', 'own', 1, 'skilled', 1, 'none', 'yes', 2.0, 3.0, 3.0, 0.0, 0.0, 0.0, 0.0, 0.0, 0.0, 1.0, 2.0, 1.0, 0.0, [2.0, 3.0, 0.0, 0.0, 3.0, 1.0, 1.0, 2.0, 0.0, 0.0, 0.0, 0.0, 0.0, 26.0, 863.0, 2.0, 2.0, 26.0, 38.0, 1.0, 1.0], [17.658783497362993, 2.3412165026370104], [0.8829391748681495, 0.1170608251318505], 0.0, 'No Risk'], ['0_to_200', 14, 'no_credits', 'car_new', 2368, 'less_100', '1_to_4', 3, 'female', 'none', 3, 'real_estate', 29, 'none', 'own', 1, 'skilled', 1, 'none', 'yes', 2.0, 4.0, 0.0, 0.0, 0.0, 0.0, 0.0, 0.0, 0.0, 0.0, 2.0, 1.0, 0.0, [21, [0, 1, 5, 7, 13, 14, 15, 16, 17, 18, 19, 20], [2.0, 4.0, 1.0, 2.0, 14.0, 2368.0, 3.0, 3.0, 14.0, 29.0, 1.0, 1.0]], [17.965247472056568, 2.034752527943427], [0.8982623736028287, 0.10173762639717138], 0.0, 'No Risk'], ['0_to_200', 4, 'no_credits', 'car_new', 250, 'less_100', 'unemployed', 2, 'female', 'none', 3, 'real_estate', 23, 'none', 'rent', 1, 'management_self-employed', 1, 'none', 'yes', 2.0, 4.0, 4.0, 0.0, 0.0, 1.0, 0.0, 2.0, 0.0, 0.0, 2.0, 1.0, 0.0, [2.0, 4.0, 0.0, 0.0, 4.0, 1.0, 0.0, 2.0, 0.0, 1.0, 2.0, 0.0, 0.0, 4.0, 250.0, 2.0, 3.0, 4.0, 23.0, 1.0, 1.0], [19.10237599108667, 0.897624008913328], [0.9551187995543335, 0.0448812004456664], 0.0, 'No Risk'], ['no_checking', 17, 'credits_paid_to_date', 'car_new', 832, '100_to_500', '1_to_4', 2, 'male', 'none', 2, 'real_estate', 42, 'none', 'own', 1, 'skilled', 1, 'none', 'yes', 0.0, 1.0, 0.0, 1.0, 0.0, 0.0, 0.0, 0.0, 0.0, 0.0, 2.0, 0.0, 0.0, [21, [1, 3, 7, 13, 14, 15, 16, 17, 18, 19, 20], [1.0, 1.0, 2.0, 17.0, 832.0, 2.0, 2.0, 17.0, 42.0, 1.0, 1.0]], [16.818216519268557, 3.1817834807314425], [0.8409108259634278, 0.15908917403657213], 0.0, 'No Risk'], ['no_checking', 33, 'outstanding_credit', 'appliances', 5696, 'unknown', 'greater_7', 4, 'male', 'co-applicant', 4, 'unknown', 54, 'none', 'free', 2, 'skilled', 1, 'yes', 'yes', 0.0, 2.0, 2.0, 4.0, 0.0, 2.0, 0.0, 0.0, 4.0, 1.0, 3.0, 0.0, 1.0, [0.0, 2.0, 4.0, 4.0, 2.0, 0.0, 1.0, 3.0, 0.0, 2.0, 0.0, 1.0, 0.0, 33.0, 5696.0, 4.0, 4.0, 33.0, 54.0, 2.0, 1.0], [2.0111698223354737, 17.988830177664525], [0.10055849111677369, 0.8994415088832263], 1.0, 'Risk'], ['0_to_200', 13, 'prior_payments_delayed', 'retraining', 1375, '100_to_500', '4_to_7', 3, 'male', 'none', 3, 'real_estate', 37, 'none', 'own', 2, 'management_self-employed', 1, 'none', 'yes', 2.0, 0.0, 1.0, 1.0, 0.0, 0.0, 0.0, 2.0, 8.0, 0.0, 2.0, 0.0, 0.0, [2.0, 0.0, 8.0, 1.0, 1.0, 0.0, 0.0, 2.0, 0.0, 0.0, 2.0, 0.0, 0.0, 13.0, 1375.0, 3.0, 3.0, 13.0, 37.0, 2.0, 1.0], [15.76339131395155, 4.236608686048454], [0.7881695656975773, 0.21183043430242265], 0.0, 'No Risk']]}\n"
     ]
    }
   ],
   "source": [
    "fields = [\"CheckingStatus\",\"LoanDuration\",\"CreditHistory\",\"LoanPurpose\",\"LoanAmount\",\"ExistingSavings\",\"EmploymentDuration\",\"InstallmentPercent\",\"Sex\",\"OthersOnLoan\",\"CurrentResidenceDuration\",\"OwnsProperty\",\"Age\",\"InstallmentPlans\",\"Housing\",\"ExistingCreditsCount\",\"Job\",\"Dependents\",\"Telephone\",\"ForeignWorker\"]\n",
    "values = [\n",
    "  [\"no_checking\",13,\"credits_paid_to_date\",\"car_new\",1343,\"100_to_500\",\"1_to_4\",2,\"female\",\"none\",3,\"savings_insurance\",46,\"none\",\"own\",2,\"skilled\",1,\"none\",\"yes\"],\n",
    "  [\"no_checking\",24,\"prior_payments_delayed\",\"furniture\",4567,\"500_to_1000\",\"1_to_4\",4,\"male\",\"none\",4,\"savings_insurance\",36,\"none\",\"free\",2,\"management_self-employed\",1,\"none\",\"yes\"],\n",
    "  [\"0_to_200\",26,\"all_credits_paid_back\",\"car_new\",863,\"less_100\",\"less_1\",2,\"female\",\"co-applicant\",2,\"real_estate\",38,\"none\",\"own\",1,\"skilled\",1,\"none\",\"yes\"],\n",
    "  [\"0_to_200\",14,\"no_credits\",\"car_new\",2368,\"less_100\",\"1_to_4\",3,\"female\",\"none\",3,\"real_estate\",29,\"none\",\"own\",1,\"skilled\",1,\"none\",\"yes\"],\n",
    "  [\"0_to_200\",4,\"no_credits\",\"car_new\",250,\"less_100\",\"unemployed\",2,\"female\",\"none\",3,\"real_estate\",23,\"none\",\"rent\",1,\"management_self-employed\",1,\"none\",\"yes\"],\n",
    "  [\"no_checking\",17,\"credits_paid_to_date\",\"car_new\",832,\"100_to_500\",\"1_to_4\",2,\"male\",\"none\",2,\"real_estate\",42,\"none\",\"own\",1,\"skilled\",1,\"none\",\"yes\"],\n",
    "  [\"no_checking\",33,\"outstanding_credit\",\"appliances\",5696,\"unknown\",\"greater_7\",4,\"male\",\"co-applicant\",4,\"unknown\",54,\"none\",\"free\",2,\"skilled\",1,\"yes\",\"yes\"],\n",
    "  [\"0_to_200\",13,\"prior_payments_delayed\",\"retraining\",1375,\"100_to_500\",\"4_to_7\",3,\"male\",\"none\",3,\"real_estate\",37,\"none\",\"own\",2,\"management_self-employed\",1,\"none\",\"yes\"]\n",
    "]\n",
    "\n",
    "payload_scoring = {\"fields\": fields,\"values\": values}\n",
    "scoring_response = wml_client.deployments.score(credit_risk_scoring_endpoint, payload_scoring)\n",
    "\n",
    "print(scoring_response)"
   ]
  },
  {
   "cell_type": "markdown",
   "metadata": {},
   "source": [
    "## Quality and feedback monitoring"
   ]
  },
  {
   "cell_type": "markdown",
   "metadata": {},
   "source": [
    "### Enable quality monitoring"
   ]
  },
  {
   "cell_type": "markdown",
   "metadata": {},
   "source": [
    "Wait ten seconds to allow the payload logging table to be set up before we begin enabling monitors."
   ]
  },
  {
   "cell_type": "code",
   "execution_count": 36,
   "metadata": {
    "scrolled": true
   },
   "outputs": [],
   "source": [
    "time.sleep(10)\n",
    "subscription.quality_monitoring.enable(threshold=0.7, min_records=50)"
   ]
  },
  {
   "cell_type": "markdown",
   "metadata": {},
   "source": [
    "### Feedback logging"
   ]
  },
  {
   "cell_type": "code",
   "execution_count": 37,
   "metadata": {},
   "outputs": [
    {
     "name": "stdout",
     "output_type": "stream",
     "text": [
      "--2019-02-25 15:15:48--  https://raw.githubusercontent.com/emartensibm/german-credit/master/additional_feedback_data.json\r\n",
      "Resolving raw.githubusercontent.com (raw.githubusercontent.com)... 151.101.48.133\r\n",
      "Connecting to raw.githubusercontent.com (raw.githubusercontent.com)|151.101.48.133|:443... connected.\r\n",
      "HTTP request sent, awaiting response... 200 OK\r\n",
      "Length: 16506 (16K) [text/plain]\r\n",
      "Saving to: 'additional_feedback_data.json'\r\n",
      "\r\n",
      "additional_feedback 100%[===================>]  16.12K  --.-KB/s    in 0s      \r\n",
      "\r\n",
      "2019-02-25 15:15:49 (65.1 MB/s) - 'additional_feedback_data.json' saved [16506/16506]\r\n",
      "\r\n"
     ]
    }
   ],
   "source": [
    "!rm additional_feedback_data.json\n",
    "!wget https://raw.githubusercontent.com/emartensibm/german-credit/master/additional_feedback_data.json"
   ]
  },
  {
   "cell_type": "code",
   "execution_count": 38,
   "metadata": {},
   "outputs": [],
   "source": [
    "with open('additional_feedback_data.json') as feedback_file:\n",
    "    additional_feedback_data = json.load(feedback_file)\n",
    "subscription.feedback_logging.store(additional_feedback_data['data'])"
   ]
  },
  {
   "cell_type": "code",
   "execution_count": 39,
   "metadata": {
    "scrolled": true
   },
   "outputs": [
    {
     "name": "stdout",
     "output_type": "stream",
     "text": [
      "e4e6d4c9-babe-4895-82bd-75f2c1f5f8af\n",
      "Run status: initializing\n",
      "Run status: completed\n"
     ]
    }
   ],
   "source": [
    "run_details = subscription.quality_monitoring.run()\n",
    "status = run_details['status']\n",
    "id = run_details['id']\n",
    "print(id)\n",
    "\n",
    "print(\"Run status: {}\".format(status))\n",
    "\n",
    "start_time = time.time()\n",
    "elapsed_time = 0\n",
    "\n",
    "while status != 'completed' and elapsed_time < 60:\n",
    "    time.sleep(10)\n",
    "    run_details = subscription.quality_monitoring.get_run_details(run_uid=id)\n",
    "    status = run_details['status']\n",
    "    elapsed_time = time.time() - start_time\n",
    "    print(\"Run status: {}\".format(status))"
   ]
  },
  {
   "cell_type": "code",
   "execution_count": 40,
   "metadata": {
    "scrolled": true
   },
   "outputs": [
    {
     "data": {
      "text/plain": [
       "{'evaluations': [{'completed_at': '2019-02-25T15:15:59.810Z',\n",
       "   'data_mart_id': '38566256-4bff-407a-b9d1-f2a41c319d96',\n",
       "   'flags': {'batch_size': 1000,\n",
       "    'fetch_size': 1000,\n",
       "    'parallelism': 4,\n",
       "    'window_in_millis': 2000},\n",
       "   'id': 'e4e6d4c9-babe-4895-82bd-75f2c1f5f8af',\n",
       "   'metrics': {'areaUnderPR': 0.3975125403696832,\n",
       "    'areaUnderROC': 0.7701388888888888},\n",
       "   'problem_type': 'binary',\n",
       "   'rows_in_range': 98,\n",
       "   'rows_max': 10000,\n",
       "   'rows_min': 50,\n",
       "   'service_binding_id': '4ffff3c1-f98d-4270-b716-980fbee1ef0b',\n",
       "   'stages': [{'completed_at': '2019-02-25T15:15:50.099Z',\n",
       "     'id': 1,\n",
       "     'name': 'Prerequisite check',\n",
       "     'properties': {'input_columns': ['CheckingStatus',\n",
       "       'LoanDuration',\n",
       "       'CreditHistory',\n",
       "       'LoanPurpose',\n",
       "       'LoanAmount',\n",
       "       'ExistingSavings',\n",
       "       'EmploymentDuration',\n",
       "       'InstallmentPercent',\n",
       "       'Sex',\n",
       "       'OthersOnLoan',\n",
       "       'CurrentResidenceDuration',\n",
       "       'OwnsProperty',\n",
       "       'Age',\n",
       "       'InstallmentPlans',\n",
       "       'Housing',\n",
       "       'ExistingCreditsCount',\n",
       "       'Job',\n",
       "       'Dependents',\n",
       "       'Telephone',\n",
       "       'ForeignWorker'],\n",
       "      'training_columns': ['CheckingStatus',\n",
       "       'LoanDuration',\n",
       "       'CreditHistory',\n",
       "       'LoanPurpose',\n",
       "       'LoanAmount',\n",
       "       'ExistingSavings',\n",
       "       'EmploymentDuration',\n",
       "       'InstallmentPercent',\n",
       "       'Sex',\n",
       "       'OthersOnLoan',\n",
       "       'CurrentResidenceDuration',\n",
       "       'OwnsProperty',\n",
       "       'Age',\n",
       "       'InstallmentPlans',\n",
       "       'Housing',\n",
       "       'ExistingCreditsCount',\n",
       "       'Job',\n",
       "       'Dependents',\n",
       "       'Telephone',\n",
       "       'ForeignWorker',\n",
       "       'Risk']},\n",
       "     'started_at': '2019-02-25T15:15:49.889Z'},\n",
       "    {'completed_at': '2019-02-25T15:15:50.111Z',\n",
       "     'id': 2,\n",
       "     'name': 'Acquire scorer',\n",
       "     'properties': {'scorer': {'guid': '46a5294e-3e22-457f-950d-3cfb7a855ede'}},\n",
       "     'started_at': '2019-02-25T15:15:50.111Z'},\n",
       "    {'completed_at': '2019-02-25T15:15:59.723Z',\n",
       "     'id': 3,\n",
       "     'name': 'Score batch',\n",
       "     'properties': {'batch_size': 98},\n",
       "     'started_at': '2019-02-25T15:15:50.130Z'},\n",
       "    {'id': 4,\n",
       "     'name': 'Release scorer',\n",
       "     'started_at': '2019-02-25T15:15:59.810Z'}],\n",
       "   'started_at': '2019-02-25T15:15:49.889Z',\n",
       "   'status': 'completed',\n",
       "   'subscription_id': 'c0e9c727-a17c-48e7-b258-4a781bfa85f4',\n",
       "   'threshold': 0.7}]}"
      ]
     },
     "execution_count": 40,
     "metadata": {},
     "output_type": "execute_result"
    }
   ],
   "source": [
    "subscription.quality_monitoring.get_run_details()"
   ]
  },
  {
   "cell_type": "code",
   "execution_count": 41,
   "metadata": {
    "scrolled": true
   },
   "outputs": [
    {
     "data": {
      "text/html": [
       "<HTML>\n",
       "        <body>\n",
       "            <h3>QualityMetrics (binding_id=4ffff3c1-f98d-4270-b716-980fbee1ef0b, subscription_id=c0e9c727-a17c-48e7-b258-4a781bfa85f4)</h3>\n",
       "            <table style='border: 1px solid #dddddd; font-family: Courier'>\n",
       "                <th style='border: 1px solid #dddddd'>ts</th><th style='border: 1px solid #dddddd'>quality</th><th style='border: 1px solid #dddddd'>quality_threshold</th><th style='border: 1px solid #dddddd'>binding_id</th><th style='border: 1px solid #dddddd'>subscription_id</th><th style='border: 1px solid #dddddd'>deployment_id</th><th style='border: 1px solid #dddddd'>process</th><th style='border: 1px solid #dddddd'>asset_revision</th>\n",
       "                \n",
       "            </table>\n",
       "        </body>\n",
       "        </HTML>"
      ],
      "text/plain": [
       "<IPython.core.display.HTML object>"
      ]
     },
     "metadata": {},
     "output_type": "display_data"
    }
   ],
   "source": [
    "subscription.quality_monitoring.show_table()"
   ]
  },
  {
   "cell_type": "code",
   "execution_count": 42,
   "metadata": {
    "scrolled": true
   },
   "outputs": [
    {
     "data": {
      "text/plain": [
       "[[datetime.datetime(2019, 2, 25, 15, 15, 49, 889000, tzinfo=tzlocal()),\n",
       "  0.7701388888888888,\n",
       "  0.7,\n",
       "  '4ffff3c1-f98d-4270-b716-980fbee1ef0b',\n",
       "  'c0e9c727-a17c-48e7-b258-4a781bfa85f4',\n",
       "  'a5900b2a-7085-46bb-b759-4410150e76cd',\n",
       "  'Accuracy_evaluation_e4e6d4c9-babe-4895-82bd-75f2c1f5f8af',\n",
       "  '']]"
      ]
     },
     "execution_count": 42,
     "metadata": {},
     "output_type": "execute_result"
    }
   ],
   "source": [
    "subscription.quality_monitoring._get_data_from_rest_api()"
   ]
  },
  {
   "cell_type": "code",
   "execution_count": 43,
   "metadata": {
    "scrolled": true
   },
   "outputs": [
    {
     "data": {
      "text/plain": [
       "{'deployment_metrics': [{'asset': {'asset_id': 'c0e9c727-a17c-48e7-b258-4a781bfa85f4',\n",
       "    'asset_type': 'model',\n",
       "    'created_at': '2019-02-25T15:15:08.764Z',\n",
       "    'name': 'Spark German Risk Model - Final',\n",
       "    'url': 'https://us-south.ml.cloud.ibm.com/v3/wml_instances/4ffff3c1-f98d-4270-b716-980fbee1ef0b/published_models/c0e9c727-a17c-48e7-b258-4a781bfa85f4'},\n",
       "   'deployment': {'created_at': '2019-02-25T15:15:21.125Z',\n",
       "    'deployment_id': 'a5900b2a-7085-46bb-b759-4410150e76cd',\n",
       "    'deployment_rn': '',\n",
       "    'deployment_type': 'online',\n",
       "    'name': 'Spark German Risk Deployment - Final',\n",
       "    'scoring_endpoint': {'request_headers': {'Content-Type': 'application/json'},\n",
       "     'url': 'https://us-south.ml.cloud.ibm.com/v3/wml_instances/4ffff3c1-f98d-4270-b716-980fbee1ef0b/deployments/a5900b2a-7085-46bb-b759-4410150e76cd/online'},\n",
       "    'url': 'https://us-south.ml.cloud.ibm.com/v3/wml_instances/4ffff3c1-f98d-4270-b716-980fbee1ef0b/deployments/a5900b2a-7085-46bb-b759-4410150e76cd'},\n",
       "   'metrics': [{'issues': 0,\n",
       "     'metric_type': 'quality',\n",
       "     'timestamp': '2019-02-25T15:15:49.889Z',\n",
       "     'value': {'metrics': [{'name': 'areaUnderROC',\n",
       "        'value': 0.7701388888888888},\n",
       "       {'name': 'areaUnderPR', 'value': 0.3975125403696832}],\n",
       "      'quality': 0.7701388888888888,\n",
       "      'threshold': 0.7}}],\n",
       "   'subscription': {'subscription_id': 'c0e9c727-a17c-48e7-b258-4a781bfa85f4',\n",
       "    'url': '/v1/data_marts/38566256-4bff-407a-b9d1-f2a41c319d96/service_bindings/4ffff3c1-f98d-4270-b716-980fbee1ef0b/subscriptions/c0e9c727-a17c-48e7-b258-4a781bfa85f4'}}]}"
      ]
     },
     "execution_count": 43,
     "metadata": {},
     "output_type": "execute_result"
    }
   ],
   "source": [
    "ai_client.data_mart.get_deployment_metrics()"
   ]
  },
  {
   "cell_type": "markdown",
   "metadata": {},
   "source": [
    "## Fairness monitoring"
   ]
  },
  {
   "cell_type": "code",
   "execution_count": 44,
   "metadata": {
    "scrolled": true
   },
   "outputs": [],
   "source": [
    "subscription.fairness_monitoring.enable(\n",
    "            features=[\n",
    "                Feature(\"Sex\", majority=['male'], minority=['female'], threshold=0.95),\n",
    "                Feature(\"Age\", majority=[[26,75]], minority=[[18,25]], threshold=0.95)\n",
    "            ],\n",
    "            favourable_classes=['No Risk'],\n",
    "            unfavourable_classes=['Risk'],\n",
    "            min_records=1000,\n",
    "            training_data=pd_data\n",
    "        )"
   ]
  },
  {
   "cell_type": "markdown",
   "metadata": {},
   "source": [
    "## Score the model again now that monitoring is configured"
   ]
  },
  {
   "cell_type": "code",
   "execution_count": 45,
   "metadata": {},
   "outputs": [
    {
     "name": "stdout",
     "output_type": "stream",
     "text": [
      "rm: cannot remove 'german_credit_feed.json': No such file or directory\n",
      "--2019-02-25 15:16:03--  https://raw.githubusercontent.com/emartensibm/german-credit/master/german_credit_feed.json\n",
      "Resolving raw.githubusercontent.com (raw.githubusercontent.com)... 151.101.48.133\n",
      "Connecting to raw.githubusercontent.com (raw.githubusercontent.com)|151.101.48.133|:443... connected.\n",
      "HTTP request sent, awaiting response... 200 OK\n",
      "Length: 3076547 (2.9M) [text/plain]\n",
      "Saving to: 'german_credit_feed.json'\n",
      "\n",
      "german_credit_feed. 100%[===================>]   2.93M  --.-KB/s    in 0.06s   \n",
      "\n",
      "2019-02-25 15:16:03 (49.2 MB/s) - 'german_credit_feed.json' saved [3076547/3076547]\n",
      "\n"
     ]
    }
   ],
   "source": [
    "!rm german_credit_feed.json\n",
    "!wget https://raw.githubusercontent.com/emartensibm/german-credit/master/german_credit_feed.json"
   ]
  },
  {
   "cell_type": "markdown",
   "metadata": {},
   "source": [
    "Score 1000 randomly chosen records"
   ]
  },
  {
   "cell_type": "code",
   "execution_count": 46,
   "metadata": {},
   "outputs": [
    {
     "name": "stdout",
     "output_type": "stream",
     "text": [
      "{'fields': ['CheckingStatus', 'LoanDuration', 'CreditHistory', 'LoanPurpose', 'LoanAmount', 'ExistingSavings', 'EmploymentDuration', 'InstallmentPercent', 'Sex', 'OthersOnLoan', 'CurrentResidenceDuration', 'OwnsProperty', 'Age', 'InstallmentPlans', 'Housing', 'ExistingCreditsCount', 'Job', 'Dependents', 'Telephone', 'ForeignWorker', 'CheckingStatus_IX', 'CreditHistory_IX', 'EmploymentDuration_IX', 'ExistingSavings_IX', 'ForeignWorker_IX', 'Housing_IX', 'InstallmentPlans_IX', 'Job_IX', 'LoanPurpose_IX', 'OthersOnLoan_IX', 'OwnsProperty_IX', 'Sex_IX', 'Telephone_IX', 'features', 'rawPrediction', 'probability', 'prediction', 'predictedLabel'], 'values': [['less_0', 11, 'credits_paid_to_date', 'furniture', 907, 'less_100', '1_to_4', 3, 'female', 'none', 2, 'real_estate', 31, 'none', 'own', 1, 'skilled', 1, 'none', 'yes', 1.0, 1.0, 0.0, 0.0, 0.0, 0.0, 0.0, 0.0, 1.0, 0.0, 2.0, 1.0, 0.0, [1.0, 1.0, 1.0, 0.0, 0.0, 1.0, 0.0, 2.0, 0.0, 0.0, 0.0, 0.0, 0.0, 11.0, 907.0, 3.0, 2.0, 11.0, 31.0, 1.0, 1.0], [18.656135280284268, 1.34386471971573], [0.9328067640142136, 0.06719323598578651], 0.0, 'No Risk'], ['no_checking', 27, 'outstanding_credit', 'furniture', 6694, 'greater_1000', '4_to_7', 5, 'male', 'none', 5, 'unknown', 55, 'none', 'free', 2, 'skilled', 1, 'yes', 'yes', 0.0, 2.0, 1.0, 3.0, 0.0, 2.0, 0.0, 0.0, 1.0, 0.0, 3.0, 0.0, 1.0, [0.0, 2.0, 1.0, 3.0, 1.0, 0.0, 0.0, 3.0, 0.0, 2.0, 0.0, 1.0, 0.0, 27.0, 6694.0, 5.0, 5.0, 27.0, 55.0, 2.0, 1.0], [4.869814606580385, 15.130185393419614], [0.24349073032901924, 0.7565092696709808], 1.0, 'Risk'], ['no_checking', 24, 'prior_payments_delayed', 'car_used', 1617, '500_to_1000', '1_to_4', 3, 'male', 'none', 3, 'savings_insurance', 35, 'none', 'own', 1, 'skilled', 1, 'none', 'yes', 0.0, 0.0, 0.0, 2.0, 0.0, 0.0, 0.0, 0.0, 2.0, 0.0, 0.0, 0.0, 0.0, [21, [2, 3, 13, 14, 15, 16, 17, 18, 19, 20], [2.0, 2.0, 24.0, 1617.0, 3.0, 3.0, 24.0, 35.0, 1.0, 1.0]], [13.756013867593937, 6.2439861324060635], [0.6878006933796968, 0.31219930662030315], 0.0, 'No Risk'], ['0_to_200', 35, 'prior_payments_delayed', 'business', 4110, '100_to_500', '1_to_4', 3, 'male', 'none', 3, 'car_other', 33, 'none', 'rent', 2, 'skilled', 1, 'yes', 'yes', 2.0, 0.0, 0.0, 1.0, 0.0, 1.0, 0.0, 0.0, 9.0, 0.0, 1.0, 0.0, 1.0, [2.0, 0.0, 9.0, 1.0, 0.0, 0.0, 0.0, 1.0, 0.0, 1.0, 0.0, 1.0, 0.0, 35.0, 4110.0, 3.0, 3.0, 35.0, 33.0, 2.0, 1.0], [12.739978557327447, 7.260021442672552], [0.6369989278663724, 0.3630010721336276], 0.0, 'No Risk'], ['less_0', 15, 'credits_paid_to_date', 'radio_tv', 250, 'less_100', '1_to_4', 1, 'male', 'none', 2, 'real_estate', 19, 'bank', 'rent', 1, 'unemployed', 1, 'none', 'yes', 1.0, 1.0, 0.0, 0.0, 0.0, 1.0, 2.0, 3.0, 3.0, 0.0, 2.0, 0.0, 0.0, [1.0, 1.0, 3.0, 0.0, 0.0, 0.0, 0.0, 2.0, 2.0, 1.0, 3.0, 0.0, 0.0, 15.0, 250.0, 1.0, 2.0, 15.0, 19.0, 1.0, 1.0], [18.825402513724946, 1.1745974862750543], [0.9412701256862472, 0.05872987431375272], 0.0, 'No Risk'], ['0_to_200', 27, 'outstanding_credit', 'radio_tv', 5276, '100_to_500', 'less_1', 3, 'female', 'none', 3, 'car_other', 32, 'none', 'own', 1, 'skilled', 1, 'yes', 'yes', 2.0, 2.0, 3.0, 1.0, 0.0, 0.0, 0.0, 0.0, 3.0, 0.0, 1.0, 1.0, 1.0, [2.0, 2.0, 3.0, 1.0, 3.0, 1.0, 0.0, 1.0, 0.0, 0.0, 0.0, 1.0, 0.0, 27.0, 5276.0, 3.0, 3.0, 27.0, 32.0, 1.0, 1.0], [13.978320146862421, 6.021679853137577], [0.6989160073431211, 0.30108399265687885], 0.0, 'No Risk'], ['no_checking', 25, 'prior_payments_delayed', 'radio_tv', 7843, '100_to_500', '4_to_7', 4, 'male', 'none', 4, 'unknown', 45, 'none', 'free', 2, 'skilled', 1, 'yes', 'yes', 0.0, 0.0, 1.0, 1.0, 0.0, 2.0, 0.0, 0.0, 3.0, 0.0, 3.0, 0.0, 1.0, [0.0, 0.0, 3.0, 1.0, 1.0, 0.0, 0.0, 3.0, 0.0, 2.0, 0.0, 1.0, 0.0, 25.0, 7843.0, 4.0, 4.0, 25.0, 45.0, 2.0, 1.0], [7.3148595576047155, 12.685140442395284], [0.3657429778802358, 0.6342570221197642], 1.0, 'Risk'], ['no_checking', 33, 'outstanding_credit', 'furniture', 4613, 'greater_1000', '4_to_7', 4, 'male', 'none', 5, 'unknown', 51, 'none', 'own', 2, 'skilled', 2, 'yes', 'yes', 0.0, 2.0, 1.0, 3.0, 0.0, 0.0, 0.0, 0.0, 1.0, 0.0, 3.0, 0.0, 1.0, [0.0, 2.0, 1.0, 3.0, 1.0, 0.0, 0.0, 3.0, 0.0, 0.0, 0.0, 1.0, 0.0, 33.0, 4613.0, 4.0, 5.0, 33.0, 51.0, 2.0, 2.0], [5.1573330329551075, 14.842666967044893], [0.25786665164775535, 0.7421333483522446], 1.0, 'Risk'], ['no_checking', 32, 'prior_payments_delayed', 'appliances', 6344, '500_to_1000', '4_to_7', 3, 'male', 'none', 3, 'savings_insurance', 37, 'none', 'own', 1, 'skilled', 1, 'none', 'no', 0.0, 0.0, 1.0, 2.0, 1.0, 0.0, 0.0, 0.0, 4.0, 0.0, 0.0, 0.0, 0.0, [21, [2, 3, 4, 12, 13, 14, 15, 16, 17, 18, 19, 20], [4.0, 2.0, 1.0, 1.0, 32.0, 6344.0, 3.0, 3.0, 32.0, 37.0, 1.0, 1.0]], [11.247739920256103, 8.752260079743898], [0.5623869960128052, 0.43761300398719494], 0.0, 'No Risk'], ['0_to_200', 33, 'prior_payments_delayed', 'radio_tv', 2756, '100_to_500', 'less_1', 2, 'female', 'none', 3, 'real_estate', 27, 'none', 'own', 2, 'skilled', 1, 'yes', 'yes', 2.0, 0.0, 3.0, 1.0, 0.0, 0.0, 0.0, 0.0, 3.0, 0.0, 2.0, 1.0, 1.0, [2.0, 0.0, 3.0, 1.0, 3.0, 1.0, 0.0, 2.0, 0.0, 0.0, 0.0, 1.0, 0.0, 33.0, 2756.0, 2.0, 3.0, 33.0, 27.0, 2.0, 1.0], [15.03285779893086, 4.9671422010691435], [0.7516428899465428, 0.24835711005345712], 0.0, 'No Risk'], ['0_to_200', 14, 'credits_paid_to_date', 'furniture', 4381, 'less_100', '1_to_4', 3, 'male', 'none', 4, 'car_other', 35, 'none', 'own', 2, 'skilled', 1, 'none', 'yes', 2.0, 1.0, 0.0, 0.0, 0.0, 0.0, 0.0, 0.0, 1.0, 0.0, 1.0, 0.0, 0.0, [21, [0, 1, 2, 7, 13, 14, 15, 16, 17, 18, 19, 20], [2.0, 1.0, 1.0, 1.0, 14.0, 4381.0, 3.0, 4.0, 14.0, 35.0, 2.0, 1.0]], [12.068385093030214, 7.931614906969785], [0.6034192546515107, 0.39658074534848925], 0.0, 'No Risk'], ['no_checking', 9, 'credits_paid_to_date', 'car_new', 2549, 'less_100', '1_to_4', 2, 'female', 'none', 3, 'real_estate', 47, 'none', 'free', 1, 'management_self-employed', 1, 'yes', 'yes', 0.0, 1.0, 0.0, 0.0, 0.0, 2.0, 0.0, 2.0, 0.0, 0.0, 2.0, 1.0, 1.0, [0.0, 1.0, 0.0, 0.0, 0.0, 1.0, 0.0, 2.0, 0.0, 2.0, 2.0, 1.0, 0.0, 9.0, 2549.0, 2.0, 3.0, 9.0, 47.0, 1.0, 1.0], [15.118164824677434, 4.881835175322568], [0.7559082412338717, 0.24409175876612837], 0.0, 'No Risk'], ['no_checking', 29, 'outstanding_credit', 'appliances', 10988, '500_to_1000', '4_to_7', 4, 'male', 'co-applicant', 4, 'unknown', 52, 'stores', 'own', 2, 'unskilled', 2, 'yes', 'no', 0.0, 2.0, 1.0, 2.0, 1.0, 0.0, 1.0, 1.0, 4.0, 1.0, 3.0, 0.0, 1.0, [0.0, 2.0, 4.0, 2.0, 1.0, 0.0, 1.0, 3.0, 1.0, 0.0, 1.0, 1.0, 1.0, 29.0, 10988.0, 4.0, 4.0, 29.0, 52.0, 2.0, 2.0], [4.43825817916235, 15.561741820837648], [0.2219129089581175, 0.7780870910418825], 1.0, 'Risk'], ['less_0', 16, 'credits_paid_to_date', 'furniture', 1080, 'less_100', '4_to_7', 3, 'female', 'none', 3, 'car_other', 33, 'none', 'own', 1, 'skilled', 1, 'none', 'yes', 1.0, 1.0, 1.0, 0.0, 0.0, 0.0, 0.0, 0.0, 1.0, 0.0, 1.0, 1.0, 0.0, [1.0, 1.0, 1.0, 0.0, 1.0, 1.0, 0.0, 1.0, 0.0, 0.0, 0.0, 0.0, 0.0, 16.0, 1080.0, 3.0, 3.0, 16.0, 33.0, 1.0, 1.0], [14.655898362504624, 5.344101637495372], [0.7327949181252313, 0.26720508187476866], 0.0, 'No Risk'], ['no_checking', 27, 'outstanding_credit', 'appliances', 6196, 'greater_1000', '4_to_7', 3, 'male', 'none', 3, 'unknown', 44, 'none', 'own', 2, 'skilled', 1, 'yes', 'yes', 0.0, 2.0, 1.0, 3.0, 0.0, 0.0, 0.0, 0.0, 4.0, 0.0, 3.0, 0.0, 1.0, [0.0, 2.0, 4.0, 3.0, 1.0, 0.0, 0.0, 3.0, 0.0, 0.0, 0.0, 1.0, 0.0, 27.0, 6196.0, 3.0, 3.0, 27.0, 44.0, 2.0, 1.0], [7.300921371477205, 12.699078628522791], [0.36504606857386035, 0.6349539314261397], 1.0, 'Risk'], ['no_checking', 30, 'prior_payments_delayed', 'radio_tv', 7415, 'unknown', 'greater_7', 4, 'male', 'co-applicant', 3, 'car_other', 46, 'none', 'own', 2, 'skilled', 1, 'yes', 'yes', 0.0, 0.0, 2.0, 4.0, 0.0, 0.0, 0.0, 0.0, 3.0, 1.0, 1.0, 0.0, 1.0, [0.0, 0.0, 3.0, 4.0, 2.0, 0.0, 1.0, 1.0, 0.0, 0.0, 0.0, 1.0, 0.0, 30.0, 7415.0, 4.0, 3.0, 30.0, 46.0, 2.0, 1.0], [3.3847360122667793, 16.615263987733222], [0.16923680061333896, 0.8307631993866611], 1.0, 'Risk'], ['less_0', 14, 'prior_payments_delayed', 'radio_tv', 1567, '500_to_1000', '1_to_4', 2, 'male', 'none', 1, 'real_estate', 37, 'bank', 'rent', 1, 'unemployed', 1, 'none', 'yes', 1.0, 0.0, 0.0, 2.0, 0.0, 1.0, 2.0, 3.0, 3.0, 0.0, 2.0, 0.0, 0.0, [1.0, 0.0, 3.0, 2.0, 0.0, 0.0, 0.0, 2.0, 2.0, 1.0, 3.0, 0.0, 0.0, 14.0, 1567.0, 2.0, 1.0, 14.0, 37.0, 1.0, 1.0], [17.900622447501192, 2.099377552498809], [0.8950311223750596, 0.10496887762494045], 0.0, 'No Risk'], ['no_checking', 36, 'prior_payments_delayed', 'appliances', 4975, '500_to_1000', '1_to_4', 4, 'male', 'none', 3, 'savings_insurance', 32, 'none', 'own', 1, 'management_self-employed', 1, 'yes', 'yes', 0.0, 0.0, 0.0, 2.0, 0.0, 0.0, 0.0, 2.0, 4.0, 0.0, 0.0, 0.0, 1.0, [21, [2, 3, 10, 11, 13, 14, 15, 16, 17, 18, 19, 20], [4.0, 2.0, 2.0, 1.0, 36.0, 4975.0, 4.0, 3.0, 36.0, 32.0, 1.0, 1.0]], [13.380784340639275, 6.619215659360728], [0.6690392170319637, 0.3309607829680364], 0.0, 'No Risk'], ['no_checking', 37, 'prior_payments_delayed', 'education', 4007, '500_to_1000', '4_to_7', 4, 'male', 'guarantor', 5, 'unknown', 52, 'bank', 'own', 2, 'unemployed', 1, 'yes', 'yes', 0.0, 0.0, 1.0, 2.0, 0.0, 0.0, 2.0, 3.0, 7.0, 2.0, 3.0, 0.0, 1.0, [0.0, 0.0, 7.0, 2.0, 1.0, 0.0, 2.0, 3.0, 2.0, 0.0, 3.0, 1.0, 0.0, 37.0, 4007.0, 4.0, 5.0, 37.0, 52.0, 2.0, 1.0], [5.633794559733396, 14.366205440266606], [0.2816897279866698, 0.7183102720133303], 1.0, 'Risk'], ['no_checking', 29, 'outstanding_credit', 'repairs', 8308, '500_to_1000', '4_to_7', 4, 'male', 'co-applicant', 3, 'unknown', 49, 'none', 'own', 2, 'skilled', 1, 'yes', 'yes', 0.0, 2.0, 1.0, 2.0, 0.0, 0.0, 0.0, 0.0, 5.0, 1.0, 3.0, 0.0, 1.0, [0.0, 2.0, 5.0, 2.0, 1.0, 0.0, 1.0, 3.0, 0.0, 0.0, 0.0, 1.0, 0.0, 29.0, 8308.0, 4.0, 3.0, 29.0, 49.0, 2.0, 1.0], [3.0595782594075778, 16.940421740592424], [0.15297891297037888, 0.8470210870296212], 1.0, 'Risk'], ['less_0', 13, 'all_credits_paid_back', 'furniture', 250, 'less_100', '4_to_7', 2, 'female', 'none', 2, 'savings_insurance', 19, 'stores', 'rent', 1, 'unskilled', 1, 'none', 'yes', 1.0, 3.0, 1.0, 0.0, 0.0, 1.0, 1.0, 1.0, 1.0, 0.0, 0.0, 1.0, 0.0, [1.0, 3.0, 1.0, 0.0, 1.0, 1.0, 0.0, 0.0, 1.0, 1.0, 1.0, 0.0, 0.0, 13.0, 250.0, 2.0, 2.0, 13.0, 19.0, 1.0, 1.0], [17.99116687322698, 2.008833126773019], [0.899558343661349, 0.10044165633865094], 0.0, 'No Risk'], ['no_checking', 31, 'prior_payments_delayed', 'car_used', 5217, 'unknown', '1_to_4', 4, 'male', 'none', 3, 'savings_insurance', 44, 'none', 'own', 2, 'skilled', 1, 'yes', 'yes', 0.0, 0.0, 0.0, 4.0, 0.0, 0.0, 0.0, 0.0, 2.0, 0.0, 0.0, 0.0, 1.0, [21, [2, 3, 11, 13, 14, 15, 16, 17, 18, 19, 20], [2.0, 4.0, 1.0, 31.0, 5217.0, 4.0, 3.0, 31.0, 44.0, 2.0, 1.0]], [11.665574188733997, 8.334425811266005], [0.5832787094366998, 0.41672129056330026], 0.0, 'No Risk'], ['no_checking', 26, 'credits_paid_to_date', 'furniture', 5700, '100_to_500', '1_to_4', 2, 'female', 'guarantor', 4, 'unknown', 48, 'none', 'free', 2, 'skilled', 1, 'yes', 'yes', 0.0, 1.0, 0.0, 1.0, 0.0, 2.0, 0.0, 0.0, 1.0, 2.0, 3.0, 1.0, 1.0, [0.0, 1.0, 1.0, 1.0, 0.0, 1.0, 2.0, 3.0, 0.0, 2.0, 0.0, 1.0, 0.0, 26.0, 5700.0, 2.0, 4.0, 26.0, 48.0, 2.0, 1.0], [8.180580854141198, 11.819419145858802], [0.40902904270705986, 0.5909709572929401], 1.0, 'Risk'], ['no_checking', 8, 'credits_paid_to_date', 'furniture', 5227, '500_to_1000', '4_to_7', 4, 'female', 'none', 4, 'car_other', 31, 'none', 'own', 1, 'skilled', 1, 'yes', 'yes', 0.0, 1.0, 1.0, 2.0, 0.0, 0.0, 0.0, 0.0, 1.0, 0.0, 1.0, 1.0, 1.0, [0.0, 1.0, 1.0, 2.0, 1.0, 1.0, 0.0, 1.0, 0.0, 0.0, 0.0, 1.0, 0.0, 8.0, 5227.0, 4.0, 4.0, 8.0, 31.0, 1.0, 1.0], [9.325650516406998, 10.674349483593007], [0.46628252582034974, 0.5337174741796501], 1.0, 'Risk'], ['0_to_200', 4, 'all_credits_paid_back', 'car_used', 4548, 'less_100', 'unemployed', 2, 'female', 'co-applicant', 3, 'real_estate', 19, 'none', 'own', 1, 'management_self-employed', 1, 'none', 'yes', 2.0, 3.0, 4.0, 0.0, 0.0, 0.0, 0.0, 2.0, 2.0, 1.0, 2.0, 1.0, 0.0, [2.0, 3.0, 2.0, 0.0, 4.0, 1.0, 1.0, 2.0, 0.0, 0.0, 2.0, 0.0, 0.0, 4.0, 4548.0, 2.0, 3.0, 4.0, 19.0, 1.0, 1.0], [19.016336518734427, 0.9836634812655691], [0.9508168259367216, 0.04918317406327846], 0.0, 'No Risk'], ['less_0', 4, 'no_credits', 'car_new', 250, 'less_100', 'unemployed', 1, 'male', 'none', 1, 'real_estate', 19, 'none', 'rent', 1, 'skilled', 1, 'none', 'yes', 1.0, 4.0, 4.0, 0.0, 0.0, 1.0, 0.0, 0.0, 0.0, 0.0, 2.0, 0.0, 0.0, [1.0, 4.0, 0.0, 0.0, 4.0, 0.0, 0.0, 2.0, 0.0, 1.0, 0.0, 0.0, 0.0, 4.0, 250.0, 1.0, 1.0, 4.0, 19.0, 1.0, 1.0], [19.650674735488856, 0.34932526451114065], [0.982533736774443, 0.017466263225557034], 0.0, 'No Risk'], ['less_0', 13, 'prior_payments_delayed', 'furniture', 6296, 'less_100', '4_to_7', 3, 'male', 'none', 3, 'unknown', 27, 'none', 'own', 1, 'skilled', 1, 'none', 'yes', 1.0, 0.0, 1.0, 0.0, 0.0, 0.0, 0.0, 0.0, 1.0, 0.0, 3.0, 0.0, 0.0, [21, [0, 2, 4, 7, 13, 14, 15, 16, 17, 18, 19, 20], [1.0, 1.0, 1.0, 3.0, 13.0, 6296.0, 3.0, 3.0, 13.0, 27.0, 1.0, 1.0]], [15.984358072546197, 4.0156419274537996], [0.7992179036273099, 0.20078209637269], 0.0, 'No Risk'], ['no_checking', 37, 'prior_payments_delayed', 'appliances', 4351, '500_to_1000', 'greater_7', 4, 'male', 'co-applicant', 3, 'car_other', 56, 'none', 'free', 2, 'skilled', 1, 'yes', 'yes', 0.0, 0.0, 2.0, 2.0, 0.0, 2.0, 0.0, 0.0, 4.0, 1.0, 1.0, 0.0, 1.0, [0.0, 0.0, 4.0, 2.0, 2.0, 0.0, 1.0, 1.0, 0.0, 2.0, 0.0, 1.0, 0.0, 37.0, 4351.0, 4.0, 3.0, 37.0, 56.0, 2.0, 1.0], [2.867158106564557, 17.132841893435444], [0.14335790532822784, 0.8566420946717722], 1.0, 'Risk'], ['no_checking', 10, 'credits_paid_to_date', 'furniture', 2741, '100_to_500', 'unemployed', 1, 'female', 'none', 3, 'car_other', 45, 'none', 'own', 2, 'management_self-employed', 1, 'none', 'yes', 0.0, 1.0, 4.0, 1.0, 0.0, 0.0, 0.0, 2.0, 1.0, 0.0, 1.0, 1.0, 0.0, [0.0, 1.0, 1.0, 1.0, 4.0, 1.0, 0.0, 1.0, 0.0, 0.0, 2.0, 0.0, 0.0, 10.0, 2741.0, 1.0, 3.0, 10.0, 45.0, 2.0, 1.0], [11.575531476511957, 8.424468523488041], [0.5787765738255979, 0.42122342617440206], 0.0, 'No Risk'], ['0_to_200', 14, 'prior_payments_delayed', 'repairs', 3450, 'greater_1000', '1_to_4', 3, 'male', 'none', 3, 'car_other', 38, 'none', 'rent', 1, 'skilled', 1, 'yes', 'yes', 2.0, 0.0, 0.0, 3.0, 0.0, 1.0, 0.0, 0.0, 5.0, 0.0, 1.0, 0.0, 1.0, [2.0, 0.0, 5.0, 3.0, 0.0, 0.0, 0.0, 1.0, 0.0, 1.0, 0.0, 1.0, 0.0, 14.0, 3450.0, 3.0, 3.0, 14.0, 38.0, 1.0, 1.0], [14.029204791885503, 5.970795208114493], [0.7014602395942753, 0.29853976040572466], 0.0, 'No Risk'], ['0_to_200', 22, 'outstanding_credit', 'repairs', 5367, '100_to_500', '1_to_4', 3, 'male', 'co-applicant', 4, 'savings_insurance', 43, 'bank', 'rent', 1, 'unskilled', 1, 'none', 'yes', 2.0, 2.0, 0.0, 1.0, 0.0, 1.0, 2.0, 1.0, 5.0, 1.0, 0.0, 0.0, 0.0, [2.0, 2.0, 5.0, 1.0, 0.0, 0.0, 1.0, 0.0, 2.0, 1.0, 1.0, 0.0, 0.0, 22.0, 5367.0, 3.0, 4.0, 22.0, 43.0, 1.0, 1.0], [12.968455270082782, 7.031544729917218], [0.6484227635041391, 0.35157723649586087], 0.0, 'No Risk'], ['less_0', 9, 'all_credits_paid_back', 'vacation', 823, 'less_100', 'less_1', 2, 'male', 'none', 2, 'real_estate', 25, 'none', 'rent', 1, 'skilled', 1, 'none', 'yes', 1.0, 3.0, 3.0, 0.0, 0.0, 1.0, 0.0, 0.0, 6.0, 0.0, 2.0, 0.0, 0.0, [1.0, 3.0, 6.0, 0.0, 3.0, 0.0, 0.0, 2.0, 0.0, 1.0, 0.0, 0.0, 0.0, 9.0, 823.0, 2.0, 2.0, 9.0, 25.0, 1.0, 1.0], [19.54631296325492, 0.4536870367450744], [0.9773156481627463, 0.022684351837253727], 0.0, 'No Risk'], ['less_0', 14, 'prior_payments_delayed', 'radio_tv', 1640, '500_to_1000', 'less_1', 2, 'male', 'none', 2, 'real_estate', 29, 'none', 'rent', 2, 'skilled', 1, 'none', 'yes', 1.0, 0.0, 3.0, 2.0, 0.0, 1.0, 0.0, 0.0, 3.0, 0.0, 2.0, 0.0, 0.0, [1.0, 0.0, 3.0, 2.0, 3.0, 0.0, 0.0, 2.0, 0.0, 1.0, 0.0, 0.0, 0.0, 14.0, 1640.0, 2.0, 2.0, 14.0, 29.0, 2.0, 1.0], [17.97514902428791, 2.0248509757120865], [0.8987574512143955, 0.10124254878560435], 0.0, 'No Risk'], ['0_to_200', 7, 'prior_payments_delayed', 'car_new', 250, '100_to_500', 'less_1', 2, 'male', 'none', 3, 'real_estate', 19, 'none', 'own', 1, 'management_self-employed', 1, 'none', 'yes', 2.0, 0.0, 3.0, 1.0, 0.0, 0.0, 0.0, 2.0, 0.0, 0.0, 2.0, 0.0, 0.0, [2.0, 0.0, 0.0, 1.0, 3.0, 0.0, 0.0, 2.0, 0.0, 0.0, 2.0, 0.0, 0.0, 7.0, 250.0, 2.0, 3.0, 7.0, 19.0, 1.0, 1.0], [18.921256012647287, 1.0787439873527114], [0.9460628006323644, 0.053937199367635566], 0.0, 'No Risk'], ['no_checking', 28, 'prior_payments_delayed', 'appliances', 5688, '100_to_500', '4_to_7', 3, 'female', 'none', 4, 'car_other', 43, 'none', 'own', 1, 'skilled', 1, 'none', 'yes', 0.0, 0.0, 1.0, 1.0, 0.0, 0.0, 0.0, 0.0, 4.0, 0.0, 1.0, 1.0, 0.0, [0.0, 0.0, 4.0, 1.0, 1.0, 1.0, 0.0, 1.0, 0.0, 0.0, 0.0, 0.0, 0.0, 28.0, 5688.0, 3.0, 4.0, 28.0, 43.0, 1.0, 1.0], [8.83462562225192, 11.165374377748082], [0.441731281112596, 0.558268718887404], 1.0, 'Risk'], ['no_checking', 31, 'prior_payments_delayed', 'appliances', 5154, '100_to_500', 'less_1', 3, 'male', 'none', 3, 'car_other', 42, 'none', 'own', 1, 'skilled', 1, 'none', 'yes', 0.0, 0.0, 3.0, 1.0, 0.0, 0.0, 0.0, 0.0, 4.0, 0.0, 1.0, 0.0, 0.0, [21, [2, 3, 4, 7, 13, 14, 15, 16, 17, 18, 19, 20], [4.0, 1.0, 3.0, 1.0, 31.0, 5154.0, 3.0, 3.0, 31.0, 42.0, 1.0, 1.0]], [13.069677396356182, 6.930322603643819], [0.6534838698178091, 0.34651613018219096], 0.0, 'No Risk'], ['no_checking', 19, 'outstanding_credit', 'car_used', 9908, '100_to_500', '4_to_7', 5, 'male', 'co-applicant', 4, 'car_other', 42, 'none', 'free', 2, 'management_self-employed', 1, 'none', 'yes', 0.0, 2.0, 1.0, 1.0, 0.0, 2.0, 0.0, 2.0, 2.0, 1.0, 1.0, 0.0, 0.0, [0.0, 2.0, 2.0, 1.0, 1.0, 0.0, 1.0, 1.0, 0.0, 2.0, 2.0, 0.0, 0.0, 19.0, 9908.0, 5.0, 4.0, 19.0, 42.0, 2.0, 1.0], [8.232584217432924, 11.767415782567076], [0.4116292108716462, 0.5883707891283538], 1.0, 'Risk'], ['no_checking', 17, 'credits_paid_to_date', 'car_new', 1129, '100_to_500', '1_to_4', 2, 'female', 'none', 3, 'real_estate', 29, 'none', 'own', 1, 'skilled', 1, 'none', 'yes', 0.0, 1.0, 0.0, 1.0, 0.0, 0.0, 0.0, 0.0, 0.0, 0.0, 2.0, 1.0, 0.0, [21, [1, 3, 5, 7, 13, 14, 15, 16, 17, 18, 19, 20], [1.0, 1.0, 1.0, 2.0, 17.0, 1129.0, 2.0, 3.0, 17.0, 29.0, 1.0, 1.0]], [16.82311718475044, 3.1768828152495585], [0.841155859237522, 0.15884414076247794], 0.0, 'No Risk'], ['0_to_200', 15, 'prior_payments_delayed', 'furniture', 1801, '100_to_500', '4_to_7', 4, 'male', 'none', 4, 'savings_insurance', 34, 'none', 'own', 1, 'skilled', 1, 'none', 'yes', 2.0, 0.0, 1.0, 1.0, 0.0, 0.0, 0.0, 0.0, 1.0, 0.0, 0.0, 0.0, 0.0, [21, [0, 2, 3, 4, 13, 14, 15, 16, 17, 18, 19, 20], [2.0, 1.0, 1.0, 1.0, 15.0, 1801.0, 4.0, 4.0, 15.0, 34.0, 1.0, 1.0]], [14.238535225298511, 5.761464774701489], [0.7119267612649256, 0.28807323873507445], 0.0, 'No Risk'], ['less_0', 8, 'all_credits_paid_back', 'car_new', 1803, 'less_100', 'less_1', 2, 'female', 'none', 1, 'savings_insurance', 25, 'none', 'rent', 1, 'skilled', 1, 'none', 'yes', 1.0, 3.0, 3.0, 0.0, 0.0, 1.0, 0.0, 0.0, 0.0, 0.0, 0.0, 1.0, 0.0, [1.0, 3.0, 0.0, 0.0, 3.0, 1.0, 0.0, 0.0, 0.0, 1.0, 0.0, 0.0, 0.0, 8.0, 1803.0, 2.0, 1.0, 8.0, 25.0, 1.0, 1.0], [19.401896894129266, 0.5981031058707283], [0.9700948447064637, 0.029905155293536427], 0.0, 'No Risk'], ['greater_200', 4, 'prior_payments_delayed', 'car_new', 3420, 'less_100', '4_to_7', 3, 'female', 'none', 4, 'car_other', 33, 'none', 'own', 1, 'skilled', 1, 'none', 'yes', 3.0, 0.0, 1.0, 0.0, 0.0, 0.0, 0.0, 0.0, 0.0, 0.0, 1.0, 1.0, 0.0, [21, [0, 4, 5, 7, 13, 14, 15, 16, 17, 18, 19, 20], [3.0, 1.0, 1.0, 1.0, 4.0, 3420.0, 3.0, 4.0, 4.0, 33.0, 1.0, 1.0]], [15.04520080660768, 4.95479919339232], [0.752260040330384, 0.247739959669616], 0.0, 'No Risk'], ['no_checking', 47, 'credits_paid_to_date', 'appliances', 5385, '500_to_1000', '4_to_7', 3, 'female', 'none', 4, 'car_other', 41, 'bank', 'own', 1, 'unemployed', 1, 'none', 'yes', 0.0, 1.0, 1.0, 2.0, 0.0, 0.0, 2.0, 3.0, 4.0, 0.0, 1.0, 1.0, 0.0, [0.0, 1.0, 4.0, 2.0, 1.0, 1.0, 0.0, 1.0, 2.0, 0.0, 3.0, 0.0, 0.0, 47.0, 5385.0, 3.0, 4.0, 47.0, 41.0, 1.0, 1.0], [9.642606432978283, 10.357393567021717], [0.4821303216489142, 0.5178696783510859], 1.0, 'Risk'], ['less_0', 17, 'credits_paid_to_date', 'furniture', 1509, 'less_100', '1_to_4', 3, 'male', 'none', 2, 'savings_insurance', 21, 'none', 'own', 1, 'skilled', 1, 'none', 'yes', 1.0, 1.0, 0.0, 0.0, 0.0, 0.0, 0.0, 0.0, 1.0, 0.0, 0.0, 0.0, 0.0, [21, [0, 1, 2, 13, 14, 15, 16, 17, 18, 19, 20], [1.0, 1.0, 1.0, 17.0, 1509.0, 3.0, 2.0, 17.0, 21.0, 1.0, 1.0]], [17.78899563811417, 2.2110043618858293], [0.8894497819057084, 0.11055021809429147], 0.0, 'No Risk'], ['0_to_200', 40, 'prior_payments_delayed', 'vacation', 4017, '100_to_500', '4_to_7', 2, 'male', 'none', 3, 'car_other', 28, 'none', 'own', 2, 'skilled', 1, 'none', 'yes', 2.0, 0.0, 1.0, 1.0, 0.0, 0.0, 0.0, 0.0, 6.0, 0.0, 1.0, 0.0, 0.0, [2.0, 0.0, 6.0, 1.0, 1.0, 0.0, 0.0, 1.0, 0.0, 0.0, 0.0, 0.0, 0.0, 40.0, 4017.0, 2.0, 3.0, 40.0, 28.0, 2.0, 1.0], [12.843557507586496, 7.156442492413505], [0.6421778753793248, 0.35782212462067525], 0.0, 'No Risk'], ['no_checking', 33, 'prior_payments_delayed', 'appliances', 5144, 'unknown', '4_to_7', 4, 'male', 'guarantor', 5, 'savings_insurance', 53, 'none', 'free', 2, 'skilled', 1, 'yes', 'yes', 0.0, 0.0, 1.0, 4.0, 0.0, 2.0, 0.0, 0.0, 4.0, 2.0, 0.0, 0.0, 1.0, [0.0, 0.0, 4.0, 4.0, 1.0, 0.0, 2.0, 0.0, 0.0, 2.0, 0.0, 1.0, 0.0, 33.0, 5144.0, 4.0, 5.0, 33.0, 53.0, 2.0, 1.0], [8.136424025898242, 11.863575974101758], [0.40682120129491206, 0.5931787987050879], 1.0, 'Risk'], ['0_to_200', 12, 'prior_payments_delayed', 'furniture', 254, 'less_100', '1_to_4', 3, 'male', 'none', 3, 'savings_insurance', 38, 'bank', 'rent', 1, 'unemployed', 1, 'none', 'yes', 2.0, 0.0, 0.0, 0.0, 0.0, 1.0, 2.0, 3.0, 1.0, 0.0, 0.0, 0.0, 0.0, [2.0, 0.0, 1.0, 0.0, 0.0, 0.0, 0.0, 0.0, 2.0, 1.0, 3.0, 0.0, 0.0, 12.0, 254.0, 3.0, 3.0, 12.0, 38.0, 1.0, 1.0], [15.34577244090708, 4.65422755909292], [0.767288622045354, 0.232711377954646], 0.0, 'No Risk'], ['greater_200', 28, 'prior_payments_delayed', 'appliances', 3569, 'greater_1000', '4_to_7', 3, 'male', 'none', 4, 'car_other', 44, 'none', 'own', 2, 'skilled', 2, 'yes', 'yes', 3.0, 0.0, 1.0, 3.0, 0.0, 0.0, 0.0, 0.0, 4.0, 0.0, 1.0, 0.0, 1.0, [3.0, 0.0, 4.0, 3.0, 1.0, 0.0, 0.0, 1.0, 0.0, 0.0, 0.0, 1.0, 0.0, 28.0, 3569.0, 3.0, 4.0, 28.0, 44.0, 2.0, 2.0], [10.803589004550695, 9.196410995449304], [0.5401794502275348, 0.45982054977246517], 0.0, 'No Risk'], ['0_to_200', 4, 'all_credits_paid_back', 'car_used', 250, 'less_100', 'less_1', 1, 'female', 'none', 1, 'real_estate', 29, 'none', 'rent', 1, 'skilled', 1, 'none', 'yes', 2.0, 3.0, 3.0, 0.0, 0.0, 1.0, 0.0, 0.0, 2.0, 0.0, 2.0, 1.0, 0.0, [2.0, 3.0, 2.0, 0.0, 3.0, 1.0, 0.0, 2.0, 0.0, 1.0, 0.0, 0.0, 0.0, 4.0, 250.0, 1.0, 1.0, 4.0, 29.0, 1.0, 1.0], [19.58222624838472, 0.4177737516152764], [0.9791113124192362, 0.020888687580763825], 0.0, 'No Risk'], ['0_to_200', 19, 'credits_paid_to_date', 'radio_tv', 4578, 'less_100', '4_to_7', 4, 'female', 'none', 3, 'savings_insurance', 33, 'none', 'own', 1, 'skilled', 1, 'none', 'yes', 2.0, 1.0, 1.0, 0.0, 0.0, 0.0, 0.0, 0.0, 3.0, 0.0, 0.0, 1.0, 0.0, [2.0, 1.0, 3.0, 0.0, 1.0, 1.0, 0.0, 0.0, 0.0, 0.0, 0.0, 0.0, 0.0, 19.0, 4578.0, 4.0, 3.0, 19.0, 33.0, 1.0, 1.0], [13.984871020212518, 6.015128979787482], [0.6992435510106259, 0.3007564489893741], 0.0, 'No Risk'], ['no_checking', 8, 'prior_payments_delayed', 'retraining', 1660, 'greater_1000', '4_to_7', 4, 'male', 'none', 4, 'real_estate', 38, 'none', 'rent', 1, 'management_self-employed', 1, 'none', 'yes', 0.0, 0.0, 1.0, 3.0, 0.0, 1.0, 0.0, 2.0, 8.0, 0.0, 2.0, 0.0, 0.0, [0.0, 0.0, 8.0, 3.0, 1.0, 0.0, 0.0, 2.0, 0.0, 1.0, 2.0, 0.0, 0.0, 8.0, 1660.0, 4.0, 4.0, 8.0, 38.0, 1.0, 1.0], [14.347415851269542, 5.6525841487304636], [0.7173707925634768, 0.2826292074365231], 0.0, 'No Risk'], ['no_checking', 15, 'outstanding_credit', 'furniture', 4976, '100_to_500', 'greater_7', 4, 'male', 'none', 3, 'car_other', 38, 'none', 'own', 2, 'skilled', 2, 'yes', 'yes', 0.0, 2.0, 2.0, 1.0, 0.0, 0.0, 0.0, 0.0, 1.0, 0.0, 1.0, 0.0, 1.0, [0.0, 2.0, 1.0, 1.0, 2.0, 0.0, 0.0, 1.0, 0.0, 0.0, 0.0, 1.0, 0.0, 15.0, 4976.0, 4.0, 3.0, 15.0, 38.0, 2.0, 2.0], [8.817984547119565, 11.182015452880435], [0.44089922735597825, 0.5591007726440218], 1.0, 'Risk'], ['no_checking', 43, 'prior_payments_delayed', 'radio_tv', 5100, 'unknown', 'greater_7', 4, 'male', 'co-applicant', 3, 'car_other', 34, 'stores', 'own', 2, 'unskilled', 1, 'none', 'yes', 0.0, 0.0, 2.0, 4.0, 0.0, 0.0, 1.0, 1.0, 3.0, 1.0, 1.0, 0.0, 0.0, [0.0, 0.0, 3.0, 4.0, 2.0, 0.0, 1.0, 1.0, 1.0, 0.0, 1.0, 0.0, 0.0, 43.0, 5100.0, 4.0, 3.0, 43.0, 34.0, 2.0, 1.0], [7.417685249194294, 12.582314750805706], [0.37088426245971473, 0.6291157375402853], 1.0, 'Risk'], ['less_0', 20, 'credits_paid_to_date', 'retraining', 2421, '100_to_500', '1_to_4', 3, 'female', 'none', 3, 'real_estate', 29, 'none', 'own', 2, 'skilled', 1, 'none', 'yes', 1.0, 1.0, 0.0, 1.0, 0.0, 0.0, 0.0, 0.0, 8.0, 0.0, 2.0, 1.0, 0.0, [1.0, 1.0, 8.0, 1.0, 0.0, 1.0, 0.0, 2.0, 0.0, 0.0, 0.0, 0.0, 0.0, 20.0, 2421.0, 3.0, 3.0, 20.0, 29.0, 2.0, 1.0], [16.606676734868508, 3.393323265131495], [0.8303338367434252, 0.16966616325657471], 0.0, 'No Risk'], ['less_0', 21, 'credits_paid_to_date', 'car_new', 3102, 'less_100', 'less_1', 3, 'male', 'none', 3, 'car_other', 32, 'stores', 'own', 2, 'unskilled', 1, 'none', 'yes', 1.0, 1.0, 3.0, 0.0, 0.0, 0.0, 1.0, 1.0, 0.0, 0.0, 1.0, 0.0, 0.0, [1.0, 1.0, 0.0, 0.0, 3.0, 0.0, 0.0, 1.0, 1.0, 0.0, 1.0, 0.0, 0.0, 21.0, 3102.0, 3.0, 3.0, 21.0, 32.0, 2.0, 1.0], [15.45106162825714, 4.5489383717428655], [0.7725530814128567, 0.2274469185871432], 0.0, 'No Risk'], ['less_0', 18, 'credits_paid_to_date', 'car_used', 2459, 'less_100', '1_to_4', 2, 'female', 'co-applicant', 1, 'savings_insurance', 43, 'stores', 'own', 1, 'unskilled', 1, 'yes', 'yes', 1.0, 1.0, 0.0, 0.0, 0.0, 0.0, 1.0, 1.0, 2.0, 1.0, 0.0, 1.0, 1.0, [1.0, 1.0, 2.0, 0.0, 0.0, 1.0, 1.0, 0.0, 1.0, 0.0, 1.0, 1.0, 0.0, 18.0, 2459.0, 2.0, 1.0, 18.0, 43.0, 1.0, 1.0], [15.407377363118576, 4.592622636881424], [0.7703688681559288, 0.2296311318440712], 0.0, 'No Risk'], ['greater_200', 29, 'prior_payments_delayed', 'business', 7190, '100_to_500', '4_to_7', 4, 'male', 'none', 4, 'savings_insurance', 39, 'none', 'own', 2, 'management_self-employed', 1, 'yes', 'yes', 3.0, 0.0, 1.0, 1.0, 0.0, 0.0, 0.0, 2.0, 9.0, 0.0, 0.0, 0.0, 1.0, [3.0, 0.0, 9.0, 1.0, 1.0, 0.0, 0.0, 0.0, 0.0, 0.0, 2.0, 1.0, 0.0, 29.0, 7190.0, 4.0, 4.0, 29.0, 39.0, 2.0, 1.0], [10.97742230260128, 9.022577697398718], [0.548871115130064, 0.4511288848699359], 0.0, 'No Risk'], ['no_checking', 30, 'outstanding_credit', 'furniture', 4597, '500_to_1000', '4_to_7', 3, 'male', 'none', 4, 'savings_insurance', 43, 'none', 'own', 1, 'skilled', 2, 'yes', 'yes', 0.0, 2.0, 1.0, 2.0, 0.0, 0.0, 0.0, 0.0, 1.0, 0.0, 0.0, 0.0, 1.0, [0.0, 2.0, 1.0, 2.0, 1.0, 0.0, 0.0, 0.0, 0.0, 0.0, 0.0, 1.0, 0.0, 30.0, 4597.0, 3.0, 4.0, 30.0, 43.0, 1.0, 2.0], [11.647678256427817, 8.352321743572185], [0.5823839128213908, 0.41761608717860926], 0.0, 'No Risk'], ['0_to_200', 30, 'outstanding_credit', 'furniture', 4334, '100_to_500', '4_to_7', 4, 'male', 'none', 4, 'car_other', 47, 'bank', 'own', 2, 'unemployed', 1, 'yes', 'yes', 2.0, 2.0, 1.0, 1.0, 0.0, 0.0, 2.0, 3.0, 1.0, 0.0, 1.0, 0.0, 1.0, [2.0, 2.0, 1.0, 1.0, 1.0, 0.0, 0.0, 1.0, 2.0, 0.0, 3.0, 1.0, 0.0, 30.0, 4334.0, 4.0, 4.0, 30.0, 47.0, 2.0, 1.0], [10.343405816997413, 9.656594183002586], [0.5171702908498707, 0.4828297091501293], 0.0, 'No Risk'], ['less_0', 8, 'prior_payments_delayed', 'furniture', 3453, 'less_100', 'less_1', 3, 'female', 'none', 2, 'savings_insurance', 35, 'none', 'own', 2, 'skilled', 1, 'none', 'yes', 1.0, 0.0, 3.0, 0.0, 0.0, 0.0, 0.0, 0.0, 1.0, 0.0, 0.0, 1.0, 0.0, [21, [0, 2, 4, 5, 13, 14, 15, 16, 17, 18, 19, 20], [1.0, 1.0, 3.0, 1.0, 8.0, 3453.0, 3.0, 2.0, 8.0, 35.0, 2.0, 1.0]], [16.350247738714007, 3.649752261285994], [0.8175123869357004, 0.1824876130642997], 0.0, 'No Risk'], ['no_checking', 33, 'prior_payments_delayed', 'furniture', 6927, '100_to_500', '4_to_7', 4, 'male', 'co-applicant', 3, 'unknown', 46, 'none', 'free', 2, 'management_self-employed', 1, 'yes', 'yes', 0.0, 0.0, 1.0, 1.0, 0.0, 2.0, 0.0, 2.0, 1.0, 1.0, 3.0, 0.0, 1.0, [0.0, 0.0, 1.0, 1.0, 1.0, 0.0, 1.0, 3.0, 0.0, 2.0, 2.0, 1.0, 0.0, 33.0, 6927.0, 4.0, 3.0, 33.0, 46.0, 2.0, 1.0], [3.8907401556810366, 16.109259844318963], [0.19453700778405184, 0.8054629922159482], 1.0, 'Risk'], ['less_0', 4, 'all_credits_paid_back', 'car_new', 250, 'less_100', 'less_1', 1, 'female', 'none', 2, 'real_estate', 19, 'none', 'rent', 1, 'skilled', 1, 'none', 'yes', 1.0, 3.0, 3.0, 0.0, 0.0, 1.0, 0.0, 0.0, 0.0, 0.0, 2.0, 1.0, 0.0, [1.0, 3.0, 0.0, 0.0, 3.0, 1.0, 0.0, 2.0, 0.0, 1.0, 0.0, 0.0, 0.0, 4.0, 250.0, 1.0, 2.0, 4.0, 19.0, 1.0, 1.0], [19.603636407962725, 0.396363592037273], [0.9801818203981364, 0.019818179601863654], 0.0, 'No Risk'], ['0_to_200', 26, 'outstanding_credit', 'car_used', 2814, '100_to_500', '4_to_7', 3, 'male', 'co-applicant', 3, 'car_other', 32, 'stores', 'own', 1, 'skilled', 1, 'none', 'yes', 2.0, 2.0, 1.0, 1.0, 0.0, 0.0, 1.0, 0.0, 2.0, 1.0, 1.0, 0.0, 0.0, [2.0, 2.0, 2.0, 1.0, 1.0, 0.0, 1.0, 1.0, 1.0, 0.0, 0.0, 0.0, 0.0, 26.0, 2814.0, 3.0, 3.0, 26.0, 32.0, 1.0, 1.0], [12.033751985574002, 7.966248014425998], [0.6016875992787001, 0.3983124007212999], 0.0, 'No Risk'], ['no_checking', 40, 'prior_payments_delayed', 'repairs', 6512, '500_to_1000', 'greater_7', 5, 'male', 'co-applicant', 5, 'savings_insurance', 44, 'none', 'free', 2, 'skilled', 1, 'yes', 'yes', 0.0, 0.0, 2.0, 2.0, 0.0, 2.0, 0.0, 0.0, 5.0, 1.0, 0.0, 0.0, 1.0, [0.0, 0.0, 5.0, 2.0, 2.0, 0.0, 1.0, 0.0, 0.0, 2.0, 0.0, 1.0, 0.0, 40.0, 6512.0, 5.0, 5.0, 40.0, 44.0, 2.0, 1.0], [5.722446981644399, 14.2775530183556], [0.28612234908221995, 0.71387765091778], 1.0, 'Risk'], ['less_0', 4, 'credits_paid_to_date', 'car_used', 458, 'less_100', '4_to_7', 2, 'female', 'none', 1, 'savings_insurance', 24, 'stores', 'own', 1, 'unskilled', 1, 'none', 'yes', 1.0, 1.0, 1.0, 0.0, 0.0, 0.0, 1.0, 1.0, 2.0, 0.0, 0.0, 1.0, 0.0, [1.0, 1.0, 2.0, 0.0, 1.0, 1.0, 0.0, 0.0, 1.0, 0.0, 1.0, 0.0, 0.0, 4.0, 458.0, 2.0, 1.0, 4.0, 24.0, 1.0, 1.0], [18.321227220943133, 1.678772779056866], [0.9160613610471566, 0.0839386389528433], 0.0, 'No Risk'], ['no_checking', 25, 'prior_payments_delayed', 'radio_tv', 2582, '100_to_500', 'greater_7', 3, 'female', 'none', 2, 'car_other', 42, 'bank', 'free', 1, 'unemployed', 1, 'yes', 'yes', 0.0, 0.0, 2.0, 1.0, 0.0, 2.0, 2.0, 3.0, 3.0, 0.0, 1.0, 1.0, 1.0, [0.0, 0.0, 3.0, 1.0, 2.0, 1.0, 0.0, 1.0, 2.0, 2.0, 3.0, 1.0, 0.0, 25.0, 2582.0, 3.0, 2.0, 25.0, 42.0, 1.0, 1.0], [9.676100460113464, 10.323899539886538], [0.4838050230056732, 0.5161949769943269], 1.0, 'Risk'], ['no_checking', 15, 'credits_paid_to_date', 'furniture', 4883, 'less_100', '1_to_4', 4, 'male', 'none', 3, 'savings_insurance', 40, 'stores', 'own', 1, 'unskilled', 1, 'none', 'yes', 0.0, 1.0, 0.0, 0.0, 0.0, 0.0, 1.0, 1.0, 1.0, 0.0, 0.0, 0.0, 0.0, [21, [1, 2, 8, 10, 13, 14, 15, 16, 17, 18, 19, 20], [1.0, 1.0, 1.0, 1.0, 15.0, 4883.0, 4.0, 3.0, 15.0, 40.0, 1.0, 1.0]], [15.338731536985902, 4.6612684630141], [0.7669365768492951, 0.233063423150705], 0.0, 'No Risk'], ['less_0', 33, 'outstanding_credit', 'appliances', 250, '500_to_1000', '4_to_7', 2, 'female', 'none', 1, 'real_estate', 29, 'stores', 'own', 1, 'unskilled', 1, 'none', 'yes', 1.0, 2.0, 1.0, 2.0, 0.0, 0.0, 1.0, 1.0, 4.0, 0.0, 2.0, 1.0, 0.0, [1.0, 2.0, 4.0, 2.0, 1.0, 1.0, 0.0, 2.0, 1.0, 0.0, 1.0, 0.0, 0.0, 33.0, 250.0, 2.0, 1.0, 33.0, 29.0, 1.0, 1.0], [16.490971625306656, 3.5090283746933446], [0.8245485812653328, 0.17545141873466724], 0.0, 'No Risk'], ['no_checking', 35, 'prior_payments_delayed', 'furniture', 5192, 'unknown', '1_to_4', 3, 'male', 'none', 4, 'unknown', 28, 'none', 'own', 2, 'skilled', 1, 'yes', 'yes', 0.0, 0.0, 0.0, 4.0, 0.0, 0.0, 0.0, 0.0, 1.0, 0.0, 3.0, 0.0, 1.0, [21, [2, 3, 7, 11, 13, 14, 15, 16, 17, 18, 19, 20], [1.0, 4.0, 3.0, 1.0, 35.0, 5192.0, 3.0, 4.0, 35.0, 28.0, 2.0, 1.0]], [10.192587141687591, 9.807412858312409], [0.5096293570843795, 0.49037064291562044], 0.0, 'No Risk'], ['0_to_200', 19, 'credits_paid_to_date', 'car_new', 1537, '500_to_1000', '1_to_4', 3, 'male', 'none', 2, 'savings_insurance', 29, 'none', 'own', 1, 'skilled', 1, 'none', 'yes', 2.0, 1.0, 0.0, 2.0, 0.0, 0.0, 0.0, 0.0, 0.0, 0.0, 0.0, 0.0, 0.0, [21, [0, 1, 3, 13, 14, 15, 16, 17, 18, 19, 20], [2.0, 1.0, 2.0, 19.0, 1537.0, 3.0, 2.0, 19.0, 29.0, 1.0, 1.0]], [17.3750109278758, 2.6249890721241993], [0.8687505463937899, 0.13124945360620996], 0.0, 'No Risk'], ['no_checking', 8, 'prior_payments_delayed', 'car_new', 2398, '500_to_1000', '1_to_4', 3, 'female', 'none', 4, 'savings_insurance', 38, 'none', 'own', 1, 'skilled', 1, 'yes', 'yes', 0.0, 0.0, 0.0, 2.0, 0.0, 0.0, 0.0, 0.0, 0.0, 0.0, 0.0, 1.0, 1.0, [21, [3, 5, 11, 13, 14, 15, 16, 17, 18, 19, 20], [2.0, 1.0, 1.0, 8.0, 2398.0, 3.0, 4.0, 8.0, 38.0, 1.0, 1.0]], [13.5331390679374, 6.466860932062601], [0.67665695339687, 0.32334304660313007], 0.0, 'No Risk'], ['less_0', 12, 'all_credits_paid_back', 'appliances', 1666, '100_to_500', '1_to_4', 3, 'male', 'none', 2, 'savings_insurance', 38, 'none', 'own', 2, 'skilled', 2, 'none', 'yes', 1.0, 3.0, 0.0, 1.0, 0.0, 0.0, 0.0, 0.0, 4.0, 0.0, 0.0, 0.0, 0.0, [21, [0, 1, 2, 3, 13, 14, 15, 16, 17, 18, 19, 20], [1.0, 3.0, 4.0, 1.0, 12.0, 1666.0, 3.0, 2.0, 12.0, 38.0, 2.0, 2.0]], [16.717277049261362, 3.282722950738641], [0.8358638524630679, 0.164136147536932], 0.0, 'No Risk'], ['no_checking', 12, 'credits_paid_to_date', 'car_used', 4302, 'less_100', 'less_1', 3, 'female', 'none', 3, 'savings_insurance', 30, 'none', 'own', 1, 'management_self-employed', 1, 'none', 'yes', 0.0, 1.0, 3.0, 0.0, 0.0, 0.0, 0.0, 2.0, 2.0, 0.0, 0.0, 1.0, 0.0, [0.0, 1.0, 2.0, 0.0, 3.0, 1.0, 0.0, 0.0, 0.0, 0.0, 2.0, 0.0, 0.0, 12.0, 4302.0, 3.0, 3.0, 12.0, 30.0, 1.0, 1.0], [17.1328026820998, 2.8671973179001977], [0.8566401341049901, 0.14335986589500987], 0.0, 'No Risk'], ['no_checking', 45, 'prior_payments_delayed', 'radio_tv', 7071, '500_to_1000', '4_to_7', 4, 'male', 'co-applicant', 3, 'car_other', 41, 'none', 'own', 2, 'skilled', 2, 'yes', 'yes', 0.0, 0.0, 1.0, 2.0, 0.0, 0.0, 0.0, 0.0, 3.0, 1.0, 1.0, 0.0, 1.0, [0.0, 0.0, 3.0, 2.0, 1.0, 0.0, 1.0, 1.0, 0.0, 0.0, 0.0, 1.0, 0.0, 45.0, 7071.0, 4.0, 3.0, 45.0, 41.0, 2.0, 2.0], [5.239044178852325, 14.760955821147675], [0.2619522089426162, 0.7380477910573837], 1.0, 'Risk'], ['0_to_200', 18, 'credits_paid_to_date', 'furniture', 5301, 'less_100', '1_to_4', 4, 'male', 'none', 2, 'savings_insurance', 37, 'none', 'own', 2, 'management_self-employed', 1, 'none', 'yes', 2.0, 1.0, 0.0, 0.0, 0.0, 0.0, 0.0, 2.0, 1.0, 0.0, 0.0, 0.0, 0.0, [21, [0, 1, 2, 10, 13, 14, 15, 16, 17, 18, 19, 20], [2.0, 1.0, 1.0, 2.0, 18.0, 5301.0, 4.0, 2.0, 18.0, 37.0, 2.0, 1.0]], [14.628674476750474, 5.371325523249525], [0.7314337238375237, 0.26856627616247625], 0.0, 'No Risk'], ['no_checking', 32, 'credits_paid_to_date', 'radio_tv', 5048, 'unknown', '4_to_7', 3, 'male', 'none', 3, 'savings_insurance', 47, 'none', 'own', 2, 'skilled', 1, 'none', 'yes', 0.0, 1.0, 1.0, 4.0, 0.0, 0.0, 0.0, 0.0, 3.0, 0.0, 0.0, 0.0, 0.0, [21, [1, 2, 3, 4, 13, 14, 15, 16, 17, 18, 19, 20], [1.0, 3.0, 4.0, 1.0, 32.0, 5048.0, 3.0, 3.0, 32.0, 47.0, 2.0, 1.0]], [10.419626780668995, 9.580373219331006], [0.5209813390334498, 0.4790186609665503], 0.0, 'No Risk'], ['no_checking', 41, 'credits_paid_to_date', 'appliances', 6225, '100_to_500', 'greater_7', 5, 'male', 'co-applicant', 5, 'savings_insurance', 56, 'stores', 'own', 2, 'unskilled', 1, 'yes', 'yes', 0.0, 1.0, 2.0, 1.0, 0.0, 0.0, 1.0, 1.0, 4.0, 1.0, 0.0, 0.0, 1.0, [0.0, 1.0, 4.0, 1.0, 2.0, 0.0, 1.0, 0.0, 1.0, 0.0, 1.0, 1.0, 0.0, 41.0, 6225.0, 5.0, 5.0, 41.0, 56.0, 2.0, 1.0], [5.5195995099536095, 14.48040049004639], [0.2759799754976805, 0.7240200245023195], 1.0, 'Risk'], ['no_checking', 26, 'all_credits_paid_back', 'business', 4783, 'less_100', '4_to_7', 3, 'male', 'none', 2, 'real_estate', 36, 'stores', 'own', 1, 'unskilled', 1, 'none', 'yes', 0.0, 3.0, 1.0, 0.0, 0.0, 0.0, 1.0, 1.0, 9.0, 0.0, 2.0, 0.0, 0.0, [0.0, 3.0, 9.0, 0.0, 1.0, 0.0, 0.0, 2.0, 1.0, 0.0, 1.0, 0.0, 0.0, 26.0, 4783.0, 3.0, 2.0, 26.0, 36.0, 1.0, 1.0], [13.723563943876933, 6.27643605612307], [0.6861781971938465, 0.31382180280615346], 0.0, 'No Risk'], ['no_checking', 23, 'outstanding_credit', 'car_used', 5505, '500_to_1000', 'greater_7', 4, 'female', 'none', 3, 'unknown', 36, 'none', 'free', 1, 'skilled', 1, 'none', 'yes', 0.0, 2.0, 2.0, 2.0, 0.0, 2.0, 0.0, 0.0, 2.0, 0.0, 3.0, 1.0, 0.0, [0.0, 2.0, 2.0, 2.0, 2.0, 1.0, 0.0, 3.0, 0.0, 2.0, 0.0, 0.0, 0.0, 23.0, 5505.0, 4.0, 3.0, 23.0, 36.0, 1.0, 1.0], [10.27298658199369, 9.72701341800631], [0.5136493290996845, 0.4863506709003155], 0.0, 'No Risk'], ['no_checking', 39, 'credits_paid_to_date', 'appliances', 5931, '500_to_1000', '4_to_7', 3, 'male', 'none', 4, 'car_other', 44, 'none', 'own', 2, 'skilled', 1, 'none', 'yes', 0.0, 1.0, 1.0, 2.0, 0.0, 0.0, 0.0, 0.0, 4.0, 0.0, 1.0, 0.0, 0.0, [0.0, 1.0, 4.0, 2.0, 1.0, 0.0, 0.0, 1.0, 0.0, 0.0, 0.0, 0.0, 0.0, 39.0, 5931.0, 3.0, 4.0, 39.0, 44.0, 2.0, 1.0], [9.657662828086846, 10.342337171913154], [0.4828831414043423, 0.5171168585956577], 1.0, 'Risk'], ['less_0', 26, 'credits_paid_to_date', 'repairs', 4449, 'less_100', '1_to_4', 2, 'male', 'none', 3, 'car_other', 30, 'none', 'rent', 2, 'skilled', 1, 'none', 'yes', 1.0, 1.0, 0.0, 0.0, 0.0, 1.0, 0.0, 0.0, 5.0, 0.0, 1.0, 0.0, 0.0, [1.0, 1.0, 5.0, 0.0, 0.0, 0.0, 0.0, 1.0, 0.0, 1.0, 0.0, 0.0, 0.0, 26.0, 4449.0, 2.0, 3.0, 26.0, 30.0, 2.0, 1.0], [15.105937430155938, 4.894062569844063], [0.7552968715077969, 0.24470312849220316], 0.0, 'No Risk'], ['less_0', 12, 'all_credits_paid_back', 'furniture', 540, 'less_100', 'less_1', 2, 'female', 'none', 3, 'real_estate', 33, 'none', 'own', 1, 'skilled', 1, 'none', 'yes', 1.0, 3.0, 3.0, 0.0, 0.0, 0.0, 0.0, 0.0, 1.0, 0.0, 2.0, 1.0, 0.0, [1.0, 3.0, 1.0, 0.0, 3.0, 1.0, 0.0, 2.0, 0.0, 0.0, 0.0, 0.0, 0.0, 12.0, 540.0, 2.0, 3.0, 12.0, 33.0, 1.0, 1.0], [17.973070331397835, 2.026929668602164], [0.8986535165698918, 0.10134648343010819], 0.0, 'No Risk'], ['less_0', 5, 'all_credits_paid_back', 'car_new', 250, 'less_100', '1_to_4', 2, 'female', 'none', 1, 'real_estate', 19, 'bank', 'rent', 1, 'unemployed', 1, 'none', 'yes', 1.0, 3.0, 0.0, 0.0, 0.0, 1.0, 2.0, 3.0, 0.0, 0.0, 2.0, 1.0, 0.0, [1.0, 3.0, 0.0, 0.0, 0.0, 1.0, 0.0, 2.0, 2.0, 1.0, 3.0, 0.0, 0.0, 5.0, 250.0, 2.0, 1.0, 5.0, 19.0, 1.0, 1.0], [19.33455429845462, 0.6654457015453806], [0.966727714922731, 0.03327228507726903], 0.0, 'No Risk'], ['0_to_200', 8, 'credits_paid_to_date', 'car_new', 250, 'less_100', 'less_1', 1, 'female', 'none', 1, 'savings_insurance', 21, 'none', 'own', 1, 'skilled', 1, 'none', 'yes', 2.0, 1.0, 3.0, 0.0, 0.0, 0.0, 0.0, 0.0, 0.0, 0.0, 0.0, 1.0, 0.0, [21, [0, 1, 4, 5, 13, 14, 15, 16, 17, 18, 19, 20], [2.0, 1.0, 3.0, 1.0, 8.0, 250.0, 1.0, 1.0, 8.0, 21.0, 1.0, 1.0]], [19.242403087696275, 0.7575969123037208], [0.9621201543848139, 0.03787984561518605], 0.0, 'No Risk'], ['0_to_200', 17, 'credits_paid_to_date', 'furniture', 2407, 'less_100', 'less_1', 3, 'female', 'none', 2, 'real_estate', 35, 'none', 'rent', 1, 'skilled', 1, 'none', 'yes', 2.0, 1.0, 3.0, 0.0, 0.0, 1.0, 0.0, 0.0, 1.0, 0.0, 2.0, 1.0, 0.0, [2.0, 1.0, 1.0, 0.0, 3.0, 1.0, 0.0, 2.0, 0.0, 1.0, 0.0, 0.0, 0.0, 17.0, 2407.0, 3.0, 2.0, 17.0, 35.0, 1.0, 1.0], [18.198278644717586, 1.8017213552824143], [0.9099139322358794, 0.09008606776412072], 0.0, 'No Risk'], ['0_to_200', 16, 'credits_paid_to_date', 'vacation', 250, 'less_100', 'less_1', 2, 'female', 'none', 3, 'real_estate', 19, 'none', 'rent', 1, 'skilled', 1, 'none', 'yes', 2.0, 1.0, 3.0, 0.0, 0.0, 1.0, 0.0, 0.0, 6.0, 0.0, 2.0, 1.0, 0.0, [2.0, 1.0, 6.0, 0.0, 3.0, 1.0, 0.0, 2.0, 0.0, 1.0, 0.0, 0.0, 0.0, 16.0, 250.0, 2.0, 3.0, 16.0, 19.0, 1.0, 1.0], [18.90567543439217, 1.094324565607832], [0.9452837717196084, 0.0547162282803916], 0.0, 'No Risk'], ['greater_200', 28, 'outstanding_credit', 'furniture', 2930, '500_to_1000', '4_to_7', 3, 'male', 'none', 3, 'car_other', 47, 'none', 'own', 2, 'skilled', 1, 'yes', 'yes', 3.0, 2.0, 1.0, 2.0, 0.0, 0.0, 0.0, 0.0, 1.0, 0.0, 1.0, 0.0, 1.0, [3.0, 2.0, 1.0, 2.0, 1.0, 0.0, 0.0, 1.0, 0.0, 0.0, 0.0, 1.0, 0.0, 28.0, 2930.0, 3.0, 3.0, 28.0, 47.0, 2.0, 1.0], [9.432140448392929, 10.567859551607071], [0.4716070224196464, 0.5283929775803535], 1.0, 'Risk'], ['0_to_200', 15, 'credits_paid_to_date', 'car_new', 2442, '100_to_500', '4_to_7', 2, 'female', 'none', 1, 'real_estate', 19, 'stores', 'rent', 1, 'skilled', 1, 'none', 'yes', 2.0, 1.0, 1.0, 1.0, 0.0, 1.0, 1.0, 0.0, 0.0, 0.0, 2.0, 1.0, 0.0, [2.0, 1.0, 0.0, 1.0, 1.0, 1.0, 0.0, 2.0, 1.0, 1.0, 0.0, 0.0, 0.0, 15.0, 2442.0, 2.0, 1.0, 15.0, 19.0, 1.0, 1.0], [18.468143632990394, 1.5318563670096035], [0.9234071816495198, 0.0765928183504802], 0.0, 'No Risk'], ['no_checking', 26, 'prior_payments_delayed', 'business', 6547, '500_to_1000', '4_to_7', 4, 'male', 'none', 3, 'car_other', 35, 'none', 'own', 2, 'management_self-employed', 1, 'yes', 'yes', 0.0, 0.0, 1.0, 2.0, 0.0, 0.0, 0.0, 2.0, 9.0, 0.0, 1.0, 0.0, 1.0, [0.0, 0.0, 9.0, 2.0, 1.0, 0.0, 0.0, 1.0, 0.0, 0.0, 2.0, 1.0, 0.0, 26.0, 6547.0, 4.0, 3.0, 26.0, 35.0, 2.0, 1.0], [9.887405463736556, 10.112594536263444], [0.4943702731868278, 0.5056297268131722], 1.0, 'Risk'], ['less_0', 8, 'all_credits_paid_back', 'car_new', 250, 'less_100', 'unemployed', 2, 'female', 'none', 2, 'savings_insurance', 25, 'none', 'own', 1, 'skilled', 1, 'none', 'yes', 1.0, 3.0, 4.0, 0.0, 0.0, 0.0, 0.0, 0.0, 0.0, 0.0, 0.0, 1.0, 0.0, [21, [0, 1, 4, 5, 13, 14, 15, 16, 17, 18, 19, 20], [1.0, 3.0, 4.0, 1.0, 8.0, 250.0, 2.0, 2.0, 8.0, 25.0, 1.0, 1.0]], [19.403706987485048, 0.5962930125149448], [0.9701853493742527, 0.02981465062574725], 0.0, 'No Risk'], ['no_checking', 26, 'prior_payments_delayed', 'radio_tv', 4703, 'unknown', '4_to_7', 3, 'male', 'none', 4, 'savings_insurance', 43, 'none', 'free', 2, 'management_self-employed', 1, 'yes', 'yes', 0.0, 0.0, 1.0, 4.0, 0.0, 2.0, 0.0, 2.0, 3.0, 0.0, 0.0, 0.0, 1.0, [0.0, 0.0, 3.0, 4.0, 1.0, 0.0, 0.0, 0.0, 0.0, 2.0, 2.0, 1.0, 0.0, 26.0, 4703.0, 3.0, 4.0, 26.0, 43.0, 2.0, 1.0], [11.06729705872785, 8.93270294127215], [0.5533648529363925, 0.4466351470636075], 0.0, 'No Risk'], ['less_0', 24, 'prior_payments_delayed', 'radio_tv', 2061, '100_to_500', '1_to_4', 3, 'female', 'none', 3, 'savings_insurance', 35, 'stores', 'own', 1, 'skilled', 1, 'none', 'yes', 1.0, 0.0, 0.0, 1.0, 0.0, 0.0, 1.0, 0.0, 3.0, 0.0, 0.0, 1.0, 0.0, [1.0, 0.0, 3.0, 1.0, 0.0, 1.0, 0.0, 0.0, 1.0, 0.0, 0.0, 0.0, 0.0, 24.0, 2061.0, 3.0, 3.0, 24.0, 35.0, 1.0, 1.0], [14.567449152095834, 5.432550847904165], [0.7283724576047917, 0.27162754239520825], 0.0, 'No Risk'], ['no_checking', 26, 'prior_payments_delayed', 'business', 5768, '100_to_500', '4_to_7', 4, 'male', 'none', 3, 'unknown', 53, 'none', 'own', 2, 'management_self-employed', 1, 'none', 'yes', 0.0, 0.0, 1.0, 1.0, 0.0, 0.0, 0.0, 2.0, 9.0, 0.0, 3.0, 0.0, 0.0, [0.0, 0.0, 9.0, 1.0, 1.0, 0.0, 0.0, 3.0, 0.0, 0.0, 2.0, 0.0, 0.0, 26.0, 5768.0, 4.0, 3.0, 26.0, 53.0, 2.0, 1.0], [8.620977401372167, 11.37902259862783], [0.43104887006860837, 0.5689511299313915], 1.0, 'Risk'], ['greater_200', 4, 'all_credits_paid_back', 'radio_tv', 5306, '100_to_500', '4_to_7', 3, 'female', 'none', 2, 'savings_insurance', 39, 'none', 'own', 1, 'skilled', 1, 'none', 'yes', 3.0, 3.0, 1.0, 1.0, 0.0, 0.0, 0.0, 0.0, 3.0, 0.0, 0.0, 1.0, 0.0, [3.0, 3.0, 3.0, 1.0, 1.0, 1.0, 0.0, 0.0, 0.0, 0.0, 0.0, 0.0, 0.0, 4.0, 5306.0, 3.0, 2.0, 4.0, 39.0, 1.0, 1.0], [17.16378686005501, 2.836213139944994], [0.8581893430027503, 0.14181065699724968], 0.0, 'No Risk'], ['no_checking', 34, 'prior_payments_delayed', 'appliances', 7074, '100_to_500', '1_to_4', 4, 'male', 'none', 3, 'car_other', 25, 'none', 'own', 1, 'management_self-employed', 2, 'none', 'yes', 0.0, 0.0, 0.0, 1.0, 0.0, 0.0, 0.0, 2.0, 4.0, 0.0, 1.0, 0.0, 0.0, [21, [2, 3, 7, 10, 13, 14, 15, 16, 17, 18, 19, 20], [4.0, 1.0, 1.0, 2.0, 34.0, 7074.0, 4.0, 3.0, 34.0, 25.0, 1.0, 2.0]], [13.681170902312813, 6.318829097687186], [0.6840585451156407, 0.3159414548843593], 0.0, 'No Risk'], ['0_to_200', 16, 'credits_paid_to_date', 'furniture', 6540, '500_to_1000', '4_to_7', 3, 'female', 'none', 2, 'car_other', 43, 'none', 'own', 2, 'skilled', 2, 'none', 'yes', 2.0, 1.0, 1.0, 2.0, 0.0, 0.0, 0.0, 0.0, 1.0, 0.0, 1.0, 1.0, 0.0, [2.0, 1.0, 1.0, 2.0, 1.0, 1.0, 0.0, 1.0, 0.0, 0.0, 0.0, 0.0, 0.0, 16.0, 6540.0, 3.0, 2.0, 16.0, 43.0, 2.0, 2.0], [13.810219854371063, 6.189780145628939], [0.6905109927185531, 0.30948900728144696], 0.0, 'No Risk'], ['no_checking', 28, 'outstanding_credit', 'appliances', 6042, '500_to_1000', '4_to_7', 5, 'male', 'none', 4, 'unknown', 43, 'none', 'free', 2, 'management_self-employed', 1, 'yes', 'yes', 0.0, 2.0, 1.0, 2.0, 0.0, 2.0, 0.0, 2.0, 4.0, 0.0, 3.0, 0.0, 1.0, [0.0, 2.0, 4.0, 2.0, 1.0, 0.0, 0.0, 3.0, 0.0, 2.0, 2.0, 1.0, 0.0, 28.0, 6042.0, 5.0, 4.0, 28.0, 43.0, 2.0, 1.0], [7.5426426648876035, 12.457357335112393], [0.3771321332443802, 0.6228678667556198], 1.0, 'Risk'], ['less_0', 4, 'all_credits_paid_back', 'car_new', 250, 'less_100', 'less_1', 1, 'female', 'none', 2, 'real_estate', 19, 'none', 'rent', 1, 'skilled', 1, 'none', 'yes', 1.0, 3.0, 3.0, 0.0, 0.0, 1.0, 0.0, 0.0, 0.0, 0.0, 2.0, 1.0, 0.0, [1.0, 3.0, 0.0, 0.0, 3.0, 1.0, 0.0, 2.0, 0.0, 1.0, 0.0, 0.0, 0.0, 4.0, 250.0, 1.0, 2.0, 4.0, 19.0, 1.0, 1.0], [19.603636407962725, 0.396363592037273], [0.9801818203981364, 0.019818179601863654], 0.0, 'No Risk'], ['0_to_200', 16, 'credits_paid_to_date', 'car_new', 5238, 'less_100', '1_to_4', 2, 'female', 'none', 3, 'unknown', 35, 'none', 'own', 1, 'skilled', 1, 'none', 'yes', 2.0, 1.0, 0.0, 0.0, 0.0, 0.0, 0.0, 0.0, 0.0, 0.0, 3.0, 1.0, 0.0, [21, [0, 1, 5, 7, 13, 14, 15, 16, 17, 18, 19, 20], [2.0, 1.0, 1.0, 3.0, 16.0, 5238.0, 2.0, 3.0, 16.0, 35.0, 1.0, 1.0]], [15.266639678935109, 4.7333603210648905], [0.7633319839467554, 0.23666801605324453], 0.0, 'No Risk'], ['0_to_200', 40, 'outstanding_credit', 'repairs', 3869, '500_to_1000', 'greater_7', 5, 'male', 'none', 4, 'savings_insurance', 27, 'none', 'own', 1, 'skilled', 1, 'yes', 'yes', 2.0, 2.0, 2.0, 2.0, 0.0, 0.0, 0.0, 0.0, 5.0, 0.0, 0.0, 0.0, 1.0, [2.0, 2.0, 5.0, 2.0, 2.0, 0.0, 0.0, 0.0, 0.0, 0.0, 0.0, 1.0, 0.0, 40.0, 3869.0, 5.0, 4.0, 40.0, 27.0, 1.0, 1.0], [11.57688999983781, 8.423110000162188], [0.5788444999918905, 0.4211555000081094], 0.0, 'No Risk'], ['no_checking', 25, 'prior_payments_delayed', 'radio_tv', 6351, '500_to_1000', '1_to_4', 4, 'male', 'none', 3, 'unknown', 35, 'none', 'own', 1, 'management_self-employed', 1, 'none', 'yes', 0.0, 0.0, 0.0, 2.0, 0.0, 0.0, 0.0, 2.0, 3.0, 0.0, 3.0, 0.0, 0.0, [21, [2, 3, 7, 10, 13, 14, 15, 16, 17, 18, 19, 20], [3.0, 2.0, 3.0, 2.0, 25.0, 6351.0, 4.0, 3.0, 25.0, 35.0, 1.0, 1.0]], [13.622399387799264, 6.377600612200734], [0.6811199693899632, 0.31888003061003667], 0.0, 'No Risk'], ['0_to_200', 4, 'credits_paid_to_date', 'car_new', 250, '500_to_1000', 'less_1', 2, 'female', 'co-applicant', 1, 'real_estate', 31, 'none', 'own', 1, 'skilled', 1, 'yes', 'yes', 2.0, 1.0, 3.0, 2.0, 0.0, 0.0, 0.0, 0.0, 0.0, 1.0, 2.0, 1.0, 1.0, [2.0, 1.0, 0.0, 2.0, 3.0, 1.0, 1.0, 2.0, 0.0, 0.0, 0.0, 1.0, 0.0, 4.0, 250.0, 2.0, 1.0, 4.0, 31.0, 1.0, 1.0], [18.583883695440356, 1.416116304559642], [0.9291941847720178, 0.0708058152279821], 0.0, 'No Risk'], ['no_checking', 19, 'all_credits_paid_back', 'furniture', 499, 'less_100', '4_to_7', 2, 'female', 'none', 3, 'savings_insurance', 36, 'none', 'rent', 1, 'skilled', 1, 'none', 'yes', 0.0, 3.0, 1.0, 0.0, 0.0, 1.0, 0.0, 0.0, 1.0, 0.0, 0.0, 1.0, 0.0, [0.0, 3.0, 1.0, 0.0, 1.0, 1.0, 0.0, 0.0, 0.0, 1.0, 0.0, 0.0, 0.0, 19.0, 499.0, 2.0, 3.0, 19.0, 36.0, 1.0, 1.0], [13.390036499863479, 6.60996350013652], [0.6695018249931739, 0.330498175006826], 0.0, 'No Risk'], ['no_checking', 19, 'outstanding_credit', 'radio_tv', 3982, '500_to_1000', '4_to_7', 4, 'male', 'none', 4, 'savings_insurance', 49, 'none', 'free', 2, 'management_self-employed', 1, 'yes', 'yes', 0.0, 2.0, 1.0, 2.0, 0.0, 2.0, 0.0, 2.0, 3.0, 0.0, 0.0, 0.0, 1.0, [0.0, 2.0, 3.0, 2.0, 1.0, 0.0, 0.0, 0.0, 0.0, 2.0, 2.0, 1.0, 0.0, 19.0, 3982.0, 4.0, 4.0, 19.0, 49.0, 2.0, 1.0], [10.031064054784588, 9.968935945215412], [0.5015532027392294, 0.49844679726077057], 0.0, 'No Risk'], ['less_0', 13, 'credits_paid_to_date', 'furniture', 2830, '100_to_500', '4_to_7', 2, 'male', 'none', 3, 'savings_insurance', 36, 'none', 'own', 1, 'skilled', 2, 'yes', 'yes', 1.0, 1.0, 1.0, 1.0, 0.0, 0.0, 0.0, 0.0, 1.0, 0.0, 0.0, 0.0, 1.0, [1.0, 1.0, 1.0, 1.0, 1.0, 0.0, 0.0, 0.0, 0.0, 0.0, 0.0, 1.0, 0.0, 13.0, 2830.0, 2.0, 3.0, 13.0, 36.0, 1.0, 2.0], [15.026043718854567, 4.97395628114543], [0.7513021859427285, 0.24869781405727154], 0.0, 'No Risk'], ['no_checking', 22, 'prior_payments_delayed', 'retraining', 3465, '100_to_500', 'less_1', 3, 'male', 'none', 4, 'car_other', 31, 'none', 'rent', 1, 'management_self-employed', 1, 'none', 'yes', 0.0, 0.0, 3.0, 1.0, 0.0, 1.0, 0.0, 2.0, 8.0, 0.0, 1.0, 0.0, 0.0, [0.0, 0.0, 8.0, 1.0, 3.0, 0.0, 0.0, 1.0, 0.0, 1.0, 2.0, 0.0, 0.0, 22.0, 3465.0, 3.0, 4.0, 22.0, 31.0, 1.0, 1.0], [14.11433218375858, 5.885667816241422], [0.705716609187929, 0.2942833908120711], 0.0, 'No Risk'], ['0_to_200', 22, 'credits_paid_to_date', 'furniture', 3277, 'less_100', '4_to_7', 4, 'male', 'co-applicant', 2, 'savings_insurance', 36, 'bank', 'rent', 2, 'unskilled', 1, 'yes', 'yes', 2.0, 1.0, 1.0, 0.0, 0.0, 1.0, 2.0, 1.0, 1.0, 1.0, 0.0, 0.0, 1.0, [2.0, 1.0, 1.0, 0.0, 1.0, 0.0, 1.0, 0.0, 2.0, 1.0, 1.0, 1.0, 0.0, 22.0, 3277.0, 4.0, 2.0, 22.0, 36.0, 2.0, 1.0], [14.942704065389432, 5.057295934610568], [0.7471352032694716, 0.2528647967305284], 0.0, 'No Risk'], ['no_checking', 16, 'outstanding_credit', 'retraining', 2987, 'greater_1000', 'greater_7', 4, 'male', 'co-applicant', 4, 'car_other', 48, 'none', 'own', 1, 'skilled', 1, 'yes', 'yes', 0.0, 2.0, 2.0, 3.0, 0.0, 0.0, 0.0, 0.0, 8.0, 1.0, 1.0, 0.0, 1.0, [0.0, 2.0, 8.0, 3.0, 2.0, 0.0, 1.0, 1.0, 0.0, 0.0, 0.0, 1.0, 0.0, 16.0, 2987.0, 4.0, 4.0, 16.0, 48.0, 1.0, 1.0], [8.826276061488269, 11.173723938511731], [0.4413138030744134, 0.5586861969255865], 1.0, 'Risk'], ['0_to_200', 19, 'credits_paid_to_date', 'appliances', 1044, 'less_100', '1_to_4', 3, 'male', 'none', 3, 'savings_insurance', 31, 'none', 'own', 1, 'skilled', 1, 'none', 'yes', 2.0, 1.0, 0.0, 0.0, 0.0, 0.0, 0.0, 0.0, 4.0, 0.0, 0.0, 0.0, 0.0, [21, [0, 1, 2, 13, 14, 15, 16, 17, 18, 19, 20], [2.0, 1.0, 4.0, 19.0, 1044.0, 3.0, 3.0, 19.0, 31.0, 1.0, 1.0]], [15.385863077516992, 4.614136922483004], [0.7692931538758497, 0.23070684612415024], 0.0, 'No Risk'], ['no_checking', 33, 'outstanding_credit', 'furniture', 6390, '500_to_1000', 'greater_7', 5, 'male', 'co-applicant', 5, 'unknown', 50, 'none', 'own', 2, 'skilled', 2, 'yes', 'yes', 0.0, 2.0, 2.0, 2.0, 0.0, 0.0, 0.0, 0.0, 1.0, 1.0, 3.0, 0.0, 1.0, [0.0, 2.0, 1.0, 2.0, 2.0, 0.0, 1.0, 3.0, 0.0, 0.0, 0.0, 1.0, 0.0, 33.0, 6390.0, 5.0, 5.0, 33.0, 50.0, 2.0, 2.0], [1.4019503694939315, 18.59804963050607], [0.07009751847469657, 0.9299024815253034], 1.0, 'Risk'], ['0_to_200', 16, 'credits_paid_to_date', 'retraining', 575, '500_to_1000', '4_to_7', 3, 'male', 'none', 2, 'savings_insurance', 35, 'none', 'rent', 1, 'skilled', 1, 'none', 'yes', 2.0, 1.0, 1.0, 2.0, 0.0, 1.0, 0.0, 0.0, 8.0, 0.0, 0.0, 0.0, 0.0, [2.0, 1.0, 8.0, 2.0, 1.0, 0.0, 0.0, 0.0, 0.0, 1.0, 0.0, 0.0, 0.0, 16.0, 575.0, 3.0, 2.0, 16.0, 35.0, 1.0, 1.0], [16.374882037379717, 3.6251179626202807], [0.8187441018689859, 0.18125589813101406], 0.0, 'No Risk'], ['no_checking', 36, 'prior_payments_delayed', 'other', 4365, '500_to_1000', 'greater_7', 4, 'male', 'none', 3, 'car_other', 45, 'none', 'own', 2, 'skilled', 1, 'none', 'yes', 0.0, 0.0, 2.0, 2.0, 0.0, 0.0, 0.0, 0.0, 10.0, 0.0, 1.0, 0.0, 0.0, [21, [2, 3, 4, 7, 13, 14, 15, 16, 17, 18, 19, 20], [10.0, 2.0, 2.0, 1.0, 36.0, 4365.0, 4.0, 3.0, 36.0, 45.0, 2.0, 1.0]], [8.64821845186343, 11.351781548136566], [0.4324109225931716, 0.5675890774068284], 1.0, 'Risk'], ['0_to_200', 12, 'credits_paid_to_date', 'car_new', 250, '500_to_1000', 'less_1', 2, 'female', 'none', 2, 'real_estate', 36, 'none', 'own', 1, 'skilled', 1, 'none', 'yes', 2.0, 1.0, 3.0, 2.0, 0.0, 0.0, 0.0, 0.0, 0.0, 0.0, 2.0, 1.0, 0.0, [2.0, 1.0, 0.0, 2.0, 3.0, 1.0, 0.0, 2.0, 0.0, 0.0, 0.0, 0.0, 0.0, 12.0, 250.0, 2.0, 2.0, 12.0, 36.0, 1.0, 1.0], [18.486640170626554, 1.5133598293734432], [0.9243320085313279, 0.07566799146867217], 0.0, 'No Risk'], ['no_checking', 43, 'prior_payments_delayed', 'vacation', 10259, 'unknown', 'greater_7', 4, 'male', 'co-applicant', 4, 'unknown', 48, 'none', 'free', 2, 'skilled', 2, 'yes', 'yes', 0.0, 0.0, 2.0, 4.0, 0.0, 2.0, 0.0, 0.0, 6.0, 1.0, 3.0, 0.0, 1.0, [0.0, 0.0, 6.0, 4.0, 2.0, 0.0, 1.0, 3.0, 0.0, 2.0, 0.0, 1.0, 0.0, 43.0, 10259.0, 4.0, 4.0, 43.0, 48.0, 2.0, 2.0], [1.8472773314307265, 18.152722668569275], [0.09236386657153632, 0.9076361334284637], 1.0, 'Risk'], ['less_0', 34, 'outstanding_credit', 'appliances', 3017, 'unknown', 'greater_7', 3, 'male', 'none', 3, 'car_other', 38, 'stores', 'free', 2, 'skilled', 1, 'yes', 'yes', 1.0, 2.0, 2.0, 4.0, 0.0, 2.0, 1.0, 0.0, 4.0, 0.0, 1.0, 0.0, 1.0, [1.0, 2.0, 4.0, 4.0, 2.0, 0.0, 0.0, 1.0, 1.0, 2.0, 0.0, 1.0, 0.0, 34.0, 3017.0, 3.0, 3.0, 34.0, 38.0, 2.0, 1.0], [12.284814934272406, 7.715185065727596], [0.6142407467136203, 0.3857592532863798], 0.0, 'No Risk'], ['no_checking', 43, 'prior_payments_delayed', 'repairs', 10481, '500_to_1000', 'greater_7', 4, 'male', 'co-applicant', 5, 'unknown', 49, 'none', 'free', 3, 'skilled', 2, 'yes', 'yes', 0.0, 0.0, 2.0, 2.0, 0.0, 2.0, 0.0, 0.0, 5.0, 1.0, 3.0, 0.0, 1.0, [0.0, 0.0, 5.0, 2.0, 2.0, 0.0, 1.0, 3.0, 0.0, 2.0, 0.0, 1.0, 0.0, 43.0, 10481.0, 4.0, 5.0, 43.0, 49.0, 3.0, 2.0], [1.5176652661685803, 18.482334733831422], [0.075883263308429, 0.9241167366915709], 1.0, 'Risk'], ['less_0', 17, 'credits_paid_to_date', 'furniture', 250, 'less_100', '1_to_4', 3, 'male', 'none', 2, 'real_estate', 37, 'stores', 'own', 1, 'unskilled', 1, 'none', 'yes', 1.0, 1.0, 0.0, 0.0, 0.0, 0.0, 1.0, 1.0, 1.0, 0.0, 2.0, 0.0, 0.0, [1.0, 1.0, 1.0, 0.0, 0.0, 0.0, 0.0, 2.0, 1.0, 0.0, 1.0, 0.0, 0.0, 17.0, 250.0, 3.0, 2.0, 17.0, 37.0, 1.0, 1.0], [18.136424181411762, 1.8635758185882425], [0.9068212090705879, 0.09317879092941211], 0.0, 'No Risk'], ['0_to_200', 20, 'outstanding_credit', 'furniture', 2744, '100_to_500', 'greater_7', 3, 'male', 'none', 4, 'car_other', 50, 'none', 'own', 2, 'skilled', 2, 'yes', 'yes', 2.0, 2.0, 2.0, 1.0, 0.0, 0.0, 0.0, 0.0, 1.0, 0.0, 1.0, 0.0, 1.0, [2.0, 2.0, 1.0, 1.0, 2.0, 0.0, 0.0, 1.0, 0.0, 0.0, 0.0, 1.0, 0.0, 20.0, 2744.0, 3.0, 4.0, 20.0, 50.0, 2.0, 2.0], [10.242320847959833, 9.757679152040163], [0.5121160423979918, 0.48788395760200826], 0.0, 'No Risk'], ['less_0', 10, 'prior_payments_delayed', 'car_new', 2521, '100_to_500', '4_to_7', 3, 'male', 'none', 4, 'car_other', 30, 'bank', 'own', 2, 'unskilled', 1, 'none', 'yes', 1.0, 0.0, 1.0, 1.0, 0.0, 0.0, 2.0, 1.0, 0.0, 0.0, 1.0, 0.0, 0.0, [1.0, 0.0, 0.0, 1.0, 1.0, 0.0, 0.0, 1.0, 2.0, 0.0, 1.0, 0.0, 0.0, 10.0, 2521.0, 3.0, 4.0, 10.0, 30.0, 2.0, 1.0], [14.353472465181776, 5.646527534818225], [0.7176736232590888, 0.28232637674091127], 0.0, 'No Risk'], ['no_checking', 27, 'prior_payments_delayed', 'radio_tv', 4398, '100_to_500', '1_to_4', 2, 'male', 'none', 3, 'savings_insurance', 36, 'bank', 'own', 1, 'unskilled', 1, 'yes', 'yes', 0.0, 0.0, 0.0, 1.0, 0.0, 0.0, 2.0, 1.0, 3.0, 0.0, 0.0, 0.0, 1.0, [0.0, 0.0, 3.0, 1.0, 0.0, 0.0, 0.0, 0.0, 2.0, 0.0, 1.0, 1.0, 0.0, 27.0, 4398.0, 2.0, 3.0, 27.0, 36.0, 1.0, 1.0], [13.510789598145488, 6.489210401854512], [0.6755394799072744, 0.32446052009272563], 0.0, 'No Risk'], ['no_checking', 30, 'outstanding_credit', 'furniture', 5930, '500_to_1000', '4_to_7', 3, 'male', 'co-applicant', 3, 'unknown', 57, 'none', 'free', 2, 'skilled', 1, 'yes', 'yes', 0.0, 2.0, 1.0, 2.0, 0.0, 2.0, 0.0, 0.0, 1.0, 1.0, 3.0, 0.0, 1.0, [0.0, 2.0, 1.0, 2.0, 1.0, 0.0, 1.0, 3.0, 0.0, 2.0, 0.0, 1.0, 0.0, 30.0, 5930.0, 3.0, 3.0, 30.0, 57.0, 2.0, 1.0], [2.677827448418327, 17.322172551581673], [0.13389137242091637, 0.8661086275790837], 1.0, 'Risk'], ['less_0', 7, 'prior_payments_delayed', 'furniture', 3237, 'less_100', '1_to_4', 1, 'male', 'none', 1, 'savings_insurance', 34, 'bank', 'rent', 1, 'unemployed', 1, 'none', 'yes', 1.0, 0.0, 0.0, 0.0, 0.0, 1.0, 2.0, 3.0, 1.0, 0.0, 0.0, 0.0, 0.0, [1.0, 0.0, 1.0, 0.0, 0.0, 0.0, 0.0, 0.0, 2.0, 1.0, 3.0, 0.0, 0.0, 7.0, 3237.0, 1.0, 1.0, 7.0, 34.0, 1.0, 1.0], [17.542922131756878, 2.4570778682431196], [0.8771461065878441, 0.122853893412156], 0.0, 'No Risk'], ['less_0', 29, 'prior_payments_delayed', 'appliances', 4347, 'less_100', '4_to_7', 3, 'male', 'none', 3, 'unknown', 33, 'none', 'own', 1, 'skilled', 2, 'yes', 'yes', 1.0, 0.0, 1.0, 0.0, 0.0, 0.0, 0.0, 0.0, 4.0, 0.0, 3.0, 0.0, 1.0, [1.0, 0.0, 4.0, 0.0, 1.0, 0.0, 0.0, 3.0, 0.0, 0.0, 0.0, 1.0, 0.0, 29.0, 4347.0, 3.0, 3.0, 29.0, 33.0, 1.0, 2.0], [11.453118667160497, 8.546881332839504], [0.5726559333580249, 0.4273440666419752], 0.0, 'No Risk'], ['less_0', 4, 'credits_paid_to_date', 'radio_tv', 640, 'less_100', '1_to_4', 3, 'female', 'none', 3, 'savings_insurance', 19, 'bank', 'rent', 1, 'unskilled', 1, 'none', 'yes', 1.0, 1.0, 0.0, 0.0, 0.0, 1.0, 2.0, 1.0, 3.0, 0.0, 0.0, 1.0, 0.0, [1.0, 1.0, 3.0, 0.0, 0.0, 1.0, 0.0, 0.0, 2.0, 1.0, 1.0, 0.0, 0.0, 4.0, 640.0, 3.0, 3.0, 4.0, 19.0, 1.0, 1.0], [17.96030507806626, 2.0396949219337412], [0.8980152539033129, 0.10198474609668706], 0.0, 'No Risk'], ['no_checking', 28, 'outstanding_credit', 'appliances', 7056, '500_to_1000', '4_to_7', 5, 'male', 'none', 4, 'unknown', 52, 'stores', 'own', 2, 'unskilled', 2, 'yes', 'yes', 0.0, 2.0, 1.0, 2.0, 0.0, 0.0, 1.0, 1.0, 4.0, 0.0, 3.0, 0.0, 1.0, [0.0, 2.0, 4.0, 2.0, 1.0, 0.0, 0.0, 3.0, 1.0, 0.0, 1.0, 1.0, 0.0, 28.0, 7056.0, 5.0, 4.0, 28.0, 52.0, 2.0, 2.0], [6.205901717198379, 13.79409828280162], [0.31029508585991894, 0.6897049141400811], 1.0, 'Risk'], ['no_checking', 27, 'prior_payments_delayed', 'appliances', 4835, '100_to_500', '1_to_4', 3, 'female', 'none', 3, 'savings_insurance', 53, 'stores', 'own', 2, 'unskilled', 1, 'none', 'no', 0.0, 0.0, 0.0, 1.0, 1.0, 0.0, 1.0, 1.0, 4.0, 0.0, 0.0, 1.0, 0.0, [0.0, 0.0, 4.0, 1.0, 0.0, 1.0, 0.0, 0.0, 1.0, 0.0, 1.0, 0.0, 1.0, 27.0, 4835.0, 3.0, 3.0, 27.0, 53.0, 2.0, 1.0], [11.803514448345785, 8.196485551654215], [0.5901757224172892, 0.4098242775827107], 0.0, 'No Risk'], ['less_0', 27, 'outstanding_credit', 'appliances', 3323, '100_to_500', 'greater_7', 2, 'female', 'none', 3, 'car_other', 42, 'stores', 'own', 2, 'unskilled', 1, 'none', 'yes', 1.0, 2.0, 2.0, 1.0, 0.0, 0.0, 1.0, 1.0, 4.0, 0.0, 1.0, 1.0, 0.0, [1.0, 2.0, 4.0, 1.0, 2.0, 1.0, 0.0, 1.0, 1.0, 0.0, 1.0, 0.0, 0.0, 27.0, 3323.0, 2.0, 3.0, 27.0, 42.0, 2.0, 1.0], [12.759217425454445, 7.240782574545553], [0.6379608712727224, 0.3620391287272777], 0.0, 'No Risk'], ['0_to_200', 11, 'credits_paid_to_date', 'vacation', 2652, 'less_100', '1_to_4', 3, 'female', 'none', 2, 'savings_insurance', 19, 'bank', 'rent', 1, 'unskilled', 1, 'none', 'yes', 2.0, 1.0, 0.0, 0.0, 0.0, 1.0, 2.0, 1.0, 6.0, 0.0, 0.0, 1.0, 0.0, [2.0, 1.0, 6.0, 0.0, 0.0, 1.0, 0.0, 0.0, 2.0, 1.0, 1.0, 0.0, 0.0, 11.0, 2652.0, 3.0, 2.0, 11.0, 19.0, 1.0, 1.0], [18.16963713929431, 1.8303628607056892], [0.9084818569647155, 0.09151814303528447], 0.0, 'No Risk'], ['no_checking', 27, 'credits_paid_to_date', 'radio_tv', 4476, '100_to_500', 'less_1', 2, 'male', 'none', 4, 'savings_insurance', 38, 'none', 'rent', 2, 'skilled', 1, 'none', 'yes', 0.0, 1.0, 3.0, 1.0, 0.0, 1.0, 0.0, 0.0, 3.0, 0.0, 0.0, 0.0, 0.0, [0.0, 1.0, 3.0, 1.0, 3.0, 0.0, 0.0, 0.0, 0.0, 1.0, 0.0, 0.0, 0.0, 27.0, 4476.0, 2.0, 4.0, 27.0, 38.0, 2.0, 1.0], [13.231549399736634, 6.7684506002633675], [0.6615774699868318, 0.33842253001316835], 0.0, 'No Risk'], ['less_0', 16, 'credits_paid_to_date', 'vacation', 250, 'less_100', 'less_1', 1, 'female', 'none', 2, 'real_estate', 19, 'stores', 'rent', 1, 'skilled', 1, 'none', 'yes', 1.0, 1.0, 3.0, 0.0, 0.0, 1.0, 1.0, 0.0, 6.0, 0.0, 2.0, 1.0, 0.0, [1.0, 1.0, 6.0, 0.0, 3.0, 1.0, 0.0, 2.0, 1.0, 1.0, 0.0, 0.0, 0.0, 16.0, 250.0, 1.0, 2.0, 16.0, 19.0, 1.0, 1.0], [19.311999801946918, 0.6880001980530791], [0.9655999900973461, 0.03440000990265396], 0.0, 'No Risk'], ['less_0', 4, 'credits_paid_to_date', 'car_new', 250, 'less_100', 'less_1', 1, 'male', 'none', 2, 'savings_insurance', 28, 'bank', 'rent', 1, 'unemployed', 1, 'none', 'yes', 1.0, 1.0, 3.0, 0.0, 0.0, 1.0, 2.0, 3.0, 0.0, 0.0, 0.0, 0.0, 0.0, [1.0, 1.0, 0.0, 0.0, 3.0, 0.0, 0.0, 0.0, 2.0, 1.0, 3.0, 0.0, 0.0, 4.0, 250.0, 1.0, 2.0, 4.0, 28.0, 1.0, 1.0], [19.456561973604245, 0.5434380263957488], [0.9728280986802126, 0.02717190131978745], 0.0, 'No Risk'], ['0_to_200', 19, 'prior_payments_delayed', 'car_used', 1979, '100_to_500', '4_to_7', 3, 'male', 'guarantor', 3, 'savings_insurance', 41, 'none', 'own', 2, 'skilled', 1, 'yes', 'yes', 2.0, 0.0, 1.0, 1.0, 0.0, 0.0, 0.0, 0.0, 2.0, 2.0, 0.0, 0.0, 1.0, [2.0, 0.0, 2.0, 1.0, 1.0, 0.0, 2.0, 0.0, 0.0, 0.0, 0.0, 1.0, 0.0, 19.0, 1979.0, 3.0, 3.0, 19.0, 41.0, 2.0, 1.0], [12.82427418190026, 7.175725818099738], [0.6412137090950131, 0.358786290904987], 0.0, 'No Risk'], ['less_0', 8, 'prior_payments_delayed', 'retraining', 1571, 'less_100', '4_to_7', 3, 'male', 'none', 2, 'car_other', 30, 'none', 'own', 1, 'skilled', 1, 'none', 'yes', 1.0, 0.0, 1.0, 0.0, 0.0, 0.0, 0.0, 0.0, 8.0, 0.0, 1.0, 0.0, 0.0, [21, [0, 2, 4, 7, 13, 14, 15, 16, 17, 18, 19, 20], [1.0, 8.0, 1.0, 1.0, 8.0, 1571.0, 3.0, 2.0, 8.0, 30.0, 1.0, 1.0]], [17.32258550551712, 2.67741449448288], [0.866129275275856, 0.13387072472414402], 0.0, 'No Risk'], ['no_checking', 32, 'all_credits_paid_back', 'furniture', 7175, 'less_100', '4_to_7', 3, 'male', 'none', 4, 'car_other', 43, 'none', 'own', 2, 'skilled', 2, 'yes', 'yes', 0.0, 3.0, 1.0, 0.0, 0.0, 0.0, 0.0, 0.0, 1.0, 0.0, 1.0, 0.0, 1.0, [0.0, 3.0, 1.0, 0.0, 1.0, 0.0, 0.0, 1.0, 0.0, 0.0, 0.0, 1.0, 0.0, 32.0, 7175.0, 3.0, 4.0, 32.0, 43.0, 2.0, 2.0], [9.329385611010682, 10.670614388989318], [0.4664692805505341, 0.5335307194494658], 1.0, 'Risk'], ['greater_200', 22, 'credits_paid_to_date', 'car_new', 2731, '100_to_500', '4_to_7', 3, 'male', 'none', 4, 'savings_insurance', 40, 'none', 'own', 2, 'skilled', 1, 'none', 'yes', 3.0, 1.0, 1.0, 1.0, 0.0, 0.0, 0.0, 0.0, 0.0, 0.0, 0.0, 0.0, 0.0, [21, [0, 1, 3, 4, 13, 14, 15, 16, 17, 18, 19, 20], [3.0, 1.0, 1.0, 1.0, 22.0, 2731.0, 3.0, 4.0, 22.0, 40.0, 2.0, 1.0]], [13.11435441652786, 6.885645583472138], [0.655717720826393, 0.34428227917360693], 0.0, 'No Risk'], ['less_0', 10, 'no_credits', 'car_new', 355, 'less_100', '1_to_4', 2, 'female', 'none', 1, 'real_estate', 23, 'none', 'own', 1, 'skilled', 1, 'none', 'yes', 1.0, 4.0, 0.0, 0.0, 0.0, 0.0, 0.0, 0.0, 0.0, 0.0, 2.0, 1.0, 0.0, [21, [0, 1, 5, 7, 13, 14, 15, 16, 17, 18, 19, 20], [1.0, 4.0, 1.0, 2.0, 10.0, 355.0, 2.0, 1.0, 10.0, 23.0, 1.0, 1.0]], [19.329571016229906, 0.6704289837700899], [0.9664785508114955, 0.0335214491885045], 0.0, 'No Risk'], ['0_to_200', 14, 'credits_paid_to_date', 'car_used', 2195, 'less_100', '4_to_7', 3, 'male', 'none', 2, 'savings_insurance', 31, 'none', 'own', 1, 'skilled', 1, 'none', 'yes', 2.0, 1.0, 1.0, 0.0, 0.0, 0.0, 0.0, 0.0, 2.0, 0.0, 0.0, 0.0, 0.0, [21, [0, 1, 2, 4, 13, 14, 15, 16, 17, 18, 19, 20], [2.0, 1.0, 2.0, 1.0, 14.0, 2195.0, 3.0, 2.0, 14.0, 31.0, 1.0, 1.0]], [16.834087331549775, 3.1659126684502232], [0.8417043665774889, 0.15829563342251118], 0.0, 'No Risk'], ['0_to_200', 13, 'prior_payments_delayed', 'car_new', 3759, '500_to_1000', 'greater_7', 2, 'male', 'none', 2, 'savings_insurance', 39, 'bank', 'own', 1, 'unemployed', 1, 'none', 'yes', 2.0, 0.0, 2.0, 2.0, 0.0, 0.0, 2.0, 3.0, 0.0, 0.0, 0.0, 0.0, 0.0, [2.0, 0.0, 0.0, 2.0, 2.0, 0.0, 0.0, 0.0, 2.0, 0.0, 3.0, 0.0, 0.0, 13.0, 3759.0, 2.0, 2.0, 13.0, 39.0, 1.0, 1.0], [16.492158023342135, 3.5078419766578635], [0.8246079011671068, 0.17539209883289317], 0.0, 'No Risk'], ['greater_200', 26, 'credits_paid_to_date', 'radio_tv', 5013, '100_to_500', '1_to_4', 4, 'male', 'none', 3, 'car_other', 36, 'none', 'free', 2, 'skilled', 1, 'none', 'yes', 3.0, 1.0, 0.0, 1.0, 0.0, 2.0, 0.0, 0.0, 3.0, 0.0, 1.0, 0.0, 0.0, [3.0, 1.0, 3.0, 1.0, 0.0, 0.0, 0.0, 1.0, 0.0, 2.0, 0.0, 0.0, 0.0, 26.0, 5013.0, 4.0, 3.0, 26.0, 36.0, 2.0, 1.0], [12.510065571471547, 7.489934428528452], [0.6255032785735773, 0.3744967214264226], 0.0, 'No Risk'], ['less_0', 5, 'all_credits_paid_back', 'car_new', 3266, '100_to_500', 'less_1', 2, 'male', 'none', 2, 'savings_insurance', 33, 'none', 'rent', 1, 'management_self-employed', 1, 'none', 'yes', 1.0, 3.0, 3.0, 1.0, 0.0, 1.0, 0.0, 2.0, 0.0, 0.0, 0.0, 0.0, 0.0, [1.0, 3.0, 0.0, 1.0, 3.0, 0.0, 0.0, 0.0, 0.0, 1.0, 2.0, 0.0, 0.0, 5.0, 3266.0, 2.0, 2.0, 5.0, 33.0, 1.0, 1.0], [18.85936266997342, 1.1406373300265757], [0.9429681334986713, 0.0570318665013288], 0.0, 'No Risk'], ['0_to_200', 20, 'credits_paid_to_date', 'car_new', 250, 'less_100', '1_to_4', 2, 'female', 'none', 3, 'savings_insurance', 19, 'stores', 'own', 1, 'skilled', 1, 'none', 'yes', 2.0, 1.0, 0.0, 0.0, 0.0, 0.0, 1.0, 0.0, 0.0, 0.0, 0.0, 1.0, 0.0, [21, [0, 1, 5, 8, 13, 14, 15, 16, 17, 18, 19, 20], [2.0, 1.0, 1.0, 1.0, 20.0, 250.0, 2.0, 3.0, 20.0, 19.0, 1.0, 1.0]], [16.44304301207758, 3.556956987922419], [0.822152150603879, 0.17784784939612094], 0.0, 'No Risk'], ['less_0', 10, 'prior_payments_delayed', 'furniture', 250, 'less_100', '1_to_4', 1, 'female', 'none', 2, 'car_other', 26, 'stores', 'own', 1, 'skilled', 1, 'yes', 'yes', 1.0, 0.0, 0.0, 0.0, 0.0, 0.0, 1.0, 0.0, 1.0, 0.0, 1.0, 1.0, 1.0, [1.0, 0.0, 1.0, 0.0, 0.0, 1.0, 0.0, 1.0, 1.0, 0.0, 0.0, 1.0, 0.0, 10.0, 250.0, 1.0, 2.0, 10.0, 26.0, 1.0, 1.0], [17.68756184728109, 2.312438152718913], [0.8843780923640544, 0.11562190763594564], 0.0, 'No Risk'], ['less_0', 4, 'no_credits', 'car_new', 770, 'less_100', 'unemployed', 2, 'male', 'none', 2, 'real_estate', 30, 'bank', 'rent', 1, 'unskilled', 1, 'none', 'yes', 1.0, 4.0, 4.0, 0.0, 0.0, 1.0, 2.0, 1.0, 0.0, 0.0, 2.0, 0.0, 0.0, [1.0, 4.0, 0.0, 0.0, 4.0, 0.0, 0.0, 2.0, 2.0, 1.0, 1.0, 0.0, 0.0, 4.0, 770.0, 2.0, 2.0, 4.0, 30.0, 1.0, 1.0], [19.540146515941665, 0.4598534840583306], [0.9770073257970834, 0.022992674202916535], 0.0, 'No Risk'], ['less_0', 4, 'all_credits_paid_back', 'car_new', 250, 'less_100', 'unemployed', 1, 'female', 'none', 1, 'real_estate', 29, 'stores', 'own', 1, 'skilled', 1, 'none', 'yes', 1.0, 3.0, 4.0, 0.0, 0.0, 0.0, 1.0, 0.0, 0.0, 0.0, 2.0, 1.0, 0.0, [1.0, 3.0, 0.0, 0.0, 4.0, 1.0, 0.0, 2.0, 1.0, 0.0, 0.0, 0.0, 0.0, 4.0, 250.0, 1.0, 1.0, 4.0, 29.0, 1.0, 1.0], [19.513126638395235, 0.4868733616047649], [0.9756563319197618, 0.024343668080238245], 0.0, 'No Risk'], ['no_checking', 12, 'prior_payments_delayed', 'furniture', 3644, '100_to_500', '4_to_7', 3, 'female', 'none', 3, 'real_estate', 33, 'none', 'own', 1, 'skilled', 1, 'yes', 'yes', 0.0, 0.0, 1.0, 1.0, 0.0, 0.0, 0.0, 0.0, 1.0, 0.0, 2.0, 1.0, 1.0, [0.0, 0.0, 1.0, 1.0, 1.0, 1.0, 0.0, 2.0, 0.0, 0.0, 0.0, 1.0, 0.0, 12.0, 3644.0, 3.0, 3.0, 12.0, 33.0, 1.0, 1.0], [13.215277999222865, 6.784722000777135], [0.6607638999611433, 0.33923610003885674], 0.0, 'No Risk'], ['less_0', 18, 'credits_paid_to_date', 'car_new', 3028, 'less_100', 'less_1', 3, 'female', 'none', 2, 'savings_insurance', 31, 'none', 'own', 1, 'skilled', 1, 'none', 'yes', 1.0, 1.0, 3.0, 0.0, 0.0, 0.0, 0.0, 0.0, 0.0, 0.0, 0.0, 1.0, 0.0, [21, [0, 1, 4, 5, 13, 14, 15, 16, 17, 18, 19, 20], [1.0, 1.0, 3.0, 1.0, 18.0, 3028.0, 3.0, 2.0, 18.0, 31.0, 1.0, 1.0]], [18.138437636270485, 1.8615623637295131], [0.9069218818135244, 0.09307811818647567], 0.0, 'No Risk'], ['0_to_200', 7, 'all_credits_paid_back', 'car_used', 1362, 'less_100', '1_to_4', 3, 'female', 'none', 3, 'real_estate', 19, 'none', 'own', 1, 'skilled', 1, 'none', 'yes', 2.0, 3.0, 0.0, 0.0, 0.0, 0.0, 0.0, 0.0, 2.0, 0.0, 2.0, 1.0, 0.0, [2.0, 3.0, 2.0, 0.0, 0.0, 1.0, 0.0, 2.0, 0.0, 0.0, 0.0, 0.0, 0.0, 7.0, 1362.0, 3.0, 3.0, 7.0, 19.0, 1.0, 1.0], [18.29456774235449, 1.705432257645503], [0.9147283871177249, 0.08527161288227518], 0.0, 'No Risk'], ['no_checking', 41, 'prior_payments_delayed', 'repairs', 7384, '500_to_1000', '4_to_7', 4, 'male', 'co-applicant', 4, 'savings_insurance', 31, 'stores', 'own', 1, 'unskilled', 1, 'yes', 'yes', 0.0, 0.0, 1.0, 2.0, 0.0, 0.0, 1.0, 1.0, 5.0, 1.0, 0.0, 0.0, 1.0, [0.0, 0.0, 5.0, 2.0, 1.0, 0.0, 1.0, 0.0, 1.0, 0.0, 1.0, 1.0, 0.0, 41.0, 7384.0, 4.0, 4.0, 41.0, 31.0, 1.0, 1.0], [9.673529817238272, 10.326470182761728], [0.4836764908619136, 0.5163235091380864], 1.0, 'Risk'], ['0_to_200', 13, 'credits_paid_to_date', 'furniture', 3112, 'less_100', 'less_1', 3, 'female', 'none', 3, 'car_other', 33, 'none', 'rent', 1, 'skilled', 1, 'none', 'yes', 2.0, 1.0, 3.0, 0.0, 0.0, 1.0, 0.0, 0.0, 1.0, 0.0, 1.0, 1.0, 0.0, [2.0, 1.0, 1.0, 0.0, 3.0, 1.0, 0.0, 1.0, 0.0, 1.0, 0.0, 0.0, 0.0, 13.0, 3112.0, 3.0, 3.0, 13.0, 33.0, 1.0, 1.0], [16.69618352053277, 3.3038164794672276], [0.8348091760266386, 0.1651908239733614], 0.0, 'No Risk'], ['less_0', 9, 'all_credits_paid_back', 'car_used', 516, 'less_100', '1_to_4', 3, 'male', 'none', 1, 'real_estate', 35, 'stores', 'own', 1, 'skilled', 1, 'none', 'yes', 1.0, 3.0, 0.0, 0.0, 0.0, 0.0, 1.0, 0.0, 2.0, 0.0, 2.0, 0.0, 0.0, [1.0, 3.0, 2.0, 0.0, 0.0, 0.0, 0.0, 2.0, 1.0, 0.0, 0.0, 0.0, 0.0, 9.0, 516.0, 3.0, 1.0, 9.0, 35.0, 1.0, 1.0], [18.761449316651998, 1.2385506833480044], [0.9380724658325997, 0.06192753416740021], 0.0, 'No Risk'], ['no_checking', 35, 'prior_payments_delayed', 'appliances', 7684, '100_to_500', '4_to_7', 4, 'female', 'none', 3, 'car_other', 43, 'none', 'free', 2, 'skilled', 1, 'none', 'yes', 0.0, 0.0, 1.0, 1.0, 0.0, 2.0, 0.0, 0.0, 4.0, 0.0, 1.0, 1.0, 0.0, [0.0, 0.0, 4.0, 1.0, 1.0, 1.0, 0.0, 1.0, 0.0, 2.0, 0.0, 0.0, 0.0, 35.0, 7684.0, 4.0, 3.0, 35.0, 43.0, 2.0, 1.0], [6.703394608542764, 13.296605391457238], [0.3351697304271382, 0.6648302695728618], 1.0, 'Risk'], ['no_checking', 45, 'prior_payments_delayed', 'other', 11215, '500_to_1000', '4_to_7', 5, 'male', 'co-applicant', 4, 'unknown', 43, 'none', 'free', 2, 'management_self-employed', 1, 'none', 'yes', 0.0, 0.0, 1.0, 2.0, 0.0, 2.0, 0.0, 2.0, 10.0, 1.0, 3.0, 0.0, 0.0, [0.0, 0.0, 10.0, 2.0, 1.0, 0.0, 1.0, 3.0, 0.0, 2.0, 2.0, 0.0, 0.0, 45.0, 11215.0, 5.0, 4.0, 45.0, 43.0, 2.0, 1.0], [6.167520750433069, 13.832479249566932], [0.30837603752165343, 0.6916239624783466], 1.0, 'Risk'], ['0_to_200', 19, 'credits_paid_to_date', 'car_new', 5804, '500_to_1000', 'less_1', 3, 'male', 'none', 4, 'savings_insurance', 26, 'none', 'rent', 2, 'skilled', 1, 'none', 'yes', 2.0, 1.0, 3.0, 2.0, 0.0, 1.0, 0.0, 0.0, 0.0, 0.0, 0.0, 0.0, 0.0, [2.0, 1.0, 0.0, 2.0, 3.0, 0.0, 0.0, 0.0, 0.0, 1.0, 0.0, 0.0, 0.0, 19.0, 5804.0, 3.0, 4.0, 19.0, 26.0, 2.0, 1.0], [15.638770024084918, 4.3612299759150845], [0.7819385012042458, 0.21806149879575418], 0.0, 'No Risk'], ['no_checking', 8, 'credits_paid_to_date', 'car_used', 437, '500_to_1000', '1_to_4', 3, 'female', 'co-applicant', 2, 'real_estate', 36, 'stores', 'own', 2, 'unskilled', 1, 'yes', 'yes', 0.0, 1.0, 0.0, 2.0, 0.0, 0.0, 1.0, 1.0, 2.0, 1.0, 2.0, 1.0, 1.0, [0.0, 1.0, 2.0, 2.0, 0.0, 1.0, 1.0, 2.0, 1.0, 0.0, 1.0, 1.0, 0.0, 8.0, 437.0, 3.0, 2.0, 8.0, 36.0, 2.0, 1.0], [14.032680916269499, 5.9673190837305015], [0.7016340458134749, 0.29836595418652506], 0.0, 'No Risk'], ['no_checking', 31, 'outstanding_credit', 'furniture', 5145, 'greater_1000', 'greater_7', 5, 'male', 'co-applicant', 4, 'car_other', 49, 'none', 'free', 2, 'skilled', 2, 'yes', 'yes', 0.0, 2.0, 2.0, 3.0, 0.0, 2.0, 0.0, 0.0, 1.0, 1.0, 1.0, 0.0, 1.0, [0.0, 2.0, 1.0, 3.0, 2.0, 0.0, 1.0, 1.0, 0.0, 2.0, 0.0, 1.0, 0.0, 31.0, 5145.0, 5.0, 4.0, 31.0, 49.0, 2.0, 2.0], [2.4386809396288593, 17.56131906037114], [0.12193404698144297, 0.878065953018557], 1.0, 'Risk'], ['no_checking', 31, 'outstanding_credit', 'furniture', 8831, 'unknown', '4_to_7', 4, 'male', 'co-applicant', 3, 'car_other', 42, 'stores', 'rent', 2, 'unskilled', 2, 'yes', 'yes', 0.0, 2.0, 1.0, 4.0, 0.0, 1.0, 1.0, 1.0, 1.0, 1.0, 1.0, 0.0, 1.0, [0.0, 2.0, 1.0, 4.0, 1.0, 0.0, 1.0, 1.0, 1.0, 1.0, 1.0, 1.0, 0.0, 31.0, 8831.0, 4.0, 3.0, 31.0, 42.0, 2.0, 2.0], [6.143184835011222, 13.85681516498878], [0.3071592417505611, 0.6928407582494389], 1.0, 'Risk'], ['0_to_200', 10, 'prior_payments_delayed', 'car_new', 3198, 'less_100', '4_to_7', 3, 'male', 'none', 2, 'savings_insurance', 20, 'none', 'own', 1, 'skilled', 1, 'none', 'yes', 2.0, 0.0, 1.0, 0.0, 0.0, 0.0, 0.0, 0.0, 0.0, 0.0, 0.0, 0.0, 0.0, [21, [0, 4, 13, 14, 15, 16, 17, 18, 19, 20], [2.0, 1.0, 10.0, 3198.0, 3.0, 2.0, 10.0, 20.0, 1.0, 1.0]], [17.46849582460277, 2.5315041753972314], [0.8734247912301385, 0.12657520876986156], 0.0, 'No Risk'], ['0_to_200', 21, 'credits_paid_to_date', 'radio_tv', 630, 'less_100', '1_to_4', 3, 'male', 'none', 2, 'savings_insurance', 22, 'none', 'own', 1, 'skilled', 1, 'none', 'yes', 2.0, 1.0, 0.0, 0.0, 0.0, 0.0, 0.0, 0.0, 3.0, 0.0, 0.0, 0.0, 0.0, [21, [0, 1, 2, 13, 14, 15, 16, 17, 18, 19, 20], [2.0, 1.0, 3.0, 21.0, 630.0, 3.0, 2.0, 21.0, 22.0, 1.0, 1.0]], [16.673513503219674, 3.326486496780328], [0.8336756751609837, 0.1663243248390164], 0.0, 'No Risk'], ['less_0', 15, 'prior_payments_delayed', 'car_new', 5401, '500_to_1000', '1_to_4', 3, 'male', 'none', 3, 'unknown', 32, 'none', 'own', 2, 'skilled', 1, 'none', 'yes', 1.0, 0.0, 0.0, 2.0, 0.0, 0.0, 0.0, 0.0, 0.0, 0.0, 3.0, 0.0, 0.0, [21, [0, 3, 7, 13, 14, 15, 16, 17, 18, 19, 20], [1.0, 2.0, 3.0, 15.0, 5401.0, 3.0, 3.0, 15.0, 32.0, 2.0, 1.0]], [14.010320151208447, 5.989679848791553], [0.7005160075604223, 0.2994839924395777], 0.0, 'No Risk'], ['less_0', 4, 'all_credits_paid_back', 'car_new', 1342, 'less_100', 'less_1', 1, 'female', 'none', 2, 'savings_insurance', 19, 'none', 'own', 1, 'skilled', 1, 'none', 'yes', 1.0, 3.0, 3.0, 0.0, 0.0, 0.0, 0.0, 0.0, 0.0, 0.0, 0.0, 1.0, 0.0, [21, [0, 1, 4, 5, 13, 14, 15, 16, 17, 18, 19, 20], [1.0, 3.0, 3.0, 1.0, 4.0, 1342.0, 1.0, 2.0, 4.0, 19.0, 1.0, 1.0]], [19.322982092546532, 0.6770179074534646], [0.9661491046273267, 0.03385089537267323], 0.0, 'No Risk'], ['no_checking', 36, 'outstanding_credit', 'repairs', 5337, 'greater_1000', '4_to_7', 5, 'male', 'co-applicant', 5, 'unknown', 57, 'none', 'free', 2, 'management_self-employed', 2, 'yes', 'no', 0.0, 2.0, 1.0, 3.0, 1.0, 2.0, 0.0, 2.0, 5.0, 1.0, 3.0, 0.0, 1.0, [0.0, 2.0, 5.0, 3.0, 1.0, 0.0, 1.0, 3.0, 0.0, 2.0, 2.0, 1.0, 1.0, 36.0, 5337.0, 5.0, 5.0, 36.0, 57.0, 2.0, 2.0], [3.0333444814598827, 16.96665551854012], [0.15166722407299413, 0.848332775927006], 1.0, 'Risk'], ['less_0', 11, 'all_credits_paid_back', 'furniture', 250, 'less_100', 'unemployed', 1, 'female', 'none', 2, 'real_estate', 19, 'none', 'rent', 1, 'skilled', 1, 'none', 'yes', 1.0, 3.0, 4.0, 0.0, 0.0, 1.0, 0.0, 0.0, 1.0, 0.0, 2.0, 1.0, 0.0, [1.0, 3.0, 1.0, 0.0, 4.0, 1.0, 0.0, 2.0, 0.0, 1.0, 0.0, 0.0, 0.0, 11.0, 250.0, 1.0, 2.0, 11.0, 19.0, 1.0, 1.0], [19.603636407962725, 0.396363592037273], [0.9801818203981364, 0.019818179601863654], 0.0, 'No Risk'], ['less_0', 33, 'prior_payments_delayed', 'radio_tv', 2379, '100_to_500', 'greater_7', 4, 'male', 'none', 3, 'savings_insurance', 32, 'none', 'own', 1, 'skilled', 1, 'none', 'yes', 1.0, 0.0, 2.0, 1.0, 0.0, 0.0, 0.0, 0.0, 3.0, 0.0, 0.0, 0.0, 0.0, [21, [0, 2, 3, 4, 13, 14, 15, 16, 17, 18, 19, 20], [1.0, 3.0, 1.0, 2.0, 33.0, 2379.0, 4.0, 3.0, 33.0, 32.0, 1.0, 1.0]], [13.420324437813997, 6.579675562186001], [0.6710162218906999, 0.3289837781093], 0.0, 'No Risk'], ['no_checking', 38, 'outstanding_credit', 'appliances', 8465, 'greater_1000', '1_to_4', 3, 'female', 'none', 2, 'car_other', 53, 'none', 'free', 2, 'skilled', 1, 'none', 'yes', 0.0, 2.0, 0.0, 3.0, 0.0, 2.0, 0.0, 0.0, 4.0, 0.0, 1.0, 1.0, 0.0, [0.0, 2.0, 4.0, 3.0, 0.0, 1.0, 0.0, 1.0, 0.0, 2.0, 0.0, 0.0, 0.0, 38.0, 8465.0, 3.0, 2.0, 38.0, 53.0, 2.0, 1.0], [8.768222928291552, 11.23177707170845], [0.43841114641457757, 0.5615888535854225], 1.0, 'Risk'], ['no_checking', 37, 'prior_payments_delayed', 'furniture', 4933, '500_to_1000', 'greater_7', 5, 'male', 'none', 5, 'car_other', 50, 'none', 'free', 2, 'skilled', 2, 'yes', 'yes', 0.0, 0.0, 2.0, 2.0, 0.0, 2.0, 0.0, 0.0, 1.0, 0.0, 1.0, 0.0, 1.0, [0.0, 0.0, 1.0, 2.0, 2.0, 0.0, 0.0, 1.0, 0.0, 2.0, 0.0, 1.0, 0.0, 37.0, 4933.0, 5.0, 5.0, 37.0, 50.0, 2.0, 2.0], [5.0646885293022414, 14.935311470697759], [0.2532344264651121, 0.7467655735348879], 1.0, 'Risk'], ['no_checking', 29, 'outstanding_credit', 'appliances', 5430, 'greater_1000', '4_to_7', 3, 'male', 'none', 3, 'unknown', 49, 'none', 'own', 1, 'skilled', 1, 'none', 'yes', 0.0, 2.0, 1.0, 3.0, 0.0, 0.0, 0.0, 0.0, 4.0, 0.0, 3.0, 0.0, 0.0, [0.0, 2.0, 4.0, 3.0, 1.0, 0.0, 0.0, 3.0, 0.0, 0.0, 0.0, 0.0, 0.0, 29.0, 5430.0, 3.0, 3.0, 29.0, 49.0, 1.0, 1.0], [9.145032340026878, 10.854967659973118], [0.457251617001344, 0.542748382998656], 1.0, 'Risk'], ['0_to_200', 14, 'credits_paid_to_date', 'furniture', 2448, '500_to_1000', '4_to_7', 3, 'female', 'none', 2, 'real_estate', 46, 'none', 'own', 2, 'skilled', 1, 'none', 'yes', 2.0, 1.0, 1.0, 2.0, 0.0, 0.0, 0.0, 0.0, 1.0, 0.0, 2.0, 1.0, 0.0, [2.0, 1.0, 1.0, 2.0, 1.0, 1.0, 0.0, 2.0, 0.0, 0.0, 0.0, 0.0, 0.0, 14.0, 2448.0, 3.0, 2.0, 14.0, 46.0, 2.0, 1.0], [15.933865789481104, 4.066134210518899], [0.796693289474055, 0.20330671052594493], 0.0, 'No Risk'], ['0_to_200', 19, 'credits_paid_to_date', 'furniture', 2305, 'less_100', 'less_1', 3, 'male', 'none', 2, 'savings_insurance', 21, 'none', 'own', 1, 'management_self-employed', 1, 'none', 'yes', 2.0, 1.0, 3.0, 0.0, 0.0, 0.0, 0.0, 2.0, 1.0, 0.0, 0.0, 0.0, 0.0, [2.0, 1.0, 1.0, 0.0, 3.0, 0.0, 0.0, 0.0, 0.0, 0.0, 2.0, 0.0, 0.0, 19.0, 2305.0, 3.0, 2.0, 19.0, 21.0, 1.0, 1.0], [18.857684685259187, 1.142315314740811], [0.9428842342629595, 0.05711576573704056], 0.0, 'No Risk'], ['0_to_200', 20, 'prior_payments_delayed', 'car_used', 4996, '100_to_500', '1_to_4', 3, 'male', 'none', 4, 'car_other', 33, 'none', 'own', 2, 'skilled', 1, 'yes', 'yes', 2.0, 0.0, 0.0, 1.0, 0.0, 0.0, 0.0, 0.0, 2.0, 0.0, 1.0, 0.0, 1.0, [2.0, 0.0, 2.0, 1.0, 0.0, 0.0, 0.0, 1.0, 0.0, 0.0, 0.0, 1.0, 0.0, 20.0, 4996.0, 3.0, 4.0, 20.0, 33.0, 2.0, 1.0], [12.45376343908688, 7.54623656091312], [0.622688171954344, 0.377311828045656], 0.0, 'No Risk'], ['0_to_200', 21, 'credits_paid_to_date', 'retraining', 4025, 'less_100', '1_to_4', 2, 'male', 'co-applicant', 3, 'car_other', 34, 'bank', 'own', 1, 'unskilled', 1, 'none', 'yes', 2.0, 1.0, 0.0, 0.0, 0.0, 0.0, 2.0, 1.0, 8.0, 1.0, 1.0, 0.0, 0.0, [2.0, 1.0, 8.0, 0.0, 0.0, 0.0, 1.0, 1.0, 2.0, 0.0, 1.0, 0.0, 0.0, 21.0, 4025.0, 2.0, 3.0, 21.0, 34.0, 1.0, 1.0], [13.71810480713779, 6.281895192862208], [0.6859052403568895, 0.3140947596431104], 0.0, 'No Risk'], ['less_0', 15, 'credits_paid_to_date', 'furniture', 1822, '500_to_1000', '1_to_4', 2, 'male', 'none', 3, 'savings_insurance', 26, 'stores', 'rent', 1, 'skilled', 1, 'none', 'yes', 1.0, 1.0, 0.0, 2.0, 0.0, 1.0, 1.0, 0.0, 1.0, 0.0, 0.0, 0.0, 0.0, [1.0, 1.0, 1.0, 2.0, 0.0, 0.0, 0.0, 0.0, 1.0, 1.0, 0.0, 0.0, 0.0, 15.0, 1822.0, 2.0, 3.0, 15.0, 26.0, 1.0, 1.0], [16.844038105089112, 3.1559618949108854], [0.8422019052544557, 0.1577980947455443], 0.0, 'No Risk'], ['less_0', 8, 'prior_payments_delayed', 'car_new', 4921, '100_to_500', '4_to_7', 3, 'male', 'none', 3, 'unknown', 41, 'bank', 'rent', 2, 'unemployed', 1, 'yes', 'yes', 1.0, 0.0, 1.0, 1.0, 0.0, 1.0, 2.0, 3.0, 0.0, 0.0, 3.0, 0.0, 1.0, [1.0, 0.0, 0.0, 1.0, 1.0, 0.0, 0.0, 3.0, 2.0, 1.0, 3.0, 1.0, 0.0, 8.0, 4921.0, 3.0, 3.0, 8.0, 41.0, 2.0, 1.0], [14.482163177017812, 5.517836822982184], [0.7241081588508907, 0.27589184114910925], 0.0, 'No Risk'], ['no_checking', 33, 'all_credits_paid_back', 'car_used', 4256, '100_to_500', '4_to_7', 3, 'male', 'none', 2, 'savings_insurance', 38, 'none', 'own', 1, 'skilled', 1, 'none', 'yes', 0.0, 3.0, 1.0, 1.0, 0.0, 0.0, 0.0, 0.0, 2.0, 0.0, 0.0, 0.0, 0.0, [21, [1, 2, 3, 4, 13, 14, 15, 16, 17, 18, 19, 20], [3.0, 2.0, 1.0, 1.0, 33.0, 4256.0, 3.0, 2.0, 33.0, 38.0, 1.0, 1.0]], [12.903850603336835, 7.09614939666317], [0.6451925301668415, 0.3548074698331584], 0.0, 'No Risk'], ['0_to_200', 13, 'credits_paid_to_date', 'car_new', 907, 'less_100', 'less_1', 2, 'male', 'none', 3, 'savings_insurance', 28, 'stores', 'own', 1, 'skilled', 1, 'none', 'yes', 2.0, 1.0, 3.0, 0.0, 0.0, 0.0, 1.0, 0.0, 0.0, 0.0, 0.0, 0.0, 0.0, [21, [0, 1, 4, 8, 13, 14, 15, 16, 17, 18, 19, 20], [2.0, 1.0, 3.0, 1.0, 13.0, 907.0, 2.0, 3.0, 13.0, 28.0, 1.0, 1.0]], [18.866142662177534, 1.1338573378224652], [0.9433071331088767, 0.05669286689112326], 0.0, 'No Risk'], ['no_checking', 25, 'prior_payments_delayed', 'radio_tv', 6635, 'greater_1000', '4_to_7', 4, 'male', 'none', 4, 'car_other', 53, 'none', 'free', 2, 'skilled', 2, 'yes', 'yes', 0.0, 0.0, 1.0, 3.0, 0.0, 2.0, 0.0, 0.0, 3.0, 0.0, 1.0, 0.0, 1.0, [0.0, 0.0, 3.0, 3.0, 1.0, 0.0, 0.0, 1.0, 0.0, 2.0, 0.0, 1.0, 0.0, 25.0, 6635.0, 4.0, 4.0, 25.0, 53.0, 2.0, 2.0], [7.109825303047591, 12.89017469695241], [0.35549126515237955, 0.6445087348476205], 1.0, 'Risk'], ['0_to_200', 32, 'outstanding_credit', 'appliances', 4924, '100_to_500', 'greater_7', 4, 'male', 'none', 4, 'car_other', 37, 'none', 'own', 2, 'skilled', 2, 'yes', 'yes', 2.0, 2.0, 2.0, 1.0, 0.0, 0.0, 0.0, 0.0, 4.0, 0.0, 1.0, 0.0, 1.0, [2.0, 2.0, 4.0, 1.0, 2.0, 0.0, 0.0, 1.0, 0.0, 0.0, 0.0, 1.0, 0.0, 32.0, 4924.0, 4.0, 4.0, 32.0, 37.0, 2.0, 2.0], [11.43032058555605, 8.569679414443948], [0.5715160292778025, 0.4284839707221974], 0.0, 'No Risk'], ['0_to_200', 18, 'credits_paid_to_date', 'car_new', 2840, '100_to_500', '4_to_7', 3, 'female', 'none', 3, 'car_other', 37, 'none', 'own', 1, 'skilled', 1, 'none', 'yes', 2.0, 1.0, 1.0, 1.0, 0.0, 0.0, 0.0, 0.0, 0.0, 0.0, 1.0, 1.0, 0.0, [2.0, 1.0, 0.0, 1.0, 1.0, 1.0, 0.0, 1.0, 0.0, 0.0, 0.0, 0.0, 0.0, 18.0, 2840.0, 3.0, 3.0, 18.0, 37.0, 1.0, 1.0], [13.964306070063781, 6.035693929936217], [0.698215303503189, 0.30178469649681083], 0.0, 'No Risk'], ['no_checking', 29, 'outstanding_credit', 'appliances', 8314, '500_to_1000', '4_to_7', 4, 'male', 'co-applicant', 5, 'unknown', 47, 'none', 'free', 2, 'skilled', 1, 'yes', 'yes', 0.0, 2.0, 1.0, 2.0, 0.0, 2.0, 0.0, 0.0, 4.0, 1.0, 3.0, 0.0, 1.0, [0.0, 2.0, 4.0, 2.0, 1.0, 0.0, 1.0, 3.0, 0.0, 2.0, 0.0, 1.0, 0.0, 29.0, 8314.0, 4.0, 5.0, 29.0, 47.0, 2.0, 1.0], [3.155407382327314, 16.844592617672685], [0.15777036911636572, 0.8422296308836342], 1.0, 'Risk'], ['no_checking', 47, 'outstanding_credit', 'education', 6895, 'greater_1000', 'greater_7', 5, 'male', 'guarantor', 4, 'car_other', 58, 'none', 'free', 2, 'skilled', 2, 'yes', 'no', 0.0, 2.0, 2.0, 3.0, 1.0, 2.0, 0.0, 0.0, 7.0, 2.0, 1.0, 0.0, 1.0, [0.0, 2.0, 7.0, 3.0, 2.0, 0.0, 2.0, 1.0, 0.0, 2.0, 0.0, 1.0, 1.0, 47.0, 6895.0, 5.0, 4.0, 47.0, 58.0, 2.0, 2.0], [3.3674798844925355, 16.632520115507464], [0.1683739942246268, 0.8316260057753733], 1.0, 'Risk'], ['no_checking', 42, 'prior_payments_delayed', 'repairs', 5849, 'unknown', 'greater_7', 4, 'male', 'co-applicant', 3, 'unknown', 41, 'none', 'own', 3, 'skilled', 2, 'yes', 'yes', 0.0, 0.0, 2.0, 4.0, 0.0, 0.0, 0.0, 0.0, 5.0, 1.0, 3.0, 0.0, 1.0, [0.0, 0.0, 5.0, 4.0, 2.0, 0.0, 1.0, 3.0, 0.0, 0.0, 0.0, 1.0, 0.0, 42.0, 5849.0, 4.0, 3.0, 42.0, 41.0, 3.0, 2.0], [3.260840442374974, 16.73915955762503], [0.16304202211874866, 0.8369579778812514], 1.0, 'Risk'], ['less_0', 4, 'all_credits_paid_back', 'car_new', 2998, 'less_100', 'less_1', 1, 'male', 'none', 1, 'savings_insurance', 36, 'none', 'own', 1, 'management_self-employed', 1, 'yes', 'yes', 1.0, 3.0, 3.0, 0.0, 0.0, 0.0, 0.0, 2.0, 0.0, 0.0, 0.0, 0.0, 1.0, [1.0, 3.0, 0.0, 0.0, 3.0, 0.0, 0.0, 0.0, 0.0, 0.0, 2.0, 1.0, 0.0, 4.0, 2998.0, 1.0, 1.0, 4.0, 36.0, 1.0, 1.0], [18.79587689681023, 1.2041231031897683], [0.9397938448405115, 0.06020615515948842], 0.0, 'No Risk'], ['no_checking', 33, 'prior_payments_delayed', 'appliances', 6723, '500_to_1000', 'greater_7', 4, 'male', 'co-applicant', 4, 'savings_insurance', 60, 'none', 'free', 2, 'skilled', 1, 'yes', 'yes', 0.0, 0.0, 2.0, 2.0, 0.0, 2.0, 0.0, 0.0, 4.0, 1.0, 0.0, 0.0, 1.0, [0.0, 0.0, 4.0, 2.0, 2.0, 0.0, 1.0, 0.0, 0.0, 2.0, 0.0, 1.0, 0.0, 33.0, 6723.0, 4.0, 4.0, 33.0, 60.0, 2.0, 1.0], [4.301001475255239, 15.698998524744761], [0.21505007376276195, 0.784949926237238], 1.0, 'Risk'], ['less_0', 19, 'prior_payments_delayed', 'radio_tv', 250, 'less_100', '1_to_4', 3, 'female', 'none', 2, 'real_estate', 19, 'stores', 'own', 2, 'skilled', 1, 'none', 'yes', 1.0, 0.0, 0.0, 0.0, 0.0, 0.0, 1.0, 0.0, 3.0, 0.0, 2.0, 1.0, 0.0, [1.0, 0.0, 3.0, 0.0, 0.0, 1.0, 0.0, 2.0, 1.0, 0.0, 0.0, 0.0, 0.0, 19.0, 250.0, 3.0, 2.0, 19.0, 19.0, 2.0, 1.0], [16.760156642817005, 3.239843357182998], [0.8380078321408501, 0.16199216785914985], 0.0, 'No Risk'], ['less_0', 4, 'no_credits', 'car_new', 250, 'less_100', 'less_1', 2, 'female', 'none', 1, 'real_estate', 19, 'none', 'rent', 1, 'skilled', 1, 'none', 'yes', 1.0, 4.0, 3.0, 0.0, 0.0, 1.0, 0.0, 0.0, 0.0, 0.0, 2.0, 1.0, 0.0, [1.0, 4.0, 0.0, 0.0, 3.0, 1.0, 0.0, 2.0, 0.0, 1.0, 0.0, 0.0, 0.0, 4.0, 250.0, 2.0, 1.0, 4.0, 19.0, 1.0, 1.0], [19.650674735488856, 0.34932526451114065], [0.982533736774443, 0.017466263225557034], 0.0, 'No Risk'], ['no_checking', 32, 'prior_payments_delayed', 'business', 5244, '100_to_500', '4_to_7', 4, 'male', 'none', 4, 'savings_insurance', 40, 'none', 'own', 1, 'management_self-employed', 1, 'yes', 'yes', 0.0, 0.0, 1.0, 1.0, 0.0, 0.0, 0.0, 2.0, 9.0, 0.0, 0.0, 0.0, 1.0, [0.0, 0.0, 9.0, 1.0, 1.0, 0.0, 0.0, 0.0, 0.0, 0.0, 2.0, 1.0, 0.0, 32.0, 5244.0, 4.0, 4.0, 32.0, 40.0, 1.0, 1.0], [11.652352413731188, 8.347647586268815], [0.5826176206865593, 0.4173823793134407], 0.0, 'No Risk'], ['0_to_200', 5, 'all_credits_paid_back', 'car_new', 2137, 'less_100', '1_to_4', 3, 'male', 'none', 2, 'savings_insurance', 19, 'none', 'rent', 1, 'management_self-employed', 1, 'none', 'yes', 2.0, 3.0, 0.0, 0.0, 0.0, 1.0, 0.0, 2.0, 0.0, 0.0, 0.0, 0.0, 0.0, [21, [0, 1, 9, 10, 13, 14, 15, 16, 17, 18, 19, 20], [2.0, 3.0, 1.0, 2.0, 5.0, 2137.0, 3.0, 2.0, 5.0, 19.0, 1.0, 1.0]], [18.758169951798916, 1.2418300482010807], [0.937908497589946, 0.062091502410054046], 0.0, 'No Risk'], ['0_to_200', 10, 'prior_payments_delayed', 'car_used', 250, '100_to_500', '1_to_4', 2, 'female', 'none', 1, 'savings_insurance', 21, 'stores', 'own', 1, 'skilled', 1, 'none', 'yes', 2.0, 0.0, 0.0, 1.0, 0.0, 0.0, 1.0, 0.0, 2.0, 0.0, 0.0, 1.0, 0.0, [2.0, 0.0, 2.0, 1.0, 0.0, 1.0, 0.0, 0.0, 1.0, 0.0, 0.0, 0.0, 0.0, 10.0, 250.0, 2.0, 1.0, 10.0, 21.0, 1.0, 1.0], [18.364358590747578, 1.6356414092524236], [0.9182179295373789, 0.08178207046262118], 0.0, 'No Risk'], ['0_to_200', 6, 'prior_payments_delayed', 'car_used', 1131, '500_to_1000', '1_to_4', 2, 'female', 'none', 3, 'savings_insurance', 21, 'stores', 'rent', 1, 'skilled', 1, 'none', 'yes', 2.0, 0.0, 0.0, 2.0, 0.0, 1.0, 1.0, 0.0, 2.0, 0.0, 0.0, 1.0, 0.0, [2.0, 0.0, 2.0, 2.0, 0.0, 1.0, 0.0, 0.0, 1.0, 1.0, 0.0, 0.0, 0.0, 6.0, 1131.0, 2.0, 3.0, 6.0, 21.0, 1.0, 1.0], [17.442656848320215, 2.557343151679781], [0.872132842416011, 0.1278671575839891], 0.0, 'No Risk'], ['0_to_200', 11, 'credits_paid_to_date', 'car_used', 250, 'less_100', '4_to_7', 3, 'female', 'none', 2, 'savings_insurance', 23, 'stores', 'own', 1, 'skilled', 1, 'none', 'yes', 2.0, 1.0, 1.0, 0.0, 0.0, 0.0, 1.0, 0.0, 2.0, 0.0, 0.0, 1.0, 0.0, [2.0, 1.0, 2.0, 0.0, 1.0, 1.0, 0.0, 0.0, 1.0, 0.0, 0.0, 0.0, 0.0, 11.0, 250.0, 3.0, 2.0, 11.0, 23.0, 1.0, 1.0], [17.517893330442927, 2.482106669557073], [0.8758946665221463, 0.12410533347785364], 0.0, 'No Risk'], ['0_to_200', 4, 'credits_paid_to_date', 'car_new', 3340, 'less_100', 'less_1', 2, 'female', 'none', 3, 'car_other', 36, 'none', 'own', 1, 'management_self-employed', 1, 'none', 'yes', 2.0, 1.0, 3.0, 0.0, 0.0, 0.0, 0.0, 2.0, 0.0, 0.0, 1.0, 1.0, 0.0, [2.0, 1.0, 0.0, 0.0, 3.0, 1.0, 0.0, 1.0, 0.0, 0.0, 2.0, 0.0, 0.0, 4.0, 3340.0, 2.0, 3.0, 4.0, 36.0, 1.0, 1.0], [17.23803418065181, 2.7619658193481906], [0.8619017090325904, 0.13809829096740953], 0.0, 'No Risk'], ['0_to_200', 16, 'prior_payments_delayed', 'car_used', 4165, 'less_100', '1_to_4', 3, 'female', 'none', 4, 'car_other', 50, 'none', 'own', 1, 'skilled', 2, 'none', 'yes', 2.0, 0.0, 0.0, 0.0, 0.0, 0.0, 0.0, 0.0, 2.0, 0.0, 1.0, 1.0, 0.0, [21, [0, 2, 5, 7, 13, 14, 15, 16, 17, 18, 19, 20], [2.0, 2.0, 1.0, 1.0, 16.0, 4165.0, 3.0, 4.0, 16.0, 50.0, 1.0, 2.0]], [11.493155893436105, 8.506844106563893], [0.5746577946718052, 0.42534220532819467], 0.0, 'No Risk'], ['less_0', 18, 'prior_payments_delayed', 'car_new', 1661, 'less_100', '4_to_7', 3, 'male', 'none', 1, 'car_other', 27, 'none', 'own', 1, 'skilled', 1, 'yes', 'yes', 1.0, 0.0, 1.0, 0.0, 0.0, 0.0, 0.0, 0.0, 0.0, 0.0, 1.0, 0.0, 1.0, [21, [0, 4, 7, 11, 13, 14, 15, 16, 17, 18, 19, 20], [1.0, 1.0, 1.0, 1.0, 18.0, 1661.0, 3.0, 1.0, 18.0, 27.0, 1.0, 1.0]], [16.341853703554946, 3.6581462964450515], [0.8170926851777475, 0.18290731482225261], 0.0, 'No Risk'], ['less_0', 29, 'credits_paid_to_date', 'education', 250, 'less_100', '4_to_7', 3, 'male', 'none', 3, 'savings_insurance', 19, 'stores', 'own', 2, 'skilled', 1, 'none', 'yes', 1.0, 1.0, 1.0, 0.0, 0.0, 0.0, 1.0, 0.0, 7.0, 0.0, 0.0, 0.0, 0.0, [1.0, 1.0, 7.0, 0.0, 1.0, 0.0, 0.0, 0.0, 1.0, 0.0, 0.0, 0.0, 0.0, 29.0, 250.0, 3.0, 3.0, 29.0, 19.0, 2.0, 1.0], [14.527563851730482, 5.472436148269519], [0.7263781925865241, 0.27362180741347597], 0.0, 'No Risk'], ['less_0', 10, 'credits_paid_to_date', 'car_new', 1706, 'less_100', '1_to_4', 3, 'female', 'co-applicant', 3, 'savings_insurance', 36, 'stores', 'own', 1, 'skilled', 1, 'none', 'yes', 1.0, 1.0, 0.0, 0.0, 0.0, 0.0, 1.0, 0.0, 0.0, 1.0, 0.0, 1.0, 0.0, [1.0, 1.0, 0.0, 0.0, 0.0, 1.0, 1.0, 0.0, 1.0, 0.0, 0.0, 0.0, 0.0, 10.0, 1706.0, 3.0, 3.0, 10.0, 36.0, 1.0, 1.0], [15.679445335271685, 4.320554664728315], [0.7839722667635842, 0.21602773323641572], 0.0, 'No Risk'], ['0_to_200', 17, 'prior_payments_delayed', 'retraining', 2875, 'less_100', '1_to_4', 2, 'female', 'co-applicant', 3, 'savings_insurance', 42, 'none', 'own', 1, 'skilled', 1, 'none', 'yes', 2.0, 0.0, 0.0, 0.0, 0.0, 0.0, 0.0, 0.0, 8.0, 1.0, 0.0, 1.0, 0.0, [21, [0, 2, 5, 6, 13, 14, 15, 16, 17, 18, 19, 20], [2.0, 8.0, 1.0, 1.0, 17.0, 2875.0, 2.0, 3.0, 17.0, 42.0, 1.0, 1.0]], [14.569899800347757, 5.430100199652241], [0.7284949900173878, 0.27150500998261207], 0.0, 'No Risk'], ['no_checking', 19, 'outstanding_credit', 'car_used', 1648, '500_to_1000', 'greater_7', 3, 'male', 'none', 4, 'car_other', 35, 'none', 'own', 2, 'skilled', 1, 'yes', 'yes', 0.0, 2.0, 2.0, 2.0, 0.0, 0.0, 0.0, 0.0, 2.0, 0.0, 1.0, 0.0, 1.0, [0.0, 2.0, 2.0, 2.0, 2.0, 0.0, 0.0, 1.0, 0.0, 0.0, 0.0, 1.0, 0.0, 19.0, 1648.0, 3.0, 4.0, 19.0, 35.0, 2.0, 1.0], [8.34220647919423, 11.65779352080577], [0.4171103239597115, 0.5828896760402885], 1.0, 'Risk'], ['less_0', 4, 'all_credits_paid_back', 'repairs', 250, 'less_100', '1_to_4', 2, 'female', 'none', 2, 'real_estate', 19, 'none', 'rent', 1, 'management_self-employed', 1, 'none', 'yes', 1.0, 3.0, 0.0, 0.0, 0.0, 1.0, 0.0, 2.0, 5.0, 0.0, 2.0, 1.0, 0.0, [1.0, 3.0, 5.0, 0.0, 0.0, 1.0, 0.0, 2.0, 0.0, 1.0, 2.0, 0.0, 0.0, 4.0, 250.0, 2.0, 2.0, 4.0, 19.0, 1.0, 1.0], [19.28751597092848, 0.7124840290715131], [0.9643757985464244, 0.035624201453575664], 0.0, 'No Risk'], ['0_to_200', 4, 'all_credits_paid_back', 'education', 843, '100_to_500', 'less_1', 2, 'female', 'none', 2, 'savings_insurance', 21, 'bank', 'rent', 1, 'unskilled', 1, 'none', 'yes', 2.0, 3.0, 3.0, 1.0, 0.0, 1.0, 2.0, 1.0, 7.0, 0.0, 0.0, 1.0, 0.0, [2.0, 3.0, 7.0, 1.0, 3.0, 1.0, 0.0, 0.0, 2.0, 1.0, 1.0, 0.0, 0.0, 4.0, 843.0, 2.0, 2.0, 4.0, 21.0, 1.0, 1.0], [19.448364394031085, 0.5516356059689107], [0.9724182197015544, 0.02758178029844554], 0.0, 'No Risk'], ['no_checking', 13, 'credits_paid_to_date', 'car_used', 2994, 'less_100', 'less_1', 2, 'male', 'none', 3, 'real_estate', 19, 'none', 'own', 1, 'management_self-employed', 1, 'none', 'yes', 0.0, 1.0, 3.0, 0.0, 0.0, 0.0, 0.0, 2.0, 2.0, 0.0, 2.0, 0.0, 0.0, [0.0, 1.0, 2.0, 0.0, 3.0, 0.0, 0.0, 2.0, 0.0, 0.0, 2.0, 0.0, 0.0, 13.0, 2994.0, 2.0, 3.0, 13.0, 19.0, 1.0, 1.0], [17.30904472657966, 2.69095527342034], [0.865452236328983, 0.134547763671017], 0.0, 'No Risk'], ['0_to_200', 43, 'outstanding_credit', 'repairs', 4087, 'unknown', 'greater_7', 4, 'male', 'co-applicant', 3, 'car_other', 24, 'stores', 'free', 2, 'skilled', 1, 'none', 'yes', 2.0, 2.0, 2.0, 4.0, 0.0, 2.0, 1.0, 0.0, 5.0, 1.0, 1.0, 0.0, 0.0, [2.0, 2.0, 5.0, 4.0, 2.0, 0.0, 1.0, 1.0, 1.0, 2.0, 0.0, 0.0, 0.0, 43.0, 4087.0, 4.0, 3.0, 43.0, 24.0, 2.0, 1.0], [10.603759096878385, 9.396240903121615], [0.5301879548439192, 0.46981204515608077], 0.0, 'No Risk'], ['less_0', 15, 'credits_paid_to_date', 'car_used', 725, 'less_100', 'less_1', 1, 'female', 'none', 1, 'real_estate', 30, 'stores', 'rent', 1, 'skilled', 1, 'none', 'yes', 1.0, 1.0, 3.0, 0.0, 0.0, 1.0, 1.0, 0.0, 2.0, 0.0, 2.0, 1.0, 0.0, [1.0, 1.0, 2.0, 0.0, 3.0, 1.0, 0.0, 2.0, 1.0, 1.0, 0.0, 0.0, 0.0, 15.0, 725.0, 1.0, 1.0, 15.0, 30.0, 1.0, 1.0], [19.120381005358766, 0.8796189946412325], [0.9560190502679383, 0.043980949732061625], 0.0, 'No Risk'], ['0_to_200', 4, 'all_credits_paid_back', 'car_used', 5043, 'less_100', '1_to_4', 3, 'male', 'none', 4, 'car_other', 20, 'stores', 'own', 1, 'unskilled', 1, 'yes', 'yes', 2.0, 3.0, 0.0, 0.0, 0.0, 0.0, 1.0, 1.0, 2.0, 0.0, 1.0, 0.0, 1.0, [2.0, 3.0, 2.0, 0.0, 0.0, 0.0, 0.0, 1.0, 1.0, 0.0, 1.0, 1.0, 0.0, 4.0, 5043.0, 3.0, 4.0, 4.0, 20.0, 1.0, 1.0], [16.556584261423446, 3.443415738576556], [0.8278292130711723, 0.17217078692882778], 0.0, 'No Risk'], ['greater_200', 21, 'outstanding_credit', 'car_used', 4200, '100_to_500', 'greater_7', 3, 'male', 'none', 3, 'savings_insurance', 39, 'none', 'own', 1, 'skilled', 1, 'none', 'yes', 3.0, 2.0, 2.0, 1.0, 0.0, 0.0, 0.0, 0.0, 2.0, 0.0, 0.0, 0.0, 0.0, [3.0, 2.0, 2.0, 1.0, 2.0, 0.0, 0.0, 0.0, 0.0, 0.0, 0.0, 0.0, 0.0, 21.0, 4200.0, 3.0, 3.0, 21.0, 39.0, 1.0, 1.0], [13.35277788282997, 6.647222117170029], [0.6676388941414986, 0.3323611058585015], 0.0, 'No Risk'], ['greater_200', 20, 'outstanding_credit', 'car_used', 8681, '100_to_500', 'greater_7', 4, 'female', 'none', 4, 'unknown', 57, 'none', 'free', 2, 'skilled', 1, 'yes', 'yes', 3.0, 2.0, 2.0, 1.0, 0.0, 2.0, 0.0, 0.0, 2.0, 0.0, 3.0, 1.0, 1.0, [3.0, 2.0, 2.0, 1.0, 2.0, 1.0, 0.0, 3.0, 0.0, 2.0, 0.0, 1.0, 0.0, 20.0, 8681.0, 4.0, 4.0, 20.0, 57.0, 2.0, 1.0], [7.690080306491466, 12.309919693508533], [0.3845040153245733, 0.6154959846754267], 1.0, 'Risk'], ['less_0', 4, 'all_credits_paid_back', 'education', 250, 'less_100', 'less_1', 1, 'female', 'none', 1, 'real_estate', 24, 'none', 'rent', 1, 'skilled', 1, 'none', 'yes', 1.0, 3.0, 3.0, 0.0, 0.0, 1.0, 0.0, 0.0, 7.0, 0.0, 2.0, 1.0, 0.0, [1.0, 3.0, 7.0, 0.0, 3.0, 1.0, 0.0, 2.0, 0.0, 1.0, 0.0, 0.0, 0.0, 4.0, 250.0, 1.0, 1.0, 4.0, 24.0, 1.0, 1.0], [19.650674735488856, 0.34932526451114065], [0.982533736774443, 0.017466263225557034], 0.0, 'No Risk'], ['no_checking', 31, 'outstanding_credit', 'repairs', 2814, 'greater_1000', '4_to_7', 4, 'male', 'none', 4, 'car_other', 48, 'none', 'own', 1, 'skilled', 1, 'yes', 'yes', 0.0, 2.0, 1.0, 3.0, 0.0, 0.0, 0.0, 0.0, 5.0, 0.0, 1.0, 0.0, 1.0, [0.0, 2.0, 5.0, 3.0, 1.0, 0.0, 0.0, 1.0, 0.0, 0.0, 0.0, 1.0, 0.0, 31.0, 2814.0, 4.0, 4.0, 31.0, 48.0, 1.0, 1.0], [7.856794743412926, 12.143205256587075], [0.3928397371706463, 0.6071602628293538], 1.0, 'Risk'], ['no_checking', 30, 'outstanding_credit', 'appliances', 6367, '500_to_1000', '4_to_7', 5, 'male', 'none', 5, 'unknown', 53, 'none', 'free', 2, 'skilled', 2, 'yes', 'yes', 0.0, 2.0, 1.0, 2.0, 0.0, 2.0, 0.0, 0.0, 4.0, 0.0, 3.0, 0.0, 1.0, [0.0, 2.0, 4.0, 2.0, 1.0, 0.0, 0.0, 3.0, 0.0, 2.0, 0.0, 1.0, 0.0, 30.0, 6367.0, 5.0, 5.0, 30.0, 53.0, 2.0, 2.0], [4.621262082818302, 15.378737917181697], [0.2310631041409151, 0.7689368958590849], 1.0, 'Risk'], ['greater_200', 19, 'outstanding_credit', 'radio_tv', 4936, '100_to_500', '4_to_7', 4, 'male', 'none', 4, 'savings_insurance', 44, 'none', 'own', 1, 'management_self-employed', 1, 'yes', 'yes', 3.0, 2.0, 1.0, 1.0, 0.0, 0.0, 0.0, 2.0, 3.0, 0.0, 0.0, 0.0, 1.0, [3.0, 2.0, 3.0, 1.0, 1.0, 0.0, 0.0, 0.0, 0.0, 0.0, 2.0, 1.0, 0.0, 19.0, 4936.0, 4.0, 4.0, 19.0, 44.0, 1.0, 1.0], [12.243379630260872, 7.7566203697391245], [0.6121689815130437, 0.3878310184869563], 0.0, 'No Risk'], ['no_checking', 25, 'outstanding_credit', 'vacation', 8165, '500_to_1000', 'greater_7', 4, 'female', 'none', 4, 'unknown', 45, 'none', 'free', 2, 'skilled', 1, 'none', 'yes', 0.0, 2.0, 2.0, 2.0, 0.0, 2.0, 0.0, 0.0, 6.0, 0.0, 3.0, 1.0, 0.0, [0.0, 2.0, 6.0, 2.0, 2.0, 1.0, 0.0, 3.0, 0.0, 2.0, 0.0, 0.0, 0.0, 25.0, 8165.0, 4.0, 4.0, 25.0, 45.0, 2.0, 1.0], [5.6382066536701805, 14.36179334632982], [0.281910332683509, 0.718089667316491], 1.0, 'Risk'], ['less_0', 20, 'prior_payments_delayed', 'furniture', 1553, 'greater_1000', '1_to_4', 2, 'male', 'co-applicant', 3, 'savings_insurance', 42, 'stores', 'own', 2, 'unskilled', 1, 'yes', 'yes', 1.0, 0.0, 0.0, 3.0, 0.0, 0.0, 1.0, 1.0, 1.0, 1.0, 0.0, 0.0, 1.0, [1.0, 0.0, 1.0, 3.0, 0.0, 0.0, 1.0, 0.0, 1.0, 0.0, 1.0, 1.0, 0.0, 20.0, 1553.0, 2.0, 3.0, 20.0, 42.0, 2.0, 1.0], [13.283577219032423, 6.716422780967576], [0.6641788609516212, 0.3358211390483788], 0.0, 'No Risk'], ['less_0', 14, 'credits_paid_to_date', 'furniture', 250, 'less_100', '1_to_4', 3, 'female', 'none', 3, 'real_estate', 31, 'none', 'own', 1, 'skilled', 1, 'none', 'yes', 1.0, 1.0, 0.0, 0.0, 0.0, 0.0, 0.0, 0.0, 1.0, 0.0, 2.0, 1.0, 0.0, [1.0, 1.0, 1.0, 0.0, 0.0, 1.0, 0.0, 2.0, 0.0, 0.0, 0.0, 0.0, 0.0, 14.0, 250.0, 3.0, 3.0, 14.0, 31.0, 1.0, 1.0], [17.09381859665082, 2.9061814033491857], [0.8546909298325407, 0.14530907016745923], 0.0, 'No Risk'], ['less_0', 4, 'credits_paid_to_date', 'car_new', 250, 'less_100', 'unemployed', 1, 'male', 'none', 1, 'savings_insurance', 22, 'stores', 'rent', 1, 'skilled', 1, 'none', 'yes', 1.0, 1.0, 4.0, 0.0, 0.0, 1.0, 1.0, 0.0, 0.0, 0.0, 0.0, 0.0, 0.0, [1.0, 1.0, 0.0, 0.0, 4.0, 0.0, 0.0, 0.0, 1.0, 1.0, 0.0, 0.0, 0.0, 4.0, 250.0, 1.0, 1.0, 4.0, 22.0, 1.0, 1.0], [19.328569387465453, 0.671430612534542], [0.9664284693732729, 0.0335715306267271], 0.0, 'No Risk'], ['greater_200', 21, 'prior_payments_delayed', 'car_used', 3659, '100_to_500', '1_to_4', 3, 'male', 'none', 4, 'car_other', 36, 'none', 'rent', 1, 'skilled', 2, 'none', 'yes', 3.0, 0.0, 0.0, 1.0, 0.0, 1.0, 0.0, 0.0, 2.0, 0.0, 1.0, 0.0, 0.0, [3.0, 0.0, 2.0, 1.0, 0.0, 0.0, 0.0, 1.0, 0.0, 1.0, 0.0, 0.0, 0.0, 21.0, 3659.0, 3.0, 4.0, 21.0, 36.0, 1.0, 2.0], [13.235535257876, 6.764464742123996], [0.6617767628938002, 0.3382232371061999], 0.0, 'No Risk'], ['0_to_200', 18, 'prior_payments_delayed', 'radio_tv', 4771, 'less_100', '1_to_4', 3, 'male', 'none', 4, 'car_other', 31, 'none', 'own', 1, 'skilled', 1, 'none', 'yes', 2.0, 0.0, 0.0, 0.0, 0.0, 0.0, 0.0, 0.0, 3.0, 0.0, 1.0, 0.0, 0.0, [21, [0, 2, 7, 13, 14, 15, 16, 17, 18, 19, 20], [2.0, 3.0, 1.0, 18.0, 4771.0, 3.0, 4.0, 18.0, 31.0, 1.0, 1.0]], [13.617250301795956, 6.3827496982040435], [0.6808625150897978, 0.31913748491020216], 0.0, 'No Risk'], ['less_0', 4, 'all_credits_paid_back', 'car_new', 527, '100_to_500', 'unemployed', 1, 'male', 'none', 1, 'real_estate', 19, 'stores', 'rent', 1, 'skilled', 1, 'none', 'yes', 1.0, 3.0, 4.0, 1.0, 0.0, 1.0, 1.0, 0.0, 0.0, 0.0, 2.0, 0.0, 0.0, [1.0, 3.0, 0.0, 1.0, 4.0, 0.0, 0.0, 2.0, 1.0, 1.0, 0.0, 0.0, 0.0, 4.0, 527.0, 1.0, 1.0, 4.0, 19.0, 1.0, 1.0], [19.502717261728996, 0.497282738271], [0.97513586308645, 0.024864136913550005], 0.0, 'No Risk'], ['no_checking', 32, 'outstanding_credit', 'furniture', 6039, '500_to_1000', 'greater_7', 4, 'male', 'co-applicant', 3, 'unknown', 49, 'none', 'free', 2, 'skilled', 2, 'yes', 'yes', 0.0, 2.0, 2.0, 2.0, 0.0, 2.0, 0.0, 0.0, 1.0, 1.0, 3.0, 0.0, 1.0, [0.0, 2.0, 1.0, 2.0, 2.0, 0.0, 1.0, 3.0, 0.0, 2.0, 0.0, 1.0, 0.0, 32.0, 6039.0, 4.0, 3.0, 32.0, 49.0, 2.0, 2.0], [1.5447906515747198, 18.45520934842528], [0.07723953257873599, 0.922760467421264], 1.0, 'Risk'], ['0_to_200', 19, 'credits_paid_to_date', 'car_new', 1341, 'less_100', 'less_1', 3, 'female', 'none', 2, 'real_estate', 39, 'none', 'own', 2, 'skilled', 1, 'none', 'yes', 2.0, 1.0, 3.0, 0.0, 0.0, 0.0, 0.0, 0.0, 0.0, 0.0, 2.0, 1.0, 0.0, [2.0, 1.0, 0.0, 0.0, 3.0, 1.0, 0.0, 2.0, 0.0, 0.0, 0.0, 0.0, 0.0, 19.0, 1341.0, 3.0, 2.0, 19.0, 39.0, 2.0, 1.0], [16.414255761763663, 3.585744238236342], [0.8207127880881829, 0.17928721191181707], 0.0, 'No Risk'], ['less_0', 17, 'credits_paid_to_date', 'car_new', 2714, '500_to_1000', '1_to_4', 3, 'female', 'co-applicant', 2, 'real_estate', 38, 'stores', 'own', 2, 'skilled', 1, 'yes', 'yes', 1.0, 1.0, 0.0, 2.0, 0.0, 0.0, 1.0, 0.0, 0.0, 1.0, 2.0, 1.0, 1.0, [1.0, 1.0, 0.0, 2.0, 0.0, 1.0, 1.0, 2.0, 1.0, 0.0, 0.0, 1.0, 0.0, 17.0, 2714.0, 3.0, 2.0, 17.0, 38.0, 2.0, 1.0], [16.133226302500272, 3.866773697499732], [0.8066613151250135, 0.19333868487498657], 0.0, 'No Risk'], ['0_to_200', 7, 'all_credits_paid_back', 'car_new', 250, 'less_100', 'less_1', 2, 'female', 'none', 3, 'real_estate', 19, 'none', 'rent', 1, 'skilled', 1, 'none', 'yes', 2.0, 3.0, 3.0, 0.0, 0.0, 1.0, 0.0, 0.0, 0.0, 0.0, 2.0, 1.0, 0.0, [2.0, 3.0, 0.0, 0.0, 3.0, 1.0, 0.0, 2.0, 0.0, 1.0, 0.0, 0.0, 0.0, 7.0, 250.0, 2.0, 3.0, 7.0, 19.0, 1.0, 1.0], [19.205270047934217, 0.7947299520657829], [0.9602635023967109, 0.03973649760328914], 0.0, 'No Risk'], ['less_0', 26, 'no_credits', 'repairs', 2367, 'less_100', '1_to_4', 2, 'female', 'none', 1, 'savings_insurance', 37, 'stores', 'rent', 1, 'skilled', 1, 'none', 'yes', 1.0, 4.0, 0.0, 0.0, 0.0, 1.0, 1.0, 0.0, 5.0, 0.0, 0.0, 1.0, 0.0, [1.0, 4.0, 5.0, 0.0, 0.0, 1.0, 0.0, 0.0, 1.0, 1.0, 0.0, 0.0, 0.0, 26.0, 2367.0, 2.0, 1.0, 26.0, 37.0, 1.0, 1.0], [16.214700063066132, 3.785299936933869], [0.8107350031533066, 0.18926499684669346], 0.0, 'No Risk'], ['no_checking', 22, 'credits_paid_to_date', 'retraining', 3491, '100_to_500', 'less_1', 2, 'male', 'none', 4, 'car_other', 34, 'none', 'free', 1, 'skilled', 1, 'none', 'yes', 0.0, 1.0, 3.0, 1.0, 0.0, 2.0, 0.0, 0.0, 8.0, 0.0, 1.0, 0.0, 0.0, [0.0, 1.0, 8.0, 1.0, 3.0, 0.0, 0.0, 1.0, 0.0, 2.0, 0.0, 0.0, 0.0, 22.0, 3491.0, 2.0, 4.0, 22.0, 34.0, 1.0, 1.0], [13.972997589579363, 6.0270024104206374], [0.6986498794789682, 0.3013501205210319], 0.0, 'No Risk'], ['no_checking', 13, 'outstanding_credit', 'retraining', 5464, '100_to_500', 'greater_7', 5, 'male', 'none', 4, 'savings_insurance', 33, 'none', 'own', 1, 'management_self-employed', 1, 'yes', 'yes', 0.0, 2.0, 2.0, 1.0, 0.0, 0.0, 0.0, 2.0, 8.0, 0.0, 0.0, 0.0, 1.0, [0.0, 2.0, 8.0, 1.0, 2.0, 0.0, 0.0, 0.0, 0.0, 0.0, 2.0, 1.0, 0.0, 13.0, 5464.0, 5.0, 4.0, 13.0, 33.0, 1.0, 1.0], [11.637577031299113, 8.362422968700889], [0.5818788515649557, 0.41812114843504444], 0.0, 'No Risk'], ['0_to_200', 41, 'outstanding_credit', 'repairs', 4227, 'unknown', 'greater_7', 4, 'male', 'none', 4, 'unknown', 49, 'stores', 'own', 2, 'unskilled', 1, 'yes', 'yes', 2.0, 2.0, 2.0, 4.0, 0.0, 0.0, 1.0, 1.0, 5.0, 0.0, 3.0, 0.0, 1.0, [2.0, 2.0, 5.0, 4.0, 2.0, 0.0, 0.0, 3.0, 1.0, 0.0, 1.0, 1.0, 0.0, 41.0, 4227.0, 4.0, 4.0, 41.0, 49.0, 2.0, 1.0], [7.2553876635255445, 12.744612336474455], [0.3627693831762772, 0.6372306168237227], 1.0, 'Risk'], ['0_to_200', 25, 'outstanding_credit', 'radio_tv', 2518, '100_to_500', 'less_1', 3, 'male', 'none', 4, 'car_other', 35, 'none', 'own', 1, 'skilled', 2, 'yes', 'yes', 2.0, 2.0, 3.0, 1.0, 0.0, 0.0, 0.0, 0.0, 3.0, 0.0, 1.0, 0.0, 1.0, [2.0, 2.0, 3.0, 1.0, 3.0, 0.0, 0.0, 1.0, 0.0, 0.0, 0.0, 1.0, 0.0, 25.0, 2518.0, 3.0, 4.0, 25.0, 35.0, 1.0, 2.0], [13.376016494740933, 6.6239835052590665], [0.6688008247370466, 0.33119917526295334], 0.0, 'No Risk'], ['less_0', 9, 'all_credits_paid_back', 'car_new', 1724, '100_to_500', '1_to_4', 3, 'male', 'none', 1, 'car_other', 35, 'bank', 'rent', 2, 'unemployed', 1, 'none', 'yes', 1.0, 3.0, 0.0, 1.0, 0.0, 1.0, 2.0, 3.0, 0.0, 0.0, 1.0, 0.0, 0.0, [1.0, 3.0, 0.0, 1.0, 0.0, 0.0, 0.0, 1.0, 2.0, 1.0, 3.0, 0.0, 0.0, 9.0, 1724.0, 3.0, 1.0, 9.0, 35.0, 2.0, 1.0], [17.206279878460894, 2.7937201215391094], [0.8603139939230445, 0.13968600607695544], 0.0, 'No Risk'], ['no_checking', 27, 'outstanding_credit', 'furniture', 4897, '500_to_1000', '4_to_7', 4, 'male', 'none', 5, 'car_other', 45, 'none', 'own', 2, 'management_self-employed', 1, 'none', 'yes', 0.0, 2.0, 1.0, 2.0, 0.0, 0.0, 0.0, 2.0, 1.0, 0.0, 1.0, 0.0, 0.0, [0.0, 2.0, 1.0, 2.0, 1.0, 0.0, 0.0, 1.0, 0.0, 0.0, 2.0, 0.0, 0.0, 27.0, 4897.0, 4.0, 5.0, 27.0, 45.0, 2.0, 1.0], [9.448226807119518, 10.55177319288048], [0.4724113403559759, 0.527588659644024], 1.0, 'Risk'], ['0_to_200', 22, 'outstanding_credit', 'education', 9180, 'less_100', '4_to_7', 3, 'male', 'none', 3, 'unknown', 38, 'none', 'own', 2, 'skilled', 1, 'none', 'yes', 2.0, 2.0, 1.0, 0.0, 0.0, 0.0, 0.0, 0.0, 7.0, 0.0, 3.0, 0.0, 0.0, [2.0, 2.0, 7.0, 0.0, 1.0, 0.0, 0.0, 3.0, 0.0, 0.0, 0.0, 0.0, 0.0, 22.0, 9180.0, 3.0, 3.0, 22.0, 38.0, 2.0, 1.0], [12.361888847767586, 7.638111152232413], [0.6180944423883793, 0.38190555761162065], 0.0, 'No Risk'], ['no_checking', 24, 'outstanding_credit', 'radio_tv', 3889, '500_to_1000', '4_to_7', 3, 'male', 'none', 3, 'unknown', 40, 'none', 'own', 1, 'skilled', 1, 'yes', 'yes', 0.0, 2.0, 1.0, 2.0, 0.0, 0.0, 0.0, 0.0, 3.0, 0.0, 3.0, 0.0, 1.0, [0.0, 2.0, 3.0, 2.0, 1.0, 0.0, 0.0, 3.0, 0.0, 0.0, 0.0, 1.0, 0.0, 24.0, 3889.0, 3.0, 3.0, 24.0, 40.0, 1.0, 1.0], [10.543775397267284, 9.456224602732716], [0.5271887698633642, 0.4728112301366358], 0.0, 'No Risk'], ['less_0', 14, 'all_credits_paid_back', 'car_new', 250, 'less_100', '1_to_4', 1, 'female', 'none', 1, 'real_estate', 19, 'stores', 'rent', 1, 'skilled', 1, 'none', 'yes', 1.0, 3.0, 0.0, 0.0, 0.0, 1.0, 1.0, 0.0, 0.0, 0.0, 2.0, 1.0, 0.0, [1.0, 3.0, 0.0, 0.0, 0.0, 1.0, 0.0, 2.0, 1.0, 1.0, 0.0, 0.0, 0.0, 14.0, 250.0, 1.0, 1.0, 14.0, 19.0, 1.0, 1.0], [18.72562555805294, 1.2743744419470615], [0.936281277902647, 0.06371872209735308], 0.0, 'No Risk'], ['less_0', 31, 'outstanding_credit', 'car_used', 3709, '100_to_500', 'greater_7', 4, 'male', 'none', 4, 'savings_insurance', 39, 'stores', 'rent', 1, 'unskilled', 2, 'none', 'yes', 1.0, 2.0, 2.0, 1.0, 0.0, 1.0, 1.0, 1.0, 2.0, 0.0, 0.0, 0.0, 0.0, [1.0, 2.0, 2.0, 1.0, 2.0, 0.0, 0.0, 0.0, 1.0, 1.0, 1.0, 0.0, 0.0, 31.0, 3709.0, 4.0, 4.0, 31.0, 39.0, 1.0, 2.0], [11.821137084885223, 8.178862915114776], [0.5910568542442611, 0.40894314575573876], 0.0, 'No Risk'], ['no_checking', 43, 'prior_payments_delayed', 'radio_tv', 7687, '500_to_1000', '4_to_7', 5, 'male', 'co-applicant', 3, 'unknown', 58, 'none', 'own', 2, 'skilled', 1, 'yes', 'yes', 0.0, 0.0, 1.0, 2.0, 0.0, 0.0, 0.0, 0.0, 3.0, 1.0, 3.0, 0.0, 1.0, [0.0, 0.0, 3.0, 2.0, 1.0, 0.0, 1.0, 3.0, 0.0, 0.0, 0.0, 1.0, 0.0, 43.0, 7687.0, 5.0, 3.0, 43.0, 58.0, 2.0, 1.0], [2.9767093017739907, 17.02329069822601], [0.14883546508869955, 0.8511645349113005], 1.0, 'Risk'], ['no_checking', 28, 'outstanding_credit', 'radio_tv', 2705, 'greater_1000', 'greater_7', 4, 'male', 'none', 4, 'savings_insurance', 38, 'bank', 'own', 1, 'unskilled', 1, 'yes', 'yes', 0.0, 2.0, 2.0, 3.0, 0.0, 0.0, 2.0, 1.0, 3.0, 0.0, 0.0, 0.0, 1.0, [0.0, 2.0, 3.0, 3.0, 2.0, 0.0, 0.0, 0.0, 2.0, 0.0, 1.0, 1.0, 0.0, 28.0, 2705.0, 4.0, 4.0, 28.0, 38.0, 1.0, 1.0], [11.197323623208423, 8.80267637679158], [0.5598661811604211, 0.44013381883957897], 0.0, 'No Risk'], ['less_0', 9, 'all_credits_paid_back', 'car_used', 250, 'less_100', 'less_1', 1, 'male', 'none', 1, 'real_estate', 24, 'bank', 'rent', 1, 'unskilled', 1, 'none', 'yes', 1.0, 3.0, 3.0, 0.0, 0.0, 1.0, 2.0, 1.0, 2.0, 0.0, 2.0, 0.0, 0.0, [1.0, 3.0, 2.0, 0.0, 3.0, 0.0, 0.0, 2.0, 2.0, 1.0, 1.0, 0.0, 0.0, 9.0, 250.0, 1.0, 1.0, 9.0, 24.0, 1.0, 1.0], [19.6594723894478, 0.3405276105521964], [0.9829736194723901, 0.01702638052760982], 0.0, 'No Risk'], ['0_to_200', 9, 'all_credits_paid_back', 'car_new', 1449, '100_to_500', 'less_1', 2, 'female', 'none', 2, 'real_estate', 28, 'none', 'rent', 1, 'skilled', 1, 'none', 'yes', 2.0, 3.0, 3.0, 1.0, 0.0, 1.0, 0.0, 0.0, 0.0, 0.0, 2.0, 1.0, 0.0, [2.0, 3.0, 0.0, 1.0, 3.0, 1.0, 0.0, 2.0, 0.0, 1.0, 0.0, 0.0, 0.0, 9.0, 1449.0, 2.0, 2.0, 9.0, 28.0, 1.0, 1.0], [19.45446302592007, 0.5455369740799287], [0.9727231512960035, 0.027276848703996437], 0.0, 'No Risk'], ['less_0', 16, 'credits_paid_to_date', 'vacation', 1795, 'less_100', '4_to_7', 2, 'male', 'none', 2, 'savings_insurance', 27, 'none', 'own', 1, 'skilled', 1, 'yes', 'yes', 1.0, 1.0, 1.0, 0.0, 0.0, 0.0, 0.0, 0.0, 6.0, 0.0, 0.0, 0.0, 1.0, [1.0, 1.0, 6.0, 0.0, 1.0, 0.0, 0.0, 0.0, 0.0, 0.0, 0.0, 1.0, 0.0, 16.0, 1795.0, 2.0, 2.0, 16.0, 27.0, 1.0, 1.0], [17.45714652520923, 2.5428534747907667], [0.8728573262604616, 0.12714267373953836], 0.0, 'No Risk'], ['less_0', 11, 'prior_payments_delayed', 'car_used', 1502, '100_to_500', '4_to_7', 2, 'female', 'none', 1, 'unknown', 37, 'stores', 'rent', 1, 'skilled', 1, 'none', 'yes', 1.0, 0.0, 1.0, 1.0, 0.0, 1.0, 1.0, 0.0, 2.0, 0.0, 3.0, 1.0, 0.0, [1.0, 0.0, 2.0, 1.0, 1.0, 1.0, 0.0, 3.0, 1.0, 1.0, 0.0, 0.0, 0.0, 11.0, 1502.0, 2.0, 1.0, 11.0, 37.0, 1.0, 1.0], [16.443586301657316, 3.5564136983426815], [0.8221793150828659, 0.1778206849171341], 0.0, 'No Risk'], ['no_checking', 26, 'prior_payments_delayed', 'appliances', 3243, 'greater_1000', 'greater_7', 4, 'male', 'none', 4, 'car_other', 39, 'none', 'own', 2, 'skilled', 1, 'yes', 'yes', 0.0, 0.0, 2.0, 3.0, 0.0, 0.0, 0.0, 0.0, 4.0, 0.0, 1.0, 0.0, 1.0, [0.0, 0.0, 4.0, 3.0, 2.0, 0.0, 0.0, 1.0, 0.0, 0.0, 0.0, 1.0, 0.0, 26.0, 3243.0, 4.0, 4.0, 26.0, 39.0, 2.0, 1.0], [8.41445143180445, 11.58554856819555], [0.42072257159022247, 0.5792774284097775], 1.0, 'Risk'], ['no_checking', 30, 'prior_payments_delayed', 'education', 10795, '100_to_500', 'greater_7', 4, 'male', 'co-applicant', 3, 'car_other', 52, 'none', 'free', 2, 'management_self-employed', 1, 'none', 'yes', 0.0, 0.0, 2.0, 1.0, 0.0, 2.0, 0.0, 2.0, 7.0, 1.0, 1.0, 0.0, 0.0, [0.0, 0.0, 7.0, 1.0, 2.0, 0.0, 1.0, 1.0, 0.0, 2.0, 2.0, 0.0, 0.0, 30.0, 10795.0, 4.0, 3.0, 30.0, 52.0, 2.0, 1.0], [6.040354432651968, 13.95964556734803], [0.30201772163259843, 0.6979822783674015], 1.0, 'Risk'], ['0_to_200', 6, 'all_credits_paid_back', 'car_used', 3268, 'less_100', '1_to_4', 2, 'male', 'co-applicant', 3, 'savings_insurance', 29, 'none', 'own', 1, 'skilled', 1, 'none', 'yes', 2.0, 3.0, 0.0, 0.0, 0.0, 0.0, 0.0, 0.0, 2.0, 1.0, 0.0, 0.0, 0.0, [21, [0, 1, 2, 6, 13, 14, 15, 16, 17, 18, 19, 20], [2.0, 3.0, 2.0, 1.0, 6.0, 3268.0, 2.0, 3.0, 6.0, 29.0, 1.0, 1.0]], [17.786121872836414, 2.2138781271635812], [0.8893060936418209, 0.11069390635817908], 0.0, 'No Risk'], ['0_to_200', 22, 'credits_paid_to_date', 'appliances', 1075, 'less_100', '1_to_4', 3, 'male', 'none', 3, 'real_estate', 37, 'none', 'own', 1, 'skilled', 1, 'none', 'yes', 2.0, 1.0, 0.0, 0.0, 0.0, 0.0, 0.0, 0.0, 4.0, 0.0, 2.0, 0.0, 0.0, [21, [0, 1, 2, 7, 13, 14, 15, 16, 17, 18, 19, 20], [2.0, 1.0, 4.0, 2.0, 22.0, 1075.0, 3.0, 3.0, 22.0, 37.0, 1.0, 1.0]], [16.646209791517666, 3.3537902084823368], [0.8323104895758832, 0.1676895104241168], 0.0, 'No Risk'], ['0_to_200', 9, 'all_credits_paid_back', 'car_used', 2003, 'less_100', '1_to_4', 3, 'female', 'none', 3, 'savings_insurance', 35, 'none', 'own', 1, 'skilled', 1, 'none', 'yes', 2.0, 3.0, 0.0, 0.0, 0.0, 0.0, 0.0, 0.0, 2.0, 0.0, 0.0, 1.0, 0.0, [21, [0, 1, 2, 5, 13, 14, 15, 16, 17, 18, 19, 20], [2.0, 3.0, 2.0, 1.0, 9.0, 2003.0, 3.0, 3.0, 9.0, 35.0, 1.0, 1.0]], [16.33944522703233, 3.6605547729676737], [0.8169722613516163, 0.18302773864838365], 0.0, 'No Risk'], ['no_checking', 19, 'credits_paid_to_date', 'vacation', 3702, 'greater_1000', 'greater_7', 3, 'male', 'none', 3, 'car_other', 42, 'none', 'free', 2, 'skilled', 1, 'yes', 'yes', 0.0, 1.0, 2.0, 3.0, 0.0, 2.0, 0.0, 0.0, 6.0, 0.0, 1.0, 0.0, 1.0, [0.0, 1.0, 6.0, 3.0, 2.0, 0.0, 0.0, 1.0, 0.0, 2.0, 0.0, 1.0, 0.0, 19.0, 3702.0, 3.0, 3.0, 19.0, 42.0, 2.0, 1.0], [9.400094473900577, 10.599905526099425], [0.4700047236950288, 0.5299952763049712], 1.0, 'Risk'], ['no_checking', 27, 'outstanding_credit', 'appliances', 4861, '500_to_1000', '4_to_7', 3, 'female', 'none', 4, 'unknown', 53, 'none', 'own', 1, 'skilled', 1, 'yes', 'yes', 0.0, 2.0, 1.0, 2.0, 0.0, 0.0, 0.0, 0.0, 4.0, 0.0, 3.0, 1.0, 1.0, [0.0, 2.0, 4.0, 2.0, 1.0, 1.0, 0.0, 3.0, 0.0, 0.0, 0.0, 1.0, 0.0, 27.0, 4861.0, 3.0, 4.0, 27.0, 53.0, 1.0, 1.0], [5.879699489073087, 14.120300510926912], [0.29398497445365435, 0.7060150255463455], 1.0, 'Risk'], ['less_0', 15, 'prior_payments_delayed', 'car_new', 2134, 'less_100', '1_to_4', 2, 'male', 'none', 3, 'savings_insurance', 41, 'none', 'own', 1, 'skilled', 1, 'yes', 'yes', 1.0, 0.0, 0.0, 0.0, 0.0, 0.0, 0.0, 0.0, 0.0, 0.0, 0.0, 0.0, 1.0, [21, [0, 11, 13, 14, 15, 16, 17, 18, 19, 20], [1.0, 1.0, 15.0, 2134.0, 2.0, 3.0, 15.0, 41.0, 1.0, 1.0]], [14.84048077615495, 5.159519223845049], [0.7420240388077475, 0.2579759611922524], 0.0, 'No Risk'], ['no_checking', 8, 'prior_payments_delayed', 'car_used', 4364, 'greater_1000', '4_to_7', 3, 'male', 'none', 3, 'savings_insurance', 54, 'none', 'free', 2, 'management_self-employed', 1, 'yes', 'no', 0.0, 0.0, 1.0, 3.0, 1.0, 2.0, 0.0, 2.0, 2.0, 0.0, 0.0, 0.0, 1.0, [0.0, 0.0, 2.0, 3.0, 1.0, 0.0, 0.0, 0.0, 0.0, 2.0, 2.0, 1.0, 1.0, 8.0, 4364.0, 3.0, 3.0, 8.0, 54.0, 2.0, 1.0], [9.266027257593592, 10.733972742406404], [0.46330136287967966, 0.5366986371203203], 1.0, 'Risk'], ['no_checking', 30, 'prior_payments_delayed', 'radio_tv', 5950, '500_to_1000', '1_to_4', 3, 'female', 'none', 3, 'car_other', 50, 'none', 'own', 2, 'skilled', 1, 'none', 'yes', 0.0, 0.0, 0.0, 2.0, 0.0, 0.0, 0.0, 0.0, 3.0, 0.0, 1.0, 1.0, 0.0, [21, [2, 3, 5, 7, 13, 14, 15, 16, 17, 18, 19, 20], [3.0, 2.0, 1.0, 1.0, 30.0, 5950.0, 3.0, 3.0, 30.0, 50.0, 2.0, 1.0]], [9.576574980980915, 10.423425019019087], [0.47882874904904577, 0.5211712509509543], 1.0, 'Risk'], ['0_to_200', 20, 'credits_paid_to_date', 'radio_tv', 2528, 'less_100', '1_to_4', 3, 'female', 'co-applicant', 2, 'real_estate', 44, 'stores', 'own', 1, 'skilled', 1, 'none', 'yes', 2.0, 1.0, 0.0, 0.0, 0.0, 0.0, 1.0, 0.0, 3.0, 1.0, 2.0, 1.0, 0.0, [2.0, 1.0, 3.0, 0.0, 0.0, 1.0, 1.0, 2.0, 1.0, 0.0, 0.0, 0.0, 0.0, 20.0, 2528.0, 3.0, 2.0, 20.0, 44.0, 1.0, 1.0], [17.37478912587289, 2.6252108741271134], [0.8687394562936444, 0.13126054370635565], 0.0, 'No Risk'], ['less_0', 20, 'credits_paid_to_date', 'car_used', 2404, '500_to_1000', '4_to_7', 2, 'female', 'none', 3, 'car_other', 32, 'stores', 'rent', 1, 'skilled', 1, 'none', 'no', 1.0, 1.0, 1.0, 2.0, 1.0, 1.0, 1.0, 0.0, 2.0, 0.0, 1.0, 1.0, 0.0, [1.0, 1.0, 2.0, 2.0, 1.0, 1.0, 0.0, 1.0, 1.0, 1.0, 0.0, 0.0, 1.0, 20.0, 2404.0, 2.0, 3.0, 20.0, 32.0, 1.0, 1.0], [14.246824419842426, 5.753175580157573], [0.7123412209921213, 0.2876587790078787], 0.0, 'No Risk'], ['0_to_200', 29, 'credits_paid_to_date', 'radio_tv', 3655, '500_to_1000', 'greater_7', 3, 'male', 'co-applicant', 4, 'unknown', 40, 'stores', 'own', 2, 'unskilled', 1, 'none', 'yes', 2.0, 1.0, 2.0, 2.0, 0.0, 0.0, 1.0, 1.0, 3.0, 1.0, 3.0, 0.0, 0.0, [2.0, 1.0, 3.0, 2.0, 2.0, 0.0, 1.0, 3.0, 1.0, 0.0, 1.0, 0.0, 0.0, 29.0, 3655.0, 3.0, 4.0, 29.0, 40.0, 2.0, 1.0], [8.937769222211367, 11.062230777788635], [0.44688846111056835, 0.5531115388894318], 1.0, 'Risk'], ['no_checking', 44, 'prior_payments_delayed', 'repairs', 6265, 'unknown', 'greater_7', 5, 'male', 'co-applicant', 5, 'unknown', 42, 'none', 'free', 2, 'skilled', 1, 'yes', 'yes', 0.0, 0.0, 2.0, 4.0, 0.0, 2.0, 0.0, 0.0, 5.0, 1.0, 3.0, 0.0, 1.0, [0.0, 0.0, 5.0, 4.0, 2.0, 0.0, 1.0, 3.0, 0.0, 2.0, 0.0, 1.0, 0.0, 44.0, 6265.0, 5.0, 5.0, 44.0, 42.0, 2.0, 1.0], [3.1954262319434927, 16.80457376805651], [0.15977131159717461, 0.8402286884028254], 1.0, 'Risk'], ['0_to_200', 38, 'prior_payments_delayed', 'furniture', 4303, '100_to_500', '1_to_4', 2, 'male', 'none', 3, 'savings_insurance', 39, 'none', 'own', 1, 'skilled', 1, 'none', 'yes', 2.0, 0.0, 0.0, 1.0, 0.0, 0.0, 0.0, 0.0, 1.0, 0.0, 0.0, 0.0, 0.0, [21, [0, 2, 3, 13, 14, 15, 16, 17, 18, 19, 20], [2.0, 1.0, 1.0, 38.0, 4303.0, 2.0, 3.0, 38.0, 39.0, 1.0, 1.0]], [13.484714751954654, 6.515285248045345], [0.6742357375977327, 0.32576426240226725], 0.0, 'No Risk'], ['less_0', 8, 'prior_payments_delayed', 'car_new', 2176, 'less_100', '4_to_7', 3, 'female', 'none', 2, 'car_other', 37, 'none', 'own', 2, 'skilled', 1, 'none', 'no', 1.0, 0.0, 1.0, 0.0, 1.0, 0.0, 0.0, 0.0, 0.0, 0.0, 1.0, 1.0, 0.0, [1.0, 0.0, 0.0, 0.0, 1.0, 1.0, 0.0, 1.0, 0.0, 0.0, 0.0, 0.0, 1.0, 8.0, 2176.0, 3.0, 2.0, 8.0, 37.0, 2.0, 1.0], [16.07452596403235, 3.9254740359676483], [0.8037262982016176, 0.1962737017983824], 0.0, 'No Risk'], ['less_0', 22, 'no_credits', 'furniture', 250, 'less_100', 'unemployed', 1, 'female', 'co-applicant', 1, 'savings_insurance', 26, 'stores', 'rent', 1, 'unskilled', 1, 'none', 'yes', 1.0, 4.0, 4.0, 0.0, 0.0, 1.0, 1.0, 1.0, 1.0, 1.0, 0.0, 1.0, 0.0, [1.0, 4.0, 1.0, 0.0, 4.0, 1.0, 1.0, 0.0, 1.0, 1.0, 1.0, 0.0, 0.0, 22.0, 250.0, 1.0, 1.0, 22.0, 26.0, 1.0, 1.0], [17.763308231805457, 2.236691768194544], [0.8881654115902728, 0.1118345884097272], 0.0, 'No Risk'], ['no_checking', 14, 'outstanding_credit', 'retraining', 5381, '100_to_500', '4_to_7', 3, 'male', 'none', 3, 'car_other', 29, 'none', 'own', 1, 'management_self-employed', 1, 'yes', 'yes', 0.0, 2.0, 1.0, 1.0, 0.0, 0.0, 0.0, 2.0, 8.0, 0.0, 1.0, 0.0, 1.0, [0.0, 2.0, 8.0, 1.0, 1.0, 0.0, 0.0, 1.0, 0.0, 0.0, 2.0, 1.0, 0.0, 14.0, 5381.0, 3.0, 3.0, 14.0, 29.0, 1.0, 1.0], [12.225314252223178, 7.77468574777682], [0.6112657126111589, 0.38873428738884097], 0.0, 'No Risk'], ['greater_200', 42, 'outstanding_credit', 'repairs', 4490, '500_to_1000', 'greater_7', 4, 'male', 'none', 4, 'unknown', 61, 'none', 'own', 2, 'skilled', 1, 'none', 'yes', 3.0, 2.0, 2.0, 2.0, 0.0, 0.0, 0.0, 0.0, 5.0, 0.0, 3.0, 0.0, 0.0, [3.0, 2.0, 5.0, 2.0, 2.0, 0.0, 0.0, 3.0, 0.0, 0.0, 0.0, 0.0, 0.0, 42.0, 4490.0, 4.0, 4.0, 42.0, 61.0, 2.0, 1.0], [8.235286145466917, 11.764713854533081], [0.41176430727334584, 0.5882356927266541], 1.0, 'Risk'], ['less_0', 15, 'all_credits_paid_back', 'furniture', 2583, 'less_100', 'unemployed', 1, 'male', 'none', 1, 'savings_insurance', 31, 'none', 'own', 1, 'skilled', 1, 'none', 'yes', 1.0, 3.0, 4.0, 0.0, 0.0, 0.0, 0.0, 0.0, 1.0, 0.0, 0.0, 0.0, 0.0, [21, [0, 1, 2, 4, 13, 14, 15, 16, 17, 18, 19, 20], [1.0, 3.0, 1.0, 4.0, 15.0, 2583.0, 1.0, 1.0, 15.0, 31.0, 1.0, 1.0]], [19.271032002593934, 0.7289679974060617], [0.9635516001296969, 0.03644839987030309], 0.0, 'No Risk'], ['less_0', 8, 'all_credits_paid_back', 'car_new', 1755, 'less_100', '1_to_4', 3, 'female', 'none', 1, 'savings_insurance', 27, 'stores', 'own', 1, 'unskilled', 1, 'none', 'yes', 1.0, 3.0, 0.0, 0.0, 0.0, 0.0, 1.0, 1.0, 0.0, 0.0, 0.0, 1.0, 0.0, [1.0, 3.0, 0.0, 0.0, 0.0, 1.0, 0.0, 0.0, 1.0, 0.0, 1.0, 0.0, 0.0, 8.0, 1755.0, 3.0, 1.0, 8.0, 27.0, 1.0, 1.0], [18.787546386241655, 1.2124536137583428], [0.9393773193120829, 0.06062268068791715], 0.0, 'No Risk'], ['0_to_200', 27, 'outstanding_credit', 'car_used', 3164, '100_to_500', '1_to_4', 2, 'female', 'none', 2, 'savings_insurance', 36, 'stores', 'own', 1, 'skilled', 2, 'none', 'yes', 2.0, 2.0, 0.0, 1.0, 0.0, 0.0, 1.0, 0.0, 2.0, 0.0, 0.0, 1.0, 0.0, [2.0, 2.0, 2.0, 1.0, 0.0, 1.0, 0.0, 0.0, 1.0, 0.0, 0.0, 0.0, 0.0, 27.0, 3164.0, 2.0, 2.0, 27.0, 36.0, 1.0, 2.0], [15.76775549536392, 4.232244504636079], [0.788387774768196, 0.21161222523180395], 0.0, 'No Risk'], ['less_0', 13, 'credits_paid_to_date', 'furniture', 1627, 'less_100', '1_to_4', 1, 'female', 'none', 2, 'real_estate', 31, 'bank', 'rent', 1, 'unskilled', 1, 'none', 'yes', 1.0, 1.0, 0.0, 0.0, 0.0, 1.0, 2.0, 1.0, 1.0, 0.0, 2.0, 1.0, 0.0, [1.0, 1.0, 1.0, 0.0, 0.0, 1.0, 0.0, 2.0, 2.0, 1.0, 1.0, 0.0, 0.0, 13.0, 1627.0, 1.0, 2.0, 13.0, 31.0, 1.0, 1.0], [18.507170221481694, 1.492829778518306], [0.9253585110740847, 0.0746414889259153], 0.0, 'No Risk'], ['no_checking', 27, 'outstanding_credit', 'business', 6052, '500_to_1000', '1_to_4', 3, 'male', 'none', 3, 'car_other', 47, 'none', 'own', 2, 'management_self-employed', 1, 'yes', 'yes', 0.0, 2.0, 0.0, 2.0, 0.0, 0.0, 0.0, 2.0, 9.0, 0.0, 1.0, 0.0, 1.0, [0.0, 2.0, 9.0, 2.0, 0.0, 0.0, 0.0, 1.0, 0.0, 0.0, 2.0, 1.0, 0.0, 27.0, 6052.0, 3.0, 3.0, 27.0, 47.0, 2.0, 1.0], [10.694647857512534, 9.305352142487466], [0.5347323928756267, 0.4652676071243733], 0.0, 'No Risk'], ['no_checking', 28, 'outstanding_credit', 'car_used', 5485, '500_to_1000', 'greater_7', 4, 'male', 'co-applicant', 4, 'car_other', 45, 'none', 'own', 1, 'management_self-employed', 1, 'none', 'yes', 0.0, 2.0, 2.0, 2.0, 0.0, 0.0, 0.0, 2.0, 2.0, 1.0, 1.0, 0.0, 0.0, [0.0, 2.0, 2.0, 2.0, 2.0, 0.0, 1.0, 1.0, 0.0, 0.0, 2.0, 0.0, 0.0, 28.0, 5485.0, 4.0, 4.0, 28.0, 45.0, 1.0, 1.0], [8.358773643516223, 11.641226356483775], [0.41793868217581115, 0.5820613178241888], 1.0, 'Risk'], ['0_to_200', 17, 'credits_paid_to_date', 'retraining', 5701, 'less_100', 'less_1', 3, 'female', 'none', 3, 'savings_insurance', 20, 'none', 'own', 1, 'skilled', 1, 'none', 'yes', 2.0, 1.0, 3.0, 0.0, 0.0, 0.0, 0.0, 0.0, 8.0, 0.0, 0.0, 1.0, 0.0, [2.0, 1.0, 8.0, 0.0, 3.0, 1.0, 0.0, 0.0, 0.0, 0.0, 0.0, 0.0, 0.0, 17.0, 5701.0, 3.0, 3.0, 17.0, 20.0, 1.0, 1.0], [18.491914491144534, 1.508085508855465], [0.9245957245572267, 0.07540427544277326], 0.0, 'No Risk'], ['no_checking', 11, 'credits_paid_to_date', 'car_new', 563, '100_to_500', '1_to_4', 3, 'female', 'none', 4, 'car_other', 39, 'bank', 'own', 1, 'unskilled', 1, 'none', 'yes', 0.0, 1.0, 0.0, 1.0, 0.0, 0.0, 2.0, 1.0, 0.0, 0.0, 1.0, 1.0, 0.0, [0.0, 1.0, 0.0, 1.0, 0.0, 1.0, 0.0, 1.0, 2.0, 0.0, 1.0, 0.0, 0.0, 11.0, 563.0, 3.0, 4.0, 11.0, 39.0, 1.0, 1.0], [15.11818977648196, 4.8818102235180385], [0.755909488824098, 0.24409051117590191], 0.0, 'No Risk'], ['no_checking', 30, 'all_credits_paid_back', 'furniture', 1221, '100_to_500', '1_to_4', 2, 'male', 'none', 3, 'real_estate', 28, 'none', 'rent', 1, 'skilled', 1, 'none', 'yes', 0.0, 3.0, 0.0, 1.0, 0.0, 1.0, 0.0, 0.0, 1.0, 0.0, 2.0, 0.0, 0.0, [0.0, 3.0, 1.0, 1.0, 0.0, 0.0, 0.0, 2.0, 0.0, 1.0, 0.0, 0.0, 0.0, 30.0, 1221.0, 2.0, 3.0, 30.0, 28.0, 1.0, 1.0], [14.972439420037922, 5.027560579962076], [0.7486219710018961, 0.2513780289981038], 0.0, 'No Risk'], ['greater_200', 22, 'prior_payments_delayed', 'retraining', 4067, '100_to_500', '4_to_7', 4, 'male', 'none', 2, 'savings_insurance', 37, 'none', 'own', 1, 'management_self-employed', 1, 'none', 'yes', 3.0, 0.0, 1.0, 1.0, 0.0, 0.0, 0.0, 2.0, 8.0, 0.0, 0.0, 0.0, 0.0, [3.0, 0.0, 8.0, 1.0, 1.0, 0.0, 0.0, 0.0, 0.0, 0.0, 2.0, 0.0, 0.0, 22.0, 4067.0, 4.0, 2.0, 22.0, 37.0, 1.0, 1.0], [14.491619604312296, 5.5083803956877055], [0.7245809802156148, 0.27541901978438527], 0.0, 'No Risk'], ['no_checking', 39, 'outstanding_credit', 'appliances', 7435, 'greater_1000', 'greater_7', 5, 'male', 'co-applicant', 4, 'unknown', 48, 'stores', 'free', 2, 'unskilled', 2, 'yes', 'yes', 0.0, 2.0, 2.0, 3.0, 0.0, 2.0, 1.0, 1.0, 4.0, 1.0, 3.0, 0.0, 1.0, [0.0, 2.0, 4.0, 3.0, 2.0, 0.0, 1.0, 3.0, 1.0, 2.0, 1.0, 1.0, 0.0, 39.0, 7435.0, 5.0, 4.0, 39.0, 48.0, 2.0, 2.0], [3.148598004977079, 16.851401995022922], [0.15742990024885395, 0.842570099751146], 1.0, 'Risk'], ['0_to_200', 28, 'credits_paid_to_date', 'car_used', 8134, 'less_100', 'less_1', 3, 'male', 'none', 3, 'savings_insurance', 28, 'stores', 'own', 1, 'unskilled', 1, 'none', 'yes', 2.0, 1.0, 3.0, 0.0, 0.0, 0.0, 1.0, 1.0, 2.0, 0.0, 0.0, 0.0, 0.0, [2.0, 1.0, 2.0, 0.0, 3.0, 0.0, 0.0, 0.0, 1.0, 0.0, 1.0, 0.0, 0.0, 28.0, 8134.0, 3.0, 3.0, 28.0, 28.0, 1.0, 1.0], [16.12320049761095, 3.876799502389052], [0.8061600248805474, 0.19383997511945258], 0.0, 'No Risk'], ['no_checking', 34, 'outstanding_credit', 'repairs', 6316, 'unknown', 'greater_7', 5, 'male', 'co-applicant', 3, 'unknown', 45, 'none', 'free', 2, 'skilled', 2, 'yes', 'yes', 0.0, 2.0, 2.0, 4.0, 0.0, 2.0, 0.0, 0.0, 5.0, 1.0, 3.0, 0.0, 1.0, [0.0, 2.0, 5.0, 4.0, 2.0, 0.0, 1.0, 3.0, 0.0, 2.0, 0.0, 1.0, 0.0, 34.0, 6316.0, 5.0, 3.0, 34.0, 45.0, 2.0, 2.0], [2.468488627590657, 17.531511372409344], [0.12342443137953285, 0.8765755686204673], 1.0, 'Risk'], ['no_checking', 24, 'prior_payments_delayed', 'radio_tv', 6764, '100_to_500', '1_to_4', 3, 'male', 'none', 4, 'car_other', 48, 'none', 'free', 2, 'management_self-employed', 1, 'yes', 'yes', 0.0, 0.0, 0.0, 1.0, 0.0, 2.0, 0.0, 2.0, 3.0, 0.0, 1.0, 0.0, 1.0, [0.0, 0.0, 3.0, 1.0, 0.0, 0.0, 0.0, 1.0, 0.0, 2.0, 2.0, 1.0, 0.0, 24.0, 6764.0, 3.0, 4.0, 24.0, 48.0, 2.0, 1.0], [11.902523961423118, 8.09747603857688], [0.5951261980711559, 0.40487380192884403], 0.0, 'No Risk'], ['no_checking', 22, 'outstanding_credit', 'car_used', 5431, 'unknown', 'greater_7', 5, 'male', 'none', 5, 'savings_insurance', 39, 'none', 'free', 2, 'management_self-employed', 2, 'yes', 'yes', 0.0, 2.0, 2.0, 4.0, 0.0, 2.0, 0.0, 2.0, 2.0, 0.0, 0.0, 0.0, 1.0, [0.0, 2.0, 2.0, 4.0, 2.0, 0.0, 0.0, 0.0, 0.0, 2.0, 2.0, 1.0, 0.0, 22.0, 5431.0, 5.0, 5.0, 22.0, 39.0, 2.0, 2.0], [9.26506177745487, 10.734938222545129], [0.46325308887274347, 0.5367469111272565], 1.0, 'Risk'], ['greater_200', 23, 'outstanding_credit', 'other', 3962, 'greater_1000', 'greater_7', 4, 'male', 'co-applicant', 3, 'unknown', 48, 'none', 'own', 1, 'skilled', 1, 'none', 'yes', 3.0, 2.0, 2.0, 3.0, 0.0, 0.0, 0.0, 0.0, 10.0, 1.0, 3.0, 0.0, 0.0, [3.0, 2.0, 10.0, 3.0, 2.0, 0.0, 1.0, 3.0, 0.0, 0.0, 0.0, 0.0, 0.0, 23.0, 3962.0, 4.0, 3.0, 23.0, 48.0, 1.0, 1.0], [10.544176106250125, 9.455823893749875], [0.5272088053125062, 0.47279119468749375], 0.0, 'No Risk'], ['less_0', 4, 'all_credits_paid_back', 'repairs', 642, 'less_100', '1_to_4', 2, 'male', 'none', 1, 'savings_insurance', 19, 'stores', 'own', 1, 'skilled', 1, 'none', 'yes', 1.0, 3.0, 0.0, 0.0, 0.0, 0.0, 1.0, 0.0, 5.0, 0.0, 0.0, 0.0, 0.0, [21, [0, 1, 2, 8, 13, 14, 15, 16, 17, 18, 19, 20], [1.0, 3.0, 5.0, 1.0, 4.0, 642.0, 2.0, 1.0, 4.0, 19.0, 1.0, 1.0]], [18.70384769060838, 1.2961523093916199], [0.9351923845304191, 0.064807615469581], 0.0, 'No Risk'], ['less_0', 34, 'outstanding_credit', 'furniture', 2253, '100_to_500', '4_to_7', 4, 'male', 'none', 3, 'savings_insurance', 32, 'stores', 'rent', 1, 'skilled', 1, 'none', 'yes', 1.0, 2.0, 1.0, 1.0, 0.0, 1.0, 1.0, 0.0, 1.0, 0.0, 0.0, 0.0, 0.0, [1.0, 2.0, 1.0, 1.0, 1.0, 0.0, 0.0, 0.0, 1.0, 1.0, 0.0, 0.0, 0.0, 34.0, 2253.0, 4.0, 3.0, 34.0, 32.0, 1.0, 1.0], [13.366005600380161, 6.633994399619839], [0.6683002800190081, 0.33169971998099196], 0.0, 'No Risk'], ['less_0', 11, 'all_credits_paid_back', 'appliances', 4501, 'less_100', '1_to_4', 2, 'female', 'none', 1, 'car_other', 29, 'none', 'own', 2, 'skilled', 1, 'none', 'yes', 1.0, 3.0, 0.0, 0.0, 0.0, 0.0, 0.0, 0.0, 4.0, 0.0, 1.0, 1.0, 0.0, [1.0, 3.0, 4.0, 0.0, 0.0, 1.0, 0.0, 1.0, 0.0, 0.0, 0.0, 0.0, 0.0, 11.0, 4501.0, 2.0, 1.0, 11.0, 29.0, 2.0, 1.0], [17.222671866927794, 2.777328133072206], [0.8611335933463897, 0.1388664066536103], 0.0, 'No Risk'], ['less_0', 6, 'prior_payments_delayed', 'car_new', 2074, 'less_100', 'less_1', 2, 'male', 'none', 3, 'savings_insurance', 30, 'none', 'rent', 1, 'skilled', 1, 'none', 'yes', 1.0, 0.0, 3.0, 0.0, 0.0, 1.0, 0.0, 0.0, 0.0, 0.0, 0.0, 0.0, 0.0, [21, [0, 4, 9, 13, 14, 15, 16, 17, 18, 19, 20], [1.0, 3.0, 1.0, 6.0, 2074.0, 2.0, 3.0, 6.0, 30.0, 1.0, 1.0]], [18.435352207032047, 1.5646477929679463], [0.9217676103516027, 0.07823238964839735], 0.0, 'No Risk'], ['no_checking', 25, 'prior_payments_delayed', 'radio_tv', 7781, 'greater_1000', '1_to_4', 4, 'male', 'none', 4, 'car_other', 39, 'none', 'own', 2, 'management_self-employed', 2, 'yes', 'yes', 0.0, 0.0, 0.0, 3.0, 0.0, 0.0, 0.0, 2.0, 3.0, 0.0, 1.0, 0.0, 1.0, [0.0, 0.0, 3.0, 3.0, 0.0, 0.0, 0.0, 1.0, 0.0, 0.0, 2.0, 1.0, 0.0, 25.0, 7781.0, 4.0, 4.0, 25.0, 39.0, 2.0, 2.0], [11.893105232714897, 8.106894767285103], [0.5946552616357448, 0.40534473836425516], 0.0, 'No Risk'], ['less_0', 9, 'all_credits_paid_back', 'car_new', 1787, 'less_100', 'unemployed', 1, 'female', 'none', 1, 'real_estate', 24, 'none', 'rent', 1, 'skilled', 1, 'none', 'yes', 1.0, 3.0, 4.0, 0.0, 0.0, 1.0, 0.0, 0.0, 0.0, 0.0, 2.0, 1.0, 0.0, [1.0, 3.0, 0.0, 0.0, 4.0, 1.0, 0.0, 2.0, 0.0, 1.0, 0.0, 0.0, 0.0, 9.0, 1787.0, 1.0, 1.0, 9.0, 24.0, 1.0, 1.0], [19.56994984055034, 0.4300501594496605], [0.978497492027517, 0.021502507972483025], 0.0, 'No Risk'], ['no_checking', 21, 'credits_paid_to_date', 'radio_tv', 3666, '100_to_500', '1_to_4', 4, 'female', 'none', 3, 'car_other', 47, 'none', 'own', 2, 'skilled', 2, 'yes', 'yes', 0.0, 1.0, 0.0, 1.0, 0.0, 0.0, 0.0, 0.0, 3.0, 0.0, 1.0, 1.0, 1.0, [0.0, 1.0, 3.0, 1.0, 0.0, 1.0, 0.0, 1.0, 0.0, 0.0, 0.0, 1.0, 0.0, 21.0, 3666.0, 4.0, 3.0, 21.0, 47.0, 2.0, 2.0], [10.156104320238795, 9.843895679761205], [0.5078052160119397, 0.49219478398806027], 0.0, 'No Risk'], ['no_checking', 29, 'prior_payments_delayed', 'repairs', 7089, '100_to_500', '4_to_7', 3, 'female', 'none', 4, 'car_other', 44, 'none', 'own', 2, 'skilled', 1, 'yes', 'yes', 0.0, 0.0, 1.0, 1.0, 0.0, 0.0, 0.0, 0.0, 5.0, 0.0, 1.0, 1.0, 1.0, [0.0, 0.0, 5.0, 1.0, 1.0, 1.0, 0.0, 1.0, 0.0, 0.0, 0.0, 1.0, 0.0, 29.0, 7089.0, 3.0, 4.0, 29.0, 44.0, 2.0, 1.0], [6.477970348592915, 13.522029651407086], [0.32389851742964576, 0.6761014825703543], 1.0, 'Risk'], ['no_checking', 37, 'prior_payments_delayed', 'appliances', 6411, 'unknown', 'greater_7', 5, 'female', 'none', 3, 'car_other', 51, 'none', 'own', 3, 'skilled', 1, 'none', 'yes', 0.0, 0.0, 2.0, 4.0, 0.0, 0.0, 0.0, 0.0, 4.0, 0.0, 1.0, 1.0, 0.0, [0.0, 0.0, 4.0, 4.0, 2.0, 1.0, 0.0, 1.0, 0.0, 0.0, 0.0, 0.0, 0.0, 37.0, 6411.0, 5.0, 3.0, 37.0, 51.0, 3.0, 1.0], [5.648916383849626, 14.351083616150374], [0.2824458191924813, 0.7175541808075188], 1.0, 'Risk'], ['no_checking', 25, 'outstanding_credit', 'appliances', 5570, '500_to_1000', 'greater_7', 5, 'male', 'none', 4, 'car_other', 51, 'none', 'free', 2, 'skilled', 1, 'yes', 'yes', 0.0, 2.0, 2.0, 2.0, 0.0, 2.0, 0.0, 0.0, 4.0, 0.0, 1.0, 0.0, 1.0, [0.0, 2.0, 4.0, 2.0, 2.0, 0.0, 0.0, 1.0, 0.0, 2.0, 0.0, 1.0, 0.0, 25.0, 5570.0, 5.0, 4.0, 25.0, 51.0, 2.0, 1.0], [5.562549433320784, 14.437450566679217], [0.27812747166603924, 0.7218725283339609], 1.0, 'Risk'], ['no_checking', 22, 'prior_payments_delayed', 'education', 6062, '100_to_500', 'greater_7', 5, 'male', 'none', 4, 'car_other', 33, 'none', 'own', 1, 'management_self-employed', 1, 'none', 'yes', 0.0, 0.0, 2.0, 1.0, 0.0, 0.0, 0.0, 2.0, 7.0, 0.0, 1.0, 0.0, 0.0, [0.0, 0.0, 7.0, 1.0, 2.0, 0.0, 0.0, 1.0, 0.0, 0.0, 2.0, 0.0, 0.0, 22.0, 6062.0, 5.0, 4.0, 22.0, 33.0, 1.0, 1.0], [10.409442733265765, 9.590557266734239], [0.5204721366632882, 0.4795278633367118], 0.0, 'No Risk'], ['0_to_200', 18, 'credits_paid_to_date', 'furniture', 2543, 'less_100', 'less_1', 3, 'female', 'none', 1, 'savings_insurance', 31, 'none', 'own', 1, 'skilled', 1, 'none', 'yes', 2.0, 1.0, 3.0, 0.0, 0.0, 0.0, 0.0, 0.0, 1.0, 0.0, 0.0, 1.0, 0.0, [2.0, 1.0, 1.0, 0.0, 3.0, 1.0, 0.0, 0.0, 0.0, 0.0, 0.0, 0.0, 0.0, 18.0, 2543.0, 3.0, 1.0, 18.0, 31.0, 1.0, 1.0], [18.05755382581772, 1.9424461741822798], [0.902877691290886, 0.097122308709114], 0.0, 'No Risk'], ['no_checking', 26, 'prior_payments_delayed', 'radio_tv', 4039, '100_to_500', '1_to_4', 4, 'female', 'none', 4, 'real_estate', 43, 'none', 'own', 1, 'skilled', 1, 'yes', 'yes', 0.0, 0.0, 0.0, 1.0, 0.0, 0.0, 0.0, 0.0, 3.0, 0.0, 2.0, 1.0, 1.0, [0.0, 0.0, 3.0, 1.0, 0.0, 1.0, 0.0, 2.0, 0.0, 0.0, 0.0, 1.0, 0.0, 26.0, 4039.0, 4.0, 4.0, 26.0, 43.0, 1.0, 1.0], [12.556587168108265, 7.443412831891735], [0.6278293584054133, 0.3721706415945868], 0.0, 'No Risk'], ['no_checking', 36, 'prior_payments_delayed', 'other', 8036, 'unknown', '4_to_7', 4, 'male', 'none', 4, 'unknown', 53, 'none', 'own', 2, 'skilled', 2, 'yes', 'yes', 0.0, 0.0, 1.0, 4.0, 0.0, 0.0, 0.0, 0.0, 10.0, 0.0, 3.0, 0.0, 1.0, [0.0, 0.0, 10.0, 4.0, 1.0, 0.0, 0.0, 3.0, 0.0, 0.0, 0.0, 1.0, 0.0, 36.0, 8036.0, 4.0, 4.0, 36.0, 53.0, 2.0, 2.0], [5.68745701346807, 14.312542986531929], [0.2843728506734035, 0.7156271493265964], 1.0, 'Risk'], ['less_0', 4, 'all_credits_paid_back', 'education', 250, 'less_100', '1_to_4', 1, 'female', 'none', 2, 'real_estate', 27, 'stores', 'rent', 1, 'skilled', 1, 'none', 'yes', 1.0, 3.0, 0.0, 0.0, 0.0, 1.0, 1.0, 0.0, 7.0, 0.0, 2.0, 1.0, 0.0, [1.0, 3.0, 7.0, 0.0, 0.0, 1.0, 0.0, 2.0, 1.0, 1.0, 0.0, 0.0, 0.0, 4.0, 250.0, 1.0, 2.0, 4.0, 27.0, 1.0, 1.0], [19.307970491927712, 0.6920295080722856], [0.9653985245963858, 0.03460147540361429], 0.0, 'No Risk'], ['less_0', 15, 'credits_paid_to_date', 'appliances', 3171, '100_to_500', '1_to_4', 3, 'male', 'none', 2, 'real_estate', 32, 'none', 'own', 2, 'skilled', 1, 'none', 'yes', 1.0, 1.0, 0.0, 1.0, 0.0, 0.0, 0.0, 0.0, 4.0, 0.0, 2.0, 0.0, 0.0, [1.0, 1.0, 4.0, 1.0, 0.0, 0.0, 0.0, 2.0, 0.0, 0.0, 0.0, 0.0, 0.0, 15.0, 3171.0, 3.0, 2.0, 15.0, 32.0, 2.0, 1.0], [16.659384254277345, 3.340615745722657], [0.8329692127138671, 0.16703078728613283], 0.0, 'No Risk'], ['less_0', 9, 'all_credits_paid_back', 'car_used', 250, '100_to_500', 'unemployed', 2, 'male', 'none', 1, 'real_estate', 31, 'stores', 'rent', 1, 'unskilled', 1, 'none', 'yes', 1.0, 3.0, 4.0, 1.0, 0.0, 1.0, 1.0, 1.0, 2.0, 0.0, 2.0, 0.0, 0.0, [1.0, 3.0, 2.0, 1.0, 4.0, 0.0, 0.0, 2.0, 1.0, 1.0, 1.0, 0.0, 0.0, 9.0, 250.0, 2.0, 1.0, 9.0, 31.0, 1.0, 1.0], [19.49767168968613, 0.5023283103138688], [0.9748835844843067, 0.025116415515693446], 0.0, 'No Risk'], ['greater_200', 15, 'credits_paid_to_date', 'furniture', 4988, '500_to_1000', '1_to_4', 2, 'female', 'none', 1, 'savings_insurance', 38, 'stores', 'own', 2, 'unskilled', 1, 'none', 'yes', 3.0, 1.0, 0.0, 2.0, 0.0, 0.0, 1.0, 1.0, 1.0, 0.0, 0.0, 1.0, 0.0, [3.0, 1.0, 1.0, 2.0, 0.0, 1.0, 0.0, 0.0, 1.0, 0.0, 1.0, 0.0, 0.0, 15.0, 4988.0, 2.0, 1.0, 15.0, 38.0, 2.0, 1.0], [14.846698824407449, 5.153301175592555], [0.7423349412203724, 0.2576650587796277], 0.0, 'No Risk'], ['0_to_200', 19, 'prior_payments_delayed', 'radio_tv', 2589, 'less_100', '1_to_4', 2, 'female', 'none', 1, 'car_other', 34, 'stores', 'own', 1, 'skilled', 1, 'yes', 'yes', 2.0, 0.0, 0.0, 0.0, 0.0, 0.0, 1.0, 0.0, 3.0, 0.0, 1.0, 1.0, 1.0, [2.0, 0.0, 3.0, 0.0, 0.0, 1.0, 0.0, 1.0, 1.0, 0.0, 0.0, 1.0, 0.0, 19.0, 2589.0, 2.0, 1.0, 19.0, 34.0, 1.0, 1.0], [14.965063943961571, 5.034936056038428], [0.7482531971980786, 0.2517468028019214], 0.0, 'No Risk'], ['less_0', 4, 'no_credits', 'car_new', 250, 'less_100', 'unemployed', 1, 'female', 'none', 2, 'real_estate', 19, 'none', 'rent', 1, 'management_self-employed', 1, 'none', 'yes', 1.0, 4.0, 4.0, 0.0, 0.0, 1.0, 0.0, 2.0, 0.0, 0.0, 2.0, 1.0, 0.0, [1.0, 4.0, 0.0, 0.0, 4.0, 1.0, 0.0, 2.0, 0.0, 1.0, 2.0, 0.0, 0.0, 4.0, 250.0, 1.0, 2.0, 4.0, 19.0, 1.0, 1.0], [19.612434061921668, 0.38756593807832873], [0.9806217030960835, 0.01937829690391644], 0.0, 'No Risk'], ['0_to_200', 26, 'credits_paid_to_date', 'radio_tv', 3067, 'less_100', '4_to_7', 4, 'male', 'none', 4, 'savings_insurance', 40, 'bank', 'own', 2, 'unskilled', 1, 'yes', 'yes', 2.0, 1.0, 1.0, 0.0, 0.0, 0.0, 2.0, 1.0, 3.0, 0.0, 0.0, 0.0, 1.0, [2.0, 1.0, 3.0, 0.0, 1.0, 0.0, 0.0, 0.0, 2.0, 0.0, 1.0, 1.0, 0.0, 26.0, 3067.0, 4.0, 4.0, 26.0, 40.0, 2.0, 1.0], [13.030689162410827, 6.96931083758917], [0.6515344581205414, 0.34846554187945855], 0.0, 'No Risk'], ['0_to_200', 30, 'outstanding_credit', 'furniture', 344, 'unknown', 'greater_7', 4, 'male', 'none', 2, 'savings_insurance', 42, 'bank', 'own', 2, 'unemployed', 1, 'none', 'yes', 2.0, 2.0, 2.0, 4.0, 0.0, 0.0, 2.0, 3.0, 1.0, 0.0, 0.0, 0.0, 0.0, [2.0, 2.0, 1.0, 4.0, 2.0, 0.0, 0.0, 0.0, 2.0, 0.0, 3.0, 0.0, 0.0, 30.0, 344.0, 4.0, 2.0, 30.0, 42.0, 2.0, 1.0], [14.073344484196287, 5.926655515803715], [0.7036672242098143, 0.29633277579018574], 0.0, 'No Risk'], ['0_to_200', 4, 'all_credits_paid_back', 'car_new', 250, 'less_100', 'less_1', 2, 'female', 'none', 3, 'savings_insurance', 19, 'bank', 'rent', 1, 'unskilled', 1, 'none', 'yes', 2.0, 3.0, 3.0, 0.0, 0.0, 1.0, 2.0, 1.0, 0.0, 0.0, 0.0, 1.0, 0.0, [2.0, 3.0, 0.0, 0.0, 3.0, 1.0, 0.0, 0.0, 2.0, 1.0, 1.0, 0.0, 0.0, 4.0, 250.0, 2.0, 3.0, 4.0, 19.0, 1.0, 1.0], [19.22658229656337, 0.7734177034366237], [0.9613291148281687, 0.0386708851718312], 0.0, 'No Risk'], ['0_to_200', 45, 'outstanding_credit', 'radio_tv', 4268, '500_to_1000', 'greater_7', 5, 'male', 'none', 2, 'savings_insurance', 39, 'none', 'free', 2, 'skilled', 1, 'yes', 'yes', 2.0, 2.0, 2.0, 2.0, 0.0, 2.0, 0.0, 0.0, 3.0, 0.0, 0.0, 0.0, 1.0, [2.0, 2.0, 3.0, 2.0, 2.0, 0.0, 0.0, 0.0, 0.0, 2.0, 0.0, 1.0, 0.0, 45.0, 4268.0, 5.0, 2.0, 45.0, 39.0, 2.0, 1.0], [12.306405181917118, 7.693594818082884], [0.6153202590958559, 0.3846797409041442], 0.0, 'No Risk'], ['greater_200', 26, 'credits_paid_to_date', 'radio_tv', 5013, '100_to_500', '1_to_4', 4, 'male', 'none', 3, 'car_other', 36, 'none', 'free', 2, 'skilled', 1, 'none', 'yes', 3.0, 1.0, 0.0, 1.0, 0.0, 2.0, 0.0, 0.0, 3.0, 0.0, 1.0, 0.0, 0.0, [3.0, 1.0, 3.0, 1.0, 0.0, 0.0, 0.0, 1.0, 0.0, 2.0, 0.0, 0.0, 0.0, 26.0, 5013.0, 4.0, 3.0, 26.0, 36.0, 2.0, 1.0], [12.510065571471547, 7.489934428528452], [0.6255032785735773, 0.3744967214264226], 0.0, 'No Risk'], ['no_checking', 48, 'outstanding_credit', 'education', 9306, 'unknown', 'greater_7', 6, 'male', 'co-applicant', 6, 'unknown', 38, 'none', 'free', 3, 'skilled', 2, 'yes', 'yes', 0.0, 2.0, 2.0, 4.0, 0.0, 2.0, 0.0, 0.0, 7.0, 1.0, 3.0, 0.0, 1.0, [0.0, 2.0, 7.0, 4.0, 2.0, 0.0, 1.0, 3.0, 0.0, 2.0, 0.0, 1.0, 0.0, 48.0, 9306.0, 6.0, 6.0, 48.0, 38.0, 3.0, 2.0], [2.6910421041934183, 17.308957895806582], [0.13455210520967092, 0.8654478947903291], 1.0, 'Risk'], ['0_to_200', 15, 'prior_payments_delayed', 'furniture', 4156, '100_to_500', '1_to_4', 3, 'male', 'co-applicant', 3, 'savings_insurance', 38, 'none', 'own', 1, 'skilled', 1, 'none', 'yes', 2.0, 0.0, 0.0, 1.0, 0.0, 0.0, 0.0, 0.0, 1.0, 1.0, 0.0, 0.0, 0.0, [21, [0, 2, 3, 6, 13, 14, 15, 16, 17, 18, 19, 20], [2.0, 1.0, 1.0, 1.0, 15.0, 4156.0, 3.0, 3.0, 15.0, 38.0, 1.0, 1.0]], [14.741207022269997, 5.2587929777300015], [0.7370603511134999, 0.26293964888650007], 0.0, 'No Risk'], ['no_checking', 27, 'prior_payments_delayed', 'repairs', 9229, '100_to_500', '4_to_7', 5, 'male', 'none', 4, 'unknown', 40, 'none', 'own', 1, 'management_self-employed', 1, 'none', 'yes', 0.0, 0.0, 1.0, 1.0, 0.0, 0.0, 0.0, 2.0, 5.0, 0.0, 3.0, 0.0, 0.0, [0.0, 0.0, 5.0, 1.0, 1.0, 0.0, 0.0, 3.0, 0.0, 0.0, 2.0, 0.0, 0.0, 27.0, 9229.0, 5.0, 4.0, 27.0, 40.0, 1.0, 1.0], [10.424106347821873, 9.575893652178125], [0.5212053173910937, 0.4787946826089063], 0.0, 'No Risk'], ['greater_200', 26, 'outstanding_credit', 'vacation', 7906, '100_to_500', 'greater_7', 4, 'male', 'none', 4, 'unknown', 31, 'none', 'free', 2, 'skilled', 1, 'yes', 'yes', 3.0, 2.0, 2.0, 1.0, 0.0, 2.0, 0.0, 0.0, 6.0, 0.0, 3.0, 0.0, 1.0, [3.0, 2.0, 6.0, 1.0, 2.0, 0.0, 0.0, 3.0, 0.0, 2.0, 0.0, 1.0, 0.0, 26.0, 7906.0, 4.0, 4.0, 26.0, 31.0, 2.0, 1.0], [9.602250892204479, 10.397749107795521], [0.48011254461022396, 0.5198874553897761], 1.0, 'Risk'], ['0_to_200', 19, 'credits_paid_to_date', 'furniture', 1822, 'less_100', '4_to_7', 3, 'male', 'none', 3, 'car_other', 38, 'none', 'own', 2, 'skilled', 1, 'none', 'yes', 2.0, 1.0, 1.0, 0.0, 0.0, 0.0, 0.0, 0.0, 1.0, 0.0, 1.0, 0.0, 0.0, [2.0, 1.0, 1.0, 0.0, 1.0, 0.0, 0.0, 1.0, 0.0, 0.0, 0.0, 0.0, 0.0, 19.0, 1822.0, 3.0, 3.0, 19.0, 38.0, 2.0, 1.0], [13.22354408262487, 6.776455917375128], [0.6611772041312436, 0.33882279586875647], 0.0, 'No Risk'], ['0_to_200', 17, 'prior_payments_delayed', 'car_used', 2202, '100_to_500', '4_to_7', 3, 'female', 'none', 3, 'savings_insurance', 40, 'none', 'rent', 2, 'skilled', 1, 'none', 'yes', 2.0, 0.0, 1.0, 1.0, 0.0, 1.0, 0.0, 0.0, 2.0, 0.0, 0.0, 1.0, 0.0, [2.0, 0.0, 2.0, 1.0, 1.0, 1.0, 0.0, 0.0, 0.0, 1.0, 0.0, 0.0, 0.0, 17.0, 2202.0, 3.0, 3.0, 17.0, 40.0, 2.0, 1.0], [13.62842695027044, 6.37157304972956], [0.681421347513522, 0.318578652486478], 0.0, 'No Risk'], ['greater_200', 21, 'credits_paid_to_date', 'car_new', 2605, '100_to_500', 'unemployed', 3, 'male', 'none', 3, 'car_other', 33, 'none', 'rent', 1, 'skilled', 1, 'none', 'yes', 3.0, 1.0, 4.0, 1.0, 0.0, 1.0, 0.0, 0.0, 0.0, 0.0, 1.0, 0.0, 0.0, [3.0, 1.0, 0.0, 1.0, 4.0, 0.0, 0.0, 1.0, 0.0, 1.0, 0.0, 0.0, 0.0, 21.0, 2605.0, 3.0, 3.0, 21.0, 33.0, 1.0, 1.0], [15.259053373742038, 4.740946626257961], [0.7629526686871019, 0.23704733131289807], 0.0, 'No Risk'], ['no_checking', 37, 'outstanding_credit', 'radio_tv', 4188, 'unknown', '1_to_4', 3, 'male', 'guarantor', 5, 'savings_insurance', 41, 'none', 'own', 2, 'skilled', 1, 'yes', 'yes', 0.0, 2.0, 0.0, 4.0, 0.0, 0.0, 0.0, 0.0, 3.0, 2.0, 0.0, 0.0, 1.0, [0.0, 2.0, 3.0, 4.0, 0.0, 0.0, 2.0, 0.0, 0.0, 0.0, 0.0, 1.0, 0.0, 37.0, 4188.0, 3.0, 5.0, 37.0, 41.0, 2.0, 1.0], [9.356355349051178, 10.643644650948822], [0.4678177674525589, 0.5321822325474411], 1.0, 'Risk'], ['0_to_200', 21, 'all_credits_paid_back', 'car_used', 2809, 'less_100', 'less_1', 3, 'male', 'none', 2, 'savings_insurance', 25, 'none', 'own', 1, 'management_self-employed', 2, 'none', 'yes', 2.0, 3.0, 3.0, 0.0, 0.0, 0.0, 0.0, 2.0, 2.0, 0.0, 0.0, 0.0, 0.0, [2.0, 3.0, 2.0, 0.0, 3.0, 0.0, 0.0, 0.0, 0.0, 0.0, 2.0, 0.0, 0.0, 21.0, 2809.0, 3.0, 2.0, 21.0, 25.0, 1.0, 2.0], [18.088277907367143, 1.911722092632857], [0.9044138953683571, 0.09558610463164285], 0.0, 'No Risk'], ['0_to_200', 4, 'prior_payments_delayed', 'furniture', 3185, '100_to_500', '4_to_7', 3, 'male', 'none', 2, 'savings_insurance', 26, 'none', 'own', 2, 'management_self-employed', 1, 'none', 'yes', 2.0, 0.0, 1.0, 1.0, 0.0, 0.0, 0.0, 2.0, 1.0, 0.0, 0.0, 0.0, 0.0, [2.0, 0.0, 1.0, 1.0, 1.0, 0.0, 0.0, 0.0, 0.0, 0.0, 2.0, 0.0, 0.0, 4.0, 3185.0, 3.0, 2.0, 4.0, 26.0, 2.0, 1.0], [16.730458300412742, 3.2695416995872577], [0.8365229150206371, 0.1634770849793629], 0.0, 'No Risk'], ['no_checking', 22, 'outstanding_credit', 'car_used', 3373, '500_to_1000', 'greater_7', 4, 'male', 'none', 4, 'car_other', 31, 'none', 'own', 1, 'skilled', 1, 'none', 'yes', 0.0, 2.0, 2.0, 2.0, 0.0, 0.0, 0.0, 0.0, 2.0, 0.0, 1.0, 0.0, 0.0, [0.0, 2.0, 2.0, 2.0, 2.0, 0.0, 0.0, 1.0, 0.0, 0.0, 0.0, 0.0, 0.0, 22.0, 3373.0, 4.0, 4.0, 22.0, 31.0, 1.0, 1.0], [10.971381756192395, 9.028618243807609], [0.5485690878096197, 0.45143091219038034], 0.0, 'No Risk'], ['0_to_200', 21, 'credits_paid_to_date', 'furniture', 4633, 'less_100', '4_to_7', 3, 'male', 'none', 3, 'unknown', 39, 'none', 'own', 1, 'skilled', 1, 'none', 'yes', 2.0, 1.0, 1.0, 0.0, 0.0, 0.0, 0.0, 0.0, 1.0, 0.0, 3.0, 0.0, 0.0, [2.0, 1.0, 1.0, 0.0, 1.0, 0.0, 0.0, 3.0, 0.0, 0.0, 0.0, 0.0, 0.0, 21.0, 4633.0, 3.0, 3.0, 21.0, 39.0, 1.0, 1.0], [14.018595196698211, 5.981404803301791], [0.7009297598349106, 0.29907024016508954], 0.0, 'No Risk'], ['0_to_200', 13, 'credits_paid_to_date', 'furniture', 3583, 'less_100', 'less_1', 1, 'female', 'none', 3, 'car_other', 34, 'stores', 'own', 1, 'skilled', 1, 'none', 'yes', 2.0, 1.0, 3.0, 0.0, 0.0, 0.0, 1.0, 0.0, 1.0, 0.0, 1.0, 1.0, 0.0, [2.0, 1.0, 1.0, 0.0, 3.0, 1.0, 0.0, 1.0, 1.0, 0.0, 0.0, 0.0, 0.0, 13.0, 3583.0, 1.0, 3.0, 13.0, 34.0, 1.0, 1.0], [16.87251202294823, 3.1274879770517687], [0.8436256011474116, 0.15637439885258847], 0.0, 'No Risk'], ['less_0', 26, 'prior_payments_delayed', 'furniture', 250, '100_to_500', '1_to_4', 1, 'female', 'none', 2, 'savings_insurance', 25, 'stores', 'rent', 1, 'unskilled', 1, 'none', 'yes', 1.0, 0.0, 0.0, 1.0, 0.0, 1.0, 1.0, 1.0, 1.0, 0.0, 0.0, 1.0, 0.0, [1.0, 0.0, 1.0, 1.0, 0.0, 1.0, 0.0, 0.0, 1.0, 1.0, 1.0, 0.0, 0.0, 26.0, 250.0, 1.0, 2.0, 26.0, 25.0, 1.0, 1.0], [16.86658634458954, 3.1334136554104606], [0.8433293172294769, 0.15667068277052304], 0.0, 'No Risk'], ['no_checking', 25, 'credits_paid_to_date', 'furniture', 1230, '500_to_1000', '1_to_4', 2, 'female', 'none', 2, 'savings_insurance', 24, 'bank', 'rent', 1, 'unemployed', 1, 'none', 'yes', 0.0, 1.0, 0.0, 2.0, 0.0, 1.0, 2.0, 3.0, 1.0, 0.0, 0.0, 1.0, 0.0, [0.0, 1.0, 1.0, 2.0, 0.0, 1.0, 0.0, 0.0, 2.0, 1.0, 3.0, 0.0, 0.0, 25.0, 1230.0, 2.0, 2.0, 25.0, 24.0, 1.0, 1.0], [14.903939697107827, 5.096060302892171], [0.7451969848553913, 0.25480301514460857], 0.0, 'No Risk'], ['less_0', 19, 'credits_paid_to_date', 'vacation', 2441, 'less_100', '1_to_4', 2, 'female', 'none', 2, 'real_estate', 45, 'none', 'own', 1, 'skilled', 1, 'none', 'yes', 1.0, 1.0, 0.0, 0.0, 0.0, 0.0, 0.0, 0.0, 6.0, 0.0, 2.0, 1.0, 0.0, [1.0, 1.0, 6.0, 0.0, 0.0, 1.0, 0.0, 2.0, 0.0, 0.0, 0.0, 0.0, 0.0, 19.0, 2441.0, 2.0, 2.0, 19.0, 45.0, 1.0, 1.0], [17.658547334136262, 2.341452665863741], [0.8829273667068129, 0.11707263329318703], 0.0, 'No Risk'], ['no_checking', 33, 'prior_payments_delayed', 'car_used', 4655, 'unknown', 'greater_7', 4, 'male', 'none', 3, 'savings_insurance', 49, 'none', 'own', 2, 'skilled', 1, 'yes', 'yes', 0.0, 0.0, 2.0, 4.0, 0.0, 0.0, 0.0, 0.0, 2.0, 0.0, 0.0, 0.0, 1.0, [21, [2, 3, 4, 11, 13, 14, 15, 16, 17, 18, 19, 20], [2.0, 4.0, 2.0, 1.0, 33.0, 4655.0, 4.0, 3.0, 33.0, 49.0, 2.0, 1.0]], [6.686975352817701, 13.313024647182297], [0.33434876764088506, 0.6656512323591148], 1.0, 'Risk'], ['no_checking', 29, 'outstanding_credit', 'other', 6934, '500_to_1000', 'greater_7', 5, 'male', 'co-applicant', 5, 'car_other', 51, 'none', 'own', 3, 'skilled', 2, 'yes', 'yes', 0.0, 2.0, 2.0, 2.0, 0.0, 0.0, 0.0, 0.0, 10.0, 1.0, 1.0, 0.0, 1.0, [0.0, 2.0, 10.0, 2.0, 2.0, 0.0, 1.0, 1.0, 0.0, 0.0, 0.0, 1.0, 0.0, 29.0, 6934.0, 5.0, 5.0, 29.0, 51.0, 3.0, 2.0], [1.9148565419244796, 18.08514345807552], [0.09574282709622398, 0.904257172903776], 1.0, 'Risk'], ['0_to_200', 16, 'prior_payments_delayed', 'furniture', 3594, '100_to_500', '1_to_4', 3, 'male', 'none', 3, 'savings_insurance', 38, 'none', 'own', 2, 'skilled', 1, 'yes', 'yes', 2.0, 0.0, 0.0, 1.0, 0.0, 0.0, 0.0, 0.0, 1.0, 0.0, 0.0, 0.0, 1.0, [21, [0, 2, 3, 11, 13, 14, 15, 16, 17, 18, 19, 20], [2.0, 1.0, 1.0, 1.0, 16.0, 3594.0, 3.0, 3.0, 16.0, 38.0, 2.0, 1.0]], [13.216875162977598, 6.7831248370224015], [0.6608437581488799, 0.3391562418511201], 0.0, 'No Risk'], ['less_0', 4, 'all_credits_paid_back', 'car_new', 250, 'less_100', 'less_1', 1, 'female', 'none', 1, 'real_estate', 25, 'none', 'rent', 1, 'skilled', 1, 'none', 'yes', 1.0, 3.0, 3.0, 0.0, 0.0, 1.0, 0.0, 0.0, 0.0, 0.0, 2.0, 1.0, 0.0, [1.0, 3.0, 0.0, 0.0, 3.0, 1.0, 0.0, 2.0, 0.0, 1.0, 0.0, 0.0, 0.0, 4.0, 250.0, 1.0, 1.0, 4.0, 25.0, 1.0, 1.0], [19.650674735488856, 0.34932526451114065], [0.982533736774443, 0.017466263225557034], 0.0, 'No Risk'], ['no_checking', 34, 'outstanding_credit', 'business', 6954, 'unknown', 'greater_7', 5, 'male', 'none', 4, 'car_other', 45, 'none', 'free', 2, 'skilled', 2, 'yes', 'yes', 0.0, 2.0, 2.0, 4.0, 0.0, 2.0, 0.0, 0.0, 9.0, 0.0, 1.0, 0.0, 1.0, [0.0, 2.0, 9.0, 4.0, 2.0, 0.0, 0.0, 1.0, 0.0, 2.0, 0.0, 1.0, 0.0, 34.0, 6954.0, 5.0, 4.0, 34.0, 45.0, 2.0, 2.0], [6.106515281646794, 13.893484718353205], [0.3053257640823397, 0.6946742359176603], 1.0, 'Risk'], ['0_to_200', 14, 'credits_paid_to_date', 'car_used', 2817, 'less_100', 'less_1', 2, 'male', 'none', 3, 'savings_insurance', 35, 'none', 'own', 1, 'skilled', 1, 'none', 'yes', 2.0, 1.0, 3.0, 0.0, 0.0, 0.0, 0.0, 0.0, 2.0, 0.0, 0.0, 0.0, 0.0, [21, [0, 1, 2, 4, 13, 14, 15, 16, 17, 18, 19, 20], [2.0, 1.0, 2.0, 3.0, 14.0, 2817.0, 2.0, 3.0, 14.0, 35.0, 1.0, 1.0]], [17.05553555085548, 2.9444644491445207], [0.852776777542774, 0.14722322245722602], 0.0, 'No Risk'], ['less_0', 29, 'credits_paid_to_date', 'radio_tv', 2280, 'less_100', '1_to_4', 3, 'female', 'none', 3, 'savings_insurance', 27, 'none', 'own', 1, 'skilled', 1, 'none', 'yes', 1.0, 1.0, 0.0, 0.0, 0.0, 0.0, 0.0, 0.0, 3.0, 0.0, 0.0, 1.0, 0.0, [21, [0, 1, 2, 5, 13, 14, 15, 16, 17, 18, 19, 20], [1.0, 1.0, 3.0, 1.0, 29.0, 2280.0, 3.0, 3.0, 29.0, 27.0, 1.0, 1.0]], [15.836316492503219, 4.16368350749678], [0.791815824625161, 0.20818417537483902], 0.0, 'No Risk'], ['no_checking', 33, 'prior_payments_delayed', 'appliances', 4852, '500_to_1000', '4_to_7', 3, 'female', 'none', 2, 'car_other', 41, 'none', 'own', 1, 'skilled', 1, 'yes', 'yes', 0.0, 0.0, 1.0, 2.0, 0.0, 0.0, 0.0, 0.0, 4.0, 0.0, 1.0, 1.0, 1.0, [0.0, 0.0, 4.0, 2.0, 1.0, 1.0, 0.0, 1.0, 0.0, 0.0, 0.0, 1.0, 0.0, 33.0, 4852.0, 3.0, 2.0, 33.0, 41.0, 1.0, 1.0], [8.726735647019547, 11.273264352980455], [0.43633678235097734, 0.5636632176490227], 1.0, 'Risk'], ['0_to_200', 46, 'prior_payments_delayed', 'appliances', 5258, '100_to_500', 'greater_7', 3, 'male', 'none', 2, 'savings_insurance', 32, 'stores', 'own', 1, 'skilled', 1, 'none', 'yes', 2.0, 0.0, 2.0, 1.0, 0.0, 0.0, 1.0, 0.0, 4.0, 0.0, 0.0, 0.0, 0.0, [2.0, 0.0, 4.0, 1.0, 2.0, 0.0, 0.0, 0.0, 1.0, 0.0, 0.0, 0.0, 0.0, 46.0, 5258.0, 3.0, 2.0, 46.0, 32.0, 1.0, 1.0], [14.183269276664774, 5.816730723335228], [0.7091634638332387, 0.2908365361667614], 0.0, 'No Risk'], ['less_0', 20, 'all_credits_paid_back', 'car_used', 326, 'less_100', 'unemployed', 1, 'male', 'none', 1, 'real_estate', 20, 'bank', 'rent', 1, 'unemployed', 1, 'none', 'yes', 1.0, 3.0, 4.0, 0.0, 0.0, 1.0, 2.0, 3.0, 2.0, 0.0, 2.0, 0.0, 0.0, [1.0, 3.0, 2.0, 0.0, 4.0, 0.0, 0.0, 2.0, 2.0, 1.0, 3.0, 0.0, 0.0, 20.0, 326.0, 1.0, 1.0, 20.0, 20.0, 1.0, 1.0], [19.06402858316296, 0.9359714168370408], [0.9532014291581479, 0.04679857084185204], 0.0, 'No Risk'], ['less_0', 4, 'all_credits_paid_back', 'car_used', 250, 'less_100', 'unemployed', 1, 'male', 'none', 2, 'real_estate', 22, 'none', 'rent', 1, 'skilled', 1, 'none', 'yes', 1.0, 3.0, 4.0, 0.0, 0.0, 1.0, 0.0, 0.0, 2.0, 0.0, 2.0, 0.0, 0.0, [1.0, 3.0, 2.0, 0.0, 4.0, 0.0, 0.0, 2.0, 0.0, 1.0, 0.0, 0.0, 0.0, 4.0, 250.0, 1.0, 2.0, 4.0, 22.0, 1.0, 1.0], [19.603636407962725, 0.396363592037273], [0.9801818203981364, 0.019818179601863654], 0.0, 'No Risk'], ['no_checking', 47, 'outstanding_credit', 'radio_tv', 4866, 'greater_1000', 'greater_7', 4, 'male', 'co-applicant', 4, 'car_other', 40, 'bank', 'own', 2, 'unemployed', 1, 'yes', 'yes', 0.0, 2.0, 2.0, 3.0, 0.0, 0.0, 2.0, 3.0, 3.0, 1.0, 1.0, 0.0, 1.0, [0.0, 2.0, 3.0, 3.0, 2.0, 0.0, 1.0, 1.0, 2.0, 0.0, 3.0, 1.0, 0.0, 47.0, 4866.0, 4.0, 4.0, 47.0, 40.0, 2.0, 1.0], [5.148194062277, 14.851805937722999], [0.25740970311385, 0.74259029688615], 1.0, 'Risk'], ['less_0', 4, 'all_credits_paid_back', 'car_new', 250, '100_to_500', '1_to_4', 1, 'female', 'none', 2, 'savings_insurance', 19, 'stores', 'rent', 1, 'skilled', 1, 'none', 'yes', 1.0, 3.0, 0.0, 1.0, 0.0, 1.0, 1.0, 0.0, 0.0, 0.0, 0.0, 1.0, 0.0, [1.0, 3.0, 0.0, 1.0, 0.0, 1.0, 0.0, 0.0, 1.0, 1.0, 0.0, 0.0, 0.0, 4.0, 250.0, 1.0, 2.0, 4.0, 19.0, 1.0, 1.0], [18.761046875831614, 1.2389531241683847], [0.9380523437915806, 0.06194765620841923], 0.0, 'No Risk'], ['0_to_200', 32, 'outstanding_credit', 'appliances', 6159, 'unknown', 'greater_7', 4, 'male', 'none', 4, 'car_other', 46, 'none', 'own', 3, 'skilled', 2, 'yes', 'yes', 2.0, 2.0, 2.0, 4.0, 0.0, 0.0, 0.0, 0.0, 4.0, 0.0, 1.0, 0.0, 1.0, [2.0, 2.0, 4.0, 4.0, 2.0, 0.0, 0.0, 1.0, 0.0, 0.0, 0.0, 1.0, 0.0, 32.0, 6159.0, 4.0, 4.0, 32.0, 46.0, 3.0, 2.0], [8.865530920801003, 11.134469079198997], [0.4432765460400502, 0.5567234539599498], 1.0, 'Risk'], ['no_checking', 39, 'outstanding_credit', 'other', 7035, 'greater_1000', 'greater_7', 5, 'male', 'co-applicant', 3, 'car_other', 53, 'stores', 'own', 3, 'unskilled', 2, 'yes', 'yes', 0.0, 2.0, 2.0, 3.0, 0.0, 0.0, 1.0, 1.0, 10.0, 1.0, 1.0, 0.0, 1.0, [0.0, 2.0, 10.0, 3.0, 2.0, 0.0, 1.0, 1.0, 1.0, 0.0, 1.0, 1.0, 0.0, 39.0, 7035.0, 5.0, 3.0, 39.0, 53.0, 3.0, 2.0], [3.5795569845456456, 16.420443015454353], [0.17897784922728227, 0.8210221507727177], 1.0, 'Risk'], ['less_0', 14, 'prior_payments_delayed', 'car_used', 250, 'greater_1000', 'less_1', 2, 'male', 'none', 3, 'savings_insurance', 23, 'stores', 'own', 3, 'skilled', 1, 'yes', 'yes', 1.0, 0.0, 3.0, 3.0, 0.0, 0.0, 1.0, 0.0, 2.0, 0.0, 0.0, 0.0, 1.0, [1.0, 0.0, 2.0, 3.0, 3.0, 0.0, 0.0, 0.0, 1.0, 0.0, 0.0, 1.0, 0.0, 14.0, 250.0, 2.0, 3.0, 14.0, 23.0, 3.0, 1.0], [17.634391714495525, 2.3656082855044773], [0.881719585724776, 0.11828041427522384], 0.0, 'No Risk'], ['less_0', 15, 'credits_paid_to_date', 'car_used', 3821, '100_to_500', 'less_1', 1, 'female', 'none', 2, 'real_estate', 29, 'stores', 'own', 1, 'skilled', 1, 'none', 'yes', 1.0, 1.0, 3.0, 1.0, 0.0, 0.0, 1.0, 0.0, 2.0, 0.0, 2.0, 1.0, 0.0, [1.0, 1.0, 2.0, 1.0, 3.0, 1.0, 0.0, 2.0, 1.0, 0.0, 0.0, 0.0, 0.0, 15.0, 3821.0, 1.0, 2.0, 15.0, 29.0, 1.0, 1.0], [19.222799883182518, 0.777200116817484], [0.9611399941591259, 0.0388600058408742], 0.0, 'No Risk'], ['no_checking', 11, 'credits_paid_to_date', 'furniture', 3768, 'less_100', '4_to_7', 2, 'male', 'none', 4, 'savings_insurance', 48, 'stores', 'own', 2, 'unskilled', 1, 'none', 'yes', 0.0, 1.0, 1.0, 0.0, 0.0, 0.0, 1.0, 1.0, 1.0, 0.0, 0.0, 0.0, 0.0, [0.0, 1.0, 1.0, 0.0, 1.0, 0.0, 0.0, 0.0, 1.0, 0.0, 1.0, 0.0, 0.0, 11.0, 3768.0, 2.0, 4.0, 11.0, 48.0, 2.0, 1.0], [11.092094283001659, 8.907905716998341], [0.554604714150083, 0.44539528584991706], 0.0, 'No Risk'], ['no_checking', 8, 'credits_paid_to_date', 'radio_tv', 655, 'less_100', '4_to_7', 2, 'female', 'none', 3, 'car_other', 46, 'none', 'own', 1, 'skilled', 1, 'yes', 'yes', 0.0, 1.0, 1.0, 0.0, 0.0, 0.0, 0.0, 0.0, 3.0, 0.0, 1.0, 1.0, 1.0, [0.0, 1.0, 3.0, 0.0, 1.0, 1.0, 0.0, 1.0, 0.0, 0.0, 0.0, 1.0, 0.0, 8.0, 655.0, 2.0, 3.0, 8.0, 46.0, 1.0, 1.0], [9.163627870946355, 10.836372129053643], [0.45818139354731774, 0.5418186064526822], 1.0, 'Risk'], ['0_to_200', 35, 'outstanding_credit', 'education', 1084, 'greater_1000', '4_to_7', 4, 'male', 'none', 2, 'car_other', 38, 'stores', 'own', 1, 'skilled', 1, 'none', 'yes', 2.0, 2.0, 1.0, 3.0, 0.0, 0.0, 1.0, 0.0, 7.0, 0.0, 1.0, 0.0, 0.0, [2.0, 2.0, 7.0, 3.0, 1.0, 0.0, 0.0, 1.0, 1.0, 0.0, 0.0, 0.0, 0.0, 35.0, 1084.0, 4.0, 2.0, 35.0, 38.0, 1.0, 1.0], [14.276179296870229, 5.723820703129774], [0.7138089648435113, 0.28619103515648864], 0.0, 'No Risk'], ['less_0', 4, 'all_credits_paid_back', 'car_new', 277, 'less_100', 'unemployed', 1, 'male', 'none', 1, 'real_estate', 19, 'stores', 'rent', 1, 'skilled', 1, 'none', 'yes', 1.0, 3.0, 4.0, 0.0, 0.0, 1.0, 1.0, 0.0, 0.0, 0.0, 2.0, 0.0, 0.0, [1.0, 3.0, 0.0, 0.0, 4.0, 0.0, 0.0, 2.0, 1.0, 1.0, 0.0, 0.0, 0.0, 4.0, 277.0, 1.0, 1.0, 4.0, 19.0, 1.0, 1.0], [19.502717261728996, 0.497282738271], [0.97513586308645, 0.024864136913550005], 0.0, 'No Risk'], ['no_checking', 40, 'credits_paid_to_date', 'appliances', 4138, 'greater_1000', 'greater_7', 5, 'male', 'none', 3, 'car_other', 42, 'none', 'own', 2, 'skilled', 1, 'yes', 'yes', 0.0, 1.0, 2.0, 3.0, 0.0, 0.0, 0.0, 0.0, 4.0, 0.0, 1.0, 0.0, 1.0, [0.0, 1.0, 4.0, 3.0, 2.0, 0.0, 0.0, 1.0, 0.0, 0.0, 0.0, 1.0, 0.0, 40.0, 4138.0, 5.0, 3.0, 40.0, 42.0, 2.0, 1.0], [7.887599244860249, 12.11240075513975], [0.39437996224301247, 0.6056200377569876], 1.0, 'Risk'], ['0_to_200', 13, 'credits_paid_to_date', 'radio_tv', 2537, '500_to_1000', '1_to_4', 3, 'male', 'none', 2, 'real_estate', 31, 'none', 'own', 1, 'skilled', 2, 'none', 'yes', 2.0, 1.0, 0.0, 2.0, 0.0, 0.0, 0.0, 0.0, 3.0, 0.0, 2.0, 0.0, 0.0, [2.0, 1.0, 3.0, 2.0, 0.0, 0.0, 0.0, 2.0, 0.0, 0.0, 0.0, 0.0, 0.0, 13.0, 2537.0, 3.0, 2.0, 13.0, 31.0, 1.0, 2.0], [18.43813948452232, 1.5618605154776757], [0.9219069742261162, 0.0780930257738838], 0.0, 'No Risk'], ['less_0', 12, 'prior_payments_delayed', 'furniture', 3995, '500_to_1000', 'greater_7', 2, 'male', 'none', 3, 'car_other', 34, 'stores', 'rent', 1, 'skilled', 2, 'yes', 'yes', 1.0, 0.0, 2.0, 2.0, 0.0, 1.0, 1.0, 0.0, 1.0, 0.0, 1.0, 0.0, 1.0, [1.0, 0.0, 1.0, 2.0, 2.0, 0.0, 0.0, 1.0, 1.0, 1.0, 0.0, 1.0, 0.0, 12.0, 3995.0, 2.0, 3.0, 12.0, 34.0, 1.0, 2.0], [14.626219717889612, 5.373780282110387], [0.7313109858944806, 0.2686890141055193], 0.0, 'No Risk'], ['less_0', 21, 'credits_paid_to_date', 'retraining', 3916, '100_to_500', '1_to_4', 3, 'male', 'none', 2, 'car_other', 28, 'none', 'own', 2, 'skilled', 1, 'yes', 'yes', 1.0, 1.0, 0.0, 1.0, 0.0, 0.0, 0.0, 0.0, 8.0, 0.0, 1.0, 0.0, 1.0, [1.0, 1.0, 8.0, 1.0, 0.0, 0.0, 0.0, 1.0, 0.0, 0.0, 0.0, 1.0, 0.0, 21.0, 3916.0, 3.0, 2.0, 21.0, 28.0, 2.0, 1.0], [15.306415987714225, 4.693584012285778], [0.7653207993857111, 0.23467920061428887], 0.0, 'No Risk'], ['0_to_200', 4, 'all_credits_paid_back', 'radio_tv', 632, 'less_100', '1_to_4', 3, 'male', 'none', 1, 'savings_insurance', 19, 'none', 'own', 1, 'management_self-employed', 1, 'none', 'yes', 2.0, 3.0, 0.0, 0.0, 0.0, 0.0, 0.0, 2.0, 3.0, 0.0, 0.0, 0.0, 0.0, [21, [0, 1, 2, 10, 13, 14, 15, 16, 17, 18, 19, 20], [2.0, 3.0, 3.0, 2.0, 4.0, 632.0, 3.0, 1.0, 4.0, 19.0, 1.0, 1.0]], [18.835567715386258, 1.1644322846137418], [0.9417783857693129, 0.05822161423068709], 0.0, 'No Risk'], ['0_to_200', 25, 'credits_paid_to_date', 'furniture', 2849, 'greater_1000', '1_to_4', 2, 'male', 'none', 2, 'real_estate', 30, 'none', 'own', 1, 'skilled', 1, 'none', 'yes', 2.0, 1.0, 0.0, 3.0, 0.0, 0.0, 0.0, 0.0, 1.0, 0.0, 2.0, 0.0, 0.0, [2.0, 1.0, 1.0, 3.0, 0.0, 0.0, 0.0, 2.0, 0.0, 0.0, 0.0, 0.0, 0.0, 25.0, 2849.0, 2.0, 2.0, 25.0, 30.0, 1.0, 1.0], [17.868964662946023, 2.1310353370539765], [0.8934482331473012, 0.10655176685269882], 0.0, 'No Risk'], ['less_0', 9, 'all_credits_paid_back', 'car_new', 1295, '100_to_500', 'unemployed', 2, 'male', 'none', 2, 'savings_insurance', 24, 'none', 'rent', 1, 'skilled', 1, 'none', 'yes', 1.0, 3.0, 4.0, 1.0, 0.0, 1.0, 0.0, 0.0, 0.0, 0.0, 0.0, 0.0, 0.0, [1.0, 3.0, 0.0, 1.0, 4.0, 0.0, 0.0, 0.0, 0.0, 1.0, 0.0, 0.0, 0.0, 9.0, 1295.0, 2.0, 2.0, 9.0, 24.0, 1.0, 1.0], [19.354858566603134, 0.6451414333968608], [0.9677429283301568, 0.03225707166984305], 0.0, 'No Risk'], ['0_to_200', 14, 'credits_paid_to_date', 'car_new', 4751, 'less_100', '4_to_7', 2, 'male', 'none', 2, 'car_other', 39, 'none', 'own', 1, 'skilled', 1, 'none', 'yes', 2.0, 1.0, 1.0, 0.0, 0.0, 0.0, 0.0, 0.0, 0.0, 0.0, 1.0, 0.0, 0.0, [21, [0, 1, 4, 7, 13, 14, 15, 16, 17, 18, 19, 20], [2.0, 1.0, 1.0, 1.0, 14.0, 4751.0, 2.0, 2.0, 14.0, 39.0, 1.0, 1.0]], [15.44212189338898, 4.557878106611019], [0.772106094669449, 0.22789390533055096], 0.0, 'No Risk'], ['0_to_200', 16, 'credits_paid_to_date', 'furniture', 2388, 'less_100', '1_to_4', 3, 'male', 'co-applicant', 4, 'car_other', 39, 'none', 'own', 1, 'skilled', 1, 'yes', 'yes', 2.0, 1.0, 0.0, 0.0, 0.0, 0.0, 0.0, 0.0, 1.0, 1.0, 1.0, 0.0, 1.0, [2.0, 1.0, 1.0, 0.0, 0.0, 0.0, 1.0, 1.0, 0.0, 0.0, 0.0, 1.0, 0.0, 16.0, 2388.0, 3.0, 4.0, 16.0, 39.0, 1.0, 1.0], [11.85517719906196, 8.144822800938039], [0.592758859953098, 0.40724114004690193], 0.0, 'No Risk'], ['no_checking', 30, 'prior_payments_delayed', 'radio_tv', 7014, '500_to_1000', '4_to_7', 3, 'male', 'guarantor', 4, 'unknown', 57, 'none', 'free', 2, 'skilled', 1, 'yes', 'yes', 0.0, 0.0, 1.0, 2.0, 0.0, 2.0, 0.0, 0.0, 3.0, 2.0, 3.0, 0.0, 1.0, [0.0, 0.0, 3.0, 2.0, 1.0, 0.0, 2.0, 3.0, 0.0, 2.0, 0.0, 1.0, 0.0, 30.0, 7014.0, 3.0, 4.0, 30.0, 57.0, 2.0, 1.0], [4.2869500072548075, 15.713049992745194], [0.21434750036274036, 0.7856524996372597], 1.0, 'Risk'], ['less_0', 17, 'credits_paid_to_date', 'car_used', 746, 'less_100', 'less_1', 2, 'female', 'none', 3, 'savings_insurance', 25, 'bank', 'rent', 1, 'unemployed', 1, 'none', 'yes', 1.0, 1.0, 3.0, 0.0, 0.0, 1.0, 2.0, 3.0, 2.0, 0.0, 0.0, 1.0, 0.0, [1.0, 1.0, 2.0, 0.0, 3.0, 1.0, 0.0, 0.0, 2.0, 1.0, 3.0, 0.0, 0.0, 17.0, 746.0, 2.0, 3.0, 17.0, 25.0, 1.0, 1.0], [19.02007024681724, 0.9799297531827558], [0.9510035123408622, 0.0489964876591378], 0.0, 'No Risk'], ['0_to_200', 26, 'credits_paid_to_date', 'vacation', 2353, 'greater_1000', 'greater_7', 4, 'female', 'none', 3, 'car_other', 39, 'none', 'free', 2, 'skilled', 1, 'none', 'no', 2.0, 1.0, 2.0, 3.0, 1.0, 2.0, 0.0, 0.0, 6.0, 0.0, 1.0, 1.0, 0.0, [2.0, 1.0, 6.0, 3.0, 2.0, 1.0, 0.0, 1.0, 0.0, 2.0, 0.0, 0.0, 1.0, 26.0, 2353.0, 4.0, 3.0, 26.0, 39.0, 2.0, 1.0], [9.885033208959873, 10.114966791040127], [0.4942516604479937, 0.5057483395520064], 1.0, 'Risk'], ['less_0', 8, 'prior_payments_delayed', 'repairs', 2317, 'less_100', '1_to_4', 2, 'female', 'none', 1, 'savings_insurance', 28, 'none', 'rent', 1, 'skilled', 1, 'none', 'yes', 1.0, 0.0, 0.0, 0.0, 0.0, 1.0, 0.0, 0.0, 5.0, 0.0, 0.0, 1.0, 0.0, [21, [0, 2, 5, 9, 13, 14, 15, 16, 17, 18, 19, 20], [1.0, 5.0, 1.0, 1.0, 8.0, 2317.0, 2.0, 1.0, 8.0, 28.0, 1.0, 1.0]], [18.457310035587454, 1.5426899644125436], [0.9228655017793729, 0.07713449822062719], 0.0, 'No Risk'], ['greater_200', 32, 'prior_payments_delayed', 'business', 4765, '500_to_1000', '4_to_7', 4, 'male', 'none', 3, 'unknown', 33, 'none', 'own', 1, 'skilled', 2, 'yes', 'no', 3.0, 0.0, 1.0, 2.0, 1.0, 0.0, 0.0, 0.0, 9.0, 0.0, 3.0, 0.0, 1.0, [3.0, 0.0, 9.0, 2.0, 1.0, 0.0, 0.0, 3.0, 0.0, 0.0, 0.0, 1.0, 1.0, 32.0, 4765.0, 4.0, 3.0, 32.0, 33.0, 1.0, 2.0], [10.90391276163853, 9.09608723836147], [0.5451956380819265, 0.4548043619180735], 0.0, 'No Risk'], ['no_checking', 29, 'prior_payments_delayed', 'radio_tv', 6717, 'unknown', '1_to_4', 4, 'male', 'none', 4, 'car_other', 45, 'none', 'own', 2, 'management_self-employed', 1, 'none', 'yes', 0.0, 0.0, 0.0, 4.0, 0.0, 0.0, 0.0, 2.0, 3.0, 0.0, 1.0, 0.0, 0.0, [21, [2, 3, 7, 10, 13, 14, 15, 16, 17, 18, 19, 20], [3.0, 4.0, 1.0, 2.0, 29.0, 6717.0, 4.0, 4.0, 29.0, 45.0, 2.0, 1.0]], [12.481858351756033, 7.518141648243966], [0.6240929175878016, 0.3759070824121983], 0.0, 'No Risk'], ['less_0', 26, 'no_credits', 'repairs', 2367, 'less_100', '1_to_4', 2, 'female', 'none', 1, 'savings_insurance', 37, 'stores', 'rent', 1, 'skilled', 1, 'none', 'yes', 1.0, 4.0, 0.0, 0.0, 0.0, 1.0, 1.0, 0.0, 5.0, 0.0, 0.0, 1.0, 0.0, [1.0, 4.0, 5.0, 0.0, 0.0, 1.0, 0.0, 0.0, 1.0, 1.0, 0.0, 0.0, 0.0, 26.0, 2367.0, 2.0, 1.0, 26.0, 37.0, 1.0, 1.0], [16.214700063066132, 3.785299936933869], [0.8107350031533066, 0.18926499684669346], 0.0, 'No Risk'], ['less_0', 4, 'all_credits_paid_back', 'car_new', 1813, 'less_100', '1_to_4', 3, 'female', 'none', 3, 'savings_insurance', 23, 'none', 'rent', 1, 'skilled', 1, 'none', 'yes', 1.0, 3.0, 0.0, 0.0, 0.0, 1.0, 0.0, 0.0, 0.0, 0.0, 0.0, 1.0, 0.0, [21, [0, 1, 5, 9, 13, 14, 15, 16, 17, 18, 19, 20], [1.0, 3.0, 1.0, 1.0, 4.0, 1813.0, 3.0, 3.0, 4.0, 23.0, 1.0, 1.0]], [17.922219248174795, 2.0777807518252036], [0.8961109624087398, 0.10388903759126018], 0.0, 'No Risk'], ['0_to_200', 31, 'outstanding_credit', 'appliances', 2996, 'greater_1000', 'greater_7', 4, 'male', 'none', 3, 'car_other', 36, 'bank', 'own', 3, 'unemployed', 1, 'yes', 'yes', 2.0, 2.0, 2.0, 3.0, 0.0, 0.0, 2.0, 3.0, 4.0, 0.0, 1.0, 0.0, 1.0, [2.0, 2.0, 4.0, 3.0, 2.0, 0.0, 0.0, 1.0, 2.0, 0.0, 3.0, 1.0, 0.0, 31.0, 2996.0, 4.0, 3.0, 31.0, 36.0, 3.0, 1.0], [12.45625106706228, 7.543748932937719], [0.6228125533531139, 0.37718744664688597], 0.0, 'No Risk'], ['no_checking', 12, 'outstanding_credit', 'radio_tv', 1402, 'greater_1000', '1_to_4', 3, 'male', 'none', 4, 'car_other', 50, 'none', 'own', 2, 'skilled', 1, 'yes', 'yes', 0.0, 2.0, 0.0, 3.0, 0.0, 0.0, 0.0, 0.0, 3.0, 0.0, 1.0, 0.0, 1.0, [0.0, 2.0, 3.0, 3.0, 0.0, 0.0, 0.0, 1.0, 0.0, 0.0, 0.0, 1.0, 0.0, 12.0, 1402.0, 3.0, 4.0, 12.0, 50.0, 2.0, 1.0], [11.29813667252917, 8.70186332747083], [0.5649068336264584, 0.4350931663735415], 0.0, 'No Risk'], ['no_checking', 8, 'credits_paid_to_date', 'car_new', 4235, '100_to_500', 'unemployed', 3, 'female', 'none', 3, 'real_estate', 35, 'none', 'own', 2, 'management_self-employed', 2, 'none', 'yes', 0.0, 1.0, 4.0, 1.0, 0.0, 0.0, 0.0, 2.0, 0.0, 0.0, 2.0, 1.0, 0.0, [0.0, 1.0, 0.0, 1.0, 4.0, 1.0, 0.0, 2.0, 0.0, 0.0, 2.0, 0.0, 0.0, 8.0, 4235.0, 3.0, 3.0, 8.0, 35.0, 2.0, 2.0], [14.747694472777498, 5.252305527222502], [0.7373847236388749, 0.2626152763611251], 0.0, 'No Risk'], ['no_checking', 25, 'outstanding_credit', 'furniture', 8948, 'unknown', 'greater_7', 4, 'male', 'co-applicant', 3, 'unknown', 57, 'stores', 'free', 3, 'unskilled', 2, 'yes', 'yes', 0.0, 2.0, 2.0, 4.0, 0.0, 2.0, 1.0, 1.0, 1.0, 1.0, 3.0, 0.0, 1.0, [0.0, 2.0, 1.0, 4.0, 2.0, 0.0, 1.0, 3.0, 1.0, 2.0, 1.0, 1.0, 0.0, 25.0, 8948.0, 4.0, 3.0, 25.0, 57.0, 3.0, 2.0], [3.6582419862177984, 16.341758013782204], [0.1829120993108899, 0.8170879006891101], 1.0, 'Risk'], ['less_0', 13, 'all_credits_paid_back', 'appliances', 978, 'less_100', 'less_1', 1, 'female', 'none', 2, 'real_estate', 29, 'none', 'own', 1, 'skilled', 1, 'yes', 'yes', 1.0, 3.0, 3.0, 0.0, 0.0, 0.0, 0.0, 0.0, 4.0, 0.0, 2.0, 1.0, 1.0, [1.0, 3.0, 4.0, 0.0, 3.0, 1.0, 0.0, 2.0, 0.0, 0.0, 0.0, 1.0, 0.0, 13.0, 978.0, 1.0, 2.0, 13.0, 29.0, 1.0, 1.0], [19.325747464002603, 0.674252535997391], [0.9662873732001305, 0.03371262679986956], 0.0, 'No Risk'], ['no_checking', 40, 'outstanding_credit', 'radio_tv', 7075, 'greater_1000', 'greater_7', 5, 'male', 'guarantor', 5, 'car_other', 65, 'none', 'free', 3, 'skilled', 1, 'yes', 'yes', 0.0, 2.0, 2.0, 3.0, 0.0, 2.0, 0.0, 0.0, 3.0, 2.0, 1.0, 0.0, 1.0, [0.0, 2.0, 3.0, 3.0, 2.0, 0.0, 2.0, 1.0, 0.0, 2.0, 0.0, 1.0, 0.0, 40.0, 7075.0, 5.0, 5.0, 40.0, 65.0, 3.0, 1.0], [3.224639602411747, 16.775360397588255], [0.16123198012058734, 0.8387680198794127], 1.0, 'Risk'], ['less_0', 16, 'credits_paid_to_date', 'car_new', 250, '500_to_1000', '4_to_7', 1, 'male', 'none', 1, 'real_estate', 19, 'stores', 'rent', 1, 'skilled', 1, 'none', 'yes', 1.0, 1.0, 1.0, 2.0, 0.0, 1.0, 1.0, 0.0, 0.0, 0.0, 2.0, 0.0, 0.0, [1.0, 1.0, 0.0, 2.0, 1.0, 0.0, 0.0, 2.0, 1.0, 1.0, 0.0, 0.0, 0.0, 16.0, 250.0, 1.0, 1.0, 16.0, 19.0, 1.0, 1.0], [18.86456803162578, 1.135431968374222], [0.943228401581289, 0.0567715984187111], 0.0, 'No Risk'], ['no_checking', 29, 'outstanding_credit', 'repairs', 6510, 'greater_1000', '4_to_7', 4, 'male', 'none', 3, 'car_other', 43, 'none', 'own', 2, 'skilled', 1, 'none', 'yes', 0.0, 2.0, 1.0, 3.0, 0.0, 0.0, 0.0, 0.0, 5.0, 0.0, 1.0, 0.0, 0.0, [0.0, 2.0, 5.0, 3.0, 1.0, 0.0, 0.0, 1.0, 0.0, 0.0, 0.0, 0.0, 0.0, 29.0, 6510.0, 4.0, 3.0, 29.0, 43.0, 2.0, 1.0], [10.462245780104643, 9.537754219895358], [0.5231122890052322, 0.4768877109947679], 0.0, 'No Risk'], ['no_checking', 37, 'outstanding_credit', 'appliances', 7958, 'greater_1000', 'greater_7', 6, 'male', 'co-applicant', 3, 'unknown', 70, 'none', 'free', 3, 'skilled', 2, 'yes', 'no', 0.0, 2.0, 2.0, 3.0, 1.0, 2.0, 0.0, 0.0, 4.0, 1.0, 3.0, 0.0, 1.0, [0.0, 2.0, 4.0, 3.0, 2.0, 0.0, 1.0, 3.0, 0.0, 2.0, 0.0, 1.0, 1.0, 37.0, 7958.0, 6.0, 3.0, 37.0, 70.0, 3.0, 2.0], [1.5447906515747198, 18.45520934842528], [0.07723953257873599, 0.922760467421264], 1.0, 'Risk'], ['no_checking', 38, 'prior_payments_delayed', 'appliances', 6978, '500_to_1000', 'greater_7', 5, 'male', 'none', 3, 'savings_insurance', 43, 'none', 'free', 2, 'skilled', 1, 'none', 'yes', 0.0, 0.0, 2.0, 2.0, 0.0, 2.0, 0.0, 0.0, 4.0, 0.0, 0.0, 0.0, 0.0, [21, [2, 3, 4, 9, 13, 14, 15, 16, 17, 18, 19, 20], [4.0, 2.0, 2.0, 2.0, 38.0, 6978.0, 5.0, 3.0, 38.0, 43.0, 2.0, 1.0]], [9.361029525776766, 10.638970474223234], [0.4680514762888383, 0.5319485237111616], 1.0, 'Risk'], ['0_to_200', 11, 'prior_payments_delayed', 'furniture', 250, 'greater_1000', 'greater_7', 3, 'female', 'none', 3, 'car_other', 26, 'stores', 'own', 2, 'unskilled', 1, 'none', 'yes', 2.0, 0.0, 2.0, 3.0, 0.0, 0.0, 1.0, 1.0, 1.0, 0.0, 1.0, 1.0, 0.0, [2.0, 0.0, 1.0, 3.0, 2.0, 1.0, 0.0, 1.0, 1.0, 0.0, 1.0, 0.0, 0.0, 11.0, 250.0, 3.0, 3.0, 11.0, 26.0, 2.0, 1.0], [15.804624551187, 4.195375448813001], [0.79023122755935, 0.20976877244065006], 0.0, 'No Risk'], ['0_to_200', 40, 'outstanding_credit', 'other', 3179, '100_to_500', 'greater_7', 4, 'male', 'none', 4, 'car_other', 36, 'none', 'own', 1, 'skilled', 1, 'yes', 'yes', 2.0, 2.0, 2.0, 1.0, 0.0, 0.0, 0.0, 0.0, 10.0, 0.0, 1.0, 0.0, 1.0, [2.0, 2.0, 10.0, 1.0, 2.0, 0.0, 0.0, 1.0, 0.0, 0.0, 0.0, 1.0, 0.0, 40.0, 3179.0, 4.0, 4.0, 40.0, 36.0, 1.0, 1.0], [11.79241513201242, 8.207584867987576], [0.5896207566006212, 0.41037924339937887], 0.0, 'No Risk'], ['no_checking', 22, 'credits_paid_to_date', 'radio_tv', 7371, '100_to_500', 'greater_7', 5, 'female', 'none', 3, 'unknown', 44, 'none', 'free', 2, 'skilled', 1, 'yes', 'yes', 0.0, 1.0, 2.0, 1.0, 0.0, 2.0, 0.0, 0.0, 3.0, 0.0, 3.0, 1.0, 1.0, [0.0, 1.0, 3.0, 1.0, 2.0, 1.0, 0.0, 3.0, 0.0, 2.0, 0.0, 1.0, 0.0, 22.0, 7371.0, 5.0, 3.0, 22.0, 44.0, 2.0, 1.0], [6.512831455353991, 13.48716854464601], [0.32564157276769956, 0.6743584272323006], 1.0, 'Risk'], ['0_to_200', 24, 'credits_paid_to_date', 'car_new', 2198, 'less_100', 'less_1', 2, 'female', 'none', 3, 'savings_insurance', 27, 'stores', 'own', 1, 'skilled', 1, 'none', 'yes', 2.0, 1.0, 3.0, 0.0, 0.0, 0.0, 1.0, 0.0, 0.0, 0.0, 0.0, 1.0, 0.0, [2.0, 1.0, 0.0, 0.0, 3.0, 1.0, 0.0, 0.0, 1.0, 0.0, 0.0, 0.0, 0.0, 24.0, 2198.0, 2.0, 3.0, 24.0, 27.0, 1.0, 1.0], [17.52565359743266, 2.4743464025673396], [0.8762826798716331, 0.12371732012836698], 0.0, 'No Risk'], ['less_0', 8, 'all_credits_paid_back', 'car_new', 874, 'less_100', 'less_1', 2, 'male', 'none', 3, 'savings_insurance', 34, 'none', 'own', 1, 'skilled', 1, 'none', 'yes', 1.0, 3.0, 3.0, 0.0, 0.0, 0.0, 0.0, 0.0, 0.0, 0.0, 0.0, 0.0, 0.0, [21, [0, 1, 4, 13, 14, 15, 16, 17, 18, 19, 20], [1.0, 3.0, 3.0, 8.0, 874.0, 2.0, 3.0, 8.0, 34.0, 1.0, 1.0]], [17.917825348643397, 2.0821746513566017], [0.8958912674321698, 0.10410873256783008], 0.0, 'No Risk'], ['0_to_200', 28, 'prior_payments_delayed', 'radio_tv', 3001, '100_to_500', '1_to_4', 3, 'male', 'none', 4, 'car_other', 29, 'bank', 'own', 2, 'unskilled', 1, 'yes', 'yes', 2.0, 0.0, 0.0, 1.0, 0.0, 0.0, 2.0, 1.0, 3.0, 0.0, 1.0, 0.0, 1.0, [2.0, 0.0, 3.0, 1.0, 0.0, 0.0, 0.0, 1.0, 2.0, 0.0, 1.0, 1.0, 0.0, 28.0, 3001.0, 3.0, 4.0, 28.0, 29.0, 2.0, 1.0], [14.644229758189974, 5.355770241810026], [0.7322114879094987, 0.2677885120905013], 0.0, 'No Risk'], ['no_checking', 34, 'outstanding_credit', 'other', 5675, 'unknown', 'greater_7', 4, 'male', 'none', 3, 'car_other', 49, 'none', 'own', 2, 'skilled', 2, 'yes', 'yes', 0.0, 2.0, 2.0, 4.0, 0.0, 0.0, 0.0, 0.0, 10.0, 0.0, 1.0, 0.0, 1.0, [0.0, 2.0, 10.0, 4.0, 2.0, 0.0, 0.0, 1.0, 0.0, 0.0, 0.0, 1.0, 0.0, 34.0, 5675.0, 4.0, 3.0, 34.0, 49.0, 2.0, 2.0], [4.898191763871865, 15.101808236128136], [0.24490958819359326, 0.7550904118064068], 1.0, 'Risk'], ['less_0', 11, 'credits_paid_to_date', 'furniture', 1732, 'less_100', 'less_1', 2, 'male', 'none', 1, 'car_other', 32, 'stores', 'own', 1, 'skilled', 1, 'none', 'yes', 1.0, 1.0, 3.0, 0.0, 0.0, 0.0, 1.0, 0.0, 1.0, 0.0, 1.0, 0.0, 0.0, [1.0, 1.0, 1.0, 0.0, 3.0, 0.0, 0.0, 1.0, 1.0, 0.0, 0.0, 0.0, 0.0, 11.0, 1732.0, 2.0, 1.0, 11.0, 32.0, 1.0, 1.0], [18.378688231821947, 1.6213117681780533], [0.9189344115910973, 0.08106558840890267], 0.0, 'No Risk'], ['less_0', 10, 'all_credits_paid_back', 'vacation', 1894, 'less_100', 'less_1', 3, 'female', 'none', 2, 'real_estate', 32, 'none', 'own', 1, 'skilled', 1, 'none', 'yes', 1.0, 3.0, 3.0, 0.0, 0.0, 0.0, 0.0, 0.0, 6.0, 0.0, 2.0, 1.0, 0.0, [1.0, 3.0, 6.0, 0.0, 3.0, 1.0, 0.0, 2.0, 0.0, 0.0, 0.0, 0.0, 0.0, 10.0, 1894.0, 3.0, 2.0, 10.0, 32.0, 1.0, 1.0], [19.36237784054413, 0.6376221594558639], [0.9681188920272069, 0.031881107972793206], 0.0, 'No Risk'], ['greater_200', 40, 'prior_payments_delayed', 'repairs', 5627, '100_to_500', 'less_1', 4, 'male', 'none', 4, 'car_other', 32, 'none', 'own', 1, 'skilled', 1, 'none', 'yes', 3.0, 0.0, 3.0, 1.0, 0.0, 0.0, 0.0, 0.0, 5.0, 0.0, 1.0, 0.0, 0.0, [3.0, 0.0, 5.0, 1.0, 3.0, 0.0, 0.0, 1.0, 0.0, 0.0, 0.0, 0.0, 0.0, 40.0, 5627.0, 4.0, 4.0, 40.0, 32.0, 1.0, 1.0], [13.378701044952418, 6.621298955047583], [0.668935052247621, 0.33106494775237916], 0.0, 'No Risk'], ['less_0', 19, 'credits_paid_to_date', 'car_new', 250, '500_to_1000', '1_to_4', 1, 'female', 'none', 2, 'savings_insurance', 25, 'stores', 'rent', 2, 'unskilled', 1, 'none', 'yes', 1.0, 1.0, 0.0, 2.0, 0.0, 1.0, 1.0, 1.0, 0.0, 0.0, 0.0, 1.0, 0.0, [1.0, 1.0, 0.0, 2.0, 0.0, 1.0, 0.0, 0.0, 1.0, 1.0, 1.0, 0.0, 0.0, 19.0, 250.0, 1.0, 2.0, 19.0, 25.0, 2.0, 1.0], [16.65000432886022, 3.349995671139783], [0.8325002164430109, 0.16749978355698913], 0.0, 'No Risk'], ['no_checking', 30, 'prior_payments_delayed', 'furniture', 4777, '100_to_500', 'greater_7', 4, 'male', 'none', 4, 'car_other', 36, 'bank', 'own', 2, 'unskilled', 2, 'yes', 'yes', 0.0, 0.0, 2.0, 1.0, 0.0, 0.0, 2.0, 1.0, 1.0, 0.0, 1.0, 0.0, 1.0, [0.0, 0.0, 1.0, 1.0, 2.0, 0.0, 0.0, 1.0, 2.0, 0.0, 1.0, 1.0, 0.0, 30.0, 4777.0, 4.0, 4.0, 30.0, 36.0, 2.0, 2.0], [9.09690171658329, 10.90309828341671], [0.4548450858291645, 0.5451549141708355], 1.0, 'Risk'], ['no_checking', 31, 'prior_payments_delayed', 'other', 5286, 'unknown', 'greater_7', 5, 'male', 'none', 4, 'car_other', 55, 'none', 'free', 3, 'skilled', 2, 'yes', 'yes', 0.0, 0.0, 2.0, 4.0, 0.0, 2.0, 0.0, 0.0, 10.0, 0.0, 1.0, 0.0, 1.0, [0.0, 0.0, 10.0, 4.0, 2.0, 0.0, 0.0, 1.0, 0.0, 2.0, 0.0, 1.0, 0.0, 31.0, 5286.0, 5.0, 4.0, 31.0, 55.0, 3.0, 2.0], [5.20752881138303, 14.79247118861697], [0.2603764405691515, 0.7396235594308485], 1.0, 'Risk'], ['no_checking', 27, 'outstanding_credit', 'radio_tv', 5579, '500_to_1000', '4_to_7', 4, 'male', 'none', 5, 'car_other', 49, 'none', 'own', 2, 'management_self-employed', 1, 'none', 'no', 0.0, 2.0, 1.0, 2.0, 1.0, 0.0, 0.0, 2.0, 3.0, 0.0, 1.0, 0.0, 0.0, [0.0, 2.0, 3.0, 2.0, 1.0, 0.0, 0.0, 1.0, 0.0, 0.0, 2.0, 0.0, 1.0, 27.0, 5579.0, 4.0, 5.0, 27.0, 49.0, 2.0, 1.0], [8.326763830231284, 11.673236169768714], [0.4163381915115642, 0.5836618084884357], 1.0, 'Risk'], ['less_0', 18, 'prior_payments_delayed', 'car_new', 1411, 'less_100', 'less_1', 3, 'male', 'co-applicant', 4, 'savings_insurance', 36, 'none', 'own', 1, 'skilled', 1, 'yes', 'yes', 1.0, 0.0, 3.0, 0.0, 0.0, 0.0, 0.0, 0.0, 0.0, 1.0, 0.0, 0.0, 1.0, [21, [0, 4, 6, 11, 13, 14, 15, 16, 17, 18, 19, 20], [1.0, 3.0, 1.0, 1.0, 18.0, 1411.0, 3.0, 4.0, 18.0, 36.0, 1.0, 1.0]], [14.245324080220586, 5.754675919779414], [0.7122662040110292, 0.2877337959889707], 0.0, 'No Risk'], ['less_0', 14, 'all_credits_paid_back', 'vacation', 2254, 'less_100', 'less_1', 2, 'male', 'none', 1, 'real_estate', 24, 'none', 'own', 1, 'management_self-employed', 1, 'none', 'yes', 1.0, 3.0, 3.0, 0.0, 0.0, 0.0, 0.0, 2.0, 6.0, 0.0, 2.0, 0.0, 0.0, [1.0, 3.0, 6.0, 0.0, 3.0, 0.0, 0.0, 2.0, 0.0, 0.0, 2.0, 0.0, 0.0, 14.0, 2254.0, 2.0, 1.0, 14.0, 24.0, 1.0, 1.0], [19.350984005618294, 0.6490159943817032], [0.9675492002809148, 0.03245079971908517], 0.0, 'No Risk'], ['no_checking', 41, 'outstanding_credit', 'radio_tv', 5691, 'greater_1000', '4_to_7', 3, 'male', 'co-applicant', 4, 'unknown', 43, 'none', 'own', 2, 'skilled', 2, 'yes', 'yes', 0.0, 2.0, 1.0, 3.0, 0.0, 0.0, 0.0, 0.0, 3.0, 1.0, 3.0, 0.0, 1.0, [0.0, 2.0, 3.0, 3.0, 1.0, 0.0, 1.0, 3.0, 0.0, 0.0, 0.0, 1.0, 0.0, 41.0, 5691.0, 3.0, 4.0, 41.0, 43.0, 2.0, 2.0], [4.562225610327027, 15.437774389672974], [0.22811128051635135, 0.7718887194836487], 1.0, 'Risk'], ['greater_200', 36, 'outstanding_credit', 'repairs', 4742, '500_to_1000', '4_to_7', 3, 'male', 'none', 3, 'savings_insurance', 40, 'bank', 'own', 2, 'unskilled', 1, 'yes', 'yes', 3.0, 2.0, 1.0, 2.0, 0.0, 0.0, 2.0, 1.0, 5.0, 0.0, 0.0, 0.0, 1.0, [3.0, 2.0, 5.0, 2.0, 1.0, 0.0, 0.0, 0.0, 2.0, 0.0, 1.0, 1.0, 0.0, 36.0, 4742.0, 3.0, 3.0, 36.0, 40.0, 2.0, 1.0], [12.103225968163647, 7.896774031836353], [0.6051612984081823, 0.39483870159181766], 0.0, 'No Risk'], ['less_0', 12, 'all_credits_paid_back', 'furniture', 250, 'less_100', '1_to_4', 1, 'female', 'none', 1, 'real_estate', 28, 'bank', 'rent', 1, 'unemployed', 1, 'none', 'yes', 1.0, 3.0, 0.0, 0.0, 0.0, 1.0, 2.0, 3.0, 1.0, 0.0, 2.0, 1.0, 0.0, [1.0, 3.0, 1.0, 0.0, 0.0, 1.0, 0.0, 2.0, 2.0, 1.0, 3.0, 0.0, 0.0, 12.0, 250.0, 1.0, 1.0, 12.0, 28.0, 1.0, 1.0], [19.28516610030976, 0.7148338996902395], [0.9642583050154879, 0.035741694984511976], 0.0, 'No Risk'], ['less_0', 4, 'all_credits_paid_back', 'car_new', 250, 'less_100', '1_to_4', 1, 'male', 'none', 1, 'real_estate', 35, 'stores', 'own', 1, 'skilled', 1, 'none', 'yes', 1.0, 3.0, 0.0, 0.0, 0.0, 0.0, 1.0, 0.0, 0.0, 0.0, 2.0, 0.0, 0.0, [21, [0, 1, 7, 8, 13, 14, 15, 16, 17, 18, 19, 20], [1.0, 3.0, 2.0, 1.0, 4.0, 250.0, 1.0, 1.0, 4.0, 35.0, 1.0, 1.0]], [18.88505360870638, 1.1149463912936208], [0.944252680435319, 0.05574731956468104], 0.0, 'No Risk'], ['no_checking', 26, 'all_credits_paid_back', 'radio_tv', 4670, 'less_100', '1_to_4', 4, 'female', 'none', 4, 'savings_insurance', 39, 'none', 'own', 1, 'skilled', 1, 'none', 'yes', 0.0, 3.0, 0.0, 0.0, 0.0, 0.0, 0.0, 0.0, 3.0, 0.0, 0.0, 1.0, 0.0, [21, [1, 2, 5, 13, 14, 15, 16, 17, 18, 19, 20], [3.0, 3.0, 1.0, 26.0, 4670.0, 4.0, 4.0, 26.0, 39.0, 1.0, 1.0]], [12.217314990278412, 7.782685009721587], [0.6108657495139206, 0.38913425048607936], 0.0, 'No Risk'], ['no_checking', 33, 'outstanding_credit', 'radio_tv', 6098, '500_to_1000', 'greater_7', 5, 'male', 'co-applicant', 4, 'unknown', 50, 'none', 'free', 2, 'skilled', 1, 'yes', 'yes', 0.0, 2.0, 2.0, 2.0, 0.0, 2.0, 0.0, 0.0, 3.0, 1.0, 3.0, 0.0, 1.0, [0.0, 2.0, 3.0, 2.0, 2.0, 0.0, 1.0, 3.0, 0.0, 2.0, 0.0, 1.0, 0.0, 33.0, 6098.0, 5.0, 4.0, 33.0, 50.0, 2.0, 1.0], [1.5447906515747198, 18.45520934842528], [0.07723953257873599, 0.922760467421264], 1.0, 'Risk'], ['greater_200', 4, 'credits_paid_to_date', 'car_used', 3920, 'less_100', '1_to_4', 2, 'male', 'co-applicant', 4, 'savings_insurance', 26, 'none', 'own', 1, 'skilled', 1, 'none', 'yes', 3.0, 1.0, 0.0, 0.0, 0.0, 0.0, 0.0, 0.0, 2.0, 1.0, 0.0, 0.0, 0.0, [21, [0, 1, 2, 6, 13, 14, 15, 16, 17, 18, 19, 20], [3.0, 1.0, 2.0, 1.0, 4.0, 3920.0, 2.0, 4.0, 4.0, 26.0, 1.0, 1.0]], [16.586064665835035, 3.413935334164962], [0.8293032332917519, 0.17069676670824813], 0.0, 'No Risk'], ['no_checking', 30, 'prior_payments_delayed', 'car_used', 4517, 'greater_1000', '4_to_7', 3, 'male', 'guarantor', 3, 'savings_insurance', 56, 'none', 'free', 2, 'skilled', 1, 'yes', 'yes', 0.0, 0.0, 1.0, 3.0, 0.0, 2.0, 0.0, 0.0, 2.0, 2.0, 0.0, 0.0, 1.0, [0.0, 0.0, 2.0, 3.0, 1.0, 0.0, 2.0, 0.0, 0.0, 2.0, 0.0, 1.0, 0.0, 30.0, 4517.0, 3.0, 3.0, 30.0, 56.0, 2.0, 1.0], [8.264879035961293, 11.735120964038702], [0.4132439517980648, 0.5867560482019353], 1.0, 'Risk'], ['no_checking', 31, 'prior_payments_delayed', 'car_used', 4014, '500_to_1000', '4_to_7', 3, 'male', 'none', 4, 'savings_insurance', 45, 'none', 'own', 1, 'skilled', 1, 'yes', 'yes', 0.0, 0.0, 1.0, 2.0, 0.0, 0.0, 0.0, 0.0, 2.0, 0.0, 0.0, 0.0, 1.0, [21, [2, 3, 4, 11, 13, 14, 15, 16, 17, 18, 19, 20], [2.0, 2.0, 1.0, 1.0, 31.0, 4014.0, 3.0, 4.0, 31.0, 45.0, 1.0, 1.0]], [10.524091725459453, 9.475908274540547], [0.5262045862729726, 0.4737954137270274], 0.0, 'No Risk'], ['0_to_200', 20, 'no_credits', 'furniture', 3378, 'less_100', 'less_1', 2, 'female', 'none', 2, 'real_estate', 27, 'none', 'own', 2, 'skilled', 1, 'none', 'yes', 2.0, 4.0, 3.0, 0.0, 0.0, 0.0, 0.0, 0.0, 1.0, 0.0, 2.0, 1.0, 0.0, [2.0, 4.0, 1.0, 0.0, 3.0, 1.0, 0.0, 2.0, 0.0, 0.0, 0.0, 0.0, 0.0, 20.0, 3378.0, 2.0, 2.0, 20.0, 27.0, 2.0, 1.0], [18.093225020367264, 1.9067749796327336], [0.9046612510183634, 0.09533874898163669], 0.0, 'No Risk'], ['less_0', 9, 'all_credits_paid_back', 'car_used', 3215, 'less_100', 'less_1', 1, 'male', 'none', 2, 'real_estate', 30, 'bank', 'rent', 1, 'unskilled', 1, 'none', 'yes', 1.0, 3.0, 3.0, 0.0, 0.0, 1.0, 2.0, 1.0, 2.0, 0.0, 2.0, 0.0, 0.0, [1.0, 3.0, 2.0, 0.0, 3.0, 0.0, 0.0, 2.0, 2.0, 1.0, 1.0, 0.0, 0.0, 9.0, 3215.0, 1.0, 2.0, 9.0, 30.0, 1.0, 1.0], [19.516745065710946, 0.4832549342890492], [0.9758372532855475, 0.024162746714452465], 0.0, 'No Risk'], ['less_0', 10, 'no_credits', 'car_used', 250, 'less_100', 'unemployed', 1, 'female', 'none', 2, 'real_estate', 19, 'stores', 'own', 1, 'skilled', 1, 'none', 'yes', 1.0, 4.0, 4.0, 0.0, 0.0, 0.0, 1.0, 0.0, 2.0, 0.0, 2.0, 1.0, 0.0, [1.0, 4.0, 2.0, 0.0, 4.0, 1.0, 0.0, 2.0, 1.0, 0.0, 0.0, 0.0, 0.0, 10.0, 250.0, 1.0, 2.0, 10.0, 19.0, 1.0, 1.0], [19.48112590485406, 0.5188740951459349], [0.9740562952427032, 0.025943704757296748], 0.0, 'No Risk'], ['no_checking', 31, 'prior_payments_delayed', 'appliances', 8027, '100_to_500', '1_to_4', 4, 'male', 'none', 5, 'unknown', 51, 'none', 'own', 2, 'skilled', 1, 'yes', 'yes', 0.0, 0.0, 0.0, 1.0, 0.0, 0.0, 0.0, 0.0, 4.0, 0.0, 3.0, 0.0, 1.0, [21, [2, 3, 7, 11, 13, 14, 15, 16, 17, 18, 19, 20], [4.0, 1.0, 3.0, 1.0, 31.0, 8027.0, 4.0, 5.0, 31.0, 51.0, 2.0, 1.0]], [10.216541639877136, 9.783458360122864], [0.5108270819938567, 0.4891729180061432], 0.0, 'No Risk'], ['less_0', 4, 'all_credits_paid_back', 'car_new', 250, 'less_100', 'unemployed', 1, 'male', 'none', 2, 'real_estate', 19, 'none', 'rent', 1, 'skilled', 1, 'none', 'yes', 1.0, 3.0, 4.0, 0.0, 0.0, 1.0, 0.0, 0.0, 0.0, 0.0, 2.0, 0.0, 0.0, [1.0, 3.0, 0.0, 0.0, 4.0, 0.0, 0.0, 2.0, 0.0, 1.0, 0.0, 0.0, 0.0, 4.0, 250.0, 1.0, 2.0, 4.0, 19.0, 1.0, 1.0], [19.603636407962725, 0.396363592037273], [0.9801818203981364, 0.019818179601863654], 0.0, 'No Risk'], ['no_checking', 20, 'credits_paid_to_date', 'radio_tv', 6010, '100_to_500', 'less_1', 3, 'male', 'none', 3, 'savings_insurance', 34, 'none', 'free', 1, 'management_self-employed', 2, 'none', 'yes', 0.0, 1.0, 3.0, 1.0, 0.0, 2.0, 0.0, 2.0, 3.0, 0.0, 0.0, 0.0, 0.0, [0.0, 1.0, 3.0, 1.0, 3.0, 0.0, 0.0, 0.0, 0.0, 2.0, 2.0, 0.0, 0.0, 20.0, 6010.0, 3.0, 3.0, 20.0, 34.0, 1.0, 2.0], [15.555646695521792, 4.4443533044782075], [0.7777823347760896, 0.22221766522391037], 0.0, 'No Risk'], ['less_0', 24, 'prior_payments_delayed', 'education', 1548, '100_to_500', '1_to_4', 3, 'male', 'none', 1, 'car_other', 36, 'stores', 'own', 1, 'skilled', 1, 'none', 'yes', 1.0, 0.0, 0.0, 1.0, 0.0, 0.0, 1.0, 0.0, 7.0, 0.0, 1.0, 0.0, 0.0, [1.0, 0.0, 7.0, 1.0, 0.0, 0.0, 0.0, 1.0, 1.0, 0.0, 0.0, 0.0, 0.0, 24.0, 1548.0, 3.0, 1.0, 24.0, 36.0, 1.0, 1.0], [15.296578283849225, 4.703421716150773], [0.7648289141924612, 0.23517108580753865], 0.0, 'No Risk'], ['less_0', 4, 'all_credits_paid_back', 'car_used', 250, 'less_100', 'unemployed', 1, 'female', 'none', 2, 'savings_insurance', 25, 'none', 'rent', 1, 'skilled', 1, 'none', 'yes', 1.0, 3.0, 4.0, 0.0, 0.0, 1.0, 0.0, 0.0, 2.0, 0.0, 0.0, 1.0, 0.0, [1.0, 3.0, 2.0, 0.0, 4.0, 1.0, 0.0, 0.0, 0.0, 1.0, 0.0, 0.0, 0.0, 4.0, 250.0, 1.0, 2.0, 4.0, 25.0, 1.0, 1.0], [19.435583461541654, 0.564416538458341], [0.9717791730770828, 0.028220826922917056], 0.0, 'No Risk'], ['0_to_200', 4, 'prior_payments_delayed', 'car_used', 515, 'less_100', 'less_1', 2, 'female', 'none', 3, 'savings_insurance', 29, 'none', 'own', 1, 'skilled', 1, 'none', 'yes', 2.0, 0.0, 3.0, 0.0, 0.0, 0.0, 0.0, 0.0, 2.0, 0.0, 0.0, 1.0, 0.0, [21, [0, 2, 4, 5, 13, 14, 15, 16, 17, 18, 19, 20], [2.0, 2.0, 3.0, 1.0, 4.0, 515.0, 2.0, 3.0, 4.0, 29.0, 1.0, 1.0]], [18.87797698170416, 1.122023018295838], [0.943898849085208, 0.056101150914791904], 0.0, 'No Risk'], ['0_to_200', 27, 'outstanding_credit', 'vacation', 5599, 'greater_1000', '1_to_4', 3, 'female', 'none', 1, 'car_other', 29, 'stores', 'own', 2, 'unskilled', 1, 'none', 'yes', 2.0, 2.0, 0.0, 3.0, 0.0, 0.0, 1.0, 1.0, 6.0, 0.0, 1.0, 1.0, 0.0, [2.0, 2.0, 6.0, 3.0, 0.0, 1.0, 0.0, 1.0, 1.0, 0.0, 1.0, 0.0, 0.0, 27.0, 5599.0, 3.0, 1.0, 27.0, 29.0, 2.0, 1.0], [15.272147871945737, 4.727852128054266], [0.7636073935972867, 0.23639260640271326], 0.0, 'No Risk'], ['0_to_200', 14, 'all_credits_paid_back', 'car_used', 250, 'less_100', 'less_1', 2, 'female', 'none', 1, 'real_estate', 34, 'none', 'own', 1, 'skilled', 1, 'none', 'yes', 2.0, 3.0, 3.0, 0.0, 0.0, 0.0, 0.0, 0.0, 2.0, 0.0, 2.0, 1.0, 0.0, [2.0, 3.0, 2.0, 0.0, 3.0, 1.0, 0.0, 2.0, 0.0, 0.0, 0.0, 0.0, 0.0, 14.0, 250.0, 2.0, 1.0, 14.0, 34.0, 1.0, 1.0], [18.743226025029166, 1.2567739749708358], [0.9371613012514581, 0.06283869874854178], 0.0, 'No Risk'], ['less_0', 14, 'prior_payments_delayed', 'furniture', 1364, 'less_100', '1_to_4', 3, 'male', 'none', 3, 'savings_insurance', 30, 'none', 'own', 1, 'skilled', 1, 'none', 'no', 1.0, 0.0, 0.0, 0.0, 1.0, 0.0, 0.0, 0.0, 1.0, 0.0, 0.0, 0.0, 0.0, [21, [0, 2, 12, 13, 14, 15, 16, 17, 18, 19, 20], [1.0, 1.0, 1.0, 14.0, 1364.0, 3.0, 3.0, 14.0, 30.0, 1.0, 1.0]], [16.65208137130549, 3.347918628694509], [0.8326040685652746, 0.16739593143472548], 0.0, 'No Risk'], ['less_0', 15, 'credits_paid_to_date', 'car_new', 2870, 'less_100', 'less_1', 1, 'female', 'none', 1, 'real_estate', 21, 'none', 'own', 1, 'skilled', 1, 'none', 'yes', 1.0, 1.0, 3.0, 0.0, 0.0, 0.0, 0.0, 0.0, 0.0, 0.0, 2.0, 1.0, 0.0, [1.0, 1.0, 0.0, 0.0, 3.0, 1.0, 0.0, 2.0, 0.0, 0.0, 0.0, 0.0, 0.0, 15.0, 2870.0, 1.0, 1.0, 15.0, 21.0, 1.0, 1.0], [19.32843292899001, 0.6715670710099901], [0.9664216464495006, 0.033578353550499505], 0.0, 'No Risk'], ['less_0', 12, 'prior_payments_delayed', 'car_new', 2061, '100_to_500', '1_to_4', 1, 'female', 'none', 2, 'car_other', 40, 'bank', 'rent', 2, 'unemployed', 1, 'none', 'yes', 1.0, 0.0, 0.0, 1.0, 0.0, 1.0, 2.0, 3.0, 0.0, 0.0, 1.0, 1.0, 0.0, [1.0, 0.0, 0.0, 1.0, 0.0, 1.0, 0.0, 1.0, 2.0, 1.0, 3.0, 0.0, 0.0, 12.0, 2061.0, 1.0, 2.0, 12.0, 40.0, 2.0, 1.0], [15.758401060903015, 4.2415989390969875], [0.7879200530451507, 0.21207994695484933], 0.0, 'No Risk'], ['0_to_200', 4, 'all_credits_paid_back', 'education', 250, 'less_100', 'less_1', 2, 'male', 'co-applicant', 2, 'real_estate', 33, 'none', 'own', 1, 'skilled', 1, 'none', 'yes', 2.0, 3.0, 3.0, 0.0, 0.0, 0.0, 0.0, 0.0, 7.0, 1.0, 2.0, 0.0, 0.0, [2.0, 3.0, 7.0, 0.0, 3.0, 0.0, 1.0, 2.0, 0.0, 0.0, 0.0, 0.0, 0.0, 4.0, 250.0, 2.0, 2.0, 4.0, 33.0, 1.0, 1.0], [19.16602493626059, 0.8339750637394073], [0.9583012468130295, 0.04169875318697037], 0.0, 'No Risk'], ['no_checking', 28, 'outstanding_credit', 'appliances', 5095, 'unknown', '4_to_7', 4, 'female', 'none', 2, 'savings_insurance', 49, 'none', 'own', 2, 'skilled', 1, 'none', 'yes', 0.0, 2.0, 1.0, 4.0, 0.0, 0.0, 0.0, 0.0, 4.0, 0.0, 0.0, 1.0, 0.0, [0.0, 2.0, 4.0, 4.0, 1.0, 1.0, 0.0, 0.0, 0.0, 0.0, 0.0, 0.0, 0.0, 28.0, 5095.0, 4.0, 2.0, 28.0, 49.0, 2.0, 1.0], [9.319041392363587, 10.680958607636411], [0.46595206961817937, 0.5340479303818205], 1.0, 'Risk'], ['no_checking', 26, 'prior_payments_delayed', 'furniture', 1594, '100_to_500', '1_to_4', 3, 'male', 'none', 4, 'savings_insurance', 34, 'none', 'own', 1, 'management_self-employed', 2, 'yes', 'yes', 0.0, 0.0, 0.0, 1.0, 0.0, 0.0, 0.0, 2.0, 1.0, 0.0, 0.0, 0.0, 1.0, [21, [2, 3, 10, 11, 13, 14, 15, 16, 17, 18, 19, 20], [1.0, 1.0, 2.0, 1.0, 26.0, 1594.0, 3.0, 4.0, 26.0, 34.0, 1.0, 2.0]], [14.126512133682322, 5.8734878663176815], [0.7063256066841159, 0.293674393315884], 0.0, 'No Risk'], ['no_checking', 29, 'outstanding_credit', 'vacation', 5412, 'greater_1000', '4_to_7', 5, 'male', 'none', 5, 'savings_insurance', 51, 'none', 'own', 2, 'management_self-employed', 2, 'yes', 'yes', 0.0, 2.0, 1.0, 3.0, 0.0, 0.0, 0.0, 2.0, 6.0, 0.0, 0.0, 0.0, 1.0, [0.0, 2.0, 6.0, 3.0, 1.0, 0.0, 0.0, 0.0, 0.0, 0.0, 2.0, 1.0, 0.0, 29.0, 5412.0, 5.0, 5.0, 29.0, 51.0, 2.0, 2.0], [8.805994128349742, 11.194005871650255], [0.44029970641748717, 0.5597002935825128], 1.0, 'Risk'], ['less_0', 19, 'credits_paid_to_date', 'car_used', 1112, '100_to_500', '1_to_4', 2, 'female', 'none', 3, 'savings_insurance', 27, 'bank', 'rent', 1, 'unskilled', 1, 'none', 'yes', 1.0, 1.0, 0.0, 1.0, 0.0, 1.0, 2.0, 1.0, 2.0, 0.0, 0.0, 1.0, 0.0, [1.0, 1.0, 2.0, 1.0, 0.0, 1.0, 0.0, 0.0, 2.0, 1.0, 1.0, 0.0, 0.0, 19.0, 1112.0, 2.0, 3.0, 19.0, 27.0, 1.0, 1.0], [17.091681840139152, 2.908318159860844], [0.8545840920069577, 0.14541590799304224], 0.0, 'No Risk'], ['0_to_200', 25, 'credits_paid_to_date', 'car_new', 5023, 'less_100', '4_to_7', 4, 'male', 'none', 3, 'car_other', 42, 'none', 'own', 2, 'skilled', 2, 'yes', 'yes', 2.0, 1.0, 1.0, 0.0, 0.0, 0.0, 0.0, 0.0, 0.0, 0.0, 1.0, 0.0, 1.0, [2.0, 1.0, 0.0, 0.0, 1.0, 0.0, 0.0, 1.0, 0.0, 0.0, 0.0, 1.0, 0.0, 25.0, 5023.0, 4.0, 3.0, 25.0, 42.0, 2.0, 2.0], [12.150595691265274, 7.849404308734723], [0.6075297845632638, 0.3924702154367362], 0.0, 'No Risk'], ['less_0', 18, 'credits_paid_to_date', 'furniture', 250, 'less_100', '4_to_7', 3, 'female', 'none', 1, 'real_estate', 25, 'none', 'rent', 1, 'skilled', 1, 'none', 'yes', 1.0, 1.0, 1.0, 0.0, 0.0, 1.0, 0.0, 0.0, 1.0, 0.0, 2.0, 1.0, 0.0, [1.0, 1.0, 1.0, 0.0, 1.0, 1.0, 0.0, 2.0, 0.0, 1.0, 0.0, 0.0, 0.0, 18.0, 250.0, 3.0, 1.0, 18.0, 25.0, 1.0, 1.0], [18.34370332909255, 1.6562966709074525], [0.9171851664546274, 0.08281483354537263], 0.0, 'No Risk'], ['no_checking', 48, 'outstanding_credit', 'education', 4126, 'unknown', 'greater_7', 5, 'male', 'co-applicant', 5, 'car_other', 37, 'bank', 'own', 2, 'unemployed', 1, 'none', 'yes', 0.0, 2.0, 2.0, 4.0, 0.0, 0.0, 2.0, 3.0, 7.0, 1.0, 1.0, 0.0, 0.0, [0.0, 2.0, 7.0, 4.0, 2.0, 0.0, 1.0, 1.0, 2.0, 0.0, 3.0, 0.0, 0.0, 48.0, 4126.0, 5.0, 5.0, 48.0, 37.0, 2.0, 1.0], [6.417527890957913, 13.582472109042085], [0.3208763945478957, 0.6791236054521043], 1.0, 'Risk'], ['less_0', 8, 'all_credits_paid_back', 'car_new', 1114, 'less_100', 'unemployed', 2, 'male', 'none', 1, 'real_estate', 31, 'none', 'rent', 1, 'skilled', 1, 'none', 'yes', 1.0, 3.0, 4.0, 0.0, 0.0, 1.0, 0.0, 0.0, 0.0, 0.0, 2.0, 0.0, 0.0, [1.0, 3.0, 0.0, 0.0, 4.0, 0.0, 0.0, 2.0, 0.0, 1.0, 0.0, 0.0, 0.0, 8.0, 1114.0, 2.0, 1.0, 8.0, 31.0, 1.0, 1.0], [19.507580823799668, 0.4924191762003306], [0.9753790411899835, 0.024620958810016535], 0.0, 'No Risk'], ['less_0', 19, 'prior_payments_delayed', 'radio_tv', 1651, '100_to_500', '1_to_4', 2, 'female', 'none', 1, 'savings_insurance', 27, 'stores', 'own', 1, 'skilled', 1, 'none', 'yes', 1.0, 0.0, 0.0, 1.0, 0.0, 0.0, 1.0, 0.0, 3.0, 0.0, 0.0, 1.0, 0.0, [1.0, 0.0, 3.0, 1.0, 0.0, 1.0, 0.0, 0.0, 1.0, 0.0, 0.0, 0.0, 0.0, 19.0, 1651.0, 2.0, 1.0, 19.0, 27.0, 1.0, 1.0], [17.393691954823428, 2.606308045176572], [0.8696845977411714, 0.1303154022588286], 0.0, 'No Risk'], ['no_checking', 34, 'outstanding_credit', 'other', 3497, 'unknown', 'greater_7', 5, 'male', 'none', 5, 'savings_insurance', 44, 'none', 'own', 2, 'management_self-employed', 1, 'none', 'yes', 0.0, 2.0, 2.0, 4.0, 0.0, 0.0, 0.0, 2.0, 10.0, 0.0, 0.0, 0.0, 0.0, [0.0, 2.0, 10.0, 4.0, 2.0, 0.0, 0.0, 0.0, 0.0, 0.0, 2.0, 0.0, 0.0, 34.0, 3497.0, 5.0, 5.0, 34.0, 44.0, 2.0, 1.0], [9.416875958184301, 10.583124041815699], [0.47084379790921504, 0.529156202090785], 1.0, 'Risk'], ['less_0', 14, 'all_credits_paid_back', 'car_new', 250, 'less_100', '1_to_4', 1, 'female', 'none', 1, 'real_estate', 19, 'stores', 'rent', 1, 'skilled', 1, 'none', 'yes', 1.0, 3.0, 0.0, 0.0, 0.0, 1.0, 1.0, 0.0, 0.0, 0.0, 2.0, 1.0, 0.0, [1.0, 3.0, 0.0, 0.0, 0.0, 1.0, 0.0, 2.0, 1.0, 1.0, 0.0, 0.0, 0.0, 14.0, 250.0, 1.0, 1.0, 14.0, 19.0, 1.0, 1.0], [18.72562555805294, 1.2743744419470615], [0.936281277902647, 0.06371872209735308], 0.0, 'No Risk'], ['0_to_200', 19, 'credits_paid_to_date', 'car_new', 5804, '500_to_1000', 'less_1', 3, 'male', 'none', 4, 'savings_insurance', 26, 'none', 'rent', 2, 'skilled', 1, 'none', 'yes', 2.0, 1.0, 3.0, 2.0, 0.0, 1.0, 0.0, 0.0, 0.0, 0.0, 0.0, 0.0, 0.0, [2.0, 1.0, 0.0, 2.0, 3.0, 0.0, 0.0, 0.0, 0.0, 1.0, 0.0, 0.0, 0.0, 19.0, 5804.0, 3.0, 4.0, 19.0, 26.0, 2.0, 1.0], [15.638770024084918, 4.3612299759150845], [0.7819385012042458, 0.21806149879575418], 0.0, 'No Risk'], ['less_0', 12, 'credits_paid_to_date', 'furniture', 1135, 'less_100', '1_to_4', 3, 'female', 'none', 3, 'car_other', 31, 'none', 'own', 1, 'skilled', 1, 'none', 'yes', 1.0, 1.0, 0.0, 0.0, 0.0, 0.0, 0.0, 0.0, 1.0, 0.0, 1.0, 1.0, 0.0, [1.0, 1.0, 1.0, 0.0, 0.0, 1.0, 0.0, 1.0, 0.0, 0.0, 0.0, 0.0, 0.0, 12.0, 1135.0, 3.0, 3.0, 12.0, 31.0, 1.0, 1.0], [15.934015970423545, 4.0659840295764536], [0.7967007985211773, 0.2032992014788227], 0.0, 'No Risk'], ['0_to_200', 15, 'no_credits', 'car_used', 5810, 'less_100', '1_to_4', 2, 'male', 'none', 2, 'real_estate', 38, 'bank', 'rent', 1, 'unskilled', 1, 'none', 'yes', 2.0, 4.0, 0.0, 0.0, 0.0, 1.0, 2.0, 1.0, 2.0, 0.0, 2.0, 0.0, 0.0, [2.0, 4.0, 2.0, 0.0, 0.0, 0.0, 0.0, 2.0, 2.0, 1.0, 1.0, 0.0, 0.0, 15.0, 5810.0, 2.0, 2.0, 15.0, 38.0, 1.0, 1.0], [17.41808142830551, 2.5819185716944912], [0.8709040714152755, 0.12909592858472457], 0.0, 'No Risk'], ['greater_200', 5, 'all_credits_paid_back', 'radio_tv', 732, 'less_100', '1_to_4', 3, 'female', 'none', 3, 'savings_insurance', 28, 'none', 'own', 1, 'skilled', 1, 'none', 'yes', 3.0, 3.0, 0.0, 0.0, 0.0, 0.0, 0.0, 0.0, 3.0, 0.0, 0.0, 1.0, 0.0, [21, [0, 1, 2, 5, 13, 14, 15, 16, 17, 18, 19, 20], [3.0, 3.0, 3.0, 1.0, 5.0, 732.0, 3.0, 3.0, 5.0, 28.0, 1.0, 1.0]], [17.519247853589317, 2.4807521464106808], [0.875962392679466, 0.12403760732053407], 0.0, 'No Risk'], ['0_to_200', 22, 'credits_paid_to_date', 'radio_tv', 5772, 'less_100', 'less_1', 3, 'female', 'none', 3, 'savings_insurance', 32, 'none', 'free', 2, 'skilled', 2, 'none', 'yes', 2.0, 1.0, 3.0, 0.0, 0.0, 2.0, 0.0, 0.0, 3.0, 0.0, 0.0, 1.0, 0.0, [2.0, 1.0, 3.0, 0.0, 3.0, 1.0, 0.0, 0.0, 0.0, 2.0, 0.0, 0.0, 0.0, 22.0, 5772.0, 3.0, 3.0, 22.0, 32.0, 2.0, 2.0], [14.894189065144177, 5.105810934855826], [0.7447094532572087, 0.2552905467427912], 0.0, 'No Risk'], ['0_to_200', 4, 'all_credits_paid_back', 'car_new', 2838, '100_to_500', 'less_1', 2, 'female', 'none', 3, 'savings_insurance', 30, 'none', 'own', 1, 'skilled', 1, 'none', 'yes', 2.0, 3.0, 3.0, 1.0, 0.0, 0.0, 0.0, 0.0, 0.0, 0.0, 0.0, 1.0, 0.0, [2.0, 3.0, 0.0, 1.0, 3.0, 1.0, 0.0, 0.0, 0.0, 0.0, 0.0, 0.0, 0.0, 4.0, 2838.0, 2.0, 3.0, 4.0, 30.0, 1.0, 1.0], [18.621849061535933, 1.3781509384640669], [0.9310924530767967, 0.06890754692320335], 0.0, 'No Risk'], ['0_to_200', 16, 'prior_payments_delayed', 'education', 3057, 'greater_1000', 'less_1', 2, 'male', 'none', 2, 'savings_insurance', 34, 'none', 'own', 1, 'skilled', 1, 'none', 'yes', 2.0, 0.0, 3.0, 3.0, 0.0, 0.0, 0.0, 0.0, 7.0, 0.0, 0.0, 0.0, 0.0, [21, [0, 2, 3, 4, 13, 14, 15, 16, 17, 18, 19, 20], [2.0, 7.0, 3.0, 3.0, 16.0, 3057.0, 2.0, 2.0, 16.0, 34.0, 1.0, 1.0]], [17.815155553986877, 2.184844446013124], [0.8907577776993438, 0.10924222230065621], 0.0, 'No Risk'], ['no_checking', 29, 'prior_payments_delayed', 'appliances', 5763, 'greater_1000', 'greater_7', 4, 'male', 'none', 4, 'car_other', 52, 'bank', 'own', 2, 'unskilled', 1, 'yes', 'yes', 0.0, 0.0, 2.0, 3.0, 0.0, 0.0, 2.0, 1.0, 4.0, 0.0, 1.0, 0.0, 1.0, [0.0, 0.0, 4.0, 3.0, 2.0, 0.0, 0.0, 1.0, 2.0, 0.0, 1.0, 1.0, 0.0, 29.0, 5763.0, 4.0, 4.0, 29.0, 52.0, 2.0, 1.0], [7.040235936720378, 12.959764063279621], [0.3520117968360189, 0.6479882031639811], 1.0, 'Risk'], ['no_checking', 34, 'outstanding_credit', 'education', 6220, 'unknown', 'greater_7', 5, 'male', 'co-applicant', 5, 'car_other', 64, 'none', 'free', 3, 'skilled', 2, 'yes', 'yes', 0.0, 2.0, 2.0, 4.0, 0.0, 2.0, 0.0, 0.0, 7.0, 1.0, 1.0, 0.0, 1.0, [0.0, 2.0, 7.0, 4.0, 2.0, 0.0, 1.0, 1.0, 0.0, 2.0, 0.0, 1.0, 0.0, 34.0, 6220.0, 5.0, 5.0, 34.0, 64.0, 3.0, 2.0], [2.0031957645393206, 17.99680423546068], [0.10015978822696603, 0.899840211773034], 1.0, 'Risk'], ['0_to_200', 27, 'credits_paid_to_date', 'furniture', 3806, 'less_100', '1_to_4', 3, 'female', 'none', 2, 'car_other', 46, 'none', 'own', 2, 'skilled', 1, 'none', 'yes', 2.0, 1.0, 0.0, 0.0, 0.0, 0.0, 0.0, 0.0, 1.0, 0.0, 1.0, 1.0, 0.0, [2.0, 1.0, 1.0, 0.0, 0.0, 1.0, 0.0, 1.0, 0.0, 0.0, 0.0, 0.0, 0.0, 27.0, 3806.0, 3.0, 2.0, 27.0, 46.0, 2.0, 1.0], [12.773973081594036, 7.226026918405967], [0.6386986540797017, 0.3613013459202983], 0.0, 'No Risk'], ['less_0', 15, 'all_credits_paid_back', 'furniture', 367, 'less_100', '4_to_7', 3, 'female', 'none', 2, 'real_estate', 36, 'none', 'own', 1, 'skilled', 1, 'yes', 'yes', 1.0, 3.0, 1.0, 0.0, 0.0, 0.0, 0.0, 0.0, 1.0, 0.0, 2.0, 1.0, 1.0, [1.0, 3.0, 1.0, 0.0, 1.0, 1.0, 0.0, 2.0, 0.0, 0.0, 0.0, 1.0, 0.0, 15.0, 367.0, 3.0, 2.0, 15.0, 36.0, 1.0, 1.0], [18.689247703777575, 1.310752296222425], [0.9344623851888787, 0.06553761481112125], 0.0, 'No Risk'], ['no_checking', 37, 'outstanding_credit', 'other', 7076, 'greater_1000', 'greater_7', 6, 'male', 'co-applicant', 5, 'unknown', 43, 'none', 'free', 2, 'management_self-employed', 1, 'yes', 'yes', 0.0, 2.0, 2.0, 3.0, 0.0, 2.0, 0.0, 2.0, 10.0, 1.0, 3.0, 0.0, 1.0, [0.0, 2.0, 10.0, 3.0, 2.0, 0.0, 1.0, 3.0, 0.0, 2.0, 2.0, 1.0, 0.0, 37.0, 7076.0, 6.0, 5.0, 37.0, 43.0, 2.0, 1.0], [3.1626171925706856, 16.837382807429314], [0.1581308596285343, 0.8418691403714658], 1.0, 'Risk'], ['no_checking', 30, 'prior_payments_delayed', 'appliances', 7873, '100_to_500', '4_to_7', 4, 'male', 'none', 4, 'unknown', 43, 'stores', 'own', 2, 'unskilled', 2, 'yes', 'yes', 0.0, 0.0, 1.0, 1.0, 0.0, 0.0, 1.0, 1.0, 4.0, 0.0, 3.0, 0.0, 1.0, [0.0, 0.0, 4.0, 1.0, 1.0, 0.0, 0.0, 3.0, 1.0, 0.0, 1.0, 1.0, 0.0, 30.0, 7873.0, 4.0, 4.0, 30.0, 43.0, 2.0, 2.0], [8.695270234070042, 11.304729765929958], [0.43476351170350214, 0.5652364882964979], 1.0, 'Risk'], ['no_checking', 31, 'prior_payments_delayed', 'business', 5171, '100_to_500', '4_to_7', 3, 'male', 'none', 4, 'unknown', 42, 'stores', 'own', 2, 'unskilled', 1, 'yes', 'yes', 0.0, 0.0, 1.0, 1.0, 0.0, 0.0, 1.0, 1.0, 9.0, 0.0, 3.0, 0.0, 1.0, [0.0, 0.0, 9.0, 1.0, 1.0, 0.0, 0.0, 3.0, 1.0, 0.0, 1.0, 1.0, 0.0, 31.0, 5171.0, 3.0, 4.0, 31.0, 42.0, 2.0, 1.0], [9.297160990372562, 10.702839009627438], [0.46485804951862814, 0.5351419504813719], 1.0, 'Risk'], ['less_0', 14, 'prior_payments_delayed', 'radio_tv', 2111, 'less_100', '1_to_4', 2, 'male', 'none', 3, 'savings_insurance', 27, 'none', 'own', 1, 'skilled', 1, 'none', 'yes', 1.0, 0.0, 0.0, 0.0, 0.0, 0.0, 0.0, 0.0, 3.0, 0.0, 0.0, 0.0, 0.0, [21, [0, 2, 13, 14, 15, 16, 17, 18, 19, 20], [1.0, 3.0, 14.0, 2111.0, 2.0, 3.0, 14.0, 27.0, 1.0, 1.0]], [16.93717250406449, 3.062827495935508], [0.8468586252032245, 0.15314137479677545], 0.0, 'No Risk'], ['0_to_200', 14, 'credits_paid_to_date', 'retraining', 4054, '500_to_1000', '4_to_7', 2, 'male', 'none', 3, 'savings_insurance', 36, 'none', 'own', 2, 'skilled', 1, 'yes', 'yes', 2.0, 1.0, 1.0, 2.0, 0.0, 0.0, 0.0, 0.0, 8.0, 0.0, 0.0, 0.0, 1.0, [2.0, 1.0, 8.0, 2.0, 1.0, 0.0, 0.0, 0.0, 0.0, 0.0, 0.0, 1.0, 0.0, 14.0, 4054.0, 2.0, 3.0, 14.0, 36.0, 2.0, 1.0], [13.435882704299559, 6.564117295700438], [0.671794135214978, 0.32820586478502195], 0.0, 'No Risk'], ['no_checking', 30, 'outstanding_credit', 'radio_tv', 7277, '500_to_1000', '4_to_7', 5, 'male', 'none', 5, 'unknown', 60, 'none', 'free', 2, 'skilled', 1, 'yes', 'yes', 0.0, 2.0, 1.0, 2.0, 0.0, 2.0, 0.0, 0.0, 3.0, 0.0, 3.0, 0.0, 1.0, [0.0, 2.0, 3.0, 2.0, 1.0, 0.0, 0.0, 3.0, 0.0, 2.0, 0.0, 1.0, 0.0, 30.0, 7277.0, 5.0, 5.0, 30.0, 60.0, 2.0, 1.0], [4.334339005895226, 15.665660994104773], [0.2167169502947613, 0.7832830497052387], 1.0, 'Risk'], ['less_0', 14, 'all_credits_paid_back', 'car_new', 250, 'less_100', '1_to_4', 3, 'female', 'none', 2, 'real_estate', 25, 'bank', 'rent', 1, 'unskilled', 1, 'none', 'yes', 1.0, 3.0, 0.0, 0.0, 0.0, 1.0, 2.0, 1.0, 0.0, 0.0, 2.0, 1.0, 0.0, [1.0, 3.0, 0.0, 0.0, 0.0, 1.0, 0.0, 2.0, 2.0, 1.0, 1.0, 0.0, 0.0, 14.0, 250.0, 3.0, 2.0, 14.0, 25.0, 1.0, 1.0], [19.052065282224, 0.9479347177759988], [0.9526032641112, 0.04739673588879994], 0.0, 'No Risk'], ['less_0', 14, 'all_credits_paid_back', 'car_used', 1308, 'less_100', '4_to_7', 1, 'female', 'co-applicant', 2, 'car_other', 50, 'stores', 'own', 1, 'unskilled', 1, 'yes', 'yes', 1.0, 3.0, 1.0, 0.0, 0.0, 0.0, 1.0, 1.0, 2.0, 1.0, 1.0, 1.0, 1.0, [1.0, 3.0, 2.0, 0.0, 1.0, 1.0, 1.0, 1.0, 1.0, 0.0, 1.0, 1.0, 0.0, 14.0, 1308.0, 1.0, 2.0, 14.0, 50.0, 1.0, 1.0], [15.356978446245325, 4.643021553754673], [0.7678489223122662, 0.23215107768773366], 0.0, 'No Risk'], ['0_to_200', 4, 'no_credits', 'car_used', 250, 'less_100', 'less_1', 2, 'female', 'none', 3, 'real_estate', 19, 'none', 'own', 1, 'skilled', 1, 'none', 'yes', 2.0, 4.0, 3.0, 0.0, 0.0, 0.0, 0.0, 0.0, 2.0, 0.0, 2.0, 1.0, 0.0, [2.0, 4.0, 2.0, 0.0, 3.0, 1.0, 0.0, 2.0, 0.0, 0.0, 0.0, 0.0, 0.0, 4.0, 250.0, 2.0, 3.0, 4.0, 19.0, 1.0, 1.0], [19.17339357387761, 0.8266064261223867], [0.9586696786938808, 0.04133032130611934], 0.0, 'No Risk'], ['less_0', 4, 'all_credits_paid_back', 'car_new', 250, 'less_100', 'unemployed', 1, 'male', 'none', 1, 'real_estate', 19, 'none', 'rent', 1, 'management_self-employed', 1, 'none', 'yes', 1.0, 3.0, 4.0, 0.0, 0.0, 1.0, 0.0, 2.0, 0.0, 0.0, 2.0, 0.0, 0.0, [1.0, 3.0, 0.0, 0.0, 4.0, 0.0, 0.0, 2.0, 0.0, 1.0, 2.0, 0.0, 0.0, 4.0, 250.0, 1.0, 1.0, 4.0, 19.0, 1.0, 1.0], [19.6594723894478, 0.3405276105521964], [0.9829736194723901, 0.01702638052760982], 0.0, 'No Risk'], ['0_to_200', 23, 'prior_payments_delayed', 'car_used', 3170, '100_to_500', 'less_1', 3, 'male', 'none', 2, 'car_other', 26, 'none', 'own', 1, 'skilled', 1, 'yes', 'yes', 2.0, 0.0, 3.0, 1.0, 0.0, 0.0, 0.0, 0.0, 2.0, 0.0, 1.0, 0.0, 1.0, [2.0, 0.0, 2.0, 1.0, 3.0, 0.0, 0.0, 1.0, 0.0, 0.0, 0.0, 1.0, 0.0, 23.0, 3170.0, 3.0, 2.0, 23.0, 26.0, 1.0, 1.0], [17.412557280459648, 2.5874427195403538], [0.8706278640229824, 0.1293721359770177], 0.0, 'No Risk'], ['greater_200', 29, 'outstanding_credit', 'furniture', 6779, 'greater_1000', 'greater_7', 4, 'male', 'co-applicant', 4, 'car_other', 63, 'none', 'own', 3, 'skilled', 1, 'yes', 'yes', 3.0, 2.0, 2.0, 3.0, 0.0, 0.0, 0.0, 0.0, 1.0, 1.0, 1.0, 0.0, 1.0, [3.0, 2.0, 1.0, 3.0, 2.0, 0.0, 1.0, 1.0, 0.0, 0.0, 0.0, 1.0, 0.0, 29.0, 6779.0, 4.0, 4.0, 29.0, 63.0, 3.0, 1.0], [7.185301200387679, 12.814698799612321], [0.35926506001938396, 0.640734939980616], 1.0, 'Risk'], ['no_checking', 24, 'outstanding_credit', 'education', 5506, 'unknown', 'greater_7', 5, 'male', 'none', 4, 'unknown', 52, 'stores', 'own', 3, 'unskilled', 2, 'yes', 'yes', 0.0, 2.0, 2.0, 4.0, 0.0, 0.0, 1.0, 1.0, 7.0, 0.0, 3.0, 0.0, 1.0, [0.0, 2.0, 7.0, 4.0, 2.0, 0.0, 0.0, 3.0, 1.0, 0.0, 1.0, 1.0, 0.0, 24.0, 5506.0, 5.0, 4.0, 24.0, 52.0, 3.0, 2.0], [7.437514361070912, 12.562485638929084], [0.3718757180535457, 0.6281242819464543], 1.0, 'Risk'], ['no_checking', 31, 'prior_payments_delayed', 'car_used', 7780, '100_to_500', 'greater_7', 5, 'male', 'co-applicant', 3, 'unknown', 35, 'none', 'free', 2, 'skilled', 1, 'yes', 'yes', 0.0, 0.0, 2.0, 1.0, 0.0, 2.0, 0.0, 0.0, 2.0, 1.0, 3.0, 0.0, 1.0, [0.0, 0.0, 2.0, 1.0, 2.0, 0.0, 1.0, 3.0, 0.0, 2.0, 0.0, 1.0, 0.0, 31.0, 7780.0, 5.0, 3.0, 31.0, 35.0, 2.0, 1.0], [4.022208452357763, 15.977791547642239], [0.20111042261788814, 0.798889577382112], 1.0, 'Risk'], ['no_checking', 25, 'outstanding_credit', 'vacation', 5464, '500_to_1000', 'greater_7', 3, 'male', 'none', 4, 'car_other', 56, 'none', 'free', 2, 'skilled', 1, 'yes', 'no', 0.0, 2.0, 2.0, 2.0, 1.0, 2.0, 0.0, 0.0, 6.0, 0.0, 1.0, 0.0, 1.0, [0.0, 2.0, 6.0, 2.0, 2.0, 0.0, 0.0, 1.0, 0.0, 2.0, 0.0, 1.0, 1.0, 25.0, 5464.0, 3.0, 4.0, 25.0, 56.0, 2.0, 1.0], [5.562549433320784, 14.437450566679217], [0.27812747166603924, 0.7218725283339609], 1.0, 'Risk'], ['less_0', 14, 'credits_paid_to_date', 'car_new', 1691, 'less_100', '1_to_4', 2, 'male', 'none', 1, 'car_other', 34, 'stores', 'own', 1, 'unskilled', 1, 'none', 'yes', 1.0, 1.0, 0.0, 0.0, 0.0, 0.0, 1.0, 1.0, 0.0, 0.0, 1.0, 0.0, 0.0, [1.0, 1.0, 0.0, 0.0, 0.0, 0.0, 0.0, 1.0, 1.0, 0.0, 1.0, 0.0, 0.0, 14.0, 1691.0, 2.0, 1.0, 14.0, 34.0, 1.0, 1.0], [16.478086749524493, 3.5219132504755035], [0.8239043374762248, 0.1760956625237752], 0.0, 'No Risk'], ['no_checking', 27, 'prior_payments_delayed', 'radio_tv', 6782, '100_to_500', '4_to_7', 4, 'male', 'none', 3, 'car_other', 45, 'none', 'free', 2, 'skilled', 1, 'none', 'yes', 0.0, 0.0, 1.0, 1.0, 0.0, 2.0, 0.0, 0.0, 3.0, 0.0, 1.0, 0.0, 0.0, [0.0, 0.0, 3.0, 1.0, 1.0, 0.0, 0.0, 1.0, 0.0, 2.0, 0.0, 0.0, 0.0, 27.0, 6782.0, 4.0, 3.0, 27.0, 45.0, 2.0, 1.0], [8.989362076257045, 11.010637923742953], [0.44946810381285224, 0.5505318961871477], 1.0, 'Risk'], ['no_checking', 33, 'prior_payments_delayed', 'repairs', 7777, '100_to_500', 'greater_7', 5, 'male', 'none', 5, 'car_other', 48, 'none', 'free', 2, 'skilled', 1, 'yes', 'yes', 0.0, 0.0, 2.0, 1.0, 0.0, 2.0, 0.0, 0.0, 5.0, 0.0, 1.0, 0.0, 1.0, [0.0, 0.0, 5.0, 1.0, 2.0, 0.0, 0.0, 1.0, 0.0, 2.0, 0.0, 1.0, 0.0, 33.0, 7777.0, 5.0, 5.0, 33.0, 48.0, 2.0, 1.0], [5.489946315130842, 14.510053684869158], [0.2744973157565421, 0.7255026842434579], 1.0, 'Risk'], ['0_to_200', 24, 'credits_paid_to_date', 'vacation', 296, '100_to_500', '1_to_4', 2, 'male', 'none', 3, 'savings_insurance', 35, 'none', 'own', 1, 'skilled', 1, 'none', 'yes', 2.0, 1.0, 0.0, 1.0, 0.0, 0.0, 0.0, 0.0, 6.0, 0.0, 0.0, 0.0, 0.0, [21, [0, 1, 2, 3, 13, 14, 15, 16, 17, 18, 19, 20], [2.0, 1.0, 6.0, 1.0, 24.0, 296.0, 2.0, 3.0, 24.0, 35.0, 1.0, 1.0]], [14.567449152095834, 5.432550847904165], [0.7283724576047917, 0.27162754239520825], 0.0, 'No Risk'], ['0_to_200', 16, 'credits_paid_to_date', 'car_new', 1909, 'less_100', 'less_1', 2, 'male', 'none', 2, 'car_other', 32, 'none', 'own', 2, 'skilled', 1, 'none', 'yes', 2.0, 1.0, 3.0, 0.0, 0.0, 0.0, 0.0, 0.0, 0.0, 0.0, 1.0, 0.0, 0.0, [21, [0, 1, 4, 7, 13, 14, 15, 16, 17, 18, 19, 20], [2.0, 1.0, 3.0, 1.0, 16.0, 1909.0, 2.0, 2.0, 16.0, 32.0, 2.0, 1.0]], [15.747486219000848, 4.252513780999152], [0.7873743109500424, 0.2126256890499576], 0.0, 'No Risk'], ['0_to_200', 4, 'all_credits_paid_back', 'car_new', 250, 'less_100', '1_to_4', 3, 'female', 'none', 2, 'real_estate', 27, 'none', 'rent', 1, 'skilled', 1, 'none', 'yes', 2.0, 3.0, 0.0, 0.0, 0.0, 1.0, 0.0, 0.0, 0.0, 0.0, 2.0, 1.0, 0.0, [2.0, 3.0, 0.0, 0.0, 0.0, 1.0, 0.0, 2.0, 0.0, 1.0, 0.0, 0.0, 0.0, 4.0, 250.0, 3.0, 2.0, 4.0, 27.0, 1.0, 1.0], [19.301137652404222, 0.6988623475957749], [0.9650568826202113, 0.03494311737978875], 0.0, 'No Risk'], ['no_checking', 28, 'prior_payments_delayed', 'appliances', 6665, 'unknown', '4_to_7', 3, 'male', 'none', 5, 'car_other', 44, 'none', 'own', 2, 'management_self-employed', 1, 'yes', 'yes', 0.0, 0.0, 1.0, 4.0, 0.0, 0.0, 0.0, 2.0, 4.0, 0.0, 1.0, 0.0, 1.0, [0.0, 0.0, 4.0, 4.0, 1.0, 0.0, 0.0, 1.0, 0.0, 0.0, 2.0, 1.0, 0.0, 28.0, 6665.0, 3.0, 5.0, 28.0, 44.0, 2.0, 1.0], [9.270613754836605, 10.729386245163395], [0.46353068774183026, 0.5364693122581697], 1.0, 'Risk'], ['0_to_200', 4, 'all_credits_paid_back', 'radio_tv', 2243, 'less_100', '1_to_4', 3, 'female', 'none', 2, 'savings_insurance', 27, 'none', 'own', 1, 'skilled', 1, 'none', 'yes', 2.0, 3.0, 0.0, 0.0, 0.0, 0.0, 0.0, 0.0, 3.0, 0.0, 0.0, 1.0, 0.0, [21, [0, 1, 2, 5, 13, 14, 15, 16, 17, 18, 19, 20], [2.0, 3.0, 3.0, 1.0, 4.0, 2243.0, 3.0, 2.0, 4.0, 27.0, 1.0, 1.0]], [18.732946760827314, 1.2670532391726832], [0.9366473380413659, 0.06335266195863418], 0.0, 'No Risk'], ['0_to_200', 19, 'credits_paid_to_date', 'appliances', 1659, '100_to_500', 'unemployed', 2, 'female', 'none', 3, 'savings_insurance', 27, 'none', 'own', 1, 'skilled', 1, 'none', 'yes', 2.0, 1.0, 4.0, 1.0, 0.0, 0.0, 0.0, 0.0, 4.0, 0.0, 0.0, 1.0, 0.0, [2.0, 1.0, 4.0, 1.0, 4.0, 1.0, 0.0, 0.0, 0.0, 0.0, 0.0, 0.0, 0.0, 19.0, 1659.0, 2.0, 3.0, 19.0, 27.0, 1.0, 1.0], [18.2519355866093, 1.7480644133907004], [0.912596779330465, 0.08740322066953501], 0.0, 'No Risk'], ['0_to_200', 19, 'credits_paid_to_date', 'radio_tv', 4727, 'less_100', '1_to_4', 3, 'male', 'none', 4, 'car_other', 43, 'none', 'rent', 1, 'management_self-employed', 1, 'none', 'yes', 2.0, 1.0, 0.0, 0.0, 0.0, 1.0, 0.0, 2.0, 3.0, 0.0, 1.0, 0.0, 0.0, [2.0, 1.0, 3.0, 0.0, 0.0, 0.0, 0.0, 1.0, 0.0, 1.0, 2.0, 0.0, 0.0, 19.0, 4727.0, 3.0, 4.0, 19.0, 43.0, 1.0, 1.0], [13.170128654206355, 6.829871345793644], [0.6585064327103177, 0.3414935672896822], 0.0, 'No Risk'], ['greater_200', 20, 'outstanding_credit', 'business', 4594, '500_to_1000', '4_to_7', 4, 'male', 'none', 3, 'savings_insurance', 36, 'none', 'own', 1, 'management_self-employed', 2, 'yes', 'yes', 3.0, 2.0, 1.0, 2.0, 0.0, 0.0, 0.0, 2.0, 9.0, 0.0, 0.0, 0.0, 1.0, [3.0, 2.0, 9.0, 2.0, 1.0, 0.0, 0.0, 0.0, 0.0, 0.0, 2.0, 1.0, 0.0, 20.0, 4594.0, 4.0, 3.0, 20.0, 36.0, 1.0, 2.0], [13.448912705350311, 6.551087294649685], [0.6724456352675157, 0.3275543647324843], 0.0, 'No Risk'], ['no_checking', 12, 'prior_payments_delayed', 'furniture', 5402, '100_to_500', 'less_1', 2, 'male', 'none', 3, 'savings_insurance', 41, 'stores', 'own', 1, 'unskilled', 2, 'yes', 'yes', 0.0, 0.0, 3.0, 1.0, 0.0, 0.0, 1.0, 1.0, 1.0, 0.0, 0.0, 0.0, 1.0, [0.0, 0.0, 1.0, 1.0, 3.0, 0.0, 0.0, 0.0, 1.0, 0.0, 1.0, 1.0, 0.0, 12.0, 5402.0, 2.0, 3.0, 12.0, 41.0, 1.0, 2.0], [15.769910133804874, 4.230089866195124], [0.7884955066902437, 0.2115044933097562], 0.0, 'No Risk'], ['less_0', 6, 'no_credits', 'car_used', 250, 'less_100', 'unemployed', 1, 'male', 'none', 1, 'real_estate', 20, 'stores', 'own', 1, 'skilled', 1, 'none', 'yes', 1.0, 4.0, 4.0, 0.0, 0.0, 0.0, 1.0, 0.0, 2.0, 0.0, 2.0, 0.0, 0.0, [1.0, 4.0, 2.0, 0.0, 4.0, 0.0, 0.0, 2.0, 1.0, 0.0, 0.0, 0.0, 0.0, 6.0, 250.0, 1.0, 1.0, 6.0, 20.0, 1.0, 1.0], [19.513126638395235, 0.4868733616047649], [0.9756563319197618, 0.024343668080238245], 0.0, 'No Risk'], ['0_to_200', 16, 'prior_payments_delayed', 'radio_tv', 2596, '100_to_500', 'greater_7', 3, 'female', 'none', 1, 'savings_insurance', 37, 'stores', 'free', 1, 'skilled', 1, 'none', 'yes', 2.0, 0.0, 2.0, 1.0, 0.0, 2.0, 1.0, 0.0, 3.0, 0.0, 0.0, 1.0, 0.0, [2.0, 0.0, 3.0, 1.0, 2.0, 1.0, 0.0, 0.0, 1.0, 2.0, 0.0, 0.0, 0.0, 16.0, 2596.0, 3.0, 1.0, 16.0, 37.0, 1.0, 1.0], [16.025006791153718, 3.9749932088462803], [0.8012503395576859, 0.198749660442314], 0.0, 'No Risk'], ['0_to_200', 20, 'credits_paid_to_date', 'car_new', 880, 'less_100', 'less_1', 3, 'female', 'none', 3, 'savings_insurance', 21, 'none', 'rent', 1, 'skilled', 1, 'none', 'yes', 2.0, 1.0, 3.0, 0.0, 0.0, 1.0, 0.0, 0.0, 0.0, 0.0, 0.0, 1.0, 0.0, [2.0, 1.0, 0.0, 0.0, 3.0, 1.0, 0.0, 0.0, 0.0, 1.0, 0.0, 0.0, 0.0, 20.0, 880.0, 3.0, 3.0, 20.0, 21.0, 1.0, 1.0], [18.253490590675952, 1.7465094093240474], [0.9126745295337976, 0.08732547046620237], 0.0, 'No Risk'], ['0_to_200', 4, 'all_credits_paid_back', 'car_new', 250, 'less_100', 'unemployed', 1, 'female', 'none', 3, 'real_estate', 19, 'none', 'rent', 1, 'management_self-employed', 1, 'none', 'yes', 2.0, 3.0, 4.0, 0.0, 0.0, 1.0, 0.0, 2.0, 0.0, 0.0, 2.0, 1.0, 0.0, [2.0, 3.0, 0.0, 0.0, 4.0, 1.0, 0.0, 2.0, 0.0, 1.0, 2.0, 0.0, 0.0, 4.0, 250.0, 1.0, 3.0, 4.0, 19.0, 1.0, 1.0], [19.10237599108667, 0.897624008913328], [0.9551187995543335, 0.0448812004456664], 0.0, 'No Risk'], ['0_to_200', 17, 'credits_paid_to_date', 'car_used', 2368, 'less_100', '1_to_4', 3, 'female', 'none', 2, 'savings_insurance', 30, 'none', 'own', 1, 'skilled', 1, 'none', 'yes', 2.0, 1.0, 0.0, 0.0, 0.0, 0.0, 0.0, 0.0, 2.0, 0.0, 0.0, 1.0, 0.0, [21, [0, 1, 2, 5, 13, 14, 15, 16, 17, 18, 19, 20], [2.0, 1.0, 2.0, 1.0, 17.0, 2368.0, 3.0, 2.0, 17.0, 30.0, 1.0, 1.0]], [17.669366918485448, 2.330633081514549], [0.8834683459242726, 0.11653165407572748], 0.0, 'No Risk'], ['less_0', 4, 'credits_paid_to_date', 'car_new', 1805, 'less_100', '4_to_7', 3, 'male', 'none', 3, 'car_other', 23, 'none', 'own', 1, 'skilled', 1, 'none', 'yes', 1.0, 1.0, 1.0, 0.0, 0.0, 0.0, 0.0, 0.0, 0.0, 0.0, 1.0, 0.0, 0.0, [21, [0, 1, 4, 7, 13, 14, 15, 16, 17, 18, 19, 20], [1.0, 1.0, 1.0, 1.0, 4.0, 1805.0, 3.0, 3.0, 4.0, 23.0, 1.0, 1.0]], [17.019753093637707, 2.9802469063622947], [0.8509876546818853, 0.14901234531811475], 0.0, 'No Risk'], ['no_checking', 42, 'outstanding_credit', 'other', 6703, 'greater_1000', 'greater_7', 4, 'male', 'co-applicant', 3, 'unknown', 51, 'none', 'free', 2, 'skilled', 2, 'yes', 'yes', 0.0, 2.0, 2.0, 3.0, 0.0, 2.0, 0.0, 0.0, 10.0, 1.0, 3.0, 0.0, 1.0, [0.0, 2.0, 10.0, 3.0, 2.0, 0.0, 1.0, 3.0, 0.0, 2.0, 0.0, 1.0, 0.0, 42.0, 6703.0, 4.0, 3.0, 42.0, 51.0, 2.0, 2.0], [1.5447906515747198, 18.45520934842528], [0.07723953257873599, 0.922760467421264], 1.0, 'Risk'], ['no_checking', 33, 'prior_payments_delayed', 'vacation', 6290, '100_to_500', '4_to_7', 4, 'male', 'none', 4, 'car_other', 41, 'none', 'own', 2, 'skilled', 1, 'none', 'yes', 0.0, 0.0, 1.0, 1.0, 0.0, 0.0, 0.0, 0.0, 6.0, 0.0, 1.0, 0.0, 0.0, [21, [2, 3, 4, 7, 13, 14, 15, 16, 17, 18, 19, 20], [6.0, 1.0, 1.0, 1.0, 33.0, 6290.0, 4.0, 4.0, 33.0, 41.0, 2.0, 1.0]], [10.03752904141561, 9.962470958584388], [0.5018764520707805, 0.4981235479292194], 0.0, 'No Risk'], ['greater_200', 23, 'credits_paid_to_date', 'furniture', 7405, '500_to_1000', '1_to_4', 3, 'male', 'none', 3, 'unknown', 38, 'none', 'free', 2, 'skilled', 1, 'yes', 'yes', 3.0, 1.0, 0.0, 2.0, 0.0, 2.0, 0.0, 0.0, 1.0, 0.0, 3.0, 0.0, 1.0, [3.0, 1.0, 1.0, 2.0, 0.0, 0.0, 0.0, 3.0, 0.0, 2.0, 0.0, 1.0, 0.0, 23.0, 7405.0, 3.0, 3.0, 23.0, 38.0, 2.0, 1.0], [12.175915630302475, 7.824084369697524], [0.6087957815151237, 0.3912042184848762], 0.0, 'No Risk'], ['no_checking', 37, 'prior_payments_delayed', 'vacation', 7520, 'greater_1000', 'greater_7', 4, 'male', 'co-applicant', 3, 'unknown', 48, 'none', 'free', 2, 'skilled', 2, 'yes', 'yes', 0.0, 0.0, 2.0, 3.0, 0.0, 2.0, 0.0, 0.0, 6.0, 1.0, 3.0, 0.0, 1.0, [0.0, 0.0, 6.0, 3.0, 2.0, 0.0, 1.0, 3.0, 0.0, 2.0, 0.0, 1.0, 0.0, 37.0, 7520.0, 4.0, 3.0, 37.0, 48.0, 2.0, 2.0], [2.2355743831997557, 17.764425616800246], [0.11177871915998779, 0.8882212808400123], 1.0, 'Risk'], ['no_checking', 26, 'prior_payments_delayed', 'appliances', 5024, 'unknown', 'greater_7', 3, 'male', 'none', 4, 'unknown', 45, 'none', 'own', 2, 'skilled', 2, 'yes', 'yes', 0.0, 0.0, 2.0, 4.0, 0.0, 0.0, 0.0, 0.0, 4.0, 0.0, 3.0, 0.0, 1.0, [0.0, 0.0, 4.0, 4.0, 2.0, 0.0, 0.0, 3.0, 0.0, 0.0, 0.0, 1.0, 0.0, 26.0, 5024.0, 3.0, 4.0, 26.0, 45.0, 2.0, 2.0], [6.022325939844252, 13.977674060155746], [0.30111629699221265, 0.6988837030077875], 1.0, 'Risk'], ['0_to_200', 22, 'prior_payments_delayed', 'radio_tv', 3684, 'less_100', '1_to_4', 3, 'female', 'none', 2, 'car_other', 32, 'none', 'rent', 1, 'skilled', 1, 'none', 'yes', 2.0, 0.0, 0.0, 0.0, 0.0, 1.0, 0.0, 0.0, 3.0, 0.0, 1.0, 1.0, 0.0, [2.0, 0.0, 3.0, 0.0, 0.0, 1.0, 0.0, 1.0, 0.0, 1.0, 0.0, 0.0, 0.0, 22.0, 3684.0, 3.0, 2.0, 22.0, 32.0, 1.0, 1.0], [15.526260208752841, 4.4737397912471595], [0.7763130104376421, 0.22368698956235797], 0.0, 'No Risk'], ['0_to_200', 4, 'all_credits_paid_back', 'car_used', 1540, '100_to_500', 'less_1', 2, 'male', 'none', 1, 'real_estate', 19, 'none', 'rent', 1, 'management_self-employed', 1, 'none', 'yes', 2.0, 3.0, 3.0, 1.0, 0.0, 1.0, 0.0, 2.0, 2.0, 0.0, 2.0, 0.0, 0.0, [2.0, 3.0, 2.0, 1.0, 3.0, 0.0, 0.0, 2.0, 0.0, 1.0, 2.0, 0.0, 0.0, 4.0, 1540.0, 2.0, 1.0, 4.0, 19.0, 1.0, 1.0], [19.510299007405145, 0.489700992594852], [0.9755149503702574, 0.024485049629742604], 0.0, 'No Risk'], ['less_0', 18, 'prior_payments_delayed', 'car_new', 2981, 'less_100', '4_to_7', 3, 'male', 'none', 3, 'car_other', 32, 'none', 'rent', 1, 'skilled', 1, 'none', 'yes', 1.0, 0.0, 1.0, 0.0, 0.0, 1.0, 0.0, 0.0, 0.0, 0.0, 1.0, 0.0, 0.0, [21, [0, 4, 7, 9, 13, 14, 15, 16, 17, 18, 19, 20], [1.0, 1.0, 1.0, 1.0, 18.0, 2981.0, 3.0, 3.0, 18.0, 32.0, 1.0, 1.0]], [14.68765100204949, 5.312348997950508], [0.7343825501024746, 0.2656174498975254], 0.0, 'No Risk'], ['no_checking', 34, 'all_credits_paid_back', 'radio_tv', 4734, 'greater_1000', '1_to_4', 2, 'male', 'none', 3, 'car_other', 37, 'none', 'own', 2, 'skilled', 1, 'none', 'yes', 0.0, 3.0, 0.0, 3.0, 0.0, 0.0, 0.0, 0.0, 3.0, 0.0, 1.0, 0.0, 0.0, [21, [1, 2, 3, 7, 13, 14, 15, 16, 17, 18, 19, 20], [3.0, 3.0, 3.0, 1.0, 34.0, 4734.0, 2.0, 3.0, 34.0, 37.0, 2.0, 1.0]], [11.877161437242819, 8.122838562757185], [0.5938580718621408, 0.40614192813785915], 0.0, 'No Risk'], ['no_checking', 59, 'outstanding_credit', 'appliances', 8986, 'greater_1000', 'greater_7', 5, 'male', 'co-applicant', 3, 'unknown', 44, 'none', 'free', 2, 'skilled', 1, 'yes', 'yes', 0.0, 2.0, 2.0, 3.0, 0.0, 2.0, 0.0, 0.0, 4.0, 1.0, 3.0, 0.0, 1.0, [0.0, 2.0, 4.0, 3.0, 2.0, 0.0, 1.0, 3.0, 0.0, 2.0, 0.0, 1.0, 0.0, 59.0, 8986.0, 5.0, 3.0, 59.0, 44.0, 2.0, 1.0], [3.1960445627484666, 16.803955437251535], [0.15980222813742334, 0.8401977718625767], 1.0, 'Risk'], ['no_checking', 48, 'outstanding_credit', 'radio_tv', 2978, 'greater_1000', 'greater_7', 4, 'male', 'co-applicant', 2, 'car_other', 55, 'stores', 'own', 2, 'skilled', 1, 'none', 'yes', 0.0, 2.0, 2.0, 3.0, 0.0, 0.0, 1.0, 0.0, 3.0, 1.0, 1.0, 0.0, 0.0, [0.0, 2.0, 3.0, 3.0, 2.0, 0.0, 1.0, 1.0, 1.0, 0.0, 0.0, 0.0, 0.0, 48.0, 2978.0, 4.0, 2.0, 48.0, 55.0, 2.0, 1.0], [6.633635905273163, 13.366364094726833], [0.3316817952636582, 0.6683182047363417], 1.0, 'Risk'], ['less_0', 12, 'all_credits_paid_back', 'furniture', 540, 'less_100', 'less_1', 2, 'female', 'none', 3, 'real_estate', 33, 'none', 'own', 1, 'skilled', 1, 'none', 'yes', 1.0, 3.0, 3.0, 0.0, 0.0, 0.0, 0.0, 0.0, 1.0, 0.0, 2.0, 1.0, 0.0, [1.0, 3.0, 1.0, 0.0, 3.0, 1.0, 0.0, 2.0, 0.0, 0.0, 0.0, 0.0, 0.0, 12.0, 540.0, 2.0, 3.0, 12.0, 33.0, 1.0, 1.0], [17.973070331397835, 2.026929668602164], [0.8986535165698918, 0.10134648343010819], 0.0, 'No Risk'], ['no_checking', 31, 'prior_payments_delayed', 'appliances', 4490, 'unknown', 'greater_7', 4, 'male', 'none', 3, 'savings_insurance', 43, 'none', 'own', 2, 'skilled', 1, 'yes', 'yes', 0.0, 0.0, 2.0, 4.0, 0.0, 0.0, 0.0, 0.0, 4.0, 0.0, 0.0, 0.0, 1.0, [21, [2, 3, 4, 11, 13, 14, 15, 16, 17, 18, 19, 20], [4.0, 4.0, 2.0, 1.0, 31.0, 4490.0, 4.0, 3.0, 31.0, 43.0, 2.0, 1.0]], [9.73169193509879, 10.268308064901209], [0.4865845967549395, 0.5134154032450604], 1.0, 'Risk'], ['no_checking', 53, 'outstanding_credit', 'vacation', 7407, 'unknown', 'greater_7', 5, 'male', 'co-applicant', 4, 'car_other', 53, 'none', 'free', 2, 'skilled', 2, 'yes', 'yes', 0.0, 2.0, 2.0, 4.0, 0.0, 2.0, 0.0, 0.0, 6.0, 1.0, 1.0, 0.0, 1.0, [0.0, 2.0, 6.0, 4.0, 2.0, 0.0, 1.0, 1.0, 0.0, 2.0, 0.0, 1.0, 0.0, 53.0, 7407.0, 5.0, 4.0, 53.0, 53.0, 2.0, 2.0], [2.146036046620109, 17.85396395337989], [0.10730180233100546, 0.8926981976689945], 1.0, 'Risk'], ['no_checking', 19, 'all_credits_paid_back', 'appliances', 2685, '500_to_1000', 'less_1', 2, 'female', 'co-applicant', 4, 'savings_insurance', 46, 'none', 'own', 2, 'skilled', 1, 'none', 'yes', 0.0, 3.0, 3.0, 2.0, 0.0, 0.0, 0.0, 0.0, 4.0, 1.0, 0.0, 1.0, 0.0, [0.0, 3.0, 4.0, 2.0, 3.0, 1.0, 1.0, 0.0, 0.0, 0.0, 0.0, 0.0, 0.0, 19.0, 2685.0, 2.0, 4.0, 19.0, 46.0, 2.0, 1.0], [12.817179123623273, 7.182820876376727], [0.6408589561811636, 0.3591410438188364], 0.0, 'No Risk'], ['greater_200', 20, 'credits_paid_to_date', 'retraining', 3518, 'less_100', 'less_1', 2, 'male', 'none', 3, 'real_estate', 31, 'none', 'own', 1, 'management_self-employed', 1, 'yes', 'yes', 3.0, 1.0, 3.0, 0.0, 0.0, 0.0, 0.0, 2.0, 8.0, 0.0, 2.0, 0.0, 1.0, [3.0, 1.0, 8.0, 0.0, 3.0, 0.0, 0.0, 2.0, 0.0, 0.0, 2.0, 1.0, 0.0, 20.0, 3518.0, 2.0, 3.0, 20.0, 31.0, 1.0, 1.0], [16.913665322395964, 3.086334677604041], [0.845683266119798, 0.154316733880202], 0.0, 'No Risk'], ['no_checking', 26, 'outstanding_credit', 'radio_tv', 6184, '500_to_1000', '4_to_7', 4, 'male', 'none', 4, 'unknown', 51, 'none', 'own', 2, 'skilled', 2, 'yes', 'yes', 0.0, 2.0, 1.0, 2.0, 0.0, 0.0, 0.0, 0.0, 3.0, 0.0, 3.0, 0.0, 1.0, [0.0, 2.0, 3.0, 2.0, 1.0, 0.0, 0.0, 3.0, 0.0, 0.0, 0.0, 1.0, 0.0, 26.0, 6184.0, 4.0, 4.0, 26.0, 51.0, 2.0, 2.0], [5.195821845342187, 14.80417815465781], [0.2597910922671094, 0.7402089077328906], 1.0, 'Risk'], ['less_0', 18, 'credits_paid_to_date', 'car_new', 250, '500_to_1000', '4_to_7', 3, 'female', 'none', 1, 'real_estate', 34, 'bank', 'rent', 1, 'unskilled', 1, 'none', 'yes', 1.0, 1.0, 1.0, 2.0, 0.0, 1.0, 2.0, 1.0, 0.0, 0.0, 2.0, 1.0, 0.0, [1.0, 1.0, 0.0, 2.0, 1.0, 1.0, 0.0, 2.0, 2.0, 1.0, 1.0, 0.0, 0.0, 18.0, 250.0, 3.0, 1.0, 18.0, 34.0, 1.0, 1.0], [17.705312775544662, 2.2946872244553354], [0.8852656387772333, 0.11473436122276678], 0.0, 'No Risk'], ['less_0', 23, 'all_credits_paid_back', 'furniture', 2272, 'less_100', '1_to_4', 3, 'male', 'none', 3, 'savings_insurance', 29, 'none', 'own', 2, 'skilled', 1, 'none', 'yes', 1.0, 3.0, 0.0, 0.0, 0.0, 0.0, 0.0, 0.0, 1.0, 0.0, 0.0, 0.0, 0.0, [21, [0, 1, 2, 13, 14, 15, 16, 17, 18, 19, 20], [1.0, 3.0, 1.0, 23.0, 2272.0, 3.0, 3.0, 23.0, 29.0, 2.0, 1.0]], [15.721898001818229, 4.278101998181771], [0.7860949000909114, 0.21390509990908857], 0.0, 'No Risk'], ['less_0', 4, 'prior_payments_delayed', 'appliances', 250, 'less_100', 'less_1', 1, 'male', 'none', 1, 'real_estate', 31, 'none', 'rent', 1, 'skilled', 1, 'none', 'yes', 1.0, 0.0, 3.0, 0.0, 0.0, 1.0, 0.0, 0.0, 4.0, 0.0, 2.0, 0.0, 0.0, [1.0, 0.0, 4.0, 0.0, 3.0, 0.0, 0.0, 2.0, 0.0, 1.0, 0.0, 0.0, 0.0, 4.0, 250.0, 1.0, 1.0, 4.0, 31.0, 1.0, 1.0], [19.182683490311177, 0.8173165096888182], [0.959134174515559, 0.04086582548444092], 0.0, 'No Risk'], ['no_checking', 32, 'outstanding_credit', 'repairs', 10591, 'unknown', '4_to_7', 5, 'male', 'guarantor', 6, 'unknown', 58, 'none', 'free', 3, 'skilled', 1, 'yes', 'yes', 0.0, 2.0, 1.0, 4.0, 0.0, 2.0, 0.0, 0.0, 5.0, 2.0, 3.0, 0.0, 1.0, [0.0, 2.0, 5.0, 4.0, 1.0, 0.0, 2.0, 3.0, 0.0, 2.0, 0.0, 1.0, 0.0, 32.0, 10591.0, 5.0, 6.0, 32.0, 58.0, 3.0, 1.0], [3.8699061815149287, 16.13009381848507], [0.19349530907574647, 0.8065046909242536], 1.0, 'Risk'], ['0_to_200', 6, 'prior_payments_delayed', 'car_used', 1131, '500_to_1000', '1_to_4', 2, 'female', 'none', 3, 'savings_insurance', 21, 'stores', 'rent', 1, 'skilled', 1, 'none', 'yes', 2.0, 0.0, 0.0, 2.0, 0.0, 1.0, 1.0, 0.0, 2.0, 0.0, 0.0, 1.0, 0.0, [2.0, 0.0, 2.0, 2.0, 0.0, 1.0, 0.0, 0.0, 1.0, 1.0, 0.0, 0.0, 0.0, 6.0, 1131.0, 2.0, 3.0, 6.0, 21.0, 1.0, 1.0], [17.442656848320215, 2.557343151679781], [0.872132842416011, 0.1278671575839891], 0.0, 'No Risk'], ['no_checking', 25, 'prior_payments_delayed', 'car_used', 3879, '100_to_500', '1_to_4', 3, 'female', 'none', 4, 'savings_insurance', 43, 'none', 'own', 2, 'skilled', 1, 'none', 'yes', 0.0, 0.0, 0.0, 1.0, 0.0, 0.0, 0.0, 0.0, 2.0, 0.0, 0.0, 1.0, 0.0, [21, [2, 3, 5, 13, 14, 15, 16, 17, 18, 19, 20], [2.0, 1.0, 1.0, 25.0, 3879.0, 3.0, 4.0, 25.0, 43.0, 2.0, 1.0]], [12.225876757441021, 7.774123242558976], [0.6112938378720512, 0.38870616212794884], 0.0, 'No Risk'], ['no_checking', 38, 'prior_payments_delayed', 'radio_tv', 4582, '500_to_1000', '1_to_4', 4, 'male', 'none', 5, 'car_other', 38, 'none', 'own', 1, 'management_self-employed', 1, 'yes', 'yes', 0.0, 0.0, 0.0, 2.0, 0.0, 0.0, 0.0, 2.0, 3.0, 0.0, 1.0, 0.0, 1.0, [0.0, 0.0, 3.0, 2.0, 0.0, 0.0, 0.0, 1.0, 0.0, 0.0, 2.0, 1.0, 0.0, 38.0, 4582.0, 4.0, 5.0, 38.0, 38.0, 1.0, 1.0], [12.396486321812427, 7.603513678187572], [0.6198243160906214, 0.3801756839093786], 0.0, 'No Risk'], ['less_0', 9, 'all_credits_paid_back', 'education', 250, '100_to_500', '4_to_7', 2, 'female', 'none', 2, 'real_estate', 19, 'none', 'rent', 1, 'skilled', 1, 'none', 'yes', 1.0, 3.0, 1.0, 1.0, 0.0, 1.0, 0.0, 0.0, 7.0, 0.0, 2.0, 1.0, 0.0, [1.0, 3.0, 7.0, 1.0, 1.0, 1.0, 0.0, 2.0, 0.0, 1.0, 0.0, 0.0, 0.0, 9.0, 250.0, 2.0, 2.0, 9.0, 19.0, 1.0, 1.0], [19.17663984916873, 0.8233601508312701], [0.9588319924584365, 0.04116800754156351], 0.0, 'No Risk'], ['0_to_200', 6, 'prior_payments_delayed', 'car_used', 5139, 'less_100', '1_to_4', 3, 'female', 'co-applicant', 3, 'unknown', 38, 'none', 'own', 1, 'skilled', 1, 'none', 'yes', 2.0, 0.0, 0.0, 0.0, 0.0, 0.0, 0.0, 0.0, 2.0, 1.0, 3.0, 1.0, 0.0, [2.0, 0.0, 2.0, 0.0, 0.0, 1.0, 1.0, 3.0, 0.0, 0.0, 0.0, 0.0, 0.0, 6.0, 5139.0, 3.0, 3.0, 6.0, 38.0, 1.0, 1.0], [13.780087608585083, 6.219912391414916], [0.6890043804292542, 0.31099561957074584], 0.0, 'No Risk'], ['greater_200', 29, 'credits_paid_to_date', 'education', 4714, 'less_100', 'less_1', 3, 'female', 'none', 2, 'car_other', 30, 'none', 'rent', 1, 'skilled', 1, 'none', 'yes', 3.0, 1.0, 3.0, 0.0, 0.0, 1.0, 0.0, 0.0, 7.0, 0.0, 1.0, 1.0, 0.0, [3.0, 1.0, 7.0, 0.0, 3.0, 1.0, 0.0, 1.0, 0.0, 1.0, 0.0, 0.0, 0.0, 29.0, 4714.0, 3.0, 2.0, 29.0, 30.0, 1.0, 1.0], [15.630782350374773, 4.369217649625226], [0.7815391175187386, 0.21846088248126133], 0.0, 'No Risk'], ['0_to_200', 26, 'all_credits_paid_back', 'furniture', 4032, 'less_100', '4_to_7', 3, 'male', 'none', 3, 'real_estate', 38, 'none', 'own', 1, 'skilled', 1, 'none', 'yes', 2.0, 3.0, 1.0, 0.0, 0.0, 0.0, 0.0, 0.0, 1.0, 0.0, 2.0, 0.0, 0.0, [2.0, 3.0, 1.0, 0.0, 1.0, 0.0, 0.0, 2.0, 0.0, 0.0, 0.0, 0.0, 0.0, 26.0, 4032.0, 3.0, 3.0, 26.0, 38.0, 1.0, 1.0], [15.522588139375193, 4.477411860624811], [0.7761294069687595, 0.2238705930312405], 0.0, 'No Risk'], ['0_to_200', 24, 'outstanding_credit', 'car_used', 674, '100_to_500', '1_to_4', 2, 'male', 'none', 3, 'savings_insurance', 26, 'stores', 'own', 1, 'skilled', 1, 'yes', 'yes', 2.0, 2.0, 0.0, 1.0, 0.0, 0.0, 1.0, 0.0, 2.0, 0.0, 0.0, 0.0, 1.0, [2.0, 2.0, 2.0, 1.0, 0.0, 0.0, 0.0, 0.0, 1.0, 0.0, 0.0, 1.0, 0.0, 24.0, 674.0, 2.0, 3.0, 24.0, 26.0, 1.0, 1.0], [15.796092221644153, 4.2039077783558465], [0.7898046110822077, 0.21019538891779233], 0.0, 'No Risk'], ['less_0', 18, 'prior_payments_delayed', 'radio_tv', 2112, 'less_100', 'less_1', 2, 'male', 'none', 3, 'car_other', 32, 'none', 'own', 1, 'skilled', 1, 'yes', 'yes', 1.0, 0.0, 3.0, 0.0, 0.0, 0.0, 0.0, 0.0, 3.0, 0.0, 1.0, 0.0, 1.0, [1.0, 0.0, 3.0, 0.0, 3.0, 0.0, 0.0, 1.0, 0.0, 0.0, 0.0, 1.0, 0.0, 18.0, 2112.0, 2.0, 3.0, 18.0, 32.0, 1.0, 1.0], [16.582623088563253, 3.4173769114367443], [0.8291311544281628, 0.17086884557183724], 0.0, 'No Risk'], ['0_to_200', 24, 'credits_paid_to_date', 'retraining', 3525, 'less_100', '4_to_7', 4, 'male', 'none', 2, 'real_estate', 32, 'none', 'own', 1, 'skilled', 1, 'none', 'yes', 2.0, 1.0, 1.0, 0.0, 0.0, 0.0, 0.0, 0.0, 8.0, 0.0, 2.0, 0.0, 0.0, [2.0, 1.0, 8.0, 0.0, 1.0, 0.0, 0.0, 2.0, 0.0, 0.0, 0.0, 0.0, 0.0, 24.0, 3525.0, 4.0, 2.0, 24.0, 32.0, 1.0, 1.0], [17.1944357640504, 2.805564235949601], [0.85972178820252, 0.14027821179748007], 0.0, 'No Risk'], ['less_0', 11, 'all_credits_paid_back', 'car_new', 250, 'less_100', '1_to_4', 2, 'female', 'co-applicant', 2, 'real_estate', 28, 'stores', 'rent', 1, 'skilled', 1, 'none', 'yes', 1.0, 3.0, 0.0, 0.0, 0.0, 1.0, 1.0, 0.0, 0.0, 1.0, 2.0, 1.0, 0.0, [1.0, 3.0, 0.0, 0.0, 0.0, 1.0, 1.0, 2.0, 1.0, 1.0, 0.0, 0.0, 0.0, 11.0, 250.0, 2.0, 2.0, 11.0, 28.0, 1.0, 1.0], [19.307970491927712, 0.6920295080722856], [0.9653985245963858, 0.03460147540361429], 0.0, 'No Risk'], ['0_to_200', 7, 'prior_payments_delayed', 'car_used', 4456, '100_to_500', '4_to_7', 3, 'male', 'guarantor', 3, 'unknown', 36, 'none', 'own', 1, 'skilled', 1, 'yes', 'yes', 2.0, 0.0, 1.0, 1.0, 0.0, 0.0, 0.0, 0.0, 2.0, 2.0, 3.0, 0.0, 1.0, [2.0, 0.0, 2.0, 1.0, 1.0, 0.0, 2.0, 3.0, 0.0, 0.0, 0.0, 1.0, 0.0, 7.0, 4456.0, 3.0, 3.0, 7.0, 36.0, 1.0, 1.0], [12.938493288721528, 7.0615067112784695], [0.6469246644360765, 0.35307533556392356], 0.0, 'No Risk'], ['0_to_200', 4, 'all_credits_paid_back', 'car_used', 250, 'less_100', 'less_1', 2, 'female', 'none', 3, 'real_estate', 29, 'none', 'rent', 1, 'management_self-employed', 1, 'none', 'yes', 2.0, 3.0, 3.0, 0.0, 0.0, 1.0, 0.0, 2.0, 2.0, 0.0, 2.0, 1.0, 0.0, [2.0, 3.0, 2.0, 0.0, 3.0, 1.0, 0.0, 2.0, 0.0, 1.0, 2.0, 0.0, 0.0, 4.0, 250.0, 2.0, 3.0, 4.0, 29.0, 1.0, 1.0], [19.24015376886445, 0.7598462311355503], [0.9620076884432225, 0.037992311556777514], 0.0, 'No Risk'], ['no_checking', 28, 'prior_payments_delayed', 'appliances', 2916, '500_to_1000', '4_to_7', 4, 'male', 'none', 4, 'car_other', 24, 'none', 'rent', 1, 'skilled', 1, 'none', 'yes', 0.0, 0.0, 1.0, 2.0, 0.0, 1.0, 0.0, 0.0, 4.0, 0.0, 1.0, 0.0, 0.0, [0.0, 0.0, 4.0, 2.0, 1.0, 0.0, 0.0, 1.0, 0.0, 1.0, 0.0, 0.0, 0.0, 28.0, 2916.0, 4.0, 4.0, 28.0, 24.0, 1.0, 1.0], [11.761904115611514, 8.238095884388487], [0.5880952057805757, 0.4119047942194244], 0.0, 'No Risk'], ['greater_200', 24, 'credits_paid_to_date', 'furniture', 3463, 'less_100', 'less_1', 3, 'male', 'none', 2, 'car_other', 36, 'none', 'free', 1, 'skilled', 1, 'none', 'yes', 3.0, 1.0, 3.0, 0.0, 0.0, 2.0, 0.0, 0.0, 1.0, 0.0, 1.0, 0.0, 0.0, [3.0, 1.0, 1.0, 0.0, 3.0, 0.0, 0.0, 1.0, 0.0, 2.0, 0.0, 0.0, 0.0, 24.0, 3463.0, 3.0, 2.0, 24.0, 36.0, 1.0, 1.0], [15.529116046374138, 4.470883953625863], [0.7764558023187069, 0.22354419768129316], 0.0, 'No Risk'], ['no_checking', 30, 'outstanding_credit', 'other', 5612, '500_to_1000', '4_to_7', 4, 'male', 'none', 3, 'car_other', 43, 'bank', 'free', 2, 'unskilled', 2, 'yes', 'yes', 0.0, 2.0, 1.0, 2.0, 0.0, 2.0, 2.0, 1.0, 10.0, 0.0, 1.0, 0.0, 1.0, [0.0, 2.0, 10.0, 2.0, 1.0, 0.0, 0.0, 1.0, 2.0, 2.0, 1.0, 1.0, 0.0, 30.0, 5612.0, 4.0, 3.0, 30.0, 43.0, 2.0, 2.0], [9.868334145049287, 10.131665854950715], [0.49341670725246434, 0.5065832927475358], 1.0, 'Risk'], ['0_to_200', 4, 'prior_payments_delayed', 'car_new', 250, 'less_100', 'less_1', 1, 'female', 'none', 2, 'savings_insurance', 19, 'stores', 'rent', 1, 'skilled', 1, 'none', 'yes', 2.0, 0.0, 3.0, 0.0, 0.0, 1.0, 1.0, 0.0, 0.0, 0.0, 0.0, 1.0, 0.0, [2.0, 0.0, 0.0, 0.0, 3.0, 1.0, 0.0, 0.0, 1.0, 1.0, 0.0, 0.0, 0.0, 4.0, 250.0, 1.0, 2.0, 4.0, 19.0, 1.0, 1.0], [19.168646515945383, 0.8313534840546111], [0.9584323257972694, 0.04156767420273057], 0.0, 'No Risk'], ['no_checking', 19, 'credits_paid_to_date', 'business', 3434, '100_to_500', 'less_1', 3, 'male', 'none', 3, 'savings_insurance', 27, 'none', 'own', 1, 'management_self-employed', 2, 'none', 'yes', 0.0, 1.0, 3.0, 1.0, 0.0, 0.0, 0.0, 2.0, 9.0, 0.0, 0.0, 0.0, 0.0, [0.0, 1.0, 9.0, 1.0, 3.0, 0.0, 0.0, 0.0, 0.0, 0.0, 2.0, 0.0, 0.0, 19.0, 3434.0, 3.0, 3.0, 19.0, 27.0, 1.0, 2.0], [17.56768003275972, 2.432319967240282], [0.8783840016379859, 0.12161599836201409], 0.0, 'No Risk'], ['no_checking', 22, 'credits_paid_to_date', 'car_used', 3508, '100_to_500', 'less_1', 2, 'male', 'none', 4, 'savings_insurance', 25, 'none', 'own', 1, 'skilled', 1, 'none', 'yes', 0.0, 1.0, 3.0, 1.0, 0.0, 0.0, 0.0, 0.0, 2.0, 0.0, 0.0, 0.0, 0.0, [21, [1, 2, 3, 4, 13, 14, 15, 16, 17, 18, 19, 20], [1.0, 2.0, 1.0, 3.0, 22.0, 3508.0, 2.0, 4.0, 22.0, 25.0, 1.0, 1.0]], [14.504383950367645, 5.495616049632355], [0.7252191975183823, 0.27478080248161774], 0.0, 'No Risk'], ['no_checking', 30, 'outstanding_credit', 'furniture', 5930, '500_to_1000', '4_to_7', 3, 'male', 'co-applicant', 3, 'unknown', 57, 'none', 'free', 2, 'skilled', 1, 'yes', 'yes', 0.0, 2.0, 1.0, 2.0, 0.0, 2.0, 0.0, 0.0, 1.0, 1.0, 3.0, 0.0, 1.0, [0.0, 2.0, 1.0, 2.0, 1.0, 0.0, 1.0, 3.0, 0.0, 2.0, 0.0, 1.0, 0.0, 30.0, 5930.0, 3.0, 3.0, 30.0, 57.0, 2.0, 1.0], [2.677827448418327, 17.322172551581673], [0.13389137242091637, 0.8661086275790837], 1.0, 'Risk'], ['0_to_200', 15, 'credits_paid_to_date', 'car_new', 1019, 'less_100', 'unemployed', 1, 'female', 'none', 2, 'real_estate', 21, 'none', 'rent', 1, 'skilled', 1, 'none', 'yes', 2.0, 1.0, 4.0, 0.0, 0.0, 1.0, 0.0, 0.0, 0.0, 0.0, 2.0, 1.0, 0.0, [2.0, 1.0, 0.0, 0.0, 4.0, 1.0, 0.0, 2.0, 0.0, 1.0, 0.0, 0.0, 0.0, 15.0, 1019.0, 1.0, 2.0, 15.0, 21.0, 1.0, 1.0], [19.17826986260874, 0.8217301373912591], [0.9589134931304371, 0.04108650686956296], 0.0, 'No Risk'], ['0_to_200', 4, 'all_credits_paid_back', 'car_new', 1940, 'less_100', 'unemployed', 2, 'female', 'none', 3, 'real_estate', 20, 'none', 'own', 1, 'management_self-employed', 1, 'none', 'yes', 2.0, 3.0, 4.0, 0.0, 0.0, 0.0, 0.0, 2.0, 0.0, 0.0, 2.0, 1.0, 0.0, [2.0, 3.0, 0.0, 0.0, 4.0, 1.0, 0.0, 2.0, 0.0, 0.0, 2.0, 0.0, 0.0, 4.0, 1940.0, 2.0, 3.0, 4.0, 20.0, 1.0, 1.0], [19.047098066799347, 0.9529019332006503], [0.9523549033399675, 0.047645096660032527], 0.0, 'No Risk'], ['0_to_200', 19, 'credits_paid_to_date', 'furniture', 3334, 'less_100', '4_to_7', 3, 'male', 'co-applicant', 2, 'car_other', 46, 'none', 'own', 2, 'skilled', 1, 'yes', 'yes', 2.0, 1.0, 1.0, 0.0, 0.0, 0.0, 0.0, 0.0, 1.0, 1.0, 1.0, 0.0, 1.0, [2.0, 1.0, 1.0, 0.0, 1.0, 0.0, 1.0, 1.0, 0.0, 0.0, 0.0, 1.0, 0.0, 19.0, 3334.0, 3.0, 2.0, 19.0, 46.0, 2.0, 1.0], [13.130854698533966, 6.869145301466035], [0.6565427349266983, 0.34345726507330177], 0.0, 'No Risk'], ['0_to_200', 26, 'credits_paid_to_date', 'car_used', 1792, 'greater_1000', 'greater_7', 2, 'female', 'none', 2, 'savings_insurance', 38, 'stores', 'own', 1, 'skilled', 2, 'none', 'yes', 2.0, 1.0, 2.0, 3.0, 0.0, 0.0, 1.0, 0.0, 2.0, 0.0, 0.0, 1.0, 0.0, [2.0, 1.0, 2.0, 3.0, 2.0, 1.0, 0.0, 0.0, 1.0, 0.0, 0.0, 0.0, 0.0, 26.0, 1792.0, 2.0, 2.0, 26.0, 38.0, 1.0, 2.0], [14.700071229593746, 5.299928770406256], [0.7350035614796873, 0.2649964385203128], 0.0, 'No Risk'], ['no_checking', 41, 'outstanding_credit', 'repairs', 11315, 'greater_1000', 'greater_7', 6, 'male', 'co-applicant', 5, 'unknown', 62, 'none', 'free', 3, 'skilled', 2, 'yes', 'yes', 0.0, 2.0, 2.0, 3.0, 0.0, 2.0, 0.0, 0.0, 5.0, 1.0, 3.0, 0.0, 1.0, [0.0, 2.0, 5.0, 3.0, 2.0, 0.0, 1.0, 3.0, 0.0, 2.0, 0.0, 1.0, 0.0, 41.0, 11315.0, 6.0, 5.0, 41.0, 62.0, 3.0, 2.0], [1.4019503694939315, 18.59804963050607], [0.07009751847469657, 0.9299024815253034], 1.0, 'Risk'], ['less_0', 9, 'credits_paid_to_date', 'car_used', 741, 'less_100', '4_to_7', 3, 'female', 'none', 1, 'savings_insurance', 34, 'none', 'own', 1, 'skilled', 1, 'none', 'yes', 1.0, 1.0, 1.0, 0.0, 0.0, 0.0, 0.0, 0.0, 2.0, 0.0, 0.0, 1.0, 0.0, [1.0, 1.0, 2.0, 0.0, 1.0, 1.0, 0.0, 0.0, 0.0, 0.0, 0.0, 0.0, 0.0, 9.0, 741.0, 3.0, 1.0, 9.0, 34.0, 1.0, 1.0], [17.17539446098485, 2.8246055390151463], [0.8587697230492427, 0.14123027695075735], 0.0, 'No Risk'], ['0_to_200', 19, 'all_credits_paid_back', 'car_used', 918, 'less_100', '1_to_4', 3, 'male', 'none', 1, 'savings_insurance', 40, 'stores', 'rent', 1, 'unskilled', 1, 'none', 'yes', 2.0, 3.0, 0.0, 0.0, 0.0, 1.0, 1.0, 1.0, 2.0, 0.0, 0.0, 0.0, 0.0, [2.0, 3.0, 2.0, 0.0, 0.0, 0.0, 0.0, 0.0, 1.0, 1.0, 1.0, 0.0, 0.0, 19.0, 918.0, 3.0, 1.0, 19.0, 40.0, 1.0, 1.0], [15.566336382733862, 4.4336636172661406], [0.7783168191366929, 0.221683180863307], 0.0, 'No Risk'], ['0_to_200', 15, 'credits_paid_to_date', 'car_new', 1146, 'less_100', '1_to_4', 2, 'male', 'none', 3, 'savings_insurance', 32, 'none', 'rent', 1, 'skilled', 1, 'none', 'yes', 2.0, 1.0, 0.0, 0.0, 0.0, 1.0, 0.0, 0.0, 0.0, 0.0, 0.0, 0.0, 0.0, [21, [0, 1, 9, 13, 14, 15, 16, 17, 18, 19, 20], [2.0, 1.0, 1.0, 15.0, 1146.0, 2.0, 3.0, 15.0, 32.0, 1.0, 1.0]], [15.566603198408163, 4.433396801591833], [0.7783301599204083, 0.2216698400795917], 0.0, 'No Risk'], ['0_to_200', 35, 'prior_payments_delayed', 'radio_tv', 2869, 'greater_1000', 'greater_7', 4, 'male', 'none', 2, 'car_other', 40, 'stores', 'own', 2, 'unskilled', 1, 'yes', 'yes', 2.0, 0.0, 2.0, 3.0, 0.0, 0.0, 1.0, 1.0, 3.0, 0.0, 1.0, 0.0, 1.0, [2.0, 0.0, 3.0, 3.0, 2.0, 0.0, 0.0, 1.0, 1.0, 0.0, 1.0, 1.0, 0.0, 35.0, 2869.0, 4.0, 2.0, 35.0, 40.0, 2.0, 1.0], [12.882773226911421, 7.117226773088582], [0.644138661345571, 0.35586133865442904], 0.0, 'No Risk'], ['greater_200', 15, 'credits_paid_to_date', 'furniture', 4988, '500_to_1000', '1_to_4', 2, 'female', 'none', 1, 'savings_insurance', 38, 'stores', 'own', 2, 'unskilled', 1, 'none', 'yes', 3.0, 1.0, 0.0, 2.0, 0.0, 0.0, 1.0, 1.0, 1.0, 0.0, 0.0, 1.0, 0.0, [3.0, 1.0, 1.0, 2.0, 0.0, 1.0, 0.0, 0.0, 1.0, 0.0, 1.0, 0.0, 0.0, 15.0, 4988.0, 2.0, 1.0, 15.0, 38.0, 2.0, 1.0], [14.846698824407449, 5.153301175592555], [0.7423349412203724, 0.2576650587796277], 0.0, 'No Risk'], ['0_to_200', 17, 'credits_paid_to_date', 'repairs', 4298, 'less_100', '1_to_4', 3, 'male', 'none', 3, 'savings_insurance', 31, 'stores', 'own', 1, 'skilled', 2, 'none', 'yes', 2.0, 1.0, 0.0, 0.0, 0.0, 0.0, 1.0, 0.0, 5.0, 0.0, 0.0, 0.0, 0.0, [21, [0, 1, 2, 8, 13, 14, 15, 16, 17, 18, 19, 20], [2.0, 1.0, 5.0, 1.0, 17.0, 4298.0, 3.0, 3.0, 17.0, 31.0, 1.0, 2.0]], [15.246101687705414, 4.753898312294582], [0.7623050843852708, 0.23769491561472914], 0.0, 'No Risk'], ['0_to_200', 5, 'prior_payments_delayed', 'car_new', 3874, 'less_100', '1_to_4', 3, 'male', 'none', 2, 'car_other', 36, 'stores', 'own', 1, 'unskilled', 1, 'yes', 'yes', 2.0, 0.0, 0.0, 0.0, 0.0, 0.0, 1.0, 1.0, 0.0, 0.0, 1.0, 0.0, 1.0, [2.0, 0.0, 0.0, 0.0, 0.0, 0.0, 0.0, 1.0, 1.0, 0.0, 1.0, 1.0, 0.0, 5.0, 3874.0, 3.0, 2.0, 5.0, 36.0, 1.0, 1.0], [17.040875553644778, 2.959124446355223], [0.8520437776822389, 0.14795622231776115], 0.0, 'No Risk'], ['no_checking', 36, 'outstanding_credit', 'repairs', 8218, '500_to_1000', '4_to_7', 4, 'male', 'co-applicant', 5, 'unknown', 58, 'none', 'own', 2, 'skilled', 1, 'yes', 'yes', 0.0, 2.0, 1.0, 2.0, 0.0, 0.0, 0.0, 0.0, 5.0, 1.0, 3.0, 0.0, 1.0, [0.0, 2.0, 5.0, 2.0, 1.0, 0.0, 1.0, 3.0, 0.0, 0.0, 0.0, 1.0, 0.0, 36.0, 8218.0, 4.0, 5.0, 36.0, 58.0, 2.0, 1.0], [2.7181541230185533, 17.281845876981446], [0.13590770615092768, 0.8640922938490723], 1.0, 'Risk'], ['less_0', 40, 'outstanding_credit', 'repairs', 4833, 'greater_1000', 'greater_7', 4, 'male', 'none', 4, 'car_other', 35, 'stores', 'own', 2, 'skilled', 1, 'yes', 'yes', 1.0, 2.0, 2.0, 3.0, 0.0, 0.0, 1.0, 0.0, 5.0, 0.0, 1.0, 0.0, 1.0, [1.0, 2.0, 5.0, 3.0, 2.0, 0.0, 0.0, 1.0, 1.0, 0.0, 0.0, 1.0, 0.0, 40.0, 4833.0, 4.0, 4.0, 40.0, 35.0, 2.0, 1.0], [10.919056309191003, 9.080943690808997], [0.5459528154595501, 0.45404718454044984], 0.0, 'No Risk'], ['no_checking', 32, 'prior_payments_delayed', 'appliances', 5201, 'greater_1000', '1_to_4', 4, 'male', 'none', 4, 'savings_insurance', 35, 'none', 'own', 2, 'management_self-employed', 1, 'yes', 'yes', 0.0, 0.0, 0.0, 3.0, 0.0, 0.0, 0.0, 2.0, 4.0, 0.0, 0.0, 0.0, 1.0, [21, [2, 3, 10, 11, 13, 14, 15, 16, 17, 18, 19, 20], [4.0, 3.0, 2.0, 1.0, 32.0, 5201.0, 4.0, 4.0, 32.0, 35.0, 2.0, 1.0]], [11.927567132714396, 8.07243286728561], [0.5963783566357196, 0.40362164336428036], 0.0, 'No Risk'], ['0_to_200', 6, 'all_credits_paid_back', 'car_new', 4637, 'less_100', '1_to_4', 3, 'male', 'co-applicant', 4, 'real_estate', 33, 'none', 'own', 2, 'management_self-employed', 1, 'yes', 'yes', 2.0, 3.0, 0.0, 0.0, 0.0, 0.0, 0.0, 2.0, 0.0, 1.0, 2.0, 0.0, 1.0, [2.0, 3.0, 0.0, 0.0, 0.0, 0.0, 1.0, 2.0, 0.0, 0.0, 2.0, 1.0, 0.0, 6.0, 4637.0, 3.0, 4.0, 6.0, 33.0, 2.0, 1.0], [16.053385265780854, 3.946614734219145], [0.8026692632890426, 0.19733073671095724], 0.0, 'No Risk'], ['0_to_200', 4, 'all_credits_paid_back', 'car_new', 756, 'less_100', 'unemployed', 2, 'male', 'none', 3, 'real_estate', 25, 'none', 'rent', 1, 'management_self-employed', 1, 'none', 'yes', 2.0, 3.0, 4.0, 0.0, 0.0, 1.0, 0.0, 2.0, 0.0, 0.0, 2.0, 0.0, 0.0, [2.0, 3.0, 0.0, 0.0, 4.0, 0.0, 0.0, 2.0, 0.0, 1.0, 2.0, 0.0, 0.0, 4.0, 756.0, 2.0, 3.0, 4.0, 25.0, 1.0, 1.0], [19.10237599108667, 0.897624008913328], [0.9551187995543335, 0.0448812004456664], 0.0, 'No Risk'], ['less_0', 24, 'prior_payments_delayed', 'radio_tv', 250, '100_to_500', 'less_1', 1, 'male', 'none', 3, 'savings_insurance', 19, 'bank', 'rent', 1, 'unemployed', 1, 'yes', 'yes', 1.0, 0.0, 3.0, 1.0, 0.0, 1.0, 2.0, 3.0, 3.0, 0.0, 0.0, 0.0, 1.0, [1.0, 0.0, 3.0, 1.0, 3.0, 0.0, 0.0, 0.0, 2.0, 1.0, 3.0, 1.0, 0.0, 24.0, 250.0, 1.0, 3.0, 24.0, 19.0, 1.0, 1.0], [17.584450947187186, 2.4155490528128176], [0.8792225473593591, 0.12077745264064085], 0.0, 'No Risk'], ['no_checking', 35, 'credits_paid_to_date', 'furniture', 5956, 'greater_1000', 'less_1', 3, 'female', 'none', 3, 'car_other', 42, 'none', 'own', 2, 'skilled', 1, 'yes', 'yes', 0.0, 1.0, 3.0, 3.0, 0.0, 0.0, 0.0, 0.0, 1.0, 0.0, 1.0, 1.0, 1.0, [0.0, 1.0, 1.0, 3.0, 3.0, 1.0, 0.0, 1.0, 0.0, 0.0, 0.0, 1.0, 0.0, 35.0, 5956.0, 3.0, 3.0, 35.0, 42.0, 2.0, 1.0], [10.357186697860506, 9.642813302139494], [0.5178593348930253, 0.48214066510697473], 0.0, 'No Risk'], ['no_checking', 25, 'prior_payments_delayed', 'car_used', 9861, '100_to_500', '1_to_4', 4, 'female', 'guarantor', 4, 'savings_insurance', 39, 'none', 'free', 2, 'skilled', 1, 'yes', 'no', 0.0, 0.0, 0.0, 1.0, 1.0, 2.0, 0.0, 0.0, 2.0, 2.0, 0.0, 1.0, 1.0, [0.0, 0.0, 2.0, 1.0, 0.0, 1.0, 2.0, 0.0, 0.0, 2.0, 0.0, 1.0, 1.0, 25.0, 9861.0, 4.0, 4.0, 25.0, 39.0, 2.0, 1.0], [9.102616863657131, 10.897383136342869], [0.45513084318285657, 0.5448691568171434], 1.0, 'Risk'], ['less_0', 15, 'credits_paid_to_date', 'car_new', 326, 'less_100', 'less_1', 2, 'female', 'none', 2, 'real_estate', 39, 'none', 'own', 1, 'skilled', 1, 'none', 'yes', 1.0, 1.0, 3.0, 0.0, 0.0, 0.0, 0.0, 0.0, 0.0, 0.0, 2.0, 1.0, 0.0, [1.0, 1.0, 0.0, 0.0, 3.0, 1.0, 0.0, 2.0, 0.0, 0.0, 0.0, 0.0, 0.0, 15.0, 326.0, 2.0, 2.0, 15.0, 39.0, 1.0, 1.0], [18.12803989174771, 1.8719601082522872], [0.9064019945873856, 0.09359800541261436], 0.0, 'No Risk'], ['less_0', 4, 'all_credits_paid_back', 'car_new', 250, 'less_100', 'less_1', 1, 'female', 'none', 1, 'real_estate', 19, 'stores', 'rent', 1, 'skilled', 1, 'none', 'yes', 1.0, 3.0, 3.0, 0.0, 0.0, 1.0, 1.0, 0.0, 0.0, 0.0, 2.0, 1.0, 0.0, [1.0, 3.0, 0.0, 0.0, 3.0, 1.0, 0.0, 2.0, 1.0, 1.0, 0.0, 0.0, 0.0, 4.0, 250.0, 1.0, 1.0, 4.0, 19.0, 1.0, 1.0], [19.5600407064368, 0.43995929356319874], [0.97800203532184, 0.021997964678159936], 0.0, 'No Risk'], ['no_checking', 43, 'prior_payments_delayed', 'other', 6476, '500_to_1000', '4_to_7', 5, 'male', 'none', 3, 'car_other', 39, 'none', 'free', 2, 'skilled', 1, 'none', 'yes', 0.0, 0.0, 1.0, 2.0, 0.0, 2.0, 0.0, 0.0, 10.0, 0.0, 1.0, 0.0, 0.0, [0.0, 0.0, 10.0, 2.0, 1.0, 0.0, 0.0, 1.0, 0.0, 2.0, 0.0, 0.0, 0.0, 43.0, 6476.0, 5.0, 3.0, 43.0, 39.0, 2.0, 1.0], [10.172814378594751, 9.827185621405247], [0.5086407189297375, 0.4913592810702624], 0.0, 'No Risk'], ['0_to_200', 16, 'credits_paid_to_date', 'furniture', 1996, '100_to_500', 'less_1', 1, 'male', 'none', 3, 'savings_insurance', 39, 'none', 'own', 1, 'skilled', 1, 'none', 'yes', 2.0, 1.0, 3.0, 1.0, 0.0, 0.0, 0.0, 0.0, 1.0, 0.0, 0.0, 0.0, 0.0, [2.0, 1.0, 1.0, 1.0, 3.0, 0.0, 0.0, 0.0, 0.0, 0.0, 0.0, 0.0, 0.0, 16.0, 1996.0, 1.0, 3.0, 16.0, 39.0, 1.0, 1.0], [15.984156423852411, 4.015843576147589], [0.7992078211926206, 0.20079217880737943], 0.0, 'No Risk'], ['0_to_200', 25, 'outstanding_credit', 'furniture', 4682, 'unknown', 'greater_7', 3, 'male', 'none', 3, 'savings_insurance', 24, 'none', 'own', 1, 'skilled', 1, 'none', 'yes', 2.0, 2.0, 2.0, 4.0, 0.0, 0.0, 0.0, 0.0, 1.0, 0.0, 0.0, 0.0, 0.0, [2.0, 2.0, 1.0, 4.0, 2.0, 0.0, 0.0, 0.0, 0.0, 0.0, 0.0, 0.0, 0.0, 25.0, 4682.0, 3.0, 3.0, 25.0, 24.0, 1.0, 1.0], [14.75761894879966, 5.242381051200338], [0.737880947439983, 0.2621190525600169], 0.0, 'No Risk'], ['less_0', 13, 'credits_paid_to_date', 'furniture', 563, 'less_100', 'less_1', 1, 'male', 'none', 2, 'savings_insurance', 25, 'none', 'rent', 1, 'skilled', 1, 'none', 'yes', 1.0, 1.0, 3.0, 0.0, 0.0, 1.0, 0.0, 0.0, 1.0, 0.0, 0.0, 0.0, 0.0, [1.0, 1.0, 1.0, 0.0, 3.0, 0.0, 0.0, 0.0, 0.0, 1.0, 0.0, 0.0, 0.0, 13.0, 563.0, 1.0, 2.0, 13.0, 25.0, 1.0, 1.0], [19.297839927497844, 0.7021600725021515], [0.9648919963748923, 0.03510800362510758], 0.0, 'No Risk'], ['no_checking', 32, 'prior_payments_delayed', 'vacation', 8669, 'unknown', '1_to_4', 3, 'male', 'none', 4, 'car_other', 41, 'none', 'free', 2, 'management_self-employed', 2, 'yes', 'yes', 0.0, 0.0, 0.0, 4.0, 0.0, 2.0, 0.0, 2.0, 6.0, 0.0, 1.0, 0.0, 1.0, [0.0, 0.0, 6.0, 4.0, 0.0, 0.0, 0.0, 1.0, 0.0, 2.0, 2.0, 1.0, 0.0, 32.0, 8669.0, 3.0, 4.0, 32.0, 41.0, 2.0, 2.0], [11.589067792842519, 8.410932207157483], [0.5794533896421259, 0.42054661035787416], 0.0, 'No Risk'], ['0_to_200', 15, 'credits_paid_to_date', 'car_new', 1714, '500_to_1000', '1_to_4', 2, 'male', 'co-applicant', 2, 'savings_insurance', 34, 'none', 'own', 2, 'skilled', 1, 'none', 'yes', 2.0, 1.0, 0.0, 2.0, 0.0, 0.0, 0.0, 0.0, 0.0, 1.0, 0.0, 0.0, 0.0, [21, [0, 1, 3, 6, 13, 14, 15, 16, 17, 18, 19, 20], [2.0, 1.0, 2.0, 1.0, 15.0, 1714.0, 2.0, 2.0, 15.0, 34.0, 2.0, 1.0]], [15.40983163678709, 4.590168363212912], [0.7704915818393545, 0.22950841816064563], 0.0, 'No Risk'], ['less_0', 15, 'credits_paid_to_date', 'car_new', 326, 'less_100', 'less_1', 2, 'female', 'none', 2, 'real_estate', 39, 'none', 'own', 1, 'skilled', 1, 'none', 'yes', 1.0, 1.0, 3.0, 0.0, 0.0, 0.0, 0.0, 0.0, 0.0, 0.0, 2.0, 1.0, 0.0, [1.0, 1.0, 0.0, 0.0, 3.0, 1.0, 0.0, 2.0, 0.0, 0.0, 0.0, 0.0, 0.0, 15.0, 326.0, 2.0, 2.0, 15.0, 39.0, 1.0, 1.0], [18.12803989174771, 1.8719601082522872], [0.9064019945873856, 0.09359800541261436], 0.0, 'No Risk'], ['no_checking', 28, 'outstanding_credit', 'education', 6366, '500_to_1000', 'greater_7', 3, 'male', 'none', 4, 'unknown', 48, 'stores', 'own', 1, 'unskilled', 1, 'yes', 'yes', 0.0, 2.0, 2.0, 2.0, 0.0, 0.0, 1.0, 1.0, 7.0, 0.0, 3.0, 0.0, 1.0, [0.0, 2.0, 7.0, 2.0, 2.0, 0.0, 0.0, 3.0, 1.0, 0.0, 1.0, 1.0, 0.0, 28.0, 6366.0, 3.0, 4.0, 28.0, 48.0, 1.0, 1.0], [6.584355132301563, 13.415644867698434], [0.3292177566150782, 0.6707822433849219], 1.0, 'Risk'], ['0_to_200', 4, 'all_credits_paid_back', 'car_new', 250, 'less_100', '1_to_4', 2, 'female', 'none', 1, 'real_estate', 29, 'none', 'own', 1, 'skilled', 1, 'none', 'yes', 2.0, 3.0, 0.0, 0.0, 0.0, 0.0, 0.0, 0.0, 0.0, 0.0, 2.0, 1.0, 0.0, [21, [0, 1, 5, 7, 13, 14, 15, 16, 17, 18, 19, 20], [2.0, 3.0, 1.0, 2.0, 4.0, 250.0, 2.0, 1.0, 4.0, 29.0, 1.0, 1.0]], [19.349740198034944, 0.6502598019650544], [0.9674870099017474, 0.032512990098252724], 0.0, 'No Risk'], ['0_to_200', 4, 'all_credits_paid_back', 'car_new', 2586, '100_to_500', '1_to_4', 3, 'male', 'none', 1, 'car_other', 35, 'none', 'own', 1, 'skilled', 1, 'none', 'yes', 2.0, 3.0, 0.0, 1.0, 0.0, 0.0, 0.0, 0.0, 0.0, 0.0, 1.0, 0.0, 0.0, [21, [0, 1, 3, 7, 13, 14, 15, 16, 17, 18, 19, 20], [2.0, 3.0, 1.0, 1.0, 4.0, 2586.0, 3.0, 1.0, 4.0, 35.0, 1.0, 1.0]], [18.07525916590535, 1.9247408340946528], [0.9037629582952674, 0.09623704170473263], 0.0, 'No Risk'], ['no_checking', 30, 'outstanding_credit', 'appliances', 5722, '500_to_1000', '4_to_7', 4, 'male', 'none', 3, 'car_other', 51, 'none', 'free', 2, 'skilled', 1, 'yes', 'yes', 0.0, 2.0, 1.0, 2.0, 0.0, 2.0, 0.0, 0.0, 4.0, 0.0, 1.0, 0.0, 1.0, [0.0, 2.0, 4.0, 2.0, 1.0, 0.0, 0.0, 1.0, 0.0, 2.0, 0.0, 1.0, 0.0, 30.0, 5722.0, 4.0, 3.0, 30.0, 51.0, 2.0, 1.0], [6.302272042670137, 13.697727957329862], [0.31511360213350686, 0.6848863978664931], 1.0, 'Risk'], ['0_to_200', 4, 'credits_paid_to_date', 'education', 1357, '500_to_1000', 'less_1', 1, 'female', 'none', 1, 'savings_insurance', 31, 'none', 'rent', 1, 'skilled', 1, 'none', 'yes', 2.0, 1.0, 3.0, 2.0, 0.0, 1.0, 0.0, 0.0, 7.0, 0.0, 0.0, 1.0, 0.0, [2.0, 1.0, 7.0, 2.0, 3.0, 1.0, 0.0, 0.0, 0.0, 1.0, 0.0, 0.0, 0.0, 4.0, 1357.0, 1.0, 1.0, 4.0, 31.0, 1.0, 1.0], [18.91362205239731, 1.0863779476026854], [0.9456811026198657, 0.054318897380134276], 0.0, 'No Risk'], ['0_to_200', 30, 'outstanding_credit', 'appliances', 5167, '100_to_500', 'less_1', 2, 'male', 'none', 2, 'car_other', 33, 'none', 'free', 1, 'skilled', 2, 'yes', 'yes', 2.0, 2.0, 3.0, 1.0, 0.0, 2.0, 0.0, 0.0, 4.0, 0.0, 1.0, 0.0, 1.0, [2.0, 2.0, 4.0, 1.0, 3.0, 0.0, 0.0, 1.0, 0.0, 2.0, 0.0, 1.0, 0.0, 30.0, 5167.0, 2.0, 2.0, 30.0, 33.0, 1.0, 2.0], [14.362370916382305, 5.6376290836176945], [0.7181185458191153, 0.2818814541808847], 0.0, 'No Risk'], ['no_checking', 25, 'credits_paid_to_date', 'furniture', 1230, '500_to_1000', '1_to_4', 2, 'female', 'none', 2, 'savings_insurance', 24, 'bank', 'rent', 1, 'unemployed', 1, 'none', 'yes', 0.0, 1.0, 0.0, 2.0, 0.0, 1.0, 2.0, 3.0, 1.0, 0.0, 0.0, 1.0, 0.0, [0.0, 1.0, 1.0, 2.0, 0.0, 1.0, 0.0, 0.0, 2.0, 1.0, 3.0, 0.0, 0.0, 25.0, 1230.0, 2.0, 2.0, 25.0, 24.0, 1.0, 1.0], [14.903939697107827, 5.096060302892171], [0.7451969848553913, 0.25480301514460857], 0.0, 'No Risk'], ['0_to_200', 20, 'prior_payments_delayed', 'appliances', 2071, 'greater_1000', '1_to_4', 2, 'male', 'none', 3, 'savings_insurance', 42, 'none', 'own', 1, 'skilled', 1, 'none', 'no', 2.0, 0.0, 0.0, 3.0, 1.0, 0.0, 0.0, 0.0, 4.0, 0.0, 0.0, 0.0, 0.0, [21, [0, 2, 3, 12, 13, 14, 15, 16, 17, 18, 19, 20], [2.0, 4.0, 3.0, 1.0, 20.0, 2071.0, 2.0, 3.0, 20.0, 42.0, 1.0, 1.0]], [14.221554214651928, 5.778445785348071], [0.7110777107325964, 0.28892228926740354], 0.0, 'No Risk'], ['no_checking', 34, 'outstanding_credit', 'repairs', 8286, 'unknown', 'greater_7', 6, 'male', 'co-applicant', 5, 'car_other', 37, 'none', 'free', 3, 'skilled', 2, 'yes', 'yes', 0.0, 2.0, 2.0, 4.0, 0.0, 2.0, 0.0, 0.0, 5.0, 1.0, 1.0, 0.0, 1.0, [0.0, 2.0, 5.0, 4.0, 2.0, 0.0, 1.0, 1.0, 0.0, 2.0, 0.0, 1.0, 0.0, 34.0, 8286.0, 6.0, 5.0, 34.0, 37.0, 3.0, 2.0], [3.3751933565406493, 16.62480664345935], [0.16875966782703247, 0.8312403321729676], 1.0, 'Risk'], ['0_to_200', 32, 'credits_paid_to_date', 'radio_tv', 4834, '100_to_500', '1_to_4', 4, 'male', 'none', 2, 'car_other', 35, 'none', 'own', 2, 'skilled', 1, 'none', 'yes', 2.0, 1.0, 0.0, 1.0, 0.0, 0.0, 0.0, 0.0, 3.0, 0.0, 1.0, 0.0, 0.0, [2.0, 1.0, 3.0, 1.0, 0.0, 0.0, 0.0, 1.0, 0.0, 0.0, 0.0, 0.0, 0.0, 32.0, 4834.0, 4.0, 2.0, 32.0, 35.0, 2.0, 1.0], [13.20434230595014, 6.79565769404986], [0.660217115297507, 0.33978288470249296], 0.0, 'No Risk'], ['no_checking', 31, 'prior_payments_delayed', 'appliances', 6454, '100_to_500', '4_to_7', 5, 'male', 'none', 4, 'unknown', 46, 'none', 'free', 2, 'skilled', 1, 'yes', 'yes', 0.0, 0.0, 1.0, 1.0, 0.0, 2.0, 0.0, 0.0, 4.0, 0.0, 3.0, 0.0, 1.0, [0.0, 0.0, 4.0, 1.0, 1.0, 0.0, 0.0, 3.0, 0.0, 2.0, 0.0, 1.0, 0.0, 31.0, 6454.0, 5.0, 4.0, 31.0, 46.0, 2.0, 1.0], [6.223556380955626, 13.776443619044374], [0.3111778190477813, 0.6888221809522187], 1.0, 'Risk'], ['no_checking', 42, 'outstanding_credit', 'other', 7571, 'greater_1000', 'greater_7', 5, 'male', 'co-applicant', 5, 'unknown', 49, 'none', 'free', 2, 'skilled', 1, 'yes', 'yes', 0.0, 2.0, 2.0, 3.0, 0.0, 2.0, 0.0, 0.0, 10.0, 1.0, 3.0, 0.0, 1.0, [0.0, 2.0, 10.0, 3.0, 2.0, 0.0, 1.0, 3.0, 0.0, 2.0, 0.0, 1.0, 0.0, 42.0, 7571.0, 5.0, 5.0, 42.0, 49.0, 2.0, 1.0], [1.4019503694939315, 18.59804963050607], [0.07009751847469657, 0.9299024815253034], 1.0, 'Risk'], ['less_0', 8, 'all_credits_paid_back', 'car_used', 3714, 'less_100', '1_to_4', 3, 'female', 'none', 3, 'car_other', 31, 'none', 'rent', 1, 'skilled', 1, 'none', 'yes', 1.0, 3.0, 0.0, 0.0, 0.0, 1.0, 0.0, 0.0, 2.0, 0.0, 1.0, 1.0, 0.0, [1.0, 3.0, 2.0, 0.0, 0.0, 1.0, 0.0, 1.0, 0.0, 1.0, 0.0, 0.0, 0.0, 8.0, 3714.0, 3.0, 3.0, 8.0, 31.0, 1.0, 1.0], [17.09042247678329, 2.909577523216712], [0.8545211238391645, 0.1454788761608356], 0.0, 'No Risk'], ['no_checking', 22, 'prior_payments_delayed', 'radio_tv', 3566, '100_to_500', 'greater_7', 4, 'female', 'none', 2, 'real_estate', 33, 'none', 'own', 2, 'skilled', 1, 'yes', 'yes', 0.0, 0.0, 2.0, 1.0, 0.0, 0.0, 0.0, 0.0, 3.0, 0.0, 2.0, 1.0, 1.0, [0.0, 0.0, 3.0, 1.0, 2.0, 1.0, 0.0, 2.0, 0.0, 0.0, 0.0, 1.0, 0.0, 22.0, 3566.0, 4.0, 2.0, 22.0, 33.0, 2.0, 1.0], [9.025650314107503, 10.974349685892497], [0.45128251570537514, 0.5487174842946249], 1.0, 'Risk'], ['0_to_200', 26, 'credits_paid_to_date', 'car_used', 2624, 'less_100', '4_to_7', 3, 'male', 'none', 2, 'real_estate', 45, 'none', 'own', 1, 'skilled', 1, 'none', 'no', 2.0, 1.0, 1.0, 0.0, 1.0, 0.0, 0.0, 0.0, 2.0, 0.0, 2.0, 0.0, 0.0, [2.0, 1.0, 2.0, 0.0, 1.0, 0.0, 0.0, 2.0, 0.0, 0.0, 0.0, 0.0, 1.0, 26.0, 2624.0, 3.0, 2.0, 26.0, 45.0, 1.0, 1.0], [14.96631456824396, 5.033685431756042], [0.748315728412198, 0.2516842715878021], 0.0, 'No Risk'], ['no_checking', 26, 'prior_payments_delayed', 'education', 6603, 'greater_1000', '4_to_7', 4, 'male', 'none', 4, 'car_other', 32, 'none', 'free', 2, 'management_self-employed', 1, 'none', 'yes', 0.0, 0.0, 1.0, 3.0, 0.0, 2.0, 0.0, 2.0, 7.0, 0.0, 1.0, 0.0, 0.0, [0.0, 0.0, 7.0, 3.0, 1.0, 0.0, 0.0, 1.0, 0.0, 2.0, 2.0, 0.0, 0.0, 26.0, 6603.0, 4.0, 4.0, 26.0, 32.0, 2.0, 1.0], [10.738226412037749, 9.261773587962253], [0.5369113206018874, 0.46308867939811266], 0.0, 'No Risk'], ['0_to_200', 18, 'credits_paid_to_date', 'car_new', 2441, 'less_100', '1_to_4', 3, 'female', 'none', 3, 'savings_insurance', 30, 'none', 'rent', 1, 'skilled', 1, 'none', 'yes', 2.0, 1.0, 0.0, 0.0, 0.0, 1.0, 0.0, 0.0, 0.0, 0.0, 0.0, 1.0, 0.0, [21, [0, 1, 5, 9, 13, 14, 15, 16, 17, 18, 19, 20], [2.0, 1.0, 1.0, 1.0, 18.0, 2441.0, 3.0, 3.0, 18.0, 30.0, 1.0, 1.0]], [16.62748721721329, 3.3725127827867065], [0.8313743608606646, 0.16862563913933534], 0.0, 'No Risk'], ['no_checking', 31, 'outstanding_credit', 'repairs', 5432, '500_to_1000', 'greater_7', 4, 'male', 'co-applicant', 3, 'car_other', 50, 'none', 'own', 2, 'skilled', 1, 'yes', 'yes', 0.0, 2.0, 2.0, 2.0, 0.0, 0.0, 0.0, 0.0, 5.0, 1.0, 1.0, 0.0, 1.0, [0.0, 2.0, 5.0, 2.0, 2.0, 0.0, 1.0, 1.0, 0.0, 0.0, 0.0, 1.0, 0.0, 31.0, 5432.0, 4.0, 3.0, 31.0, 50.0, 2.0, 1.0], [2.4386809396288593, 17.56131906037114], [0.12193404698144297, 0.878065953018557], 1.0, 'Risk'], ['less_0', 4, 'all_credits_paid_back', 'car_new', 625, 'less_100', '1_to_4', 2, 'male', 'none', 1, 'savings_insurance', 19, 'stores', 'own', 1, 'skilled', 1, 'none', 'yes', 1.0, 3.0, 0.0, 0.0, 0.0, 0.0, 1.0, 0.0, 0.0, 0.0, 0.0, 0.0, 0.0, [21, [0, 1, 8, 13, 14, 15, 16, 17, 18, 19, 20], [1.0, 3.0, 1.0, 4.0, 625.0, 2.0, 1.0, 4.0, 19.0, 1.0, 1.0]], [18.70384769060838, 1.2961523093916199], [0.9351923845304191, 0.064807615469581], 0.0, 'No Risk'], ['no_checking', 11, 'credits_paid_to_date', 'car_new', 2815, 'less_100', '1_to_4', 3, 'male', 'none', 3, 'real_estate', 34, 'none', 'own', 1, 'management_self-employed', 1, 'none', 'yes', 0.0, 1.0, 0.0, 0.0, 0.0, 0.0, 0.0, 2.0, 0.0, 0.0, 2.0, 0.0, 0.0, [21, [1, 7, 10, 13, 14, 15, 16, 17, 18, 19, 20], [1.0, 2.0, 2.0, 11.0, 2815.0, 3.0, 3.0, 11.0, 34.0, 1.0, 1.0]], [16.235439222144432, 3.76456077785557], [0.8117719611072215, 0.18822803889277848], 0.0, 'No Risk'], ['less_0', 26, 'outstanding_credit', 'business', 3693, '100_to_500', '4_to_7', 2, 'male', 'none', 2, 'savings_insurance', 25, 'none', 'rent', 1, 'skilled', 1, 'none', 'yes', 1.0, 2.0, 1.0, 1.0, 0.0, 1.0, 0.0, 0.0, 9.0, 0.0, 0.0, 0.0, 0.0, [1.0, 2.0, 9.0, 1.0, 1.0, 0.0, 0.0, 0.0, 0.0, 1.0, 0.0, 0.0, 0.0, 26.0, 3693.0, 2.0, 2.0, 26.0, 25.0, 1.0, 1.0], [16.282927769268593, 3.717072230731407], [0.8141463884634297, 0.18585361153657035], 0.0, 'No Risk'], ['no_checking', 16, 'credits_paid_to_date', 'appliances', 1689, 'greater_1000', '1_to_4', 2, 'female', 'none', 2, 'car_other', 41, 'none', 'own', 2, 'skilled', 1, 'none', 'yes', 0.0, 1.0, 0.0, 3.0, 0.0, 0.0, 0.0, 0.0, 4.0, 0.0, 1.0, 1.0, 0.0, [0.0, 1.0, 4.0, 3.0, 0.0, 1.0, 0.0, 1.0, 0.0, 0.0, 0.0, 0.0, 0.0, 16.0, 1689.0, 2.0, 2.0, 16.0, 41.0, 2.0, 1.0], [13.401846703970923, 6.598153296029076], [0.6700923351985462, 0.3299076648014538], 0.0, 'No Risk'], ['no_checking', 26, 'outstanding_credit', 'appliances', 7775, '500_to_1000', 'greater_7', 4, 'male', 'co-applicant', 4, 'unknown', 51, 'none', 'free', 2, 'skilled', 1, 'yes', 'no', 0.0, 2.0, 2.0, 2.0, 1.0, 2.0, 0.0, 0.0, 4.0, 1.0, 3.0, 0.0, 1.0, [0.0, 2.0, 4.0, 2.0, 2.0, 0.0, 1.0, 3.0, 0.0, 2.0, 0.0, 1.0, 1.0, 26.0, 7775.0, 4.0, 4.0, 26.0, 51.0, 2.0, 1.0], [1.456451428959879, 18.543548571040123], [0.07282257144799394, 0.927177428552006], 1.0, 'Risk'], ['0_to_200', 15, 'credits_paid_to_date', 'furniture', 1792, '100_to_500', '1_to_4', 3, 'male', 'none', 3, 'real_estate', 36, 'none', 'own', 1, 'skilled', 1, 'yes', 'yes', 2.0, 1.0, 0.0, 1.0, 0.0, 0.0, 0.0, 0.0, 1.0, 0.0, 2.0, 0.0, 1.0, [2.0, 1.0, 1.0, 1.0, 0.0, 0.0, 0.0, 2.0, 0.0, 0.0, 0.0, 1.0, 0.0, 15.0, 1792.0, 3.0, 3.0, 15.0, 36.0, 1.0, 1.0], [16.064705445941264, 3.935294554058735], [0.8032352722970633, 0.19676472770293676], 0.0, 'No Risk'], ['less_0', 14, 'all_credits_paid_back', 'furniture', 251, 'less_100', 'less_1', 1, 'female', 'none', 2, 'real_estate', 32, 'none', 'rent', 1, 'skilled', 1, 'none', 'yes', 1.0, 3.0, 3.0, 0.0, 0.0, 1.0, 0.0, 0.0, 1.0, 0.0, 2.0, 1.0, 0.0, [1.0, 3.0, 1.0, 0.0, 3.0, 1.0, 0.0, 2.0, 0.0, 1.0, 0.0, 0.0, 0.0, 14.0, 251.0, 1.0, 2.0, 14.0, 32.0, 1.0, 1.0], [19.280071560417987, 0.7199284395820142], [0.9640035780208993, 0.03599642197910071], 0.0, 'No Risk'], ['less_0', 11, 'prior_payments_delayed', 'car_used', 2364, 'less_100', '1_to_4', 3, 'male', 'none', 3, 'car_other', 30, 'none', 'own', 1, 'skilled', 2, 'yes', 'yes', 1.0, 0.0, 0.0, 0.0, 0.0, 0.0, 0.0, 0.0, 2.0, 0.0, 1.0, 0.0, 1.0, [21, [0, 2, 7, 11, 13, 14, 15, 16, 17, 18, 19, 20], [1.0, 2.0, 1.0, 1.0, 11.0, 2364.0, 3.0, 3.0, 11.0, 30.0, 1.0, 2.0]], [16.008944397626223, 3.9910556023737747], [0.8004472198813113, 0.19955278011868877], 0.0, 'No Risk'], ['0_to_200', 9, 'credits_paid_to_date', 'car_new', 250, 'less_100', 'less_1', 2, 'female', 'none', 3, 'savings_insurance', 19, 'none', 'own', 1, 'skilled', 1, 'none', 'yes', 2.0, 1.0, 3.0, 0.0, 0.0, 0.0, 0.0, 0.0, 0.0, 0.0, 0.0, 1.0, 0.0, [21, [0, 1, 4, 5, 13, 14, 15, 16, 17, 18, 19, 20], [2.0, 1.0, 3.0, 1.0, 9.0, 250.0, 2.0, 3.0, 9.0, 19.0, 1.0, 1.0]], [18.87797698170416, 1.122023018295838], [0.943898849085208, 0.056101150914791904], 0.0, 'No Risk'], ['no_checking', 29, 'outstanding_credit', 'radio_tv', 3969, '500_to_1000', '1_to_4', 4, 'male', 'none', 2, 'savings_insurance', 38, 'none', 'own', 1, 'skilled', 1, 'none', 'yes', 0.0, 2.0, 0.0, 2.0, 0.0, 0.0, 0.0, 0.0, 3.0, 0.0, 0.0, 0.0, 0.0, [21, [1, 2, 3, 13, 14, 15, 16, 17, 18, 19, 20], [2.0, 3.0, 2.0, 29.0, 3969.0, 4.0, 2.0, 29.0, 38.0, 1.0, 1.0]], [12.976081453229131, 7.0239185467708705], [0.6488040726614566, 0.35119592733854355], 0.0, 'No Risk'], ['no_checking', 27, 'outstanding_credit', 'appliances', 8060, 'unknown', 'greater_7', 5, 'male', 'co-applicant', 5, 'car_other', 58, 'none', 'free', 2, 'management_self-employed', 2, 'yes', 'yes', 0.0, 2.0, 2.0, 4.0, 0.0, 2.0, 0.0, 2.0, 4.0, 1.0, 1.0, 0.0, 1.0, [0.0, 2.0, 4.0, 4.0, 2.0, 0.0, 1.0, 1.0, 0.0, 2.0, 2.0, 1.0, 0.0, 27.0, 8060.0, 5.0, 5.0, 27.0, 58.0, 2.0, 2.0], [2.0603098635910344, 17.939690136408966], [0.10301549317955172, 0.8969845068204483], 1.0, 'Risk'], ['no_checking', 9, 'prior_payments_delayed', 'car_used', 3486, 'greater_1000', '4_to_7', 4, 'male', 'none', 3, 'savings_insurance', 29, 'stores', 'rent', 2, 'unskilled', 1, 'none', 'yes', 0.0, 0.0, 1.0, 3.0, 0.0, 1.0, 1.0, 1.0, 2.0, 0.0, 0.0, 0.0, 0.0, [0.0, 0.0, 2.0, 3.0, 1.0, 0.0, 0.0, 0.0, 1.0, 1.0, 1.0, 0.0, 0.0, 9.0, 3486.0, 4.0, 3.0, 9.0, 29.0, 2.0, 1.0], [12.245468622045548, 7.754531377954451], [0.6122734311022774, 0.38772656889772256], 0.0, 'No Risk'], ['no_checking', 40, 'outstanding_credit', 'education', 6877, 'unknown', 'greater_7', 6, 'male', 'co-applicant', 5, 'unknown', 58, 'none', 'own', 2, 'skilled', 2, 'yes', 'yes', 0.0, 2.0, 2.0, 4.0, 0.0, 0.0, 0.0, 0.0, 7.0, 1.0, 3.0, 0.0, 1.0, [0.0, 2.0, 7.0, 4.0, 2.0, 0.0, 1.0, 3.0, 0.0, 0.0, 0.0, 1.0, 0.0, 40.0, 6877.0, 6.0, 5.0, 40.0, 58.0, 2.0, 2.0], [1.515425546798896, 18.484574453201105], [0.07577127733994479, 0.9242287226600553], 1.0, 'Risk'], ['no_checking', 30, 'prior_payments_delayed', 'appliances', 4718, '100_to_500', '1_to_4', 3, 'male', 'none', 4, 'car_other', 37, 'none', 'own', 1, 'skilled', 1, 'none', 'yes', 0.0, 0.0, 0.0, 1.0, 0.0, 0.0, 0.0, 0.0, 4.0, 0.0, 1.0, 0.0, 0.0, [21, [2, 3, 7, 13, 14, 15, 16, 17, 18, 19, 20], [4.0, 1.0, 1.0, 30.0, 4718.0, 3.0, 4.0, 30.0, 37.0, 1.0, 1.0]], [12.556006275283506, 7.443993724716493], [0.6278003137641753, 0.37219968623582467], 0.0, 'No Risk'], ['less_0', 25, 'prior_payments_delayed', 'radio_tv', 3442, 'less_100', 'less_1', 2, 'male', 'co-applicant', 1, 'unknown', 36, 'stores', 'own', 1, 'unskilled', 1, 'none', 'yes', 1.0, 0.0, 3.0, 0.0, 0.0, 0.0, 1.0, 1.0, 3.0, 1.0, 3.0, 0.0, 0.0, [1.0, 0.0, 3.0, 0.0, 3.0, 0.0, 1.0, 3.0, 1.0, 0.0, 1.0, 0.0, 0.0, 25.0, 3442.0, 2.0, 1.0, 25.0, 36.0, 1.0, 1.0], [15.547261615552417, 4.452738384447584], [0.7773630807776208, 0.22263691922237921], 0.0, 'No Risk'], ['less_0', 14, 'all_credits_paid_back', 'vacation', 2254, 'less_100', 'less_1', 2, 'male', 'none', 1, 'real_estate', 24, 'none', 'own', 1, 'management_self-employed', 1, 'none', 'yes', 1.0, 3.0, 3.0, 0.0, 0.0, 0.0, 0.0, 2.0, 6.0, 0.0, 2.0, 0.0, 0.0, [1.0, 3.0, 6.0, 0.0, 3.0, 0.0, 0.0, 2.0, 0.0, 0.0, 2.0, 0.0, 0.0, 14.0, 2254.0, 2.0, 1.0, 14.0, 24.0, 1.0, 1.0], [19.350984005618294, 0.6490159943817032], [0.9675492002809148, 0.03245079971908517], 0.0, 'No Risk'], ['no_checking', 19, 'credits_paid_to_date', 'furniture', 2991, 'greater_1000', '1_to_4', 3, 'female', 'none', 2, 'savings_insurance', 25, 'none', 'own', 2, 'skilled', 1, 'none', 'yes', 0.0, 1.0, 0.0, 3.0, 0.0, 0.0, 0.0, 0.0, 1.0, 0.0, 0.0, 1.0, 0.0, [21, [1, 2, 3, 5, 13, 14, 15, 16, 17, 18, 19, 20], [1.0, 1.0, 3.0, 1.0, 19.0, 2991.0, 3.0, 2.0, 19.0, 25.0, 2.0, 1.0]], [15.003400382905928, 4.99659961709407], [0.7501700191452965, 0.24982998085470348], 0.0, 'No Risk'], ['0_to_200', 17, 'prior_payments_delayed', 'car_new', 2006, '500_to_1000', '4_to_7', 3, 'male', 'none', 4, 'car_other', 38, 'bank', 'rent', 2, 'unemployed', 1, 'none', 'yes', 2.0, 0.0, 1.0, 2.0, 0.0, 1.0, 2.0, 3.0, 0.0, 0.0, 1.0, 0.0, 0.0, [2.0, 0.0, 0.0, 2.0, 1.0, 0.0, 0.0, 1.0, 2.0, 1.0, 3.0, 0.0, 0.0, 17.0, 2006.0, 3.0, 4.0, 17.0, 38.0, 2.0, 1.0], [12.857977681482716, 7.142022318517283], [0.6428988840741358, 0.35710111592586413], 0.0, 'No Risk'], ['0_to_200', 16, 'all_credits_paid_back', 'car_new', 1212, 'less_100', 'less_1', 2, 'female', 'none', 2, 'savings_insurance', 29, 'none', 'own', 1, 'skilled', 1, 'none', 'yes', 2.0, 3.0, 3.0, 0.0, 0.0, 0.0, 0.0, 0.0, 0.0, 0.0, 0.0, 1.0, 0.0, [21, [0, 1, 4, 5, 13, 14, 15, 16, 17, 18, 19, 20], [2.0, 3.0, 3.0, 1.0, 16.0, 1212.0, 2.0, 2.0, 16.0, 29.0, 1.0, 1.0]], [19.177505114162408, 0.8224948858375886], [0.9588752557081206, 0.041124744291879435], 0.0, 'No Risk'], ['no_checking', 27, 'prior_payments_delayed', 'radio_tv', 7048, 'unknown', 'greater_7', 5, 'male', 'none', 5, 'savings_insurance', 41, 'none', 'free', 2, 'management_self-employed', 1, 'yes', 'yes', 0.0, 0.0, 2.0, 4.0, 0.0, 2.0, 0.0, 2.0, 3.0, 0.0, 0.0, 0.0, 1.0, [0.0, 0.0, 3.0, 4.0, 2.0, 0.0, 0.0, 0.0, 0.0, 2.0, 2.0, 1.0, 0.0, 27.0, 7048.0, 5.0, 5.0, 27.0, 41.0, 2.0, 1.0], [9.112853306723832, 10.887146693276167], [0.4556426653361916, 0.5443573346638083], 1.0, 'Risk'], ['no_checking', 26, 'all_credits_paid_back', 'furniture', 4269, 'less_100', 'less_1', 3, 'male', 'none', 4, 'savings_insurance', 32, 'none', 'own', 1, 'management_self-employed', 1, 'none', 'yes', 0.0, 3.0, 3.0, 0.0, 0.0, 0.0, 0.0, 2.0, 1.0, 0.0, 0.0, 0.0, 0.0, [21, [1, 2, 4, 10, 13, 14, 15, 16, 17, 18, 19, 20], [3.0, 1.0, 3.0, 2.0, 26.0, 4269.0, 3.0, 4.0, 26.0, 32.0, 1.0, 1.0]], [15.10673807785842, 4.893261922141581], [0.755336903892921, 0.24466309610707904], 0.0, 'No Risk'], ['0_to_200', 27, 'credits_paid_to_date', 'radio_tv', 3983, 'less_100', '4_to_7', 4, 'male', 'none', 4, 'car_other', 38, 'none', 'own', 1, 'skilled', 1, 'none', 'yes', 2.0, 1.0, 1.0, 0.0, 0.0, 0.0, 0.0, 0.0, 3.0, 0.0, 1.0, 0.0, 0.0, [2.0, 1.0, 3.0, 0.0, 1.0, 0.0, 0.0, 1.0, 0.0, 0.0, 0.0, 0.0, 0.0, 27.0, 3983.0, 4.0, 4.0, 27.0, 38.0, 1.0, 1.0], [12.838848927495807, 7.161151072504191], [0.6419424463747904, 0.3580575536252096], 0.0, 'No Risk'], ['0_to_200', 23, 'outstanding_credit', 'business', 3897, '100_to_500', 'greater_7', 4, 'female', 'none', 3, 'savings_insurance', 47, 'none', 'own', 1, 'skilled', 1, 'yes', 'yes', 2.0, 2.0, 2.0, 1.0, 0.0, 0.0, 0.0, 0.0, 9.0, 0.0, 0.0, 1.0, 1.0, [2.0, 2.0, 9.0, 1.0, 2.0, 1.0, 0.0, 0.0, 0.0, 0.0, 0.0, 1.0, 0.0, 23.0, 3897.0, 4.0, 3.0, 23.0, 47.0, 1.0, 1.0], [11.387197739404037, 8.61280226059596], [0.569359886970202, 0.43064011302979804], 0.0, 'No Risk'], ['no_checking', 42, 'prior_payments_delayed', 'furniture', 6578, 'unknown', '4_to_7', 5, 'male', 'co-applicant', 5, 'savings_insurance', 48, 'none', 'own', 2, 'skilled', 2, 'none', 'yes', 0.0, 0.0, 1.0, 4.0, 0.0, 0.0, 0.0, 0.0, 1.0, 1.0, 0.0, 0.0, 0.0, [21, [2, 3, 4, 6, 13, 14, 15, 16, 17, 18, 19, 20], [1.0, 4.0, 1.0, 1.0, 42.0, 6578.0, 5.0, 5.0, 42.0, 48.0, 2.0, 2.0]], [8.089255970449427, 11.910744029550571], [0.40446279852247136, 0.5955372014775285], 1.0, 'Risk'], ['0_to_200', 20, 'credits_paid_to_date', 'radio_tv', 3214, 'less_100', '1_to_4', 3, 'female', 'none', 3, 'savings_insurance', 19, 'bank', 'rent', 1, 'unskilled', 1, 'none', 'yes', 2.0, 1.0, 0.0, 0.0, 0.0, 1.0, 2.0, 1.0, 3.0, 0.0, 0.0, 1.0, 0.0, [2.0, 1.0, 3.0, 0.0, 0.0, 1.0, 0.0, 0.0, 2.0, 1.0, 1.0, 0.0, 0.0, 20.0, 3214.0, 3.0, 3.0, 20.0, 19.0, 1.0, 1.0], [16.7398825844798, 3.2601174155201953], [0.8369941292239902, 0.16300587077600978], 0.0, 'No Risk'], ['0_to_200', 16, 'prior_payments_delayed', 'radio_tv', 3193, 'less_100', '1_to_4', 2, 'male', 'none', 3, 'savings_insurance', 40, 'none', 'free', 1, 'skilled', 1, 'none', 'no', 2.0, 0.0, 0.0, 0.0, 1.0, 2.0, 0.0, 0.0, 3.0, 0.0, 0.0, 0.0, 0.0, [21, [0, 2, 9, 12, 13, 14, 15, 16, 17, 18, 19, 20], [2.0, 3.0, 2.0, 1.0, 16.0, 3193.0, 2.0, 3.0, 16.0, 40.0, 1.0, 1.0]], [14.546270485360226, 5.453729514639772], [0.7273135242680113, 0.27268647573198856], 0.0, 'No Risk'], ['no_checking', 33, 'prior_payments_delayed', 'car_used', 5879, '500_to_1000', '4_to_7', 3, 'male', 'none', 4, 'car_other', 39, 'none', 'own', 1, 'skilled', 1, 'none', 'yes', 0.0, 0.0, 1.0, 2.0, 0.0, 0.0, 0.0, 0.0, 2.0, 0.0, 1.0, 0.0, 0.0, [21, [2, 3, 4, 7, 13, 14, 15, 16, 17, 18, 19, 20], [2.0, 2.0, 1.0, 1.0, 33.0, 5879.0, 3.0, 4.0, 33.0, 39.0, 1.0, 1.0]], [10.868465717273622, 9.13153428272638], [0.5434232858636812, 0.45657671413631895], 0.0, 'No Risk'], ['no_checking', 28, 'prior_payments_delayed', 'radio_tv', 4276, 'unknown', 'greater_7', 4, 'male', 'none', 4, 'car_other', 46, 'none', 'free', 2, 'skilled', 2, 'yes', 'yes', 0.0, 0.0, 2.0, 4.0, 0.0, 2.0, 0.0, 0.0, 3.0, 0.0, 1.0, 0.0, 1.0, [0.0, 0.0, 3.0, 4.0, 2.0, 0.0, 0.0, 1.0, 0.0, 2.0, 0.0, 1.0, 0.0, 28.0, 4276.0, 4.0, 4.0, 28.0, 46.0, 2.0, 2.0], [6.668819254585294, 13.331180745414704], [0.3334409627292647, 0.6665590372707352], 1.0, 'Risk'], ['no_checking', 36, 'outstanding_credit', 'appliances', 5805, 'unknown', 'greater_7', 4, 'male', 'co-applicant', 5, 'unknown', 57, 'bank', 'own', 2, 'unemployed', 2, 'yes', 'yes', 0.0, 2.0, 2.0, 4.0, 0.0, 0.0, 2.0, 3.0, 4.0, 1.0, 3.0, 0.0, 1.0, [0.0, 2.0, 4.0, 4.0, 2.0, 0.0, 1.0, 3.0, 2.0, 0.0, 3.0, 1.0, 0.0, 36.0, 5805.0, 4.0, 5.0, 36.0, 57.0, 2.0, 2.0], [3.1079110842408286, 16.892088915759174], [0.1553955542120414, 0.8446044457879586], 1.0, 'Risk'], ['no_checking', 40, 'prior_payments_delayed', 'other', 8384, '500_to_1000', 'greater_7', 5, 'male', 'co-applicant', 4, 'car_other', 47, 'none', 'free', 2, 'management_self-employed', 1, 'none', 'yes', 0.0, 0.0, 2.0, 2.0, 0.0, 2.0, 0.0, 2.0, 10.0, 1.0, 1.0, 0.0, 0.0, [0.0, 0.0, 10.0, 2.0, 2.0, 0.0, 1.0, 1.0, 0.0, 2.0, 2.0, 0.0, 0.0, 40.0, 8384.0, 5.0, 4.0, 40.0, 47.0, 2.0, 1.0], [5.73109278443688, 14.268907215563116], [0.28655463922184404, 0.7134453607781559], 1.0, 'Risk'], ['no_checking', 55, 'outstanding_credit', 'repairs', 3666, 'greater_1000', 'greater_7', 5, 'male', 'none', 3, 'car_other', 39, 'none', 'free', 1, 'skilled', 1, 'none', 'yes', 0.0, 2.0, 2.0, 3.0, 0.0, 2.0, 0.0, 0.0, 5.0, 0.0, 1.0, 0.0, 0.0, [0.0, 2.0, 5.0, 3.0, 2.0, 0.0, 0.0, 1.0, 0.0, 2.0, 0.0, 0.0, 0.0, 55.0, 3666.0, 5.0, 3.0, 55.0, 39.0, 1.0, 1.0], [9.320326523393375, 10.67967347660662], [0.46601632616966887, 0.5339836738303312], 1.0, 'Risk'], ['no_checking', 37, 'prior_payments_delayed', 'repairs', 6532, '500_to_1000', '1_to_4', 4, 'male', 'none', 5, 'car_other', 55, 'none', 'own', 2, 'management_self-employed', 2, 'yes', 'yes', 0.0, 0.0, 0.0, 2.0, 0.0, 0.0, 0.0, 2.0, 5.0, 0.0, 1.0, 0.0, 1.0, [0.0, 0.0, 5.0, 2.0, 0.0, 0.0, 0.0, 1.0, 0.0, 0.0, 2.0, 1.0, 0.0, 37.0, 6532.0, 4.0, 5.0, 37.0, 55.0, 2.0, 2.0], [10.701630409048075, 9.298369590951923], [0.5350815204524038, 0.46491847954759613], 0.0, 'No Risk'], ['no_checking', 33, 'prior_payments_delayed', 'appliances', 6068, '500_to_1000', '4_to_7', 3, 'male', 'none', 5, 'unknown', 38, 'none', 'own', 2, 'management_self-employed', 1, 'yes', 'yes', 0.0, 0.0, 1.0, 2.0, 0.0, 0.0, 0.0, 2.0, 4.0, 0.0, 3.0, 0.0, 1.0, [0.0, 0.0, 4.0, 2.0, 1.0, 0.0, 0.0, 3.0, 0.0, 0.0, 2.0, 1.0, 0.0, 33.0, 6068.0, 3.0, 5.0, 33.0, 38.0, 2.0, 1.0], [7.941957441612667, 12.05804255838733], [0.3970978720806334, 0.6029021279193666], 1.0, 'Risk'], ['less_0', 11, 'credits_paid_to_date', 'vacation', 250, 'less_100', '4_to_7', 3, 'female', 'none', 1, 'real_estate', 19, 'none', 'own', 1, 'skilled', 1, 'none', 'yes', 1.0, 1.0, 1.0, 0.0, 0.0, 0.0, 0.0, 0.0, 6.0, 0.0, 2.0, 1.0, 0.0, [1.0, 1.0, 6.0, 0.0, 1.0, 1.0, 0.0, 2.0, 0.0, 0.0, 0.0, 0.0, 0.0, 11.0, 250.0, 3.0, 1.0, 11.0, 19.0, 1.0, 1.0], [18.895399462307576, 1.1046005376924244], [0.9447699731153788, 0.05523002688462122], 0.0, 'No Risk'], ['no_checking', 39, 'outstanding_credit', 'other', 8191, 'unknown', '4_to_7', 5, 'male', 'none', 5, 'unknown', 50, 'none', 'own', 2, 'skilled', 2, 'yes', 'yes', 0.0, 2.0, 1.0, 4.0, 0.0, 0.0, 0.0, 0.0, 10.0, 0.0, 3.0, 0.0, 1.0, [0.0, 2.0, 10.0, 4.0, 1.0, 0.0, 0.0, 3.0, 0.0, 0.0, 0.0, 1.0, 0.0, 39.0, 8191.0, 5.0, 5.0, 39.0, 50.0, 2.0, 2.0], [4.917904216804282, 15.082095783195717], [0.2458952108402141, 0.7541047891597858], 1.0, 'Risk'], ['no_checking', 23, 'outstanding_credit', 'car_used', 7000, 'unknown', '4_to_7', 3, 'male', 'none', 3, 'unknown', 48, 'bank', 'own', 2, 'unskilled', 2, 'yes', 'yes', 0.0, 2.0, 1.0, 4.0, 0.0, 0.0, 2.0, 1.0, 2.0, 0.0, 3.0, 0.0, 1.0, [0.0, 2.0, 2.0, 4.0, 1.0, 0.0, 0.0, 3.0, 2.0, 0.0, 1.0, 1.0, 0.0, 23.0, 7000.0, 3.0, 3.0, 23.0, 48.0, 2.0, 2.0], [7.3719976422342475, 12.628002357765748], [0.36859988211171246, 0.6314001178882875], 1.0, 'Risk'], ['0_to_200', 25, 'credits_paid_to_date', 'radio_tv', 2255, 'less_100', '1_to_4', 2, 'male', 'co-applicant', 3, 'car_other', 36, 'none', 'rent', 1, 'skilled', 1, 'none', 'yes', 2.0, 1.0, 0.0, 0.0, 0.0, 1.0, 0.0, 0.0, 3.0, 1.0, 1.0, 0.0, 0.0, [2.0, 1.0, 3.0, 0.0, 0.0, 0.0, 1.0, 1.0, 0.0, 1.0, 0.0, 0.0, 0.0, 25.0, 2255.0, 2.0, 3.0, 25.0, 36.0, 1.0, 1.0], [13.268960441253446, 6.731039558746551], [0.6634480220626724, 0.3365519779373276], 0.0, 'No Risk'], ['0_to_200', 4, 'no_credits', 'car_used', 898, 'less_100', 'unemployed', 1, 'female', 'none', 1, 'real_estate', 19, 'none', 'rent', 1, 'management_self-employed', 1, 'none', 'yes', 2.0, 4.0, 4.0, 0.0, 0.0, 1.0, 0.0, 2.0, 2.0, 0.0, 2.0, 1.0, 0.0, [2.0, 4.0, 2.0, 0.0, 4.0, 1.0, 0.0, 2.0, 0.0, 1.0, 2.0, 0.0, 0.0, 4.0, 898.0, 1.0, 1.0, 4.0, 19.0, 1.0, 1.0], [19.533700457635863, 0.4662995423641335], [0.9766850228817934, 0.02331497711820668], 0.0, 'No Risk'], ['no_checking', 36, 'prior_payments_delayed', 'furniture', 4133, '500_to_1000', '4_to_7', 4, 'male', 'none', 3, 'savings_insurance', 31, 'none', 'own', 1, 'skilled', 2, 'none', 'yes', 0.0, 0.0, 1.0, 2.0, 0.0, 0.0, 0.0, 0.0, 1.0, 0.0, 0.0, 0.0, 0.0, [21, [2, 3, 4, 13, 14, 15, 16, 17, 18, 19, 20], [1.0, 2.0, 1.0, 36.0, 4133.0, 4.0, 3.0, 36.0, 31.0, 1.0, 2.0]], [12.107664409607523, 7.89233559039248], [0.6053832204803761, 0.39461677951962393], 0.0, 'No Risk'], ['no_checking', 25, 'prior_payments_delayed', 'car_used', 3054, '100_to_500', '1_to_4', 3, 'male', 'none', 4, 'savings_insurance', 30, 'none', 'own', 1, 'skilled', 1, 'none', 'yes', 0.0, 0.0, 0.0, 1.0, 0.0, 0.0, 0.0, 0.0, 2.0, 0.0, 0.0, 0.0, 0.0, [21, [2, 3, 13, 14, 15, 16, 17, 18, 19, 20], [2.0, 1.0, 25.0, 3054.0, 3.0, 4.0, 25.0, 30.0, 1.0, 1.0]], [13.676491581765646, 6.323508418234356], [0.6838245790882823, 0.3161754209117178], 0.0, 'No Risk'], ['less_0', 5, 'all_credits_paid_back', 'education', 250, 'less_100', 'less_1', 2, 'male', 'none', 1, 'savings_insurance', 19, 'stores', 'rent', 1, 'skilled', 1, 'none', 'yes', 1.0, 3.0, 3.0, 0.0, 0.0, 1.0, 1.0, 0.0, 7.0, 0.0, 0.0, 0.0, 0.0, [1.0, 3.0, 7.0, 0.0, 3.0, 0.0, 0.0, 0.0, 1.0, 1.0, 0.0, 0.0, 0.0, 5.0, 250.0, 2.0, 1.0, 5.0, 19.0, 1.0, 1.0], [19.39198776001573, 0.6080122399842667], [0.9695993880007867, 0.030400611999213338], 0.0, 'No Risk'], ['no_checking', 15, 'all_credits_paid_back', 'car_new', 2504, 'greater_1000', 'less_1', 3, 'female', 'co-applicant', 3, 'savings_insurance', 45, 'none', 'rent', 1, 'skilled', 1, 'none', 'yes', 0.0, 3.0, 3.0, 3.0, 0.0, 1.0, 0.0, 0.0, 0.0, 1.0, 0.0, 1.0, 0.0, [0.0, 3.0, 0.0, 3.0, 3.0, 1.0, 1.0, 0.0, 0.0, 1.0, 0.0, 0.0, 0.0, 15.0, 2504.0, 3.0, 3.0, 15.0, 45.0, 1.0, 1.0], [15.461812688933923, 4.538187311066077], [0.7730906344466961, 0.22690936555330382], 0.0, 'No Risk'], ['no_checking', 34, 'prior_payments_delayed', 'furniture', 4825, 'unknown', 'greater_7', 5, 'male', 'co-applicant', 5, 'unknown', 48, 'none', 'own', 3, 'skilled', 2, 'yes', 'no', 0.0, 0.0, 2.0, 4.0, 1.0, 0.0, 0.0, 0.0, 1.0, 1.0, 3.0, 0.0, 1.0, [0.0, 0.0, 1.0, 4.0, 2.0, 0.0, 1.0, 3.0, 0.0, 0.0, 0.0, 1.0, 1.0, 34.0, 4825.0, 5.0, 5.0, 34.0, 48.0, 3.0, 2.0], [2.3293048670951335, 17.670695132904868], [0.11646524335475668, 0.8835347566452434], 1.0, 'Risk'], ['0_to_200', 22, 'credits_paid_to_date', 'furniture', 4291, 'less_100', '4_to_7', 4, 'male', 'co-applicant', 2, 'savings_insurance', 28, 'stores', 'own', 1, 'skilled', 1, 'none', 'yes', 2.0, 1.0, 1.0, 0.0, 0.0, 0.0, 1.0, 0.0, 1.0, 1.0, 0.0, 0.0, 0.0, [2.0, 1.0, 1.0, 0.0, 1.0, 0.0, 1.0, 0.0, 1.0, 0.0, 0.0, 0.0, 0.0, 22.0, 4291.0, 4.0, 2.0, 22.0, 28.0, 1.0, 1.0], [16.441957721937342, 3.5580422780626573], [0.8220978860968671, 0.17790211390313287], 0.0, 'No Risk'], ['no_checking', 21, 'credits_paid_to_date', 'business', 4390, '100_to_500', '4_to_7', 4, 'male', 'none', 2, 'real_estate', 32, 'none', 'own', 1, 'management_self-employed', 1, 'none', 'yes', 0.0, 1.0, 1.0, 1.0, 0.0, 0.0, 0.0, 2.0, 9.0, 0.0, 2.0, 0.0, 0.0, [0.0, 1.0, 9.0, 1.0, 1.0, 0.0, 0.0, 2.0, 0.0, 0.0, 2.0, 0.0, 0.0, 21.0, 4390.0, 4.0, 2.0, 21.0, 32.0, 1.0, 1.0], [13.19042568745069, 6.809574312549312], [0.6595212843725344, 0.3404787156274656], 0.0, 'No Risk'], ['no_checking', 31, 'outstanding_credit', 'radio_tv', 6710, '500_to_1000', 'greater_7', 5, 'male', 'co-applicant', 5, 'car_other', 46, 'none', 'free', 2, 'management_self-employed', 1, 'yes', 'yes', 0.0, 2.0, 2.0, 2.0, 0.0, 2.0, 0.0, 2.0, 3.0, 1.0, 1.0, 0.0, 1.0, [0.0, 2.0, 3.0, 2.0, 2.0, 0.0, 1.0, 1.0, 0.0, 2.0, 2.0, 1.0, 0.0, 31.0, 6710.0, 5.0, 5.0, 31.0, 46.0, 2.0, 1.0], [2.72906348013226, 17.27093651986774], [0.136453174006613, 0.863546825993387], 1.0, 'Risk'], ['no_checking', 38, 'credits_paid_to_date', 'appliances', 4769, '100_to_500', '4_to_7', 4, 'male', 'none', 2, 'car_other', 43, 'none', 'own', 1, 'skilled', 1, 'none', 'yes', 0.0, 1.0, 1.0, 1.0, 0.0, 0.0, 0.0, 0.0, 4.0, 0.0, 1.0, 0.0, 0.0, [0.0, 1.0, 4.0, 1.0, 1.0, 0.0, 0.0, 1.0, 0.0, 0.0, 0.0, 0.0, 0.0, 38.0, 4769.0, 4.0, 2.0, 38.0, 43.0, 1.0, 1.0], [11.902560845229955, 8.097439154770049], [0.5951280422614976, 0.4048719577385024], 0.0, 'No Risk'], ['no_checking', 22, 'outstanding_credit', 'education', 6747, 'greater_1000', '4_to_7', 3, 'male', 'none', 4, 'unknown', 51, 'none', 'own', 2, 'management_self-employed', 1, 'none', 'yes', 0.0, 2.0, 1.0, 3.0, 0.0, 0.0, 0.0, 2.0, 7.0, 0.0, 3.0, 0.0, 0.0, [0.0, 2.0, 7.0, 3.0, 1.0, 0.0, 0.0, 3.0, 0.0, 0.0, 2.0, 0.0, 0.0, 22.0, 6747.0, 3.0, 4.0, 22.0, 51.0, 2.0, 1.0], [7.352635169307984, 12.647364830692016], [0.3676317584653992, 0.6323682415346008], 1.0, 'Risk'], ['no_checking', 43, 'outstanding_credit', 'repairs', 8894, 'greater_1000', 'greater_7', 5, 'female', 'co-applicant', 4, 'unknown', 45, 'none', 'free', 2, 'skilled', 2, 'yes', 'yes', 0.0, 2.0, 2.0, 3.0, 0.0, 2.0, 0.0, 0.0, 5.0, 1.0, 3.0, 1.0, 1.0, [0.0, 2.0, 5.0, 3.0, 2.0, 1.0, 1.0, 3.0, 0.0, 2.0, 0.0, 1.0, 0.0, 43.0, 8894.0, 5.0, 4.0, 43.0, 45.0, 2.0, 2.0], [1.828297546869468, 18.171702453130532], [0.0914148773434734, 0.9085851226565266], 1.0, 'Risk'], ['0_to_200', 27, 'outstanding_credit', 'appliances', 5649, '100_to_500', '4_to_7', 4, 'male', 'none', 2, 'car_other', 37, 'none', 'own', 1, 'skilled', 1, 'none', 'yes', 2.0, 2.0, 1.0, 1.0, 0.0, 0.0, 0.0, 0.0, 4.0, 0.0, 1.0, 0.0, 0.0, [2.0, 2.0, 4.0, 1.0, 1.0, 0.0, 0.0, 1.0, 0.0, 0.0, 0.0, 0.0, 0.0, 27.0, 5649.0, 4.0, 2.0, 27.0, 37.0, 1.0, 1.0], [14.296248777714343, 5.703751222285661], [0.714812438885717, 0.28518756111428295], 0.0, 'No Risk'], ['no_checking', 33, 'outstanding_credit', 'radio_tv', 5291, 'unknown', 'greater_7', 5, 'male', 'none', 5, 'car_other', 38, 'none', 'own', 2, 'skilled', 2, 'yes', 'yes', 0.0, 2.0, 2.0, 4.0, 0.0, 0.0, 0.0, 0.0, 3.0, 0.0, 1.0, 0.0, 1.0, [0.0, 2.0, 3.0, 4.0, 2.0, 0.0, 0.0, 1.0, 0.0, 0.0, 0.0, 1.0, 0.0, 33.0, 5291.0, 5.0, 5.0, 33.0, 38.0, 2.0, 2.0], [7.566472767385656, 12.433527232614342], [0.37832363836928284, 0.621676361630717], 1.0, 'Risk'], ['no_checking', 46, 'prior_payments_delayed', 'repairs', 5164, 'greater_1000', '4_to_7', 4, 'male', 'none', 3, 'savings_insurance', 37, 'none', 'own', 2, 'skilled', 1, 'yes', 'yes', 0.0, 0.0, 1.0, 3.0, 0.0, 0.0, 0.0, 0.0, 5.0, 0.0, 0.0, 0.0, 1.0, [21, [2, 3, 4, 11, 13, 14, 15, 16, 17, 18, 19, 20], [5.0, 3.0, 1.0, 1.0, 46.0, 5164.0, 4.0, 3.0, 46.0, 37.0, 2.0, 1.0]], [10.602609410971752, 9.39739058902825], [0.5301304705485876, 0.46986952945141247], 0.0, 'No Risk'], ['no_checking', 8, 'credits_paid_to_date', 'vacation', 2375, 'less_100', 'less_1', 3, 'female', 'none', 2, 'real_estate', 32, 'none', 'own', 1, 'management_self-employed', 1, 'none', 'yes', 0.0, 1.0, 3.0, 0.0, 0.0, 0.0, 0.0, 2.0, 6.0, 0.0, 2.0, 1.0, 0.0, [0.0, 1.0, 6.0, 0.0, 3.0, 1.0, 0.0, 2.0, 0.0, 0.0, 2.0, 0.0, 0.0, 8.0, 2375.0, 3.0, 2.0, 8.0, 32.0, 1.0, 1.0], [17.989906130707134, 2.010093869292863], [0.8994953065353568, 0.10050469346464316], 0.0, 'No Risk'], ['no_checking', 22, 'outstanding_credit', 'radio_tv', 6162, '500_to_1000', '1_to_4', 4, 'male', 'none', 5, 'car_other', 45, 'none', 'own', 2, 'management_self-employed', 1, 'yes', 'yes', 0.0, 2.0, 0.0, 2.0, 0.0, 0.0, 0.0, 2.0, 3.0, 0.0, 1.0, 0.0, 1.0, [0.0, 2.0, 3.0, 2.0, 0.0, 0.0, 0.0, 1.0, 0.0, 0.0, 2.0, 1.0, 0.0, 22.0, 6162.0, 4.0, 5.0, 22.0, 45.0, 2.0, 1.0], [10.177261735673625, 9.822738264326373], [0.5088630867836812, 0.4911369132163187], 0.0, 'No Risk'], ['less_0', 16, 'prior_payments_delayed', 'radio_tv', 250, 'less_100', 'less_1', 2, 'male', 'none', 2, 'savings_insurance', 24, 'bank', 'rent', 1, 'unemployed', 2, 'none', 'yes', 1.0, 0.0, 3.0, 0.0, 0.0, 1.0, 2.0, 3.0, 3.0, 0.0, 0.0, 0.0, 0.0, [1.0, 0.0, 3.0, 0.0, 3.0, 0.0, 0.0, 0.0, 2.0, 1.0, 3.0, 0.0, 0.0, 16.0, 250.0, 2.0, 2.0, 16.0, 24.0, 1.0, 2.0], [19.162727769190774, 0.8372722308092214], [0.9581363884595389, 0.04186361154046108], 0.0, 'No Risk'], ['less_0', 12, 'prior_payments_delayed', 'repairs', 4177, 'less_100', '1_to_4', 2, 'male', 'none', 3, 'car_other', 28, 'bank', 'rent', 1, 'unskilled', 1, 'yes', 'yes', 1.0, 0.0, 0.0, 0.0, 0.0, 1.0, 2.0, 1.0, 5.0, 0.0, 1.0, 0.0, 1.0, [1.0, 0.0, 5.0, 0.0, 0.0, 0.0, 0.0, 1.0, 2.0, 1.0, 1.0, 1.0, 0.0, 12.0, 4177.0, 2.0, 3.0, 12.0, 28.0, 1.0, 1.0], [17.282394151506765, 2.717605848493233], [0.8641197075753384, 0.13588029242466165], 0.0, 'No Risk'], ['0_to_200', 4, 'no_credits', 'repairs', 562, 'less_100', 'unemployed', 1, 'female', 'none', 2, 'real_estate', 19, 'none', 'rent', 1, 'management_self-employed', 1, 'none', 'yes', 2.0, 4.0, 4.0, 0.0, 0.0, 1.0, 0.0, 2.0, 5.0, 0.0, 2.0, 1.0, 0.0, [2.0, 4.0, 5.0, 0.0, 4.0, 1.0, 0.0, 2.0, 0.0, 1.0, 2.0, 0.0, 0.0, 4.0, 562.0, 1.0, 2.0, 4.0, 19.0, 1.0, 1.0], [19.486662130109732, 0.5133378698902659], [0.9743331065054868, 0.025666893494513298], 0.0, 'No Risk'], ['greater_200', 11, 'prior_payments_delayed', 'appliances', 1167, '100_to_500', 'greater_7', 2, 'male', 'none', 3, 'savings_insurance', 25, 'none', 'own', 1, 'skilled', 1, 'none', 'yes', 3.0, 0.0, 2.0, 1.0, 0.0, 0.0, 0.0, 0.0, 4.0, 0.0, 0.0, 0.0, 0.0, [21, [0, 2, 3, 4, 13, 14, 15, 16, 17, 18, 19, 20], [3.0, 4.0, 1.0, 2.0, 11.0, 1167.0, 2.0, 3.0, 11.0, 25.0, 1.0, 1.0]], [16.455348860331483, 3.544651139668518], [0.8227674430165741, 0.1772325569834259], 0.0, 'No Risk'], ['0_to_200', 18, 'credits_paid_to_date', 'car_new', 250, '100_to_500', 'less_1', 2, 'female', 'none', 2, 'real_estate', 19, 'stores', 'rent', 1, 'skilled', 1, 'none', 'yes', 2.0, 1.0, 3.0, 1.0, 0.0, 1.0, 1.0, 0.0, 0.0, 0.0, 2.0, 1.0, 0.0, [2.0, 1.0, 0.0, 1.0, 3.0, 1.0, 0.0, 2.0, 1.0, 1.0, 0.0, 0.0, 0.0, 18.0, 250.0, 2.0, 2.0, 18.0, 19.0, 1.0, 1.0], [19.12909381089796, 0.8709061891020409], [0.956454690544898, 0.043545309455102044], 0.0, 'No Risk'], ['no_checking', 36, 'prior_payments_delayed', 'furniture', 5372, 'unknown', '4_to_7', 4, 'male', 'none', 4, 'unknown', 51, 'none', 'own', 3, 'skilled', 2, 'yes', 'yes', 0.0, 0.0, 1.0, 4.0, 0.0, 0.0, 0.0, 0.0, 1.0, 0.0, 3.0, 0.0, 1.0, [0.0, 0.0, 1.0, 4.0, 1.0, 0.0, 0.0, 3.0, 0.0, 0.0, 0.0, 1.0, 0.0, 36.0, 5372.0, 4.0, 4.0, 36.0, 51.0, 3.0, 2.0], [6.0403610069238605, 13.959638993076139], [0.302018050346193, 0.6979819496538069], 1.0, 'Risk'], ['0_to_200', 19, 'credits_paid_to_date', 'furniture', 5592, '500_to_1000', 'less_1', 3, 'female', 'none', 2, 'unknown', 32, 'none', 'own', 2, 'skilled', 2, 'none', 'yes', 2.0, 1.0, 3.0, 2.0, 0.0, 0.0, 0.0, 0.0, 1.0, 0.0, 3.0, 1.0, 0.0, [2.0, 1.0, 1.0, 2.0, 3.0, 1.0, 0.0, 3.0, 0.0, 0.0, 0.0, 0.0, 0.0, 19.0, 5592.0, 3.0, 2.0, 19.0, 32.0, 2.0, 2.0], [15.038050214020751, 4.961949785979251], [0.7519025107010374, 0.24809748929896253], 0.0, 'No Risk'], ['0_to_200', 17, 'credits_paid_to_date', 'car_used', 1565, 'less_100', '1_to_4', 3, 'male', 'none', 2, 'real_estate', 24, 'stores', 'rent', 1, 'unskilled', 1, 'yes', 'yes', 2.0, 1.0, 0.0, 0.0, 0.0, 1.0, 1.0, 1.0, 2.0, 0.0, 2.0, 0.0, 1.0, [2.0, 1.0, 2.0, 0.0, 0.0, 0.0, 0.0, 2.0, 1.0, 1.0, 1.0, 1.0, 0.0, 17.0, 1565.0, 3.0, 2.0, 17.0, 24.0, 1.0, 1.0], [18.50142886302808, 1.498571136971918], [0.9250714431514041, 0.0749285568485959], 0.0, 'No Risk'], ['less_0', 4, 'credits_paid_to_date', 'car_new', 250, 'less_100', 'less_1', 1, 'female', 'co-applicant', 1, 'real_estate', 28, 'stores', 'rent', 1, 'skilled', 1, 'none', 'yes', 1.0, 1.0, 3.0, 0.0, 0.0, 1.0, 1.0, 0.0, 0.0, 1.0, 2.0, 1.0, 0.0, [1.0, 1.0, 0.0, 0.0, 3.0, 1.0, 1.0, 2.0, 1.0, 1.0, 0.0, 0.0, 0.0, 4.0, 250.0, 1.0, 1.0, 4.0, 28.0, 1.0, 1.0], [19.49662233388652, 0.503377666113474], [0.9748311166943264, 0.025168883305673708], 0.0, 'No Risk'], ['0_to_200', 32, 'prior_payments_delayed', 'radio_tv', 3451, 'greater_1000', '4_to_7', 3, 'male', 'none', 2, 'savings_insurance', 33, 'stores', 'own', 2, 'unskilled', 1, 'yes', 'yes', 2.0, 0.0, 1.0, 3.0, 0.0, 0.0, 1.0, 1.0, 3.0, 0.0, 0.0, 0.0, 1.0, [2.0, 0.0, 3.0, 3.0, 1.0, 0.0, 0.0, 0.0, 1.0, 0.0, 1.0, 1.0, 0.0, 32.0, 3451.0, 3.0, 2.0, 32.0, 33.0, 2.0, 1.0], [14.070112998030424, 5.929887001969578], [0.7035056499015211, 0.29649435009847885], 0.0, 'No Risk'], ['less_0', 16, 'credits_paid_to_date', 'furniture', 1365, 'less_100', 'less_1', 2, 'female', 'none', 3, 'savings_insurance', 32, 'none', 'rent', 1, 'skilled', 1, 'none', 'yes', 1.0, 1.0, 3.0, 0.0, 0.0, 1.0, 0.0, 0.0, 1.0, 0.0, 0.0, 1.0, 0.0, [1.0, 1.0, 1.0, 0.0, 3.0, 1.0, 0.0, 0.0, 0.0, 1.0, 0.0, 0.0, 0.0, 16.0, 1365.0, 2.0, 3.0, 16.0, 32.0, 1.0, 1.0], [17.39456594282464, 2.6054340571753554], [0.8697282971412322, 0.1302717028587678], 0.0, 'No Risk'], ['0_to_200', 4, 'all_credits_paid_back', 'appliances', 2436, 'less_100', '1_to_4', 3, 'male', 'none', 2, 'savings_insurance', 31, 'none', 'own', 1, 'management_self-employed', 1, 'none', 'yes', 2.0, 3.0, 0.0, 0.0, 0.0, 0.0, 0.0, 2.0, 4.0, 0.0, 0.0, 0.0, 0.0, [21, [0, 1, 2, 10, 13, 14, 15, 16, 17, 18, 19, 20], [2.0, 3.0, 4.0, 2.0, 4.0, 2436.0, 3.0, 2.0, 4.0, 31.0, 1.0, 1.0]], [18.731642629557772, 1.2683573704422269], [0.9365821314778886, 0.06341786852211134], 0.0, 'No Risk'], ['no_checking', 25, 'prior_payments_delayed', 'furniture', 5153, '500_to_1000', '1_to_4', 4, 'male', 'none', 4, 'unknown', 41, 'none', 'own', 1, 'management_self-employed', 2, 'yes', 'yes', 0.0, 0.0, 0.0, 2.0, 0.0, 0.0, 0.0, 2.0, 1.0, 0.0, 3.0, 0.0, 1.0, [0.0, 0.0, 1.0, 2.0, 0.0, 0.0, 0.0, 3.0, 0.0, 0.0, 2.0, 1.0, 0.0, 25.0, 5153.0, 4.0, 4.0, 25.0, 41.0, 1.0, 2.0], [12.320549623077035, 7.679450376922965], [0.6160274811538518, 0.38397251884614825], 0.0, 'No Risk'], ['less_0', 11, 'prior_payments_delayed', 'furniture', 250, '100_to_500', '1_to_4', 2, 'male', 'none', 1, 'real_estate', 19, 'stores', 'rent', 1, 'skilled', 1, 'none', 'yes', 1.0, 0.0, 0.0, 1.0, 0.0, 1.0, 1.0, 0.0, 1.0, 0.0, 2.0, 0.0, 0.0, [1.0, 0.0, 1.0, 1.0, 0.0, 0.0, 0.0, 2.0, 1.0, 1.0, 0.0, 0.0, 0.0, 11.0, 250.0, 2.0, 1.0, 11.0, 19.0, 1.0, 1.0], [18.988817597110767, 1.0111824028892316], [0.9494408798555384, 0.05055912014446158], 0.0, 'No Risk'], ['0_to_200', 16, 'credits_paid_to_date', 'furniture', 1219, 'less_100', 'unemployed', 2, 'female', 'none', 1, 'real_estate', 30, 'none', 'own', 1, 'skilled', 1, 'none', 'yes', 2.0, 1.0, 4.0, 0.0, 0.0, 0.0, 0.0, 0.0, 1.0, 0.0, 2.0, 1.0, 0.0, [2.0, 1.0, 1.0, 0.0, 4.0, 1.0, 0.0, 2.0, 0.0, 0.0, 0.0, 0.0, 0.0, 16.0, 1219.0, 2.0, 1.0, 16.0, 30.0, 1.0, 1.0], [18.997060442686823, 1.0029395573131774], [0.9498530221343412, 0.05014697786565887], 0.0, 'No Risk'], ['less_0', 4, 'all_credits_paid_back', 'car_new', 250, 'less_100', '1_to_4', 2, 'female', 'none', 1, 'real_estate', 19, 'none', 'own', 1, 'skilled', 1, 'none', 'yes', 1.0, 3.0, 0.0, 0.0, 0.0, 0.0, 0.0, 0.0, 0.0, 0.0, 2.0, 1.0, 0.0, [21, [0, 1, 5, 7, 13, 14, 15, 16, 17, 18, 19, 20], [1.0, 3.0, 1.0, 2.0, 4.0, 250.0, 2.0, 1.0, 4.0, 19.0, 1.0, 1.0]], [19.27884257645411, 0.7211574235458911], [0.9639421288227055, 0.03605787117729455], 0.0, 'No Risk'], ['no_checking', 47, 'outstanding_credit', 'repairs', 10786, 'unknown', 'greater_7', 6, 'female', 'co-applicant', 5, 'unknown', 43, 'none', 'free', 2, 'management_self-employed', 2, 'yes', 'yes', 0.0, 2.0, 2.0, 4.0, 0.0, 2.0, 0.0, 2.0, 5.0, 1.0, 3.0, 1.0, 1.0, [0.0, 2.0, 5.0, 4.0, 2.0, 1.0, 1.0, 3.0, 0.0, 2.0, 2.0, 1.0, 0.0, 47.0, 10786.0, 6.0, 5.0, 47.0, 43.0, 2.0, 2.0], [2.486134043016194, 17.513865956983807], [0.1243067021508097, 0.8756932978491904], 1.0, 'Risk'], ['greater_200', 17, 'credits_paid_to_date', 'car_used', 750, 'less_100', '4_to_7', 3, 'male', 'none', 3, 'real_estate', 23, 'none', 'own', 1, 'management_self-employed', 1, 'none', 'yes', 3.0, 1.0, 1.0, 0.0, 0.0, 0.0, 0.0, 2.0, 2.0, 0.0, 2.0, 0.0, 0.0, [3.0, 1.0, 2.0, 0.0, 1.0, 0.0, 0.0, 2.0, 0.0, 0.0, 2.0, 0.0, 0.0, 17.0, 750.0, 3.0, 3.0, 17.0, 23.0, 1.0, 1.0], [17.621319483220447, 2.3786805167795526], [0.8810659741610223, 0.11893402583897764], 0.0, 'No Risk'], ['no_checking', 27, 'prior_payments_delayed', 'appliances', 2202, '100_to_500', '1_to_4', 3, 'female', 'none', 4, 'savings_insurance', 49, 'none', 'own', 1, 'skilled', 1, 'yes', 'yes', 0.0, 0.0, 0.0, 1.0, 0.0, 0.0, 0.0, 0.0, 4.0, 0.0, 0.0, 1.0, 1.0, [21, [2, 3, 5, 11, 13, 14, 15, 16, 17, 18, 19, 20], [4.0, 1.0, 1.0, 1.0, 27.0, 2202.0, 3.0, 4.0, 27.0, 49.0, 1.0, 1.0]], [10.584029873421462, 9.41597012657854], [0.5292014936710732, 0.47079850632892695], 0.0, 'No Risk'], ['less_0', 9, 'all_credits_paid_back', 'car_used', 2688, 'less_100', '1_to_4', 3, 'female', 'none', 2, 'car_other', 29, 'none', 'own', 1, 'skilled', 1, 'none', 'yes', 1.0, 3.0, 0.0, 0.0, 0.0, 0.0, 0.0, 0.0, 2.0, 0.0, 1.0, 1.0, 0.0, [1.0, 3.0, 2.0, 0.0, 0.0, 1.0, 0.0, 1.0, 0.0, 0.0, 0.0, 0.0, 0.0, 9.0, 2688.0, 3.0, 2.0, 9.0, 29.0, 1.0, 1.0], [17.965140341832164, 2.0348596581678366], [0.8982570170916082, 0.10174298290839183], 0.0, 'No Risk'], ['less_0', 12, 'no_credits', 'education', 1940, 'less_100', 'less_1', 2, 'female', 'none', 1, 'real_estate', 19, 'none', 'rent', 1, 'skilled', 1, 'none', 'yes', 1.0, 4.0, 3.0, 0.0, 0.0, 1.0, 0.0, 0.0, 7.0, 0.0, 2.0, 1.0, 0.0, [1.0, 4.0, 7.0, 0.0, 3.0, 1.0, 0.0, 2.0, 0.0, 1.0, 0.0, 0.0, 0.0, 12.0, 1940.0, 2.0, 1.0, 12.0, 19.0, 1.0, 1.0], [19.56994984055034, 0.4300501594496605], [0.978497492027517, 0.021502507972483025], 0.0, 'No Risk'], ['less_0', 8, 'all_credits_paid_back', 'car_used', 775, 'less_100', 'unemployed', 2, 'male', 'none', 2, 'savings_insurance', 19, 'none', 'rent', 1, 'management_self-employed', 1, 'none', 'yes', 1.0, 3.0, 4.0, 0.0, 0.0, 1.0, 0.0, 2.0, 2.0, 0.0, 0.0, 0.0, 0.0, [1.0, 3.0, 2.0, 0.0, 4.0, 0.0, 0.0, 0.0, 0.0, 1.0, 2.0, 0.0, 0.0, 8.0, 775.0, 2.0, 2.0, 8.0, 19.0, 1.0, 1.0], [19.479658618232452, 0.5203413817675409], [0.973982930911623, 0.026017069088377053], 0.0, 'No Risk'], ['less_0', 9, 'all_credits_paid_back', 'car_used', 250, 'less_100', '1_to_4', 2, 'female', 'none', 2, 'savings_insurance', 29, 'none', 'rent', 1, 'skilled', 1, 'none', 'yes', 1.0, 3.0, 0.0, 0.0, 0.0, 1.0, 0.0, 0.0, 2.0, 0.0, 0.0, 1.0, 0.0, [1.0, 3.0, 2.0, 0.0, 0.0, 1.0, 0.0, 0.0, 0.0, 1.0, 0.0, 0.0, 0.0, 9.0, 250.0, 2.0, 2.0, 9.0, 29.0, 1.0, 1.0], [18.701173378647916, 1.2988266213520834], [0.9350586689323958, 0.06494133106760416], 0.0, 'No Risk'], ['0_to_200', 4, 'all_credits_paid_back', 'repairs', 611, '100_to_500', 'less_1', 2, 'female', 'none', 2, 'savings_insurance', 19, 'none', 'rent', 1, 'skilled', 1, 'none', 'yes', 2.0, 3.0, 3.0, 1.0, 0.0, 1.0, 0.0, 0.0, 5.0, 0.0, 0.0, 1.0, 0.0, [2.0, 3.0, 5.0, 1.0, 3.0, 1.0, 0.0, 0.0, 0.0, 1.0, 0.0, 0.0, 0.0, 4.0, 611.0, 2.0, 2.0, 4.0, 19.0, 1.0, 1.0], [19.34696579263248, 0.6530342073675122], [0.9673482896316244, 0.03265171036837562], 0.0, 'No Risk'], ['no_checking', 35, 'outstanding_credit', 'other', 7553, '500_to_1000', 'greater_7', 5, 'male', 'none', 5, 'unknown', 49, 'none', 'free', 2, 'skilled', 1, 'yes', 'yes', 0.0, 2.0, 2.0, 2.0, 0.0, 2.0, 0.0, 0.0, 10.0, 0.0, 3.0, 0.0, 1.0, [0.0, 2.0, 10.0, 2.0, 2.0, 0.0, 0.0, 3.0, 0.0, 2.0, 0.0, 1.0, 0.0, 35.0, 7553.0, 5.0, 5.0, 35.0, 49.0, 2.0, 1.0], [3.2171818040200306, 16.78281819597997], [0.16085909020100153, 0.8391409097989986], 1.0, 'Risk'], ['0_to_200', 20, 'credits_paid_to_date', 'furniture', 4638, '500_to_1000', '1_to_4', 2, 'male', 'none', 4, 'car_other', 32, 'none', 'own', 2, 'skilled', 1, 'yes', 'yes', 2.0, 1.0, 0.0, 2.0, 0.0, 0.0, 0.0, 0.0, 1.0, 0.0, 1.0, 0.0, 1.0, [2.0, 1.0, 1.0, 2.0, 0.0, 0.0, 0.0, 1.0, 0.0, 0.0, 0.0, 1.0, 0.0, 20.0, 4638.0, 2.0, 4.0, 20.0, 32.0, 2.0, 1.0], [12.446736149826817, 7.553263850173181], [0.6223368074913409, 0.37766319250865904], 0.0, 'No Risk'], ['no_checking', 29, 'prior_payments_delayed', 'car_used', 5081, '100_to_500', 'greater_7', 4, 'male', 'none', 3, 'car_other', 51, 'none', 'free', 2, 'management_self-employed', 2, 'yes', 'yes', 0.0, 0.0, 2.0, 1.0, 0.0, 2.0, 0.0, 2.0, 2.0, 0.0, 1.0, 0.0, 1.0, [0.0, 0.0, 2.0, 1.0, 2.0, 0.0, 0.0, 1.0, 0.0, 2.0, 2.0, 1.0, 0.0, 29.0, 5081.0, 4.0, 3.0, 29.0, 51.0, 2.0, 2.0], [5.723542419548318, 14.276457580451682], [0.2861771209774159, 0.7138228790225841], 1.0, 'Risk'], ['0_to_200', 4, 'prior_payments_delayed', 'car_new', 2104, 'less_100', 'less_1', 2, 'female', 'none', 3, 'savings_insurance', 39, 'none', 'own', 1, 'skilled', 1, 'none', 'yes', 2.0, 0.0, 3.0, 0.0, 0.0, 0.0, 0.0, 0.0, 0.0, 0.0, 0.0, 1.0, 0.0, [21, [0, 4, 5, 13, 14, 15, 16, 17, 18, 19, 20], [2.0, 3.0, 1.0, 4.0, 2104.0, 2.0, 3.0, 4.0, 39.0, 1.0, 1.0]], [16.76464599833409, 3.2353540016659084], [0.8382322999167046, 0.16176770008329544], 0.0, 'No Risk'], ['less_0', 31, 'all_credits_paid_back', 'radio_tv', 870, '500_to_1000', 'less_1', 3, 'female', 'none', 1, 'real_estate', 24, 'stores', 'own', 2, 'skilled', 1, 'none', 'yes', 1.0, 3.0, 3.0, 2.0, 0.0, 0.0, 1.0, 0.0, 3.0, 0.0, 2.0, 1.0, 0.0, [1.0, 3.0, 3.0, 2.0, 3.0, 1.0, 0.0, 2.0, 1.0, 0.0, 0.0, 0.0, 0.0, 31.0, 870.0, 3.0, 1.0, 31.0, 24.0, 2.0, 1.0], [17.66684171681172, 2.3331582831882782], [0.883342085840586, 0.11665791415941391], 0.0, 'No Risk'], ['no_checking', 34, 'outstanding_credit', 'furniture', 5536, 'unknown', 'greater_7', 3, 'male', 'co-applicant', 3, 'unknown', 56, 'none', 'own', 2, 'skilled', 2, 'yes', 'yes', 0.0, 2.0, 2.0, 4.0, 0.0, 0.0, 0.0, 0.0, 1.0, 1.0, 3.0, 0.0, 1.0, [0.0, 2.0, 1.0, 4.0, 2.0, 0.0, 1.0, 3.0, 0.0, 0.0, 0.0, 1.0, 0.0, 34.0, 5536.0, 3.0, 3.0, 34.0, 56.0, 2.0, 2.0], [2.0111698223354737, 17.988830177664525], [0.10055849111677369, 0.8994415088832263], 1.0, 'Risk'], ['greater_200', 13, 'credits_paid_to_date', 'car_new', 4074, 'less_100', 'less_1', 2, 'male', 'none', 3, 'savings_insurance', 26, 'stores', 'own', 1, 'skilled', 1, 'none', 'yes', 3.0, 1.0, 3.0, 0.0, 0.0, 0.0, 1.0, 0.0, 0.0, 0.0, 0.0, 0.0, 0.0, [21, [0, 1, 4, 8, 13, 14, 15, 16, 17, 18, 19, 20], [3.0, 1.0, 3.0, 1.0, 13.0, 4074.0, 2.0, 3.0, 13.0, 26.0, 1.0, 1.0]], [18.713600720798897, 1.2863992792010994], [0.935680036039945, 0.06431996396005499], 0.0, 'No Risk'], ['greater_200', 31, 'prior_payments_delayed', 'car_used', 4957, '100_to_500', '4_to_7', 4, 'male', 'none', 3, 'savings_insurance', 20, 'none', 'own', 1, 'skilled', 2, 'none', 'yes', 3.0, 0.0, 1.0, 1.0, 0.0, 0.0, 0.0, 0.0, 2.0, 0.0, 0.0, 0.0, 0.0, [21, [0, 2, 3, 4, 13, 14, 15, 16, 17, 18, 19, 20], [3.0, 2.0, 1.0, 1.0, 31.0, 4957.0, 4.0, 3.0, 31.0, 20.0, 1.0, 2.0]], [14.302577790980054, 5.697422209019948], [0.7151288895490027, 0.2848711104509974], 0.0, 'No Risk'], ['no_checking', 20, 'outstanding_credit', 'appliances', 5474, '500_to_1000', '4_to_7', 4, 'female', 'none', 2, 'car_other', 52, 'none', 'own', 1, 'skilled', 1, 'none', 'yes', 0.0, 2.0, 1.0, 2.0, 0.0, 0.0, 0.0, 0.0, 4.0, 0.0, 1.0, 1.0, 0.0, [0.0, 2.0, 4.0, 2.0, 1.0, 1.0, 0.0, 1.0, 0.0, 0.0, 0.0, 0.0, 0.0, 20.0, 5474.0, 4.0, 2.0, 20.0, 52.0, 1.0, 1.0], [10.155911533884046, 9.844088466115952], [0.5077955766942023, 0.4922044233057976], 0.0, 'No Risk'], ['no_checking', 57, 'outstanding_credit', 'appliances', 9246, 'unknown', 'greater_7', 6, 'male', 'co-applicant', 5, 'unknown', 52, 'none', 'own', 2, 'skilled', 2, 'yes', 'yes', 0.0, 2.0, 2.0, 4.0, 0.0, 0.0, 0.0, 0.0, 4.0, 1.0, 3.0, 0.0, 1.0, [0.0, 2.0, 4.0, 4.0, 2.0, 0.0, 1.0, 3.0, 0.0, 0.0, 0.0, 1.0, 0.0, 57.0, 9246.0, 6.0, 5.0, 57.0, 52.0, 2.0, 2.0], [1.515425546798896, 18.484574453201105], [0.07577127733994479, 0.9242287226600553], 1.0, 'Risk'], ['0_to_200', 15, 'prior_payments_delayed', 'furniture', 3908, '500_to_1000', '1_to_4', 3, 'male', 'co-applicant', 4, 'savings_insurance', 45, 'none', 'free', 1, 'skilled', 1, 'yes', 'yes', 2.0, 0.0, 0.0, 2.0, 0.0, 2.0, 0.0, 0.0, 1.0, 1.0, 0.0, 0.0, 1.0, [2.0, 0.0, 1.0, 2.0, 0.0, 0.0, 1.0, 0.0, 0.0, 2.0, 0.0, 1.0, 0.0, 15.0, 3908.0, 3.0, 4.0, 15.0, 45.0, 1.0, 1.0], [11.949521755921905, 8.050478244078091], [0.5974760877960954, 0.4025239122039046], 0.0, 'No Risk'], ['no_checking', 34, 'prior_payments_delayed', 'appliances', 5094, 'unknown', '4_to_7', 4, 'male', 'none', 3, 'car_other', 42, 'bank', 'own', 2, 'unemployed', 2, 'yes', 'yes', 0.0, 0.0, 1.0, 4.0, 0.0, 0.0, 2.0, 3.0, 4.0, 0.0, 1.0, 0.0, 1.0, [0.0, 0.0, 4.0, 4.0, 1.0, 0.0, 0.0, 1.0, 2.0, 0.0, 3.0, 1.0, 0.0, 34.0, 5094.0, 4.0, 3.0, 34.0, 42.0, 2.0, 2.0], [10.201190186899673, 9.798809813100327], [0.5100595093449837, 0.4899404906550163], 0.0, 'No Risk'], ['no_checking', 22, 'prior_payments_delayed', 'education', 6062, '100_to_500', 'greater_7', 5, 'male', 'none', 4, 'car_other', 33, 'none', 'own', 1, 'management_self-employed', 1, 'none', 'yes', 0.0, 0.0, 2.0, 1.0, 0.0, 0.0, 0.0, 2.0, 7.0, 0.0, 1.0, 0.0, 0.0, [0.0, 0.0, 7.0, 1.0, 2.0, 0.0, 0.0, 1.0, 0.0, 0.0, 2.0, 0.0, 0.0, 22.0, 6062.0, 5.0, 4.0, 22.0, 33.0, 1.0, 1.0], [10.409442733265765, 9.590557266734239], [0.5204721366632882, 0.4795278633367118], 0.0, 'No Risk'], ['less_0', 12, 'all_credits_paid_back', 'furniture', 531, 'less_100', 'less_1', 1, 'female', 'none', 2, 'real_estate', 23, 'stores', 'rent', 1, 'skilled', 1, 'none', 'yes', 1.0, 3.0, 3.0, 0.0, 0.0, 1.0, 1.0, 0.0, 1.0, 0.0, 2.0, 1.0, 0.0, [1.0, 3.0, 1.0, 0.0, 3.0, 1.0, 0.0, 2.0, 1.0, 1.0, 0.0, 0.0, 0.0, 12.0, 531.0, 1.0, 2.0, 12.0, 23.0, 1.0, 1.0], [19.455678934202865, 0.5443210657971324], [0.9727839467101435, 0.027216053289856622], 0.0, 'No Risk'], ['0_to_200', 14, 'prior_payments_delayed', 'furniture', 5960, 'greater_1000', '4_to_7', 3, 'male', 'none', 3, 'savings_insurance', 35, 'bank', 'own', 2, 'unskilled', 1, 'yes', 'yes', 2.0, 0.0, 1.0, 3.0, 0.0, 0.0, 2.0, 1.0, 1.0, 0.0, 0.0, 0.0, 1.0, [2.0, 0.0, 1.0, 3.0, 1.0, 0.0, 0.0, 0.0, 2.0, 0.0, 1.0, 1.0, 0.0, 14.0, 5960.0, 3.0, 3.0, 14.0, 35.0, 2.0, 1.0], [14.017130822616329, 5.9828691773836695], [0.7008565411308164, 0.2991434588691835], 0.0, 'No Risk'], ['0_to_200', 16, 'prior_payments_delayed', 'radio_tv', 1926, '500_to_1000', '4_to_7', 3, 'male', 'none', 2, 'savings_insurance', 45, 'bank', 'own', 1, 'unskilled', 1, 'yes', 'yes', 2.0, 0.0, 1.0, 2.0, 0.0, 0.0, 2.0, 1.0, 3.0, 0.0, 0.0, 0.0, 1.0, [2.0, 0.0, 3.0, 2.0, 1.0, 0.0, 0.0, 0.0, 2.0, 0.0, 1.0, 1.0, 0.0, 16.0, 1926.0, 3.0, 2.0, 16.0, 45.0, 1.0, 1.0], [15.286494647950502, 4.7135053520494985], [0.7643247323975251, 0.23567526760247492], 0.0, 'No Risk'], ['0_to_200', 4, 'credits_paid_to_date', 'car_new', 250, 'less_100', '4_to_7', 3, 'male', 'none', 2, 'real_estate', 19, 'none', 'own', 1, 'management_self-employed', 1, 'none', 'yes', 2.0, 1.0, 1.0, 0.0, 0.0, 0.0, 0.0, 2.0, 0.0, 0.0, 2.0, 0.0, 0.0, [2.0, 1.0, 0.0, 0.0, 1.0, 0.0, 0.0, 2.0, 0.0, 0.0, 2.0, 0.0, 0.0, 4.0, 250.0, 3.0, 2.0, 4.0, 19.0, 1.0, 1.0], [18.618968216210995, 1.3810317837890063], [0.9309484108105497, 0.06905158918945031], 0.0, 'No Risk'], ['no_checking', 24, 'outstanding_credit', 'radio_tv', 5230, '500_to_1000', '1_to_4', 4, 'male', 'none', 5, 'car_other', 50, 'none', 'free', 2, 'management_self-employed', 2, 'yes', 'yes', 0.0, 2.0, 0.0, 2.0, 0.0, 2.0, 0.0, 2.0, 3.0, 0.0, 1.0, 0.0, 1.0, [0.0, 2.0, 3.0, 2.0, 0.0, 0.0, 0.0, 1.0, 0.0, 2.0, 2.0, 1.0, 0.0, 24.0, 5230.0, 4.0, 5.0, 24.0, 50.0, 2.0, 2.0], [10.332517574433947, 9.667482425566051], [0.5166258787216973, 0.4833741212783026], 0.0, 'No Risk'], ['0_to_200', 31, 'credits_paid_to_date', 'car_used', 4044, '100_to_500', '1_to_4', 2, 'male', 'none', 2, 'savings_insurance', 28, 'none', 'own', 1, 'skilled', 1, 'yes', 'yes', 2.0, 1.0, 0.0, 1.0, 0.0, 0.0, 0.0, 0.0, 2.0, 0.0, 0.0, 0.0, 1.0, [2.0, 1.0, 2.0, 1.0, 0.0, 0.0, 0.0, 0.0, 0.0, 0.0, 0.0, 1.0, 0.0, 31.0, 4044.0, 2.0, 2.0, 31.0, 28.0, 1.0, 1.0], [16.347489787777818, 3.652510212222183], [0.8173744893888909, 0.18262551061110915], 0.0, 'No Risk'], ['less_0', 10, 'all_credits_paid_back', 'car_new', 250, 'less_100', '1_to_4', 2, 'female', 'none', 2, 'real_estate', 26, 'stores', 'rent', 1, 'skilled', 1, 'none', 'yes', 1.0, 3.0, 0.0, 0.0, 0.0, 1.0, 1.0, 0.0, 0.0, 0.0, 2.0, 1.0, 0.0, [1.0, 3.0, 0.0, 0.0, 0.0, 1.0, 0.0, 2.0, 1.0, 1.0, 0.0, 0.0, 0.0, 10.0, 250.0, 2.0, 2.0, 10.0, 26.0, 1.0, 1.0], [19.307970491927712, 0.6920295080722856], [0.9653985245963858, 0.03460147540361429], 0.0, 'No Risk'], ['0_to_200', 9, 'all_credits_paid_back', 'car_used', 1310, 'less_100', '4_to_7', 3, 'female', 'none', 2, 'savings_insurance', 29, 'none', 'own', 1, 'skilled', 1, 'none', 'yes', 2.0, 3.0, 1.0, 0.0, 0.0, 0.0, 0.0, 0.0, 2.0, 0.0, 0.0, 1.0, 0.0, [2.0, 3.0, 2.0, 0.0, 1.0, 1.0, 0.0, 0.0, 0.0, 0.0, 0.0, 0.0, 0.0, 9.0, 1310.0, 3.0, 2.0, 9.0, 29.0, 1.0, 1.0], [17.669381451261163, 2.330618548738835], [0.8834690725630582, 0.11653092743694175], 0.0, 'No Risk'], ['no_checking', 26, 'prior_payments_delayed', 'appliances', 2133, 'unknown', 'greater_7', 3, 'male', 'none', 4, 'car_other', 34, 'bank', 'own', 1, 'unskilled', 1, 'yes', 'yes', 0.0, 0.0, 2.0, 4.0, 0.0, 0.0, 2.0, 1.0, 4.0, 0.0, 1.0, 0.0, 1.0, [0.0, 0.0, 4.0, 4.0, 2.0, 0.0, 0.0, 1.0, 2.0, 0.0, 1.0, 1.0, 0.0, 26.0, 2133.0, 3.0, 4.0, 26.0, 34.0, 1.0, 1.0], [10.894283396323866, 9.105716603676134], [0.5447141698161932, 0.4552858301838067], 0.0, 'No Risk'], ['less_0', 4, 'credits_paid_to_date', 'car_new', 250, '100_to_500', 'less_1', 1, 'female', 'none', 1, 'real_estate', 19, 'bank', 'rent', 1, 'unskilled', 1, 'none', 'yes', 1.0, 1.0, 3.0, 1.0, 0.0, 1.0, 2.0, 1.0, 0.0, 0.0, 2.0, 1.0, 0.0, [1.0, 1.0, 0.0, 1.0, 3.0, 1.0, 0.0, 2.0, 2.0, 1.0, 1.0, 0.0, 0.0, 4.0, 250.0, 1.0, 1.0, 4.0, 19.0, 1.0, 1.0], [19.57905230011179, 0.4209476998882057], [0.9789526150055897, 0.02104738499441029], 0.0, 'No Risk'], ['less_0', 17, 'credits_paid_to_date', 'car_new', 3956, 'less_100', 'less_1', 1, 'female', 'none', 2, 'real_estate', 23, 'none', 'own', 1, 'skilled', 1, 'none', 'yes', 1.0, 1.0, 3.0, 0.0, 0.0, 0.0, 0.0, 0.0, 0.0, 0.0, 2.0, 1.0, 0.0, [1.0, 1.0, 0.0, 0.0, 3.0, 1.0, 0.0, 2.0, 0.0, 0.0, 0.0, 0.0, 0.0, 17.0, 3956.0, 1.0, 2.0, 17.0, 23.0, 1.0, 1.0], [19.296432195448837, 0.7035678045511601], [0.964821609772442, 0.03517839022755801], 0.0, 'No Risk'], ['0_to_200', 16, 'prior_payments_delayed', 'furniture', 3556, '500_to_1000', '1_to_4', 2, 'female', 'none', 2, 'unknown', 38, 'stores', 'own', 2, 'skilled', 1, 'none', 'yes', 2.0, 0.0, 0.0, 2.0, 0.0, 0.0, 1.0, 0.0, 1.0, 0.0, 3.0, 1.0, 0.0, [2.0, 0.0, 1.0, 2.0, 0.0, 1.0, 0.0, 3.0, 1.0, 0.0, 0.0, 0.0, 0.0, 16.0, 3556.0, 2.0, 2.0, 16.0, 38.0, 2.0, 1.0], [14.494139320291067, 5.505860679708936], [0.7247069660145532, 0.27529303398544674], 0.0, 'No Risk'], ['less_0', 15, 'credits_paid_to_date', 'car_new', 2186, 'less_100', '4_to_7', 3, 'male', 'co-applicant', 2, 'savings_insurance', 44, 'none', 'own', 1, 'skilled', 1, 'yes', 'yes', 1.0, 1.0, 1.0, 0.0, 0.0, 0.0, 0.0, 0.0, 0.0, 1.0, 0.0, 0.0, 1.0, [1.0, 1.0, 0.0, 0.0, 1.0, 0.0, 1.0, 0.0, 0.0, 0.0, 0.0, 1.0, 0.0, 15.0, 2186.0, 3.0, 2.0, 15.0, 44.0, 1.0, 1.0], [16.428619421608655, 3.571380578391344], [0.8214309710804327, 0.17856902891956722], 0.0, 'No Risk'], ['no_checking', 22, 'prior_payments_delayed', 'radio_tv', 3724, '500_to_1000', '1_to_4', 3, 'male', 'none', 2, 'real_estate', 30, 'none', 'own', 2, 'skilled', 1, 'yes', 'yes', 0.0, 0.0, 0.0, 2.0, 0.0, 0.0, 0.0, 0.0, 3.0, 0.0, 2.0, 0.0, 1.0, [21, [2, 3, 7, 11, 13, 14, 15, 16, 17, 18, 19, 20], [3.0, 2.0, 2.0, 1.0, 22.0, 3724.0, 3.0, 2.0, 22.0, 30.0, 2.0, 1.0]], [13.761764674646988, 6.238235325353013], [0.6880882337323494, 0.31191176626765066], 0.0, 'No Risk'], ['no_checking', 24, 'outstanding_credit', 'radio_tv', 4845, 'unknown', '4_to_7', 4, 'male', 'none', 3, 'car_other', 55, 'none', 'own', 2, 'skilled', 2, 'yes', 'yes', 0.0, 2.0, 1.0, 4.0, 0.0, 0.0, 0.0, 0.0, 3.0, 0.0, 1.0, 0.0, 1.0, [0.0, 2.0, 3.0, 4.0, 1.0, 0.0, 0.0, 1.0, 0.0, 0.0, 0.0, 1.0, 0.0, 24.0, 4845.0, 4.0, 3.0, 24.0, 55.0, 2.0, 2.0], [7.101957177823399, 12.8980428221766], [0.35509785889116996, 0.64490214110883], 1.0, 'Risk'], ['less_0', 10, 'all_credits_paid_back', 'car_new', 701, 'less_100', 'unemployed', 1, 'female', 'co-applicant', 2, 'real_estate', 36, 'stores', 'rent', 1, 'skilled', 1, 'yes', 'yes', 1.0, 3.0, 4.0, 0.0, 0.0, 1.0, 1.0, 0.0, 0.0, 1.0, 2.0, 1.0, 1.0, [1.0, 3.0, 0.0, 0.0, 4.0, 1.0, 1.0, 2.0, 1.0, 1.0, 0.0, 1.0, 0.0, 10.0, 701.0, 1.0, 2.0, 10.0, 36.0, 1.0, 1.0], [18.624446537117826, 1.3755534628821724], [0.9312223268558913, 0.06877767314410863], 0.0, 'No Risk'], ['no_checking', 21, 'outstanding_credit', 'business', 5480, '500_to_1000', '4_to_7', 4, 'male', 'none', 4, 'savings_insurance', 27, 'none', 'own', 1, 'management_self-employed', 1, 'none', 'yes', 0.0, 2.0, 1.0, 2.0, 0.0, 0.0, 0.0, 2.0, 9.0, 0.0, 0.0, 0.0, 0.0, [0.0, 2.0, 9.0, 2.0, 1.0, 0.0, 0.0, 0.0, 0.0, 0.0, 2.0, 0.0, 0.0, 21.0, 5480.0, 4.0, 4.0, 21.0, 27.0, 1.0, 1.0], [12.633950251278042, 7.366049748721961], [0.631697512563902, 0.368302487436098], 0.0, 'No Risk'], ['less_0', 4, 'all_credits_paid_back', 'car_new', 250, 'less_100', 'less_1', 1, 'female', 'none', 1, 'savings_insurance', 30, 'none', 'rent', 1, 'skilled', 1, 'none', 'yes', 1.0, 3.0, 3.0, 0.0, 0.0, 1.0, 0.0, 0.0, 0.0, 0.0, 0.0, 1.0, 0.0, [1.0, 3.0, 0.0, 0.0, 3.0, 1.0, 0.0, 0.0, 0.0, 1.0, 0.0, 0.0, 0.0, 4.0, 250.0, 1.0, 1.0, 4.0, 30.0, 1.0, 1.0], [19.467657687795587, 0.532342312204409], [0.9733828843897795, 0.026617115610220454], 0.0, 'No Risk'], ['less_0', 4, 'credits_paid_to_date', 'car_new', 250, '100_to_500', '1_to_4', 2, 'female', 'co-applicant', 3, 'real_estate', 38, 'bank', 'rent', 1, 'unemployed', 1, 'none', 'yes', 1.0, 1.0, 0.0, 1.0, 0.0, 1.0, 2.0, 3.0, 0.0, 1.0, 2.0, 1.0, 0.0, [1.0, 1.0, 0.0, 1.0, 0.0, 1.0, 1.0, 2.0, 2.0, 1.0, 3.0, 0.0, 0.0, 4.0, 250.0, 2.0, 3.0, 4.0, 38.0, 1.0, 1.0], [16.999330797578345, 3.000669202421654], [0.8499665398789172, 0.1500334601210827], 0.0, 'No Risk'], ['0_to_200', 4, 'all_credits_paid_back', 'car_new', 250, 'less_100', 'less_1', 2, 'male', 'none', 2, 'real_estate', 19, 'none', 'rent', 1, 'management_self-employed', 1, 'none', 'yes', 2.0, 3.0, 3.0, 0.0, 0.0, 1.0, 0.0, 2.0, 0.0, 0.0, 2.0, 0.0, 0.0, [2.0, 3.0, 0.0, 0.0, 3.0, 0.0, 0.0, 2.0, 0.0, 1.0, 2.0, 0.0, 0.0, 4.0, 250.0, 2.0, 2.0, 4.0, 19.0, 1.0, 1.0], [19.543985574817533, 0.4560144251824645], [0.9771992787408769, 0.02280072125912323], 0.0, 'No Risk'], ['less_0', 15, 'credits_paid_to_date', 'vacation', 250, 'less_100', '4_to_7', 2, 'female', 'none', 2, 'real_estate', 19, 'stores', 'own', 1, 'skilled', 1, 'none', 'yes', 1.0, 1.0, 1.0, 0.0, 0.0, 0.0, 1.0, 0.0, 6.0, 0.0, 2.0, 1.0, 0.0, [1.0, 1.0, 6.0, 0.0, 1.0, 1.0, 0.0, 2.0, 1.0, 0.0, 0.0, 0.0, 0.0, 15.0, 250.0, 2.0, 2.0, 15.0, 19.0, 1.0, 1.0], [18.832691557569174, 1.1673084424308258], [0.9416345778784587, 0.05836542212154129], 0.0, 'No Risk'], ['0_to_200', 17, 'credits_paid_to_date', 'appliances', 2402, 'less_100', 'less_1', 2, 'male', 'none', 2, 'real_estate', 33, 'stores', 'own', 1, 'unskilled', 1, 'none', 'yes', 2.0, 1.0, 3.0, 0.0, 0.0, 0.0, 1.0, 1.0, 4.0, 0.0, 2.0, 0.0, 0.0, [2.0, 1.0, 4.0, 0.0, 3.0, 0.0, 0.0, 2.0, 1.0, 0.0, 1.0, 0.0, 0.0, 17.0, 2402.0, 2.0, 2.0, 17.0, 33.0, 1.0, 1.0], [18.27646714302821, 1.7235328569717905], [0.9138233571514105, 0.08617664284858953], 0.0, 'No Risk'], ['no_checking', 32, 'outstanding_credit', 'furniture', 5156, '500_to_1000', 'greater_7', 5, 'male', 'co-applicant', 4, 'unknown', 46, 'none', 'free', 2, 'skilled', 2, 'yes', 'yes', 0.0, 2.0, 2.0, 2.0, 0.0, 2.0, 0.0, 0.0, 1.0, 1.0, 3.0, 0.0, 1.0, [0.0, 2.0, 1.0, 2.0, 2.0, 0.0, 1.0, 3.0, 0.0, 2.0, 0.0, 1.0, 0.0, 32.0, 5156.0, 5.0, 4.0, 32.0, 46.0, 2.0, 2.0], [2.478109038956894, 17.521890961043106], [0.1239054519478447, 0.8760945480521553], 1.0, 'Risk'], ['no_checking', 26, 'prior_payments_delayed', 'appliances', 2754, '500_to_1000', 'greater_7', 4, 'male', 'none', 4, 'unknown', 43, 'none', 'own', 1, 'skilled', 1, 'yes', 'yes', 0.0, 0.0, 2.0, 2.0, 0.0, 0.0, 0.0, 0.0, 4.0, 0.0, 3.0, 0.0, 1.0, [0.0, 0.0, 4.0, 2.0, 2.0, 0.0, 0.0, 3.0, 0.0, 0.0, 0.0, 1.0, 0.0, 26.0, 2754.0, 4.0, 4.0, 26.0, 43.0, 1.0, 1.0], [9.817270098844558, 10.182729901155442], [0.4908635049422279, 0.5091364950577721], 1.0, 'Risk'], ['less_0', 6, 'prior_payments_delayed', 'car_used', 3864, 'less_100', '4_to_7', 3, 'male', 'none', 2, 'car_other', 19, 'none', 'rent', 1, 'skilled', 1, 'none', 'yes', 1.0, 0.0, 1.0, 0.0, 0.0, 1.0, 0.0, 0.0, 2.0, 0.0, 1.0, 0.0, 0.0, [1.0, 0.0, 2.0, 0.0, 1.0, 0.0, 0.0, 1.0, 0.0, 1.0, 0.0, 0.0, 0.0, 6.0, 3864.0, 3.0, 2.0, 6.0, 19.0, 1.0, 1.0], [17.36603881471884, 2.633961185281159], [0.868301940735942, 0.13169805926405795], 0.0, 'No Risk'], ['0_to_200', 4, 'all_credits_paid_back', 'education', 250, 'less_100', 'less_1', 1, 'female', 'none', 1, 'real_estate', 19, 'none', 'rent', 1, 'skilled', 1, 'none', 'yes', 2.0, 3.0, 3.0, 0.0, 0.0, 1.0, 0.0, 0.0, 7.0, 0.0, 2.0, 1.0, 0.0, [2.0, 3.0, 7.0, 0.0, 3.0, 1.0, 0.0, 2.0, 0.0, 1.0, 0.0, 0.0, 0.0, 4.0, 250.0, 1.0, 1.0, 4.0, 19.0, 1.0, 1.0], [19.58222624838472, 0.4177737516152764], [0.9791113124192362, 0.020888687580763825], 0.0, 'No Risk'], ['no_checking', 38, 'outstanding_credit', 'other', 8852, '500_to_1000', 'greater_7', 5, 'male', 'co-applicant', 4, 'car_other', 52, 'none', 'own', 2, 'management_self-employed', 2, 'yes', 'yes', 0.0, 2.0, 2.0, 2.0, 0.0, 0.0, 0.0, 2.0, 10.0, 1.0, 1.0, 0.0, 1.0, [0.0, 2.0, 10.0, 2.0, 2.0, 0.0, 1.0, 1.0, 0.0, 0.0, 2.0, 1.0, 0.0, 38.0, 8852.0, 5.0, 4.0, 38.0, 52.0, 2.0, 2.0], [2.291489368286664, 17.708510631713335], [0.1145744684143332, 0.8854255315856667], 1.0, 'Risk'], ['no_checking', 27, 'outstanding_credit', 'appliances', 6094, 'greater_1000', 'greater_7', 5, 'male', 'none', 3, 'car_other', 48, 'none', 'free', 2, 'skilled', 2, 'yes', 'yes', 0.0, 2.0, 2.0, 3.0, 0.0, 2.0, 0.0, 0.0, 4.0, 0.0, 1.0, 0.0, 1.0, [0.0, 2.0, 4.0, 3.0, 2.0, 0.0, 0.0, 1.0, 0.0, 2.0, 0.0, 1.0, 0.0, 27.0, 6094.0, 5.0, 3.0, 27.0, 48.0, 2.0, 2.0], [5.588017980401914, 14.411982019598087], [0.2794008990200957, 0.7205991009799043], 1.0, 'Risk'], ['less_0', 15, 'credits_paid_to_date', 'car_used', 2214, 'less_100', 'less_1', 3, 'female', 'none', 1, 'savings_insurance', 25, 'none', 'own', 1, 'skilled', 1, 'none', 'yes', 1.0, 1.0, 3.0, 0.0, 0.0, 0.0, 0.0, 0.0, 2.0, 0.0, 0.0, 1.0, 0.0, [1.0, 1.0, 2.0, 0.0, 3.0, 1.0, 0.0, 0.0, 0.0, 0.0, 0.0, 0.0, 0.0, 15.0, 2214.0, 3.0, 1.0, 15.0, 25.0, 1.0, 1.0], [19.111901696422784, 0.8880983035772122], [0.9555950848211394, 0.04440491517886062], 0.0, 'No Risk'], ['0_to_200', 5, 'all_credits_paid_back', 'car_new', 250, 'less_100', 'less_1', 1, 'female', 'none', 1, 'real_estate', 31, 'stores', 'own', 1, 'skilled', 1, 'none', 'yes', 2.0, 3.0, 3.0, 0.0, 0.0, 0.0, 1.0, 0.0, 0.0, 0.0, 2.0, 1.0, 0.0, [2.0, 3.0, 0.0, 0.0, 3.0, 1.0, 0.0, 2.0, 1.0, 0.0, 0.0, 0.0, 0.0, 5.0, 250.0, 1.0, 1.0, 5.0, 31.0, 1.0, 1.0], [19.382309134540428, 0.617690865459571], [0.9691154567270214, 0.03088454327297855], 0.0, 'No Risk'], ['0_to_200', 35, 'prior_payments_delayed', 'furniture', 5469, '100_to_500', '1_to_4', 3, 'female', 'none', 2, 'unknown', 40, 'stores', 'own', 2, 'unskilled', 1, 'yes', 'yes', 2.0, 0.0, 0.0, 1.0, 0.0, 0.0, 1.0, 1.0, 1.0, 0.0, 3.0, 1.0, 1.0, [2.0, 0.0, 1.0, 1.0, 0.0, 1.0, 0.0, 3.0, 1.0, 0.0, 1.0, 1.0, 0.0, 35.0, 5469.0, 3.0, 2.0, 35.0, 40.0, 2.0, 1.0], [10.880126793105473, 9.119873206894527], [0.5440063396552737, 0.4559936603447263], 0.0, 'No Risk'], ['0_to_200', 22, 'outstanding_credit', 'radio_tv', 6348, '100_to_500', '4_to_7', 4, 'male', 'none', 3, 'savings_insurance', 21, 'none', 'own', 1, 'management_self-employed', 1, 'none', 'yes', 2.0, 2.0, 1.0, 1.0, 0.0, 0.0, 0.0, 2.0, 3.0, 0.0, 0.0, 0.0, 0.0, [2.0, 2.0, 3.0, 1.0, 1.0, 0.0, 0.0, 0.0, 0.0, 0.0, 2.0, 0.0, 0.0, 22.0, 6348.0, 4.0, 3.0, 22.0, 21.0, 1.0, 1.0], [14.901260359577616, 5.098739640422382], [0.7450630179788809, 0.2549369820211191], 0.0, 'No Risk'], ['less_0', 8, 'no_credits', 'car_used', 250, 'less_100', 'unemployed', 1, 'female', 'none', 1, 'savings_insurance', 27, 'none', 'rent', 1, 'skilled', 1, 'none', 'yes', 1.0, 4.0, 4.0, 0.0, 0.0, 1.0, 0.0, 0.0, 2.0, 0.0, 0.0, 1.0, 0.0, [1.0, 4.0, 2.0, 0.0, 4.0, 1.0, 0.0, 0.0, 0.0, 1.0, 0.0, 0.0, 0.0, 8.0, 250.0, 1.0, 1.0, 8.0, 27.0, 1.0, 1.0], [19.482621789067785, 0.5173782109322085], [0.9741310894533897, 0.025868910546610432], 0.0, 'No Risk'], ['no_checking', 27, 'outstanding_credit', 'business', 6052, '500_to_1000', '1_to_4', 3, 'male', 'none', 3, 'car_other', 47, 'none', 'own', 2, 'management_self-employed', 1, 'yes', 'yes', 0.0, 2.0, 0.0, 2.0, 0.0, 0.0, 0.0, 2.0, 9.0, 0.0, 1.0, 0.0, 1.0, [0.0, 2.0, 9.0, 2.0, 0.0, 0.0, 0.0, 1.0, 0.0, 0.0, 2.0, 1.0, 0.0, 27.0, 6052.0, 3.0, 3.0, 27.0, 47.0, 2.0, 1.0], [10.694647857512534, 9.305352142487466], [0.5347323928756267, 0.4652676071243733], 0.0, 'No Risk'], ['no_checking', 36, 'outstanding_credit', 'radio_tv', 5608, '500_to_1000', '1_to_4', 4, 'male', 'none', 3, 'car_other', 41, 'none', 'own', 1, 'management_self-employed', 1, 'yes', 'yes', 0.0, 2.0, 0.0, 2.0, 0.0, 0.0, 0.0, 2.0, 3.0, 0.0, 1.0, 0.0, 1.0, [0.0, 2.0, 3.0, 2.0, 0.0, 0.0, 0.0, 1.0, 0.0, 0.0, 2.0, 1.0, 0.0, 36.0, 5608.0, 4.0, 3.0, 36.0, 41.0, 1.0, 1.0], [12.12749075272022, 7.87250924727978], [0.606374537636011, 0.393625462363989], 0.0, 'No Risk'], ['no_checking', 43, 'prior_payments_delayed', 'furniture', 5183, '500_to_1000', 'greater_7', 5, 'male', 'co-applicant', 3, 'savings_insurance', 39, 'none', 'free', 2, 'skilled', 1, 'none', 'yes', 0.0, 0.0, 2.0, 2.0, 0.0, 2.0, 0.0, 0.0, 1.0, 1.0, 0.0, 0.0, 0.0, [0.0, 0.0, 1.0, 2.0, 2.0, 0.0, 1.0, 0.0, 0.0, 2.0, 0.0, 0.0, 0.0, 43.0, 5183.0, 5.0, 3.0, 43.0, 39.0, 2.0, 1.0], [9.181027108053284, 10.818972891946718], [0.4590513554026642, 0.5409486445973359], 1.0, 'Risk'], ['no_checking', 18, 'credits_paid_to_date', 'furniture', 3523, '100_to_500', '1_to_4', 3, 'male', 'none', 4, 'car_other', 40, 'none', 'free', 1, 'skilled', 1, 'yes', 'yes', 0.0, 1.0, 0.0, 1.0, 0.0, 2.0, 0.0, 0.0, 1.0, 0.0, 1.0, 0.0, 1.0, [0.0, 1.0, 1.0, 1.0, 0.0, 0.0, 0.0, 1.0, 0.0, 2.0, 0.0, 1.0, 0.0, 18.0, 3523.0, 3.0, 4.0, 18.0, 40.0, 1.0, 1.0], [12.929102679711226, 7.0708973202887755], [0.6464551339855613, 0.3535448660144388], 0.0, 'No Risk'], ['0_to_200', 15, 'prior_payments_delayed', 'car_new', 1809, 'greater_1000', 'greater_7', 4, 'male', 'none', 3, 'savings_insurance', 37, 'stores', 'own', 2, 'unskilled', 1, 'none', 'no', 2.0, 0.0, 2.0, 3.0, 1.0, 0.0, 1.0, 1.0, 0.0, 0.0, 0.0, 0.0, 0.0, [2.0, 0.0, 0.0, 3.0, 2.0, 0.0, 0.0, 0.0, 1.0, 0.0, 1.0, 0.0, 1.0, 15.0, 1809.0, 4.0, 3.0, 15.0, 37.0, 2.0, 1.0], [13.184655965186174, 6.815344034813824], [0.6592327982593087, 0.3407672017406912], 0.0, 'No Risk'], ['less_0', 14, 'all_credits_paid_back', 'car_used', 250, 'less_100', '1_to_4', 2, 'male', 'none', 2, 'real_estate', 24, 'stores', 'own', 1, 'unskilled', 1, 'none', 'yes', 1.0, 3.0, 0.0, 0.0, 0.0, 0.0, 1.0, 1.0, 2.0, 0.0, 2.0, 0.0, 0.0, [1.0, 3.0, 2.0, 0.0, 0.0, 0.0, 0.0, 2.0, 1.0, 0.0, 1.0, 0.0, 0.0, 14.0, 250.0, 2.0, 2.0, 14.0, 24.0, 1.0, 1.0], [18.655508410429146, 1.3444915895708534], [0.9327754205214573, 0.06722457947854267], 0.0, 'No Risk'], ['0_to_200', 22, 'credits_paid_to_date', 'car_new', 2025, 'less_100', '4_to_7', 3, 'male', 'none', 2, 'savings_insurance', 32, 'none', 'own', 1, 'skilled', 1, 'none', 'yes', 2.0, 1.0, 1.0, 0.0, 0.0, 0.0, 0.0, 0.0, 0.0, 0.0, 0.0, 0.0, 0.0, [21, [0, 1, 4, 13, 14, 15, 16, 17, 18, 19, 20], [2.0, 1.0, 1.0, 22.0, 2025.0, 3.0, 2.0, 22.0, 32.0, 1.0, 1.0]], [15.651811057980396, 4.348188942019605], [0.7825905528990198, 0.21740944710098026], 0.0, 'No Risk'], ['less_0', 19, 'credits_paid_to_date', 'car_used', 3540, 'less_100', '4_to_7', 3, 'male', 'co-applicant', 3, 'savings_insurance', 33, 'none', 'own', 1, 'skilled', 1, 'none', 'yes', 1.0, 1.0, 1.0, 0.0, 0.0, 0.0, 0.0, 0.0, 2.0, 1.0, 0.0, 0.0, 0.0, [1.0, 1.0, 2.0, 0.0, 1.0, 0.0, 1.0, 0.0, 0.0, 0.0, 0.0, 0.0, 0.0, 19.0, 3540.0, 3.0, 3.0, 19.0, 33.0, 1.0, 1.0], [14.498781699738103, 5.501218300261895], [0.7249390849869052, 0.27506091501309476], 0.0, 'No Risk'], ['no_checking', 12, 'credits_paid_to_date', 'car_new', 5427, 'less_100', '1_to_4', 3, 'male', 'none', 4, 'car_other', 40, 'none', 'own', 1, 'skilled', 2, 'yes', 'yes', 0.0, 1.0, 0.0, 0.0, 0.0, 0.0, 0.0, 0.0, 0.0, 0.0, 1.0, 0.0, 1.0, [21, [1, 7, 11, 13, 14, 15, 16, 17, 18, 19, 20], [1.0, 1.0, 1.0, 12.0, 5427.0, 3.0, 4.0, 12.0, 40.0, 1.0, 2.0]], [13.361257750567292, 6.638742249432707], [0.6680628875283646, 0.3319371124716354], 0.0, 'No Risk'], ['less_0', 8, 'all_credits_paid_back', 'car_new', 250, 'less_100', '1_to_4', 3, 'female', 'none', 1, 'real_estate', 22, 'bank', 'rent', 1, 'unskilled', 1, 'none', 'yes', 1.0, 3.0, 0.0, 0.0, 0.0, 1.0, 2.0, 1.0, 0.0, 0.0, 2.0, 1.0, 0.0, [1.0, 3.0, 0.0, 0.0, 0.0, 1.0, 0.0, 2.0, 2.0, 1.0, 1.0, 0.0, 0.0, 8.0, 250.0, 3.0, 1.0, 8.0, 22.0, 1.0, 1.0], [19.394127896792064, 0.6058721032079324], [0.9697063948396034, 0.030293605160396624], 0.0, 'No Risk'], ['0_to_200', 17, 'credits_paid_to_date', 'furniture', 250, '500_to_1000', '4_to_7', 2, 'male', 'none', 1, 'real_estate', 19, 'bank', 'rent', 1, 'unemployed', 1, 'none', 'yes', 2.0, 1.0, 1.0, 2.0, 0.0, 1.0, 2.0, 3.0, 1.0, 0.0, 2.0, 0.0, 0.0, [2.0, 1.0, 1.0, 2.0, 1.0, 0.0, 0.0, 2.0, 2.0, 1.0, 3.0, 0.0, 0.0, 17.0, 250.0, 2.0, 1.0, 17.0, 19.0, 1.0, 1.0], [18.344418512356587, 1.6555814876434127], [0.9172209256178293, 0.08277907438217064], 0.0, 'No Risk'], ['no_checking', 33, 'prior_payments_delayed', 'business', 5481, '500_to_1000', 'greater_7', 4, 'male', 'none', 4, 'car_other', 48, 'none', 'own', 1, 'skilled', 1, 'yes', 'yes', 0.0, 0.0, 2.0, 2.0, 0.0, 0.0, 0.0, 0.0, 9.0, 0.0, 1.0, 0.0, 1.0, [0.0, 0.0, 9.0, 2.0, 2.0, 0.0, 0.0, 1.0, 0.0, 0.0, 0.0, 1.0, 0.0, 33.0, 5481.0, 4.0, 4.0, 33.0, 48.0, 1.0, 1.0], [7.027106339698834, 12.972893660301166], [0.3513553169849417, 0.6486446830150583], 1.0, 'Risk'], ['less_0', 29, 'outstanding_credit', 'business', 2330, 'greater_1000', '4_to_7', 2, 'male', 'none', 2, 'car_other', 33, 'stores', 'rent', 1, 'skilled', 1, 'none', 'yes', 1.0, 2.0, 1.0, 3.0, 0.0, 1.0, 1.0, 0.0, 9.0, 0.0, 1.0, 0.0, 0.0, [1.0, 2.0, 9.0, 3.0, 1.0, 0.0, 0.0, 1.0, 1.0, 1.0, 0.0, 0.0, 0.0, 29.0, 2330.0, 2.0, 2.0, 29.0, 33.0, 1.0, 1.0], [14.094385652160433, 5.905614347839567], [0.7047192826080216, 0.29528071739197836], 0.0, 'No Risk'], ['0_to_200', 13, 'credits_paid_to_date', 'car_used', 2484, 'less_100', 'less_1', 3, 'female', 'none', 3, 'real_estate', 27, 'none', 'own', 1, 'management_self-employed', 1, 'none', 'yes', 2.0, 1.0, 3.0, 0.0, 0.0, 0.0, 0.0, 2.0, 2.0, 0.0, 2.0, 1.0, 0.0, [2.0, 1.0, 2.0, 0.0, 3.0, 1.0, 0.0, 2.0, 0.0, 0.0, 2.0, 0.0, 0.0, 13.0, 2484.0, 3.0, 3.0, 13.0, 27.0, 1.0, 1.0], [18.974387149302395, 1.025612850697603], [0.9487193574651199, 0.05128064253488016], 0.0, 'No Risk'], ['0_to_200', 26, 'credits_paid_to_date', 'car_used', 4240, '100_to_500', '4_to_7', 3, 'male', 'none', 2, 'savings_insurance', 34, 'stores', 'rent', 2, 'unskilled', 2, 'none', 'yes', 2.0, 1.0, 1.0, 1.0, 0.0, 1.0, 1.0, 1.0, 2.0, 0.0, 0.0, 0.0, 0.0, [2.0, 1.0, 2.0, 1.0, 1.0, 0.0, 0.0, 0.0, 1.0, 1.0, 1.0, 0.0, 0.0, 26.0, 4240.0, 3.0, 2.0, 26.0, 34.0, 2.0, 2.0], [14.488161936711146, 5.511838063288859], [0.7244080968355572, 0.2755919031644429], 0.0, 'No Risk'], ['0_to_200', 17, 'credits_paid_to_date', 'furniture', 1293, 'less_100', '4_to_7', 3, 'female', 'none', 3, 'real_estate', 38, 'bank', 'own', 1, 'unskilled', 1, 'none', 'yes', 2.0, 1.0, 1.0, 0.0, 0.0, 0.0, 2.0, 1.0, 1.0, 0.0, 2.0, 1.0, 0.0, [2.0, 1.0, 1.0, 0.0, 1.0, 1.0, 0.0, 2.0, 2.0, 0.0, 1.0, 0.0, 0.0, 17.0, 1293.0, 3.0, 3.0, 17.0, 38.0, 1.0, 1.0], [16.485435383721452, 3.514564616278548], [0.8242717691860726, 0.1757282308139274], 0.0, 'No Risk'], ['no_checking', 43, 'outstanding_credit', 'appliances', 6653, 'unknown', 'greater_7', 5, 'male', 'co-applicant', 4, 'unknown', 34, 'none', 'own', 2, 'skilled', 1, 'none', 'yes', 0.0, 2.0, 2.0, 4.0, 0.0, 0.0, 0.0, 0.0, 4.0, 1.0, 3.0, 0.0, 0.0, [0.0, 2.0, 4.0, 4.0, 2.0, 0.0, 1.0, 3.0, 0.0, 0.0, 0.0, 0.0, 0.0, 43.0, 6653.0, 5.0, 4.0, 43.0, 34.0, 2.0, 1.0], [5.4272228515958085, 14.572777148404194], [0.2713611425797904, 0.7286388574202096], 1.0, 'Risk'], ['less_0', 18, 'credits_paid_to_date', 'car_new', 1124, 'less_100', '4_to_7', 2, 'male', 'none', 1, 'real_estate', 32, 'stores', 'own', 1, 'skilled', 1, 'none', 'yes', 1.0, 1.0, 1.0, 0.0, 0.0, 0.0, 1.0, 0.0, 0.0, 0.0, 2.0, 0.0, 0.0, [1.0, 1.0, 0.0, 0.0, 1.0, 0.0, 0.0, 2.0, 1.0, 0.0, 0.0, 0.0, 0.0, 18.0, 1124.0, 2.0, 1.0, 18.0, 32.0, 1.0, 1.0], [17.75520981857423, 2.2447901814257727], [0.8877604909287113, 0.11223950907128862], 0.0, 'No Risk'], ['greater_200', 17, 'credits_paid_to_date', 'car_new', 3581, 'less_100', '1_to_4', 2, 'male', 'none', 4, 'savings_insurance', 25, 'none', 'own', 1, 'skilled', 1, 'yes', 'yes', 3.0, 1.0, 0.0, 0.0, 0.0, 0.0, 0.0, 0.0, 0.0, 0.0, 0.0, 0.0, 1.0, [21, [0, 1, 11, 13, 14, 15, 16, 17, 18, 19, 20], [3.0, 1.0, 1.0, 17.0, 3581.0, 2.0, 4.0, 17.0, 25.0, 1.0, 1.0]], [14.33591109227444, 5.664088907725556], [0.7167955546137221, 0.2832044453862778], 0.0, 'No Risk'], ['less_0', 4, 'credits_paid_to_date', 'car_new', 250, 'less_100', 'unemployed', 2, 'female', 'none', 2, 'savings_insurance', 26, 'bank', 'rent', 1, 'unskilled', 1, 'none', 'yes', 1.0, 1.0, 4.0, 0.0, 0.0, 1.0, 2.0, 1.0, 0.0, 0.0, 0.0, 1.0, 0.0, [1.0, 1.0, 0.0, 0.0, 4.0, 1.0, 0.0, 0.0, 2.0, 1.0, 1.0, 0.0, 0.0, 4.0, 250.0, 2.0, 2.0, 4.0, 26.0, 1.0, 1.0], [19.456561973604245, 0.5434380263957488], [0.9728280986802126, 0.02717190131978745], 0.0, 'No Risk'], ['no_checking', 22, 'prior_payments_delayed', 'repairs', 2782, '100_to_500', 'greater_7', 4, 'male', 'none', 4, 'car_other', 48, 'none', 'own', 2, 'management_self-employed', 1, 'none', 'yes', 0.0, 0.0, 2.0, 1.0, 0.0, 0.0, 0.0, 2.0, 5.0, 0.0, 1.0, 0.0, 0.0, [0.0, 0.0, 5.0, 1.0, 2.0, 0.0, 0.0, 1.0, 0.0, 0.0, 2.0, 0.0, 0.0, 22.0, 2782.0, 4.0, 4.0, 22.0, 48.0, 2.0, 1.0], [9.928954100371376, 10.071045899628622], [0.49644770501856883, 0.5035522949814311], 1.0, 'Risk'], ['no_checking', 38, 'prior_payments_delayed', 'furniture', 5552, 'unknown', 'greater_7', 4, 'male', 'co-applicant', 5, 'savings_insurance', 48, 'none', 'own', 2, 'skilled', 1, 'none', 'yes', 0.0, 0.0, 2.0, 4.0, 0.0, 0.0, 0.0, 0.0, 1.0, 1.0, 0.0, 0.0, 0.0, [21, [2, 3, 4, 6, 13, 14, 15, 16, 17, 18, 19, 20], [1.0, 4.0, 2.0, 1.0, 38.0, 5552.0, 4.0, 5.0, 38.0, 48.0, 2.0, 1.0]], [6.374662661691385, 13.625337338308615], [0.31873313308456924, 0.6812668669154307], 1.0, 'Risk'], ['greater_200', 27, 'outstanding_credit', 'appliances', 4453, '500_to_1000', '4_to_7', 4, 'male', 'none', 4, 'unknown', 54, 'none', 'own', 2, 'skilled', 1, 'yes', 'yes', 3.0, 2.0, 1.0, 2.0, 0.0, 0.0, 0.0, 0.0, 4.0, 0.0, 3.0, 0.0, 1.0, [3.0, 2.0, 4.0, 2.0, 1.0, 0.0, 0.0, 3.0, 0.0, 0.0, 0.0, 1.0, 0.0, 27.0, 4453.0, 4.0, 4.0, 27.0, 54.0, 2.0, 1.0], [7.945140223557835, 12.054859776442166], [0.39725701117789175, 0.6027429888221083], 1.0, 'Risk'], ['no_checking', 41, 'outstanding_credit', 'education', 9362, 'unknown', 'greater_7', 6, 'male', 'co-applicant', 4, 'unknown', 55, 'none', 'free', 2, 'management_self-employed', 2, 'yes', 'yes', 0.0, 2.0, 2.0, 4.0, 0.0, 2.0, 0.0, 2.0, 7.0, 1.0, 3.0, 0.0, 1.0, [0.0, 2.0, 7.0, 4.0, 2.0, 0.0, 1.0, 3.0, 0.0, 2.0, 2.0, 1.0, 0.0, 41.0, 9362.0, 6.0, 4.0, 41.0, 55.0, 2.0, 2.0], [1.8037191505462389, 18.19628084945376], [0.09018595752731194, 0.909814042472688], 1.0, 'Risk'], ['no_checking', 40, 'prior_payments_delayed', 'repairs', 2774, '500_to_1000', '4_to_7', 4, 'male', 'none', 3, 'real_estate', 45, 'none', 'own', 1, 'management_self-employed', 1, 'yes', 'yes', 0.0, 0.0, 1.0, 2.0, 0.0, 0.0, 0.0, 2.0, 5.0, 0.0, 2.0, 0.0, 1.0, [0.0, 0.0, 5.0, 2.0, 1.0, 0.0, 0.0, 2.0, 0.0, 0.0, 2.0, 1.0, 0.0, 40.0, 2774.0, 4.0, 3.0, 40.0, 45.0, 1.0, 1.0], [11.215378764040707, 8.784621235959293], [0.5607689382020353, 0.4392310617979646], 0.0, 'No Risk'], ['no_checking', 46, 'outstanding_credit', 'radio_tv', 10300, 'unknown', 'greater_7', 5, 'male', 'co-applicant', 5, 'unknown', 48, 'none', 'free', 3, 'skilled', 2, 'yes', 'yes', 0.0, 2.0, 2.0, 4.0, 0.0, 2.0, 0.0, 0.0, 3.0, 1.0, 3.0, 0.0, 1.0, [0.0, 2.0, 3.0, 4.0, 2.0, 0.0, 1.0, 3.0, 0.0, 2.0, 0.0, 1.0, 0.0, 46.0, 10300.0, 5.0, 5.0, 46.0, 48.0, 3.0, 2.0], [1.588722152675289, 18.411277847324712], [0.07943610763376445, 0.9205638923662356], 1.0, 'Risk'], ['no_checking', 12, 'outstanding_credit', 'radio_tv', 1841, '100_to_500', 'less_1', 3, 'male', 'none', 2, 'savings_insurance', 35, 'none', 'own', 1, 'management_self-employed', 1, 'none', 'yes', 0.0, 2.0, 3.0, 1.0, 0.0, 0.0, 0.0, 2.0, 3.0, 0.0, 0.0, 0.0, 0.0, [0.0, 2.0, 3.0, 1.0, 3.0, 0.0, 0.0, 0.0, 0.0, 0.0, 2.0, 0.0, 0.0, 12.0, 1841.0, 3.0, 2.0, 12.0, 35.0, 1.0, 1.0], [17.165481513657795, 2.8345184863422044], [0.8582740756828897, 0.14172592431711023], 0.0, 'No Risk'], ['no_checking', 29, 'outstanding_credit', 'vacation', 8058, '500_to_1000', '4_to_7', 5, 'male', 'none', 4, 'unknown', 44, 'none', 'free', 2, 'management_self-employed', 1, 'yes', 'yes', 0.0, 2.0, 1.0, 2.0, 0.0, 2.0, 0.0, 2.0, 6.0, 0.0, 3.0, 0.0, 1.0, [0.0, 2.0, 6.0, 2.0, 1.0, 0.0, 0.0, 3.0, 0.0, 2.0, 2.0, 1.0, 0.0, 29.0, 8058.0, 5.0, 4.0, 29.0, 44.0, 2.0, 1.0], [7.177700642099163, 12.822299357900834], [0.3588850321049582, 0.6411149678950417], 1.0, 'Risk'], ['0_to_200', 32, 'outstanding_credit', 'appliances', 4954, 'unknown', '4_to_7', 3, 'male', 'none', 3, 'car_other', 37, 'none', 'rent', 3, 'skilled', 1, 'none', 'yes', 2.0, 2.0, 1.0, 4.0, 0.0, 1.0, 0.0, 0.0, 4.0, 0.0, 1.0, 0.0, 0.0, [2.0, 2.0, 4.0, 4.0, 1.0, 0.0, 0.0, 1.0, 0.0, 1.0, 0.0, 0.0, 0.0, 32.0, 4954.0, 3.0, 3.0, 32.0, 37.0, 3.0, 1.0], [11.929515130106921, 8.070484869893077], [0.596475756505346, 0.4035242434946539], 0.0, 'No Risk'], ['greater_200', 4, 'all_credits_paid_back', 'car_used', 2572, 'less_100', 'less_1', 3, 'female', 'none', 3, 'real_estate', 19, 'none', 'own', 1, 'skilled', 1, 'none', 'yes', 3.0, 3.0, 3.0, 0.0, 0.0, 0.0, 0.0, 0.0, 2.0, 0.0, 2.0, 1.0, 0.0, [3.0, 3.0, 2.0, 0.0, 3.0, 1.0, 0.0, 2.0, 0.0, 0.0, 0.0, 0.0, 0.0, 4.0, 2572.0, 3.0, 3.0, 4.0, 19.0, 1.0, 1.0], [18.741108375832056, 1.258891624167942], [0.9370554187916029, 0.0629445812083971], 0.0, 'No Risk'], ['no_checking', 26, 'prior_payments_delayed', 'radio_tv', 5523, '500_to_1000', '1_to_4', 4, 'male', 'none', 4, 'car_other', 46, 'none', 'own', 3, 'management_self-employed', 1, 'yes', 'yes', 0.0, 0.0, 0.0, 2.0, 0.0, 0.0, 0.0, 2.0, 3.0, 0.0, 1.0, 0.0, 1.0, [0.0, 0.0, 3.0, 2.0, 0.0, 0.0, 0.0, 1.0, 0.0, 0.0, 2.0, 1.0, 0.0, 26.0, 5523.0, 4.0, 4.0, 26.0, 46.0, 3.0, 1.0], [11.074641974664576, 8.925358025335424], [0.5537320987332288, 0.4462679012667712], 0.0, 'No Risk'], ['less_0', 4, 'all_credits_paid_back', 'car_new', 495, 'less_100', 'unemployed', 1, 'female', 'none', 2, 'savings_insurance', 20, 'none', 'own', 1, 'skilled', 1, 'none', 'yes', 1.0, 3.0, 4.0, 0.0, 0.0, 0.0, 0.0, 0.0, 0.0, 0.0, 0.0, 1.0, 0.0, [21, [0, 1, 4, 5, 13, 14, 15, 16, 17, 18, 19, 20], [1.0, 3.0, 4.0, 1.0, 4.0, 495.0, 1.0, 2.0, 4.0, 20.0, 1.0, 1.0]], [19.34638354277725, 0.6536164572227461], [0.9673191771388627, 0.03268082286113731], 0.0, 'No Risk'], ['0_to_200', 7, 'all_credits_paid_back', 'car_used', 2414, 'less_100', 'less_1', 2, 'female', 'none', 3, 'real_estate', 19, 'none', 'own', 1, 'skilled', 1, 'none', 'yes', 2.0, 3.0, 3.0, 0.0, 0.0, 0.0, 0.0, 0.0, 2.0, 0.0, 2.0, 1.0, 0.0, [2.0, 3.0, 2.0, 0.0, 3.0, 1.0, 0.0, 2.0, 0.0, 0.0, 0.0, 0.0, 0.0, 7.0, 2414.0, 2.0, 3.0, 7.0, 19.0, 1.0, 1.0], [19.149992123646893, 0.8500078763531052], [0.9574996061823449, 0.04250039381765527], 0.0, 'No Risk'], ['0_to_200', 16, 'credits_paid_to_date', 'car_new', 2497, 'less_100', 'less_1', 2, 'female', 'none', 2, 'car_other', 32, 'none', 'rent', 1, 'skilled', 1, 'none', 'yes', 2.0, 1.0, 3.0, 0.0, 0.0, 1.0, 0.0, 0.0, 0.0, 0.0, 1.0, 1.0, 0.0, [2.0, 1.0, 0.0, 0.0, 3.0, 1.0, 0.0, 1.0, 0.0, 1.0, 0.0, 0.0, 0.0, 16.0, 2497.0, 2.0, 2.0, 16.0, 32.0, 1.0, 1.0], [18.08669512196575, 1.9133048780342485], [0.9043347560982875, 0.09566524390171242], 0.0, 'No Risk'], ['no_checking', 30, 'outstanding_credit', 'appliances', 6579, 'unknown', 'greater_7', 5, 'male', 'co-applicant', 3, 'car_other', 48, 'none', 'free', 2, 'skilled', 2, 'yes', 'yes', 0.0, 2.0, 2.0, 4.0, 0.0, 2.0, 0.0, 0.0, 4.0, 1.0, 1.0, 0.0, 1.0, [0.0, 2.0, 4.0, 4.0, 2.0, 0.0, 1.0, 1.0, 0.0, 2.0, 0.0, 1.0, 0.0, 30.0, 6579.0, 5.0, 3.0, 30.0, 48.0, 2.0, 2.0], [2.4491410572810905, 17.550858942718907], [0.12245705286405455, 0.8775429471359455], 1.0, 'Risk'], ['0_to_200', 17, 'prior_payments_delayed', 'car_new', 1948, '500_to_1000', '1_to_4', 2, 'male', 'co-applicant', 3, 'savings_insurance', 41, 'stores', 'own', 2, 'unskilled', 1, 'yes', 'yes', 2.0, 0.0, 0.0, 2.0, 0.0, 0.0, 1.0, 1.0, 0.0, 1.0, 0.0, 0.0, 1.0, [2.0, 0.0, 0.0, 2.0, 0.0, 0.0, 1.0, 0.0, 1.0, 0.0, 1.0, 1.0, 0.0, 17.0, 1948.0, 2.0, 3.0, 17.0, 41.0, 2.0, 1.0], [13.281243632362496, 6.7187563676375], [0.6640621816181249, 0.33593781838187503], 0.0, 'No Risk'], ['0_to_200', 19, 'credits_paid_to_date', 'furniture', 6743, '100_to_500', '1_to_4', 4, 'female', 'none', 4, 'car_other', 36, 'none', 'own', 2, 'skilled', 1, 'none', 'no', 2.0, 1.0, 0.0, 1.0, 1.0, 0.0, 0.0, 0.0, 1.0, 0.0, 1.0, 1.0, 0.0, [2.0, 1.0, 1.0, 1.0, 0.0, 1.0, 0.0, 1.0, 0.0, 0.0, 0.0, 0.0, 1.0, 19.0, 6743.0, 4.0, 4.0, 19.0, 36.0, 2.0, 1.0], [12.290394158169569, 7.709605841830432], [0.6145197079084784, 0.38548029209152157], 0.0, 'No Risk'], ['no_checking', 27, 'prior_payments_delayed', 'car_used', 4574, '100_to_500', 'greater_7', 4, 'male', 'none', 4, 'car_other', 55, 'none', 'own', 2, 'skilled', 1, 'yes', 'yes', 0.0, 0.0, 2.0, 1.0, 0.0, 0.0, 0.0, 0.0, 2.0, 0.0, 1.0, 0.0, 1.0, [0.0, 0.0, 2.0, 1.0, 2.0, 0.0, 0.0, 1.0, 0.0, 0.0, 0.0, 1.0, 0.0, 27.0, 4574.0, 4.0, 4.0, 27.0, 55.0, 2.0, 1.0], [5.570160777036241, 14.429839222963759], [0.2785080388518121, 0.7214919611481879], 1.0, 'Risk'], ['0_to_200', 31, 'credits_paid_to_date', 'appliances', 2933, '100_to_500', '4_to_7', 4, 'female', 'none', 2, 'real_estate', 33, 'stores', 'own', 1, 'unskilled', 1, 'none', 'yes', 2.0, 1.0, 1.0, 1.0, 0.0, 0.0, 1.0, 1.0, 4.0, 0.0, 2.0, 1.0, 0.0, [2.0, 1.0, 4.0, 1.0, 1.0, 1.0, 0.0, 2.0, 1.0, 0.0, 1.0, 0.0, 0.0, 31.0, 2933.0, 4.0, 2.0, 31.0, 33.0, 1.0, 1.0], [15.72813381991493, 4.271866180085071], [0.7864066909957466, 0.21359330900425352], 0.0, 'No Risk'], ['no_checking', 25, 'prior_payments_delayed', 'appliances', 6088, '100_to_500', '1_to_4', 3, 'male', 'none', 3, 'savings_insurance', 35, 'none', 'own', 2, 'management_self-employed', 1, 'yes', 'yes', 0.0, 0.0, 0.0, 1.0, 0.0, 0.0, 0.0, 2.0, 4.0, 0.0, 0.0, 0.0, 1.0, [21, [2, 3, 10, 11, 13, 14, 15, 16, 17, 18, 19, 20], [4.0, 1.0, 2.0, 1.0, 25.0, 6088.0, 3.0, 3.0, 25.0, 35.0, 2.0, 1.0]], [12.833469866009665, 7.166530133990336], [0.6416734933004833, 0.3583265066995168], 0.0, 'No Risk'], ['no_checking', 28, 'outstanding_credit', 'appliances', 7056, '500_to_1000', '4_to_7', 5, 'male', 'none', 4, 'unknown', 52, 'stores', 'own', 2, 'unskilled', 2, 'yes', 'yes', 0.0, 2.0, 1.0, 2.0, 0.0, 0.0, 1.0, 1.0, 4.0, 0.0, 3.0, 0.0, 1.0, [0.0, 2.0, 4.0, 2.0, 1.0, 0.0, 0.0, 3.0, 1.0, 0.0, 1.0, 1.0, 0.0, 28.0, 7056.0, 5.0, 4.0, 28.0, 52.0, 2.0, 2.0], [6.205901717198379, 13.79409828280162], [0.31029508585991894, 0.6897049141400811], 1.0, 'Risk'], ['greater_200', 39, 'prior_payments_delayed', 'appliances', 4890, '500_to_1000', '4_to_7', 4, 'male', 'none', 4, 'car_other', 44, 'none', 'own', 2, 'skilled', 2, 'yes', 'yes', 3.0, 0.0, 1.0, 2.0, 0.0, 0.0, 0.0, 0.0, 4.0, 0.0, 1.0, 0.0, 1.0, [3.0, 0.0, 4.0, 2.0, 1.0, 0.0, 0.0, 1.0, 0.0, 0.0, 0.0, 1.0, 0.0, 39.0, 4890.0, 4.0, 4.0, 39.0, 44.0, 2.0, 2.0], [9.603164168391283, 10.396835831608717], [0.48015820841956414, 0.5198417915804359], 1.0, 'Risk'], ['no_checking', 27, 'outstanding_credit', 'furniture', 5565, 'greater_1000', 'greater_7', 5, 'male', 'co-applicant', 4, 'unknown', 55, 'stores', 'free', 2, 'unskilled', 1, 'yes', 'yes', 0.0, 2.0, 2.0, 3.0, 0.0, 2.0, 1.0, 1.0, 1.0, 1.0, 3.0, 0.0, 1.0, [0.0, 2.0, 1.0, 3.0, 2.0, 0.0, 1.0, 3.0, 1.0, 2.0, 1.0, 1.0, 0.0, 27.0, 5565.0, 5.0, 4.0, 27.0, 55.0, 2.0, 1.0], [3.0489369664018113, 16.95106303359819], [0.15244684832009056, 0.8475531516799094], 1.0, 'Risk'], ['less_0', 4, 'credits_paid_to_date', 'car_new', 250, '100_to_500', 'less_1', 1, 'female', 'none', 2, 'real_estate', 19, 'none', 'rent', 1, 'skilled', 1, 'none', 'yes', 1.0, 1.0, 3.0, 1.0, 0.0, 1.0, 0.0, 0.0, 0.0, 0.0, 2.0, 1.0, 0.0, [1.0, 1.0, 0.0, 1.0, 3.0, 1.0, 0.0, 2.0, 0.0, 1.0, 0.0, 0.0, 0.0, 4.0, 250.0, 1.0, 2.0, 4.0, 19.0, 1.0, 1.0], [19.523216318626716, 0.4767836813732823], [0.976160815931336, 0.02383918406866412], 0.0, 'No Risk'], ['no_checking', 27, 'all_credits_paid_back', 'car_used', 5274, 'greater_1000', '4_to_7', 4, 'female', 'none', 3, 'real_estate', 40, 'none', 'own', 2, 'skilled', 2, 'none', 'yes', 0.0, 3.0, 1.0, 3.0, 0.0, 0.0, 0.0, 0.0, 2.0, 0.0, 2.0, 1.0, 0.0, [0.0, 3.0, 2.0, 3.0, 1.0, 1.0, 0.0, 2.0, 0.0, 0.0, 0.0, 0.0, 0.0, 27.0, 5274.0, 4.0, 3.0, 27.0, 40.0, 2.0, 2.0], [9.67050993161058, 10.32949006838942], [0.483525496580529, 0.516474503419471], 1.0, 'Risk'], ['no_checking', 33, 'prior_payments_delayed', 'radio_tv', 5929, '500_to_1000', 'greater_7', 4, 'male', 'co-applicant', 3, 'car_other', 46, 'none', 'own', 2, 'skilled', 1, 'yes', 'yes', 0.0, 0.0, 2.0, 2.0, 0.0, 0.0, 0.0, 0.0, 3.0, 1.0, 1.0, 0.0, 1.0, [0.0, 0.0, 3.0, 2.0, 2.0, 0.0, 1.0, 1.0, 0.0, 0.0, 0.0, 1.0, 0.0, 33.0, 5929.0, 4.0, 3.0, 33.0, 46.0, 2.0, 1.0], [3.3847360122667793, 16.615263987733222], [0.16923680061333896, 0.8307631993866611], 1.0, 'Risk'], ['greater_200', 23, 'credits_paid_to_date', 'furniture', 4476, '100_to_500', '1_to_4', 4, 'male', 'none', 3, 'car_other', 38, 'none', 'own', 2, 'skilled', 1, 'yes', 'yes', 3.0, 1.0, 0.0, 1.0, 0.0, 0.0, 0.0, 0.0, 1.0, 0.0, 1.0, 0.0, 1.0, [3.0, 1.0, 1.0, 1.0, 0.0, 0.0, 0.0, 1.0, 0.0, 0.0, 0.0, 1.0, 0.0, 23.0, 4476.0, 4.0, 3.0, 23.0, 38.0, 2.0, 1.0], [12.395225545531646, 7.604774454468351], [0.6197612772765825, 0.38023872272341763], 0.0, 'No Risk'], ['less_0', 21, 'prior_payments_delayed', 'furniture', 6279, '500_to_1000', '1_to_4', 3, 'male', 'none', 2, 'car_other', 39, 'bank', 'own', 2, 'unemployed', 1, 'yes', 'yes', 1.0, 0.0, 0.0, 2.0, 0.0, 0.0, 2.0, 3.0, 1.0, 0.0, 1.0, 0.0, 1.0, [1.0, 0.0, 1.0, 2.0, 0.0, 0.0, 0.0, 1.0, 2.0, 0.0, 3.0, 1.0, 0.0, 21.0, 6279.0, 3.0, 2.0, 21.0, 39.0, 2.0, 1.0], [14.690247254859077, 5.309752745140925], [0.7345123627429537, 0.2654876372570462], 0.0, 'No Risk'], ['less_0', 35, 'credits_paid_to_date', 'appliances', 7235, '500_to_1000', '1_to_4', 2, 'male', 'none', 2, 'car_other', 29, 'stores', 'own', 2, 'unskilled', 1, 'none', 'yes', 1.0, 1.0, 0.0, 2.0, 0.0, 0.0, 1.0, 1.0, 4.0, 0.0, 1.0, 0.0, 0.0, [1.0, 1.0, 4.0, 2.0, 0.0, 0.0, 0.0, 1.0, 1.0, 0.0, 1.0, 0.0, 0.0, 35.0, 7235.0, 2.0, 2.0, 35.0, 29.0, 2.0, 1.0], [14.815726412292243, 5.184273587707759], [0.7407863206146121, 0.259213679385388], 0.0, 'No Risk'], ['0_to_200', 17, 'no_credits', 'car_used', 3511, '100_to_500', '1_to_4', 2, 'male', 'none', 3, 'car_other', 43, 'none', 'own', 2, 'skilled', 2, 'none', 'yes', 2.0, 4.0, 0.0, 1.0, 0.0, 0.0, 0.0, 0.0, 2.0, 0.0, 1.0, 0.0, 0.0, [2.0, 4.0, 2.0, 1.0, 0.0, 0.0, 0.0, 1.0, 0.0, 0.0, 0.0, 0.0, 0.0, 17.0, 3511.0, 2.0, 3.0, 17.0, 43.0, 2.0, 2.0], [13.487253020839006, 6.512746979160994], [0.6743626510419503, 0.3256373489580497], 0.0, 'No Risk'], ['no_checking', 24, 'prior_payments_delayed', 'radio_tv', 6363, '100_to_500', '4_to_7', 4, 'male', 'none', 5, 'savings_insurance', 40, 'none', 'own', 1, 'management_self-employed', 2, 'none', 'yes', 0.0, 0.0, 1.0, 1.0, 0.0, 0.0, 0.0, 2.0, 3.0, 0.0, 0.0, 0.0, 0.0, [21, [2, 3, 4, 10, 13, 14, 15, 16, 17, 18, 19, 20], [3.0, 1.0, 1.0, 2.0, 24.0, 6363.0, 4.0, 5.0, 24.0, 40.0, 1.0, 2.0]], [11.762152058648645, 8.237847941351356], [0.5881076029324322, 0.4118923970675678], 0.0, 'No Risk'], ['greater_200', 33, 'prior_payments_delayed', 'radio_tv', 2975, 'unknown', 'greater_7', 4, 'male', 'none', 4, 'savings_insurance', 27, 'none', 'rent', 1, 'skilled', 1, 'none', 'yes', 3.0, 0.0, 2.0, 4.0, 0.0, 1.0, 0.0, 0.0, 3.0, 0.0, 0.0, 0.0, 0.0, [3.0, 0.0, 3.0, 4.0, 2.0, 0.0, 0.0, 0.0, 0.0, 1.0, 0.0, 0.0, 0.0, 33.0, 2975.0, 4.0, 4.0, 33.0, 27.0, 1.0, 1.0], [13.740336230192263, 6.259663769807738], [0.6870168115096131, 0.3129831884903869], 0.0, 'No Risk'], ['less_0', 17, 'credits_paid_to_date', 'vacation', 1843, 'less_100', 'less_1', 3, 'female', 'none', 2, 'savings_insurance', 34, 'none', 'own', 2, 'skilled', 1, 'yes', 'yes', 1.0, 1.0, 3.0, 0.0, 0.0, 0.0, 0.0, 0.0, 6.0, 0.0, 0.0, 1.0, 1.0, [1.0, 1.0, 6.0, 0.0, 3.0, 1.0, 0.0, 0.0, 0.0, 0.0, 0.0, 1.0, 0.0, 17.0, 1843.0, 3.0, 2.0, 17.0, 34.0, 2.0, 1.0], [16.59031050813756, 3.4096894918624456], [0.8295155254068778, 0.17048447459312224], 0.0, 'No Risk'], ['less_0', 10, 'prior_payments_delayed', 'car_used', 2291, '500_to_1000', '1_to_4', 3, 'male', 'none', 2, 'car_other', 30, 'none', 'rent', 2, 'skilled', 1, 'none', 'yes', 1.0, 0.0, 0.0, 2.0, 0.0, 1.0, 0.0, 0.0, 2.0, 0.0, 1.0, 0.0, 0.0, [1.0, 0.0, 2.0, 2.0, 0.0, 0.0, 0.0, 1.0, 0.0, 1.0, 0.0, 0.0, 0.0, 10.0, 2291.0, 3.0, 2.0, 10.0, 30.0, 2.0, 1.0], [16.423010659742467, 3.576989340257535], [0.8211505329871234, 0.17884946701287674], 0.0, 'No Risk'], ['0_to_200', 4, 'all_credits_paid_back', 'car_new', 4328, 'less_100', 'unemployed', 2, 'female', 'co-applicant', 4, 'savings_insurance', 37, 'none', 'own', 1, 'management_self-employed', 1, 'none', 'yes', 2.0, 3.0, 4.0, 0.0, 0.0, 0.0, 0.0, 2.0, 0.0, 1.0, 0.0, 1.0, 0.0, [2.0, 3.0, 0.0, 0.0, 4.0, 1.0, 1.0, 0.0, 0.0, 0.0, 2.0, 0.0, 0.0, 4.0, 4328.0, 2.0, 4.0, 4.0, 37.0, 1.0, 1.0], [17.325844235615353, 2.674155764384646], [0.8662922117807677, 0.1337077882192323], 0.0, 'No Risk'], ['0_to_200', 4, 'all_credits_paid_back', 'car_new', 250, '100_to_500', '4_to_7', 1, 'female', 'none', 1, 'real_estate', 21, 'none', 'rent', 1, 'skilled', 1, 'none', 'yes', 2.0, 3.0, 1.0, 1.0, 0.0, 1.0, 0.0, 0.0, 0.0, 0.0, 2.0, 1.0, 0.0, [2.0, 3.0, 0.0, 1.0, 1.0, 1.0, 0.0, 2.0, 0.0, 1.0, 0.0, 0.0, 0.0, 4.0, 250.0, 1.0, 1.0, 4.0, 21.0, 1.0, 1.0], [18.999462833596805, 1.0005371664031937], [0.9499731416798403, 0.050026858320159684], 0.0, 'No Risk'], ['less_0', 11, 'credits_paid_to_date', 'vacation', 1130, 'less_100', '4_to_7', 3, 'female', 'none', 3, 'savings_insurance', 37, 'none', 'own', 1, 'skilled', 1, 'none', 'yes', 1.0, 1.0, 1.0, 0.0, 0.0, 0.0, 0.0, 0.0, 6.0, 0.0, 0.0, 1.0, 0.0, [1.0, 1.0, 6.0, 0.0, 1.0, 1.0, 0.0, 0.0, 0.0, 0.0, 0.0, 0.0, 0.0, 11.0, 1130.0, 3.0, 3.0, 11.0, 37.0, 1.0, 1.0], [15.446151597495188, 4.55384840250481], [0.7723075798747594, 0.22769242012524052], 0.0, 'No Risk'], ['less_0', 23, 'prior_payments_delayed', 'education', 3294, 'less_100', '4_to_7', 2, 'male', 'none', 2, 'savings_insurance', 32, 'none', 'own', 1, 'skilled', 1, 'none', 'yes', 1.0, 0.0, 1.0, 0.0, 0.0, 0.0, 0.0, 0.0, 7.0, 0.0, 0.0, 0.0, 0.0, [21, [0, 2, 4, 13, 14, 15, 16, 17, 18, 19, 20], [1.0, 7.0, 1.0, 23.0, 3294.0, 2.0, 2.0, 23.0, 32.0, 1.0, 1.0]], [15.899885695133156, 4.100114304866844], [0.7949942847566578, 0.2050057152433422], 0.0, 'No Risk'], ['0_to_200', 15, 'prior_payments_delayed', 'retraining', 398, 'less_100', 'less_1', 2, 'male', 'co-applicant', 2, 'savings_insurance', 44, 'none', 'own', 1, 'skilled', 1, 'yes', 'yes', 2.0, 0.0, 3.0, 0.0, 0.0, 0.0, 0.0, 0.0, 8.0, 1.0, 0.0, 0.0, 1.0, [2.0, 0.0, 8.0, 0.0, 3.0, 0.0, 1.0, 0.0, 0.0, 0.0, 0.0, 1.0, 0.0, 15.0, 398.0, 2.0, 2.0, 15.0, 44.0, 1.0, 1.0], [16.082241741448748, 3.9177582585512534], [0.8041120870724374, 0.19588791292756266], 0.0, 'No Risk'], ['0_to_200', 11, 'prior_payments_delayed', 'furniture', 250, '100_to_500', '1_to_4', 1, 'male', 'co-applicant', 2, 'savings_insurance', 34, 'stores', 'rent', 1, 'unskilled', 1, 'none', 'yes', 2.0, 0.0, 0.0, 1.0, 0.0, 1.0, 1.0, 1.0, 1.0, 1.0, 0.0, 0.0, 0.0, [2.0, 0.0, 1.0, 1.0, 0.0, 0.0, 1.0, 0.0, 1.0, 1.0, 1.0, 0.0, 0.0, 11.0, 250.0, 1.0, 2.0, 11.0, 34.0, 1.0, 1.0], [17.44301270108651, 2.556987298913488], [0.8721506350543257, 0.12784936494567442], 0.0, 'No Risk'], ['no_checking', 48, 'outstanding_credit', 'repairs', 7164, '500_to_1000', 'greater_7', 5, 'male', 'co-applicant', 4, 'unknown', 42, 'none', 'free', 2, 'skilled', 1, 'yes', 'yes', 0.0, 2.0, 2.0, 2.0, 0.0, 2.0, 0.0, 0.0, 5.0, 1.0, 3.0, 0.0, 1.0, [0.0, 2.0, 5.0, 2.0, 2.0, 0.0, 1.0, 3.0, 0.0, 2.0, 0.0, 1.0, 0.0, 48.0, 7164.0, 5.0, 4.0, 48.0, 42.0, 2.0, 1.0], [2.966236157963879, 17.03376384203612], [0.14831180789819395, 0.851688192101806], 1.0, 'Risk'], ['no_checking', 24, 'outstanding_credit', 'appliances', 5408, '500_to_1000', '4_to_7', 4, 'male', 'none', 4, 'car_other', 51, 'none', 'own', 2, 'management_self-employed', 1, 'yes', 'yes', 0.0, 2.0, 1.0, 2.0, 0.0, 0.0, 0.0, 2.0, 4.0, 0.0, 1.0, 0.0, 1.0, [0.0, 2.0, 4.0, 2.0, 1.0, 0.0, 0.0, 1.0, 0.0, 0.0, 2.0, 1.0, 0.0, 24.0, 5408.0, 4.0, 4.0, 24.0, 51.0, 2.0, 1.0], [7.101957177823399, 12.8980428221766], [0.35509785889116996, 0.64490214110883], 1.0, 'Risk'], ['greater_200', 11, 'prior_payments_delayed', 'appliances', 1167, '100_to_500', 'greater_7', 2, 'male', 'none', 3, 'savings_insurance', 25, 'none', 'own', 1, 'skilled', 1, 'none', 'yes', 3.0, 0.0, 2.0, 1.0, 0.0, 0.0, 0.0, 0.0, 4.0, 0.0, 0.0, 0.0, 0.0, [21, [0, 2, 3, 4, 13, 14, 15, 16, 17, 18, 19, 20], [3.0, 4.0, 1.0, 2.0, 11.0, 1167.0, 2.0, 3.0, 11.0, 25.0, 1.0, 1.0]], [16.455348860331483, 3.544651139668518], [0.8227674430165741, 0.1772325569834259], 0.0, 'No Risk'], ['0_to_200', 14, 'credits_paid_to_date', 'car_used', 2817, 'less_100', 'less_1', 2, 'male', 'none', 3, 'savings_insurance', 35, 'none', 'own', 1, 'skilled', 1, 'none', 'yes', 2.0, 1.0, 3.0, 0.0, 0.0, 0.0, 0.0, 0.0, 2.0, 0.0, 0.0, 0.0, 0.0, [21, [0, 1, 2, 4, 13, 14, 15, 16, 17, 18, 19, 20], [2.0, 1.0, 2.0, 3.0, 14.0, 2817.0, 2.0, 3.0, 14.0, 35.0, 1.0, 1.0]], [17.05553555085548, 2.9444644491445207], [0.852776777542774, 0.14722322245722602], 0.0, 'No Risk'], ['no_checking', 30, 'prior_payments_delayed', 'radio_tv', 6216, '100_to_500', '4_to_7', 3, 'male', 'none', 4, 'car_other', 41, 'none', 'own', 1, 'management_self-employed', 1, 'none', 'yes', 0.0, 0.0, 1.0, 1.0, 0.0, 0.0, 0.0, 2.0, 3.0, 0.0, 1.0, 0.0, 0.0, [0.0, 0.0, 3.0, 1.0, 1.0, 0.0, 0.0, 1.0, 0.0, 0.0, 2.0, 0.0, 0.0, 30.0, 6216.0, 3.0, 4.0, 30.0, 41.0, 1.0, 1.0], [11.052137278622133, 8.947862721377867], [0.5526068639311067, 0.4473931360688933], 0.0, 'No Risk'], ['no_checking', 38, 'prior_payments_delayed', 'vacation', 6335, '500_to_1000', 'greater_7', 5, 'male', 'none', 3, 'savings_insurance', 55, 'stores', 'own', 2, 'unskilled', 1, 'none', 'yes', 0.0, 0.0, 2.0, 2.0, 0.0, 0.0, 1.0, 1.0, 6.0, 0.0, 0.0, 0.0, 0.0, [0.0, 0.0, 6.0, 2.0, 2.0, 0.0, 0.0, 0.0, 1.0, 0.0, 1.0, 0.0, 0.0, 38.0, 6335.0, 5.0, 3.0, 38.0, 55.0, 2.0, 1.0], [9.28498331027004, 10.71501668972996], [0.464249165513502, 0.5357508344864981], 1.0, 'Risk'], ['less_0', 4, 'credits_paid_to_date', 'car_new', 250, 'less_100', 'unemployed', 1, 'male', 'none', 1, 'real_estate', 19, 'none', 'rent', 1, 'management_self-employed', 1, 'none', 'yes', 1.0, 1.0, 4.0, 0.0, 0.0, 1.0, 0.0, 2.0, 0.0, 0.0, 2.0, 0.0, 0.0, [1.0, 1.0, 0.0, 0.0, 4.0, 0.0, 0.0, 2.0, 0.0, 1.0, 2.0, 0.0, 0.0, 4.0, 250.0, 1.0, 1.0, 4.0, 19.0, 1.0, 1.0], [19.57905230011179, 0.4209476998882057], [0.9789526150055897, 0.02104738499441029], 0.0, 'No Risk'], ['no_checking', 19, 'credits_paid_to_date', 'radio_tv', 4737, '100_to_500', '4_to_7', 4, 'female', 'none', 4, 'car_other', 43, 'none', 'own', 2, 'skilled', 1, 'yes', 'yes', 0.0, 1.0, 1.0, 1.0, 0.0, 0.0, 0.0, 0.0, 3.0, 0.0, 1.0, 1.0, 1.0, [0.0, 1.0, 3.0, 1.0, 1.0, 1.0, 0.0, 1.0, 0.0, 0.0, 0.0, 1.0, 0.0, 19.0, 4737.0, 4.0, 4.0, 19.0, 43.0, 2.0, 1.0], [7.8727739177645955, 12.127226082235405], [0.39363869588822975, 0.6063613041117702], 1.0, 'Risk'], ['greater_200', 17, 'credits_paid_to_date', 'car_new', 572, 'less_100', '1_to_4', 1, 'male', 'none', 1, 'real_estate', 30, 'none', 'own', 1, 'skilled', 1, 'none', 'yes', 3.0, 1.0, 0.0, 0.0, 0.0, 0.0, 0.0, 0.0, 0.0, 0.0, 2.0, 0.0, 0.0, [21, [0, 1, 7, 13, 14, 15, 16, 17, 18, 19, 20], [3.0, 1.0, 2.0, 17.0, 572.0, 1.0, 1.0, 17.0, 30.0, 1.0, 1.0]], [17.684608784549365, 2.315391215450635], [0.8842304392274682, 0.11576956077253175], 0.0, 'No Risk'], ['0_to_200', 16, 'prior_payments_delayed', 'furniture', 2285, '100_to_500', 'less_1', 3, 'male', 'none', 3, 'savings_insurance', 33, 'none', 'own', 1, 'management_self-employed', 1, 'yes', 'yes', 2.0, 0.0, 3.0, 1.0, 0.0, 0.0, 0.0, 2.0, 1.0, 0.0, 0.0, 0.0, 1.0, [2.0, 0.0, 1.0, 1.0, 3.0, 0.0, 0.0, 0.0, 0.0, 0.0, 2.0, 1.0, 0.0, 16.0, 2285.0, 3.0, 3.0, 16.0, 33.0, 1.0, 1.0], [15.948130546431212, 4.051869453568788], [0.7974065273215606, 0.20259347267843938], 0.0, 'No Risk'], ['less_0', 21, 'prior_payments_delayed', 'car_new', 3139, 'less_100', 'unemployed', 2, 'male', 'none', 2, 'savings_insurance', 23, 'none', 'own', 1, 'skilled', 1, 'none', 'yes', 1.0, 0.0, 4.0, 0.0, 0.0, 0.0, 0.0, 0.0, 0.0, 0.0, 0.0, 0.0, 0.0, [21, [0, 4, 13, 14, 15, 16, 17, 18, 19, 20], [1.0, 4.0, 21.0, 3139.0, 2.0, 2.0, 21.0, 23.0, 1.0, 1.0]], [17.966100174121415, 2.0338998258785854], [0.8983050087060708, 0.10169499129392927], 0.0, 'No Risk'], ['no_checking', 33, 'outstanding_credit', 'repairs', 7577, '500_to_1000', '4_to_7', 3, 'male', 'co-applicant', 4, 'unknown', 50, 'stores', 'own', 2, 'skilled', 1, 'yes', 'yes', 0.0, 2.0, 1.0, 2.0, 0.0, 0.0, 1.0, 0.0, 5.0, 1.0, 3.0, 0.0, 1.0, [0.0, 2.0, 5.0, 2.0, 1.0, 0.0, 1.0, 3.0, 1.0, 0.0, 0.0, 1.0, 0.0, 33.0, 7577.0, 3.0, 4.0, 33.0, 50.0, 2.0, 1.0], [3.6804599855325546, 16.319540014467446], [0.18402299927662774, 0.8159770007233723], 1.0, 'Risk'], ['0_to_200', 7, 'all_credits_paid_back', 'car_new', 250, 'less_100', 'unemployed', 2, 'female', 'none', 2, 'real_estate', 33, 'none', 'rent', 1, 'skilled', 1, 'none', 'yes', 2.0, 3.0, 4.0, 0.0, 0.0, 1.0, 0.0, 0.0, 0.0, 0.0, 2.0, 1.0, 0.0, [2.0, 3.0, 0.0, 0.0, 4.0, 1.0, 0.0, 2.0, 0.0, 1.0, 0.0, 0.0, 0.0, 7.0, 250.0, 2.0, 2.0, 7.0, 33.0, 1.0, 1.0], [18.880810229442638, 1.119189770557363], [0.9440405114721319, 0.055959488527868154], 0.0, 'No Risk'], ['no_checking', 8, 'prior_payments_delayed', 'radio_tv', 2448, 'greater_1000', '4_to_7', 3, 'male', 'none', 4, 'car_other', 47, 'none', 'free', 2, 'skilled', 1, 'yes', 'yes', 0.0, 0.0, 1.0, 3.0, 0.0, 2.0, 0.0, 0.0, 3.0, 0.0, 1.0, 0.0, 1.0, [0.0, 0.0, 3.0, 3.0, 1.0, 0.0, 0.0, 1.0, 0.0, 2.0, 0.0, 1.0, 0.0, 8.0, 2448.0, 3.0, 4.0, 8.0, 47.0, 2.0, 1.0], [8.513561873936267, 11.486438126063735], [0.4256780936968133, 0.5743219063031868], 1.0, 'Risk'], ['greater_200', 29, 'outstanding_credit', 'appliances', 5495, 'unknown', 'greater_7', 5, 'male', 'none', 4, 'car_other', 45, 'none', 'free', 2, 'skilled', 1, 'yes', 'no', 3.0, 2.0, 2.0, 4.0, 1.0, 2.0, 0.0, 0.0, 4.0, 0.0, 1.0, 0.0, 1.0, [3.0, 2.0, 4.0, 4.0, 2.0, 0.0, 0.0, 1.0, 0.0, 2.0, 0.0, 1.0, 1.0, 29.0, 5495.0, 5.0, 4.0, 29.0, 45.0, 2.0, 1.0], [8.491906141942092, 11.50809385805791], [0.4245953070971046, 0.5754046929028955], 1.0, 'Risk'], ['less_0', 22, 'credits_paid_to_date', 'furniture', 639, 'less_100', '1_to_4', 3, 'male', 'none', 2, 'real_estate', 26, 'none', 'rent', 1, 'skilled', 1, 'none', 'yes', 1.0, 1.0, 0.0, 0.0, 0.0, 1.0, 0.0, 0.0, 1.0, 0.0, 2.0, 0.0, 0.0, [1.0, 1.0, 1.0, 0.0, 0.0, 0.0, 0.0, 2.0, 0.0, 1.0, 0.0, 0.0, 0.0, 22.0, 639.0, 3.0, 2.0, 22.0, 26.0, 1.0, 1.0], [17.875504841777367, 2.124495158222637], [0.8937752420888682, 0.10622475791113183], 0.0, 'No Risk'], ['no_checking', 29, 'prior_payments_delayed', 'appliances', 7716, 'greater_1000', 'greater_7', 5, 'male', 'none', 3, 'savings_insurance', 36, 'none', 'own', 2, 'skilled', 1, 'yes', 'yes', 0.0, 0.0, 2.0, 3.0, 0.0, 0.0, 0.0, 0.0, 4.0, 0.0, 0.0, 0.0, 1.0, [21, [2, 3, 4, 11, 13, 14, 15, 16, 17, 18, 19, 20], [4.0, 3.0, 2.0, 1.0, 29.0, 7716.0, 5.0, 3.0, 29.0, 36.0, 2.0, 1.0]], [8.795667576199325, 11.204332423800672], [0.4397833788099663, 0.5602166211900337], 1.0, 'Risk'], ['less_0', 34, 'credits_paid_to_date', 'business', 939, 'less_100', '1_to_4', 3, 'female', 'none', 3, 'savings_insurance', 19, 'stores', 'rent', 1, 'unskilled', 1, 'none', 'yes', 1.0, 1.0, 0.0, 0.0, 0.0, 1.0, 1.0, 1.0, 9.0, 0.0, 0.0, 1.0, 0.0, [1.0, 1.0, 9.0, 0.0, 0.0, 1.0, 0.0, 0.0, 1.0, 1.0, 1.0, 0.0, 0.0, 34.0, 939.0, 3.0, 3.0, 34.0, 19.0, 1.0, 1.0], [15.842944629806745, 4.1570553701932536], [0.7921472314903373, 0.20785276850966267], 0.0, 'No Risk'], ['no_checking', 19, 'credits_paid_to_date', 'radio_tv', 4361, '100_to_500', '4_to_7', 4, 'male', 'none', 3, 'car_other', 39, 'none', 'own', 1, 'management_self-employed', 1, 'none', 'yes', 0.0, 1.0, 1.0, 1.0, 0.0, 0.0, 0.0, 2.0, 3.0, 0.0, 1.0, 0.0, 0.0, [0.0, 1.0, 3.0, 1.0, 1.0, 0.0, 0.0, 1.0, 0.0, 0.0, 2.0, 0.0, 0.0, 19.0, 4361.0, 4.0, 3.0, 19.0, 39.0, 1.0, 1.0], [12.409587080521204, 7.590412919478798], [0.6204793540260602, 0.37952064597393986], 0.0, 'No Risk'], ['less_0', 9, 'all_credits_paid_back', 'car_new', 250, 'less_100', '1_to_4', 2, 'female', 'none', 1, 'real_estate', 19, 'none', 'rent', 1, 'skilled', 1, 'none', 'yes', 1.0, 3.0, 0.0, 0.0, 0.0, 1.0, 0.0, 0.0, 0.0, 0.0, 2.0, 1.0, 0.0, [1.0, 3.0, 0.0, 0.0, 0.0, 1.0, 0.0, 2.0, 0.0, 1.0, 0.0, 0.0, 0.0, 9.0, 250.0, 2.0, 1.0, 9.0, 19.0, 1.0, 1.0], [19.32575664449567, 0.6742433555043249], [0.9662878322247838, 0.03371216777521626], 0.0, 'No Risk'], ['no_checking', 42, 'outstanding_credit', 'vacation', 7250, 'unknown', 'greater_7', 5, 'male', 'co-applicant', 5, 'car_other', 51, 'none', 'free', 2, 'management_self-employed', 2, 'yes', 'yes', 0.0, 2.0, 2.0, 4.0, 0.0, 2.0, 0.0, 2.0, 6.0, 1.0, 1.0, 0.0, 1.0, [0.0, 2.0, 6.0, 4.0, 2.0, 0.0, 1.0, 1.0, 0.0, 2.0, 2.0, 1.0, 0.0, 42.0, 7250.0, 5.0, 5.0, 42.0, 51.0, 2.0, 2.0], [2.1486490862058756, 17.851350913794125], [0.10743245431029377, 0.8925675456897062], 1.0, 'Risk'], ['less_0', 33, 'prior_payments_delayed', 'radio_tv', 2379, '100_to_500', 'greater_7', 4, 'male', 'none', 3, 'savings_insurance', 32, 'none', 'own', 1, 'skilled', 1, 'none', 'yes', 1.0, 0.0, 2.0, 1.0, 0.0, 0.0, 0.0, 0.0, 3.0, 0.0, 0.0, 0.0, 0.0, [21, [0, 2, 3, 4, 13, 14, 15, 16, 17, 18, 19, 20], [1.0, 3.0, 1.0, 2.0, 33.0, 2379.0, 4.0, 3.0, 33.0, 32.0, 1.0, 1.0]], [13.420324437813997, 6.579675562186001], [0.6710162218906999, 0.3289837781093], 0.0, 'No Risk'], ['0_to_200', 4, 'all_credits_paid_back', 'car_new', 1847, 'less_100', '1_to_4', 3, 'female', 'none', 3, 'car_other', 32, 'none', 'own', 1, 'management_self-employed', 1, 'none', 'yes', 2.0, 3.0, 0.0, 0.0, 0.0, 0.0, 0.0, 2.0, 0.0, 0.0, 1.0, 1.0, 0.0, [2.0, 3.0, 0.0, 0.0, 0.0, 1.0, 0.0, 1.0, 0.0, 0.0, 2.0, 0.0, 0.0, 4.0, 1847.0, 3.0, 3.0, 4.0, 32.0, 1.0, 1.0], [17.234874505142137, 2.7651254948578567], [0.8617437252571072, 0.1382562747428929], 0.0, 'No Risk'], ['no_checking', 27, 'prior_payments_delayed', 'furniture', 4228, 'unknown', 'less_1', 4, 'male', 'none', 3, 'car_other', 34, 'none', 'own', 1, 'management_self-employed', 1, 'none', 'yes', 0.0, 0.0, 3.0, 4.0, 0.0, 0.0, 0.0, 2.0, 1.0, 0.0, 1.0, 0.0, 0.0, [0.0, 0.0, 1.0, 4.0, 3.0, 0.0, 0.0, 1.0, 0.0, 0.0, 2.0, 0.0, 0.0, 27.0, 4228.0, 4.0, 3.0, 27.0, 34.0, 1.0, 1.0], [14.155625378946475, 5.844374621053527], [0.7077812689473237, 0.2922187310526764], 0.0, 'No Risk'], ['less_0', 4, 'all_credits_paid_back', 'car_new', 250, '100_to_500', '1_to_4', 1, 'female', 'none', 1, 'real_estate', 33, 'bank', 'rent', 1, 'unemployed', 1, 'none', 'yes', 1.0, 3.0, 0.0, 1.0, 0.0, 1.0, 2.0, 3.0, 0.0, 0.0, 2.0, 1.0, 0.0, [1.0, 3.0, 0.0, 1.0, 0.0, 1.0, 0.0, 2.0, 2.0, 1.0, 3.0, 0.0, 0.0, 4.0, 250.0, 1.0, 1.0, 4.0, 33.0, 1.0, 1.0], [18.963853318231813, 1.03614668176819], [0.9481926659115905, 0.051807334088409485], 0.0, 'No Risk'], ['no_checking', 31, 'prior_payments_delayed', 'car_used', 4429, '500_to_1000', 'greater_7', 3, 'male', 'none', 4, 'car_other', 43, 'none', 'own', 1, 'skilled', 1, 'yes', 'yes', 0.0, 0.0, 2.0, 2.0, 0.0, 0.0, 0.0, 0.0, 2.0, 0.0, 1.0, 0.0, 1.0, [0.0, 0.0, 2.0, 2.0, 2.0, 0.0, 0.0, 1.0, 0.0, 0.0, 0.0, 1.0, 0.0, 31.0, 4429.0, 3.0, 4.0, 31.0, 43.0, 1.0, 1.0], [9.313492396752784, 10.686507603247216], [0.4656746198376392, 0.5343253801623609], 1.0, 'Risk'], ['less_0', 18, 'prior_payments_delayed', 'car_new', 2576, 'less_100', '1_to_4', 3, 'male', 'none', 2, 'car_other', 31, 'none', 'rent', 1, 'skilled', 1, 'yes', 'yes', 1.0, 0.0, 0.0, 0.0, 0.0, 1.0, 0.0, 0.0, 0.0, 0.0, 1.0, 0.0, 1.0, [21, [0, 7, 9, 11, 13, 14, 15, 16, 17, 18, 19, 20], [1.0, 1.0, 1.0, 1.0, 18.0, 2576.0, 3.0, 2.0, 18.0, 31.0, 1.0, 1.0]], [15.76376252025894, 4.2362374797410585], [0.788188126012947, 0.21181187398705292], 0.0, 'No Risk'], ['less_0', 16, 'credits_paid_to_date', 'vacation', 1152, 'less_100', 'less_1', 1, 'male', 'none', 2, 'car_other', 36, 'stores', 'own', 1, 'skilled', 1, 'none', 'yes', 1.0, 1.0, 3.0, 0.0, 0.0, 0.0, 1.0, 0.0, 6.0, 0.0, 1.0, 0.0, 0.0, [1.0, 1.0, 6.0, 0.0, 3.0, 0.0, 0.0, 1.0, 1.0, 0.0, 0.0, 0.0, 0.0, 16.0, 1152.0, 1.0, 2.0, 16.0, 36.0, 1.0, 1.0], [17.264139534442506, 2.7358604655574963], [0.8632069767221252, 0.1367930232778748], 0.0, 'No Risk'], ['0_to_200', 5, 'all_credits_paid_back', 'car_new', 677, 'less_100', 'less_1', 2, 'female', 'none', 3, 'real_estate', 34, 'none', 'own', 1, 'management_self-employed', 1, 'none', 'yes', 2.0, 3.0, 3.0, 0.0, 0.0, 0.0, 0.0, 2.0, 0.0, 0.0, 2.0, 1.0, 0.0, [2.0, 3.0, 0.0, 0.0, 3.0, 1.0, 0.0, 2.0, 0.0, 0.0, 2.0, 0.0, 0.0, 5.0, 677.0, 2.0, 3.0, 5.0, 34.0, 1.0, 1.0], [18.27014400199728, 1.7298559980027208], [0.9135072000998641, 0.08649279990013604], 0.0, 'No Risk'], ['0_to_200', 24, 'credits_paid_to_date', 'car_used', 1577, 'less_100', '1_to_4', 3, 'male', 'none', 2, 'savings_insurance', 40, 'none', 'free', 1, 'skilled', 1, 'none', 'yes', 2.0, 1.0, 0.0, 0.0, 0.0, 2.0, 0.0, 0.0, 2.0, 0.0, 0.0, 0.0, 0.0, [21, [0, 1, 2, 9, 13, 14, 15, 16, 17, 18, 19, 20], [2.0, 1.0, 2.0, 2.0, 24.0, 1577.0, 3.0, 2.0, 24.0, 40.0, 1.0, 1.0]], [15.727671013727509, 4.272328986272493], [0.7863835506863754, 0.21361644931362464], 0.0, 'No Risk'], ['no_checking', 47, 'outstanding_credit', 'business', 8011, 'greater_1000', '4_to_7', 5, 'male', 'co-applicant', 5, 'unknown', 47, 'none', 'free', 2, 'skilled', 1, 'yes', 'yes', 0.0, 2.0, 1.0, 3.0, 0.0, 2.0, 0.0, 0.0, 9.0, 1.0, 3.0, 0.0, 1.0, [0.0, 2.0, 9.0, 3.0, 1.0, 0.0, 1.0, 3.0, 0.0, 2.0, 0.0, 1.0, 0.0, 47.0, 8011.0, 5.0, 5.0, 47.0, 47.0, 2.0, 1.0], [3.7836625713287098, 16.216337428671288], [0.18918312856643552, 0.8108168714335645], 1.0, 'Risk'], ['greater_200', 18, 'all_credits_paid_back', 'furniture', 975, '500_to_1000', '1_to_4', 2, 'male', 'none', 3, 'savings_insurance', 36, 'none', 'own', 1, 'skilled', 1, 'yes', 'yes', 3.0, 3.0, 0.0, 2.0, 0.0, 0.0, 0.0, 0.0, 1.0, 0.0, 0.0, 0.0, 1.0, [3.0, 3.0, 1.0, 2.0, 0.0, 0.0, 0.0, 0.0, 0.0, 0.0, 0.0, 1.0, 0.0, 18.0, 975.0, 2.0, 3.0, 18.0, 36.0, 1.0, 1.0], [13.679580892662127, 6.32041910733787], [0.6839790446331064, 0.31602095536689356], 0.0, 'No Risk'], ['less_0', 4, 'prior_payments_delayed', 'furniture', 420, '100_to_500', '1_to_4', 3, 'male', 'none', 1, 'savings_insurance', 45, 'none', 'own', 2, 'skilled', 1, 'yes', 'no', 1.0, 0.0, 0.0, 1.0, 1.0, 0.0, 0.0, 0.0, 1.0, 0.0, 0.0, 0.0, 1.0, [1.0, 0.0, 1.0, 1.0, 0.0, 0.0, 0.0, 0.0, 0.0, 0.0, 0.0, 1.0, 1.0, 4.0, 420.0, 3.0, 1.0, 4.0, 45.0, 2.0, 1.0], [15.244331576088486, 4.755668423911515], [0.7622165788044243, 0.23778342119557574], 0.0, 'No Risk'], ['no_checking', 51, 'outstanding_credit', 'other', 7493, 'unknown', 'greater_7', 5, 'male', 'co-applicant', 5, 'unknown', 51, 'none', 'free', 2, 'skilled', 2, 'yes', 'yes', 0.0, 2.0, 2.0, 4.0, 0.0, 2.0, 0.0, 0.0, 10.0, 1.0, 3.0, 0.0, 1.0, [0.0, 2.0, 10.0, 4.0, 2.0, 0.0, 1.0, 3.0, 0.0, 2.0, 0.0, 1.0, 0.0, 51.0, 7493.0, 5.0, 5.0, 51.0, 51.0, 2.0, 2.0], [1.515425546798896, 18.484574453201105], [0.07577127733994479, 0.9242287226600553], 1.0, 'Risk'], ['no_checking', 30, 'outstanding_credit', 'other', 9106, 'greater_1000', 'greater_7', 4, 'male', 'co-applicant', 3, 'unknown', 53, 'none', 'free', 2, 'skilled', 1, 'yes', 'yes', 0.0, 2.0, 2.0, 3.0, 0.0, 2.0, 0.0, 0.0, 10.0, 1.0, 3.0, 0.0, 1.0, [0.0, 2.0, 10.0, 3.0, 2.0, 0.0, 1.0, 3.0, 0.0, 2.0, 0.0, 1.0, 0.0, 30.0, 9106.0, 4.0, 3.0, 30.0, 53.0, 2.0, 1.0], [1.5447906515747198, 18.45520934842528], [0.07723953257873599, 0.922760467421264], 1.0, 'Risk'], ['0_to_200', 14, 'credits_paid_to_date', 'car_new', 3661, 'less_100', 'less_1', 3, 'female', 'none', 2, 'savings_insurance', 29, 'none', 'rent', 2, 'skilled', 1, 'none', 'yes', 2.0, 1.0, 3.0, 0.0, 0.0, 1.0, 0.0, 0.0, 0.0, 0.0, 0.0, 1.0, 0.0, [2.0, 1.0, 0.0, 0.0, 3.0, 1.0, 0.0, 0.0, 0.0, 1.0, 0.0, 0.0, 0.0, 14.0, 3661.0, 3.0, 2.0, 14.0, 29.0, 2.0, 1.0], [17.407519147814536, 2.5924808521854628], [0.8703759573907268, 0.12962404260927313], 0.0, 'No Risk'], ['0_to_200', 13, 'prior_payments_delayed', 'car_new', 3280, 'greater_1000', 'greater_7', 3, 'male', 'none', 2, 'car_other', 40, 'bank', 'own', 2, 'unemployed', 1, 'yes', 'yes', 2.0, 0.0, 2.0, 3.0, 0.0, 0.0, 2.0, 3.0, 0.0, 0.0, 1.0, 0.0, 1.0, [2.0, 0.0, 0.0, 3.0, 2.0, 0.0, 0.0, 1.0, 2.0, 0.0, 3.0, 1.0, 0.0, 13.0, 3280.0, 3.0, 2.0, 13.0, 40.0, 2.0, 1.0], [14.532363524781243, 5.467636475218761], [0.726618176239062, 0.273381823760938], 0.0, 'No Risk'], ['no_checking', 33, 'credits_paid_to_date', 'appliances', 8082, '100_to_500', '1_to_4', 4, 'male', 'none', 3, 'car_other', 41, 'none', 'free', 2, 'management_self-employed', 2, 'yes', 'yes', 0.0, 1.0, 0.0, 1.0, 0.0, 2.0, 0.0, 2.0, 4.0, 0.0, 1.0, 0.0, 1.0, [0.0, 1.0, 4.0, 1.0, 0.0, 0.0, 0.0, 1.0, 0.0, 2.0, 2.0, 1.0, 0.0, 33.0, 8082.0, 4.0, 3.0, 33.0, 41.0, 2.0, 2.0], [11.349558646713865, 8.650441353286137], [0.5674779323356932, 0.43252206766430684], 0.0, 'No Risk'], ['greater_200', 41, 'prior_payments_delayed', 'radio_tv', 5123, 'unknown', 'greater_7', 4, 'male', 'co-applicant', 4, 'savings_insurance', 39, 'none', 'own', 2, 'skilled', 2, 'yes', 'yes', 3.0, 0.0, 2.0, 4.0, 0.0, 0.0, 0.0, 0.0, 3.0, 1.0, 0.0, 0.0, 1.0, [3.0, 0.0, 3.0, 4.0, 2.0, 0.0, 1.0, 0.0, 0.0, 0.0, 0.0, 1.0, 0.0, 41.0, 5123.0, 4.0, 4.0, 41.0, 39.0, 2.0, 2.0], [9.11489455932944, 10.885105440670559], [0.455744727966472, 0.544255272033528], 1.0, 'Risk'], ['no_checking', 36, 'outstanding_credit', 'other', 8626, '500_to_1000', 'greater_7', 5, 'male', 'guarantor', 5, 'unknown', 59, 'none', 'free', 2, 'skilled', 1, 'yes', 'yes', 0.0, 2.0, 2.0, 2.0, 0.0, 2.0, 0.0, 0.0, 10.0, 2.0, 3.0, 0.0, 1.0, [0.0, 2.0, 10.0, 2.0, 2.0, 0.0, 2.0, 3.0, 0.0, 2.0, 0.0, 1.0, 0.0, 36.0, 8626.0, 5.0, 5.0, 36.0, 59.0, 2.0, 1.0], [2.623394207366358, 17.376605792633644], [0.1311697103683179, 0.8688302896316822], 1.0, 'Risk'], ['less_0', 8, 'credits_paid_to_date', 'car_used', 1560, 'less_100', '4_to_7', 3, 'male', 'none', 2, 'savings_insurance', 26, 'none', 'own', 2, 'skilled', 1, 'yes', 'yes', 1.0, 1.0, 1.0, 0.0, 0.0, 0.0, 0.0, 0.0, 2.0, 0.0, 0.0, 0.0, 1.0, [1.0, 1.0, 2.0, 0.0, 1.0, 0.0, 0.0, 0.0, 0.0, 0.0, 0.0, 1.0, 0.0, 8.0, 1560.0, 3.0, 2.0, 8.0, 26.0, 2.0, 1.0], [16.7006989696654, 3.2993010303345987], [0.83503494848327, 0.16496505151672994], 0.0, 'No Risk'], ['0_to_200', 29, 'prior_payments_delayed', 'car_used', 4434, '100_to_500', 'greater_7', 4, 'male', 'none', 4, 'car_other', 41, 'none', 'own', 1, 'skilled', 1, 'none', 'yes', 2.0, 0.0, 2.0, 1.0, 0.0, 0.0, 0.0, 0.0, 2.0, 0.0, 1.0, 0.0, 0.0, [2.0, 0.0, 2.0, 1.0, 2.0, 0.0, 0.0, 1.0, 0.0, 0.0, 0.0, 0.0, 0.0, 29.0, 4434.0, 4.0, 4.0, 29.0, 41.0, 1.0, 1.0], [11.50382162460219, 8.49617837539781], [0.5751910812301095, 0.42480891876989046], 0.0, 'No Risk'], ['0_to_200', 28, 'credits_paid_to_date', 'radio_tv', 250, '100_to_500', 'less_1', 2, 'female', 'co-applicant', 3, 'real_estate', 28, 'stores', 'own', 1, 'unskilled', 1, 'none', 'yes', 2.0, 1.0, 3.0, 1.0, 0.0, 0.0, 1.0, 1.0, 3.0, 1.0, 2.0, 1.0, 0.0, [2.0, 1.0, 3.0, 1.0, 3.0, 1.0, 1.0, 2.0, 1.0, 0.0, 1.0, 0.0, 0.0, 28.0, 250.0, 2.0, 3.0, 28.0, 28.0, 1.0, 1.0], [16.864628176099536, 3.1353718239004658], [0.8432314088049767, 0.15676859119502326], 0.0, 'No Risk'], ['0_to_200', 18, 'credits_paid_to_date', 'furniture', 2543, 'less_100', 'less_1', 3, 'female', 'none', 1, 'savings_insurance', 31, 'none', 'own', 1, 'skilled', 1, 'none', 'yes', 2.0, 1.0, 3.0, 0.0, 0.0, 0.0, 0.0, 0.0, 1.0, 0.0, 0.0, 1.0, 0.0, [2.0, 1.0, 1.0, 0.0, 3.0, 1.0, 0.0, 0.0, 0.0, 0.0, 0.0, 0.0, 0.0, 18.0, 2543.0, 3.0, 1.0, 18.0, 31.0, 1.0, 1.0], [18.05755382581772, 1.9424461741822798], [0.902877691290886, 0.097122308709114], 0.0, 'No Risk'], ['no_checking', 36, 'credits_paid_to_date', 'appliances', 5677, '100_to_500', '4_to_7', 4, 'female', 'none', 3, 'unknown', 45, 'none', 'own', 1, 'skilled', 2, 'yes', 'yes', 0.0, 1.0, 1.0, 1.0, 0.0, 0.0, 0.0, 0.0, 4.0, 0.0, 3.0, 1.0, 1.0, [0.0, 1.0, 4.0, 1.0, 1.0, 1.0, 0.0, 3.0, 0.0, 0.0, 0.0, 1.0, 0.0, 36.0, 5677.0, 4.0, 3.0, 36.0, 45.0, 1.0, 2.0], [6.058996390644158, 13.941003609355842], [0.3029498195322079, 0.6970501804677921], 1.0, 'Risk'], ['no_checking', 40, 'prior_payments_delayed', 'other', 5952, '500_to_1000', '1_to_4', 3, 'male', 'none', 4, 'unknown', 43, 'stores', 'own', 1, 'unskilled', 1, 'yes', 'yes', 0.0, 0.0, 0.0, 2.0, 0.0, 0.0, 1.0, 1.0, 10.0, 0.0, 3.0, 0.0, 1.0, [0.0, 0.0, 10.0, 2.0, 0.0, 0.0, 0.0, 3.0, 1.0, 0.0, 1.0, 1.0, 0.0, 40.0, 5952.0, 3.0, 4.0, 40.0, 43.0, 1.0, 1.0], [10.822328691960886, 9.177671308039114], [0.5411164345980443, 0.45888356540195574], 0.0, 'No Risk'], ['0_to_200', 43, 'prior_payments_delayed', 'other', 5713, '100_to_500', '4_to_7', 4, 'male', 'none', 4, 'unknown', 35, 'none', 'free', 2, 'skilled', 1, 'yes', 'yes', 2.0, 0.0, 1.0, 1.0, 0.0, 2.0, 0.0, 0.0, 10.0, 0.0, 3.0, 0.0, 1.0, [2.0, 0.0, 10.0, 1.0, 1.0, 0.0, 0.0, 3.0, 0.0, 2.0, 0.0, 1.0, 0.0, 43.0, 5713.0, 4.0, 4.0, 43.0, 35.0, 2.0, 1.0], [8.985626276778953, 11.014373723221047], [0.44928131383894765, 0.5507186861610524], 1.0, 'Risk'], ['less_0', 9, 'all_credits_paid_back', 'car_new', 1339, 'less_100', '1_to_4', 2, 'female', 'none', 2, 'savings_insurance', 25, 'none', 'own', 1, 'skilled', 1, 'none', 'yes', 1.0, 3.0, 0.0, 0.0, 0.0, 0.0, 0.0, 0.0, 0.0, 0.0, 0.0, 1.0, 0.0, [21, [0, 1, 5, 13, 14, 15, 16, 17, 18, 19, 20], [1.0, 3.0, 1.0, 9.0, 1339.0, 2.0, 2.0, 9.0, 25.0, 1.0, 1.0]], [18.534699955780738, 1.4653000442192607], [0.9267349977890369, 0.07326500221096303], 0.0, 'No Risk'], ['no_checking', 12, 'outstanding_credit', 'radio_tv', 1441, '100_to_500', '1_to_4', 2, 'female', 'none', 4, 'real_estate', 40, 'none', 'own', 1, 'skilled', 1, 'none', 'yes', 0.0, 2.0, 0.0, 1.0, 0.0, 0.0, 0.0, 0.0, 3.0, 0.0, 2.0, 1.0, 0.0, [0.0, 2.0, 3.0, 1.0, 0.0, 1.0, 0.0, 2.0, 0.0, 0.0, 0.0, 0.0, 0.0, 12.0, 1441.0, 2.0, 4.0, 12.0, 40.0, 1.0, 1.0], [16.698710333784955, 3.301289666215047], [0.8349355166892476, 0.16506448331075232], 0.0, 'No Risk'], ['no_checking', 37, 'prior_payments_delayed', 'appliances', 6352, '500_to_1000', '4_to_7', 4, 'male', 'none', 3, 'savings_insurance', 44, 'stores', 'rent', 1, 'unskilled', 1, 'yes', 'yes', 0.0, 0.0, 1.0, 2.0, 0.0, 1.0, 1.0, 1.0, 4.0, 0.0, 0.0, 0.0, 1.0, [0.0, 0.0, 4.0, 2.0, 1.0, 0.0, 0.0, 0.0, 1.0, 1.0, 1.0, 1.0, 0.0, 37.0, 6352.0, 4.0, 3.0, 37.0, 44.0, 1.0, 1.0], [11.95935985636807, 8.04064014363193], [0.5979679928184035, 0.4020320071815965], 0.0, 'No Risk'], ['no_checking', 30, 'prior_payments_delayed', 'car_used', 5277, 'unknown', '4_to_7', 4, 'male', 'none', 3, 'car_other', 48, 'none', 'own', 2, 'skilled', 1, 'none', 'yes', 0.0, 0.0, 1.0, 4.0, 0.0, 0.0, 0.0, 0.0, 2.0, 0.0, 1.0, 0.0, 0.0, [21, [2, 3, 4, 7, 13, 14, 15, 16, 17, 18, 19, 20], [2.0, 4.0, 1.0, 1.0, 30.0, 5277.0, 4.0, 3.0, 30.0, 48.0, 2.0, 1.0]], [8.269040397194978, 11.73095960280502], [0.4134520198597489, 0.586547980140251], 1.0, 'Risk'], ['no_checking', 31, 'outstanding_credit', 'appliances', 9149, 'unknown', 'greater_7', 5, 'male', 'co-applicant', 3, 'unknown', 61, 'none', 'own', 3, 'skilled', 2, 'yes', 'yes', 0.0, 2.0, 2.0, 4.0, 0.0, 0.0, 0.0, 0.0, 4.0, 1.0, 3.0, 0.0, 1.0, [0.0, 2.0, 4.0, 4.0, 2.0, 0.0, 1.0, 3.0, 0.0, 0.0, 0.0, 1.0, 0.0, 31.0, 9149.0, 5.0, 3.0, 31.0, 61.0, 3.0, 2.0], [1.6582658288796843, 18.341734171120315], [0.08291329144398421, 0.9170867085560157], 1.0, 'Risk'], ['greater_200', 25, 'outstanding_credit', 'car_used', 3600, 'greater_1000', '4_to_7', 2, 'male', 'none', 4, 'car_other', 57, 'bank', 'own', 2, 'unemployed', 1, 'yes', 'yes', 3.0, 2.0, 1.0, 3.0, 0.0, 0.0, 2.0, 3.0, 2.0, 0.0, 1.0, 0.0, 1.0, [3.0, 2.0, 2.0, 3.0, 1.0, 0.0, 0.0, 1.0, 2.0, 0.0, 3.0, 1.0, 0.0, 25.0, 3600.0, 2.0, 4.0, 25.0, 57.0, 2.0, 1.0], [10.03031967834963, 9.969680321650367], [0.5015159839174815, 0.49848401608251847], 0.0, 'No Risk'], ['0_to_200', 4, 'credits_paid_to_date', 'education', 410, 'less_100', 'unemployed', 1, 'male', 'none', 3, 'real_estate', 19, 'none', 'rent', 1, 'management_self-employed', 1, 'none', 'yes', 2.0, 1.0, 4.0, 0.0, 0.0, 1.0, 0.0, 2.0, 7.0, 0.0, 2.0, 0.0, 0.0, [2.0, 1.0, 7.0, 0.0, 4.0, 0.0, 0.0, 2.0, 0.0, 1.0, 2.0, 0.0, 0.0, 4.0, 410.0, 1.0, 3.0, 4.0, 19.0, 1.0, 1.0], [18.940365581958094, 1.0596344180419044], [0.9470182790979047, 0.05298172090209522], 0.0, 'No Risk'], ['greater_200', 27, 'prior_payments_delayed', 'radio_tv', 5579, 'greater_1000', '4_to_7', 2, 'male', 'none', 4, 'car_other', 36, 'stores', 'own', 2, 'unskilled', 1, 'yes', 'yes', 3.0, 0.0, 1.0, 3.0, 0.0, 0.0, 1.0, 1.0, 3.0, 0.0, 1.0, 0.0, 1.0, [3.0, 0.0, 3.0, 3.0, 1.0, 0.0, 0.0, 1.0, 1.0, 0.0, 1.0, 1.0, 0.0, 27.0, 5579.0, 2.0, 4.0, 27.0, 36.0, 2.0, 1.0], [11.862431333213623, 8.137568666786377], [0.5931215666606812, 0.40687843333931883], 0.0, 'No Risk'], ['0_to_200', 22, 'credits_paid_to_date', 'car_used', 1834, 'less_100', '4_to_7', 3, 'female', 'none', 3, 'car_other', 35, 'none', 'own', 1, 'skilled', 1, 'none', 'no', 2.0, 1.0, 1.0, 0.0, 1.0, 0.0, 0.0, 0.0, 2.0, 0.0, 1.0, 1.0, 0.0, [2.0, 1.0, 2.0, 0.0, 1.0, 1.0, 0.0, 1.0, 0.0, 0.0, 0.0, 0.0, 1.0, 22.0, 1834.0, 3.0, 3.0, 22.0, 35.0, 1.0, 1.0], [14.038475192254012, 5.961524807745986], [0.7019237596127006, 0.2980762403872993], 0.0, 'No Risk'], ['less_0', 12, 'prior_payments_delayed', 'repairs', 2707, 'less_100', '1_to_4', 3, 'male', 'none', 3, 'car_other', 34, 'bank', 'rent', 2, 'unskilled', 1, 'none', 'yes', 1.0, 0.0, 0.0, 0.0, 0.0, 1.0, 2.0, 1.0, 5.0, 0.0, 1.0, 0.0, 0.0, [1.0, 0.0, 5.0, 0.0, 0.0, 0.0, 0.0, 1.0, 2.0, 1.0, 1.0, 0.0, 0.0, 12.0, 2707.0, 3.0, 3.0, 12.0, 34.0, 2.0, 1.0], [14.994490289202163, 5.005509710797834], [0.7497245144601083, 0.25027548553989176], 0.0, 'No Risk'], ['no_checking', 8, 'credits_paid_to_date', 'furniture', 510, 'less_100', '4_to_7', 3, 'male', 'none', 4, 'real_estate', 46, 'none', 'rent', 1, 'management_self-employed', 1, 'none', 'yes', 0.0, 1.0, 1.0, 0.0, 0.0, 1.0, 0.0, 2.0, 1.0, 0.0, 2.0, 0.0, 0.0, [0.0, 1.0, 1.0, 0.0, 1.0, 0.0, 0.0, 2.0, 0.0, 1.0, 2.0, 0.0, 0.0, 8.0, 510.0, 3.0, 4.0, 8.0, 46.0, 1.0, 1.0], [14.887745801956633, 5.1122541980433684], [0.7443872900978317, 0.25561270990216844], 0.0, 'No Risk'], ['0_to_200', 22, 'credits_paid_to_date', 'appliances', 2406, 'less_100', 'unemployed', 2, 'female', 'none', 2, 'savings_insurance', 26, 'none', 'own', 1, 'skilled', 1, 'none', 'yes', 2.0, 1.0, 4.0, 0.0, 0.0, 0.0, 0.0, 0.0, 4.0, 0.0, 0.0, 1.0, 0.0, [2.0, 1.0, 4.0, 0.0, 4.0, 1.0, 0.0, 0.0, 0.0, 0.0, 0.0, 0.0, 0.0, 22.0, 2406.0, 2.0, 2.0, 22.0, 26.0, 1.0, 1.0], [18.101466881041972, 1.8985331189580277], [0.9050733440520986, 0.09492665594790138], 0.0, 'No Risk'], ['greater_200', 24, 'outstanding_credit', 'radio_tv', 3881, '100_to_500', 'greater_7', 4, 'male', 'none', 4, 'savings_insurance', 45, 'none', 'free', 2, 'skilled', 1, 'yes', 'yes', 3.0, 2.0, 2.0, 1.0, 0.0, 2.0, 0.0, 0.0, 3.0, 0.0, 0.0, 0.0, 1.0, [3.0, 2.0, 3.0, 1.0, 2.0, 0.0, 0.0, 0.0, 0.0, 2.0, 0.0, 1.0, 0.0, 24.0, 3881.0, 4.0, 4.0, 24.0, 45.0, 2.0, 1.0], [10.14540798203991, 9.85459201796009], [0.5072703991019955, 0.49272960089800455], 0.0, 'No Risk'], ['0_to_200', 16, 'prior_payments_delayed', 'furniture', 5311, 'less_100', 'greater_7', 3, 'male', 'none', 2, 'savings_insurance', 36, 'none', 'own', 1, 'skilled', 1, 'yes', 'yes', 2.0, 0.0, 2.0, 0.0, 0.0, 0.0, 0.0, 0.0, 1.0, 0.0, 0.0, 0.0, 1.0, [21, [0, 2, 4, 11, 13, 14, 15, 16, 17, 18, 19, 20], [2.0, 1.0, 2.0, 1.0, 16.0, 5311.0, 3.0, 2.0, 16.0, 36.0, 1.0, 1.0]], [15.87436028662033, 4.125639713379668], [0.7937180143310165, 0.2062819856689834], 0.0, 'No Risk'], ['0_to_200', 10, 'credits_paid_to_date', 'car_new', 250, 'less_100', '1_to_4', 2, 'male', 'none', 2, 'real_estate', 36, 'bank', 'rent', 1, 'unemployed', 1, 'none', 'yes', 2.0, 1.0, 0.0, 0.0, 0.0, 1.0, 2.0, 3.0, 0.0, 0.0, 2.0, 0.0, 0.0, [2.0, 1.0, 0.0, 0.0, 0.0, 0.0, 0.0, 2.0, 2.0, 1.0, 3.0, 0.0, 0.0, 10.0, 250.0, 2.0, 2.0, 10.0, 36.0, 1.0, 1.0], [18.35311750364975, 1.6468824963502517], [0.9176558751824875, 0.08234412481751259], 0.0, 'No Risk'], ['less_0', 40, 'outstanding_credit', 'repairs', 4833, 'greater_1000', 'greater_7', 4, 'male', 'none', 4, 'car_other', 35, 'stores', 'own', 2, 'skilled', 1, 'yes', 'yes', 1.0, 2.0, 2.0, 3.0, 0.0, 0.0, 1.0, 0.0, 5.0, 0.0, 1.0, 0.0, 1.0, [1.0, 2.0, 5.0, 3.0, 2.0, 0.0, 0.0, 1.0, 1.0, 0.0, 0.0, 1.0, 0.0, 40.0, 4833.0, 4.0, 4.0, 40.0, 35.0, 2.0, 1.0], [10.919056309191003, 9.080943690808997], [0.5459528154595501, 0.45404718454044984], 0.0, 'No Risk'], ['0_to_200', 4, 'prior_payments_delayed', 'car_new', 250, 'less_100', 'less_1', 1, 'female', 'none', 2, 'savings_insurance', 19, 'stores', 'rent', 1, 'skilled', 1, 'none', 'yes', 2.0, 0.0, 3.0, 0.0, 0.0, 1.0, 1.0, 0.0, 0.0, 0.0, 0.0, 1.0, 0.0, [2.0, 0.0, 0.0, 0.0, 3.0, 1.0, 0.0, 0.0, 1.0, 1.0, 0.0, 0.0, 0.0, 4.0, 250.0, 1.0, 2.0, 4.0, 19.0, 1.0, 1.0], [19.168646515945383, 0.8313534840546111], [0.9584323257972694, 0.04156767420273057], 0.0, 'No Risk'], ['no_checking', 28, 'prior_payments_delayed', 'radio_tv', 1804, '500_to_1000', '1_to_4', 3, 'male', 'none', 3, 'savings_insurance', 22, 'none', 'own', 1, 'skilled', 1, 'none', 'yes', 0.0, 0.0, 0.0, 2.0, 0.0, 0.0, 0.0, 0.0, 3.0, 0.0, 0.0, 0.0, 0.0, [21, [2, 3, 13, 14, 15, 16, 17, 18, 19, 20], [3.0, 2.0, 28.0, 1804.0, 3.0, 3.0, 28.0, 22.0, 1.0, 1.0]], [14.131159993173469, 5.868840006826533], [0.7065579996586735, 0.2934420003413266], 0.0, 'No Risk'], ['no_checking', 47, 'outstanding_credit', 'repairs', 3940, 'greater_1000', '4_to_7', 5, 'male', 'none', 5, 'savings_insurance', 54, 'none', 'own', 2, 'skilled', 1, 'none', 'yes', 0.0, 2.0, 1.0, 3.0, 0.0, 0.0, 0.0, 0.0, 5.0, 0.0, 0.0, 0.0, 0.0, [21, [1, 2, 3, 4, 13, 14, 15, 16, 17, 18, 19, 20], [2.0, 5.0, 3.0, 1.0, 47.0, 3940.0, 5.0, 5.0, 47.0, 54.0, 2.0, 1.0]], [9.875205977540428, 10.12479402245957], [0.49376029887702144, 0.5062397011229784], 1.0, 'Risk'], ['less_0', 24, 'credits_paid_to_date', 'car_used', 818, '500_to_1000', '1_to_4', 1, 'female', 'none', 2, 'savings_insurance', 29, 'stores', 'rent', 1, 'unskilled', 1, 'none', 'yes', 1.0, 1.0, 0.0, 2.0, 0.0, 1.0, 1.0, 1.0, 2.0, 0.0, 0.0, 1.0, 0.0, [1.0, 1.0, 2.0, 2.0, 0.0, 1.0, 0.0, 0.0, 1.0, 1.0, 1.0, 0.0, 0.0, 24.0, 818.0, 1.0, 2.0, 24.0, 29.0, 1.0, 1.0], [16.876984831218927, 3.123015168781074], [0.8438492415609463, 0.1561507584390537], 0.0, 'No Risk'], ['greater_200', 23, 'prior_payments_delayed', 'radio_tv', 7652, 'greater_1000', '4_to_7', 4, 'male', 'none', 3, 'unknown', 46, 'none', 'own', 2, 'skilled', 2, 'yes', 'no', 3.0, 0.0, 1.0, 3.0, 1.0, 0.0, 0.0, 0.0, 3.0, 0.0, 3.0, 0.0, 1.0, [3.0, 0.0, 3.0, 3.0, 1.0, 0.0, 0.0, 3.0, 0.0, 0.0, 0.0, 1.0, 1.0, 23.0, 7652.0, 4.0, 3.0, 23.0, 46.0, 2.0, 2.0], [9.486476782196322, 10.513523217803678], [0.47432383910981607, 0.5256761608901839], 1.0, 'Risk'], ['less_0', 9, 'all_credits_paid_back', 'car_new', 916, 'less_100', 'less_1', 2, 'female', 'none', 3, 'real_estate', 24, 'bank', 'own', 1, 'unskilled', 1, 'yes', 'yes', 1.0, 3.0, 3.0, 0.0, 0.0, 0.0, 2.0, 1.0, 0.0, 0.0, 2.0, 1.0, 1.0, [1.0, 3.0, 0.0, 0.0, 3.0, 1.0, 0.0, 2.0, 2.0, 0.0, 1.0, 1.0, 0.0, 9.0, 916.0, 2.0, 3.0, 9.0, 24.0, 1.0, 1.0], [19.207871467460066, 0.7921285325399294], [0.9603935733730035, 0.039606426626996476], 0.0, 'No Risk'], ['0_to_200', 17, 'credits_paid_to_date', 'furniture', 250, 'less_100', '4_to_7', 3, 'female', 'none', 1, 'real_estate', 32, 'stores', 'own', 1, 'skilled', 1, 'yes', 'yes', 2.0, 1.0, 1.0, 0.0, 0.0, 0.0, 1.0, 0.0, 1.0, 0.0, 2.0, 1.0, 1.0, [2.0, 1.0, 1.0, 0.0, 1.0, 1.0, 0.0, 2.0, 1.0, 0.0, 0.0, 1.0, 0.0, 17.0, 250.0, 3.0, 1.0, 17.0, 32.0, 1.0, 1.0], [18.181168709754385, 1.8188312902456125], [0.9090584354877194, 0.09094156451228064], 0.0, 'No Risk'], ['0_to_200', 4, 'prior_payments_delayed', 'car_used', 250, 'less_100', '1_to_4', 3, 'male', 'none', 3, 'savings_insurance', 41, 'none', 'own', 1, 'skilled', 1, 'none', 'yes', 2.0, 0.0, 0.0, 0.0, 0.0, 0.0, 0.0, 0.0, 2.0, 0.0, 0.0, 0.0, 0.0, [21, [0, 2, 13, 14, 15, 16, 17, 18, 19, 20], [2.0, 2.0, 4.0, 250.0, 3.0, 3.0, 4.0, 41.0, 1.0, 1.0]], [16.161513029445604, 3.838486970554395], [0.8080756514722802, 0.19192434852771975], 0.0, 'No Risk'], ['no_checking', 28, 'prior_payments_delayed', 'radio_tv', 5801, 'unknown', '4_to_7', 3, 'male', 'guarantor', 4, 'car_other', 56, 'none', 'free', 2, 'unskilled', 1, 'yes', 'yes', 0.0, 0.0, 1.0, 4.0, 0.0, 2.0, 0.0, 1.0, 3.0, 2.0, 1.0, 0.0, 1.0, [0.0, 0.0, 3.0, 4.0, 1.0, 0.0, 2.0, 1.0, 0.0, 2.0, 1.0, 1.0, 0.0, 28.0, 5801.0, 3.0, 4.0, 28.0, 56.0, 2.0, 1.0], [5.932286259414035, 14.067713740585965], [0.29661431297070173, 0.7033856870292983], 1.0, 'Risk'], ['less_0', 4, 'no_credits', 'car_new', 250, 'less_100', 'unemployed', 1, 'female', 'co-applicant', 1, 'real_estate', 19, 'stores', 'rent', 1, 'skilled', 1, 'none', 'yes', 1.0, 4.0, 4.0, 0.0, 0.0, 1.0, 1.0, 0.0, 0.0, 1.0, 2.0, 1.0, 0.0, [1.0, 4.0, 0.0, 0.0, 4.0, 1.0, 1.0, 2.0, 1.0, 1.0, 0.0, 0.0, 0.0, 4.0, 250.0, 1.0, 1.0, 4.0, 19.0, 1.0, 1.0], [19.5600407064368, 0.43995929356319874], [0.97800203532184, 0.021997964678159936], 0.0, 'No Risk'], ['less_0', 13, 'all_credits_paid_back', 'car_used', 4708, 'less_100', 'unemployed', 3, 'male', 'none', 3, 'car_other', 19, 'bank', 'rent', 1, 'unemployed', 1, 'none', 'yes', 1.0, 3.0, 4.0, 0.0, 0.0, 1.0, 2.0, 3.0, 2.0, 0.0, 1.0, 0.0, 0.0, [1.0, 3.0, 2.0, 0.0, 4.0, 0.0, 0.0, 1.0, 2.0, 1.0, 3.0, 0.0, 0.0, 13.0, 4708.0, 3.0, 3.0, 13.0, 19.0, 1.0, 1.0], [18.74050828352319, 1.2594917164768036], [0.9370254141761599, 0.0629745858238402], 0.0, 'No Risk'], ['less_0', 19, 'credits_paid_to_date', 'furniture', 2482, 'less_100', 'less_1', 2, 'female', 'co-applicant', 1, 'car_other', 29, 'stores', 'own', 1, 'skilled', 1, 'none', 'yes', 1.0, 1.0, 3.0, 0.0, 0.0, 0.0, 1.0, 0.0, 1.0, 1.0, 1.0, 1.0, 0.0, [1.0, 1.0, 1.0, 0.0, 3.0, 1.0, 1.0, 1.0, 1.0, 0.0, 0.0, 0.0, 0.0, 19.0, 2482.0, 2.0, 1.0, 19.0, 29.0, 1.0, 1.0], [18.64390380876414, 1.3560961912358607], [0.932195190438207, 0.06780480956179304], 0.0, 'No Risk'], ['0_to_200', 37, 'outstanding_credit', 'furniture', 3859, 'unknown', 'greater_7', 4, 'male', 'none', 4, 'unknown', 51, 'none', 'own', 2, 'skilled', 2, 'yes', 'yes', 2.0, 2.0, 2.0, 4.0, 0.0, 0.0, 0.0, 0.0, 1.0, 0.0, 3.0, 0.0, 1.0, [2.0, 2.0, 1.0, 4.0, 2.0, 0.0, 0.0, 3.0, 0.0, 0.0, 0.0, 1.0, 0.0, 37.0, 3859.0, 4.0, 4.0, 37.0, 51.0, 2.0, 2.0], [7.03640782959909, 12.963592170400908], [0.35182039147995453, 0.6481796085200454], 1.0, 'Risk'], ['no_checking', 32, 'prior_payments_delayed', 'appliances', 4590, '500_to_1000', '4_to_7', 3, 'female', 'none', 3, 'savings_insurance', 37, 'none', 'own', 1, 'skilled', 1, 'none', 'no', 0.0, 0.0, 1.0, 2.0, 1.0, 0.0, 0.0, 0.0, 4.0, 0.0, 0.0, 1.0, 0.0, [0.0, 0.0, 4.0, 2.0, 1.0, 1.0, 0.0, 0.0, 0.0, 0.0, 0.0, 0.0, 1.0, 32.0, 4590.0, 3.0, 3.0, 32.0, 37.0, 1.0, 1.0], [10.259532330072522, 9.740467669927476], [0.5129766165036261, 0.4870233834963738], 0.0, 'No Risk'], ['no_checking', 21, 'outstanding_credit', 'appliances', 2049, 'unknown', 'greater_7', 3, 'male', 'none', 3, 'car_other', 46, 'none', 'own', 2, 'skilled', 1, 'yes', 'yes', 0.0, 2.0, 2.0, 4.0, 0.0, 0.0, 0.0, 0.0, 4.0, 0.0, 1.0, 0.0, 1.0, [0.0, 2.0, 4.0, 4.0, 2.0, 0.0, 0.0, 1.0, 0.0, 0.0, 0.0, 1.0, 0.0, 21.0, 2049.0, 3.0, 3.0, 21.0, 46.0, 2.0, 1.0], [8.220325811118446, 11.779674188881552], [0.4110162905559223, 0.5889837094440776], 1.0, 'Risk'], ['less_0', 14, 'prior_payments_delayed', 'furniture', 1364, 'less_100', '1_to_4', 3, 'male', 'none', 3, 'savings_insurance', 30, 'none', 'own', 1, 'skilled', 1, 'none', 'no', 1.0, 0.0, 0.0, 0.0, 1.0, 0.0, 0.0, 0.0, 1.0, 0.0, 0.0, 0.0, 0.0, [21, [0, 2, 12, 13, 14, 15, 16, 17, 18, 19, 20], [1.0, 1.0, 1.0, 14.0, 1364.0, 3.0, 3.0, 14.0, 30.0, 1.0, 1.0]], [16.65208137130549, 3.347918628694509], [0.8326040685652746, 0.16739593143472548], 0.0, 'No Risk'], ['0_to_200', 45, 'prior_payments_delayed', 'repairs', 5199, '100_to_500', 'greater_7', 5, 'male', 'none', 4, 'unknown', 44, 'none', 'own', 2, 'skilled', 1, 'yes', 'yes', 2.0, 0.0, 2.0, 1.0, 0.0, 0.0, 0.0, 0.0, 5.0, 0.0, 3.0, 0.0, 1.0, [2.0, 0.0, 5.0, 1.0, 2.0, 0.0, 0.0, 3.0, 0.0, 0.0, 0.0, 1.0, 0.0, 45.0, 5199.0, 5.0, 4.0, 45.0, 44.0, 2.0, 1.0], [7.056087246539909, 12.943912753460088], [0.3528043623269955, 0.6471956376730045], 1.0, 'Risk'], ['no_checking', 34, 'outstanding_credit', 'furniture', 7365, '500_to_1000', '4_to_7', 4, 'male', 'co-applicant', 3, 'unknown', 55, 'stores', 'free', 2, 'unskilled', 2, 'yes', 'yes', 0.0, 2.0, 1.0, 2.0, 0.0, 2.0, 1.0, 1.0, 1.0, 1.0, 3.0, 0.0, 1.0, [0.0, 2.0, 1.0, 2.0, 1.0, 0.0, 1.0, 3.0, 1.0, 2.0, 1.0, 1.0, 0.0, 34.0, 7365.0, 4.0, 3.0, 34.0, 55.0, 2.0, 2.0], [4.343430445096176, 15.656569554903824], [0.2171715222548088, 0.7828284777451912], 1.0, 'Risk'], ['no_checking', 27, 'outstanding_credit', 'other', 9020, 'unknown', 'greater_7', 5, 'male', 'none', 4, 'unknown', 56, 'none', 'own', 2, 'management_self-employed', 2, 'yes', 'yes', 0.0, 2.0, 2.0, 4.0, 0.0, 0.0, 0.0, 2.0, 10.0, 0.0, 3.0, 0.0, 1.0, [0.0, 2.0, 10.0, 4.0, 2.0, 0.0, 0.0, 3.0, 0.0, 0.0, 2.0, 1.0, 0.0, 27.0, 9020.0, 5.0, 4.0, 27.0, 56.0, 2.0, 2.0], [3.7220497871678644, 16.27795021283214], [0.18610248935839319, 0.8138975106416068], 1.0, 'Risk'], ['0_to_200', 4, 'all_credits_paid_back', 'car_new', 250, '100_to_500', '1_to_4', 1, 'male', 'none', 2, 'real_estate', 19, 'none', 'rent', 1, 'skilled', 1, 'none', 'yes', 2.0, 3.0, 0.0, 1.0, 0.0, 1.0, 0.0, 0.0, 0.0, 0.0, 2.0, 0.0, 0.0, [2.0, 3.0, 0.0, 1.0, 0.0, 0.0, 0.0, 2.0, 0.0, 1.0, 0.0, 0.0, 0.0, 4.0, 250.0, 1.0, 2.0, 4.0, 19.0, 1.0, 1.0], [19.241564054066775, 0.758435945933223], [0.9620782027033389, 0.03792179729666116], 0.0, 'No Risk'], ['0_to_200', 6, 'prior_payments_delayed', 'furniture', 250, 'less_100', 'unemployed', 1, 'female', 'none', 1, 'savings_insurance', 19, 'stores', 'rent', 1, 'skilled', 1, 'yes', 'yes', 2.0, 0.0, 4.0, 0.0, 0.0, 1.0, 1.0, 0.0, 1.0, 0.0, 0.0, 1.0, 1.0, [2.0, 0.0, 1.0, 0.0, 4.0, 1.0, 0.0, 0.0, 1.0, 1.0, 0.0, 1.0, 0.0, 6.0, 250.0, 1.0, 1.0, 6.0, 19.0, 1.0, 1.0], [18.813837923538962, 1.1861620764610334], [0.9406918961769483, 0.05930810382305168], 0.0, 'No Risk'], ['no_checking', 32, 'outstanding_credit', 'appliances', 7819, '500_to_1000', '4_to_7', 5, 'male', 'co-applicant', 5, 'car_other', 50, 'none', 'free', 2, 'management_self-employed', 1, 'yes', 'yes', 0.0, 2.0, 1.0, 2.0, 0.0, 2.0, 0.0, 2.0, 4.0, 1.0, 1.0, 0.0, 1.0, [0.0, 2.0, 4.0, 2.0, 1.0, 0.0, 1.0, 1.0, 0.0, 2.0, 2.0, 1.0, 0.0, 32.0, 7819.0, 5.0, 5.0, 32.0, 50.0, 2.0, 1.0], [3.568608959972559, 16.43139104002744], [0.17843044799862798, 0.821569552001372], 1.0, 'Risk'], ['less_0', 21, 'prior_payments_delayed', 'radio_tv', 4528, 'less_100', '4_to_7', 4, 'male', 'none', 3, 'savings_insurance', 29, 'none', 'rent', 1, 'skilled', 1, 'none', 'yes', 1.0, 0.0, 1.0, 0.0, 0.0, 1.0, 0.0, 0.0, 3.0, 0.0, 0.0, 0.0, 0.0, [21, [0, 2, 4, 9, 13, 14, 15, 16, 17, 18, 19, 20], [1.0, 3.0, 1.0, 1.0, 21.0, 4528.0, 4.0, 3.0, 21.0, 29.0, 1.0, 1.0]], [15.79702614410692, 4.202973855893079], [0.789851307205346, 0.21014869279465395], 0.0, 'No Risk'], ['less_0', 8, 'prior_payments_delayed', 'furniture', 1442, 'less_100', '1_to_4', 3, 'female', 'none', 2, 'real_estate', 35, 'none', 'own', 2, 'skilled', 1, 'yes', 'yes', 1.0, 0.0, 0.0, 0.0, 0.0, 0.0, 0.0, 0.0, 1.0, 0.0, 2.0, 1.0, 1.0, [1.0, 0.0, 1.0, 0.0, 0.0, 1.0, 0.0, 2.0, 0.0, 0.0, 0.0, 1.0, 0.0, 8.0, 1442.0, 3.0, 2.0, 8.0, 35.0, 2.0, 1.0], [16.21649049705028, 3.7835095029497223], [0.8108245248525139, 0.1891754751474861], 0.0, 'No Risk'], ['no_checking', 43, 'prior_payments_delayed', 'appliances', 8510, '500_to_1000', 'greater_7', 5, 'male', 'co-applicant', 3, 'unknown', 74, 'none', 'free', 3, 'skilled', 2, 'yes', 'yes', 0.0, 0.0, 2.0, 2.0, 0.0, 2.0, 0.0, 0.0, 4.0, 1.0, 3.0, 0.0, 1.0, [0.0, 0.0, 4.0, 2.0, 2.0, 0.0, 1.0, 3.0, 0.0, 2.0, 0.0, 1.0, 0.0, 43.0, 8510.0, 5.0, 3.0, 43.0, 74.0, 3.0, 2.0], [1.660505548249369, 18.33949445175063], [0.08302527741246844, 0.9169747225875315], 1.0, 'Risk'], ['less_0', 17, 'all_credits_paid_back', 'furniture', 1195, 'less_100', '1_to_4', 3, 'female', 'none', 2, 'savings_insurance', 27, 'none', 'own', 1, 'skilled', 1, 'none', 'yes', 1.0, 3.0, 0.0, 0.0, 0.0, 0.0, 0.0, 0.0, 1.0, 0.0, 0.0, 1.0, 0.0, [21, [0, 1, 2, 5, 13, 14, 15, 16, 17, 18, 19, 20], [1.0, 3.0, 1.0, 1.0, 17.0, 1195.0, 3.0, 2.0, 17.0, 27.0, 1.0, 1.0]], [18.06413669275938, 1.9358633072406195], [0.903206834637969, 0.09679316536203098], 0.0, 'No Risk'], ['no_checking', 45, 'prior_payments_delayed', 'radio_tv', 8780, 'greater_1000', 'greater_7', 6, 'male', 'co-applicant', 5, 'unknown', 50, 'none', 'free', 3, 'skilled', 2, 'yes', 'yes', 0.0, 0.0, 2.0, 3.0, 0.0, 2.0, 0.0, 0.0, 3.0, 1.0, 3.0, 0.0, 1.0, [0.0, 0.0, 3.0, 3.0, 2.0, 0.0, 1.0, 3.0, 0.0, 2.0, 0.0, 1.0, 0.0, 45.0, 8780.0, 6.0, 5.0, 45.0, 50.0, 3.0, 2.0], [1.5176652661685803, 18.482334733831422], [0.075883263308429, 0.9241167366915709], 1.0, 'Risk'], ['0_to_200', 17, 'credits_paid_to_date', 'retraining', 2872, 'less_100', '1_to_4', 2, 'female', 'none', 2, 'savings_insurance', 26, 'bank', 'rent', 2, 'unemployed', 1, 'none', 'yes', 2.0, 1.0, 0.0, 0.0, 0.0, 1.0, 2.0, 3.0, 8.0, 0.0, 0.0, 1.0, 0.0, [2.0, 1.0, 8.0, 0.0, 0.0, 1.0, 0.0, 0.0, 2.0, 1.0, 3.0, 0.0, 0.0, 17.0, 2872.0, 2.0, 2.0, 17.0, 26.0, 2.0, 1.0], [16.621955903788756, 3.378044096211242], [0.8310977951894379, 0.16890220481056215], 0.0, 'No Risk'], ['0_to_200', 20, 'credits_paid_to_date', 'furniture', 250, 'less_100', '1_to_4', 3, 'female', 'none', 2, 'car_other', 19, 'stores', 'rent', 1, 'skilled', 1, 'none', 'yes', 2.0, 1.0, 0.0, 0.0, 0.0, 1.0, 1.0, 0.0, 1.0, 0.0, 1.0, 1.0, 0.0, [2.0, 1.0, 1.0, 0.0, 0.0, 1.0, 0.0, 1.0, 1.0, 1.0, 0.0, 0.0, 0.0, 20.0, 250.0, 3.0, 2.0, 20.0, 19.0, 1.0, 1.0], [16.51864830664374, 3.4813516933562614], [0.825932415332187, 0.17406758466781308], 0.0, 'No Risk'], ['no_checking', 31, 'outstanding_credit', 'radio_tv', 6138, '500_to_1000', '4_to_7', 4, 'male', 'none', 5, 'savings_insurance', 40, 'none', 'own', 1, 'management_self-employed', 1, 'none', 'yes', 0.0, 2.0, 1.0, 2.0, 0.0, 0.0, 0.0, 2.0, 3.0, 0.0, 0.0, 0.0, 0.0, [0.0, 2.0, 3.0, 2.0, 1.0, 0.0, 0.0, 0.0, 0.0, 0.0, 2.0, 0.0, 0.0, 31.0, 6138.0, 4.0, 5.0, 31.0, 40.0, 1.0, 1.0], [12.04120360956998, 7.95879639043002], [0.602060180478499, 0.39793981952150104], 0.0, 'No Risk'], ['0_to_200', 17, 'credits_paid_to_date', 'furniture', 4331, '100_to_500', 'less_1', 3, 'male', 'none', 2, 'car_other', 30, 'bank', 'rent', 2, 'unskilled', 1, 'none', 'yes', 2.0, 1.0, 3.0, 1.0, 0.0, 1.0, 2.0, 1.0, 1.0, 0.0, 1.0, 0.0, 0.0, [2.0, 1.0, 1.0, 1.0, 3.0, 0.0, 0.0, 1.0, 2.0, 1.0, 1.0, 0.0, 0.0, 17.0, 4331.0, 3.0, 2.0, 17.0, 30.0, 2.0, 1.0], [16.679109887080237, 3.32089011291976], [0.8339554943540121, 0.16604450564598802], 0.0, 'No Risk'], ['0_to_200', 33, 'prior_payments_delayed', 'retraining', 483, '100_to_500', 'greater_7', 3, 'male', 'none', 2, 'car_other', 27, 'stores', 'rent', 1, 'skilled', 1, 'none', 'yes', 2.0, 0.0, 2.0, 1.0, 0.0, 1.0, 1.0, 0.0, 8.0, 0.0, 1.0, 0.0, 0.0, [2.0, 0.0, 8.0, 1.0, 2.0, 0.0, 0.0, 1.0, 1.0, 1.0, 0.0, 0.0, 0.0, 33.0, 483.0, 3.0, 2.0, 33.0, 27.0, 1.0, 1.0], [15.317742573937057, 4.682257426062945], [0.7658871286968528, 0.23411287130314723], 0.0, 'No Risk'], ['less_0', 4, 'all_credits_paid_back', 'repairs', 250, 'less_100', '1_to_4', 2, 'male', 'none', 1, 'savings_insurance', 32, 'bank', 'rent', 1, 'unskilled', 1, 'none', 'yes', 1.0, 3.0, 0.0, 0.0, 0.0, 1.0, 2.0, 1.0, 5.0, 0.0, 0.0, 0.0, 0.0, [1.0, 3.0, 5.0, 0.0, 0.0, 0.0, 0.0, 0.0, 2.0, 1.0, 1.0, 0.0, 0.0, 4.0, 250.0, 2.0, 1.0, 4.0, 32.0, 1.0, 1.0], [18.89128232607903, 1.1087176739209708], [0.9445641163039514, 0.05543588369604854], 0.0, 'No Risk'], ['no_checking', 30, 'outstanding_credit', 'radio_tv', 2536, '500_to_1000', 'greater_7', 5, 'male', 'none', 3, 'unknown', 40, 'none', 'free', 2, 'skilled', 1, 'yes', 'yes', 0.0, 2.0, 2.0, 2.0, 0.0, 2.0, 0.0, 0.0, 3.0, 0.0, 3.0, 0.0, 1.0, [0.0, 2.0, 3.0, 2.0, 2.0, 0.0, 0.0, 3.0, 0.0, 2.0, 0.0, 1.0, 0.0, 30.0, 2536.0, 5.0, 3.0, 30.0, 40.0, 2.0, 1.0], [7.061949580582635, 12.938050419417364], [0.35309747902913174, 0.6469025209708682], 1.0, 'Risk'], ['less_0', 17, 'credits_paid_to_date', 'car_used', 952, 'less_100', '1_to_4', 3, 'female', 'none', 3, 'savings_insurance', 25, 'none', 'own', 1, 'skilled', 1, 'none', 'yes', 1.0, 1.0, 0.0, 0.0, 0.0, 0.0, 0.0, 0.0, 2.0, 0.0, 0.0, 1.0, 0.0, [21, [0, 1, 2, 5, 13, 14, 15, 16, 17, 18, 19, 20], [1.0, 1.0, 2.0, 1.0, 17.0, 952.0, 3.0, 3.0, 17.0, 25.0, 1.0, 1.0]], [16.85460330882743, 3.1453966911725715], [0.8427301654413715, 0.15726983455862859], 0.0, 'No Risk'], ['no_checking', 25, 'prior_payments_delayed', 'education', 6654, '100_to_500', 'greater_7', 5, 'male', 'co-applicant', 3, 'car_other', 50, 'none', 'free', 1, 'skilled', 2, 'yes', 'yes', 0.0, 0.0, 2.0, 1.0, 0.0, 2.0, 0.0, 0.0, 7.0, 1.0, 1.0, 0.0, 1.0, [0.0, 0.0, 7.0, 1.0, 2.0, 0.0, 1.0, 1.0, 0.0, 2.0, 0.0, 1.0, 0.0, 25.0, 6654.0, 5.0, 3.0, 25.0, 50.0, 1.0, 2.0], [5.062437198410283, 14.937562801589717], [0.25312185992051417, 0.7468781400794858], 1.0, 'Risk'], ['no_checking', 44, 'prior_payments_delayed', 'radio_tv', 5933, 'unknown', 'greater_7', 5, 'male', 'guarantor', 5, 'unknown', 61, 'none', 'free', 2, 'skilled', 1, 'yes', 'yes', 0.0, 0.0, 2.0, 4.0, 0.0, 2.0, 0.0, 0.0, 3.0, 2.0, 3.0, 0.0, 1.0, [0.0, 0.0, 3.0, 4.0, 2.0, 0.0, 2.0, 3.0, 0.0, 2.0, 0.0, 1.0, 0.0, 44.0, 5933.0, 5.0, 5.0, 44.0, 61.0, 2.0, 1.0], [2.852584281345971, 17.147415718654027], [0.14262921406729856, 0.8573707859327013], 1.0, 'Risk'], ['0_to_200', 20, 'credits_paid_to_date', 'car_new', 2573, '500_to_1000', '4_to_7', 3, 'male', 'none', 4, 'car_other', 43, 'none', 'own', 2, 'skilled', 2, 'none', 'yes', 2.0, 1.0, 1.0, 2.0, 0.0, 0.0, 0.0, 0.0, 0.0, 0.0, 1.0, 0.0, 0.0, [2.0, 1.0, 0.0, 2.0, 1.0, 0.0, 0.0, 1.0, 0.0, 0.0, 0.0, 0.0, 0.0, 20.0, 2573.0, 3.0, 4.0, 20.0, 43.0, 2.0, 2.0], [12.574026487298614, 7.425973512701384], [0.6287013243649306, 0.37129867563506924], 0.0, 'No Risk'], ['greater_200', 20, 'credits_paid_to_date', 'furniture', 250, 'greater_1000', 'less_1', 3, 'male', 'none', 2, 'real_estate', 46, 'none', 'own', 2, 'skilled', 2, 'none', 'yes', 3.0, 1.0, 3.0, 3.0, 0.0, 0.0, 0.0, 0.0, 1.0, 0.0, 2.0, 0.0, 0.0, [3.0, 1.0, 1.0, 3.0, 3.0, 0.0, 0.0, 2.0, 0.0, 0.0, 0.0, 0.0, 0.0, 20.0, 250.0, 3.0, 2.0, 20.0, 46.0, 2.0, 2.0], [16.484423833263534, 3.515576166736472], [0.8242211916631764, 0.17577880833682355], 0.0, 'No Risk'], ['less_0', 10, 'all_credits_paid_back', 'car_new', 5246, 'less_100', 'unemployed', 2, 'female', 'none', 1, 'real_estate', 21, 'none', 'own', 2, 'skilled', 1, 'none', 'yes', 1.0, 3.0, 4.0, 0.0, 0.0, 0.0, 0.0, 0.0, 0.0, 0.0, 2.0, 1.0, 0.0, [1.0, 3.0, 0.0, 0.0, 4.0, 1.0, 0.0, 2.0, 0.0, 0.0, 0.0, 0.0, 0.0, 10.0, 5246.0, 2.0, 1.0, 10.0, 21.0, 2.0, 1.0], [18.427825492395403, 1.572174507604596], [0.9213912746197701, 0.07860872538022981], 0.0, 'No Risk'], ['no_checking', 19, 'credits_paid_to_date', 'furniture', 2147, '500_to_1000', '1_to_4', 3, 'female', 'none', 2, 'real_estate', 29, 'none', 'rent', 1, 'skilled', 1, 'none', 'yes', 0.0, 1.0, 0.0, 2.0, 0.0, 1.0, 0.0, 0.0, 1.0, 0.0, 2.0, 1.0, 0.0, [0.0, 1.0, 1.0, 2.0, 0.0, 1.0, 0.0, 2.0, 0.0, 1.0, 0.0, 0.0, 0.0, 19.0, 2147.0, 3.0, 2.0, 19.0, 29.0, 1.0, 1.0], [16.8949127432975, 3.1050872567025016], [0.8447456371648749, 0.1552543628351251], 0.0, 'No Risk'], ['no_checking', 36, 'credits_paid_to_date', 'furniture', 5769, '500_to_1000', '4_to_7', 4, 'male', 'none', 4, 'car_other', 44, 'none', 'own', 2, 'skilled', 1, 'yes', 'yes', 0.0, 1.0, 1.0, 2.0, 0.0, 0.0, 0.0, 0.0, 1.0, 0.0, 1.0, 0.0, 1.0, [0.0, 1.0, 1.0, 2.0, 1.0, 0.0, 0.0, 1.0, 0.0, 0.0, 0.0, 1.0, 0.0, 36.0, 5769.0, 4.0, 4.0, 36.0, 44.0, 2.0, 1.0], [8.776418378138208, 11.223581621861792], [0.43882091890691044, 0.5611790810930896], 1.0, 'Risk'], ['less_0', 10, 'all_credits_paid_back', 'car_used', 4248, 'less_100', 'unemployed', 1, 'male', 'none', 3, 'savings_insurance', 22, 'none', 'own', 1, 'skilled', 1, 'none', 'yes', 1.0, 3.0, 4.0, 0.0, 0.0, 0.0, 0.0, 0.0, 2.0, 0.0, 0.0, 0.0, 0.0, [21, [0, 1, 2, 4, 13, 14, 15, 16, 17, 18, 19, 20], [1.0, 3.0, 2.0, 4.0, 10.0, 4248.0, 1.0, 3.0, 10.0, 22.0, 1.0, 1.0]], [18.74090447530278, 1.2590955246972169], [0.9370452237651392, 0.06295477623486086], 0.0, 'No Risk'], ['less_0', 10, 'prior_payments_delayed', 'furniture', 617, '500_to_1000', '1_to_4', 1, 'male', 'none', 2, 'car_other', 60, 'stores', 'own', 2, 'unskilled', 2, 'yes', 'yes', 1.0, 0.0, 0.0, 2.0, 0.0, 0.0, 1.0, 1.0, 1.0, 0.0, 1.0, 0.0, 1.0, [1.0, 0.0, 1.0, 2.0, 0.0, 0.0, 0.0, 1.0, 1.0, 0.0, 1.0, 1.0, 0.0, 10.0, 617.0, 1.0, 2.0, 10.0, 60.0, 2.0, 2.0], [13.475427411401476, 6.524572588598524], [0.6737713705700739, 0.3262286294299262], 0.0, 'No Risk'], ['0_to_200', 14, 'credits_paid_to_date', 'repairs', 2549, 'less_100', 'less_1', 2, 'female', 'none', 1, 'real_estate', 29, 'none', 'own', 1, 'skilled', 1, 'none', 'yes', 2.0, 1.0, 3.0, 0.0, 0.0, 0.0, 0.0, 0.0, 5.0, 0.0, 2.0, 1.0, 0.0, [2.0, 1.0, 5.0, 0.0, 3.0, 1.0, 0.0, 2.0, 0.0, 0.0, 0.0, 0.0, 0.0, 14.0, 2549.0, 2.0, 1.0, 14.0, 29.0, 1.0, 1.0], [19.17839412209331, 0.8216058779066928], [0.9589197061046655, 0.041080293895334644], 0.0, 'No Risk'], ['less_0', 12, 'all_credits_paid_back', 'appliances', 310, 'less_100', 'unemployed', 2, 'female', 'none', 1, 'savings_insurance', 27, 'none', 'rent', 1, 'skilled', 1, 'none', 'yes', 1.0, 3.0, 4.0, 0.0, 0.0, 1.0, 0.0, 0.0, 4.0, 0.0, 0.0, 1.0, 0.0, [1.0, 3.0, 4.0, 0.0, 4.0, 1.0, 0.0, 0.0, 0.0, 1.0, 0.0, 0.0, 0.0, 12.0, 310.0, 2.0, 1.0, 12.0, 27.0, 1.0, 1.0], [19.425298344359984, 0.5747016556400099], [0.9712649172179996, 0.028735082782000505], 0.0, 'No Risk'], ['0_to_200', 43, 'prior_payments_delayed', 'other', 5713, '100_to_500', '4_to_7', 4, 'male', 'none', 4, 'unknown', 35, 'none', 'free', 2, 'skilled', 1, 'yes', 'yes', 2.0, 0.0, 1.0, 1.0, 0.0, 2.0, 0.0, 0.0, 10.0, 0.0, 3.0, 0.0, 1.0, [2.0, 0.0, 10.0, 1.0, 1.0, 0.0, 0.0, 3.0, 0.0, 2.0, 0.0, 1.0, 0.0, 43.0, 5713.0, 4.0, 4.0, 43.0, 35.0, 2.0, 1.0], [8.985626276778953, 11.014373723221047], [0.44928131383894765, 0.5507186861610524], 1.0, 'Risk'], ['greater_200', 20, 'credits_paid_to_date', 'radio_tv', 1791, 'greater_1000', 'greater_7', 3, 'male', 'none', 3, 'savings_insurance', 39, 'none', 'own', 1, 'skilled', 1, 'none', 'yes', 3.0, 1.0, 2.0, 3.0, 0.0, 0.0, 0.0, 0.0, 3.0, 0.0, 0.0, 0.0, 0.0, [3.0, 1.0, 3.0, 3.0, 2.0, 0.0, 0.0, 0.0, 0.0, 0.0, 0.0, 0.0, 0.0, 20.0, 1791.0, 3.0, 3.0, 20.0, 39.0, 1.0, 1.0], [13.35277788282997, 6.647222117170029], [0.6676388941414986, 0.3323611058585015], 0.0, 'No Risk'], ['greater_200', 39, 'prior_payments_delayed', 'appliances', 2685, 'unknown', '4_to_7', 2, 'female', 'none', 2, 'car_other', 41, 'bank', 'own', 2, 'unemployed', 1, 'none', 'yes', 3.0, 0.0, 1.0, 4.0, 0.0, 0.0, 2.0, 3.0, 4.0, 0.0, 1.0, 1.0, 0.0, [3.0, 0.0, 4.0, 4.0, 1.0, 1.0, 0.0, 1.0, 2.0, 0.0, 3.0, 0.0, 0.0, 39.0, 2685.0, 2.0, 2.0, 39.0, 41.0, 2.0, 1.0], [11.886638597531302, 8.1133614024687], [0.5943319298765651, 0.405668070123435], 0.0, 'No Risk'], ['no_checking', 34, 'outstanding_credit', 'appliances', 6804, 'greater_1000', 'greater_7', 5, 'male', 'co-applicant', 3, 'unknown', 51, 'none', 'free', 2, 'skilled', 2, 'yes', 'yes', 0.0, 2.0, 2.0, 3.0, 0.0, 2.0, 0.0, 0.0, 4.0, 1.0, 3.0, 0.0, 1.0, [0.0, 2.0, 4.0, 3.0, 2.0, 0.0, 1.0, 3.0, 0.0, 2.0, 0.0, 1.0, 0.0, 34.0, 6804.0, 5.0, 3.0, 34.0, 51.0, 2.0, 2.0], [1.5447906515747198, 18.45520934842528], [0.07723953257873599, 0.922760467421264], 1.0, 'Risk'], ['no_checking', 29, 'outstanding_credit', 'other', 9127, 'unknown', '4_to_7', 5, 'female', 'none', 4, 'car_other', 62, 'stores', 'free', 3, 'unskilled', 2, 'yes', 'yes', 0.0, 2.0, 1.0, 4.0, 0.0, 2.0, 1.0, 1.0, 10.0, 0.0, 1.0, 1.0, 1.0, [0.0, 2.0, 10.0, 4.0, 1.0, 1.0, 0.0, 1.0, 1.0, 2.0, 1.0, 1.0, 0.0, 29.0, 9127.0, 5.0, 4.0, 29.0, 62.0, 3.0, 2.0], [5.345405329098336, 14.654594670901666], [0.2672702664549168, 0.7327297335450833], 1.0, 'Risk'], ['less_0', 26, 'all_credits_paid_back', 'car_used', 1041, 'less_100', '4_to_7', 3, 'female', 'none', 2, 'real_estate', 28, 'stores', 'own', 2, 'skilled', 1, 'none', 'yes', 1.0, 3.0, 1.0, 0.0, 0.0, 0.0, 1.0, 0.0, 2.0, 0.0, 2.0, 1.0, 0.0, [1.0, 3.0, 2.0, 0.0, 1.0, 1.0, 0.0, 2.0, 1.0, 0.0, 0.0, 0.0, 0.0, 26.0, 1041.0, 3.0, 2.0, 26.0, 28.0, 2.0, 1.0], [16.76171615540743, 3.2382838445925675], [0.8380858077703716, 0.16191419222962838], 0.0, 'No Risk'], ['no_checking', 11, 'credits_paid_to_date', 'furniture', 6297, 'less_100', 'unemployed', 3, 'male', 'none', 4, 'car_other', 22, 'none', 'rent', 1, 'management_self-employed', 1, 'none', 'yes', 0.0, 1.0, 4.0, 0.0, 0.0, 1.0, 0.0, 2.0, 1.0, 0.0, 1.0, 0.0, 0.0, [0.0, 1.0, 1.0, 0.0, 4.0, 0.0, 0.0, 1.0, 0.0, 1.0, 2.0, 0.0, 0.0, 11.0, 6297.0, 3.0, 4.0, 11.0, 22.0, 1.0, 1.0], [14.529498322973295, 5.470501677026705], [0.7264749161486648, 0.2735250838513353], 0.0, 'No Risk'], ['no_checking', 21, 'outstanding_credit', 'furniture', 5743, 'unknown', '4_to_7', 4, 'male', 'none', 4, 'unknown', 49, 'none', 'own', 2, 'skilled', 1, 'yes', 'yes', 0.0, 2.0, 1.0, 4.0, 0.0, 0.0, 0.0, 0.0, 1.0, 0.0, 3.0, 0.0, 1.0, [0.0, 2.0, 1.0, 4.0, 1.0, 0.0, 0.0, 3.0, 0.0, 0.0, 0.0, 1.0, 0.0, 21.0, 5743.0, 4.0, 4.0, 21.0, 49.0, 2.0, 1.0], [7.491229188942042, 12.508770811057957], [0.3745614594471021, 0.6254385405528978], 1.0, 'Risk'], ['less_0', 4, 'no_credits', 'car_new', 5506, 'less_100', 'less_1', 1, 'female', 'co-applicant', 1, 'savings_insurance', 28, 'none', 'own', 1, 'skilled', 1, 'none', 'yes', 1.0, 4.0, 3.0, 0.0, 0.0, 0.0, 0.0, 0.0, 0.0, 1.0, 0.0, 1.0, 0.0, [1.0, 4.0, 0.0, 0.0, 3.0, 1.0, 1.0, 0.0, 0.0, 0.0, 0.0, 0.0, 0.0, 4.0, 5506.0, 1.0, 1.0, 4.0, 28.0, 1.0, 1.0], [19.20735436758968, 0.7926456324103182], [0.960367718379484, 0.03963228162051591], 0.0, 'No Risk'], ['less_0', 11, 'prior_payments_delayed', 'car_new', 258, '100_to_500', '1_to_4', 3, 'male', 'none', 2, 'savings_insurance', 28, 'none', 'own', 1, 'skilled', 1, 'none', 'yes', 1.0, 0.0, 0.0, 1.0, 0.0, 0.0, 0.0, 0.0, 0.0, 0.0, 0.0, 0.0, 0.0, [21, [0, 3, 13, 14, 15, 16, 17, 18, 19, 20], [1.0, 1.0, 11.0, 258.0, 3.0, 2.0, 11.0, 28.0, 1.0, 1.0]], [18.288354119092148, 1.7116458809078525], [0.9144177059546074, 0.08558229404539262], 0.0, 'No Risk'], ['0_to_200', 18, 'credits_paid_to_date', 'car_new', 4365, 'less_100', '4_to_7', 4, 'male', 'none', 4, 'savings_insurance', 34, 'none', 'own', 1, 'management_self-employed', 1, 'yes', 'yes', 2.0, 1.0, 1.0, 0.0, 0.0, 0.0, 0.0, 2.0, 0.0, 0.0, 0.0, 0.0, 1.0, [2.0, 1.0, 0.0, 0.0, 1.0, 0.0, 0.0, 0.0, 0.0, 0.0, 2.0, 1.0, 0.0, 18.0, 4365.0, 4.0, 4.0, 18.0, 34.0, 1.0, 1.0], [13.100077894999165, 6.899922105000833], [0.6550038947499582, 0.34499610525004165], 0.0, 'No Risk'], ['0_to_200', 14, 'credits_paid_to_date', 'repairs', 2549, 'less_100', 'less_1', 2, 'female', 'none', 1, 'real_estate', 29, 'none', 'own', 1, 'skilled', 1, 'none', 'yes', 2.0, 1.0, 3.0, 0.0, 0.0, 0.0, 0.0, 0.0, 5.0, 0.0, 2.0, 1.0, 0.0, [2.0, 1.0, 5.0, 0.0, 3.0, 1.0, 0.0, 2.0, 0.0, 0.0, 0.0, 0.0, 0.0, 14.0, 2549.0, 2.0, 1.0, 14.0, 29.0, 1.0, 1.0], [19.17839412209331, 0.8216058779066928], [0.9589197061046655, 0.041080293895334644], 0.0, 'No Risk'], ['no_checking', 41, 'outstanding_credit', 'other', 4649, 'greater_1000', 'greater_7', 5, 'male', 'none', 3, 'car_other', 47, 'none', 'free', 2, 'skilled', 2, 'yes', 'yes', 0.0, 2.0, 2.0, 3.0, 0.0, 2.0, 0.0, 0.0, 10.0, 0.0, 1.0, 0.0, 1.0, [0.0, 2.0, 10.0, 3.0, 2.0, 0.0, 0.0, 1.0, 0.0, 2.0, 0.0, 1.0, 0.0, 41.0, 4649.0, 5.0, 3.0, 41.0, 47.0, 2.0, 2.0], [5.544478592714664, 14.455521407285335], [0.27722392963573317, 0.7227760703642667], 1.0, 'Risk'], ['no_checking', 33, 'outstanding_credit', 'appliances', 6411, '500_to_1000', 'greater_7', 4, 'male', 'co-applicant', 3, 'car_other', 52, 'none', 'free', 2, 'skilled', 2, 'yes', 'yes', 0.0, 2.0, 2.0, 2.0, 0.0, 2.0, 0.0, 0.0, 4.0, 1.0, 1.0, 0.0, 1.0, [0.0, 2.0, 4.0, 2.0, 2.0, 0.0, 1.0, 1.0, 0.0, 2.0, 0.0, 1.0, 0.0, 33.0, 6411.0, 4.0, 3.0, 33.0, 52.0, 2.0, 2.0], [2.146036046620109, 17.85396395337989], [0.10730180233100546, 0.8926981976689945], 1.0, 'Risk'], ['no_checking', 26, 'prior_payments_delayed', 'business', 5376, '100_to_500', '4_to_7', 4, 'male', 'none', 3, 'car_other', 42, 'none', 'own', 1, 'management_self-employed', 1, 'none', 'yes', 0.0, 0.0, 1.0, 1.0, 0.0, 0.0, 0.0, 2.0, 9.0, 0.0, 1.0, 0.0, 0.0, [0.0, 0.0, 9.0, 1.0, 1.0, 0.0, 0.0, 1.0, 0.0, 0.0, 2.0, 0.0, 0.0, 26.0, 5376.0, 4.0, 3.0, 26.0, 42.0, 1.0, 1.0], [11.297305863040028, 8.702694136959975], [0.5648652931520013, 0.43513470684799865], 0.0, 'No Risk'], ['0_to_200', 29, 'credits_paid_to_date', 'business', 5664, 'less_100', 'less_1', 3, 'male', 'co-applicant', 2, 'savings_insurance', 20, 'none', 'own', 1, 'skilled', 1, 'none', 'yes', 2.0, 1.0, 3.0, 0.0, 0.0, 0.0, 0.0, 0.0, 9.0, 1.0, 0.0, 0.0, 0.0, [2.0, 1.0, 9.0, 0.0, 3.0, 0.0, 1.0, 0.0, 0.0, 0.0, 0.0, 0.0, 0.0, 29.0, 5664.0, 3.0, 2.0, 29.0, 20.0, 1.0, 1.0], [17.008065057898538, 2.991934942101466], [0.8504032528949267, 0.14959674710507326], 0.0, 'No Risk'], ['no_checking', 36, 'outstanding_credit', 'radio_tv', 6804, 'greater_1000', '4_to_7', 5, 'male', 'co-applicant', 5, 'unknown', 53, 'none', 'own', 2, 'management_self-employed', 2, 'yes', 'yes', 0.0, 2.0, 1.0, 3.0, 0.0, 0.0, 0.0, 2.0, 3.0, 1.0, 3.0, 0.0, 1.0, [0.0, 2.0, 3.0, 3.0, 1.0, 0.0, 1.0, 3.0, 0.0, 0.0, 2.0, 1.0, 0.0, 36.0, 6804.0, 5.0, 5.0, 36.0, 53.0, 2.0, 2.0], [3.1505305216081845, 16.849469478391814], [0.15752652608040923, 0.8424734739195907], 1.0, 'Risk'], ['0_to_200', 27, 'credits_paid_to_date', 'appliances', 4325, 'less_100', '4_to_7', 3, 'male', 'none', 2, 'savings_insurance', 31, 'bank', 'own', 1, 'unskilled', 1, 'none', 'yes', 2.0, 1.0, 1.0, 0.0, 0.0, 0.0, 2.0, 1.0, 4.0, 0.0, 0.0, 0.0, 0.0, [2.0, 1.0, 4.0, 0.0, 1.0, 0.0, 0.0, 0.0, 2.0, 0.0, 1.0, 0.0, 0.0, 27.0, 4325.0, 3.0, 2.0, 27.0, 31.0, 1.0, 1.0], [15.031917111848252, 4.968082888151751], [0.7515958555924125, 0.2484041444075875], 0.0, 'No Risk'], ['0_to_200', 6, 'all_credits_paid_back', 'education', 250, 'less_100', '1_to_4', 2, 'female', 'none', 2, 'real_estate', 27, 'bank', 'own', 1, 'unskilled', 1, 'none', 'yes', 2.0, 3.0, 0.0, 0.0, 0.0, 0.0, 2.0, 1.0, 7.0, 0.0, 2.0, 1.0, 0.0, [2.0, 3.0, 7.0, 0.0, 0.0, 1.0, 0.0, 2.0, 2.0, 0.0, 1.0, 0.0, 0.0, 6.0, 250.0, 2.0, 2.0, 6.0, 27.0, 1.0, 1.0], [19.326537118452716, 0.6734628815472801], [0.966326855922636, 0.033673144077364006], 0.0, 'No Risk'], ['less_0', 13, 'all_credits_paid_back', 'radio_tv', 2720, 'less_100', '4_to_7', 2, 'female', 'none', 1, 'car_other', 34, 'bank', 'own', 2, 'unemployed', 1, 'none', 'yes', 1.0, 3.0, 1.0, 0.0, 0.0, 0.0, 2.0, 3.0, 3.0, 0.0, 1.0, 1.0, 0.0, [1.0, 3.0, 3.0, 0.0, 1.0, 1.0, 0.0, 1.0, 2.0, 0.0, 3.0, 0.0, 0.0, 13.0, 2720.0, 2.0, 1.0, 13.0, 34.0, 2.0, 1.0], [16.67335504454765, 3.3266449554523483], [0.8336677522273825, 0.1663322477726174], 0.0, 'No Risk'], ['no_checking', 21, 'credits_paid_to_date', 'car_used', 1353, '100_to_500', '1_to_4', 2, 'female', 'none', 2, 'real_estate', 32, 'none', 'own', 1, 'skilled', 1, 'none', 'yes', 0.0, 1.0, 0.0, 1.0, 0.0, 0.0, 0.0, 0.0, 2.0, 0.0, 2.0, 1.0, 0.0, [0.0, 1.0, 2.0, 1.0, 0.0, 1.0, 0.0, 2.0, 0.0, 0.0, 0.0, 0.0, 0.0, 21.0, 1353.0, 2.0, 2.0, 21.0, 32.0, 1.0, 1.0], [15.864037531835836, 4.135962468164165], [0.7932018765917918, 0.20679812340820827], 0.0, 'No Risk'], ['less_0', 4, 'all_credits_paid_back', 'car_new', 3916, 'less_100', 'unemployed', 2, 'female', 'none', 2, 'car_other', 42, 'none', 'own', 1, 'skilled', 2, 'yes', 'yes', 1.0, 3.0, 4.0, 0.0, 0.0, 0.0, 0.0, 0.0, 0.0, 0.0, 1.0, 1.0, 1.0, [1.0, 3.0, 0.0, 0.0, 4.0, 1.0, 0.0, 1.0, 0.0, 0.0, 0.0, 1.0, 0.0, 4.0, 3916.0, 2.0, 2.0, 4.0, 42.0, 1.0, 2.0], [17.823025157104194, 2.176974842895806], [0.8911512578552097, 0.1088487421447903], 0.0, 'No Risk'], ['no_checking', 38, 'outstanding_credit', 'repairs', 8579, 'unknown', 'greater_7', 5, 'male', 'co-applicant', 4, 'unknown', 50, 'none', 'own', 2, 'skilled', 1, 'none', 'yes', 0.0, 2.0, 2.0, 4.0, 0.0, 0.0, 0.0, 0.0, 5.0, 1.0, 3.0, 0.0, 0.0, [0.0, 2.0, 5.0, 4.0, 2.0, 0.0, 1.0, 3.0, 0.0, 0.0, 0.0, 0.0, 0.0, 38.0, 8579.0, 5.0, 4.0, 38.0, 50.0, 2.0, 1.0], [4.418820857537063, 15.581179142462938], [0.22094104287685315, 0.7790589571231469], 1.0, 'Risk'], ['greater_200', 21, 'outstanding_credit', 'appliances', 6296, '100_to_500', '1_to_4', 4, 'male', 'none', 4, 'savings_insurance', 38, 'none', 'own', 2, 'management_self-employed', 1, 'yes', 'yes', 3.0, 2.0, 0.0, 1.0, 0.0, 0.0, 0.0, 2.0, 4.0, 0.0, 0.0, 0.0, 1.0, [3.0, 2.0, 4.0, 1.0, 0.0, 0.0, 0.0, 0.0, 0.0, 0.0, 2.0, 1.0, 0.0, 21.0, 6296.0, 4.0, 4.0, 21.0, 38.0, 2.0, 1.0], [12.32037402565306, 7.679625974346937], [0.6160187012826531, 0.38398129871734693], 0.0, 'No Risk'], ['no_checking', 29, 'prior_payments_delayed', 'furniture', 5639, '100_to_500', '4_to_7', 4, 'male', 'none', 4, 'car_other', 44, 'none', 'own', 2, 'skilled', 1, 'none', 'yes', 0.0, 0.0, 1.0, 1.0, 0.0, 0.0, 0.0, 0.0, 1.0, 0.0, 1.0, 0.0, 0.0, [21, [2, 3, 4, 7, 13, 14, 15, 16, 17, 18, 19, 20], [1.0, 1.0, 1.0, 1.0, 29.0, 5639.0, 4.0, 4.0, 29.0, 44.0, 2.0, 1.0]], [9.966242071110635, 10.033757928889365], [0.49831210355553174, 0.5016878964444682], 1.0, 'Risk'], ['no_checking', 40, 'prior_payments_delayed', 'repairs', 2774, '500_to_1000', '4_to_7', 4, 'male', 'none', 3, 'real_estate', 45, 'none', 'own', 1, 'management_self-employed', 1, 'yes', 'yes', 0.0, 0.0, 1.0, 2.0, 0.0, 0.0, 0.0, 2.0, 5.0, 0.0, 2.0, 0.0, 1.0, [0.0, 0.0, 5.0, 2.0, 1.0, 0.0, 0.0, 2.0, 0.0, 0.0, 2.0, 1.0, 0.0, 40.0, 2774.0, 4.0, 3.0, 40.0, 45.0, 1.0, 1.0], [11.215378764040707, 8.784621235959293], [0.5607689382020353, 0.4392310617979646], 0.0, 'No Risk'], ['0_to_200', 10, 'credits_paid_to_date', 'car_new', 1709, 'less_100', 'unemployed', 1, 'female', 'none', 2, 'savings_insurance', 20, 'stores', 'rent', 1, 'skilled', 1, 'none', 'yes', 2.0, 1.0, 4.0, 0.0, 0.0, 1.0, 1.0, 0.0, 0.0, 0.0, 0.0, 1.0, 0.0, [2.0, 1.0, 0.0, 0.0, 4.0, 1.0, 0.0, 0.0, 1.0, 1.0, 0.0, 0.0, 0.0, 10.0, 1709.0, 1.0, 2.0, 10.0, 20.0, 1.0, 1.0], [19.087921621006867, 0.9120783789931308], [0.9543960810503436, 0.04560391894965655], 0.0, 'No Risk'], ['0_to_200', 23, 'credits_paid_to_date', 'car_used', 1988, 'less_100', '4_to_7', 3, 'male', 'none', 2, 'savings_insurance', 39, 'stores', 'own', 2, 'unskilled', 1, 'none', 'yes', 2.0, 1.0, 1.0, 0.0, 0.0, 0.0, 1.0, 1.0, 2.0, 0.0, 0.0, 0.0, 0.0, [2.0, 1.0, 2.0, 0.0, 1.0, 0.0, 0.0, 0.0, 1.0, 0.0, 1.0, 0.0, 0.0, 23.0, 1988.0, 3.0, 2.0, 23.0, 39.0, 2.0, 1.0], [14.901720318398622, 5.098279681601381], [0.745086015919931, 0.25491398408006904], 0.0, 'No Risk'], ['less_0', 15, 'credits_paid_to_date', 'furniture', 2738, 'less_100', 'less_1', 1, 'female', 'none', 2, 'savings_insurance', 22, 'none', 'rent', 1, 'skilled', 1, 'none', 'yes', 1.0, 1.0, 3.0, 0.0, 0.0, 1.0, 0.0, 0.0, 1.0, 0.0, 0.0, 1.0, 0.0, [1.0, 1.0, 1.0, 0.0, 3.0, 1.0, 0.0, 0.0, 0.0, 1.0, 0.0, 0.0, 0.0, 15.0, 2738.0, 1.0, 2.0, 15.0, 22.0, 1.0, 1.0], [19.160255723084372, 0.8397442769156241], [0.9580127861542188, 0.04198721384578121], 0.0, 'No Risk'], ['less_0', 10, 'all_credits_paid_back', 'car_new', 958, 'less_100', 'less_1', 1, 'female', 'none', 1, 'real_estate', 23, 'bank', 'rent', 1, 'unemployed', 1, 'none', 'yes', 1.0, 3.0, 3.0, 0.0, 0.0, 1.0, 2.0, 3.0, 0.0, 0.0, 2.0, 1.0, 0.0, [1.0, 3.0, 0.0, 0.0, 3.0, 1.0, 0.0, 2.0, 2.0, 1.0, 3.0, 0.0, 0.0, 10.0, 958.0, 1.0, 1.0, 10.0, 23.0, 1.0, 1.0], [19.60214894474, 0.39785105525999764], [0.980107447237, 0.019892552762999883], 0.0, 'No Risk'], ['no_checking', 25, 'all_credits_paid_back', 'furniture', 4232, 'less_100', 'less_1', 2, 'female', 'none', 3, 'real_estate', 32, 'none', 'rent', 1, 'skilled', 1, 'none', 'yes', 0.0, 3.0, 3.0, 0.0, 0.0, 1.0, 0.0, 0.0, 1.0, 0.0, 2.0, 1.0, 0.0, [0.0, 3.0, 1.0, 0.0, 3.0, 1.0, 0.0, 2.0, 0.0, 1.0, 0.0, 0.0, 0.0, 25.0, 4232.0, 2.0, 3.0, 25.0, 32.0, 1.0, 1.0], [15.691139280227361, 4.308860719772641], [0.7845569640113681, 0.21544303598863204], 0.0, 'No Risk'], ['no_checking', 17, 'credits_paid_to_date', 'radio_tv', 2184, '500_to_1000', 'less_1', 3, 'male', 'none', 4, 'savings_insurance', 39, 'none', 'own', 1, 'management_self-employed', 1, 'none', 'yes', 0.0, 1.0, 3.0, 2.0, 0.0, 0.0, 0.0, 2.0, 3.0, 0.0, 0.0, 0.0, 0.0, [0.0, 1.0, 3.0, 2.0, 3.0, 0.0, 0.0, 0.0, 0.0, 0.0, 2.0, 0.0, 0.0, 17.0, 2184.0, 3.0, 4.0, 17.0, 39.0, 1.0, 1.0], [14.622423706872967, 5.377576293127034], [0.7311211853436483, 0.2688788146563517], 0.0, 'No Risk'], ['greater_200', 27, 'outstanding_credit', 'furniture', 8063, '100_to_500', '4_to_7', 4, 'male', 'none', 3, 'car_other', 44, 'none', 'free', 2, 'management_self-employed', 2, 'yes', 'yes', 3.0, 2.0, 1.0, 1.0, 0.0, 2.0, 0.0, 2.0, 1.0, 0.0, 1.0, 0.0, 1.0, [3.0, 2.0, 1.0, 1.0, 1.0, 0.0, 0.0, 1.0, 0.0, 2.0, 2.0, 1.0, 0.0, 27.0, 8063.0, 4.0, 3.0, 27.0, 44.0, 2.0, 2.0], [10.562665532302463, 9.437334467697536], [0.5281332766151231, 0.4718667233848768], 0.0, 'No Risk'], ['0_to_200', 22, 'outstanding_credit', 'education', 3269, '100_to_500', '1_to_4', 3, 'male', 'none', 2, 'savings_insurance', 38, 'none', 'free', 3, 'skilled', 1, 'yes', 'yes', 2.0, 2.0, 0.0, 1.0, 0.0, 2.0, 0.0, 0.0, 7.0, 0.0, 0.0, 0.0, 1.0, [2.0, 2.0, 7.0, 1.0, 0.0, 0.0, 0.0, 0.0, 0.0, 2.0, 0.0, 1.0, 0.0, 22.0, 3269.0, 3.0, 2.0, 22.0, 38.0, 3.0, 1.0], [13.780169357766933, 6.219830642233069], [0.6890084678883466, 0.3109915321116534], 0.0, 'No Risk'], ['no_checking', 32, 'all_credits_paid_back', 'radio_tv', 3950, '100_to_500', '4_to_7', 4, 'female', 'none', 2, 'real_estate', 49, 'none', 'own', 2, 'skilled', 1, 'none', 'yes', 0.0, 3.0, 1.0, 1.0, 0.0, 0.0, 0.0, 0.0, 3.0, 0.0, 2.0, 1.0, 0.0, [0.0, 3.0, 3.0, 1.0, 1.0, 1.0, 0.0, 2.0, 0.0, 0.0, 0.0, 0.0, 0.0, 32.0, 3950.0, 4.0, 2.0, 32.0, 49.0, 2.0, 1.0], [9.516892553394383, 10.483107446605617], [0.47584462766971913, 0.5241553723302809], 1.0, 'Risk'], ['less_0', 27, 'outstanding_credit', 'education', 2349, '500_to_1000', '4_to_7', 3, 'male', 'none', 2, 'savings_insurance', 19, 'bank', 'rent', 2, 'unemployed', 1, 'yes', 'yes', 1.0, 2.0, 1.0, 2.0, 0.0, 1.0, 2.0, 3.0, 7.0, 0.0, 0.0, 0.0, 1.0, [1.0, 2.0, 7.0, 2.0, 1.0, 0.0, 0.0, 0.0, 2.0, 1.0, 3.0, 1.0, 0.0, 27.0, 2349.0, 3.0, 2.0, 27.0, 19.0, 2.0, 1.0], [15.519189625949023, 4.480810374050978], [0.7759594812974512, 0.22404051870254887], 0.0, 'No Risk'], ['no_checking', 53, 'outstanding_credit', 'repairs', 8588, 'greater_1000', 'greater_7', 5, 'male', 'co-applicant', 5, 'unknown', 42, 'none', 'free', 2, 'skilled', 1, 'yes', 'yes', 0.0, 2.0, 2.0, 3.0, 0.0, 2.0, 0.0, 0.0, 5.0, 1.0, 3.0, 0.0, 1.0, [0.0, 2.0, 5.0, 3.0, 2.0, 0.0, 1.0, 3.0, 0.0, 2.0, 0.0, 1.0, 0.0, 53.0, 8588.0, 5.0, 5.0, 53.0, 42.0, 2.0, 1.0], [2.966236157963879, 17.03376384203612], [0.14831180789819395, 0.851688192101806], 1.0, 'Risk'], ['0_to_200', 22, 'outstanding_credit', 'education', 9180, 'less_100', '4_to_7', 3, 'male', 'none', 3, 'unknown', 38, 'none', 'own', 2, 'skilled', 1, 'none', 'yes', 2.0, 2.0, 1.0, 0.0, 0.0, 0.0, 0.0, 0.0, 7.0, 0.0, 3.0, 0.0, 0.0, [2.0, 2.0, 7.0, 0.0, 1.0, 0.0, 0.0, 3.0, 0.0, 0.0, 0.0, 0.0, 0.0, 22.0, 9180.0, 3.0, 3.0, 22.0, 38.0, 2.0, 1.0], [12.361888847767586, 7.638111152232413], [0.6180944423883793, 0.38190555761162065], 0.0, 'No Risk'], ['0_to_200', 20, 'credits_paid_to_date', 'car_used', 3802, 'less_100', '1_to_4', 3, 'male', 'none', 3, 'savings_insurance', 24, 'none', 'own', 1, 'skilled', 1, 'none', 'yes', 2.0, 1.0, 0.0, 0.0, 0.0, 0.0, 0.0, 0.0, 2.0, 0.0, 0.0, 0.0, 0.0, [21, [0, 1, 2, 13, 14, 15, 16, 17, 18, 19, 20], [2.0, 1.0, 2.0, 20.0, 3802.0, 3.0, 3.0, 20.0, 24.0, 1.0, 1.0]], [16.57221624108294, 3.427783758917058], [0.8286108120541471, 0.1713891879458529], 0.0, 'No Risk'], ['less_0', 8, 'prior_payments_delayed', 'car_new', 1387, 'less_100', '1_to_4', 2, 'male', 'none', 3, 'real_estate', 26, 'bank', 'rent', 1, 'unskilled', 1, 'none', 'yes', 1.0, 0.0, 0.0, 0.0, 0.0, 1.0, 2.0, 1.0, 0.0, 0.0, 2.0, 0.0, 0.0, [1.0, 0.0, 0.0, 0.0, 0.0, 0.0, 0.0, 2.0, 2.0, 1.0, 1.0, 0.0, 0.0, 8.0, 1387.0, 2.0, 3.0, 8.0, 26.0, 1.0, 1.0], [18.332963295888128, 1.6670367041118672], [0.9166481647944066, 0.08335183520559337], 0.0, 'No Risk'], ['no_checking', 12, 'all_credits_paid_back', 'car_used', 4570, 'less_100', '1_to_4', 4, 'male', 'none', 4, 'real_estate', 29, 'stores', 'own', 1, 'skilled', 1, 'none', 'yes', 0.0, 3.0, 0.0, 0.0, 0.0, 0.0, 1.0, 0.0, 2.0, 0.0, 2.0, 0.0, 0.0, [21, [1, 2, 7, 8, 13, 14, 15, 16, 17, 18, 19, 20], [3.0, 2.0, 2.0, 1.0, 12.0, 4570.0, 4.0, 4.0, 12.0, 29.0, 1.0, 1.0]], [15.562363121217153, 4.437636878782848], [0.7781181560608577, 0.2218818439391424], 0.0, 'No Risk'], ['0_to_200', 29, 'all_credits_paid_back', 'furniture', 1683, 'less_100', 'less_1', 3, 'female', 'none', 1, 'savings_insurance', 26, 'none', 'own', 1, 'skilled', 1, 'none', 'yes', 2.0, 3.0, 3.0, 0.0, 0.0, 0.0, 0.0, 0.0, 1.0, 0.0, 0.0, 1.0, 0.0, [2.0, 3.0, 1.0, 0.0, 3.0, 1.0, 0.0, 0.0, 0.0, 0.0, 0.0, 0.0, 0.0, 29.0, 1683.0, 3.0, 1.0, 29.0, 26.0, 1.0, 1.0], [17.730184166370815, 2.269815833629185], [0.8865092083185407, 0.11349079168145926], 0.0, 'No Risk'], ['no_checking', 28, 'outstanding_credit', 'appliances', 6778, 'unknown', 'greater_7', 4, 'male', 'none', 3, 'unknown', 50, 'none', 'free', 3, 'skilled', 2, 'yes', 'yes', 0.0, 2.0, 2.0, 4.0, 0.0, 2.0, 0.0, 0.0, 4.0, 0.0, 3.0, 0.0, 1.0, [0.0, 2.0, 4.0, 4.0, 2.0, 0.0, 0.0, 3.0, 0.0, 2.0, 0.0, 1.0, 0.0, 28.0, 6778.0, 4.0, 3.0, 28.0, 50.0, 3.0, 2.0], [3.7220497871678644, 16.27795021283214], [0.18610248935839319, 0.8138975106416068], 1.0, 'Risk'], ['no_checking', 38, 'prior_payments_delayed', 'furniture', 3550, 'unknown', '4_to_7', 4, 'male', 'none', 4, 'car_other', 43, 'bank', 'own', 2, 'unemployed', 2, 'yes', 'yes', 0.0, 0.0, 1.0, 4.0, 0.0, 0.0, 2.0, 3.0, 1.0, 0.0, 1.0, 0.0, 1.0, [0.0, 0.0, 1.0, 4.0, 1.0, 0.0, 0.0, 1.0, 2.0, 0.0, 3.0, 1.0, 0.0, 38.0, 3550.0, 4.0, 4.0, 38.0, 43.0, 2.0, 2.0], [10.281411741068156, 9.718588258931844], [0.5140705870534078, 0.4859294129465922], 0.0, 'No Risk'], ['no_checking', 53, 'outstanding_credit', 'vacation', 7407, 'unknown', 'greater_7', 5, 'male', 'co-applicant', 4, 'car_other', 53, 'none', 'free', 2, 'skilled', 2, 'yes', 'yes', 0.0, 2.0, 2.0, 4.0, 0.0, 2.0, 0.0, 0.0, 6.0, 1.0, 1.0, 0.0, 1.0, [0.0, 2.0, 6.0, 4.0, 2.0, 0.0, 1.0, 1.0, 0.0, 2.0, 0.0, 1.0, 0.0, 53.0, 7407.0, 5.0, 4.0, 53.0, 53.0, 2.0, 2.0], [2.146036046620109, 17.85396395337989], [0.10730180233100546, 0.8926981976689945], 1.0, 'Risk'], ['no_checking', 22, 'prior_payments_delayed', 'furniture', 5005, '100_to_500', '4_to_7', 4, 'male', 'none', 4, 'car_other', 40, 'none', 'own', 1, 'management_self-employed', 1, 'none', 'yes', 0.0, 0.0, 1.0, 1.0, 0.0, 0.0, 0.0, 2.0, 1.0, 0.0, 1.0, 0.0, 0.0, [0.0, 0.0, 1.0, 1.0, 1.0, 0.0, 0.0, 1.0, 0.0, 0.0, 2.0, 0.0, 0.0, 22.0, 5005.0, 4.0, 4.0, 22.0, 40.0, 1.0, 1.0], [11.74407640303987, 8.255923596960132], [0.5872038201519935, 0.4127961798480066], 0.0, 'No Risk'], ['no_checking', 30, 'prior_payments_delayed', 'car_used', 5182, '100_to_500', '4_to_7', 4, 'male', 'none', 4, 'savings_insurance', 38, 'none', 'own', 1, 'skilled', 1, 'none', 'yes', 0.0, 0.0, 1.0, 1.0, 0.0, 0.0, 0.0, 0.0, 2.0, 0.0, 0.0, 0.0, 0.0, [21, [2, 3, 4, 13, 14, 15, 16, 17, 18, 19, 20], [2.0, 1.0, 1.0, 30.0, 5182.0, 4.0, 4.0, 30.0, 38.0, 1.0, 1.0]], [11.923101430338713, 8.07689856966129], [0.5961550715169356, 0.40384492848306447], 0.0, 'No Risk'], ['no_checking', 28, 'outstanding_credit', 'furniture', 5682, '500_to_1000', '1_to_4', 3, 'male', 'none', 4, 'unknown', 65, 'none', 'own', 2, 'skilled', 1, 'yes', 'yes', 0.0, 2.0, 0.0, 2.0, 0.0, 0.0, 0.0, 0.0, 1.0, 0.0, 3.0, 0.0, 1.0, [0.0, 2.0, 1.0, 2.0, 0.0, 0.0, 0.0, 3.0, 0.0, 0.0, 0.0, 1.0, 0.0, 28.0, 5682.0, 3.0, 4.0, 28.0, 65.0, 2.0, 1.0], [8.94475310032604, 11.05524689967396], [0.44723765501630197, 0.552762344983698], 1.0, 'Risk'], ['less_0', 16, 'credits_paid_to_date', 'car_used', 582, '100_to_500', 'less_1', 1, 'male', 'none', 2, 'car_other', 28, 'bank', 'rent', 1, 'unemployed', 1, 'none', 'yes', 1.0, 1.0, 3.0, 1.0, 0.0, 1.0, 2.0, 3.0, 2.0, 0.0, 1.0, 0.0, 0.0, [1.0, 1.0, 2.0, 1.0, 3.0, 0.0, 0.0, 1.0, 2.0, 1.0, 3.0, 0.0, 0.0, 16.0, 582.0, 1.0, 2.0, 16.0, 28.0, 1.0, 1.0], [18.6626917843031, 1.3373082156968985], [0.9331345892151551, 0.06686541078484494], 0.0, 'No Risk'], ['less_0', 13, 'all_credits_paid_back', 'car_new', 1839, 'less_100', '1_to_4', 3, 'female', 'none', 1, 'car_other', 19, 'none', 'own', 1, 'skilled', 1, 'none', 'yes', 1.0, 3.0, 0.0, 0.0, 0.0, 0.0, 0.0, 0.0, 0.0, 0.0, 1.0, 1.0, 0.0, [21, [0, 1, 5, 7, 13, 14, 15, 16, 17, 18, 19, 20], [1.0, 3.0, 1.0, 1.0, 13.0, 1839.0, 3.0, 1.0, 13.0, 19.0, 1.0, 1.0]], [17.839700992744874, 2.1602990072551282], [0.8919850496372437, 0.1080149503627564], 0.0, 'No Risk'], ['less_0', 18, 'credits_paid_to_date', 'furniture', 1975, 'less_100', 'unemployed', 1, 'female', 'none', 2, 'savings_insurance', 24, 'stores', 'own', 1, 'skilled', 1, 'none', 'yes', 1.0, 1.0, 4.0, 0.0, 0.0, 0.0, 1.0, 0.0, 1.0, 0.0, 0.0, 1.0, 0.0, [1.0, 1.0, 1.0, 0.0, 4.0, 1.0, 0.0, 0.0, 1.0, 0.0, 0.0, 0.0, 0.0, 18.0, 1975.0, 1.0, 2.0, 18.0, 24.0, 1.0, 1.0], [18.86381858193237, 1.1361814180676253], [0.9431909290966187, 0.056809070903381276], 0.0, 'No Risk'], ['0_to_200', 19, 'prior_payments_delayed', 'furniture', 2445, 'less_100', 'less_1', 2, 'male', 'co-applicant', 2, 'savings_insurance', 39, 'stores', 'own', 1, 'unskilled', 1, 'none', 'yes', 2.0, 0.0, 3.0, 0.0, 0.0, 0.0, 1.0, 1.0, 1.0, 1.0, 0.0, 0.0, 0.0, [2.0, 0.0, 1.0, 0.0, 3.0, 0.0, 1.0, 0.0, 1.0, 0.0, 1.0, 0.0, 0.0, 19.0, 2445.0, 2.0, 2.0, 19.0, 39.0, 1.0, 1.0], [16.602912744767888, 3.397087255232113], [0.8301456372383944, 0.16985436276160565], 0.0, 'No Risk'], ['0_to_200', 14, 'all_credits_paid_back', 'car_new', 2037, 'less_100', 'unemployed', 1, 'female', 'none', 1, 'savings_insurance', 32, 'none', 'own', 1, 'skilled', 1, 'yes', 'yes', 2.0, 3.0, 4.0, 0.0, 0.0, 0.0, 0.0, 0.0, 0.0, 0.0, 0.0, 1.0, 1.0, [2.0, 3.0, 0.0, 0.0, 4.0, 1.0, 0.0, 0.0, 0.0, 0.0, 0.0, 1.0, 0.0, 14.0, 2037.0, 1.0, 1.0, 14.0, 32.0, 1.0, 1.0], [19.109963823556576, 0.890036176443421], [0.955498191177829, 0.04450180882217106], 0.0, 'No Risk'], ['0_to_200', 20, 'credits_paid_to_date', 'radio_tv', 5000, '500_to_1000', '4_to_7', 3, 'female', 'none', 2, 'savings_insurance', 31, 'none', 'own', 1, 'skilled', 1, 'none', 'yes', 2.0, 1.0, 1.0, 2.0, 0.0, 0.0, 0.0, 0.0, 3.0, 0.0, 0.0, 1.0, 0.0, [2.0, 1.0, 3.0, 2.0, 1.0, 1.0, 0.0, 0.0, 0.0, 0.0, 0.0, 0.0, 0.0, 20.0, 5000.0, 3.0, 2.0, 20.0, 31.0, 1.0, 1.0], [15.295412008526602, 4.7045879914733995], [0.7647706004263302, 0.23522939957366998], 0.0, 'No Risk'], ['0_to_200', 11, 'no_credits', 'car_new', 250, 'less_100', 'less_1', 2, 'female', 'none', 3, 'real_estate', 22, 'none', 'rent', 1, 'skilled', 1, 'none', 'yes', 2.0, 4.0, 3.0, 0.0, 0.0, 1.0, 0.0, 0.0, 0.0, 0.0, 2.0, 1.0, 0.0, [2.0, 4.0, 0.0, 0.0, 3.0, 1.0, 0.0, 2.0, 0.0, 1.0, 0.0, 0.0, 0.0, 11.0, 250.0, 2.0, 3.0, 11.0, 22.0, 1.0, 1.0], [19.205270047934217, 0.7947299520657829], [0.9602635023967109, 0.03973649760328914], 0.0, 'No Risk'], ['no_checking', 41, 'prior_payments_delayed', 'furniture', 7598, '500_to_1000', '1_to_4', 4, 'male', 'co-applicant', 5, 'unknown', 47, 'none', 'free', 2, 'skilled', 1, 'yes', 'yes', 0.0, 0.0, 0.0, 2.0, 0.0, 2.0, 0.0, 0.0, 1.0, 1.0, 3.0, 0.0, 1.0, [0.0, 0.0, 1.0, 2.0, 0.0, 0.0, 1.0, 3.0, 0.0, 2.0, 0.0, 1.0, 0.0, 41.0, 7598.0, 4.0, 5.0, 41.0, 47.0, 2.0, 1.0], [8.446697862403253, 11.553302137596747], [0.42233489312016265, 0.5776651068798373], 1.0, 'Risk'], ['0_to_200', 14, 'prior_payments_delayed', 'furniture', 3730, '500_to_1000', '1_to_4', 3, 'male', 'none', 2, 'savings_insurance', 30, 'none', 'own', 1, 'skilled', 1, 'yes', 'yes', 2.0, 0.0, 0.0, 2.0, 0.0, 0.0, 0.0, 0.0, 1.0, 0.0, 0.0, 0.0, 1.0, [21, [0, 2, 3, 11, 13, 14, 15, 16, 17, 18, 19, 20], [2.0, 1.0, 2.0, 1.0, 14.0, 3730.0, 3.0, 2.0, 14.0, 30.0, 1.0, 1.0]], [17.456209023748606, 2.5437909762513913], [0.8728104511874305, 0.12718954881256958], 0.0, 'No Risk'], ['less_0', 29, 'outstanding_credit', 'education', 3381, '100_to_500', '1_to_4', 3, 'male', 'none', 3, 'car_other', 19, 'none', 'own', 1, 'skilled', 1, 'yes', 'yes', 1.0, 2.0, 0.0, 1.0, 0.0, 0.0, 0.0, 0.0, 7.0, 0.0, 1.0, 0.0, 1.0, [1.0, 2.0, 7.0, 1.0, 0.0, 0.0, 0.0, 1.0, 0.0, 0.0, 0.0, 1.0, 0.0, 29.0, 3381.0, 3.0, 3.0, 29.0, 19.0, 1.0, 1.0], [15.095372711446435, 4.904627288553565], [0.7547686355723218, 0.24523136442767823], 0.0, 'No Risk'], ['no_checking', 25, 'all_credits_paid_back', 'car_used', 697, '100_to_500', '1_to_4', 3, 'male', 'none', 2, 'real_estate', 19, 'stores', 'own', 1, 'unskilled', 1, 'none', 'yes', 0.0, 3.0, 0.0, 1.0, 0.0, 0.0, 1.0, 1.0, 2.0, 0.0, 2.0, 0.0, 0.0, [0.0, 3.0, 2.0, 1.0, 0.0, 0.0, 0.0, 2.0, 1.0, 0.0, 1.0, 0.0, 0.0, 25.0, 697.0, 3.0, 2.0, 25.0, 19.0, 1.0, 1.0], [16.230649182124516, 3.769350817875485], [0.8115324591062258, 0.18846754089377424], 0.0, 'No Risk'], ['0_to_200', 8, 'all_credits_paid_back', 'car_used', 250, 'less_100', '1_to_4', 1, 'female', 'none', 3, 'savings_insurance', 39, 'stores', 'own', 1, 'skilled', 1, 'none', 'yes', 2.0, 3.0, 0.0, 0.0, 0.0, 0.0, 1.0, 0.0, 2.0, 0.0, 0.0, 1.0, 0.0, [2.0, 3.0, 2.0, 0.0, 0.0, 1.0, 0.0, 0.0, 1.0, 0.0, 0.0, 0.0, 0.0, 8.0, 250.0, 1.0, 3.0, 8.0, 39.0, 1.0, 1.0], [16.536042251271635, 3.463957748728365], [0.8268021125635817, 0.17319788743641823], 0.0, 'No Risk'], ['no_checking', 33, 'prior_payments_delayed', 'furniture', 5666, '500_to_1000', 'less_1', 3, 'female', 'none', 3, 'savings_insurance', 49, 'bank', 'rent', 2, 'unemployed', 1, 'none', 'no', 0.0, 0.0, 3.0, 2.0, 1.0, 1.0, 2.0, 3.0, 1.0, 0.0, 0.0, 1.0, 0.0, [0.0, 0.0, 1.0, 2.0, 3.0, 1.0, 0.0, 0.0, 2.0, 1.0, 3.0, 0.0, 1.0, 33.0, 5666.0, 3.0, 3.0, 33.0, 49.0, 2.0, 1.0], [11.921996474813719, 8.078003525186283], [0.5960998237406859, 0.4039001762593141], 0.0, 'No Risk'], ['no_checking', 47, 'outstanding_credit', 'appliances', 6594, 'greater_1000', '4_to_7', 4, 'male', 'co-applicant', 4, 'car_other', 52, 'none', 'free', 2, 'skilled', 2, 'yes', 'yes', 0.0, 2.0, 1.0, 3.0, 0.0, 2.0, 0.0, 0.0, 4.0, 1.0, 1.0, 0.0, 1.0, [0.0, 2.0, 4.0, 3.0, 1.0, 0.0, 1.0, 1.0, 0.0, 2.0, 0.0, 1.0, 0.0, 47.0, 6594.0, 4.0, 4.0, 47.0, 52.0, 2.0, 2.0], [3.5659959203867935, 16.434004079613203], [0.1782997960193397, 0.8217002039806603], 1.0, 'Risk'], ['0_to_200', 28, 'outstanding_credit', 'car_used', 3941, '500_to_1000', '4_to_7', 4, 'male', 'none', 3, 'car_other', 35, 'none', 'own', 1, 'skilled', 1, 'yes', 'yes', 2.0, 2.0, 1.0, 2.0, 0.0, 0.0, 0.0, 0.0, 2.0, 0.0, 1.0, 0.0, 1.0, [2.0, 2.0, 2.0, 2.0, 1.0, 0.0, 0.0, 1.0, 0.0, 0.0, 0.0, 1.0, 0.0, 28.0, 3941.0, 4.0, 3.0, 28.0, 35.0, 1.0, 1.0], [12.663089282478529, 7.33691071752147], [0.6331544641239264, 0.3668455358760735], 0.0, 'No Risk'], ['0_to_200', 15, 'credits_paid_to_date', 'radio_tv', 1318, '500_to_1000', 'less_1', 3, 'male', 'none', 1, 'real_estate', 27, 'none', 'own', 2, 'skilled', 1, 'none', 'yes', 2.0, 1.0, 3.0, 2.0, 0.0, 0.0, 0.0, 0.0, 3.0, 0.0, 2.0, 0.0, 0.0, [2.0, 1.0, 3.0, 2.0, 3.0, 0.0, 0.0, 2.0, 0.0, 0.0, 0.0, 0.0, 0.0, 15.0, 1318.0, 3.0, 1.0, 15.0, 27.0, 2.0, 1.0], [18.26013541695682, 1.7398645830431774], [0.9130067708478411, 0.08699322915215887], 0.0, 'No Risk'], ['no_checking', 37, 'credits_paid_to_date', 'radio_tv', 4678, '100_to_500', 'less_1', 2, 'male', 'none', 4, 'savings_insurance', 35, 'none', 'own', 1, 'skilled', 1, 'yes', 'yes', 0.0, 1.0, 3.0, 1.0, 0.0, 0.0, 0.0, 0.0, 3.0, 0.0, 0.0, 0.0, 1.0, [0.0, 1.0, 3.0, 1.0, 3.0, 0.0, 0.0, 0.0, 0.0, 0.0, 0.0, 1.0, 0.0, 37.0, 4678.0, 2.0, 4.0, 37.0, 35.0, 1.0, 1.0], [13.146805886436898, 6.853194113563105], [0.6573402943218448, 0.3426597056781552], 0.0, 'No Risk'], ['no_checking', 48, 'outstanding_credit', 'education', 6840, '500_to_1000', 'greater_7', 5, 'male', 'co-applicant', 5, 'car_other', 48, 'none', 'free', 2, 'skilled', 1, 'yes', 'yes', 0.0, 2.0, 2.0, 2.0, 0.0, 2.0, 0.0, 0.0, 7.0, 1.0, 1.0, 0.0, 1.0, [0.0, 2.0, 7.0, 2.0, 2.0, 0.0, 1.0, 1.0, 0.0, 2.0, 0.0, 1.0, 0.0, 48.0, 6840.0, 5.0, 5.0, 48.0, 48.0, 2.0, 1.0], [2.076492370415714, 17.923507629584286], [0.1038246185207857, 0.8961753814792143], 1.0, 'Risk'], ['no_checking', 28, 'outstanding_credit', 'radio_tv', 6801, '500_to_1000', '1_to_4', 4, 'male', 'none', 4, 'unknown', 58, 'stores', 'own', 2, 'unskilled', 1, 'yes', 'yes', 0.0, 2.0, 0.0, 2.0, 0.0, 0.0, 1.0, 1.0, 3.0, 0.0, 3.0, 0.0, 1.0, [0.0, 2.0, 3.0, 2.0, 0.0, 0.0, 0.0, 3.0, 1.0, 0.0, 1.0, 1.0, 0.0, 28.0, 6801.0, 4.0, 4.0, 28.0, 58.0, 2.0, 1.0], [9.72518452621342, 10.274815473786578], [0.486259226310671, 0.5137407736893289], 1.0, 'Risk'], ['0_to_200', 40, 'outstanding_credit', 'repairs', 4825, '500_to_1000', 'greater_7', 4, 'male', 'co-applicant', 4, 'car_other', 29, 'stores', 'own', 1, 'skilled', 1, 'yes', 'yes', 2.0, 2.0, 2.0, 2.0, 0.0, 0.0, 1.0, 0.0, 5.0, 1.0, 1.0, 0.0, 1.0, [2.0, 2.0, 5.0, 2.0, 2.0, 0.0, 1.0, 1.0, 1.0, 0.0, 0.0, 1.0, 0.0, 40.0, 4825.0, 4.0, 4.0, 40.0, 29.0, 1.0, 1.0], [10.374725408542325, 9.625274591457677], [0.5187362704271162, 0.4812637295728838], 0.0, 'No Risk'], ['0_to_200', 7, 'all_credits_paid_back', 'car_new', 250, 'less_100', 'less_1', 2, 'female', 'none', 3, 'real_estate', 19, 'none', 'rent', 1, 'skilled', 1, 'none', 'yes', 2.0, 3.0, 3.0, 0.0, 0.0, 1.0, 0.0, 0.0, 0.0, 0.0, 2.0, 1.0, 0.0, [2.0, 3.0, 0.0, 0.0, 3.0, 1.0, 0.0, 2.0, 0.0, 1.0, 0.0, 0.0, 0.0, 7.0, 250.0, 2.0, 3.0, 7.0, 19.0, 1.0, 1.0], [19.205270047934217, 0.7947299520657829], [0.9602635023967109, 0.03973649760328914], 0.0, 'No Risk'], ['0_to_200', 4, 'all_credits_paid_back', 'car_new', 250, 'less_100', 'less_1', 1, 'male', 'none', 1, 'savings_insurance', 29, 'bank', 'rent', 1, 'unemployed', 1, 'none', 'yes', 2.0, 3.0, 3.0, 0.0, 0.0, 1.0, 2.0, 3.0, 0.0, 0.0, 0.0, 0.0, 0.0, [2.0, 3.0, 0.0, 0.0, 3.0, 0.0, 0.0, 0.0, 2.0, 1.0, 3.0, 0.0, 0.0, 4.0, 250.0, 1.0, 1.0, 4.0, 29.0, 1.0, 1.0], [19.552726166265018, 0.447273833734977], [0.9776363083132512, 0.022363691686748857], 0.0, 'No Risk'], ['no_checking', 33, 'prior_payments_delayed', 'radio_tv', 3475, '500_to_1000', '1_to_4', 4, 'female', 'none', 4, 'car_other', 27, 'none', 'own', 2, 'skilled', 1, 'yes', 'yes', 0.0, 0.0, 0.0, 2.0, 0.0, 0.0, 0.0, 0.0, 3.0, 0.0, 1.0, 1.0, 1.0, [0.0, 0.0, 3.0, 2.0, 0.0, 1.0, 0.0, 1.0, 0.0, 0.0, 0.0, 1.0, 0.0, 33.0, 3475.0, 4.0, 4.0, 33.0, 27.0, 2.0, 1.0], [9.623207655790411, 10.376792344209592], [0.48116038278952045, 0.5188396172104796], 1.0, 'Risk'], ['0_to_200', 16, 'credits_paid_to_date', 'car_new', 1105, 'less_100', 'unemployed', 2, 'female', 'none', 1, 'real_estate', 34, 'none', 'own', 1, 'management_self-employed', 1, 'none', 'yes', 2.0, 1.0, 4.0, 0.0, 0.0, 0.0, 0.0, 2.0, 0.0, 0.0, 2.0, 1.0, 0.0, [2.0, 1.0, 0.0, 0.0, 4.0, 1.0, 0.0, 2.0, 0.0, 0.0, 2.0, 0.0, 0.0, 16.0, 1105.0, 2.0, 1.0, 16.0, 34.0, 1.0, 1.0], [18.198278644717586, 1.8017213552824143], [0.9099139322358794, 0.09008606776412072], 0.0, 'No Risk'], ['no_checking', 25, 'prior_payments_delayed', 'radio_tv', 1661, 'greater_1000', 'greater_7', 4, 'male', 'none', 4, 'savings_insurance', 38, 'none', 'own', 2, 'skilled', 1, 'yes', 'yes', 0.0, 0.0, 2.0, 3.0, 0.0, 0.0, 0.0, 0.0, 3.0, 0.0, 0.0, 0.0, 1.0, [21, [2, 3, 4, 11, 13, 14, 15, 16, 17, 18, 19, 20], [3.0, 3.0, 2.0, 1.0, 25.0, 1661.0, 4.0, 4.0, 25.0, 38.0, 2.0, 1.0]], [9.177024910921714, 10.822975089078282], [0.4588512455460858, 0.5411487544539142], 1.0, 'Risk'], ['less_0', 16, 'credits_paid_to_date', 'car_new', 1784, '500_to_1000', 'unemployed', 1, 'male', 'none', 3, 'savings_insurance', 27, 'bank', 'rent', 1, 'unemployed', 1, 'none', 'yes', 1.0, 1.0, 4.0, 2.0, 0.0, 1.0, 2.0, 3.0, 0.0, 0.0, 0.0, 0.0, 0.0, [1.0, 1.0, 0.0, 2.0, 4.0, 0.0, 0.0, 0.0, 2.0, 1.0, 3.0, 0.0, 0.0, 16.0, 1784.0, 1.0, 3.0, 16.0, 27.0, 1.0, 1.0], [18.75728159600748, 1.2427184039925148], [0.9378640798003742, 0.06213592019962575], 0.0, 'No Risk'], ['less_0', 8, 'prior_payments_delayed', 'repairs', 2317, 'less_100', '1_to_4', 2, 'female', 'none', 1, 'savings_insurance', 28, 'none', 'rent', 1, 'skilled', 1, 'none', 'yes', 1.0, 0.0, 0.0, 0.0, 0.0, 1.0, 0.0, 0.0, 5.0, 0.0, 0.0, 1.0, 0.0, [21, [0, 2, 5, 9, 13, 14, 15, 16, 17, 18, 19, 20], [1.0, 5.0, 1.0, 1.0, 8.0, 2317.0, 2.0, 1.0, 8.0, 28.0, 1.0, 1.0]], [18.457310035587454, 1.5426899644125436], [0.9228655017793729, 0.07713449822062719], 0.0, 'No Risk'], ['no_checking', 31, 'outstanding_credit', 'furniture', 6102, '500_to_1000', '4_to_7', 5, 'male', 'guarantor', 5, 'unknown', 59, 'none', 'free', 2, 'skilled', 1, 'yes', 'yes', 0.0, 2.0, 1.0, 2.0, 0.0, 2.0, 0.0, 0.0, 1.0, 2.0, 3.0, 0.0, 1.0, [0.0, 2.0, 1.0, 2.0, 1.0, 0.0, 2.0, 3.0, 0.0, 2.0, 0.0, 1.0, 0.0, 31.0, 6102.0, 5.0, 5.0, 31.0, 59.0, 2.0, 1.0], [3.7564310042099645, 16.243568995790035], [0.18782155021049823, 0.8121784497895017], 1.0, 'Risk'], ['less_0', 12, 'credits_paid_to_date', 'education', 3515, 'less_100', 'less_1', 3, 'female', 'none', 1, 'real_estate', 27, 'none', 'rent', 1, 'management_self-employed', 1, 'none', 'yes', 1.0, 1.0, 3.0, 0.0, 0.0, 1.0, 0.0, 2.0, 7.0, 0.0, 2.0, 1.0, 0.0, [1.0, 1.0, 7.0, 0.0, 3.0, 1.0, 0.0, 2.0, 0.0, 1.0, 2.0, 0.0, 0.0, 12.0, 3515.0, 3.0, 1.0, 12.0, 27.0, 1.0, 1.0], [19.449849119027117, 0.5501508809728798], [0.972492455951356, 0.027507544048643993], 0.0, 'No Risk'], ['no_checking', 8, 'credits_paid_to_date', 'furniture', 510, 'less_100', '4_to_7', 3, 'male', 'none', 4, 'real_estate', 30, 'none', 'own', 1, 'management_self-employed', 1, 'none', 'yes', 0.0, 1.0, 1.0, 0.0, 0.0, 0.0, 0.0, 2.0, 1.0, 0.0, 2.0, 0.0, 0.0, [0.0, 1.0, 1.0, 0.0, 1.0, 0.0, 0.0, 2.0, 0.0, 0.0, 2.0, 0.0, 0.0, 8.0, 510.0, 3.0, 4.0, 8.0, 30.0, 1.0, 1.0], [14.111292962804532, 5.88870703719547], [0.7055646481402266, 0.2944353518597735], 0.0, 'No Risk'], ['no_checking', 17, 'prior_payments_delayed', 'radio_tv', 7312, '100_to_500', '1_to_4', 3, 'male', 'none', 3, 'savings_insurance', 43, 'none', 'free', 2, 'skilled', 1, 'yes', 'yes', 0.0, 0.0, 0.0, 1.0, 0.0, 2.0, 0.0, 0.0, 3.0, 0.0, 0.0, 0.0, 1.0, [21, [2, 3, 9, 11, 13, 14, 15, 16, 17, 18, 19, 20], [3.0, 1.0, 2.0, 1.0, 17.0, 7312.0, 3.0, 3.0, 17.0, 43.0, 2.0, 1.0]], [12.670720109732743, 7.329279890267255], [0.6335360054866371, 0.36646399451336276], 0.0, 'No Risk'], ['no_checking', 22, 'credits_paid_to_date', 'retraining', 4144, 'less_100', 'less_1', 3, 'male', 'none', 3, 'car_other', 31, 'none', 'own', 1, 'management_self-employed', 1, 'yes', 'yes', 0.0, 1.0, 3.0, 0.0, 0.0, 0.0, 0.0, 2.0, 8.0, 0.0, 1.0, 0.0, 1.0, [0.0, 1.0, 8.0, 0.0, 3.0, 0.0, 0.0, 1.0, 0.0, 0.0, 2.0, 1.0, 0.0, 22.0, 4144.0, 3.0, 3.0, 22.0, 31.0, 1.0, 1.0], [15.24396200488164, 4.756037995118359], [0.762198100244082, 0.23780189975591798], 0.0, 'No Risk'], ['less_0', 9, 'prior_payments_delayed', 'furniture', 250, 'less_100', 'less_1', 1, 'female', 'none', 1, 'savings_insurance', 25, 'bank', 'rent', 1, 'unemployed', 1, 'none', 'yes', 1.0, 0.0, 3.0, 0.0, 0.0, 1.0, 2.0, 3.0, 1.0, 0.0, 0.0, 1.0, 0.0, [1.0, 0.0, 1.0, 0.0, 3.0, 1.0, 0.0, 0.0, 2.0, 1.0, 3.0, 0.0, 0.0, 9.0, 250.0, 1.0, 1.0, 9.0, 25.0, 1.0, 1.0], [19.50360030113038, 0.49639969886961643], [0.9751800150565192, 0.024819984943480825], 0.0, 'No Risk'], ['0_to_200', 14, 'credits_paid_to_date', 'car_new', 3574, 'less_100', '1_to_4', 2, 'female', 'none', 2, 'real_estate', 41, 'bank', 'own', 1, 'unemployed', 1, 'yes', 'yes', 2.0, 1.0, 0.0, 0.0, 0.0, 0.0, 2.0, 3.0, 0.0, 0.0, 2.0, 1.0, 1.0, [2.0, 1.0, 0.0, 0.0, 0.0, 1.0, 0.0, 2.0, 2.0, 0.0, 3.0, 1.0, 0.0, 14.0, 3574.0, 2.0, 2.0, 14.0, 41.0, 1.0, 1.0], [17.547357903549937, 2.4526420964500657], [0.8773678951774967, 0.12263210482250327], 0.0, 'No Risk'], ['no_checking', 16, 'outstanding_credit', 'radio_tv', 4111, '100_to_500', 'greater_7', 4, 'male', 'none', 4, 'car_other', 48, 'none', 'own', 2, 'management_self-employed', 1, 'yes', 'yes', 0.0, 2.0, 2.0, 1.0, 0.0, 0.0, 0.0, 2.0, 3.0, 0.0, 1.0, 0.0, 1.0, [0.0, 2.0, 3.0, 1.0, 2.0, 0.0, 0.0, 1.0, 0.0, 0.0, 2.0, 1.0, 0.0, 16.0, 4111.0, 4.0, 4.0, 16.0, 48.0, 2.0, 1.0], [7.789415321062756, 12.210584678937245], [0.3894707660531378, 0.6105292339468622], 1.0, 'Risk'], ['less_0', 24, 'credits_paid_to_date', 'furniture', 1893, '500_to_1000', '4_to_7', 3, 'male', 'none', 2, 'car_other', 31, 'stores', 'own', 1, 'skilled', 1, 'none', 'yes', 1.0, 1.0, 1.0, 2.0, 0.0, 0.0, 1.0, 0.0, 1.0, 0.0, 1.0, 0.0, 0.0, [1.0, 1.0, 1.0, 2.0, 1.0, 0.0, 0.0, 1.0, 1.0, 0.0, 0.0, 0.0, 0.0, 24.0, 1893.0, 3.0, 2.0, 24.0, 31.0, 1.0, 1.0], [15.15690742202267, 4.8430925779773295], [0.7578453711011335, 0.24215462889886646], 0.0, 'No Risk'], ['no_checking', 33, 'prior_payments_delayed', 'radio_tv', 4519, '500_to_1000', '1_to_4', 2, 'male', 'none', 3, 'car_other', 36, 'bank', 'own', 1, 'unskilled', 1, 'yes', 'yes', 0.0, 0.0, 0.0, 2.0, 0.0, 0.0, 2.0, 1.0, 3.0, 0.0, 1.0, 0.0, 1.0, [0.0, 0.0, 3.0, 2.0, 0.0, 0.0, 0.0, 1.0, 2.0, 0.0, 1.0, 1.0, 0.0, 33.0, 4519.0, 2.0, 3.0, 33.0, 36.0, 1.0, 1.0], [12.646477593859862, 7.353522406140136], [0.6323238796929932, 0.36767612030700686], 0.0, 'No Risk'], ['no_checking', 41, 'outstanding_credit', 'education', 8674, 'greater_1000', '4_to_7', 5, 'male', 'co-applicant', 5, 'unknown', 47, 'none', 'free', 2, 'management_self-employed', 2, 'yes', 'yes', 0.0, 2.0, 1.0, 3.0, 0.0, 2.0, 0.0, 2.0, 7.0, 1.0, 3.0, 0.0, 1.0, [0.0, 2.0, 7.0, 3.0, 1.0, 0.0, 1.0, 3.0, 0.0, 2.0, 2.0, 1.0, 0.0, 41.0, 8674.0, 5.0, 5.0, 41.0, 47.0, 2.0, 2.0], [3.38919992660871, 16.61080007339129], [0.1694599963304355, 0.8305400036695645], 1.0, 'Risk'], ['no_checking', 44, 'outstanding_credit', 'other', 9015, 'greater_1000', '4_to_7', 5, 'male', 'none', 5, 'unknown', 46, 'none', 'free', 2, 'management_self-employed', 1, 'yes', 'yes', 0.0, 2.0, 1.0, 3.0, 0.0, 2.0, 0.0, 2.0, 10.0, 0.0, 3.0, 0.0, 1.0, [0.0, 2.0, 10.0, 3.0, 1.0, 0.0, 0.0, 3.0, 0.0, 2.0, 2.0, 1.0, 0.0, 44.0, 9015.0, 5.0, 5.0, 44.0, 46.0, 2.0, 1.0], [5.340528406986873, 14.659471593013127], [0.26702642034934365, 0.7329735796506563], 1.0, 'Risk'], ['no_checking', 35, 'outstanding_credit', 'radio_tv', 5842, 'greater_1000', 'greater_7', 4, 'male', 'co-applicant', 3, 'unknown', 58, 'bank', 'own', 2, 'unemployed', 2, 'yes', 'yes', 0.0, 2.0, 2.0, 3.0, 0.0, 0.0, 2.0, 3.0, 3.0, 1.0, 3.0, 0.0, 1.0, [0.0, 2.0, 3.0, 3.0, 2.0, 0.0, 1.0, 3.0, 2.0, 0.0, 3.0, 1.0, 0.0, 35.0, 5842.0, 4.0, 3.0, 35.0, 58.0, 2.0, 2.0], [3.1372761890166525, 16.86272381098335], [0.1568638094508326, 0.8431361905491673], 1.0, 'Risk'], ['less_0', 8, 'all_credits_paid_back', 'car_used', 250, 'less_100', '1_to_4', 2, 'female', 'none', 3, 'real_estate', 36, 'none', 'own', 2, 'skilled', 1, 'none', 'yes', 1.0, 3.0, 0.0, 0.0, 0.0, 0.0, 0.0, 0.0, 2.0, 0.0, 2.0, 1.0, 0.0, [1.0, 3.0, 2.0, 0.0, 0.0, 1.0, 0.0, 2.0, 0.0, 0.0, 0.0, 0.0, 0.0, 8.0, 250.0, 2.0, 3.0, 8.0, 36.0, 2.0, 1.0], [16.548086072893803, 3.4519139271062], [0.82740430364469, 0.17259569635530997], 0.0, 'No Risk'], ['no_checking', 35, 'prior_payments_delayed', 'furniture', 5626, 'unknown', '4_to_7', 4, 'male', 'none', 4, 'unknown', 50, 'none', 'own', 2, 'skilled', 2, 'yes', 'yes', 0.0, 0.0, 1.0, 4.0, 0.0, 0.0, 0.0, 0.0, 1.0, 0.0, 3.0, 0.0, 1.0, [0.0, 0.0, 1.0, 4.0, 1.0, 0.0, 0.0, 3.0, 0.0, 0.0, 0.0, 1.0, 0.0, 35.0, 5626.0, 4.0, 4.0, 35.0, 50.0, 2.0, 2.0], [6.0403610069238605, 13.959638993076139], [0.302018050346193, 0.6979819496538069], 1.0, 'Risk'], ['less_0', 4, 'all_credits_paid_back', 'repairs', 250, 'less_100', 'unemployed', 1, 'male', 'none', 1, 'real_estate', 20, 'none', 'rent', 1, 'skilled', 1, 'none', 'yes', 1.0, 3.0, 4.0, 0.0, 0.0, 1.0, 0.0, 0.0, 5.0, 0.0, 2.0, 0.0, 0.0, [1.0, 3.0, 5.0, 0.0, 4.0, 0.0, 0.0, 2.0, 0.0, 1.0, 0.0, 0.0, 0.0, 4.0, 250.0, 1.0, 1.0, 4.0, 20.0, 1.0, 1.0], [19.650674735488856, 0.34932526451114065], [0.982533736774443, 0.017466263225557034], 0.0, 'No Risk'], ['less_0', 11, 'credits_paid_to_date', 'furniture', 644, 'less_100', '1_to_4', 1, 'female', 'none', 2, 'savings_insurance', 30, 'stores', 'own', 1, 'skilled', 1, 'yes', 'yes', 1.0, 1.0, 0.0, 0.0, 0.0, 0.0, 1.0, 0.0, 1.0, 0.0, 0.0, 1.0, 1.0, [1.0, 1.0, 1.0, 0.0, 0.0, 1.0, 0.0, 0.0, 1.0, 0.0, 0.0, 1.0, 0.0, 11.0, 644.0, 1.0, 2.0, 11.0, 30.0, 1.0, 1.0], [17.817044546100522, 2.1829554538994773], [0.8908522273050261, 0.10914777269497386], 0.0, 'No Risk'], ['0_to_200', 19, 'credits_paid_to_date', 'repairs', 3223, 'less_100', '4_to_7', 3, 'male', 'co-applicant', 2, 'car_other', 45, 'stores', 'own', 1, 'unskilled', 1, 'none', 'yes', 2.0, 1.0, 1.0, 0.0, 0.0, 0.0, 1.0, 1.0, 5.0, 1.0, 1.0, 0.0, 0.0, [2.0, 1.0, 5.0, 0.0, 1.0, 0.0, 1.0, 1.0, 1.0, 0.0, 1.0, 0.0, 0.0, 19.0, 3223.0, 3.0, 2.0, 19.0, 45.0, 1.0, 1.0], [13.999385912063467, 6.000614087936532], [0.6999692956031733, 0.3000307043968266], 0.0, 'No Risk'], ['less_0', 13, 'all_credits_paid_back', 'furniture', 250, '500_to_1000', '4_to_7', 2, 'female', 'none', 2, 'savings_insurance', 26, 'stores', 'own', 2, 'skilled', 1, 'none', 'yes', 1.0, 3.0, 1.0, 2.0, 0.0, 0.0, 1.0, 0.0, 1.0, 0.0, 0.0, 1.0, 0.0, [1.0, 3.0, 1.0, 2.0, 1.0, 1.0, 0.0, 0.0, 1.0, 0.0, 0.0, 0.0, 0.0, 13.0, 250.0, 2.0, 2.0, 13.0, 26.0, 2.0, 1.0], [16.844277154920857, 3.1557228450791444], [0.8422138577460428, 0.1577861422539572], 0.0, 'No Risk'], ['no_checking', 32, 'all_credits_paid_back', 'furniture', 2412, '100_to_500', 'less_1', 3, 'male', 'none', 4, 'savings_insurance', 32, 'none', 'own', 1, 'management_self-employed', 1, 'yes', 'yes', 0.0, 3.0, 3.0, 1.0, 0.0, 0.0, 0.0, 2.0, 1.0, 0.0, 0.0, 0.0, 1.0, [0.0, 3.0, 1.0, 1.0, 3.0, 0.0, 0.0, 0.0, 0.0, 0.0, 2.0, 1.0, 0.0, 32.0, 2412.0, 3.0, 4.0, 32.0, 32.0, 1.0, 1.0], [13.477435882541004, 6.522564117459001], [0.6738717941270501, 0.32612820587295], 0.0, 'No Risk'], ['no_checking', 30, 'outstanding_credit', 'appliances', 5505, '500_to_1000', 'greater_7', 4, 'male', 'none', 5, 'car_other', 45, 'none', 'own', 2, 'skilled', 1, 'yes', 'yes', 0.0, 2.0, 2.0, 2.0, 0.0, 0.0, 0.0, 0.0, 4.0, 0.0, 1.0, 0.0, 1.0, [0.0, 2.0, 4.0, 2.0, 2.0, 0.0, 0.0, 1.0, 0.0, 0.0, 0.0, 1.0, 0.0, 30.0, 5505.0, 4.0, 5.0, 30.0, 45.0, 2.0, 1.0], [5.775649789481972, 14.224350210518027], [0.28878248947409857, 0.7112175105259013], 1.0, 'Risk'], ['0_to_200', 4, 'credits_paid_to_date', 'radio_tv', 3029, 'less_100', '4_to_7', 3, 'female', 'none', 3, 'savings_insurance', 30, 'stores', 'rent', 1, 'unskilled', 1, 'none', 'yes', 2.0, 1.0, 1.0, 0.0, 0.0, 1.0, 1.0, 1.0, 3.0, 0.0, 0.0, 1.0, 0.0, [2.0, 1.0, 3.0, 0.0, 1.0, 1.0, 0.0, 0.0, 1.0, 1.0, 1.0, 0.0, 0.0, 4.0, 3029.0, 3.0, 3.0, 4.0, 30.0, 1.0, 1.0], [17.087942908500956, 2.9120570914990447], [0.8543971454250479, 0.14560285457495223], 0.0, 'No Risk'], ['no_checking', 21, 'outstanding_credit', 'radio_tv', 2320, 'unknown', 'greater_7', 4, 'male', 'none', 5, 'savings_insurance', 31, 'none', 'own', 1, 'skilled', 1, 'none', 'yes', 0.0, 2.0, 2.0, 4.0, 0.0, 0.0, 0.0, 0.0, 3.0, 0.0, 0.0, 0.0, 0.0, [21, [1, 2, 3, 4, 13, 14, 15, 16, 17, 18, 19, 20], [2.0, 3.0, 4.0, 2.0, 21.0, 2320.0, 4.0, 5.0, 21.0, 31.0, 1.0, 1.0]], [11.600183636869577, 8.399816363130425], [0.5800091818434788, 0.41999081815652123], 0.0, 'No Risk'], ['no_checking', 14, 'all_credits_paid_back', 'car_used', 4675, 'less_100', '1_to_4', 3, 'male', 'none', 4, 'savings_insurance', 33, 'none', 'own', 2, 'management_self-employed', 1, 'none', 'yes', 0.0, 3.0, 0.0, 0.0, 0.0, 0.0, 0.0, 2.0, 2.0, 0.0, 0.0, 0.0, 0.0, [21, [1, 2, 10, 13, 14, 15, 16, 17, 18, 19, 20], [3.0, 2.0, 2.0, 14.0, 4675.0, 3.0, 4.0, 14.0, 33.0, 2.0, 1.0]], [14.683699809040752, 5.316300190959251], [0.7341849904520374, 0.2658150095479625], 0.0, 'No Risk'], ['no_checking', 32, 'prior_payments_delayed', 'car_used', 1922, 'unknown', 'greater_7', 4, 'male', 'none', 3, 'savings_insurance', 29, 'none', 'free', 2, 'skilled', 1, 'none', 'yes', 0.0, 0.0, 2.0, 4.0, 0.0, 2.0, 0.0, 0.0, 2.0, 0.0, 0.0, 0.0, 0.0, [21, [2, 3, 4, 9, 13, 14, 15, 16, 17, 18, 19, 20], [2.0, 4.0, 2.0, 2.0, 32.0, 1922.0, 4.0, 3.0, 32.0, 29.0, 2.0, 1.0]], [10.104071065423451, 9.895928934576549], [0.5052035532711725, 0.49479644672882744], 0.0, 'No Risk'], ['greater_200', 19, 'prior_payments_delayed', 'car_new', 465, '100_to_500', '1_to_4', 3, 'male', 'none', 3, 'real_estate', 30, 'none', 'own', 1, 'management_self-employed', 1, 'none', 'yes', 3.0, 0.0, 0.0, 1.0, 0.0, 0.0, 0.0, 2.0, 0.0, 0.0, 2.0, 0.0, 0.0, [21, [0, 3, 7, 10, 13, 14, 15, 16, 17, 18, 19, 20], [3.0, 1.0, 2.0, 2.0, 19.0, 465.0, 3.0, 3.0, 19.0, 30.0, 1.0, 1.0]], [16.768009196215402, 3.2319908037846017], [0.8384004598107699, 0.16159954018923006], 0.0, 'No Risk'], ['0_to_200', 4, 'all_credits_paid_back', 'car_new', 2729, 'less_100', 'less_1', 3, 'male', 'none', 3, 'savings_insurance', 28, 'none', 'own', 1, 'skilled', 1, 'none', 'yes', 2.0, 3.0, 3.0, 0.0, 0.0, 0.0, 0.0, 0.0, 0.0, 0.0, 0.0, 0.0, 0.0, [21, [0, 1, 4, 13, 14, 15, 16, 17, 18, 19, 20], [2.0, 3.0, 3.0, 4.0, 2729.0, 3.0, 3.0, 4.0, 28.0, 1.0, 1.0]], [18.96810765445586, 1.0318923455441344], [0.9484053827227933, 0.05159461727720674], 0.0, 'No Risk'], ['less_0', 12, 'no_credits', 'car_new', 639, 'less_100', 'unemployed', 1, 'male', 'none', 1, 'savings_insurance', 36, 'bank', 'rent', 1, 'unskilled', 1, 'none', 'yes', 1.0, 4.0, 4.0, 0.0, 0.0, 1.0, 2.0, 1.0, 0.0, 0.0, 0.0, 0.0, 0.0, [1.0, 4.0, 0.0, 0.0, 4.0, 0.0, 0.0, 0.0, 2.0, 1.0, 1.0, 0.0, 0.0, 12.0, 639.0, 1.0, 1.0, 12.0, 36.0, 1.0, 1.0], [18.81648327285756, 1.1835167271424396], [0.940824163642878, 0.05917583635712198], 0.0, 'No Risk'], ['less_0', 20, 'prior_payments_delayed', 'radio_tv', 948, 'greater_1000', 'greater_7', 3, 'male', 'none', 2, 'savings_insurance', 30, 'bank', 'own', 2, 'unemployed', 1, 'none', 'yes', 1.0, 0.0, 2.0, 3.0, 0.0, 0.0, 2.0, 3.0, 3.0, 0.0, 0.0, 0.0, 0.0, [1.0, 0.0, 3.0, 3.0, 2.0, 0.0, 0.0, 0.0, 2.0, 0.0, 3.0, 0.0, 0.0, 20.0, 948.0, 3.0, 2.0, 20.0, 30.0, 2.0, 1.0], [16.710364947841306, 3.289635052158696], [0.8355182473920651, 0.16448175260793477], 0.0, 'No Risk'], ['less_0', 8, 'all_credits_paid_back', 'car_used', 289, 'less_100', 'unemployed', 1, 'male', 'none', 2, 'savings_insurance', 27, 'none', 'rent', 1, 'skilled', 1, 'none', 'yes', 1.0, 3.0, 4.0, 0.0, 0.0, 1.0, 0.0, 0.0, 2.0, 0.0, 0.0, 0.0, 0.0, [1.0, 3.0, 2.0, 0.0, 4.0, 0.0, 0.0, 0.0, 0.0, 1.0, 0.0, 0.0, 0.0, 8.0, 289.0, 1.0, 2.0, 8.0, 27.0, 1.0, 1.0], [19.378260016833853, 0.6217399831661423], [0.9689130008416929, 0.03108699915830712], 0.0, 'No Risk'], ['0_to_200', 14, 'credits_paid_to_date', 'furniture', 2673, 'less_100', 'less_1', 2, 'male', 'none', 2, 'savings_insurance', 35, 'none', 'own', 1, 'skilled', 1, 'yes', 'yes', 2.0, 1.0, 3.0, 0.0, 0.0, 0.0, 0.0, 0.0, 1.0, 0.0, 0.0, 0.0, 1.0, [2.0, 1.0, 1.0, 0.0, 3.0, 0.0, 0.0, 0.0, 0.0, 0.0, 0.0, 1.0, 0.0, 14.0, 2673.0, 2.0, 2.0, 14.0, 35.0, 1.0, 1.0], [17.976791117526602, 2.0232088824733965], [0.8988395558763301, 0.10116044412366983], 0.0, 'No Risk'], ['less_0', 11, 'credits_paid_to_date', 'car_new', 250, 'less_100', 'less_1', 1, 'male', 'none', 2, 'real_estate', 21, 'stores', 'rent', 1, 'skilled', 1, 'none', 'yes', 1.0, 1.0, 3.0, 0.0, 0.0, 1.0, 1.0, 0.0, 0.0, 0.0, 2.0, 0.0, 0.0, [1.0, 1.0, 0.0, 0.0, 3.0, 0.0, 0.0, 2.0, 1.0, 1.0, 0.0, 0.0, 0.0, 11.0, 250.0, 1.0, 2.0, 11.0, 21.0, 1.0, 1.0], [19.44958400636039, 0.5504159936396064], [0.9724792003180196, 0.02752079968198032], 0.0, 'No Risk'], ['0_to_200', 19, 'credits_paid_to_date', 'retraining', 1987, 'less_100', '4_to_7', 3, 'female', 'none', 3, 'savings_insurance', 41, 'none', 'own', 1, 'skilled', 1, 'none', 'yes', 2.0, 1.0, 1.0, 0.0, 0.0, 0.0, 0.0, 0.0, 8.0, 0.0, 0.0, 1.0, 0.0, [2.0, 1.0, 8.0, 0.0, 1.0, 1.0, 0.0, 0.0, 0.0, 0.0, 0.0, 0.0, 0.0, 19.0, 1987.0, 3.0, 3.0, 19.0, 41.0, 1.0, 1.0], [14.02150898464674, 5.978491015353259], [0.701075449232337, 0.29892455076766294], 0.0, 'No Risk'], ['no_checking', 28, 'prior_payments_delayed', 'appliances', 2627, '500_to_1000', 'greater_7', 4, 'male', 'none', 3, 'savings_insurance', 27, 'none', 'own', 2, 'skilled', 1, 'none', 'yes', 0.0, 0.0, 2.0, 2.0, 0.0, 0.0, 0.0, 0.0, 4.0, 0.0, 0.0, 0.0, 0.0, [21, [2, 3, 4, 13, 14, 15, 16, 17, 18, 19, 20], [4.0, 2.0, 2.0, 28.0, 2627.0, 4.0, 3.0, 28.0, 27.0, 2.0, 1.0]], [10.104071065423451, 9.895928934576549], [0.5052035532711725, 0.49479644672882744], 0.0, 'No Risk'], ['0_to_200', 16, 'credits_paid_to_date', 'retraining', 3081, '100_to_500', '1_to_4', 3, 'male', 'none', 3, 'savings_insurance', 36, 'stores', 'rent', 1, 'skilled', 1, 'none', 'yes', 2.0, 1.0, 0.0, 1.0, 0.0, 1.0, 1.0, 0.0, 8.0, 0.0, 0.0, 0.0, 0.0, [2.0, 1.0, 8.0, 1.0, 0.0, 0.0, 0.0, 0.0, 1.0, 1.0, 0.0, 0.0, 0.0, 16.0, 3081.0, 3.0, 3.0, 16.0, 36.0, 1.0, 1.0], [14.806487173130334, 5.1935128268696635], [0.7403243586565168, 0.2596756413434832], 0.0, 'No Risk'], ['less_0', 16, 'credits_paid_to_date', 'car_new', 2326, 'less_100', 'less_1', 1, 'female', 'none', 2, 'savings_insurance', 26, 'stores', 'own', 1, 'skilled', 1, 'none', 'yes', 1.0, 1.0, 3.0, 0.0, 0.0, 0.0, 1.0, 0.0, 0.0, 0.0, 0.0, 1.0, 0.0, [1.0, 1.0, 0.0, 0.0, 3.0, 1.0, 0.0, 0.0, 1.0, 0.0, 0.0, 0.0, 0.0, 16.0, 2326.0, 1.0, 2.0, 16.0, 26.0, 1.0, 1.0], [19.054746936761447, 0.945253063238552], [0.9527373468380723, 0.0472626531619276], 0.0, 'No Risk'], ['no_checking', 34, 'outstanding_credit', 'repairs', 7065, '500_to_1000', 'greater_7', 4, 'female', 'co-applicant', 4, 'unknown', 51, 'none', 'free', 2, 'skilled', 2, 'yes', 'yes', 0.0, 2.0, 2.0, 2.0, 0.0, 2.0, 0.0, 0.0, 5.0, 1.0, 3.0, 1.0, 1.0, [0.0, 2.0, 5.0, 2.0, 2.0, 1.0, 1.0, 3.0, 0.0, 2.0, 0.0, 1.0, 0.0, 34.0, 7065.0, 4.0, 4.0, 34.0, 51.0, 2.0, 2.0], [1.6785251236244092, 18.321474876375593], [0.08392625618122045, 0.9160737438187795], 1.0, 'Risk'], ['no_checking', 31, 'outstanding_credit', 'radio_tv', 3664, '500_to_1000', '4_to_7', 4, 'male', 'none', 3, 'car_other', 43, 'none', 'own', 1, 'skilled', 1, 'none', 'yes', 0.0, 2.0, 1.0, 2.0, 0.0, 0.0, 0.0, 0.0, 3.0, 0.0, 1.0, 0.0, 0.0, [0.0, 2.0, 3.0, 2.0, 1.0, 0.0, 0.0, 1.0, 0.0, 0.0, 0.0, 0.0, 0.0, 31.0, 3664.0, 4.0, 3.0, 31.0, 43.0, 1.0, 1.0], [10.975456733792738, 9.024543266207266], [0.5487728366896368, 0.4512271633103632], 0.0, 'No Risk'], ['0_to_200', 23, 'outstanding_credit', 'radio_tv', 6279, 'greater_1000', 'less_1', 3, 'male', 'none', 2, 'unknown', 36, 'none', 'own', 2, 'skilled', 1, 'none', 'yes', 2.0, 2.0, 3.0, 3.0, 0.0, 0.0, 0.0, 0.0, 3.0, 0.0, 3.0, 0.0, 0.0, [2.0, 2.0, 3.0, 3.0, 3.0, 0.0, 0.0, 3.0, 0.0, 0.0, 0.0, 0.0, 0.0, 23.0, 6279.0, 3.0, 2.0, 23.0, 36.0, 2.0, 1.0], [13.774897889954591, 6.225102110045414], [0.6887448944977294, 0.3112551055022706], 0.0, 'No Risk'], ['greater_200', 11, 'prior_payments_delayed', 'radio_tv', 2257, '100_to_500', '1_to_4', 3, 'male', 'none', 4, 'real_estate', 24, 'stores', 'own', 1, 'unskilled', 1, 'yes', 'yes', 3.0, 0.0, 0.0, 1.0, 0.0, 0.0, 1.0, 1.0, 3.0, 0.0, 2.0, 0.0, 1.0, [3.0, 0.0, 3.0, 1.0, 0.0, 0.0, 0.0, 2.0, 1.0, 0.0, 1.0, 1.0, 0.0, 11.0, 2257.0, 3.0, 4.0, 11.0, 24.0, 1.0, 1.0], [16.7071178203572, 3.292882179642801], [0.8353558910178599, 0.16464410898214002], 0.0, 'No Risk'], ['no_checking', 20, 'credits_paid_to_date', 'vacation', 6381, 'less_100', '4_to_7', 3, 'female', 'none', 4, 'unknown', 38, 'none', 'own', 1, 'skilled', 2, 'none', 'yes', 0.0, 1.0, 1.0, 0.0, 0.0, 0.0, 0.0, 0.0, 6.0, 0.0, 3.0, 1.0, 0.0, [0.0, 1.0, 6.0, 0.0, 1.0, 1.0, 0.0, 3.0, 0.0, 0.0, 0.0, 0.0, 0.0, 20.0, 6381.0, 3.0, 4.0, 20.0, 38.0, 1.0, 2.0], [9.985823746107817, 10.014176253892186], [0.4992911873053908, 0.5007088126946092], 1.0, 'Risk'], ['no_checking', 35, 'prior_payments_delayed', 'furniture', 2120, '500_to_1000', '4_to_7', 3, 'male', 'none', 4, 'car_other', 52, 'bank', 'own', 3, 'unemployed', 2, 'yes', 'yes', 0.0, 0.0, 1.0, 2.0, 0.0, 0.0, 2.0, 3.0, 1.0, 0.0, 1.0, 0.0, 1.0, [0.0, 0.0, 1.0, 2.0, 1.0, 0.0, 0.0, 1.0, 2.0, 0.0, 3.0, 1.0, 0.0, 35.0, 2120.0, 3.0, 4.0, 35.0, 52.0, 3.0, 2.0], [7.388435634426507, 12.611564365573493], [0.36942178172132534, 0.6305782182786747], 1.0, 'Risk'], ['less_0', 4, 'all_credits_paid_back', 'car_new', 250, 'less_100', 'less_1', 2, 'male', 'none', 2, 'real_estate', 30, 'none', 'rent', 1, 'skilled', 1, 'none', 'yes', 1.0, 3.0, 3.0, 0.0, 0.0, 1.0, 0.0, 0.0, 0.0, 0.0, 2.0, 0.0, 0.0, [1.0, 3.0, 0.0, 0.0, 3.0, 0.0, 0.0, 2.0, 0.0, 1.0, 0.0, 0.0, 0.0, 4.0, 250.0, 2.0, 2.0, 4.0, 30.0, 1.0, 1.0], [19.58867230669052, 0.4113276933094735], [0.9794336153345263, 0.020566384665473683], 0.0, 'No Risk'], ['less_0', 13, 'prior_payments_delayed', 'repairs', 1236, 'less_100', '1_to_4', 2, 'male', 'none', 1, 'car_other', 41, 'none', 'own', 1, 'skilled', 1, 'yes', 'yes', 1.0, 0.0, 0.0, 0.0, 0.0, 0.0, 0.0, 0.0, 5.0, 0.0, 1.0, 0.0, 1.0, [21, [0, 2, 7, 11, 13, 14, 15, 16, 17, 18, 19, 20], [1.0, 5.0, 1.0, 1.0, 13.0, 1236.0, 2.0, 1.0, 13.0, 41.0, 1.0, 1.0]], [16.109294431049744, 3.8907055689502554], [0.8054647215524872, 0.19453527844751278], 0.0, 'No Risk'], ['less_0', 9, 'all_credits_paid_back', 'education', 2297, '100_to_500', '4_to_7', 3, 'male', 'none', 2, 'savings_insurance', 32, 'none', 'rent', 2, 'skilled', 1, 'none', 'yes', 1.0, 3.0, 1.0, 1.0, 0.0, 1.0, 0.0, 0.0, 7.0, 0.0, 0.0, 0.0, 0.0, [1.0, 3.0, 7.0, 1.0, 1.0, 0.0, 0.0, 0.0, 0.0, 1.0, 0.0, 0.0, 0.0, 9.0, 2297.0, 3.0, 2.0, 9.0, 32.0, 2.0, 1.0], [16.518529954512562, 3.481470045487436], [0.8259264977256281, 0.1740735022743718], 0.0, 'No Risk'], ['less_0', 23, 'prior_payments_delayed', 'radio_tv', 4722, 'less_100', '1_to_4', 3, 'male', 'none', 3, 'unknown', 39, 'none', 'own', 1, 'skilled', 1, 'none', 'yes', 1.0, 0.0, 0.0, 0.0, 0.0, 0.0, 0.0, 0.0, 3.0, 0.0, 3.0, 0.0, 0.0, [21, [0, 2, 7, 13, 14, 15, 16, 17, 18, 19, 20], [1.0, 3.0, 3.0, 23.0, 4722.0, 3.0, 3.0, 23.0, 39.0, 1.0, 1.0]], [14.319218325302403, 5.680781674697596], [0.7159609162651202, 0.2840390837348798], 0.0, 'No Risk'], ['no_checking', 27, 'prior_payments_delayed', 'furniture', 6003, '500_to_1000', '4_to_7', 3, 'male', 'none', 4, 'car_other', 44, 'none', 'own', 2, 'skilled', 1, 'yes', 'yes', 0.0, 0.0, 1.0, 2.0, 0.0, 0.0, 0.0, 0.0, 1.0, 0.0, 1.0, 0.0, 1.0, [0.0, 0.0, 1.0, 2.0, 1.0, 0.0, 0.0, 1.0, 0.0, 0.0, 0.0, 1.0, 0.0, 27.0, 6003.0, 3.0, 4.0, 27.0, 44.0, 2.0, 1.0], [9.270613754836605, 10.729386245163395], [0.46353068774183026, 0.5364693122581697], 1.0, 'Risk'], ['no_checking', 33, 'all_credits_paid_back', 'education', 1823, '100_to_500', 'less_1', 2, 'female', 'none', 3, 'savings_insurance', 42, 'bank', 'rent', 1, 'unskilled', 1, 'none', 'yes', 0.0, 3.0, 3.0, 1.0, 0.0, 1.0, 2.0, 1.0, 7.0, 0.0, 0.0, 1.0, 0.0, [0.0, 3.0, 7.0, 1.0, 3.0, 1.0, 0.0, 0.0, 2.0, 1.0, 1.0, 0.0, 0.0, 33.0, 1823.0, 2.0, 3.0, 33.0, 42.0, 1.0, 1.0], [13.786611592092969, 6.213388407907033], [0.6893305796046485, 0.3106694203953516], 0.0, 'No Risk'], ['no_checking', 33, 'prior_payments_delayed', 'radio_tv', 8070, '100_to_500', 'greater_7', 4, 'male', 'co-applicant', 3, 'car_other', 44, 'none', 'own', 3, 'skilled', 2, 'yes', 'yes', 0.0, 0.0, 2.0, 1.0, 0.0, 0.0, 0.0, 0.0, 3.0, 1.0, 1.0, 0.0, 1.0, [0.0, 0.0, 3.0, 1.0, 2.0, 0.0, 1.0, 1.0, 0.0, 0.0, 0.0, 1.0, 0.0, 33.0, 8070.0, 4.0, 3.0, 33.0, 44.0, 3.0, 2.0], [3.904849971527464, 16.095150028472535], [0.19524249857637319, 0.8047575014236268], 1.0, 'Risk'], ['0_to_200', 17, 'prior_payments_delayed', 'furniture', 3840, '500_to_1000', 'greater_7', 4, 'male', 'none', 3, 'car_other', 43, 'none', 'own', 2, 'skilled', 1, 'none', 'yes', 2.0, 0.0, 2.0, 2.0, 0.0, 0.0, 0.0, 0.0, 1.0, 0.0, 1.0, 0.0, 0.0, [2.0, 0.0, 1.0, 2.0, 2.0, 0.0, 0.0, 1.0, 0.0, 0.0, 0.0, 0.0, 0.0, 17.0, 3840.0, 4.0, 3.0, 17.0, 43.0, 2.0, 1.0], [12.865793569510203, 7.134206430489795], [0.6432896784755102, 0.3567103215244898], 0.0, 'No Risk'], ['no_checking', 9, 'credits_paid_to_date', 'furniture', 450, 'less_100', 'less_1', 2, 'male', 'none', 2, 'real_estate', 28, 'none', 'rent', 1, 'skilled', 1, 'none', 'yes', 0.0, 1.0, 3.0, 0.0, 0.0, 1.0, 0.0, 0.0, 1.0, 0.0, 2.0, 0.0, 0.0, [0.0, 1.0, 1.0, 0.0, 3.0, 0.0, 0.0, 2.0, 0.0, 1.0, 0.0, 0.0, 0.0, 9.0, 450.0, 2.0, 2.0, 9.0, 28.0, 1.0, 1.0], [17.85398770198567, 2.1460122980143272], [0.8926993850992836, 0.10730061490071638], 0.0, 'No Risk'], ['less_0', 11, 'prior_payments_delayed', 'car_used', 4182, 'less_100', '1_to_4', 2, 'male', 'none', 1, 'car_other', 30, 'bank', 'own', 1, 'unemployed', 1, 'yes', 'yes', 1.0, 0.0, 0.0, 0.0, 0.0, 0.0, 2.0, 3.0, 2.0, 0.0, 1.0, 0.0, 1.0, [1.0, 0.0, 2.0, 0.0, 0.0, 0.0, 0.0, 1.0, 2.0, 0.0, 3.0, 1.0, 0.0, 11.0, 4182.0, 2.0, 1.0, 11.0, 30.0, 1.0, 1.0], [17.578813800190247, 2.421186199809753], [0.8789406900095124, 0.12105930999048764], 0.0, 'No Risk'], ['0_to_200', 4, 'all_credits_paid_back', 'car_new', 2420, 'less_100', 'unemployed', 1, 'male', 'none', 3, 'savings_insurance', 28, 'none', 'own', 1, 'skilled', 1, 'none', 'yes', 2.0, 3.0, 4.0, 0.0, 0.0, 0.0, 0.0, 0.0, 0.0, 0.0, 0.0, 0.0, 0.0, [21, [0, 1, 4, 13, 14, 15, 16, 17, 18, 19, 20], [2.0, 3.0, 4.0, 4.0, 2420.0, 1.0, 3.0, 4.0, 28.0, 1.0, 1.0]], [18.70961025110141, 1.2903897488985867], [0.9354805125550706, 0.06451948744492934], 0.0, 'No Risk'], ['no_checking', 27, 'prior_payments_delayed', 'appliances', 7522, '100_to_500', '1_to_4', 4, 'male', 'none', 4, 'savings_insurance', 45, 'none', 'own', 1, 'management_self-employed', 1, 'none', 'yes', 0.0, 0.0, 0.0, 1.0, 0.0, 0.0, 0.0, 2.0, 4.0, 0.0, 0.0, 0.0, 0.0, [21, [2, 3, 10, 13, 14, 15, 16, 17, 18, 19, 20], [4.0, 1.0, 2.0, 27.0, 7522.0, 4.0, 4.0, 27.0, 45.0, 1.0, 1.0]], [11.812874830709664, 8.187125169290335], [0.5906437415354832, 0.40935625846451673], 0.0, 'No Risk'], ['less_0', 21, 'credits_paid_to_date', 'furniture', 1466, '500_to_1000', '1_to_4', 3, 'female', 'none', 2, 'real_estate', 25, 'stores', 'rent', 1, 'unskilled', 1, 'none', 'yes', 1.0, 1.0, 0.0, 2.0, 0.0, 1.0, 1.0, 1.0, 1.0, 0.0, 2.0, 1.0, 0.0, [1.0, 1.0, 1.0, 2.0, 0.0, 1.0, 0.0, 2.0, 1.0, 1.0, 1.0, 0.0, 0.0, 21.0, 1466.0, 3.0, 2.0, 21.0, 25.0, 1.0, 1.0], [17.450110828892505, 2.549889171107497], [0.8725055414446251, 0.12749445855537483], 0.0, 'No Risk'], ['no_checking', 15, 'credits_paid_to_date', 'furniture', 2589, '100_to_500', '1_to_4', 3, 'male', 'co-applicant', 4, 'car_other', 39, 'none', 'own', 1, 'skilled', 1, 'yes', 'yes', 0.0, 1.0, 0.0, 1.0, 0.0, 0.0, 0.0, 0.0, 1.0, 1.0, 1.0, 0.0, 1.0, [0.0, 1.0, 1.0, 1.0, 0.0, 0.0, 1.0, 1.0, 0.0, 0.0, 0.0, 1.0, 0.0, 15.0, 2589.0, 3.0, 4.0, 15.0, 39.0, 1.0, 1.0], [11.385653123875453, 8.614346876124548], [0.5692826561937727, 0.4307173438062274], 0.0, 'No Risk'], ['no_checking', 10, 'prior_payments_delayed', 'furniture', 3706, 'greater_1000', 'greater_7', 4, 'male', 'none', 3, 'unknown', 61, 'stores', 'own', 2, 'unskilled', 2, 'yes', 'yes', 0.0, 0.0, 2.0, 3.0, 0.0, 0.0, 1.0, 1.0, 1.0, 0.0, 3.0, 0.0, 1.0, [0.0, 0.0, 1.0, 3.0, 2.0, 0.0, 0.0, 3.0, 1.0, 0.0, 1.0, 1.0, 0.0, 10.0, 3706.0, 4.0, 3.0, 10.0, 61.0, 2.0, 2.0], [9.076005584586158, 10.923994415413844], [0.4538002792293079, 0.5461997207706922], 1.0, 'Risk'], ['no_checking', 43, 'prior_payments_delayed', 'repairs', 6642, 'greater_1000', 'greater_7', 5, 'male', 'co-applicant', 5, 'unknown', 47, 'bank', 'own', 2, 'unemployed', 2, 'yes', 'yes', 0.0, 0.0, 2.0, 3.0, 0.0, 0.0, 2.0, 3.0, 5.0, 1.0, 3.0, 0.0, 1.0, [0.0, 0.0, 5.0, 3.0, 2.0, 0.0, 1.0, 3.0, 2.0, 0.0, 3.0, 1.0, 0.0, 43.0, 6642.0, 5.0, 5.0, 43.0, 47.0, 2.0, 2.0], [3.223041137782445, 16.77695886221756], [0.1611520568891222, 0.8388479431108777], 1.0, 'Risk'], ['no_checking', 49, 'outstanding_credit', 'education', 8474, '500_to_1000', 'greater_7', 4, 'male', 'co-applicant', 3, 'car_other', 55, 'stores', 'own', 2, 'unskilled', 2, 'yes', 'yes', 0.0, 2.0, 2.0, 2.0, 0.0, 0.0, 1.0, 1.0, 7.0, 1.0, 1.0, 0.0, 1.0, [0.0, 2.0, 7.0, 2.0, 2.0, 0.0, 1.0, 1.0, 1.0, 0.0, 1.0, 1.0, 0.0, 49.0, 8474.0, 4.0, 3.0, 49.0, 55.0, 2.0, 2.0], [3.5795569845456456, 16.420443015454353], [0.17897784922728227, 0.8210221507727177], 1.0, 'Risk'], ['no_checking', 39, 'prior_payments_delayed', 'repairs', 6275, '500_to_1000', '4_to_7', 5, 'male', 'none', 3, 'car_other', 42, 'none', 'free', 2, 'skilled', 1, 'yes', 'yes', 0.0, 0.0, 1.0, 2.0, 0.0, 2.0, 0.0, 0.0, 5.0, 0.0, 1.0, 0.0, 1.0, [0.0, 0.0, 5.0, 2.0, 1.0, 0.0, 0.0, 1.0, 0.0, 2.0, 0.0, 1.0, 0.0, 39.0, 6275.0, 5.0, 3.0, 39.0, 42.0, 2.0, 1.0], [9.256225305781916, 10.743774694218084], [0.4628112652890958, 0.5371887347109042], 1.0, 'Risk'], ['0_to_200', 14, 'credits_paid_to_date', 'furniture', 1707, 'less_100', 'less_1', 3, 'female', 'none', 1, 'car_other', 39, 'none', 'own', 2, 'skilled', 2, 'none', 'yes', 2.0, 1.0, 3.0, 0.0, 0.0, 0.0, 0.0, 0.0, 1.0, 0.0, 1.0, 1.0, 0.0, [2.0, 1.0, 1.0, 0.0, 3.0, 1.0, 0.0, 1.0, 0.0, 0.0, 0.0, 0.0, 0.0, 14.0, 1707.0, 3.0, 1.0, 14.0, 39.0, 2.0, 2.0], [15.09396864737585, 4.906031352624153], [0.7546984323687924, 0.24530156763120764], 0.0, 'No Risk'], ['no_checking', 47, 'outstanding_credit', 'repairs', 6651, 'greater_1000', 'greater_7', 6, 'male', 'co-applicant', 4, 'car_other', 56, 'none', 'free', 3, 'skilled', 1, 'yes', 'yes', 0.0, 2.0, 2.0, 3.0, 0.0, 2.0, 0.0, 0.0, 5.0, 1.0, 1.0, 0.0, 1.0, [0.0, 2.0, 5.0, 3.0, 2.0, 0.0, 1.0, 1.0, 0.0, 2.0, 0.0, 1.0, 0.0, 47.0, 6651.0, 6.0, 4.0, 47.0, 56.0, 3.0, 1.0], [2.146036046620109, 17.85396395337989], [0.10730180233100546, 0.8926981976689945], 1.0, 'Risk'], ['less_0', 32, 'outstanding_credit', 'appliances', 7598, '100_to_500', '1_to_4', 3, 'male', 'none', 2, 'car_other', 30, 'none', 'own', 1, 'skilled', 2, 'yes', 'yes', 1.0, 2.0, 0.0, 1.0, 0.0, 0.0, 0.0, 0.0, 4.0, 0.0, 1.0, 0.0, 1.0, [1.0, 2.0, 4.0, 1.0, 0.0, 0.0, 0.0, 1.0, 0.0, 0.0, 0.0, 1.0, 0.0, 32.0, 7598.0, 3.0, 2.0, 32.0, 30.0, 1.0, 2.0], [14.82306081216362, 5.176939187836381], [0.741153040608181, 0.25884695939181906], 0.0, 'No Risk'], ['no_checking', 27, 'prior_payments_delayed', 'appliances', 6043, '100_to_500', 'greater_7', 5, 'male', 'none', 5, 'savings_insurance', 38, 'none', 'own', 1, 'management_self-employed', 1, 'none', 'yes', 0.0, 0.0, 2.0, 1.0, 0.0, 0.0, 0.0, 2.0, 4.0, 0.0, 0.0, 0.0, 0.0, [21, [2, 3, 4, 10, 13, 14, 15, 16, 17, 18, 19, 20], [4.0, 1.0, 2.0, 2.0, 27.0, 6043.0, 5.0, 5.0, 27.0, 38.0, 1.0, 1.0]], [10.515627849020134, 9.484372150979866], [0.5257813924510067, 0.47421860754899325], 0.0, 'No Risk'], ['less_0', 12, 'prior_payments_delayed', 'repairs', 2467, 'less_100', '1_to_4', 3, 'male', 'none', 2, 'savings_insurance', 19, 'none', 'own', 1, 'management_self-employed', 1, 'none', 'yes', 1.0, 0.0, 0.0, 0.0, 0.0, 0.0, 0.0, 2.0, 5.0, 0.0, 0.0, 0.0, 0.0, [21, [0, 2, 10, 13, 14, 15, 16, 17, 18, 19, 20], [1.0, 5.0, 2.0, 12.0, 2467.0, 3.0, 2.0, 12.0, 19.0, 1.0, 1.0]], [18.02715037543597, 1.9728496245640261], [0.9013575187717986, 0.09864248122820132], 0.0, 'No Risk'], ['no_checking', 32, 'credits_paid_to_date', 'car_used', 5457, '100_to_500', '1_to_4', 4, 'male', 'none', 4, 'car_other', 29, 'stores', 'own', 1, 'skilled', 1, 'yes', 'yes', 0.0, 1.0, 0.0, 1.0, 0.0, 0.0, 1.0, 0.0, 2.0, 0.0, 1.0, 0.0, 1.0, [0.0, 1.0, 2.0, 1.0, 0.0, 0.0, 0.0, 1.0, 1.0, 0.0, 0.0, 1.0, 0.0, 32.0, 5457.0, 4.0, 4.0, 32.0, 29.0, 1.0, 1.0], [12.48731992392964, 7.512680076070358], [0.6243659961964821, 0.37563400380351797], 0.0, 'No Risk'], ['0_to_200', 14, 'credits_paid_to_date', 'repairs', 1988, '500_to_1000', '4_to_7', 2, 'male', 'none', 3, 'real_estate', 31, 'none', 'own', 1, 'skilled', 1, 'none', 'yes', 2.0, 1.0, 1.0, 2.0, 0.0, 0.0, 0.0, 0.0, 5.0, 0.0, 2.0, 0.0, 0.0, [2.0, 1.0, 5.0, 2.0, 1.0, 0.0, 0.0, 2.0, 0.0, 0.0, 0.0, 0.0, 0.0, 14.0, 1988.0, 2.0, 3.0, 14.0, 31.0, 1.0, 1.0], [16.793339988162778, 3.20666001183722], [0.839666999408139, 0.16033300059186104], 0.0, 'No Risk'], ['no_checking', 25, 'prior_payments_delayed', 'car_used', 4237, '100_to_500', '1_to_4', 2, 'male', 'none', 4, 'savings_insurance', 52, 'none', 'own', 1, 'management_self-employed', 1, 'yes', 'yes', 0.0, 0.0, 0.0, 1.0, 0.0, 0.0, 0.0, 2.0, 2.0, 0.0, 0.0, 0.0, 1.0, [21, [2, 3, 10, 11, 13, 14, 15, 16, 17, 18, 19, 20], [2.0, 1.0, 2.0, 1.0, 25.0, 4237.0, 2.0, 4.0, 25.0, 52.0, 1.0, 1.0]], [13.581076053705475, 6.418923946294527], [0.6790538026852737, 0.32094619731472634], 0.0, 'No Risk'], ['greater_200', 20, 'prior_payments_delayed', 'car_used', 4790, '100_to_500', 'greater_7', 3, 'female', 'none', 2, 'car_other', 42, 'none', 'own', 2, 'skilled', 1, 'none', 'yes', 3.0, 0.0, 2.0, 1.0, 0.0, 0.0, 0.0, 0.0, 2.0, 0.0, 1.0, 1.0, 0.0, [3.0, 0.0, 2.0, 1.0, 2.0, 1.0, 0.0, 1.0, 0.0, 0.0, 0.0, 0.0, 0.0, 20.0, 4790.0, 3.0, 2.0, 20.0, 42.0, 2.0, 1.0], [13.51173918415657, 6.488260815843434], [0.6755869592078284, 0.32441304079217165], 0.0, 'No Risk'], ['0_to_200', 20, 'prior_payments_delayed', 'furniture', 2349, '100_to_500', 'greater_7', 3, 'female', 'none', 3, 'savings_insurance', 36, 'bank', 'own', 1, 'unemployed', 1, 'yes', 'yes', 2.0, 0.0, 2.0, 1.0, 0.0, 0.0, 2.0, 3.0, 1.0, 0.0, 0.0, 1.0, 1.0, [2.0, 0.0, 1.0, 1.0, 2.0, 1.0, 0.0, 0.0, 2.0, 0.0, 3.0, 1.0, 0.0, 20.0, 2349.0, 3.0, 3.0, 20.0, 36.0, 1.0, 1.0], [13.510288878563752, 6.489711121436246], [0.6755144439281876, 0.3244855560718123], 0.0, 'No Risk'], ['less_0', 4, 'no_credits', 'car_new', 2764, 'less_100', '1_to_4', 2, 'female', 'none', 3, 'real_estate', 19, 'none', 'own', 1, 'skilled', 1, 'none', 'yes', 1.0, 4.0, 0.0, 0.0, 0.0, 0.0, 0.0, 0.0, 0.0, 0.0, 2.0, 1.0, 0.0, [21, [0, 1, 5, 7, 13, 14, 15, 16, 17, 18, 19, 20], [1.0, 4.0, 1.0, 2.0, 4.0, 2764.0, 2.0, 3.0, 4.0, 19.0, 1.0, 1.0]], [18.380200291403415, 1.619799708596583], [0.9190100145701707, 0.08098998542982914], 0.0, 'No Risk'], ['no_checking', 24, 'prior_payments_delayed', 'car_used', 4018, '100_to_500', 'greater_7', 4, 'female', 'none', 3, 'car_other', 46, 'stores', 'own', 2, 'unskilled', 1, 'none', 'yes', 0.0, 0.0, 2.0, 1.0, 0.0, 0.0, 1.0, 1.0, 2.0, 0.0, 1.0, 1.0, 0.0, [0.0, 0.0, 2.0, 1.0, 2.0, 1.0, 0.0, 1.0, 1.0, 0.0, 1.0, 0.0, 0.0, 24.0, 4018.0, 4.0, 3.0, 24.0, 46.0, 2.0, 1.0], [8.876982093707912, 11.12301790629209], [0.4438491046853956, 0.5561508953146045], 1.0, 'Risk'], ['0_to_200', 20, 'credits_paid_to_date', 'car_new', 250, 'greater_1000', '1_to_4', 3, 'male', 'none', 3, 'savings_insurance', 39, 'bank', 'rent', 1, 'unemployed', 1, 'yes', 'yes', 2.0, 1.0, 0.0, 3.0, 0.0, 1.0, 2.0, 3.0, 0.0, 0.0, 0.0, 0.0, 1.0, [2.0, 1.0, 0.0, 3.0, 0.0, 0.0, 0.0, 0.0, 2.0, 1.0, 3.0, 1.0, 0.0, 20.0, 250.0, 3.0, 3.0, 20.0, 39.0, 1.0, 1.0], [13.841884663799046, 6.158115336200953], [0.6920942331899523, 0.30790576681004767], 0.0, 'No Risk'], ['less_0', 6, 'all_credits_paid_back', 'education', 250, 'less_100', '1_to_4', 1, 'male', 'none', 2, 'savings_insurance', 25, 'stores', 'own', 1, 'skilled', 1, 'none', 'yes', 1.0, 3.0, 0.0, 0.0, 0.0, 0.0, 1.0, 0.0, 7.0, 0.0, 0.0, 0.0, 0.0, [21, [0, 1, 2, 8, 13, 14, 15, 16, 17, 18, 19, 20], [1.0, 3.0, 7.0, 1.0, 6.0, 250.0, 1.0, 2.0, 6.0, 25.0, 1.0, 1.0]], [18.837222286258612, 1.162777713741386], [0.9418611143129307, 0.058138885687069305], 0.0, 'No Risk'], ['less_0', 20, 'credits_paid_to_date', 'car_new', 250, 'less_100', '1_to_4', 1, 'male', 'none', 3, 'savings_insurance', 19, 'stores', 'rent', 1, 'skilled', 1, 'none', 'yes', 1.0, 1.0, 0.0, 0.0, 0.0, 1.0, 1.0, 0.0, 0.0, 0.0, 0.0, 0.0, 0.0, [21, [0, 1, 8, 9, 13, 14, 15, 16, 17, 18, 19, 20], [1.0, 1.0, 1.0, 1.0, 20.0, 250.0, 1.0, 3.0, 20.0, 19.0, 1.0, 1.0]], [16.44304301207758, 3.556956987922419], [0.822152150603879, 0.17784784939612094], 0.0, 'No Risk'], ['no_checking', 25, 'prior_payments_delayed', 'business', 5349, '100_to_500', '1_to_4', 4, 'male', 'none', 4, 'car_other', 34, 'stores', 'rent', 2, 'unskilled', 2, 'yes', 'yes', 0.0, 0.0, 0.0, 1.0, 0.0, 1.0, 1.0, 1.0, 9.0, 0.0, 1.0, 0.0, 1.0, [0.0, 0.0, 9.0, 1.0, 0.0, 0.0, 0.0, 1.0, 1.0, 1.0, 1.0, 1.0, 0.0, 25.0, 5349.0, 4.0, 4.0, 25.0, 34.0, 2.0, 2.0], [13.347208042582496, 6.652791957417505], [0.6673604021291248, 0.33263959787087527], 0.0, 'No Risk'], ['0_to_200', 13, 'prior_payments_delayed', 'retraining', 3902, 'less_100', 'less_1', 3, 'male', 'co-applicant', 2, 'unknown', 51, 'none', 'own', 1, 'skilled', 1, 'yes', 'yes', 2.0, 0.0, 3.0, 0.0, 0.0, 0.0, 0.0, 0.0, 8.0, 1.0, 3.0, 0.0, 1.0, [2.0, 0.0, 8.0, 0.0, 3.0, 0.0, 1.0, 3.0, 0.0, 0.0, 0.0, 1.0, 0.0, 13.0, 3902.0, 3.0, 2.0, 13.0, 51.0, 1.0, 1.0], [15.842666746049591, 4.1573332539504095], [0.7921333373024796, 0.20786666269752047], 0.0, 'No Risk'], ['0_to_200', 4, 'credits_paid_to_date', 'car_used', 250, '500_to_1000', 'less_1', 1, 'male', 'none', 3, 'savings_insurance', 21, 'none', 'rent', 1, 'skilled', 1, 'none', 'yes', 2.0, 1.0, 3.0, 2.0, 0.0, 1.0, 0.0, 0.0, 2.0, 0.0, 0.0, 0.0, 0.0, [2.0, 1.0, 2.0, 2.0, 3.0, 0.0, 0.0, 0.0, 0.0, 1.0, 0.0, 0.0, 0.0, 4.0, 250.0, 1.0, 3.0, 4.0, 21.0, 1.0, 1.0], [18.784842582728782, 1.2151574172712156], [0.9392421291364392, 0.06075787086356079], 0.0, 'No Risk'], ['0_to_200', 40, 'prior_payments_delayed', 'appliances', 5005, '100_to_500', '1_to_4', 3, 'male', 'none', 3, 'savings_insurance', 28, 'bank', 'rent', 1, 'unskilled', 1, 'none', 'yes', 2.0, 0.0, 0.0, 1.0, 0.0, 1.0, 2.0, 1.0, 4.0, 0.0, 0.0, 0.0, 0.0, [2.0, 0.0, 4.0, 1.0, 0.0, 0.0, 0.0, 0.0, 2.0, 1.0, 1.0, 0.0, 0.0, 40.0, 5005.0, 3.0, 3.0, 40.0, 28.0, 1.0, 1.0], [14.617579218977772, 5.382420781022225], [0.7308789609488887, 0.2691210390511113], 0.0, 'No Risk'], ['less_0', 19, 'credits_paid_to_date', 'furniture', 4295, '500_to_1000', '1_to_4', 3, 'male', 'co-applicant', 2, 'savings_insurance', 36, 'none', 'free', 2, 'skilled', 1, 'none', 'yes', 1.0, 1.0, 0.0, 2.0, 0.0, 2.0, 0.0, 0.0, 1.0, 1.0, 0.0, 0.0, 0.0, [1.0, 1.0, 1.0, 2.0, 0.0, 0.0, 1.0, 0.0, 0.0, 2.0, 0.0, 0.0, 0.0, 19.0, 4295.0, 3.0, 2.0, 19.0, 36.0, 2.0, 1.0], [15.034037193935797, 4.965962806064205], [0.7517018596967898, 0.24829814030321024], 0.0, 'No Risk'], ['no_checking', 21, 'credits_paid_to_date', 'radio_tv', 6778, 'greater_1000', '4_to_7', 4, 'male', 'none', 3, 'unknown', 29, 'stores', 'own', 2, 'unskilled', 1, 'none', 'yes', 0.0, 1.0, 1.0, 3.0, 0.0, 0.0, 1.0, 1.0, 3.0, 0.0, 3.0, 0.0, 0.0, [0.0, 1.0, 3.0, 3.0, 1.0, 0.0, 0.0, 3.0, 1.0, 0.0, 1.0, 0.0, 0.0, 21.0, 6778.0, 4.0, 3.0, 21.0, 29.0, 2.0, 1.0], [10.279154695204554, 9.720845304795446], [0.5139577347602277, 0.48604226523977234], 0.0, 'No Risk'], ['less_0', 22, 'credits_paid_to_date', 'radio_tv', 563, 'less_100', 'less_1', 2, 'female', 'none', 2, 'savings_insurance', 32, 'stores', 'own', 1, 'skilled', 1, 'none', 'yes', 1.0, 1.0, 3.0, 0.0, 0.0, 0.0, 1.0, 0.0, 3.0, 0.0, 0.0, 1.0, 0.0, [1.0, 1.0, 3.0, 0.0, 3.0, 1.0, 0.0, 0.0, 1.0, 0.0, 0.0, 0.0, 0.0, 22.0, 563.0, 2.0, 2.0, 22.0, 32.0, 1.0, 1.0], [17.082436465101498, 2.9175635348985027], [0.8541218232550749, 0.14587817674492515], 0.0, 'No Risk'], ['greater_200', 47, 'prior_payments_delayed', 'radio_tv', 4087, '500_to_1000', '1_to_4', 3, 'male', 'none', 3, 'car_other', 29, 'none', 'own', 1, 'skilled', 1, 'none', 'yes', 3.0, 0.0, 0.0, 2.0, 0.0, 0.0, 0.0, 0.0, 3.0, 0.0, 1.0, 0.0, 0.0, [21, [0, 2, 3, 7, 13, 14, 15, 16, 17, 18, 19, 20], [3.0, 3.0, 2.0, 1.0, 47.0, 4087.0, 3.0, 3.0, 47.0, 29.0, 1.0, 1.0]], [12.868483381837962, 7.131516618162037], [0.643424169091898, 0.35657583090810185], 0.0, 'No Risk'], ['0_to_200', 34, 'prior_payments_delayed', 'education', 1087, '100_to_500', '1_to_4', 2, 'male', 'none', 2, 'savings_insurance', 25, 'stores', 'own', 1, 'skilled', 1, 'none', 'yes', 2.0, 0.0, 0.0, 1.0, 0.0, 0.0, 1.0, 0.0, 7.0, 0.0, 0.0, 0.0, 0.0, [21, [0, 2, 3, 8, 13, 14, 15, 16, 17, 18, 19, 20], [2.0, 7.0, 1.0, 1.0, 34.0, 1087.0, 2.0, 2.0, 34.0, 25.0, 1.0, 1.0]], [16.753262191661427, 3.246737808338574], [0.8376631095830713, 0.1623368904169287], 0.0, 'No Risk'], ['0_to_200', 4, 'prior_payments_delayed', 'car_used', 2615, 'less_100', 'unemployed', 2, 'female', 'none', 3, 'real_estate', 25, 'none', 'own', 1, 'management_self-employed', 1, 'none', 'yes', 2.0, 0.0, 4.0, 0.0, 0.0, 0.0, 0.0, 2.0, 2.0, 0.0, 2.0, 1.0, 0.0, [2.0, 0.0, 2.0, 0.0, 4.0, 1.0, 0.0, 2.0, 0.0, 0.0, 2.0, 0.0, 0.0, 4.0, 2615.0, 2.0, 3.0, 4.0, 25.0, 1.0, 1.0], [18.75719889934723, 1.2428011006527675], [0.9378599449673617, 0.062140055032638385], 0.0, 'No Risk'], ['no_checking', 11, 'no_credits', 'car_new', 2931, 'less_100', 'less_1', 2, 'female', 'none', 3, 'real_estate', 47, 'none', 'rent', 1, 'skilled', 1, 'none', 'yes', 0.0, 4.0, 3.0, 0.0, 0.0, 1.0, 0.0, 0.0, 0.0, 0.0, 2.0, 1.0, 0.0, [0.0, 4.0, 0.0, 0.0, 3.0, 1.0, 0.0, 2.0, 0.0, 1.0, 0.0, 0.0, 0.0, 11.0, 2931.0, 2.0, 3.0, 11.0, 47.0, 1.0, 1.0], [16.57540133540701, 3.4245986645929904], [0.8287700667703505, 0.1712299332296495], 0.0, 'No Risk'], ['no_checking', 26, 'credits_paid_to_date', 'radio_tv', 5817, '100_to_500', '1_to_4', 3, 'male', 'none', 4, 'savings_insurance', 32, 'none', 'own', 2, 'management_self-employed', 1, 'none', 'yes', 0.0, 1.0, 0.0, 1.0, 0.0, 0.0, 0.0, 2.0, 3.0, 0.0, 0.0, 0.0, 0.0, [21, [1, 2, 3, 10, 13, 14, 15, 16, 17, 18, 19, 20], [1.0, 3.0, 1.0, 2.0, 26.0, 5817.0, 3.0, 4.0, 26.0, 32.0, 2.0, 1.0]], [12.78733375552596, 7.212666244474041], [0.639366687776298, 0.36063331222370204], 0.0, 'No Risk'], ['less_0', 8, 'credits_paid_to_date', 'vacation', 3071, 'less_100', 'less_1', 3, 'female', 'none', 2, 'savings_insurance', 31, 'none', 'own', 1, 'skilled', 1, 'none', 'yes', 1.0, 1.0, 3.0, 0.0, 0.0, 0.0, 0.0, 0.0, 6.0, 0.0, 0.0, 1.0, 0.0, [1.0, 1.0, 6.0, 0.0, 3.0, 1.0, 0.0, 0.0, 0.0, 0.0, 0.0, 0.0, 0.0, 8.0, 3071.0, 3.0, 2.0, 8.0, 31.0, 1.0, 1.0], [18.94759179480851, 1.052408205191485], [0.9473795897404258, 0.052620410259574264], 0.0, 'No Risk'], ['no_checking', 16, 'outstanding_credit', 'furniture', 5460, 'greater_1000', '4_to_7', 4, 'male', 'none', 3, 'savings_insurance', 31, 'none', 'own', 2, 'management_self-employed', 1, 'none', 'yes', 0.0, 2.0, 1.0, 3.0, 0.0, 0.0, 0.0, 2.0, 1.0, 0.0, 0.0, 0.0, 0.0, [0.0, 2.0, 1.0, 3.0, 1.0, 0.0, 0.0, 0.0, 0.0, 0.0, 2.0, 0.0, 0.0, 16.0, 5460.0, 4.0, 3.0, 16.0, 31.0, 2.0, 1.0], [11.497272233839137, 8.502727766160865], [0.5748636116919569, 0.42513638830804323], 0.0, 'No Risk'], ['less_0', 27, 'outstanding_credit', 'education', 250, '100_to_500', '1_to_4', 2, 'male', 'none', 2, 'car_other', 37, 'stores', 'rent', 1, 'unskilled', 1, 'none', 'yes', 1.0, 2.0, 0.0, 1.0, 0.0, 1.0, 1.0, 1.0, 7.0, 0.0, 1.0, 0.0, 0.0, [1.0, 2.0, 7.0, 1.0, 0.0, 0.0, 0.0, 1.0, 1.0, 1.0, 1.0, 0.0, 0.0, 27.0, 250.0, 2.0, 2.0, 27.0, 37.0, 1.0, 1.0], [15.286179797219841, 4.71382020278016], [0.764308989860992, 0.235691010139008], 0.0, 'No Risk']]}\n"
     ]
    }
   ],
   "source": [
    "import random\n",
    "\n",
    "with open('german_credit_feed.json', 'r') as scoring_file:\n",
    "    scoring_data = json.load(scoring_file)\n",
    "\n",
    "fields = scoring_data['fields']\n",
    "values = []\n",
    "for _ in range(1000):\n",
    "    values.append(random.choice(scoring_data['values']))\n",
    "payload_scoring = {\"fields\": fields, \"values\": values}\n",
    "\n",
    "scoring_response = wml_client.deployments.score(credit_risk_scoring_endpoint, payload_scoring)\n",
    "print(scoring_response)"
   ]
  },
  {
   "cell_type": "code",
   "execution_count": 47,
   "metadata": {
    "scrolled": false
   },
   "outputs": [
    {
     "data": {
      "text/plain": [
       "{'entity': {'asset': {'asset_id': 'c0e9c727-a17c-48e7-b258-4a781bfa85f4',\n",
       "   'asset_type': 'model',\n",
       "   'created_at': '2019-02-25T15:15:08.764Z',\n",
       "   'name': 'Spark German Risk Model - Final',\n",
       "   'url': 'https://us-south.ml.cloud.ibm.com/v3/wml_instances/4ffff3c1-f98d-4270-b716-980fbee1ef0b/published_models/c0e9c727-a17c-48e7-b258-4a781bfa85f4'},\n",
       "  'asset_properties': {'categorical_fields': ['CheckingStatus',\n",
       "    'CreditHistory',\n",
       "    'LoanPurpose',\n",
       "    'ExistingSavings',\n",
       "    'EmploymentDuration',\n",
       "    'Sex',\n",
       "    'OthersOnLoan',\n",
       "    'OwnsProperty',\n",
       "    'InstallmentPlans',\n",
       "    'Housing',\n",
       "    'Job',\n",
       "    'Telephone',\n",
       "    'ForeignWorker'],\n",
       "   'feature_fields': ['CheckingStatus',\n",
       "    'LoanDuration',\n",
       "    'CreditHistory',\n",
       "    'LoanPurpose',\n",
       "    'LoanAmount',\n",
       "    'ExistingSavings',\n",
       "    'EmploymentDuration',\n",
       "    'InstallmentPercent',\n",
       "    'Sex',\n",
       "    'OthersOnLoan',\n",
       "    'CurrentResidenceDuration',\n",
       "    'OwnsProperty',\n",
       "    'Age',\n",
       "    'InstallmentPlans',\n",
       "    'Housing',\n",
       "    'ExistingCreditsCount',\n",
       "    'Job',\n",
       "    'Dependents',\n",
       "    'Telephone',\n",
       "    'ForeignWorker'],\n",
       "   'input_data_schema': {'fields': [{'metadata': {'measure': 'discrete',\n",
       "       'modeling_role': 'feature'},\n",
       "      'name': 'CheckingStatus',\n",
       "      'nullable': True,\n",
       "      'type': 'string'},\n",
       "     {'metadata': {'modeling_role': 'feature'},\n",
       "      'name': 'LoanDuration',\n",
       "      'nullable': True,\n",
       "      'type': 'integer'},\n",
       "     {'metadata': {'measure': 'discrete', 'modeling_role': 'feature'},\n",
       "      'name': 'CreditHistory',\n",
       "      'nullable': True,\n",
       "      'type': 'string'},\n",
       "     {'metadata': {'measure': 'discrete', 'modeling_role': 'feature'},\n",
       "      'name': 'LoanPurpose',\n",
       "      'nullable': True,\n",
       "      'type': 'string'},\n",
       "     {'metadata': {'modeling_role': 'feature'},\n",
       "      'name': 'LoanAmount',\n",
       "      'nullable': True,\n",
       "      'type': 'integer'},\n",
       "     {'metadata': {'measure': 'discrete', 'modeling_role': 'feature'},\n",
       "      'name': 'ExistingSavings',\n",
       "      'nullable': True,\n",
       "      'type': 'string'},\n",
       "     {'metadata': {'measure': 'discrete', 'modeling_role': 'feature'},\n",
       "      'name': 'EmploymentDuration',\n",
       "      'nullable': True,\n",
       "      'type': 'string'},\n",
       "     {'metadata': {'modeling_role': 'feature'},\n",
       "      'name': 'InstallmentPercent',\n",
       "      'nullable': True,\n",
       "      'type': 'integer'},\n",
       "     {'metadata': {'measure': 'discrete', 'modeling_role': 'feature'},\n",
       "      'name': 'Sex',\n",
       "      'nullable': True,\n",
       "      'type': 'string'},\n",
       "     {'metadata': {'measure': 'discrete', 'modeling_role': 'feature'},\n",
       "      'name': 'OthersOnLoan',\n",
       "      'nullable': True,\n",
       "      'type': 'string'},\n",
       "     {'metadata': {'modeling_role': 'feature'},\n",
       "      'name': 'CurrentResidenceDuration',\n",
       "      'nullable': True,\n",
       "      'type': 'integer'},\n",
       "     {'metadata': {'measure': 'discrete', 'modeling_role': 'feature'},\n",
       "      'name': 'OwnsProperty',\n",
       "      'nullable': True,\n",
       "      'type': 'string'},\n",
       "     {'metadata': {'modeling_role': 'feature'},\n",
       "      'name': 'Age',\n",
       "      'nullable': True,\n",
       "      'type': 'integer'},\n",
       "     {'metadata': {'measure': 'discrete', 'modeling_role': 'feature'},\n",
       "      'name': 'InstallmentPlans',\n",
       "      'nullable': True,\n",
       "      'type': 'string'},\n",
       "     {'metadata': {'measure': 'discrete', 'modeling_role': 'feature'},\n",
       "      'name': 'Housing',\n",
       "      'nullable': True,\n",
       "      'type': 'string'},\n",
       "     {'metadata': {'modeling_role': 'feature'},\n",
       "      'name': 'ExistingCreditsCount',\n",
       "      'nullable': True,\n",
       "      'type': 'integer'},\n",
       "     {'metadata': {'measure': 'discrete', 'modeling_role': 'feature'},\n",
       "      'name': 'Job',\n",
       "      'nullable': True,\n",
       "      'type': 'string'},\n",
       "     {'metadata': {'modeling_role': 'feature'},\n",
       "      'name': 'Dependents',\n",
       "      'nullable': True,\n",
       "      'type': 'integer'},\n",
       "     {'metadata': {'measure': 'discrete', 'modeling_role': 'feature'},\n",
       "      'name': 'Telephone',\n",
       "      'nullable': True,\n",
       "      'type': 'string'},\n",
       "     {'metadata': {'measure': 'discrete', 'modeling_role': 'feature'},\n",
       "      'name': 'ForeignWorker',\n",
       "      'nullable': True,\n",
       "      'type': 'string'}],\n",
       "    'type': 'struct'},\n",
       "   'input_data_type': 'structured',\n",
       "   'label_column': 'Risk',\n",
       "   'model_type': 'mllib-2.3',\n",
       "   'output_data_schema': {'fields': [{'metadata': {'measure': 'discrete',\n",
       "       'modeling_role': 'feature'},\n",
       "      'name': 'CheckingStatus',\n",
       "      'nullable': True,\n",
       "      'type': 'string'},\n",
       "     {'metadata': {'modeling_role': 'feature'},\n",
       "      'name': 'LoanDuration',\n",
       "      'nullable': True,\n",
       "      'type': 'integer'},\n",
       "     {'metadata': {'measure': 'discrete', 'modeling_role': 'feature'},\n",
       "      'name': 'CreditHistory',\n",
       "      'nullable': True,\n",
       "      'type': 'string'},\n",
       "     {'metadata': {'measure': 'discrete', 'modeling_role': 'feature'},\n",
       "      'name': 'LoanPurpose',\n",
       "      'nullable': True,\n",
       "      'type': 'string'},\n",
       "     {'metadata': {'modeling_role': 'feature'},\n",
       "      'name': 'LoanAmount',\n",
       "      'nullable': True,\n",
       "      'type': 'integer'},\n",
       "     {'metadata': {'measure': 'discrete', 'modeling_role': 'feature'},\n",
       "      'name': 'ExistingSavings',\n",
       "      'nullable': True,\n",
       "      'type': 'string'},\n",
       "     {'metadata': {'measure': 'discrete', 'modeling_role': 'feature'},\n",
       "      'name': 'EmploymentDuration',\n",
       "      'nullable': True,\n",
       "      'type': 'string'},\n",
       "     {'metadata': {'modeling_role': 'feature'},\n",
       "      'name': 'InstallmentPercent',\n",
       "      'nullable': True,\n",
       "      'type': 'integer'},\n",
       "     {'metadata': {'measure': 'discrete', 'modeling_role': 'feature'},\n",
       "      'name': 'Sex',\n",
       "      'nullable': True,\n",
       "      'type': 'string'},\n",
       "     {'metadata': {'measure': 'discrete', 'modeling_role': 'feature'},\n",
       "      'name': 'OthersOnLoan',\n",
       "      'nullable': True,\n",
       "      'type': 'string'},\n",
       "     {'metadata': {'modeling_role': 'feature'},\n",
       "      'name': 'CurrentResidenceDuration',\n",
       "      'nullable': True,\n",
       "      'type': 'integer'},\n",
       "     {'metadata': {'measure': 'discrete', 'modeling_role': 'feature'},\n",
       "      'name': 'OwnsProperty',\n",
       "      'nullable': True,\n",
       "      'type': 'string'},\n",
       "     {'metadata': {'modeling_role': 'feature'},\n",
       "      'name': 'Age',\n",
       "      'nullable': True,\n",
       "      'type': 'integer'},\n",
       "     {'metadata': {'measure': 'discrete', 'modeling_role': 'feature'},\n",
       "      'name': 'InstallmentPlans',\n",
       "      'nullable': True,\n",
       "      'type': 'string'},\n",
       "     {'metadata': {'measure': 'discrete', 'modeling_role': 'feature'},\n",
       "      'name': 'Housing',\n",
       "      'nullable': True,\n",
       "      'type': 'string'},\n",
       "     {'metadata': {'modeling_role': 'feature'},\n",
       "      'name': 'ExistingCreditsCount',\n",
       "      'nullable': True,\n",
       "      'type': 'integer'},\n",
       "     {'metadata': {'measure': 'discrete', 'modeling_role': 'feature'},\n",
       "      'name': 'Job',\n",
       "      'nullable': True,\n",
       "      'type': 'string'},\n",
       "     {'metadata': {'modeling_role': 'feature'},\n",
       "      'name': 'Dependents',\n",
       "      'nullable': True,\n",
       "      'type': 'integer'},\n",
       "     {'metadata': {'measure': 'discrete', 'modeling_role': 'feature'},\n",
       "      'name': 'Telephone',\n",
       "      'nullable': True,\n",
       "      'type': 'string'},\n",
       "     {'metadata': {'measure': 'discrete', 'modeling_role': 'feature'},\n",
       "      'name': 'ForeignWorker',\n",
       "      'nullable': True,\n",
       "      'type': 'string'},\n",
       "     {'metadata': {},\n",
       "      'name': 'CheckingStatus_IX',\n",
       "      'nullable': True,\n",
       "      'type': 'double'},\n",
       "     {'metadata': {},\n",
       "      'name': 'CreditHistory_IX',\n",
       "      'nullable': True,\n",
       "      'type': 'double'},\n",
       "     {'metadata': {},\n",
       "      'name': 'EmploymentDuration_IX',\n",
       "      'nullable': True,\n",
       "      'type': 'double'},\n",
       "     {'metadata': {},\n",
       "      'name': 'ExistingSavings_IX',\n",
       "      'nullable': True,\n",
       "      'type': 'double'},\n",
       "     {'metadata': {},\n",
       "      'name': 'ForeignWorker_IX',\n",
       "      'nullable': True,\n",
       "      'type': 'double'},\n",
       "     {'metadata': {},\n",
       "      'name': 'Housing_IX',\n",
       "      'nullable': True,\n",
       "      'type': 'double'},\n",
       "     {'metadata': {},\n",
       "      'name': 'InstallmentPlans_IX',\n",
       "      'nullable': True,\n",
       "      'type': 'double'},\n",
       "     {'metadata': {}, 'name': 'Job_IX', 'nullable': True, 'type': 'double'},\n",
       "     {'metadata': {},\n",
       "      'name': 'LoanPurpose_IX',\n",
       "      'nullable': True,\n",
       "      'type': 'double'},\n",
       "     {'metadata': {},\n",
       "      'name': 'OthersOnLoan_IX',\n",
       "      'nullable': True,\n",
       "      'type': 'double'},\n",
       "     {'metadata': {},\n",
       "      'name': 'OwnsProperty_IX',\n",
       "      'nullable': True,\n",
       "      'type': 'double'},\n",
       "     {'metadata': {}, 'name': 'Sex_IX', 'nullable': True, 'type': 'double'},\n",
       "     {'metadata': {},\n",
       "      'name': 'Telephone_IX',\n",
       "      'nullable': True,\n",
       "      'type': 'double'},\n",
       "     {'metadata': {},\n",
       "      'name': 'features',\n",
       "      'nullable': True,\n",
       "      'type': {'containsNull': True,\n",
       "       'elementType': 'string',\n",
       "       'type': 'array'}},\n",
       "     {'metadata': {},\n",
       "      'name': 'rawPrediction',\n",
       "      'nullable': True,\n",
       "      'type': {'containsNull': True,\n",
       "       'elementType': 'double',\n",
       "       'type': 'array'}},\n",
       "     {'metadata': {'modeling_role': 'probability'},\n",
       "      'name': 'probability',\n",
       "      'nullable': True,\n",
       "      'type': {'containsNull': True,\n",
       "       'elementType': 'double',\n",
       "       'type': 'array'}},\n",
       "     {'metadata': {'modeling_role': 'prediction'},\n",
       "      'name': 'prediction',\n",
       "      'nullable': True,\n",
       "      'type': 'double'},\n",
       "     {'metadata': {'modeling_role': 'decoded-target'},\n",
       "      'name': 'predictedLabel',\n",
       "      'nullable': True,\n",
       "      'type': 'string'},\n",
       "     {'metadata': {'modeling_role': 'debiased-prediction'},\n",
       "      'name': 'debiased_prediction',\n",
       "      'nullable': True,\n",
       "      'type': 'double'},\n",
       "     {'metadata': {'modeling_role': 'debiased-probability'},\n",
       "      'name': 'debiased_probability',\n",
       "      'nullable': True,\n",
       "      'type': {'containsNull': True,\n",
       "       'elementType': 'double',\n",
       "       'type': 'array'}}],\n",
       "    'type': 'struct'},\n",
       "   'predicted_target_field': 'predictedLabel',\n",
       "   'prediction_probability_field': 'probability',\n",
       "   'problem_type': 'binary',\n",
       "   'runtime_environment': 'spark-2.3',\n",
       "   'training_data_schema': {'fields': [{'metadata': {'measure': 'discrete',\n",
       "       'modeling_role': 'feature'},\n",
       "      'name': 'CheckingStatus',\n",
       "      'nullable': True,\n",
       "      'type': 'string'},\n",
       "     {'metadata': {'modeling_role': 'feature'},\n",
       "      'name': 'LoanDuration',\n",
       "      'nullable': True,\n",
       "      'type': 'integer'},\n",
       "     {'metadata': {'measure': 'discrete', 'modeling_role': 'feature'},\n",
       "      'name': 'CreditHistory',\n",
       "      'nullable': True,\n",
       "      'type': 'string'},\n",
       "     {'metadata': {'measure': 'discrete', 'modeling_role': 'feature'},\n",
       "      'name': 'LoanPurpose',\n",
       "      'nullable': True,\n",
       "      'type': 'string'},\n",
       "     {'metadata': {'modeling_role': 'feature'},\n",
       "      'name': 'LoanAmount',\n",
       "      'nullable': True,\n",
       "      'type': 'integer'},\n",
       "     {'metadata': {'measure': 'discrete', 'modeling_role': 'feature'},\n",
       "      'name': 'ExistingSavings',\n",
       "      'nullable': True,\n",
       "      'type': 'string'},\n",
       "     {'metadata': {'measure': 'discrete', 'modeling_role': 'feature'},\n",
       "      'name': 'EmploymentDuration',\n",
       "      'nullable': True,\n",
       "      'type': 'string'},\n",
       "     {'metadata': {'modeling_role': 'feature'},\n",
       "      'name': 'InstallmentPercent',\n",
       "      'nullable': True,\n",
       "      'type': 'integer'},\n",
       "     {'metadata': {'measure': 'discrete', 'modeling_role': 'feature'},\n",
       "      'name': 'Sex',\n",
       "      'nullable': True,\n",
       "      'type': 'string'},\n",
       "     {'metadata': {'measure': 'discrete', 'modeling_role': 'feature'},\n",
       "      'name': 'OthersOnLoan',\n",
       "      'nullable': True,\n",
       "      'type': 'string'},\n",
       "     {'metadata': {'modeling_role': 'feature'},\n",
       "      'name': 'CurrentResidenceDuration',\n",
       "      'nullable': True,\n",
       "      'type': 'integer'},\n",
       "     {'metadata': {'measure': 'discrete', 'modeling_role': 'feature'},\n",
       "      'name': 'OwnsProperty',\n",
       "      'nullable': True,\n",
       "      'type': 'string'},\n",
       "     {'metadata': {'modeling_role': 'feature'},\n",
       "      'name': 'Age',\n",
       "      'nullable': True,\n",
       "      'type': 'integer'},\n",
       "     {'metadata': {'measure': 'discrete', 'modeling_role': 'feature'},\n",
       "      'name': 'InstallmentPlans',\n",
       "      'nullable': True,\n",
       "      'type': 'string'},\n",
       "     {'metadata': {'measure': 'discrete', 'modeling_role': 'feature'},\n",
       "      'name': 'Housing',\n",
       "      'nullable': True,\n",
       "      'type': 'string'},\n",
       "     {'metadata': {'modeling_role': 'feature'},\n",
       "      'name': 'ExistingCreditsCount',\n",
       "      'nullable': True,\n",
       "      'type': 'integer'},\n",
       "     {'metadata': {'measure': 'discrete', 'modeling_role': 'feature'},\n",
       "      'name': 'Job',\n",
       "      'nullable': True,\n",
       "      'type': 'string'},\n",
       "     {'metadata': {'modeling_role': 'feature'},\n",
       "      'name': 'Dependents',\n",
       "      'nullable': True,\n",
       "      'type': 'integer'},\n",
       "     {'metadata': {'measure': 'discrete', 'modeling_role': 'feature'},\n",
       "      'name': 'Telephone',\n",
       "      'nullable': True,\n",
       "      'type': 'string'},\n",
       "     {'metadata': {'measure': 'discrete', 'modeling_role': 'feature'},\n",
       "      'name': 'ForeignWorker',\n",
       "      'nullable': True,\n",
       "      'type': 'string'},\n",
       "     {'metadata': {'modeling_role': 'target'},\n",
       "      'name': 'Risk',\n",
       "      'nullable': True,\n",
       "      'type': 'string'}],\n",
       "    'type': 'struct'}},\n",
       "  'configurations': [{'enabled': True,\n",
       "    'type': 'payload_logging',\n",
       "    'url': '/v1/data_marts/38566256-4bff-407a-b9d1-f2a41c319d96/service_bindings/4ffff3c1-f98d-4270-b716-980fbee1ef0b/subscriptions/c0e9c727-a17c-48e7-b258-4a781bfa85f4/configurations/payload_logging'},\n",
       "   {'enabled': True,\n",
       "    'type': 'quality_monitoring',\n",
       "    'url': '/v1/data_marts/38566256-4bff-407a-b9d1-f2a41c319d96/service_bindings/4ffff3c1-f98d-4270-b716-980fbee1ef0b/subscriptions/c0e9c727-a17c-48e7-b258-4a781bfa85f4/configurations/quality_monitoring'},\n",
       "   {'enabled': True,\n",
       "    'type': 'performance_monitoring',\n",
       "    'url': '/v1/data_marts/38566256-4bff-407a-b9d1-f2a41c319d96/service_bindings/4ffff3c1-f98d-4270-b716-980fbee1ef0b/subscriptions/c0e9c727-a17c-48e7-b258-4a781bfa85f4/configurations/performance_monitoring'},\n",
       "   {'enabled': True,\n",
       "    'type': 'fairness_monitoring',\n",
       "    'url': '/v1/data_marts/38566256-4bff-407a-b9d1-f2a41c319d96/service_bindings/4ffff3c1-f98d-4270-b716-980fbee1ef0b/subscriptions/c0e9c727-a17c-48e7-b258-4a781bfa85f4/configurations/fairness_monitoring'},\n",
       "   {'enabled': False,\n",
       "    'type': 'explainability',\n",
       "    'url': '/v1/data_marts/38566256-4bff-407a-b9d1-f2a41c319d96/service_bindings/4ffff3c1-f98d-4270-b716-980fbee1ef0b/subscriptions/c0e9c727-a17c-48e7-b258-4a781bfa85f4/configurations/explainability'}],\n",
       "  'deployments': [{'created_at': '2019-02-25T15:15:21.125Z',\n",
       "    'deployment_id': 'a5900b2a-7085-46bb-b759-4410150e76cd',\n",
       "    'deployment_rn': '',\n",
       "    'deployment_type': 'online',\n",
       "    'name': 'Spark German Risk Deployment - Final',\n",
       "    'scoring_endpoint': {'request_headers': {'Content-Type': 'application/json'},\n",
       "     'url': 'https://us-south.ml.cloud.ibm.com/v3/wml_instances/4ffff3c1-f98d-4270-b716-980fbee1ef0b/deployments/a5900b2a-7085-46bb-b759-4410150e76cd/online'},\n",
       "    'url': 'https://us-south.ml.cloud.ibm.com/v3/wml_instances/4ffff3c1-f98d-4270-b716-980fbee1ef0b/deployments/a5900b2a-7085-46bb-b759-4410150e76cd'}],\n",
       "  'service_binding_id': '4ffff3c1-f98d-4270-b716-980fbee1ef0b',\n",
       "  'status': {'state': 'active'}},\n",
       " 'metadata': {'created_at': '2019-02-25T15:15:35.343Z',\n",
       "  'guid': 'c0e9c727-a17c-48e7-b258-4a781bfa85f4',\n",
       "  'modified_at': '2019-02-25T15:15:38.508Z',\n",
       "  'url': '/v1/data_marts/38566256-4bff-407a-b9d1-f2a41c319d96/service_bindings/4ffff3c1-f98d-4270-b716-980fbee1ef0b/subscriptions/c0e9c727-a17c-48e7-b258-4a781bfa85f4'}}"
      ]
     },
     "execution_count": 47,
     "metadata": {},
     "output_type": "execute_result"
    }
   ],
   "source": [
    "subscription.get_details()"
   ]
  },
  {
   "cell_type": "markdown",
   "metadata": {},
   "source": [
    "# Insert historical payloads"
   ]
  },
  {
   "cell_type": "code",
   "execution_count": 48,
   "metadata": {
    "scrolled": false
   },
   "outputs": [
    {
     "name": "stdout",
     "output_type": "stream",
     "text": [
      "rm: cannot remove 'payload_history*.json': No such file or directory\n",
      "--2019-02-25 15:16:05--  https://raw.githubusercontent.com/emartensibm/german-credit/master/payload_history_1.json\n",
      "Resolving raw.githubusercontent.com (raw.githubusercontent.com)... 151.101.48.133\n",
      "Connecting to raw.githubusercontent.com (raw.githubusercontent.com)|151.101.48.133|:443... connected.\n",
      "HTTP request sent, awaiting response... 200 OK\n",
      "Length: 3817949 (3.6M) [text/plain]\n",
      "Saving to: 'payload_history_1.json'\n",
      "\n",
      "payload_history_1.j 100%[===================>]   3.64M  --.-KB/s    in 0.09s   \n",
      "\n",
      "2019-02-25 15:16:05 (40.6 MB/s) - 'payload_history_1.json' saved [3817949/3817949]\n",
      "\n",
      "--2019-02-25 15:16:06--  https://raw.githubusercontent.com/emartensibm/german-credit/master/payload_history_2.json\n",
      "Resolving raw.githubusercontent.com (raw.githubusercontent.com)... 151.101.48.133\n",
      "Connecting to raw.githubusercontent.com (raw.githubusercontent.com)|151.101.48.133|:443... connected.\n",
      "HTTP request sent, awaiting response... 200 OK\n",
      "Length: 3818645 (3.6M) [text/plain]\n",
      "Saving to: 'payload_history_2.json'\n",
      "\n",
      "payload_history_2.j 100%[===================>]   3.64M  --.-KB/s    in 0.06s   \n",
      "\n",
      "2019-02-25 15:16:06 (61.6 MB/s) - 'payload_history_2.json' saved [3818645/3818645]\n",
      "\n",
      "--2019-02-25 15:16:06--  https://raw.githubusercontent.com/emartensibm/german-credit/master/payload_history_3.json\n",
      "Resolving raw.githubusercontent.com (raw.githubusercontent.com)... 151.101.48.133\n",
      "Connecting to raw.githubusercontent.com (raw.githubusercontent.com)|151.101.48.133|:443... connected.\n",
      "HTTP request sent, awaiting response... 200 OK\n",
      "Length: 3818470 (3.6M) [text/plain]\n",
      "Saving to: 'payload_history_3.json'\n",
      "\n",
      "payload_history_3.j 100%[===================>]   3.64M  --.-KB/s    in 0.07s   \n",
      "\n",
      "2019-02-25 15:16:06 (48.6 MB/s) - 'payload_history_3.json' saved [3818470/3818470]\n",
      "\n",
      "--2019-02-25 15:16:07--  https://raw.githubusercontent.com/emartensibm/german-credit/master/payload_history_4.json\n",
      "Resolving raw.githubusercontent.com (raw.githubusercontent.com)... 151.101.48.133\n",
      "Connecting to raw.githubusercontent.com (raw.githubusercontent.com)|151.101.48.133|:443... connected.\n",
      "HTTP request sent, awaiting response... 200 OK\n",
      "Length: 3818106 (3.6M) [text/plain]\n",
      "Saving to: 'payload_history_4.json'\n",
      "\n",
      "payload_history_4.j 100%[===================>]   3.64M  --.-KB/s    in 0.07s   \n",
      "\n",
      "2019-02-25 15:16:07 (48.9 MB/s) - 'payload_history_4.json' saved [3818106/3818106]\n",
      "\n",
      "--2019-02-25 15:16:08--  https://raw.githubusercontent.com/emartensibm/german-credit/master/payload_history_5.json\n",
      "Resolving raw.githubusercontent.com (raw.githubusercontent.com)... 151.101.48.133\n",
      "Connecting to raw.githubusercontent.com (raw.githubusercontent.com)|151.101.48.133|:443... connected.\n",
      "HTTP request sent, awaiting response... 200 OK\n",
      "Length: 3817474 (3.6M) [text/plain]\n",
      "Saving to: 'payload_history_5.json'\n",
      "\n",
      "payload_history_5.j 100%[===================>]   3.64M  --.-KB/s    in 0.07s   \n",
      "\n",
      "2019-02-25 15:16:08 (52.2 MB/s) - 'payload_history_5.json' saved [3817474/3817474]\n",
      "\n",
      "--2019-02-25 15:16:08--  https://raw.githubusercontent.com/emartensibm/german-credit/master/payload_history_6.json\n",
      "Resolving raw.githubusercontent.com (raw.githubusercontent.com)... 151.101.48.133\n",
      "Connecting to raw.githubusercontent.com (raw.githubusercontent.com)|151.101.48.133|:443... connected.\n",
      "HTTP request sent, awaiting response... 200 OK\n",
      "Length: 3817921 (3.6M) [text/plain]\n",
      "Saving to: 'payload_history_6.json'\n",
      "\n",
      "payload_history_6.j 100%[===================>]   3.64M  --.-KB/s    in 0.1s    \n",
      "\n",
      "2019-02-25 15:16:08 (37.1 MB/s) - 'payload_history_6.json' saved [3817921/3817921]\n",
      "\n",
      "--2019-02-25 15:16:09--  https://raw.githubusercontent.com/emartensibm/german-credit/master/payload_history_7.json\n",
      "Resolving raw.githubusercontent.com (raw.githubusercontent.com)... 151.101.48.133\n",
      "Connecting to raw.githubusercontent.com (raw.githubusercontent.com)|151.101.48.133|:443... connected.\n",
      "HTTP request sent, awaiting response... 200 OK\n",
      "Length: 3818121 (3.6M) [text/plain]\n",
      "Saving to: 'payload_history_7.json'\n",
      "\n",
      "payload_history_7.j 100%[===================>]   3.64M  --.-KB/s    in 0.06s   \n",
      "\n",
      "2019-02-25 15:16:09 (56.7 MB/s) - 'payload_history_7.json' saved [3818121/3818121]\n",
      "\n"
     ]
    }
   ],
   "source": [
    "!rm payload_history*.json\n",
    "!wget https://raw.githubusercontent.com/emartensibm/german-credit/master/payload_history_1.json\n",
    "!wget https://raw.githubusercontent.com/emartensibm/german-credit/master/payload_history_2.json\n",
    "!wget https://raw.githubusercontent.com/emartensibm/german-credit/master/payload_history_3.json\n",
    "!wget https://raw.githubusercontent.com/emartensibm/german-credit/master/payload_history_4.json\n",
    "!wget https://raw.githubusercontent.com/emartensibm/german-credit/master/payload_history_5.json\n",
    "!wget https://raw.githubusercontent.com/emartensibm/german-credit/master/payload_history_6.json\n",
    "!wget https://raw.githubusercontent.com/emartensibm/german-credit/master/payload_history_7.json"
   ]
  },
  {
   "cell_type": "code",
   "execution_count": 49,
   "metadata": {
    "scrolled": true
   },
   "outputs": [],
   "source": [
    "historyDays = 7"
   ]
  },
  {
   "cell_type": "code",
   "execution_count": 50,
   "metadata": {
    "scrolled": true
   },
   "outputs": [
    {
     "name": "stdout",
     "output_type": "stream",
     "text": [
      "Loading day 1\n",
      "Loading day 2\n",
      "Loading day 3\n",
      "Loading day 4\n",
      "Loading day 5\n",
      "Loading day 6\n",
      "Loading day 7\n",
      "Finished\n"
     ]
    }
   ],
   "source": [
    "from ibm_ai_openscale.supporting_classes import PayloadRecord, Feature\n",
    "import datetime\n",
    "import time\n",
    "\n",
    "for day in range(historyDays):\n",
    "    print('Loading day {}'.format(day + 1))\n",
    "    history_file = 'payload_history_' + str(day + 1) + '.json'\n",
    "    with open(history_file) as f:\n",
    "        payloads = json.load(f)\n",
    "        hourly_records = int(len(payloads) / 24)\n",
    "        index = 0\n",
    "        for hour in range(24):\n",
    "            recordsList = []\n",
    "            for i in range(hourly_records):\n",
    "                score_time = str(datetime.datetime.utcnow() + datetime.timedelta(hours=(-(24*day + hour + 1))))\n",
    "                recordsList.append(PayloadRecord(request=payloads[index]['request'], response=payloads[index]['response'], scoring_timestamp=score_time))\n",
    "                index += 1\n",
    "            subscription.payload_logging.store(records=recordsList)\n",
    "print('Finished')"
   ]
  },
  {
   "cell_type": "code",
   "execution_count": 51,
   "metadata": {
    "scrolled": true
   },
   "outputs": [
    {
     "name": "stdout",
     "output_type": "stream",
     "text": [
      "38566256-4bff-407a-b9d1-f2a41c319d96\n"
     ]
    }
   ],
   "source": [
    "data_mart_id = subscription.get_details()['metadata']['url'].split('/service_bindings')[0].split('marts/')[1]\n",
    "print(data_mart_id)"
   ]
  },
  {
   "cell_type": "code",
   "execution_count": 52,
   "metadata": {
    "scrolled": true
   },
   "outputs": [
    {
     "name": "stdout",
     "output_type": "stream",
     "text": [
      "https://api.aiopenscale.cloud.ibm.com/v1/data_marts/38566256-4bff-407a-b9d1-f2a41c319d96/metrics\n"
     ]
    }
   ],
   "source": [
    "performance_metrics_url = 'https://api.aiopenscale.cloud.ibm.com' + subscription.get_details()['metadata']['url'].split('/service_bindings')[0] + '/metrics'\n",
    "print(performance_metrics_url)"
   ]
  },
  {
   "cell_type": "markdown",
   "metadata": {},
   "source": [
    "## Insert historical fairness metrics"
   ]
  },
  {
   "cell_type": "code",
   "execution_count": 53,
   "metadata": {},
   "outputs": [
    {
     "name": "stdout",
     "output_type": "stream",
     "text": [
      "rm: cannot remove 'fairness_history.json': No such file or directory\n",
      "--2019-02-25 15:16:36--  https://raw.githubusercontent.com/emartensibm/german-credit/master/fairness_history.json\n",
      "Resolving raw.githubusercontent.com (raw.githubusercontent.com)... 151.101.48.133\n",
      "Connecting to raw.githubusercontent.com (raw.githubusercontent.com)|151.101.48.133|:443... connected.\n",
      "HTTP request sent, awaiting response... 200 OK\n",
      "Length: 877247 (857K) [text/plain]\n",
      "Saving to: 'fairness_history.json'\n",
      "\n",
      "fairness_history.js 100%[===================>] 856.69K  --.-KB/s    in 0.03s   \n",
      "\n",
      "2019-02-25 15:16:36 (25.9 MB/s) - 'fairness_history.json' saved [877247/877247]\n",
      "\n"
     ]
    }
   ],
   "source": [
    "!rm fairness_history.json\n",
    "!wget https://raw.githubusercontent.com/emartensibm/german-credit/master/fairness_history.json"
   ]
  },
  {
   "cell_type": "code",
   "execution_count": 54,
   "metadata": {
    "scrolled": true
   },
   "outputs": [
    {
     "name": "stdout",
     "output_type": "stream",
     "text": [
      "Day 1\n",
      "Day 2\n",
      "Day 3\n",
      "Day 4\n",
      "Day 5\n",
      "Day 6\n",
      "Day 7\n",
      "Finished\n"
     ]
    }
   ],
   "source": [
    "import random\n",
    "token_data = {\n",
    "    'grant_type': 'urn:ibm:params:oauth:grant-type:apikey',\n",
    "    'response_type': 'cloud_iam',\n",
    "    'apikey': AIOS_CREDENTIALS['apikey']\n",
    "}\n",
    "\n",
    "response = requests.post('https://iam.bluemix.net/identity/token', data=token_data)\n",
    "iam_token = response.json()['access_token']\n",
    "iam_headers = {\n",
    "    'Content-Type': 'application/json',\n",
    "    'Authorization': 'Bearer %s' % iam_token\n",
    "}\n",
    "\n",
    "with open('fairness_history.json', 'r') as history_file:\n",
    "    payloads = json.load(history_file)\n",
    "\n",
    "for day in range(historyDays):\n",
    "    print('Day', day + 1)\n",
    "    for hour in range(24):\n",
    "        score_time = (datetime.datetime.utcnow() + datetime.timedelta(hours=(-(24*day + hour + 1)))).strftime('%Y-%m-%dT%H:%M:%SZ')\n",
    "        \n",
    "        qualityMetric = {\n",
    "            'metric_type': 'fairness',\n",
    "            'binding_id': binding_uid,\n",
    "            'timestamp': score_time,\n",
    "            'subscription_id': model_uid,\n",
    "            'asset_revision': model_uid,\n",
    "            'deployment_id': deployment_uid,\n",
    "            'value': random.choice(payloads)\n",
    "        }\n",
    "\n",
    "        response = requests.post(performance_metrics_url, json=[qualityMetric], headers=iam_headers)\n",
    "print('Finished')"
   ]
  },
  {
   "cell_type": "markdown",
   "metadata": {},
   "source": [
    "## Insert historical quality metrics"
   ]
  },
  {
   "cell_type": "code",
   "execution_count": 55,
   "metadata": {
    "scrolled": true
   },
   "outputs": [
    {
     "name": "stdout",
     "output_type": "stream",
     "text": [
      "Day 1\n",
      "Day 2\n",
      "Day 3\n",
      "Day 4\n",
      "Day 5\n",
      "Day 6\n",
      "Day 7\n",
      "Finished\n"
     ]
    }
   ],
   "source": [
    "token_data = {\n",
    "    'grant_type': 'urn:ibm:params:oauth:grant-type:apikey',\n",
    "    'response_type': 'cloud_iam',\n",
    "    'apikey': AIOS_CREDENTIALS['apikey']\n",
    "}\n",
    "\n",
    "response = requests.post('https://iam.bluemix.net/identity/token', data=token_data)\n",
    "iam_token = response.json()['access_token']\n",
    "iam_headers = {\n",
    "    'Content-Type': 'application/json',\n",
    "    'Authorization': 'Bearer %s' % iam_token\n",
    "}\n",
    "\n",
    "measurements = [0.76, 0.78, 0.68, 0.72, 0.73, 0.77, 0.80]\n",
    "for day in range(historyDays):\n",
    "    print('Day', day + 1)\n",
    "    for hour in range(24):\n",
    "        score_time = (datetime.datetime.utcnow() + datetime.timedelta(hours=(-(24*day + hour + 1)))).strftime('%Y-%m-%dT%H:%M:%SZ')\n",
    "        \n",
    "        qualityMetric = {\n",
    "            'metric_type': 'quality',\n",
    "            'binding_id': binding_uid,\n",
    "            'timestamp': score_time,\n",
    "            'subscription_id': model_uid,\n",
    "            'asset_revision': model_uid,\n",
    "            'deployment_id': deployment_uid,\n",
    "            'value': {\n",
    "                'quality': measurements[day],\n",
    "                'threshold': 0.7,\n",
    "                'metrics': [\n",
    "                    {\n",
    "                        'name': 'auroc',\n",
    "                        'value': measurements[day],\n",
    "                        'threshold': 0.7\n",
    "                    }\n",
    "                ]\n",
    "            }\n",
    "        }\n",
    "\n",
    "        response = requests.post(performance_metrics_url, json=[qualityMetric], headers=iam_headers)\n",
    "print('Finished')"
   ]
  },
  {
   "cell_type": "markdown",
   "metadata": {},
   "source": [
    "## Insert historical performance metrics"
   ]
  },
  {
   "cell_type": "code",
   "execution_count": 56,
   "metadata": {},
   "outputs": [
    {
     "name": "stdout",
     "output_type": "stream",
     "text": [
      "Day 1\n",
      "Day 2\n",
      "Day 3\n",
      "Day 4\n",
      "Day 5\n",
      "Day 6\n",
      "Day 7\n",
      "Finished\n"
     ]
    }
   ],
   "source": [
    "token_data = {\n",
    "    'grant_type': 'urn:ibm:params:oauth:grant-type:apikey',\n",
    "    'response_type': 'cloud_iam',\n",
    "    'apikey': AIOS_CREDENTIALS['apikey']\n",
    "}\n",
    "\n",
    "response = requests.post('https://iam.bluemix.net/identity/token', data=token_data)\n",
    "iam_token = response.json()['access_token']\n",
    "iam_headers = {\n",
    "    'Content-Type': 'application/json',\n",
    "    'Authorization': 'Bearer %s' % iam_token\n",
    "}\n",
    "\n",
    "for day in range(historyDays):\n",
    "    print('Day', day + 1)\n",
    "    for hour in range(24):\n",
    "        score_time = (datetime.datetime.utcnow() + datetime.timedelta(hours=(-(24*day + hour + 1)))).strftime('%Y-%m-%dT%H:%M:%SZ')\n",
    "        score_count = random.randint(60, 600)\n",
    "        score_resp = random.uniform(60, 300)\n",
    "\n",
    "        performanceMetric = {\n",
    "            'metric_type': 'performance',\n",
    "            'binding_id': binding_uid,\n",
    "            'timestamp': score_time,\n",
    "            'subscription_id': model_uid,\n",
    "            'asset_revision': model_uid,\n",
    "            'deployment_id': deployment_uid,\n",
    "            'value': {\n",
    "                'response_time': score_resp,\n",
    "                'records': score_count\n",
    "            }\n",
    "        }\n",
    "\n",
    "        response = requests.post(performance_metrics_url, json=[performanceMetric], headers=iam_headers)\n",
    "print('Finished')"
   ]
  },
  {
   "cell_type": "markdown",
   "metadata": {},
   "source": [
    "## Configure Explainability"
   ]
  },
  {
   "cell_type": "code",
   "execution_count": 57,
   "metadata": {
    "scrolled": true
   },
   "outputs": [],
   "source": [
    "from ibm_ai_openscale.supporting_classes import *\n",
    "subscription.explainability.enable(training_data=pd_data)"
   ]
  },
  {
   "cell_type": "code",
   "execution_count": 58,
   "metadata": {
    "scrolled": true
   },
   "outputs": [
    {
     "data": {
      "text/plain": [
       "{'enabled': True,\n",
       " 'parameters': {'training_statistics': {'base_values': {'0': 'no_checking',\n",
       "    '1': 21.0,\n",
       "    '10': 3.0,\n",
       "    '11': 'savings_insurance',\n",
       "    '12': 36.0,\n",
       "    '13': 'none',\n",
       "    '14': 'own',\n",
       "    '15': 1.0,\n",
       "    '16': 'skilled',\n",
       "    '17': 1.0,\n",
       "    '18': 'none',\n",
       "    '19': 'yes',\n",
       "    '2': 'prior_payments_delayed',\n",
       "    '3': 'car_new',\n",
       "    '4': 3238.5,\n",
       "    '5': 'less_100',\n",
       "    '6': '1_to_4',\n",
       "    '7': 3.0,\n",
       "    '8': 'male',\n",
       "    '9': 'none'},\n",
       "   'categorical_columns': ['CheckingStatus',\n",
       "    'CreditHistory',\n",
       "    'LoanPurpose',\n",
       "    'ExistingSavings',\n",
       "    'EmploymentDuration',\n",
       "    'Sex',\n",
       "    'OthersOnLoan',\n",
       "    'OwnsProperty',\n",
       "    'InstallmentPlans',\n",
       "    'Housing',\n",
       "    'Job',\n",
       "    'Telephone',\n",
       "    'ForeignWorker'],\n",
       "   'categorical_columns_encoding_mapping': {'0': ['0_to_200',\n",
       "     'greater_200',\n",
       "     'less_0',\n",
       "     'no_checking'],\n",
       "    '11': ['car_other', 'real_estate', 'savings_insurance', 'unknown'],\n",
       "    '13': ['bank', 'none', 'stores'],\n",
       "    '14': ['free', 'own', 'rent'],\n",
       "    '16': ['management_self-employed', 'skilled', 'unemployed', 'unskilled'],\n",
       "    '18': ['none', 'yes'],\n",
       "    '19': ['no', 'yes'],\n",
       "    '2': ['all_credits_paid_back',\n",
       "     'credits_paid_to_date',\n",
       "     'no_credits',\n",
       "     'outstanding_credit',\n",
       "     'prior_payments_delayed'],\n",
       "    '3': ['appliances',\n",
       "     'business',\n",
       "     'car_new',\n",
       "     'car_used',\n",
       "     'education',\n",
       "     'furniture',\n",
       "     'other',\n",
       "     'radio_tv',\n",
       "     'repairs',\n",
       "     'retraining',\n",
       "     'vacation'],\n",
       "    '5': ['100_to_500', '500_to_1000', 'greater_1000', 'less_100', 'unknown'],\n",
       "    '6': ['1_to_4', '4_to_7', 'greater_7', 'less_1', 'unemployed'],\n",
       "    '8': ['female', 'male'],\n",
       "    '9': ['co-applicant', 'guarantor', 'none']},\n",
       "   'categorical_counts': {'0': {'0_to_200': 1304,\n",
       "     'greater_200': 305,\n",
       "     'less_0': 1398,\n",
       "     'no_checking': 1993},\n",
       "    '11': {'car_other': 1540,\n",
       "     'real_estate': 1087,\n",
       "     'savings_insurance': 1660,\n",
       "     'unknown': 713},\n",
       "    '13': {'bank': 466, 'none': 3517, 'stores': 1017},\n",
       "    '14': {'free': 739, 'own': 3195, 'rent': 1066},\n",
       "    '16': {'management_self-employed': 641,\n",
       "     'skilled': 3400,\n",
       "     'unemployed': 286,\n",
       "     'unskilled': 673},\n",
       "    '18': {'none': 2941, 'yes': 2059},\n",
       "    '19': {'no': 123, 'yes': 4877},\n",
       "    '2': {'all_credits_paid_back': 769,\n",
       "     'credits_paid_to_date': 1490,\n",
       "     'no_credits': 117,\n",
       "     'outstanding_credit': 938,\n",
       "     'prior_payments_delayed': 1686},\n",
       "    '3': {'appliances': 561,\n",
       "     'business': 146,\n",
       "     'car_new': 945,\n",
       "     'car_used': 808,\n",
       "     'education': 167,\n",
       "     'furniture': 853,\n",
       "     'other': 113,\n",
       "     'radio_tv': 755,\n",
       "     'repairs': 283,\n",
       "     'retraining': 164,\n",
       "     'vacation': 205},\n",
       "    '5': {'100_to_500': 1133,\n",
       "     '500_to_1000': 1078,\n",
       "     'greater_1000': 558,\n",
       "     'less_100': 1856,\n",
       "     'unknown': 375},\n",
       "    '6': {'1_to_4': 1470,\n",
       "     '4_to_7': 1400,\n",
       "     'greater_7': 930,\n",
       "     'less_1': 904,\n",
       "     'unemployed': 296},\n",
       "    '8': {'female': 1896, 'male': 3104},\n",
       "    '9': {'co-applicant': 717, 'guarantor': 110, 'none': 4173}},\n",
       "   'class_labels': ['No Risk', 'Risk'],\n",
       "   'd_bins': {'1': [13.0, 21.0, 29.0],\n",
       "    '10': [2.0, 3.0, 4.0],\n",
       "    '12': [28.0, 36.0, 44.0],\n",
       "    '15': [1.0, 1.0, 2.0],\n",
       "    '17': [1.0, 1.0, 1.0],\n",
       "    '4': [1326.75, 3238.5, 5355.0],\n",
       "    '7': [2.0, 3.0, 4.0]},\n",
       "   'd_maxs': {'1': [13.0, 21.0, 29.0, 64],\n",
       "    '10': [2.0, 3.0, 4.0, 6],\n",
       "    '12': [28.0, 36.0, 44.0, 74],\n",
       "    '15': [1.0, 2.0, 4],\n",
       "    '17': [1.0, 2],\n",
       "    '4': [1326.75, 3238.5, 5355.0, 11676],\n",
       "    '7': [2.0, 3.0, 4.0, 6]},\n",
       "   'd_means': {'1': [7.876363636363636,\n",
       "     17.343856655290104,\n",
       "     25.615767634854773,\n",
       "     36.010416666666664],\n",
       "    '10': [1.6606574761399788, 3.0, 4.0, 5.008403361344538],\n",
       "    '12': [22.81831610044313,\n",
       "     32.60750586395621,\n",
       "     40.36829268292683,\n",
       "     50.49076517150396],\n",
       "    '15': [1.0, 2.0, 3.005714285714286],\n",
       "    '17': [1.0, 2.0],\n",
       "    '4': [480.6648, 2291.952, 4282.900079936051, 6867.1305044035225],\n",
       "    '7': [1.6991202346041057, 3.0, 4.0, 5.039735099337748]},\n",
       "   'd_mins': {'1': [4, 13.0, 21.0, 29.0],\n",
       "    '10': [1, 2.0, 3.0, 4.0],\n",
       "    '12': [19, 28.0, 36.0, 44.0],\n",
       "    '15': [1, 1.0, 2.0],\n",
       "    '17': [1, 1.0],\n",
       "    '4': [250, 1326.75, 3238.5, 5355.0],\n",
       "    '7': [1, 2.0, 3.0, 4.0]},\n",
       "   'd_stds': {'1': [3.277136423855652,\n",
       "     2.3104647243135257,\n",
       "     2.2016780501487694,\n",
       "     5.480360081360561],\n",
       "    '10': [0.4734861934310266, 1e-11, 1e-11, 0.09128386968395145],\n",
       "    '12': [3.3320991295514313,\n",
       "     2.2814080024457186,\n",
       "     2.2498714352952085,\n",
       "     4.849734375521442],\n",
       "    '15': [1e-11, 1e-11, 0.0753766054858451],\n",
       "    '17': [1e-11, 1e-11],\n",
       "    '4': [341.97517167327516,\n",
       "     542.3014505752415,\n",
       "     614.7408612958544,\n",
       "     1206.6756003938751],\n",
       "    '7': [0.4586405260990112, 1e-11, 1e-11, 0.1953361748941403]},\n",
       "   'feature_columns': ['CheckingStatus',\n",
       "    'LoanDuration',\n",
       "    'CreditHistory',\n",
       "    'LoanPurpose',\n",
       "    'LoanAmount',\n",
       "    'ExistingSavings',\n",
       "    'EmploymentDuration',\n",
       "    'InstallmentPercent',\n",
       "    'Sex',\n",
       "    'OthersOnLoan',\n",
       "    'CurrentResidenceDuration',\n",
       "    'OwnsProperty',\n",
       "    'Age',\n",
       "    'InstallmentPlans',\n",
       "    'Housing',\n",
       "    'ExistingCreditsCount',\n",
       "    'Job',\n",
       "    'Dependents',\n",
       "    'Telephone',\n",
       "    'ForeignWorker'],\n",
       "   'feature_frequencies': {'0': [1304, 305, 1398, 1993],\n",
       "    '1': [1375, 1172, 1205, 1248],\n",
       "    '10': [1886, 1677, 1080, 357],\n",
       "    '11': [1540, 1087, 1660, 713],\n",
       "    '12': [1354, 1279, 1230, 1137],\n",
       "    '13': [466, 3517, 1017],\n",
       "    '14': [739, 3195, 1066],\n",
       "    '15': [2847, 1978, 175],\n",
       "    '16': [641, 3400, 286, 673],\n",
       "    '17': [4177, 823],\n",
       "    '18': [2941, 2059],\n",
       "    '19': [123, 4877],\n",
       "    '2': [769, 1490, 117, 938, 1686],\n",
       "    '3': [561, 146, 945, 808, 167, 853, 113, 755, 283, 164, 205],\n",
       "    '4': [1250, 1250, 1251, 1249],\n",
       "    '5': [1133, 1078, 558, 1856, 375],\n",
       "    '6': [1470, 1400, 930, 904, 296],\n",
       "    '7': [1705, 1636, 1206, 453],\n",
       "    '8': [1896, 3104],\n",
       "    '9': [717, 110, 4173]},\n",
       "   'feature_values': {'0': [0, 1, 2, 3],\n",
       "    '1': [0, 1, 2, 3],\n",
       "    '10': [0, 1, 2, 3],\n",
       "    '11': [0, 1, 2, 3],\n",
       "    '12': [0, 1, 2, 3],\n",
       "    '13': [0, 1, 2],\n",
       "    '14': [0, 1, 2],\n",
       "    '15': [0, 1, 2],\n",
       "    '16': [0, 1, 2, 3],\n",
       "    '17': [0, 1],\n",
       "    '18': [0, 1],\n",
       "    '19': [0, 1],\n",
       "    '2': [0, 1, 2, 3, 4],\n",
       "    '3': [0, 1, 2, 3, 4, 5, 6, 7, 8, 9, 10],\n",
       "    '4': [0, 1, 2, 3],\n",
       "    '5': [0, 1, 2, 3, 4],\n",
       "    '6': [0, 1, 2, 3, 4],\n",
       "    '7': [0, 1, 2, 3],\n",
       "    '8': [0, 1],\n",
       "    '9': [0, 1, 2]},\n",
       "   'maxs': {'1': 64, '10': 6, '12': 74, '15': 4, '17': 2, '4': 11676, '7': 6},\n",
       "   'mins': {'1': 4, '10': 1, '12': 19, '15': 1, '17': 1, '4': 250, '7': 1},\n",
       "   'stds': {'1': 11.161727061705102,\n",
       "    '10': 1.1155905879846781,\n",
       "    '12': 10.647470602917858,\n",
       "    '15': 0.565358611856227,\n",
       "    '17': 0.3708191472942033,\n",
       "    '4': 2487.983946968911,\n",
       "    '7': 1.126982803772977}}}}"
      ]
     },
     "execution_count": 58,
     "metadata": {},
     "output_type": "execute_result"
    }
   ],
   "source": [
    "subscription.explainability.get_details()"
   ]
  },
  {
   "cell_type": "markdown",
   "metadata": {},
   "source": [
    "## Run fairness monitor"
   ]
  },
  {
   "cell_type": "markdown",
   "metadata": {},
   "source": [
    "Kick off a fairness monitor run on current data. Depending on how fast the monitor runs, the table may not contain the most recent results."
   ]
  },
  {
   "cell_type": "code",
   "execution_count": 59,
   "metadata": {
    "scrolled": true
   },
   "outputs": [],
   "source": [
    "run_details = subscription.fairness_monitoring.run()"
   ]
  },
  {
   "cell_type": "code",
   "execution_count": 60,
   "metadata": {
    "scrolled": true
   },
   "outputs": [
    {
     "data": {
      "text/html": [
       "<HTML>\n",
       "        <body>\n",
       "            <h3>FairnessMetrics (binding_id=4ffff3c1-f98d-4270-b716-980fbee1ef0b, subscription_id=c0e9c727-a17c-48e7-b258-4a781bfa85f4)</h3>\n",
       "            <table style='border: 1px solid #dddddd; font-family: Courier'>\n",
       "                <th style='border: 1px solid #dddddd'>ts</th><th style='border: 1px solid #dddddd'>feature</th><th style='border: 1px solid #dddddd'>feature_value</th><th style='border: 1px solid #dddddd'>fairness_biased</th><th style='border: 1px solid #dddddd'>fairness_value</th><th style='border: 1px solid #dddddd'>fairness_fav_class</th><th style='border: 1px solid #dddddd'>binding_id</th><th style='border: 1px solid #dddddd'>subscription_id</th><th style='border: 1px solid #dddddd'>asset_revision</th><th style='border: 1px solid #dddddd'>deployment_id</th><th style='border: 1px solid #dddddd'>process</th>\n",
       "                <tr><td style='border: 1px solid #dddddd'>2019-02-25 14:16:38+00:00</td><td style='border: 1px solid #dddddd'>Sex</td><td style='border: 1px solid #dddddd'>female</td><td style='border: 1px solid #dddddd'>True</td><td style='border: 1px solid #dddddd'>0.95</td><td style='border: 1px solid #dddddd'>76.5</td><td style='border: 1px solid #dddddd'>4ffff3c1-f98d-4270-b716-980fbee1ef0b</td><td style='border: 1px solid #dddddd'>c0e9c727-a17c-48e7-b258-4a781bfa85f4</td><td style='border: 1px solid #dddddd'>c0e9c727-a17c-48e7-b258-4a781bfa85f4</td><td style='border: 1px solid #dddddd'>a5900b2a-7085-46bb-b759-4410150e76cd</td><td style='border: 1px solid #dddddd'></td></tr><tr><td style='border: 1px solid #dddddd'>2019-02-25 14:16:38+00:00</td><td style='border: 1px solid #dddddd'>Age</td><td style='border: 1px solid #dddddd'>[18, 25]</td><td style='border: 1px solid #dddddd'>False</td><td style='border: 1px solid #dddddd'>0.98</td><td style='border: 1px solid #dddddd'>79.83193277310924</td><td style='border: 1px solid #dddddd'>4ffff3c1-f98d-4270-b716-980fbee1ef0b</td><td style='border: 1px solid #dddddd'>c0e9c727-a17c-48e7-b258-4a781bfa85f4</td><td style='border: 1px solid #dddddd'>c0e9c727-a17c-48e7-b258-4a781bfa85f4</td><td style='border: 1px solid #dddddd'>a5900b2a-7085-46bb-b759-4410150e76cd</td><td style='border: 1px solid #dddddd'></td></tr>\n",
       "            </table>\n",
       "        </body>\n",
       "        </HTML>"
      ],
      "text/plain": [
       "<IPython.core.display.HTML object>"
      ]
     },
     "metadata": {},
     "output_type": "display_data"
    }
   ],
   "source": [
    "subscription.fairness_monitoring.show_table()"
   ]
  },
  {
   "cell_type": "markdown",
   "metadata": {},
   "source": [
    "## Additional data to help debugging"
   ]
  },
  {
   "cell_type": "code",
   "execution_count": 61,
   "metadata": {
    "scrolled": true
   },
   "outputs": [
    {
     "name": "stdout",
     "output_type": "stream",
     "text": [
      "Datamart: 38566256-4bff-407a-b9d1-f2a41c319d96\n",
      "Model: c0e9c727-a17c-48e7-b258-4a781bfa85f4\n",
      "Deployment: a5900b2a-7085-46bb-b759-4410150e76cd\n",
      "Binding: 4ffff3c1-f98d-4270-b716-980fbee1ef0b\n",
      "Scoring URL: https://us-south.ml.cloud.ibm.com/v3/wml_instances/4ffff3c1-f98d-4270-b716-980fbee1ef0b/deployments/a5900b2a-7085-46bb-b759-4410150e76cd/online\n"
     ]
    }
   ],
   "source": [
    "print('Datamart:', data_mart_id)\n",
    "print('Model:', model_uid)\n",
    "print('Deployment:', deployment_uid)\n",
    "print('Binding:', binding_uid)\n",
    "print('Scoring URL:', credit_risk_scoring_endpoint)"
   ]
  },
  {
   "cell_type": "markdown",
   "metadata": {},
   "source": [
    "## Identify transactions for Explainability"
   ]
  },
  {
   "cell_type": "markdown",
   "metadata": {},
   "source": [
    "Transaction IDs identified by the cells below can be copied and pasted into the Explainability tab of the OpenScale dashboard."
   ]
  },
  {
   "cell_type": "code",
   "execution_count": 62,
   "metadata": {},
   "outputs": [
    {
     "data": {
      "text/html": [
       "<div>\n",
       "<style scoped>\n",
       "    .dataframe tbody tr th:only-of-type {\n",
       "        vertical-align: middle;\n",
       "    }\n",
       "\n",
       "    .dataframe tbody tr th {\n",
       "        vertical-align: top;\n",
       "    }\n",
       "\n",
       "    .dataframe thead th {\n",
       "        text-align: right;\n",
       "    }\n",
       "</style>\n",
       "<table border=\"1\" class=\"dataframe\">\n",
       "  <thead>\n",
       "    <tr style=\"text-align: right;\">\n",
       "      <th></th>\n",
       "      <th>scoring_id</th>\n",
       "      <th>predictedLabel</th>\n",
       "      <th>probability</th>\n",
       "    </tr>\n",
       "  </thead>\n",
       "  <tbody>\n",
       "    <tr>\n",
       "      <th>0</th>\n",
       "      <td>bfaf6b2278a9b2dc393f23dc67821d89-56</td>\n",
       "      <td>No Risk</td>\n",
       "      <td>[0.548871115130064, 0.4511288848699359]</td>\n",
       "    </tr>\n",
       "    <tr>\n",
       "      <th>1</th>\n",
       "      <td>bfaf6b2278a9b2dc393f23dc67821d89-59</td>\n",
       "      <td>No Risk</td>\n",
       "      <td>[0.8175123869357004, 0.1824876130642997]</td>\n",
       "    </tr>\n",
       "    <tr>\n",
       "      <th>2</th>\n",
       "      <td>bfaf6b2278a9b2dc393f23dc67821d89-52</td>\n",
       "      <td>Risk</td>\n",
       "      <td>[0.37088426245971473, 0.6291157375402853]</td>\n",
       "    </tr>\n",
       "    <tr>\n",
       "      <th>3</th>\n",
       "      <td>bfaf6b2278a9b2dc393f23dc67821d89-55</td>\n",
       "      <td>No Risk</td>\n",
       "      <td>[0.7703688681559288, 0.2296311318440712]</td>\n",
       "    </tr>\n",
       "    <tr>\n",
       "      <th>4</th>\n",
       "      <td>bfaf6b2278a9b2dc393f23dc67821d89-57</td>\n",
       "      <td>No Risk</td>\n",
       "      <td>[0.5823839128213908, 0.41761608717860926]</td>\n",
       "    </tr>\n",
       "    <tr>\n",
       "      <th>5</th>\n",
       "      <td>bfaf6b2278a9b2dc393f23dc67821d89-58</td>\n",
       "      <td>No Risk</td>\n",
       "      <td>[0.5171702908498707, 0.4828297091501293]</td>\n",
       "    </tr>\n",
       "    <tr>\n",
       "      <th>6</th>\n",
       "      <td>bfaf6b2278a9b2dc393f23dc67821d89-51</td>\n",
       "      <td>Risk</td>\n",
       "      <td>[0.44089922735597825, 0.5591007726440218]</td>\n",
       "    </tr>\n",
       "    <tr>\n",
       "      <th>7</th>\n",
       "      <td>bfaf6b2278a9b2dc393f23dc67821d89-43</td>\n",
       "      <td>No Risk</td>\n",
       "      <td>[0.8894497819057084, 0.11055021809429147]</td>\n",
       "    </tr>\n",
       "    <tr>\n",
       "      <th>8</th>\n",
       "      <td>bfaf6b2278a9b2dc393f23dc67821d89-31</td>\n",
       "      <td>No Risk</td>\n",
       "      <td>[0.6484227635041391, 0.35157723649586087]</td>\n",
       "    </tr>\n",
       "    <tr>\n",
       "      <th>9</th>\n",
       "      <td>bfaf6b2278a9b2dc393f23dc67821d89-54</td>\n",
       "      <td>No Risk</td>\n",
       "      <td>[0.7725530814128567, 0.2274469185871432]</td>\n",
       "    </tr>\n",
       "    <tr>\n",
       "      <th>10</th>\n",
       "      <td>bfaf6b2278a9b2dc393f23dc67821d89-50</td>\n",
       "      <td>No Risk</td>\n",
       "      <td>[0.7173707925634768, 0.2826292074365231]</td>\n",
       "    </tr>\n",
       "    <tr>\n",
       "      <th>11</th>\n",
       "      <td>bfaf6b2278a9b2dc393f23dc67821d89-42</td>\n",
       "      <td>Risk</td>\n",
       "      <td>[0.4821303216489142, 0.5178696783510859]</td>\n",
       "    </tr>\n",
       "    <tr>\n",
       "      <th>12</th>\n",
       "      <td>bfaf6b2278a9b2dc393f23dc67821d89-48</td>\n",
       "      <td>No Risk</td>\n",
       "      <td>[0.9791113124192362, 0.020888687580763825]</td>\n",
       "    </tr>\n",
       "    <tr>\n",
       "      <th>13</th>\n",
       "      <td>bfaf6b2278a9b2dc393f23dc67821d89-44</td>\n",
       "      <td>No Risk</td>\n",
       "      <td>[0.6421778753793248, 0.35782212462067525]</td>\n",
       "    </tr>\n",
       "    <tr>\n",
       "      <th>14</th>\n",
       "      <td>bfaf6b2278a9b2dc393f23dc67821d89-49</td>\n",
       "      <td>No Risk</td>\n",
       "      <td>[0.6992435510106259, 0.3007564489893741]</td>\n",
       "    </tr>\n",
       "    <tr>\n",
       "      <th>15</th>\n",
       "      <td>bfaf6b2278a9b2dc393f23dc67821d89-32</td>\n",
       "      <td>No Risk</td>\n",
       "      <td>[0.9773156481627463, 0.022684351837253727]</td>\n",
       "    </tr>\n",
       "    <tr>\n",
       "      <th>16</th>\n",
       "      <td>bfaf6b2278a9b2dc393f23dc67821d89-34</td>\n",
       "      <td>No Risk</td>\n",
       "      <td>[0.9460628006323644, 0.053937199367635566]</td>\n",
       "    </tr>\n",
       "    <tr>\n",
       "      <th>17</th>\n",
       "      <td>bfaf6b2278a9b2dc393f23dc67821d89-40</td>\n",
       "      <td>No Risk</td>\n",
       "      <td>[0.9700948447064637, 0.029905155293536427]</td>\n",
       "    </tr>\n",
       "    <tr>\n",
       "      <th>18</th>\n",
       "      <td>bfaf6b2278a9b2dc393f23dc67821d89-2</td>\n",
       "      <td>Risk</td>\n",
       "      <td>[0.24349073032901924, 0.7565092696709808]</td>\n",
       "    </tr>\n",
       "    <tr>\n",
       "      <th>19</th>\n",
       "      <td>bfaf6b2278a9b2dc393f23dc67821d89-13</td>\n",
       "      <td>Risk</td>\n",
       "      <td>[0.2219129089581175, 0.7780870910418825]</td>\n",
       "    </tr>\n",
       "    <tr>\n",
       "      <th>20</th>\n",
       "      <td>bfaf6b2278a9b2dc393f23dc67821d89-3</td>\n",
       "      <td>No Risk</td>\n",
       "      <td>[0.6878006933796968, 0.31219930662030315]</td>\n",
       "    </tr>\n",
       "    <tr>\n",
       "      <th>21</th>\n",
       "      <td>bfaf6b2278a9b2dc393f23dc67821d89-53</td>\n",
       "      <td>No Risk</td>\n",
       "      <td>[0.8303338367434252, 0.16966616325657471]</td>\n",
       "    </tr>\n",
       "    <tr>\n",
       "      <th>22</th>\n",
       "      <td>bfaf6b2278a9b2dc393f23dc67821d89-4</td>\n",
       "      <td>No Risk</td>\n",
       "      <td>[0.6369989278663724, 0.3630010721336276]</td>\n",
       "    </tr>\n",
       "    <tr>\n",
       "      <th>23</th>\n",
       "      <td>bfaf6b2278a9b2dc393f23dc67821d89-45</td>\n",
       "      <td>Risk</td>\n",
       "      <td>[0.40682120129491206, 0.5931787987050879]</td>\n",
       "    </tr>\n",
       "    <tr>\n",
       "      <th>24</th>\n",
       "      <td>bfaf6b2278a9b2dc393f23dc67821d89-35</td>\n",
       "      <td>Risk</td>\n",
       "      <td>[0.441731281112596, 0.558268718887404]</td>\n",
       "    </tr>\n",
       "    <tr>\n",
       "      <th>25</th>\n",
       "      <td>bfaf6b2278a9b2dc393f23dc67821d89-39</td>\n",
       "      <td>No Risk</td>\n",
       "      <td>[0.7119267612649256, 0.28807323873507445]</td>\n",
       "    </tr>\n",
       "    <tr>\n",
       "      <th>26</th>\n",
       "      <td>bfaf6b2278a9b2dc393f23dc67821d89-38</td>\n",
       "      <td>No Risk</td>\n",
       "      <td>[0.841155859237522, 0.15884414076247794]</td>\n",
       "    </tr>\n",
       "    <tr>\n",
       "      <th>27</th>\n",
       "      <td>bfaf6b2278a9b2dc393f23dc67821d89-47</td>\n",
       "      <td>No Risk</td>\n",
       "      <td>[0.5401794502275348, 0.45982054977246517]</td>\n",
       "    </tr>\n",
       "    <tr>\n",
       "      <th>28</th>\n",
       "      <td>bfaf6b2278a9b2dc393f23dc67821d89-24</td>\n",
       "      <td>Risk</td>\n",
       "      <td>[0.46628252582034974, 0.5337174741796501]</td>\n",
       "    </tr>\n",
       "    <tr>\n",
       "      <th>29</th>\n",
       "      <td>bfaf6b2278a9b2dc393f23dc67821d89-41</td>\n",
       "      <td>No Risk</td>\n",
       "      <td>[0.752260040330384, 0.247739959669616]</td>\n",
       "    </tr>\n",
       "    <tr>\n",
       "      <th>30</th>\n",
       "      <td>bfaf6b2278a9b2dc393f23dc67821d89-8</td>\n",
       "      <td>Risk</td>\n",
       "      <td>[0.25786665164775535, 0.7421333483522446]</td>\n",
       "    </tr>\n",
       "    <tr>\n",
       "      <th>31</th>\n",
       "      <td>bfaf6b2278a9b2dc393f23dc67821d89-46</td>\n",
       "      <td>No Risk</td>\n",
       "      <td>[0.767288622045354, 0.232711377954646]</td>\n",
       "    </tr>\n",
       "    <tr>\n",
       "      <th>32</th>\n",
       "      <td>bfaf6b2278a9b2dc393f23dc67821d89-9</td>\n",
       "      <td>No Risk</td>\n",
       "      <td>[0.5623869960128052, 0.43761300398719494]</td>\n",
       "    </tr>\n",
       "    <tr>\n",
       "      <th>33</th>\n",
       "      <td>bfaf6b2278a9b2dc393f23dc67821d89-28</td>\n",
       "      <td>Risk</td>\n",
       "      <td>[0.14335790532822784, 0.8566420946717722]</td>\n",
       "    </tr>\n",
       "    <tr>\n",
       "      <th>34</th>\n",
       "      <td>bfaf6b2278a9b2dc393f23dc67821d89-10</td>\n",
       "      <td>No Risk</td>\n",
       "      <td>[0.7516428899465428, 0.24835711005345712]</td>\n",
       "    </tr>\n",
       "    <tr>\n",
       "      <th>35</th>\n",
       "      <td>bfaf6b2278a9b2dc393f23dc67821d89-1</td>\n",
       "      <td>No Risk</td>\n",
       "      <td>[0.9328067640142136, 0.06719323598578651]</td>\n",
       "    </tr>\n",
       "    <tr>\n",
       "      <th>36</th>\n",
       "      <td>bfaf6b2278a9b2dc393f23dc67821d89-11</td>\n",
       "      <td>No Risk</td>\n",
       "      <td>[0.6034192546515107, 0.39658074534848925]</td>\n",
       "    </tr>\n",
       "    <tr>\n",
       "      <th>37</th>\n",
       "      <td>bfaf6b2278a9b2dc393f23dc67821d89-37</td>\n",
       "      <td>Risk</td>\n",
       "      <td>[0.4116292108716462, 0.5883707891283538]</td>\n",
       "    </tr>\n",
       "    <tr>\n",
       "      <th>38</th>\n",
       "      <td>bfaf6b2278a9b2dc393f23dc67821d89-12</td>\n",
       "      <td>No Risk</td>\n",
       "      <td>[0.7559082412338717, 0.24409175876612837]</td>\n",
       "    </tr>\n",
       "    <tr>\n",
       "      <th>39</th>\n",
       "      <td>bfaf6b2278a9b2dc393f23dc67821d89-14</td>\n",
       "      <td>No Risk</td>\n",
       "      <td>[0.7327949181252313, 0.26720508187476866]</td>\n",
       "    </tr>\n",
       "    <tr>\n",
       "      <th>40</th>\n",
       "      <td>bfaf6b2278a9b2dc393f23dc67821d89-15</td>\n",
       "      <td>Risk</td>\n",
       "      <td>[0.36504606857386035, 0.6349539314261397]</td>\n",
       "    </tr>\n",
       "    <tr>\n",
       "      <th>41</th>\n",
       "      <td>bfaf6b2278a9b2dc393f23dc67821d89-16</td>\n",
       "      <td>Risk</td>\n",
       "      <td>[0.16923680061333896, 0.8307631993866611]</td>\n",
       "    </tr>\n",
       "    <tr>\n",
       "      <th>42</th>\n",
       "      <td>bfaf6b2278a9b2dc393f23dc67821d89-17</td>\n",
       "      <td>No Risk</td>\n",
       "      <td>[0.8950311223750596, 0.10496887762494045]</td>\n",
       "    </tr>\n",
       "    <tr>\n",
       "      <th>43</th>\n",
       "      <td>bfaf6b2278a9b2dc393f23dc67821d89-18</td>\n",
       "      <td>No Risk</td>\n",
       "      <td>[0.6690392170319637, 0.3309607829680364]</td>\n",
       "    </tr>\n",
       "    <tr>\n",
       "      <th>44</th>\n",
       "      <td>bfaf6b2278a9b2dc393f23dc67821d89-19</td>\n",
       "      <td>Risk</td>\n",
       "      <td>[0.2816897279866698, 0.7183102720133303]</td>\n",
       "    </tr>\n",
       "    <tr>\n",
       "      <th>45</th>\n",
       "      <td>bfaf6b2278a9b2dc393f23dc67821d89-20</td>\n",
       "      <td>Risk</td>\n",
       "      <td>[0.15297891297037888, 0.8470210870296212]</td>\n",
       "    </tr>\n",
       "    <tr>\n",
       "      <th>46</th>\n",
       "      <td>bfaf6b2278a9b2dc393f23dc67821d89-21</td>\n",
       "      <td>No Risk</td>\n",
       "      <td>[0.899558343661349, 0.10044165633865094]</td>\n",
       "    </tr>\n",
       "    <tr>\n",
       "      <th>47</th>\n",
       "      <td>bfaf6b2278a9b2dc393f23dc67821d89-22</td>\n",
       "      <td>No Risk</td>\n",
       "      <td>[0.5832787094366998, 0.41672129056330026]</td>\n",
       "    </tr>\n",
       "    <tr>\n",
       "      <th>48</th>\n",
       "      <td>bfaf6b2278a9b2dc393f23dc67821d89-23</td>\n",
       "      <td>Risk</td>\n",
       "      <td>[0.40902904270705986, 0.5909709572929401]</td>\n",
       "    </tr>\n",
       "    <tr>\n",
       "      <th>49</th>\n",
       "      <td>bfaf6b2278a9b2dc393f23dc67821d89-30</td>\n",
       "      <td>No Risk</td>\n",
       "      <td>[0.7014602395942753, 0.29853976040572466]</td>\n",
       "    </tr>\n",
       "    <tr>\n",
       "      <th>50</th>\n",
       "      <td>bfaf6b2278a9b2dc393f23dc67821d89-5</td>\n",
       "      <td>No Risk</td>\n",
       "      <td>[0.9412701256862472, 0.05872987431375272]</td>\n",
       "    </tr>\n",
       "    <tr>\n",
       "      <th>51</th>\n",
       "      <td>bfaf6b2278a9b2dc393f23dc67821d89-33</td>\n",
       "      <td>No Risk</td>\n",
       "      <td>[0.8987574512143955, 0.10124254878560435]</td>\n",
       "    </tr>\n",
       "    <tr>\n",
       "      <th>52</th>\n",
       "      <td>bfaf6b2278a9b2dc393f23dc67821d89-29</td>\n",
       "      <td>No Risk</td>\n",
       "      <td>[0.5787765738255979, 0.42122342617440206]</td>\n",
       "    </tr>\n",
       "    <tr>\n",
       "      <th>53</th>\n",
       "      <td>bfaf6b2278a9b2dc393f23dc67821d89-36</td>\n",
       "      <td>No Risk</td>\n",
       "      <td>[0.6534838698178091, 0.34651613018219096]</td>\n",
       "    </tr>\n",
       "    <tr>\n",
       "      <th>54</th>\n",
       "      <td>bfaf6b2278a9b2dc393f23dc67821d89-6</td>\n",
       "      <td>No Risk</td>\n",
       "      <td>[0.6989160073431211, 0.30108399265687885]</td>\n",
       "    </tr>\n",
       "    <tr>\n",
       "      <th>55</th>\n",
       "      <td>bfaf6b2278a9b2dc393f23dc67821d89-27</td>\n",
       "      <td>No Risk</td>\n",
       "      <td>[0.7992179036273099, 0.20078209637269]</td>\n",
       "    </tr>\n",
       "    <tr>\n",
       "      <th>56</th>\n",
       "      <td>bfaf6b2278a9b2dc393f23dc67821d89-26</td>\n",
       "      <td>No Risk</td>\n",
       "      <td>[0.982533736774443, 0.017466263225557034]</td>\n",
       "    </tr>\n",
       "    <tr>\n",
       "      <th>57</th>\n",
       "      <td>bfaf6b2278a9b2dc393f23dc67821d89-25</td>\n",
       "      <td>No Risk</td>\n",
       "      <td>[0.9508168259367216, 0.04918317406327846]</td>\n",
       "    </tr>\n",
       "    <tr>\n",
       "      <th>58</th>\n",
       "      <td>bfaf6b2278a9b2dc393f23dc67821d89-7</td>\n",
       "      <td>Risk</td>\n",
       "      <td>[0.3657429778802358, 0.6342570221197642]</td>\n",
       "    </tr>\n",
       "    <tr>\n",
       "      <th>59</th>\n",
       "      <td>bfaf6b2278a9b2dc393f23dc67821d89-60</td>\n",
       "      <td>Risk</td>\n",
       "      <td>[0.19453700778405184, 0.8054629922159482]</td>\n",
       "    </tr>\n",
       "  </tbody>\n",
       "</table>\n",
       "</div>"
      ],
      "text/plain": [
       "                             scoring_id predictedLabel  \\\n",
       "0   bfaf6b2278a9b2dc393f23dc67821d89-56        No Risk   \n",
       "1   bfaf6b2278a9b2dc393f23dc67821d89-59        No Risk   \n",
       "2   bfaf6b2278a9b2dc393f23dc67821d89-52           Risk   \n",
       "3   bfaf6b2278a9b2dc393f23dc67821d89-55        No Risk   \n",
       "4   bfaf6b2278a9b2dc393f23dc67821d89-57        No Risk   \n",
       "5   bfaf6b2278a9b2dc393f23dc67821d89-58        No Risk   \n",
       "6   bfaf6b2278a9b2dc393f23dc67821d89-51           Risk   \n",
       "7   bfaf6b2278a9b2dc393f23dc67821d89-43        No Risk   \n",
       "8   bfaf6b2278a9b2dc393f23dc67821d89-31        No Risk   \n",
       "9   bfaf6b2278a9b2dc393f23dc67821d89-54        No Risk   \n",
       "10  bfaf6b2278a9b2dc393f23dc67821d89-50        No Risk   \n",
       "11  bfaf6b2278a9b2dc393f23dc67821d89-42           Risk   \n",
       "12  bfaf6b2278a9b2dc393f23dc67821d89-48        No Risk   \n",
       "13  bfaf6b2278a9b2dc393f23dc67821d89-44        No Risk   \n",
       "14  bfaf6b2278a9b2dc393f23dc67821d89-49        No Risk   \n",
       "15  bfaf6b2278a9b2dc393f23dc67821d89-32        No Risk   \n",
       "16  bfaf6b2278a9b2dc393f23dc67821d89-34        No Risk   \n",
       "17  bfaf6b2278a9b2dc393f23dc67821d89-40        No Risk   \n",
       "18   bfaf6b2278a9b2dc393f23dc67821d89-2           Risk   \n",
       "19  bfaf6b2278a9b2dc393f23dc67821d89-13           Risk   \n",
       "20   bfaf6b2278a9b2dc393f23dc67821d89-3        No Risk   \n",
       "21  bfaf6b2278a9b2dc393f23dc67821d89-53        No Risk   \n",
       "22   bfaf6b2278a9b2dc393f23dc67821d89-4        No Risk   \n",
       "23  bfaf6b2278a9b2dc393f23dc67821d89-45           Risk   \n",
       "24  bfaf6b2278a9b2dc393f23dc67821d89-35           Risk   \n",
       "25  bfaf6b2278a9b2dc393f23dc67821d89-39        No Risk   \n",
       "26  bfaf6b2278a9b2dc393f23dc67821d89-38        No Risk   \n",
       "27  bfaf6b2278a9b2dc393f23dc67821d89-47        No Risk   \n",
       "28  bfaf6b2278a9b2dc393f23dc67821d89-24           Risk   \n",
       "29  bfaf6b2278a9b2dc393f23dc67821d89-41        No Risk   \n",
       "30   bfaf6b2278a9b2dc393f23dc67821d89-8           Risk   \n",
       "31  bfaf6b2278a9b2dc393f23dc67821d89-46        No Risk   \n",
       "32   bfaf6b2278a9b2dc393f23dc67821d89-9        No Risk   \n",
       "33  bfaf6b2278a9b2dc393f23dc67821d89-28           Risk   \n",
       "34  bfaf6b2278a9b2dc393f23dc67821d89-10        No Risk   \n",
       "35   bfaf6b2278a9b2dc393f23dc67821d89-1        No Risk   \n",
       "36  bfaf6b2278a9b2dc393f23dc67821d89-11        No Risk   \n",
       "37  bfaf6b2278a9b2dc393f23dc67821d89-37           Risk   \n",
       "38  bfaf6b2278a9b2dc393f23dc67821d89-12        No Risk   \n",
       "39  bfaf6b2278a9b2dc393f23dc67821d89-14        No Risk   \n",
       "40  bfaf6b2278a9b2dc393f23dc67821d89-15           Risk   \n",
       "41  bfaf6b2278a9b2dc393f23dc67821d89-16           Risk   \n",
       "42  bfaf6b2278a9b2dc393f23dc67821d89-17        No Risk   \n",
       "43  bfaf6b2278a9b2dc393f23dc67821d89-18        No Risk   \n",
       "44  bfaf6b2278a9b2dc393f23dc67821d89-19           Risk   \n",
       "45  bfaf6b2278a9b2dc393f23dc67821d89-20           Risk   \n",
       "46  bfaf6b2278a9b2dc393f23dc67821d89-21        No Risk   \n",
       "47  bfaf6b2278a9b2dc393f23dc67821d89-22        No Risk   \n",
       "48  bfaf6b2278a9b2dc393f23dc67821d89-23           Risk   \n",
       "49  bfaf6b2278a9b2dc393f23dc67821d89-30        No Risk   \n",
       "50   bfaf6b2278a9b2dc393f23dc67821d89-5        No Risk   \n",
       "51  bfaf6b2278a9b2dc393f23dc67821d89-33        No Risk   \n",
       "52  bfaf6b2278a9b2dc393f23dc67821d89-29        No Risk   \n",
       "53  bfaf6b2278a9b2dc393f23dc67821d89-36        No Risk   \n",
       "54   bfaf6b2278a9b2dc393f23dc67821d89-6        No Risk   \n",
       "55  bfaf6b2278a9b2dc393f23dc67821d89-27        No Risk   \n",
       "56  bfaf6b2278a9b2dc393f23dc67821d89-26        No Risk   \n",
       "57  bfaf6b2278a9b2dc393f23dc67821d89-25        No Risk   \n",
       "58   bfaf6b2278a9b2dc393f23dc67821d89-7           Risk   \n",
       "59  bfaf6b2278a9b2dc393f23dc67821d89-60           Risk   \n",
       "\n",
       "                                   probability  \n",
       "0      [0.548871115130064, 0.4511288848699359]  \n",
       "1     [0.8175123869357004, 0.1824876130642997]  \n",
       "2    [0.37088426245971473, 0.6291157375402853]  \n",
       "3     [0.7703688681559288, 0.2296311318440712]  \n",
       "4    [0.5823839128213908, 0.41761608717860926]  \n",
       "5     [0.5171702908498707, 0.4828297091501293]  \n",
       "6    [0.44089922735597825, 0.5591007726440218]  \n",
       "7    [0.8894497819057084, 0.11055021809429147]  \n",
       "8    [0.6484227635041391, 0.35157723649586087]  \n",
       "9     [0.7725530814128567, 0.2274469185871432]  \n",
       "10    [0.7173707925634768, 0.2826292074365231]  \n",
       "11    [0.4821303216489142, 0.5178696783510859]  \n",
       "12  [0.9791113124192362, 0.020888687580763825]  \n",
       "13   [0.6421778753793248, 0.35782212462067525]  \n",
       "14    [0.6992435510106259, 0.3007564489893741]  \n",
       "15  [0.9773156481627463, 0.022684351837253727]  \n",
       "16  [0.9460628006323644, 0.053937199367635566]  \n",
       "17  [0.9700948447064637, 0.029905155293536427]  \n",
       "18   [0.24349073032901924, 0.7565092696709808]  \n",
       "19    [0.2219129089581175, 0.7780870910418825]  \n",
       "20   [0.6878006933796968, 0.31219930662030315]  \n",
       "21   [0.8303338367434252, 0.16966616325657471]  \n",
       "22    [0.6369989278663724, 0.3630010721336276]  \n",
       "23   [0.40682120129491206, 0.5931787987050879]  \n",
       "24      [0.441731281112596, 0.558268718887404]  \n",
       "25   [0.7119267612649256, 0.28807323873507445]  \n",
       "26    [0.841155859237522, 0.15884414076247794]  \n",
       "27   [0.5401794502275348, 0.45982054977246517]  \n",
       "28   [0.46628252582034974, 0.5337174741796501]  \n",
       "29      [0.752260040330384, 0.247739959669616]  \n",
       "30   [0.25786665164775535, 0.7421333483522446]  \n",
       "31      [0.767288622045354, 0.232711377954646]  \n",
       "32   [0.5623869960128052, 0.43761300398719494]  \n",
       "33   [0.14335790532822784, 0.8566420946717722]  \n",
       "34   [0.7516428899465428, 0.24835711005345712]  \n",
       "35   [0.9328067640142136, 0.06719323598578651]  \n",
       "36   [0.6034192546515107, 0.39658074534848925]  \n",
       "37    [0.4116292108716462, 0.5883707891283538]  \n",
       "38   [0.7559082412338717, 0.24409175876612837]  \n",
       "39   [0.7327949181252313, 0.26720508187476866]  \n",
       "40   [0.36504606857386035, 0.6349539314261397]  \n",
       "41   [0.16923680061333896, 0.8307631993866611]  \n",
       "42   [0.8950311223750596, 0.10496887762494045]  \n",
       "43    [0.6690392170319637, 0.3309607829680364]  \n",
       "44    [0.2816897279866698, 0.7183102720133303]  \n",
       "45   [0.15297891297037888, 0.8470210870296212]  \n",
       "46    [0.899558343661349, 0.10044165633865094]  \n",
       "47   [0.5832787094366998, 0.41672129056330026]  \n",
       "48   [0.40902904270705986, 0.5909709572929401]  \n",
       "49   [0.7014602395942753, 0.29853976040572466]  \n",
       "50   [0.9412701256862472, 0.05872987431375272]  \n",
       "51   [0.8987574512143955, 0.10124254878560435]  \n",
       "52   [0.5787765738255979, 0.42122342617440206]  \n",
       "53   [0.6534838698178091, 0.34651613018219096]  \n",
       "54   [0.6989160073431211, 0.30108399265687885]  \n",
       "55      [0.7992179036273099, 0.20078209637269]  \n",
       "56   [0.982533736774443, 0.017466263225557034]  \n",
       "57   [0.9508168259367216, 0.04918317406327846]  \n",
       "58    [0.3657429778802358, 0.6342570221197642]  \n",
       "59   [0.19453700778405184, 0.8054629922159482]  "
      ]
     },
     "execution_count": 62,
     "metadata": {},
     "output_type": "execute_result"
    }
   ],
   "source": [
    "payload_data = subscription.payload_logging.get_table_content(limit=60)\n",
    "payload_data.filter(items=['scoring_id', 'predictedLabel', 'probability'])"
   ]
  },
  {
   "cell_type": "markdown",
   "metadata": {},
   "source": [
    "## Congratulations!\n",
    "\n",
    "You have finished the hands-on lab for IBM Watson OpenScale. You can now view the [OpenScale Dashboard](https://aiopenscale.cloud.ibm.com/). Click on the tile for the German Credit model to see fairness, accuracy, and performance monitors. Click on the timeseries graph to get detailed information on transactions during a specific time window.\n",
    "\n",
    "## Next steps\n",
    "\n",
    "OpenScale shows model performance over time. You have two options to keep data flowing to your OpenScale graphs:\n",
    "  * Download, configure and schedule the [model feed notebook](https://raw.githubusercontent.com/emartensibm/german-credit/master/german_credit_scoring_feed.ipynb). This notebook can be set up with your WML credentials, and scheduled to provide a consistent flow of scoring requests to your model, which will appear in your OpenScale monitors.\n",
    "  * Re-run this notebook. Running this notebook from the beginning will delete and re-create the model and deployment, and re-create the historical data. Please note that the payload and measurement logs for the previous deployment will continue to be stored in your datamart, and cal be deleted if necessary."
   ]
  },
  {
   "cell_type": "code",
   "execution_count": null,
   "metadata": {},
   "outputs": [],
   "source": []
  }
 ],
 "metadata": {
  "kernelspec": {
   "display_name": "Python 3.5 with Spark",
   "language": "python3",
   "name": "python3"
  },
  "language_info": {
   "codemirror_mode": {
    "name": "ipython",
    "version": 3
   },
   "file_extension": ".py",
   "mimetype": "text/x-python",
   "name": "python",
   "nbconvert_exporter": "python",
   "pygments_lexer": "ipython3",
   "version": "3.5.4"
  }
 },
 "nbformat": 4,
 "nbformat_minor": 1
}
